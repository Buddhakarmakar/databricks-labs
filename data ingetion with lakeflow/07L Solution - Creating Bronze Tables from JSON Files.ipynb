{
 "cells": [
  {
   "cell_type": "markdown",
   "metadata": {
    "application/vnd.databricks.v1+cell": {
     "cellMetadata": {},
     "inputWidgets": {},
     "nuid": "ae2d3093-0c00-45ca-b781-9108851941c7",
     "showTitle": false,
     "tableResultSettingsMap": {},
     "title": ""
    }
   },
   "source": [
    "\n",
    "<div style=\"text-align: center; line-height: 0; padding-top: 9px;\">\n",
    "  <img src=\"https://databricks.com/wp-content/uploads/2018/03/db-academy-rgb-1200px.png\" alt=\"Databricks Learning\">\n",
    "</div>\n"
   ]
  },
  {
   "cell_type": "markdown",
   "metadata": {
    "application/vnd.databricks.v1+cell": {
     "cellMetadata": {},
     "inputWidgets": {},
     "nuid": "cebfe72b-2eb6-41bf-8324-56bebe887d4a",
     "showTitle": false,
     "tableResultSettingsMap": {},
     "title": ""
    }
   },
   "source": [
    "# Lab - Creating Bronze Tables from JSON Files\n",
    "### Duration: ~ 15 minutes\n",
    "\n",
    "In this lab you will ingest a JSON file as Delta table and then flatten the JSON formatted string column.\n",
    "\n",
    "### Learning Objectives\n",
    "  - Inspect a raw JSON file.\n",
    "  - Read in JSON files to a Delta table and flatten the JSON formatted string column."
   ]
  },
  {
   "cell_type": "markdown",
   "metadata": {
    "application/vnd.databricks.v1+cell": {
     "cellMetadata": {},
     "inputWidgets": {},
     "nuid": "55451467-b12c-4c71-9212-0be3fb8eec48",
     "showTitle": false,
     "tableResultSettingsMap": {},
     "title": ""
    }
   },
   "source": [
    "## REQUIRED - SELECT CLASSIC COMPUTE\n",
    "\n",
    "Before executing cells in this notebook, please select your classic compute cluster in the lab. Be aware that **Serverless** is enabled by default and you have a Shared SQL warehouse.\n",
    "\n",
    "<!-- ![Select Cluster](./Includes/images/selecting_cluster_info.png) -->\n",
    "\n",
    "Follow these steps to select the classic compute cluster:\n",
    "\n",
    "\n",
    "1. Navigate to the top-right of this notebook and click the drop-down menu to select your cluster. By default, the notebook will use **Serverless**.\n",
    "\n",
    "2. If your cluster is available, select it and continue to the next cell. If the cluster is not shown:\n",
    "\n",
    "   - Click **More** in the drop-down.\n",
    "\n",
    "   - In the **Attach to an existing compute resource** window, use the first drop-down to select your unique cluster.\n",
    "\n",
    "**NOTE:** If your cluster has terminated, you might need to restart it in order to select it. To do this:\n",
    "\n",
    "1. Right-click on **Compute** in the left navigation pane and select *Open in new tab*.\n",
    "\n",
    "2. Find the triangle icon to the right of your compute cluster name and click it.\n",
    "\n",
    "3. Wait a few minutes for the cluster to start.\n",
    "\n",
    "4. Once the cluster is running, complete the steps above to select your cluster."
   ]
  },
  {
   "cell_type": "markdown",
   "metadata": {
    "application/vnd.databricks.v1+cell": {
     "cellMetadata": {},
     "inputWidgets": {},
     "nuid": "61a3ac1d-8060-43de-9048-4d47b98afb50",
     "showTitle": false,
     "tableResultSettingsMap": {},
     "title": ""
    }
   },
   "source": [
    "\n",
    "## A. Classroom Setup\n",
    "\n",
    "Run the following cell to configure your working environment for this notebook.\n",
    "\n",
    "**NOTE:** The `DA` object is only used in Databricks Academy courses and is not available outside of these courses. It will dynamically reference the information needed to run the course in the lab environment."
   ]
  },
  {
   "cell_type": "code",
   "execution_count": 0,
   "metadata": {
    "application/vnd.databricks.v1+cell": {
     "cellMetadata": {},
     "inputWidgets": {},
     "nuid": "f204b691-e706-47da-bffc-1a2ca6294f1a",
     "showTitle": false,
     "tableResultSettingsMap": {},
     "title": ""
    }
   },
   "outputs": [],
   "source": [
    "%run ./Includes/Classroom-Setup-07L"
   ]
  },
  {
   "cell_type": "markdown",
   "metadata": {
    "application/vnd.databricks.v1+cell": {
     "cellMetadata": {},
     "inputWidgets": {},
     "nuid": "d8ac66eb-9d88-43c7-a1c5-ad6373792434",
     "showTitle": false,
     "tableResultSettingsMap": {},
     "title": ""
    }
   },
   "source": [
    "Run the cell below to view your default catalog and schema. Notice that your default catalog is **dbacademy** and your default schema is your unique **labuser** schema.\n",
    "\n",
    "**NOTE:** The default catalog and schema are pre-configured for you to avoid the need to specify the three-level name when writing your tables (i.e., catalog.schema.table)."
   ]
  },
  {
   "cell_type": "code",
   "execution_count": 0,
   "metadata": {
    "application/vnd.databricks.v1+cell": {
     "cellMetadata": {},
     "inputWidgets": {},
     "nuid": "754e31ad-fe23-44cb-be7e-dbe62e119ea0",
     "showTitle": false,
     "tableResultSettingsMap": {},
     "title": ""
    }
   },
   "outputs": [],
   "source": [
    "SELECT current_catalog(), current_schema()"
   ]
  },
  {
   "cell_type": "markdown",
   "metadata": {
    "application/vnd.databricks.v1+cell": {
     "cellMetadata": {},
     "inputWidgets": {},
     "nuid": "e40fe272-1328-4cdb-8702-7e5d421562d7",
     "showTitle": false,
     "tableResultSettingsMap": {},
     "title": ""
    }
   },
   "source": [
    "## B. Lab - JSON Ingestion\n",
    "**Scenario:** You are working with your data team on ingesting a JSON file into Databricks. Your job is to ingest the JSON file as is into a bronze table, then create a second bronze table that flattens the JSON formatted string column in the raw bronze table for downstream processing."
   ]
  },
  {
   "cell_type": "markdown",
   "metadata": {
    "application/vnd.databricks.v1+cell": {
     "cellMetadata": {},
     "inputWidgets": {},
     "nuid": "ab71406a-0704-4126-9ece-63e317a958ae",
     "showTitle": false,
     "tableResultSettingsMap": {},
     "title": ""
    }
   },
   "source": [
    "### B1. Inspect the Dataset"
   ]
  },
  {
   "cell_type": "markdown",
   "metadata": {
    "application/vnd.databricks.v1+cell": {
     "cellMetadata": {},
     "inputWidgets": {},
     "nuid": "fdeba06d-49bb-4c6a-9aa5-d768a6ecd358",
     "showTitle": false,
     "tableResultSettingsMap": {},
     "title": ""
    }
   },
   "source": [
    "1. In the cell below, view the value of the Python variable `DA.paths.working_dir`. This variable will reference your **dbacademy.ops.labuser** volume, as each user has a different source volume. This variable is created within the classroom setup script to dynamically reference your unique volume.\n",
    "\n",
    "   Run the cell and review the results. You’ll notice that the `DA.paths.working_dir` variable points to your `/Volumes/dbacademy/ops/labuser` volume.\n",
    "\n",
    "**Note:** Instead of using the `DA.paths.working_dir` variable, you could also specify the path name directly by right clicking on your volume and selecting **Copy volume path**."
   ]
  },
  {
   "cell_type": "code",
   "execution_count": 0,
   "metadata": {
    "application/vnd.databricks.v1+cell": {
     "cellMetadata": {},
     "inputWidgets": {},
     "nuid": "bc2f9ec0-c632-4b10-8e8a-4e49d2290345",
     "showTitle": false,
     "tableResultSettingsMap": {},
     "title": ""
    }
   },
   "outputs": [],
   "source": [
    "%python\n",
    "print(DA.paths.working_dir)"
   ]
  },
  {
   "cell_type": "markdown",
   "metadata": {
    "application/vnd.databricks.v1+cell": {
     "cellMetadata": {},
     "inputWidgets": {},
     "nuid": "50a78986-64fa-493a-acb9-13bdccc3e136",
     "showTitle": false,
     "tableResultSettingsMap": {},
     "title": ""
    }
   },
   "source": [
    "Run the cell to view the data in the `/Volumes/dbacademy/ops/your-labuser-name/json_demo_files/lab_kafka_events.json` file in the location from above."
   ]
  },
  {
   "cell_type": "code",
   "execution_count": 0,
   "metadata": {
    "application/vnd.databricks.v1+cell": {
     "cellMetadata": {},
     "inputWidgets": {},
     "nuid": "1c9750a1-1e85-4be1-a075-a262b7ae4d40",
     "showTitle": false,
     "tableResultSettingsMap": {},
     "title": ""
    }
   },
   "outputs": [],
   "source": [
    "%python\n",
    "spark.sql(f'''\n",
    "          SELECT * \n",
    "          FROM json.`{DA.paths.working_dir}/json_demo_files/lab_kafka_events.json`\n",
    "          ''').display()"
   ]
  },
  {
   "cell_type": "markdown",
   "metadata": {
    "application/vnd.databricks.v1+cell": {
     "cellMetadata": {},
     "inputWidgets": {},
     "nuid": "ced25478-211f-4f96-945a-804dbf665c30",
     "showTitle": false,
     "tableResultSettingsMap": {},
     "title": ""
    }
   },
   "source": [
    "### B2. Create the Raw Bronze Table\n",
    "\n",
    "Inspect and run the code below to ingest the raw JSON file `/Volumes/dbacademy/ops/your-labuser-name/json_demo_files/lab_kafka_events.json` and create the **lab7_lab_kafka_events_raw** table.\n",
    "\n",
    "Notice the following:\n",
    "- The **value** column is decoded.\n",
    "- The **decoded_value** column was created and returns the decoded column as a JSON-formatted string.\n"
   ]
  },
  {
   "cell_type": "code",
   "execution_count": 0,
   "metadata": {
    "application/vnd.databricks.v1+cell": {
     "cellMetadata": {},
     "inputWidgets": {},
     "nuid": "ba4d2419-3335-4a88-844e-0bf5cedafe28",
     "showTitle": false,
     "tableResultSettingsMap": {},
     "title": ""
    }
   },
   "outputs": [],
   "source": [
    "CREATE OR REPLACE TABLE lab7_lab_kafka_events_raw\n",
    "AS\n",
    "SELECT \n",
    "  *,\n",
    "  cast(unbase64(value) as STRING) as decoded_value\n",
    "FROM read_files(\n",
    "        DA.paths_working_dir || '/json_demo_files/lab_kafka_events.json',\n",
    "        format => \"json\", \n",
    "        schema => '''\n",
    "          key STRING, \n",
    "          timestamp DOUBLE, \n",
    "          value STRING\n",
    "        ''',\n",
    "        rescueddatacolumn => '_rescued_data'\n",
    "      );\n",
    "\n",
    "-- View the table\n",
    "SELECT *\n",
    "FROM lab7_lab_kafka_events_raw;"
   ]
  },
  {
   "cell_type": "markdown",
   "metadata": {
    "application/vnd.databricks.v1+cell": {
     "cellMetadata": {},
     "inputWidgets": {},
     "nuid": "1e022701-6e3b-49aa-a6f8-816c17812f51",
     "showTitle": false,
     "tableResultSettingsMap": {},
     "title": ""
    }
   },
   "source": [
    "### B3. Create the Flattened Bronze Table"
   ]
  },
  {
   "cell_type": "markdown",
   "metadata": {
    "application/vnd.databricks.v1+cell": {
     "cellMetadata": {},
     "inputWidgets": {},
     "nuid": "a5f18363-93de-46e3-bed0-3277298703b0",
     "showTitle": false,
     "tableResultSettingsMap": {},
     "title": ""
    }
   },
   "source": [
    "1. Your goal is to flatten the JSON formatted string column **decoded_value** from the table **lab7_lab_kafka_events_raw** to create a new table named **lab7_lab_kafka_events_flattened** for downstream processing. The table should contain the following columns:\n",
    "    - **key**\n",
    "    - **timestamp**\n",
    "    - **user_id**\n",
    "    - **event_type**\n",
    "    - **event_timestamp**\n",
    "    - **items**\n",
    "\n",
    "    You can use whichever technique you prefer:\n",
    "\n",
    "    - Parse the JSON formatted string (easiest) to flatten\n",
    "      - [Query JSON strings](https://docs.databricks.com/aws/en/semi-structured/json):\n",
    "\n",
    "    - Convert the JSON formatted string as a VARIANT and flatten\n",
    "      - [parse_json function](https://docs.databricks.com/gcp/en/sql/language-manual/functions/parse_json)\n",
    "\n",
    "    - Convert the JSON formatted string to a STRUCT and flatten\n",
    "      - [schema_of_json function](https://docs.databricks.com/aws/en/sql/language-manual/functions/schema_of_json)\n",
    "      - [from_json function](https://docs.databricks.com/gcp/en/sql/language-manual/functions/from_json)\n",
    "\n",
    "**NOTE:** View the lab solution notebook to view the solutions for each."
   ]
  },
  {
   "cell_type": "markdown",
   "metadata": {
    "application/vnd.databricks.v1+cell": {
     "cellMetadata": {},
     "inputWidgets": {},
     "nuid": "950fca10-1657-40cf-9f78-90aa30ad08c0",
     "showTitle": false,
     "tableResultSettingsMap": {},
     "title": ""
    }
   },
   "source": [
    "2. To begin, run the code below to view the final solution table **lab7_lab_kafka_events_flattened_solution**. This will give you an idea of what your final table should look like.\n",
    "\n",
    "  **NOTE**: Depending on your solution, the data types of the columns may vary slightly.  \n",
    "\n",
    "\n",
    "##### Optional Challenge\n",
    "\n",
    "  As a challenge, after flattening the table, try converting the data types accordingly. Depending on your skill set, you may not convert all columns to the correct data types within the allotted time.\n",
    "\n",
    "  - **key** STRING\n",
    "  - **timestamp** DOUBLE\n",
    "  - **user_id** STRING\n",
    "  - **event_type** STRING\n",
    "  - **event_timestamp** TIMESTAMP\n",
    "  - **items** (STRUCT or VARIANT) depending on the method you used."
   ]
  },
  {
   "cell_type": "code",
   "execution_count": 0,
   "metadata": {
    "application/vnd.databricks.v1+cell": {
     "cellMetadata": {},
     "inputWidgets": {},
     "nuid": "6b29cd54-facb-4e29-bf0e-8872df0bede1",
     "showTitle": false,
     "tableResultSettingsMap": {},
     "title": ""
    }
   },
   "outputs": [],
   "source": [
    "SELECT *\n",
    "FROM lab7_lab_kafka_events_flattened_solution"
   ]
  },
  {
   "cell_type": "markdown",
   "metadata": {
    "application/vnd.databricks.v1+cell": {
     "cellMetadata": {},
     "inputWidgets": {},
     "nuid": "fac12e0d-be13-403c-aae9-c1190ef9ea08",
     "showTitle": false,
     "tableResultSettingsMap": {},
     "title": ""
    }
   },
   "source": [
    "3. Write the query in the cell below to read the **lab_kafka_events_raw** table and create the flattened table **lab7_lab_kafka_events_flattened** following the requirements from above."
   ]
  },
  {
   "cell_type": "code",
   "execution_count": 0,
   "metadata": {
    "application/vnd.databricks.v1+cell": {
     "cellMetadata": {},
     "inputWidgets": {},
     "nuid": "986fcbb7-5979-4268-8150-4b1a7c62359e",
     "showTitle": false,
     "tableResultSettingsMap": {},
     "title": ""
    }
   },
   "outputs": [],
   "source": [
    "---- Parse the JSON formatted STRING\n",
    "CREATE OR REPLACE TABLE lab7_lab_kafka_events_flattened_str\n",
    "AS\n",
    "SELECT \n",
    "  key,\n",
    "  timestamp,\n",
    "  decoded_value:user_id,\n",
    "  decoded_value:event_type,\n",
    "  cast(decoded_value:event_timestamp AS TIMESTAMP),\n",
    "  from_json(decoded_value:items,'ARRAY<STRUCT<item_id: STRING, price_usd: DOUBLE, quantity: BIGINT>>') AS items\n",
    "FROM lab7_lab_kafka_events_raw;\n",
    "\n",
    "\n",
    "---- Display the table\n",
    "SELECT *\n",
    "FROM lab7_lab_kafka_events_flattened_str;"
   ]
  },
  {
   "cell_type": "code",
   "execution_count": 0,
   "metadata": {
    "application/vnd.databricks.v1+cell": {
     "cellMetadata": {},
     "inputWidgets": {},
     "nuid": "4c847aac-9331-4471-813c-4df0b22bc11b",
     "showTitle": false,
     "tableResultSettingsMap": {},
     "title": ""
    }
   },
   "outputs": [],
   "source": [
    "---- Convert the JSON formatted string as a VARIANT\n",
    "---- NOTE: The VARIANT decoded_value_variant column is included in this solution to display the column\n",
    "---- NOTE: Variant data type will not work on Serverless Version 1.\n",
    "CREATE OR REPLACE TABLE lab7_lab_kafka_events_flattened_variant\n",
    "AS\n",
    "SELECT\n",
    "  key,\n",
    "  timestamp,\n",
    "  parse_json(decoded_value) AS decoded_value_variant,\n",
    "  cast(decoded_value_variant:user_id AS STRING),\n",
    "  decoded_value_variant:event_type :: STRING,\n",
    "  decoded_value_variant:event_timestamp :: TIMESTAMP,\n",
    "  decoded_value_variant:items\n",
    "FROM lab7_lab_kafka_events_raw;\n",
    "\n",
    "\n",
    "---- Display the table\n",
    "SELECT *\n",
    "FROM lab7_lab_kafka_events_flattened_variant;"
   ]
  },
  {
   "cell_type": "code",
   "execution_count": 0,
   "metadata": {
    "application/vnd.databricks.v1+cell": {
     "cellMetadata": {},
     "inputWidgets": {},
     "nuid": "65b5b4d5-b544-4fdf-965f-98fda3cf8c76",
     "showTitle": false,
     "tableResultSettingsMap": {},
     "title": ""
    }
   },
   "outputs": [],
   "source": [
    "---- Convert the JSON formatted string as a STRUCT\n",
    "\n",
    "---- Return the structure of the JSON formatted string\n",
    "SELECT schema_of_json(decoded_value)\n",
    "FROM lab7_lab_kafka_events_raw\n",
    "LIMIT 1;\n",
    "\n",
    "\n",
    "---- Use the JSON structure from above within the from_json function to convert the JSON formatted string to a STRUCT\n",
    "---- NOTE: The STRUCT decoded_value_struct column is included in this solution to display the column\n",
    "CREATE OR REPLACE TABLE lab7_lab_kafka_events_flattened_struct\n",
    "AS\n",
    "SELECT\n",
    "  key,\n",
    "  timestamp,\n",
    "  from_json(decoded_value, 'STRUCT<event_timestamp: STRING, event_type: STRING, items: ARRAY<STRUCT<item_id: STRING, price_usd: DOUBLE, quantity: BIGINT>>, user_id: STRING>') AS decoded_value_struct,\n",
    "  decoded_value_struct.user_id,\n",
    "  decoded_value_struct.event_type,\n",
    "  cast(decoded_value_struct.event_timestamp AS TIMESTAMP),\n",
    "  decoded_value_struct.items\n",
    "FROM lab7_lab_kafka_events_raw;\n",
    "\n",
    "\n",
    "---- Display the table\n",
    "SELECT *\n",
    "FROM lab7_lab_kafka_events_flattened_struct;"
   ]
  },
  {
   "cell_type": "markdown",
   "metadata": {
    "application/vnd.databricks.v1+cell": {
     "cellMetadata": {},
     "inputWidgets": {},
     "nuid": "ab0a6b6d-992f-4277-8b00-42498af347a6",
     "showTitle": false,
     "tableResultSettingsMap": {},
     "title": ""
    }
   },
   "source": [
    "\n",
    "&copy; 2025 Databricks, Inc. All rights reserved. Apache, Apache Spark, Spark, the Spark Logo, Apache Iceberg, Iceberg, and the Apache Iceberg logo are trademarks of the <a href=\"https://www.apache.org/\" target=\"blank\">Apache Software Foundation</a>.<br/>\n",
    "<br/><a href=\"https://databricks.com/privacy-policy\" target=\"blank\">Privacy Policy</a> | \n",
    "<a href=\"https://databricks.com/terms-of-use\" target=\"blank\">Terms of Use</a> | \n",
    "<a href=\"https://help.databricks.com/\" target=\"blank\">Support</a>"
   ]
  }
 ],
 "metadata": {
  "application/vnd.databricks.v1+notebook": {
   "computePreferences": null,
   "dashboards": [],
   "environmentMetadata": null,
   "inputWidgetPreferences": null,
   "language": "sql",
   "notebookMetadata": {},
   "notebookName": "07L Solution - Creating Bronze Tables from JSON Files",
   "widgets": {}
  },
  "language_info": {
   "name": "sql"
  }
 },
 "nbformat": 4,
 "nbformat_minor": 0
}