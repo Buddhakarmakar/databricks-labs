{
 "cells": [
  {
   "cell_type": "markdown",
   "metadata": {
    "application/vnd.databricks.v1+cell": {
     "cellMetadata": {
      "byteLimit": 2048000,
      "rowLimit": 10000
     },
     "inputWidgets": {},
     "nuid": "1e39afb5-fc88-409a-93e0-771438f58ebf",
     "showTitle": false,
     "tableResultSettingsMap": {},
     "title": ""
    }
   },
   "source": [
    "\n",
    "<div style=\"text-align: center; line-height: 0; padding-top: 9px;\">\n",
    "  <img src=\"https://databricks.com/wp-content/uploads/2018/03/db-academy-rgb-1200px.png\" alt=\"Databricks Learning\">\n",
    "</div>\n"
   ]
  },
  {
   "cell_type": "markdown",
   "metadata": {
    "application/vnd.databricks.v1+cell": {
     "cellMetadata": {
      "byteLimit": 2048000,
      "rowLimit": 10000
     },
     "inputWidgets": {},
     "nuid": "2c73b10f-4f11-4997-b226-95e565c867c8",
     "showTitle": false,
     "tableResultSettingsMap": {},
     "title": ""
    }
   },
   "source": [
    "# Lab - Creating Bronze Tables from JSON Files\n",
    "### Duration: ~ 15 minutes\n",
    "\n",
    "In this lab you will ingest a JSON file as Delta table and then flatten the JSON formatted string column.\n",
    "\n",
    "### Learning Objectives\n",
    "  - Inspect a raw JSON file.\n",
    "  - Read in JSON files to a Delta table and flatten the JSON formatted string column."
   ]
  },
  {
   "cell_type": "markdown",
   "metadata": {
    "application/vnd.databricks.v1+cell": {
     "cellMetadata": {
      "byteLimit": 2048000,
      "rowLimit": 10000
     },
     "inputWidgets": {},
     "nuid": "fcacc98f-3b7b-44a7-a16e-e1ed72fce56b",
     "showTitle": false,
     "tableResultSettingsMap": {},
     "title": ""
    }
   },
   "source": [
    "## REQUIRED - SELECT CLASSIC COMPUTE\n",
    "\n",
    "Before executing cells in this notebook, please select your classic compute cluster in the lab. Be aware that **Serverless** is enabled by default and you have a Shared SQL warehouse.\n",
    "\n",
    "<!-- ![Select Cluster](./Includes/images/selecting_cluster_info.png) -->\n",
    "\n",
    "Follow these steps to select the classic compute cluster:\n",
    "\n",
    "\n",
    "1. Navigate to the top-right of this notebook and click the drop-down menu to select your cluster. By default, the notebook will use **Serverless**.\n",
    "\n",
    "2. If your cluster is available, select it and continue to the next cell. If the cluster is not shown:\n",
    "\n",
    "   - Click **More** in the drop-down.\n",
    "\n",
    "   - In the **Attach to an existing compute resource** window, use the first drop-down to select your unique cluster.\n",
    "\n",
    "**NOTE:** If your cluster has terminated, you might need to restart it in order to select it. To do this:\n",
    "\n",
    "1. Right-click on **Compute** in the left navigation pane and select *Open in new tab*.\n",
    "\n",
    "2. Find the triangle icon to the right of your compute cluster name and click it.\n",
    "\n",
    "3. Wait a few minutes for the cluster to start.\n",
    "\n",
    "4. Once the cluster is running, complete the steps above to select your cluster."
   ]
  },
  {
   "cell_type": "markdown",
   "metadata": {
    "application/vnd.databricks.v1+cell": {
     "cellMetadata": {
      "byteLimit": 2048000,
      "rowLimit": 10000
     },
     "inputWidgets": {},
     "nuid": "36989d97-7272-4767-90dd-9e2a92805a2d",
     "showTitle": false,
     "tableResultSettingsMap": {},
     "title": ""
    }
   },
   "source": [
    "\n",
    "## A. Classroom Setup\n",
    "\n",
    "Run the following cell to configure your working environment for this notebook.\n",
    "\n",
    "**NOTE:** The `DA` object is only used in Databricks Academy courses and is not available outside of these courses. It will dynamically reference the information needed to run the course in the lab environment."
   ]
  },
  {
   "cell_type": "code",
   "execution_count": 0,
   "metadata": {
    "application/vnd.databricks.v1+cell": {
     "cellMetadata": {
      "byteLimit": 2048000,
      "implicitDf": true,
      "rowLimit": 10000
     },
     "inputWidgets": {},
     "nuid": "e2803d70-9059-4f19-9233-b2ac986298b4",
     "showTitle": false,
     "tableResultSettingsMap": {},
     "title": ""
    }
   },
   "outputs": [
    {
     "output_type": "stream",
     "name": "stdout",
     "output_type": "stream",
     "text": [
      "\u001B[43mNote: you may need to restart the kernel using %restart_python or dbutils.library.restartPython() to use updated packages.\u001B[0m\n"
     ]
    },
    {
     "output_type": "display_data",
     "data": {
      "text/html": [
       "<style scoped>\n",
       "  .table-result-container {\n",
       "    max-height: 300px;\n",
       "    overflow: auto;\n",
       "  }\n",
       "  table, th, td {\n",
       "    border: 1px solid black;\n",
       "    border-collapse: collapse;\n",
       "  }\n",
       "  th, td {\n",
       "    padding: 5px;\n",
       "  }\n",
       "  th {\n",
       "    text-align: left;\n",
       "  }\n",
       "</style><div class='table-result-container'><table class='table-result'><thead style='background-color: white'><tr></tr></thead><tbody></tbody></table></div>"
      ]
     },
     "metadata": {
      "application/vnd.databricks.v1+output": {
       "addedWidgets": {},
       "aggData": [],
       "aggError": "",
       "aggOverflow": false,
       "aggSchema": [],
       "aggSeriesLimitReached": false,
       "aggType": "",
       "arguments": {},
       "columnCustomDisplayInfos": {},
       "data": [],
       "datasetInfos": [],
       "dbfsResultPath": null,
       "isJsonSchema": true,
       "metadata": {},
       "overflow": false,
       "plotOptions": {
        "customPlotOptions": {},
        "displayType": "table",
        "pivotAggregation": null,
        "pivotColumns": null,
        "xColumns": null,
        "yColumns": null
       },
       "removedWidgets": [],
       "schema": [],
       "type": "table"
      }
     },
     "output_type": "display_data"
    },
    {
     "output_type": "stream",
     "name": "stdout",
     "output_type": "stream",
     "text": [
      "----------------------------------------------------------------------------------------\nDirectory /Volumes/dbacademy/ops/labuser11169727_1755226239@vocareum_com/csv_demo_files already exists. No action taken.\nDirectory /Volumes/dbacademy/ops/labuser11169727_1755226239@vocareum_com/json_demo_files already exists. No action taken.\nDirectory /Volumes/dbacademy/ops/labuser11169727_1755226239@vocareum_com/xml_demo_files already exists. No action taken.\n----------------------------------------------------------------------------------------\n\n"
     ]
    },
    {
     "output_type": "display_data",
     "data": {
      "text/html": [
       "<style scoped>\n",
       "  .table-result-container {\n",
       "    max-height: 300px;\n",
       "    overflow: auto;\n",
       "  }\n",
       "  table, th, td {\n",
       "    border: 1px solid black;\n",
       "    border-collapse: collapse;\n",
       "  }\n",
       "  th, td {\n",
       "    padding: 5px;\n",
       "  }\n",
       "  th {\n",
       "    text-align: left;\n",
       "  }\n",
       "</style><div class='table-result-container'><table class='table-result'><thead style='background-color: white'><tr></tr></thead><tbody></tbody></table></div>"
      ]
     },
     "metadata": {
      "application/vnd.databricks.v1+output": {
       "addedWidgets": {},
       "aggData": [],
       "aggError": "",
       "aggOverflow": false,
       "aggSchema": [],
       "aggSeriesLimitReached": false,
       "aggType": "",
       "arguments": {},
       "columnCustomDisplayInfos": {},
       "data": [],
       "datasetInfos": [],
       "dbfsResultPath": null,
       "isJsonSchema": true,
       "metadata": {},
       "overflow": false,
       "plotOptions": {
        "customPlotOptions": {},
        "displayType": "table",
        "pivotAggregation": null,
        "pivotColumns": null,
        "xColumns": null,
        "yColumns": null
       },
       "removedWidgets": [],
       "schema": [],
       "type": "table"
      }
     },
     "output_type": "display_data"
    },
    {
     "output_type": "stream",
     "name": "stdout",
     "output_type": "stream",
     "text": [
      "Generated file: /Volumes/dbacademy/ops/labuser11169727_1755226239@vocareum_com/json_demo_files/lab_kafka_events.json\n"
     ]
    },
    {
     "output_type": "stream",
     "name": "stdout",
     "output_type": "stream",
     "text": [
      "File written with 1 malformed 'timestamp' at position 64: /Volumes/dbacademy/ops/labuser11169727_1755226239@vocareum_com/json_demo_files/lab_kafka_events_challenge.json\n"
     ]
    },
    {
     "output_type": "display_data",
     "data": {
      "text/html": [
       "<style scoped>\n",
       "  .table-result-container {\n",
       "    max-height: 300px;\n",
       "    overflow: auto;\n",
       "  }\n",
       "  table, th, td {\n",
       "    border: 1px solid black;\n",
       "    border-collapse: collapse;\n",
       "  }\n",
       "  th, td {\n",
       "    padding: 5px;\n",
       "  }\n",
       "  th {\n",
       "    text-align: left;\n",
       "  }\n",
       "</style><div class='table-result-container'><table class='table-result'><thead style='background-color: white'><tr></tr></thead><tbody></tbody></table></div>"
      ]
     },
     "metadata": {
      "application/vnd.databricks.v1+output": {
       "addedWidgets": {},
       "aggData": [],
       "aggError": "",
       "aggOverflow": false,
       "aggSchema": [],
       "aggSeriesLimitReached": false,
       "aggType": "",
       "arguments": {},
       "columnCustomDisplayInfos": {},
       "data": [],
       "datasetInfos": [],
       "dbfsResultPath": null,
       "isJsonSchema": true,
       "metadata": {},
       "overflow": false,
       "plotOptions": {
        "customPlotOptions": {},
        "displayType": "table",
        "pivotAggregation": null,
        "pivotColumns": null,
        "xColumns": null,
        "yColumns": null
       },
       "removedWidgets": [],
       "schema": [],
       "type": "table"
      }
     },
     "output_type": "display_data"
    }
   ],
   "source": [
    "%run ./Includes/Classroom-Setup-07L"
   ]
  },
  {
   "cell_type": "markdown",
   "metadata": {
    "application/vnd.databricks.v1+cell": {
     "cellMetadata": {
      "byteLimit": 2048000,
      "rowLimit": 10000
     },
     "inputWidgets": {},
     "nuid": "e394e50e-829b-4c38-a9a1-4c0a7d5a6db8",
     "showTitle": false,
     "tableResultSettingsMap": {},
     "title": ""
    }
   },
   "source": [
    "Run the cell below to view your default catalog and schema. Notice that your default catalog is **dbacademy** and your default schema is your unique **labuser** schema.\n",
    "\n",
    "**NOTE:** The default catalog and schema are pre-configured for you to avoid the need to specify the three-level name when writing your tables (i.e., catalog.schema.table)."
   ]
  },
  {
   "cell_type": "code",
   "execution_count": 0,
   "metadata": {
    "application/vnd.databricks.v1+cell": {
     "cellMetadata": {
      "byteLimit": 2048000,
      "rowLimit": 10000
     },
     "inputWidgets": {},
     "nuid": "9dd54275-9a7d-4ba0-91b8-488faba9f80f",
     "showTitle": false,
     "tableResultSettingsMap": {},
     "title": ""
    }
   },
   "outputs": [
    {
     "output_type": "display_data",
     "data": {
      "text/html": [
       "<style scoped>\n",
       "  .table-result-container {\n",
       "    max-height: 300px;\n",
       "    overflow: auto;\n",
       "  }\n",
       "  table, th, td {\n",
       "    border: 1px solid black;\n",
       "    border-collapse: collapse;\n",
       "  }\n",
       "  th, td {\n",
       "    padding: 5px;\n",
       "  }\n",
       "  th {\n",
       "    text-align: left;\n",
       "  }\n",
       "</style><div class='table-result-container'><table class='table-result'><thead style='background-color: white'><tr><th>current_catalog()</th><th>current_schema()</th></tr></thead><tbody><tr><td>dbacademy</td><td>labuser11169727_1755226239</td></tr></tbody></table></div>"
      ]
     },
     "metadata": {
      "application/vnd.databricks.v1+output": {
       "addedWidgets": {},
       "aggData": [],
       "aggError": "",
       "aggOverflow": false,
       "aggSchema": [],
       "aggSeriesLimitReached": false,
       "aggType": "",
       "arguments": {},
       "columnCustomDisplayInfos": {},
       "data": [
        [
         "dbacademy",
         "labuser11169727_1755226239"
        ]
       ],
       "datasetInfos": [],
       "dbfsResultPath": null,
       "isJsonSchema": true,
       "metadata": {
        "isDbfsCommandResult": false
       },
       "overflow": false,
       "plotOptions": {
        "customPlotOptions": {},
        "displayType": "table",
        "pivotAggregation": null,
        "pivotColumns": null,
        "xColumns": null,
        "yColumns": null
       },
       "removedWidgets": [],
       "schema": [
        {
         "metadata": "{\"__autoGeneratedAlias\":\"true\"}",
         "name": "current_catalog()",
         "type": "\"string\""
        },
        {
         "metadata": "{\"__autoGeneratedAlias\":\"true\"}",
         "name": "current_schema()",
         "type": "\"string\""
        }
       ],
       "type": "table"
      }
     },
     "output_type": "display_data"
    }
   ],
   "source": [
    "SELECT current_catalog(), current_schema()"
   ]
  },
  {
   "cell_type": "markdown",
   "metadata": {
    "application/vnd.databricks.v1+cell": {
     "cellMetadata": {
      "byteLimit": 2048000,
      "rowLimit": 10000
     },
     "inputWidgets": {},
     "nuid": "cba545fe-b00c-47d6-90c9-ab3d23ef65af",
     "showTitle": false,
     "tableResultSettingsMap": {},
     "title": ""
    }
   },
   "source": [
    "## B. Lab - JSON Ingestion\n",
    "**Scenario:** You are working with your data team on ingesting a JSON file into Databricks. Your job is to ingest the JSON file as is into a bronze table, then create a second bronze table that flattens the JSON formatted string column in the raw bronze table for downstream processing."
   ]
  },
  {
   "cell_type": "markdown",
   "metadata": {
    "application/vnd.databricks.v1+cell": {
     "cellMetadata": {
      "byteLimit": 2048000,
      "rowLimit": 10000
     },
     "inputWidgets": {},
     "nuid": "e32fffb8-9104-4d62-9e6d-7e8e9aa0d1e4",
     "showTitle": false,
     "tableResultSettingsMap": {},
     "title": ""
    }
   },
   "source": [
    "### B1. Inspect the Dataset"
   ]
  },
  {
   "cell_type": "markdown",
   "metadata": {
    "application/vnd.databricks.v1+cell": {
     "cellMetadata": {
      "byteLimit": 2048000,
      "rowLimit": 10000
     },
     "inputWidgets": {},
     "nuid": "e4d73cda-3894-485d-862e-d43bd33a61b3",
     "showTitle": false,
     "tableResultSettingsMap": {},
     "title": ""
    }
   },
   "source": [
    "1. In the cell below, view the value of the Python variable `DA.paths.working_dir`. This variable will reference your **dbacademy.ops.labuser** volume, as each user has a different source volume. This variable is created within the classroom setup script to dynamically reference your unique volume.\n",
    "\n",
    "   Run the cell and review the results. You’ll notice that the `DA.paths.working_dir` variable points to your `/Volumes/dbacademy/ops/labuser` volume.\n",
    "\n",
    "**Note:** Instead of using the `DA.paths.working_dir` variable, you could also specify the path name directly by right clicking on your volume and selecting **Copy volume path**."
   ]
  },
  {
   "cell_type": "code",
   "execution_count": 0,
   "metadata": {
    "application/vnd.databricks.v1+cell": {
     "cellMetadata": {
      "byteLimit": 2048000,
      "rowLimit": 10000
     },
     "inputWidgets": {},
     "nuid": "3cdb4e0c-a637-4e56-bdbf-2d07ab557e6b",
     "showTitle": false,
     "tableResultSettingsMap": {},
     "title": ""
    }
   },
   "outputs": [
    {
     "output_type": "stream",
     "name": "stdout",
     "output_type": "stream",
     "text": [
      "/Volumes/dbacademy/ops/labuser11169727_1755226239@vocareum_com\n"
     ]
    }
   ],
   "source": [
    "%python\n",
    "print(DA.paths.working_dir)"
   ]
  },
  {
   "cell_type": "markdown",
   "metadata": {
    "application/vnd.databricks.v1+cell": {
     "cellMetadata": {
      "byteLimit": 2048000,
      "rowLimit": 10000
     },
     "inputWidgets": {},
     "nuid": "6d89a209-a9ed-4cff-a2c2-0317bba3c08b",
     "showTitle": false,
     "tableResultSettingsMap": {},
     "title": ""
    }
   },
   "source": [
    "Run the cell to view the data in the `/Volumes/dbacademy/ops/your-labuser-name/json_demo_files/lab_kafka_events.json` file in the location from above."
   ]
  },
  {
   "cell_type": "code",
   "execution_count": 0,
   "metadata": {
    "application/vnd.databricks.v1+cell": {
     "cellMetadata": {
      "byteLimit": 2048000,
      "rowLimit": 10000
     },
     "inputWidgets": {},
     "nuid": "31277c64-b1e1-49f8-b175-d10c8b9962b4",
     "showTitle": false,
     "tableResultSettingsMap": {},
     "title": ""
    }
   },
   "outputs": [
    {
     "output_type": "display_data",
     "data": {
      "text/html": [
       "<style scoped>\n",
       "  .table-result-container {\n",
       "    max-height: 300px;\n",
       "    overflow: auto;\n",
       "  }\n",
       "  table, th, td {\n",
       "    border: 1px solid black;\n",
       "    border-collapse: collapse;\n",
       "  }\n",
       "  th, td {\n",
       "    padding: 5px;\n",
       "  }\n",
       "  th {\n",
       "    text-align: left;\n",
       "  }\n",
       "</style><div class='table-result-container'><table class='table-result'><thead style='background-color: white'><tr><th>key</th><th>timestamp</th><th>value</th></tr></thead><tbody><tr><td>event_0</td><td>1.755227997685932E9</td><td>eyJ1c2VyX2lkIjogInVzZXJfOTQ0MiIsICJldmVudF90eXBlIjogInZpZXciLCAiZXZlbnRfdGltZXN0YW1wIjogIjIwMjUtMDgtMTVUMDM6MTk6NTcuNjg1ODg1IiwgIml0ZW1zIjogW3siaXRlbV9pZCI6ICJpdGVtXzE3NSIsICJxdWFudGl0eSI6IDMsICJwcmljZV91c2QiOiAyNi4zNH0sIHsiaXRlbV9pZCI6ICJpdGVtXzMwOCIsICJxdWFudGl0eSI6IDIsICJwcmljZV91c2QiOiAzOC40Mn1dfQ==</td></tr><tr><td>event_1</td><td>1.755227997685954E9</td><td>eyJ1c2VyX2lkIjogInVzZXJfNjIwMiIsICJldmVudF90eXBlIjogInB1cmNoYXNlIiwgImV2ZW50X3RpbWVzdGFtcCI6ICIyMDI1LTA4LTE1VDAzOjE5OjU3LjY4NTkzOCIsICJpdGVtcyI6IFt7Iml0ZW1faWQiOiAiaXRlbV85MDUiLCAicXVhbnRpdHkiOiAxLCAicHJpY2VfdXNkIjogMTMuMDR9XX0=</td></tr><tr><td>event_2</td><td>1.75522799768597E9</td><td>eyJ1c2VyX2lkIjogInVzZXJfMTg1NCIsICJldmVudF90eXBlIjogImNsaWNrIiwgImV2ZW50X3RpbWVzdGFtcCI6ICIyMDI1LTA4LTE1VDAzOjE5OjU3LjY4NTk1NyIsICJpdGVtcyI6IFt7Iml0ZW1faWQiOiAiaXRlbV81NjYiLCAicXVhbnRpdHkiOiAxLCAicHJpY2VfdXNkIjogNTEuNjN9LCB7Iml0ZW1faWQiOiAiaXRlbV8zMTAiLCAicXVhbnRpdHkiOiAyLCAicHJpY2VfdXNkIjogMTYuOTl9XX0=</td></tr><tr><td>event_3</td><td>1.755227997685985E9</td><td>eyJ1c2VyX2lkIjogInVzZXJfOTQzMCIsICJldmVudF90eXBlIjogImNsaWNrIiwgImV2ZW50X3RpbWVzdGFtcCI6ICIyMDI1LTA4LTE1VDAzOjE5OjU3LjY4NTk3MyIsICJpdGVtcyI6IFt7Iml0ZW1faWQiOiAiaXRlbV81NjYiLCAicXVhbnRpdHkiOiAzLCAicHJpY2VfdXNkIjogMzcuMDN9LCB7Iml0ZW1faWQiOiAiaXRlbV80MzYiLCAicXVhbnRpdHkiOiA1LCAicHJpY2VfdXNkIjogODUuMzZ9XX0=</td></tr><tr><td>event_4</td><td>1.755227997685996E9</td><td>eyJ1c2VyX2lkIjogInVzZXJfNzc4NiIsICJldmVudF90eXBlIjogInB1cmNoYXNlIiwgImV2ZW50X3RpbWVzdGFtcCI6ICIyMDI1LTA4LTE1VDAzOjE5OjU3LjY4NTk4NyIsICJpdGVtcyI6IFt7Iml0ZW1faWQiOiAiaXRlbV8zNjYiLCAicXVhbnRpdHkiOiAxLCAicHJpY2VfdXNkIjogNDYuMDl9XX0=</td></tr><tr><td>event_5</td><td>1.755227997686006E9</td><td>eyJ1c2VyX2lkIjogInVzZXJfNDE3NSIsICJldmVudF90eXBlIjogImNsaWNrIiwgImV2ZW50X3RpbWVzdGFtcCI6ICIyMDI1LTA4LTE1VDAzOjE5OjU3LjY4NTk5OCIsICJpdGVtcyI6IFt7Iml0ZW1faWQiOiAiaXRlbV80NjAiLCAicXVhbnRpdHkiOiA0LCAicHJpY2VfdXNkIjogMjUuOTN9XX0=</td></tr><tr><td>event_6</td><td>1.755227997686019E9</td><td>eyJ1c2VyX2lkIjogInVzZXJfMjE1OSIsICJldmVudF90eXBlIjogImNsaWNrIiwgImV2ZW50X3RpbWVzdGFtcCI6ICIyMDI1LTA4LTE1VDAzOjE5OjU3LjY4NjAwOCIsICJpdGVtcyI6IFt7Iml0ZW1faWQiOiAiaXRlbV8zNjYiLCAicXVhbnRpdHkiOiA0LCAicHJpY2VfdXNkIjogNTcuNDN9LCB7Iml0ZW1faWQiOiAiaXRlbV8xMzIiLCAicXVhbnRpdHkiOiA1LCAicHJpY2VfdXNkIjogNjQuNTR9XX0=</td></tr><tr><td>event_7</td><td>1.755227997686036E9</td><td>eyJ1c2VyX2lkIjogInVzZXJfNzM4NiIsICJldmVudF90eXBlIjogImNsaWNrIiwgImV2ZW50X3RpbWVzdGFtcCI6ICIyMDI1LTA4LTE1VDAzOjE5OjU3LjY4NjAyMSIsICJpdGVtcyI6IFt7Iml0ZW1faWQiOiAiaXRlbV84OTQiLCAicXVhbnRpdHkiOiAyLCAicHJpY2VfdXNkIjogNDguMDd9LCB7Iml0ZW1faWQiOiAiaXRlbV83MjYiLCAicXVhbnRpdHkiOiA0LCAicHJpY2VfdXNkIjogMzguMjd9LCB7Iml0ZW1faWQiOiAiaXRlbV83NzkiLCAicXVhbnRpdHkiOiAxLCAicHJpY2VfdXNkIjogODMuMTV9XX0=</td></tr><tr><td>event_8</td><td>1.755227997686053E9</td><td>eyJ1c2VyX2lkIjogInVzZXJfODg1NyIsICJldmVudF90eXBlIjogImNsaWNrIiwgImV2ZW50X3RpbWVzdGFtcCI6ICIyMDI1LTA4LTE1VDAzOjE5OjU3LjY4NjAzOSIsICJpdGVtcyI6IFt7Iml0ZW1faWQiOiAiaXRlbV82ODMiLCAicXVhbnRpdHkiOiA1LCAicHJpY2VfdXNkIjogMjMuMDF9LCB7Iml0ZW1faWQiOiAiaXRlbV81MjciLCAicXVhbnRpdHkiOiAxLCAicHJpY2VfdXNkIjogMjMuMjV9LCB7Iml0ZW1faWQiOiAiaXRlbV83NjAiLCAicXVhbnRpdHkiOiA0LCAicHJpY2VfdXNkIjogNDQuNjV9XX0=</td></tr><tr><td>event_9</td><td>1.755227997686064E9</td><td>eyJ1c2VyX2lkIjogInVzZXJfOTgxOSIsICJldmVudF90eXBlIjogInZpZXciLCAiZXZlbnRfdGltZXN0YW1wIjogIjIwMjUtMDgtMTVUMDM6MTk6NTcuNjg2MDU1IiwgIml0ZW1zIjogW3siaXRlbV9pZCI6ICJpdGVtXzE1NyIsICJxdWFudGl0eSI6IDIsICJwcmljZV91c2QiOiA2Ny45MX1dfQ==</td></tr><tr><td>event_10</td><td>1.755227997686074E9</td><td>eyJ1c2VyX2lkIjogInVzZXJfODU4MSIsICJldmVudF90eXBlIjogInZpZXciLCAiZXZlbnRfdGltZXN0YW1wIjogIjIwMjUtMDgtMTVUMDM6MTk6NTcuNjg2MDY2IiwgIml0ZW1zIjogW3siaXRlbV9pZCI6ICJpdGVtXzY3NiIsICJxdWFudGl0eSI6IDEsICJwcmljZV91c2QiOiA4NC4wMn1dfQ==</td></tr><tr><td>event_11</td><td>1.755227997686098E9</td><td>eyJ1c2VyX2lkIjogInVzZXJfMjg3MCIsICJldmVudF90eXBlIjogInZpZXciLCAiZXZlbnRfdGltZXN0YW1wIjogIjIwMjUtMDgtMTVUMDM6MTk6NTcuNjg2MDc2IiwgIml0ZW1zIjogW3siaXRlbV9pZCI6ICJpdGVtXzExNCIsICJxdWFudGl0eSI6IDQsICJwcmljZV91c2QiOiA5My42N30sIHsiaXRlbV9pZCI6ICJpdGVtXzk0MiIsICJxdWFudGl0eSI6IDIsICJwcmljZV91c2QiOiA5MC45Nn0sIHsiaXRlbV9pZCI6ICJpdGVtXzcyOSIsICJxdWFudGl0eSI6IDMsICJwcmljZV91c2QiOiA5MC42fV19</td></tr><tr><td>event_12</td><td>1.75522799768612E9</td><td>eyJ1c2VyX2lkIjogInVzZXJfODY0OSIsICJldmVudF90eXBlIjogInZpZXciLCAiZXZlbnRfdGltZXN0YW1wIjogIjIwMjUtMDgtMTVUMDM6MTk6NTcuNjg2MTAxIiwgIml0ZW1zIjogW3siaXRlbV9pZCI6ICJpdGVtXzg4NCIsICJxdWFudGl0eSI6IDEsICJwcmljZV91c2QiOiAzNS4zfSwgeyJpdGVtX2lkIjogIml0ZW1fMTk5IiwgInF1YW50aXR5IjogNSwgInByaWNlX3VzZCI6IDkwLjk3fV19</td></tr><tr><td>event_13</td><td>1.755227997686145E9</td><td>eyJ1c2VyX2lkIjogInVzZXJfNDM2MiIsICJldmVudF90eXBlIjogInZpZXciLCAiZXZlbnRfdGltZXN0YW1wIjogIjIwMjUtMDgtMTVUMDM6MTk6NTcuNjg2MTIzIiwgIml0ZW1zIjogW3siaXRlbV9pZCI6ICJpdGVtXzk3MSIsICJxdWFudGl0eSI6IDUsICJwcmljZV91c2QiOiA4MS41M30sIHsiaXRlbV9pZCI6ICJpdGVtXzMxNyIsICJxdWFudGl0eSI6IDMsICJwcmljZV91c2QiOiAxNy4xMn0sIHsiaXRlbV9pZCI6ICJpdGVtXzkxNCIsICJxdWFudGl0eSI6IDIsICJwcmljZV91c2QiOiAxNC45fV19</td></tr><tr><td>event_14</td><td>1.755227997686159E9</td><td>eyJ1c2VyX2lkIjogInVzZXJfODM4OCIsICJldmVudF90eXBlIjogInZpZXciLCAiZXZlbnRfdGltZXN0YW1wIjogIjIwMjUtMDgtMTVUMDM6MTk6NTcuNjg2MTQ3IiwgIml0ZW1zIjogW3siaXRlbV9pZCI6ICJpdGVtXzg1NCIsICJxdWFudGl0eSI6IDUsICJwcmljZV91c2QiOiAzOC45N30sIHsiaXRlbV9pZCI6ICJpdGVtXzI4MyIsICJxdWFudGl0eSI6IDUsICJwcmljZV91c2QiOiAyMS4xMX1dfQ==</td></tr><tr><td>event_15</td><td>1.755227997686174E9</td><td>eyJ1c2VyX2lkIjogInVzZXJfODg4NyIsICJldmVudF90eXBlIjogImNsaWNrIiwgImV2ZW50X3RpbWVzdGFtcCI6ICIyMDI1LTA4LTE1VDAzOjE5OjU3LjY4NjE2MSIsICJpdGVtcyI6IFt7Iml0ZW1faWQiOiAiaXRlbV84NjkiLCAicXVhbnRpdHkiOiA0LCAicHJpY2VfdXNkIjogODEuNTR9LCB7Iml0ZW1faWQiOiAiaXRlbV8xMjMiLCAicXVhbnRpdHkiOiAzLCAicHJpY2VfdXNkIjogMzEuNjF9LCB7Iml0ZW1faWQiOiAiaXRlbV8zODMiLCAicXVhbnRpdHkiOiA0LCAicHJpY2VfdXNkIjogNDMuOX1dfQ==</td></tr><tr><td>event_16</td><td>1.755227997686184E9</td><td>eyJ1c2VyX2lkIjogInVzZXJfMjg2MyIsICJldmVudF90eXBlIjogImNsaWNrIiwgImV2ZW50X3RpbWVzdGFtcCI6ICIyMDI1LTA4LTE1VDAzOjE5OjU3LjY4NjE3NiIsICJpdGVtcyI6IFt7Iml0ZW1faWQiOiAiaXRlbV8xNDYiLCAicXVhbnRpdHkiOiA0LCAicHJpY2VfdXNkIjogODkuOH1dfQ==</td></tr><tr><td>event_17</td><td>1.755227997686194E9</td><td>eyJ1c2VyX2lkIjogInVzZXJfMzU3OSIsICJldmVudF90eXBlIjogImNsaWNrIiwgImV2ZW50X3RpbWVzdGFtcCI6ICIyMDI1LTA4LTE1VDAzOjE5OjU3LjY4NjE4NiIsICJpdGVtcyI6IFt7Iml0ZW1faWQiOiAiaXRlbV8xODkiLCAicXVhbnRpdHkiOiAxLCAicHJpY2VfdXNkIjogMjUuOTN9XX0=</td></tr><tr><td>event_18</td><td>1.755227997686204E9</td><td>eyJ1c2VyX2lkIjogInVzZXJfMjcyNSIsICJldmVudF90eXBlIjogInZpZXciLCAiZXZlbnRfdGltZXN0YW1wIjogIjIwMjUtMDgtMTVUMDM6MTk6NTcuNjg2MTk2IiwgIml0ZW1zIjogW3siaXRlbV9pZCI6ICJpdGVtXzQyMSIsICJxdWFudGl0eSI6IDMsICJwcmljZV91c2QiOiA5OS44fV19</td></tr><tr><td>event_19</td><td>1.755227997686214E9</td><td>eyJ1c2VyX2lkIjogInVzZXJfNDEwMSIsICJldmVudF90eXBlIjogImNsaWNrIiwgImV2ZW50X3RpbWVzdGFtcCI6ICIyMDI1LTA4LTE1VDAzOjE5OjU3LjY4NjIwNiIsICJpdGVtcyI6IFt7Iml0ZW1faWQiOiAiaXRlbV83MzQiLCAicXVhbnRpdHkiOiA1LCAicHJpY2VfdXNkIjogMzkuMzd9XX0=</td></tr><tr><td>event_20</td><td>1.755227997686229E9</td><td>eyJ1c2VyX2lkIjogInVzZXJfMzI4NiIsICJldmVudF90eXBlIjogInZpZXciLCAiZXZlbnRfdGltZXN0YW1wIjogIjIwMjUtMDgtMTVUMDM6MTk6NTcuNjg2MjE2IiwgIml0ZW1zIjogW3siaXRlbV9pZCI6ICJpdGVtXzk0MiIsICJxdWFudGl0eSI6IDIsICJwcmljZV91c2QiOiA1NC42MX0sIHsiaXRlbV9pZCI6ICJpdGVtXzE1OCIsICJxdWFudGl0eSI6IDEsICJwcmljZV91c2QiOiA5My4xOH0sIHsiaXRlbV9pZCI6ICJpdGVtXzQ5NyIsICJxdWFudGl0eSI6IDEsICJwcmljZV91c2QiOiA5MC4wNn1dfQ==</td></tr><tr><td>event_21</td><td>1.755227997686239E9</td><td>eyJ1c2VyX2lkIjogInVzZXJfOTIzOSIsICJldmVudF90eXBlIjogImNsaWNrIiwgImV2ZW50X3RpbWVzdGFtcCI6ICIyMDI1LTA4LTE1VDAzOjE5OjU3LjY4NjIzMSIsICJpdGVtcyI6IFt7Iml0ZW1faWQiOiAiaXRlbV83NDIiLCAicXVhbnRpdHkiOiAyLCAicHJpY2VfdXNkIjogMzcuNzl9XX0=</td></tr><tr><td>event_22</td><td>1.755227997686252E9</td><td>eyJ1c2VyX2lkIjogInVzZXJfOTYzNiIsICJldmVudF90eXBlIjogInB1cmNoYXNlIiwgImV2ZW50X3RpbWVzdGFtcCI6ICIyMDI1LTA4LTE1VDAzOjE5OjU3LjY4NjI0MSIsICJpdGVtcyI6IFt7Iml0ZW1faWQiOiAiaXRlbV82OTAiLCAicXVhbnRpdHkiOiAxLCAicHJpY2VfdXNkIjogMjEuMTh9LCB7Iml0ZW1faWQiOiAiaXRlbV81NTUiLCAicXVhbnRpdHkiOiA1LCAicHJpY2VfdXNkIjogODcuNzl9XX0=</td></tr><tr><td>event_23</td><td>1.755227997686262E9</td><td>eyJ1c2VyX2lkIjogInVzZXJfNDA5MCIsICJldmVudF90eXBlIjogInB1cmNoYXNlIiwgImV2ZW50X3RpbWVzdGFtcCI6ICIyMDI1LTA4LTE1VDAzOjE5OjU3LjY4NjI1NCIsICJpdGVtcyI6IFt7Iml0ZW1faWQiOiAiaXRlbV85NDUiLCAicXVhbnRpdHkiOiAxLCAicHJpY2VfdXNkIjogMTYuMzJ9XX0=</td></tr><tr><td>event_24</td><td>1.755227997686284E9</td><td>eyJ1c2VyX2lkIjogInVzZXJfOTE3NCIsICJldmVudF90eXBlIjogInB1cmNoYXNlIiwgImV2ZW50X3RpbWVzdGFtcCI6ICIyMDI1LTA4LTE1VDAzOjE5OjU3LjY4NjI2NCIsICJpdGVtcyI6IFt7Iml0ZW1faWQiOiAiaXRlbV83MzEiLCAicXVhbnRpdHkiOiAzLCAicHJpY2VfdXNkIjogMjUuMjN9XX0=</td></tr><tr><td>event_25</td><td>1.755227997686301E9</td><td>eyJ1c2VyX2lkIjogInVzZXJfNTM5OSIsICJldmVudF90eXBlIjogImNsaWNrIiwgImV2ZW50X3RpbWVzdGFtcCI6ICIyMDI1LTA4LTE1VDAzOjE5OjU3LjY4NjI4NyIsICJpdGVtcyI6IFt7Iml0ZW1faWQiOiAiaXRlbV84NDMiLCAicXVhbnRpdHkiOiA1LCAicHJpY2VfdXNkIjogOTguNzh9LCB7Iml0ZW1faWQiOiAiaXRlbV8yNTAiLCAicXVhbnRpdHkiOiAxLCAicHJpY2VfdXNkIjogODUuMjJ9LCB7Iml0ZW1faWQiOiAiaXRlbV82ODMiLCAicXVhbnRpdHkiOiA0LCAicHJpY2VfdXNkIjogNDUuMTV9XX0=</td></tr><tr><td>event_26</td><td>1.755227997686317E9</td><td>eyJ1c2VyX2lkIjogInVzZXJfNTY3NCIsICJldmVudF90eXBlIjogInB1cmNoYXNlIiwgImV2ZW50X3RpbWVzdGFtcCI6ICIyMDI1LTA4LTE1VDAzOjE5OjU3LjY4NjMwNCIsICJpdGVtcyI6IFt7Iml0ZW1faWQiOiAiaXRlbV8yMjIiLCAicXVhbnRpdHkiOiAzLCAicHJpY2VfdXNkIjogNDAuMjZ9LCB7Iml0ZW1faWQiOiAiaXRlbV83MzMiLCAicXVhbnRpdHkiOiAzLCAicHJpY2VfdXNkIjogNzkuMzZ9XX0=</td></tr><tr><td>event_27</td><td>1.75522799768633E9</td><td>eyJ1c2VyX2lkIjogInVzZXJfMjk2MCIsICJldmVudF90eXBlIjogImNsaWNrIiwgImV2ZW50X3RpbWVzdGFtcCI6ICIyMDI1LTA4LTE1VDAzOjE5OjU3LjY4NjMxOSIsICJpdGVtcyI6IFt7Iml0ZW1faWQiOiAiaXRlbV81NjEiLCAicXVhbnRpdHkiOiA0LCAicHJpY2VfdXNkIjogMTMuODN9LCB7Iml0ZW1faWQiOiAiaXRlbV81OTkiLCAicXVhbnRpdHkiOiA0LCAicHJpY2VfdXNkIjogNDkuOTh9XX0=</td></tr><tr><td>event_28</td><td>1.75522799768634E9</td><td>eyJ1c2VyX2lkIjogInVzZXJfNzIwMSIsICJldmVudF90eXBlIjogImNsaWNrIiwgImV2ZW50X3RpbWVzdGFtcCI6ICIyMDI1LTA4LTE1VDAzOjE5OjU3LjY4NjMzMiIsICJpdGVtcyI6IFt7Iml0ZW1faWQiOiAiaXRlbV82OTciLCAicXVhbnRpdHkiOiAzLCAicHJpY2VfdXNkIjogMzIuNDV9XX0=</td></tr><tr><td>event_29</td><td>1.755227997686352E9</td><td>eyJ1c2VyX2lkIjogInVzZXJfNjgxNSIsICJldmVudF90eXBlIjogInB1cmNoYXNlIiwgImV2ZW50X3RpbWVzdGFtcCI6ICIyMDI1LTA4LTE1VDAzOjE5OjU3LjY4NjM0MiIsICJpdGVtcyI6IFt7Iml0ZW1faWQiOiAiaXRlbV8zMDIiLCAicXVhbnRpdHkiOiAyLCAicHJpY2VfdXNkIjogNTMuNjh9LCB7Iml0ZW1faWQiOiAiaXRlbV8xNTIiLCAicXVhbnRpdHkiOiA0LCAicHJpY2VfdXNkIjogMTcuNzN9XX0=</td></tr><tr><td>event_30</td><td>1.755227997686362E9</td><td>eyJ1c2VyX2lkIjogInVzZXJfMTk3NCIsICJldmVudF90eXBlIjogImNsaWNrIiwgImV2ZW50X3RpbWVzdGFtcCI6ICIyMDI1LTA4LTE1VDAzOjE5OjU3LjY4NjM1NCIsICJpdGVtcyI6IFt7Iml0ZW1faWQiOiAiaXRlbV82NTUiLCAicXVhbnRpdHkiOiAxLCAicHJpY2VfdXNkIjogNTguOTF9XX0=</td></tr><tr><td>event_31</td><td>1.755227997686375E9</td><td>eyJ1c2VyX2lkIjogInVzZXJfMzQ5OSIsICJldmVudF90eXBlIjogInB1cmNoYXNlIiwgImV2ZW50X3RpbWVzdGFtcCI6ICIyMDI1LTA4LTE1VDAzOjE5OjU3LjY4NjM2NCIsICJpdGVtcyI6IFt7Iml0ZW1faWQiOiAiaXRlbV8xNjYiLCAicXVhbnRpdHkiOiA0LCAicHJpY2VfdXNkIjogNjguODV9LCB7Iml0ZW1faWQiOiAiaXRlbV8xNzIiLCAicXVhbnRpdHkiOiAyLCAicHJpY2VfdXNkIjogMTUuMjl9XX0=</td></tr><tr><td>event_32</td><td>1.755227997686385E9</td><td>eyJ1c2VyX2lkIjogInVzZXJfNTM2MSIsICJldmVudF90eXBlIjogInB1cmNoYXNlIiwgImV2ZW50X3RpbWVzdGFtcCI6ICIyMDI1LTA4LTE1VDAzOjE5OjU3LjY4NjM3NyIsICJpdGVtcyI6IFt7Iml0ZW1faWQiOiAiaXRlbV84MjciLCAicXVhbnRpdHkiOiAxLCAicHJpY2VfdXNkIjogNjUuOTh9XX0=</td></tr><tr><td>event_33</td><td>1.755227997686397E9</td><td>eyJ1c2VyX2lkIjogInVzZXJfMzc3NiIsICJldmVudF90eXBlIjogInB1cmNoYXNlIiwgImV2ZW50X3RpbWVzdGFtcCI6ICIyMDI1LTA4LTE1VDAzOjE5OjU3LjY4NjM4NiIsICJpdGVtcyI6IFt7Iml0ZW1faWQiOiAiaXRlbV85NzYiLCAicXVhbnRpdHkiOiAxLCAicHJpY2VfdXNkIjogNzAuOTh9LCB7Iml0ZW1faWQiOiAiaXRlbV80MTQiLCAicXVhbnRpdHkiOiAyLCAicHJpY2VfdXNkIjogNzMuODF9XX0=</td></tr><tr><td>event_34</td><td>1.755227997686409E9</td><td>eyJ1c2VyX2lkIjogInVzZXJfNjQ3MSIsICJldmVudF90eXBlIjogInZpZXciLCAiZXZlbnRfdGltZXN0YW1wIjogIjIwMjUtMDgtMTVUMDM6MTk6NTcuNjg2Mzk5IiwgIml0ZW1zIjogW3siaXRlbV9pZCI6ICJpdGVtXzc4MiIsICJxdWFudGl0eSI6IDMsICJwcmljZV91c2QiOiA4MC43NH0sIHsiaXRlbV9pZCI6ICJpdGVtXzQ1NCIsICJxdWFudGl0eSI6IDQsICJwcmljZV91c2QiOiA2NC4wfV19</td></tr><tr><td>event_35</td><td>1.755227997686419E9</td><td>eyJ1c2VyX2lkIjogInVzZXJfNTk5MSIsICJldmVudF90eXBlIjogImNsaWNrIiwgImV2ZW50X3RpbWVzdGFtcCI6ICIyMDI1LTA4LTE1VDAzOjE5OjU3LjY4NjQxMSIsICJpdGVtcyI6IFt7Iml0ZW1faWQiOiAiaXRlbV8xMTEiLCAicXVhbnRpdHkiOiA1LCAicHJpY2VfdXNkIjogNTMuOTd9XX0=</td></tr><tr><td>event_36</td><td>1.755227997686431E9</td><td>eyJ1c2VyX2lkIjogInVzZXJfMTEwMCIsICJldmVudF90eXBlIjogInB1cmNoYXNlIiwgImV2ZW50X3RpbWVzdGFtcCI6ICIyMDI1LTA4LTE1VDAzOjE5OjU3LjY4NjQyMSIsICJpdGVtcyI6IFt7Iml0ZW1faWQiOiAiaXRlbV84MDIiLCAicXVhbnRpdHkiOiAxLCAicHJpY2VfdXNkIjogODQuNTF9LCB7Iml0ZW1faWQiOiAiaXRlbV80NDAiLCAicXVhbnRpdHkiOiA0LCAicHJpY2VfdXNkIjogNjUuMDl9XX0=</td></tr><tr><td>event_37</td><td>1.755227997686446E9</td><td>eyJ1c2VyX2lkIjogInVzZXJfMTc4NCIsICJldmVudF90eXBlIjogImNsaWNrIiwgImV2ZW50X3RpbWVzdGFtcCI6ICIyMDI1LTA4LTE1VDAzOjE5OjU3LjY4NjQzMyIsICJpdGVtcyI6IFt7Iml0ZW1faWQiOiAiaXRlbV83MTIiLCAicXVhbnRpdHkiOiAxLCAicHJpY2VfdXNkIjogMTIuNDd9LCB7Iml0ZW1faWQiOiAiaXRlbV8xNTEiLCAicXVhbnRpdHkiOiAzLCAicHJpY2VfdXNkIjogNzIuODJ9LCB7Iml0ZW1faWQiOiAiaXRlbV84MjgiLCAicXVhbnRpdHkiOiA1LCAicHJpY2VfdXNkIjogNDAuODR9XX0=</td></tr><tr><td>event_38</td><td>1.755227997686456E9</td><td>eyJ1c2VyX2lkIjogInVzZXJfNDEyOSIsICJldmVudF90eXBlIjogImNsaWNrIiwgImV2ZW50X3RpbWVzdGFtcCI6ICIyMDI1LTA4LTE1VDAzOjE5OjU3LjY4NjQ0OCIsICJpdGVtcyI6IFt7Iml0ZW1faWQiOiAiaXRlbV80NTIiLCAicXVhbnRpdHkiOiAxLCAicHJpY2VfdXNkIjogNjYuNX1dfQ==</td></tr><tr><td>event_39</td><td>1.755227997686472E9</td><td>eyJ1c2VyX2lkIjogInVzZXJfOTkyOSIsICJldmVudF90eXBlIjogImNsaWNrIiwgImV2ZW50X3RpbWVzdGFtcCI6ICIyMDI1LTA4LTE1VDAzOjE5OjU3LjY4NjQ1OCIsICJpdGVtcyI6IFt7Iml0ZW1faWQiOiAiaXRlbV8zNjEiLCAicXVhbnRpdHkiOiA0LCAicHJpY2VfdXNkIjogNTIuMzl9LCB7Iml0ZW1faWQiOiAiaXRlbV83NTMiLCAicXVhbnRpdHkiOiAzLCAicHJpY2VfdXNkIjogMzQuMzZ9LCB7Iml0ZW1faWQiOiAiaXRlbV85NjAiLCAicXVhbnRpdHkiOiAxLCAicHJpY2VfdXNkIjogNDMuNjF9XX0=</td></tr><tr><td>event_40</td><td>1.755227997686484E9</td><td>eyJ1c2VyX2lkIjogInVzZXJfODA4MSIsICJldmVudF90eXBlIjogImNsaWNrIiwgImV2ZW50X3RpbWVzdGFtcCI6ICIyMDI1LTA4LTE1VDAzOjE5OjU3LjY4NjQ3NCIsICJpdGVtcyI6IFt7Iml0ZW1faWQiOiAiaXRlbV83ODEiLCAicXVhbnRpdHkiOiAxLCAicHJpY2VfdXNkIjogNTMuMX0sIHsiaXRlbV9pZCI6ICJpdGVtXzkyNCIsICJxdWFudGl0eSI6IDQsICJwcmljZV91c2QiOiA0NC43fV19</td></tr><tr><td>event_41</td><td>1.7552279976865E9</td><td>eyJ1c2VyX2lkIjogInVzZXJfMjk2OSIsICJldmVudF90eXBlIjogInB1cmNoYXNlIiwgImV2ZW50X3RpbWVzdGFtcCI6ICIyMDI1LTA4LTE1VDAzOjE5OjU3LjY4NjQ4NiIsICJpdGVtcyI6IFt7Iml0ZW1faWQiOiAiaXRlbV80MTEiLCAicXVhbnRpdHkiOiA0LCAicHJpY2VfdXNkIjogNzQuNzF9LCB7Iml0ZW1faWQiOiAiaXRlbV82ODAiLCAicXVhbnRpdHkiOiA0LCAicHJpY2VfdXNkIjogODMuNTl9LCB7Iml0ZW1faWQiOiAiaXRlbV84NTUiLCAicXVhbnRpdHkiOiAxLCAicHJpY2VfdXNkIjogOTYuNTl9XX0=</td></tr><tr><td>event_42</td><td>1.755227997686512E9</td><td>eyJ1c2VyX2lkIjogInVzZXJfNzI2NiIsICJldmVudF90eXBlIjogInZpZXciLCAiZXZlbnRfdGltZXN0YW1wIjogIjIwMjUtMDgtMTVUMDM6MTk6NTcuNjg2NTAyIiwgIml0ZW1zIjogW3siaXRlbV9pZCI6ICJpdGVtXzk2OSIsICJxdWFudGl0eSI6IDMsICJwcmljZV91c2QiOiA0NS4zNH0sIHsiaXRlbV9pZCI6ICJpdGVtXzU1MiIsICJxdWFudGl0eSI6IDIsICJwcmljZV91c2QiOiAxMC4yMX1dfQ==</td></tr><tr><td>event_43</td><td>1.755227997686522E9</td><td>eyJ1c2VyX2lkIjogInVzZXJfODY0OSIsICJldmVudF90eXBlIjogInB1cmNoYXNlIiwgImV2ZW50X3RpbWVzdGFtcCI6ICIyMDI1LTA4LTE1VDAzOjE5OjU3LjY4NjUxNCIsICJpdGVtcyI6IFt7Iml0ZW1faWQiOiAiaXRlbV80ODYiLCAicXVhbnRpdHkiOiA0LCAicHJpY2VfdXNkIjogMzAuMjN9XX0=</td></tr><tr><td>event_44</td><td>1.755227997686538E9</td><td>eyJ1c2VyX2lkIjogInVzZXJfNTIzNCIsICJldmVudF90eXBlIjogInZpZXciLCAiZXZlbnRfdGltZXN0YW1wIjogIjIwMjUtMDgtMTVUMDM6MTk6NTcuNjg2NTI0IiwgIml0ZW1zIjogW3siaXRlbV9pZCI6ICJpdGVtXzYwMCIsICJxdWFudGl0eSI6IDEsICJwcmljZV91c2QiOiAyMi44M30sIHsiaXRlbV9pZCI6ICJpdGVtXzk2MyIsICJxdWFudGl0eSI6IDIsICJwcmljZV91c2QiOiAxMS4yM30sIHsiaXRlbV9pZCI6ICJpdGVtXzg3NiIsICJxdWFudGl0eSI6IDEsICJwcmljZV91c2QiOiA2MS42OH1dfQ==</td></tr><tr><td>event_45</td><td>1.755227997686551E9</td><td>eyJ1c2VyX2lkIjogInVzZXJfNzU1NSIsICJldmVudF90eXBlIjogInB1cmNoYXNlIiwgImV2ZW50X3RpbWVzdGFtcCI6ICIyMDI1LTA4LTE1VDAzOjE5OjU3LjY4NjU0MCIsICJpdGVtcyI6IFt7Iml0ZW1faWQiOiAiaXRlbV84MTEiLCAicXVhbnRpdHkiOiAxLCAicHJpY2VfdXNkIjogODkuMjZ9LCB7Iml0ZW1faWQiOiAiaXRlbV81MDIiLCAicXVhbnRpdHkiOiAzLCAicHJpY2VfdXNkIjogNzEuMDZ9XX0=</td></tr><tr><td>event_46</td><td>1.75522799768658E9</td><td>eyJ1c2VyX2lkIjogInVzZXJfNDQwMCIsICJldmVudF90eXBlIjogImNsaWNrIiwgImV2ZW50X3RpbWVzdGFtcCI6ICIyMDI1LTA4LTE1VDAzOjE5OjU3LjY4NjU1MiIsICJpdGVtcyI6IFt7Iml0ZW1faWQiOiAiaXRlbV8yNTUiLCAicXVhbnRpdHkiOiAyLCAicHJpY2VfdXNkIjogOTYuNTF9LCB7Iml0ZW1faWQiOiAiaXRlbV85MDIiLCAicXVhbnRpdHkiOiAxLCAicHJpY2VfdXNkIjogNjAuNzV9XX0=</td></tr><tr><td>event_47</td><td>1.755227997686597E9</td><td>eyJ1c2VyX2lkIjogInVzZXJfMzExNiIsICJldmVudF90eXBlIjogImNsaWNrIiwgImV2ZW50X3RpbWVzdGFtcCI6ICIyMDI1LTA4LTE1VDAzOjE5OjU3LjY4NjU4MiIsICJpdGVtcyI6IFt7Iml0ZW1faWQiOiAiaXRlbV85ODkiLCAicXVhbnRpdHkiOiA0LCAicHJpY2VfdXNkIjogMjIuNTh9LCB7Iml0ZW1faWQiOiAiaXRlbV8zMzYiLCAicXVhbnRpdHkiOiAzLCAicHJpY2VfdXNkIjogNDkuMDh9LCB7Iml0ZW1faWQiOiAiaXRlbV81NTMiLCAicXVhbnRpdHkiOiAyLCAicHJpY2VfdXNkIjogNzQuNDF9XX0=</td></tr><tr><td>event_48</td><td>1.755227997686608E9</td><td>eyJ1c2VyX2lkIjogInVzZXJfMzYzOSIsICJldmVudF90eXBlIjogImNsaWNrIiwgImV2ZW50X3RpbWVzdGFtcCI6ICIyMDI1LTA4LTE1VDAzOjE5OjU3LjY4NjU5OSIsICJpdGVtcyI6IFt7Iml0ZW1faWQiOiAiaXRlbV81MzgiLCAicXVhbnRpdHkiOiAzLCAicHJpY2VfdXNkIjogNjMuNjJ9XX0=</td></tr><tr><td>event_49</td><td>1.755227997686618E9</td><td>eyJ1c2VyX2lkIjogInVzZXJfOTUwMSIsICJldmVudF90eXBlIjogInB1cmNoYXNlIiwgImV2ZW50X3RpbWVzdGFtcCI6ICIyMDI1LTA4LTE1VDAzOjE5OjU3LjY4NjYxMCIsICJpdGVtcyI6IFt7Iml0ZW1faWQiOiAiaXRlbV84ODkiLCAicXVhbnRpdHkiOiA0LCAicHJpY2VfdXNkIjogNDIuMzJ9XX0=</td></tr><tr><td>event_50</td><td>1.75522799768663E9</td><td>eyJ1c2VyX2lkIjogInVzZXJfNjAyMiIsICJldmVudF90eXBlIjogImNsaWNrIiwgImV2ZW50X3RpbWVzdGFtcCI6ICIyMDI1LTA4LTE1VDAzOjE5OjU3LjY4NjYyMCIsICJpdGVtcyI6IFt7Iml0ZW1faWQiOiAiaXRlbV85NjkiLCAicXVhbnRpdHkiOiAxLCAicHJpY2VfdXNkIjogMjUuMjR9LCB7Iml0ZW1faWQiOiAiaXRlbV84OTUiLCAicXVhbnRpdHkiOiA0LCAicHJpY2VfdXNkIjogOTAuNjh9XX0=</td></tr><tr><td>event_51</td><td>1.755227997686641E9</td><td>eyJ1c2VyX2lkIjogInVzZXJfOTA1NSIsICJldmVudF90eXBlIjogInB1cmNoYXNlIiwgImV2ZW50X3RpbWVzdGFtcCI6ICIyMDI1LTA4LTE1VDAzOjE5OjU3LjY4NjYzMyIsICJpdGVtcyI6IFt7Iml0ZW1faWQiOiAiaXRlbV85NjMiLCAicXVhbnRpdHkiOiA0LCAicHJpY2VfdXNkIjogMzIuMzN9XX0=</td></tr><tr><td>event_52</td><td>1.755227997686656E9</td><td>eyJ1c2VyX2lkIjogInVzZXJfNzQ5NyIsICJldmVudF90eXBlIjogInB1cmNoYXNlIiwgImV2ZW50X3RpbWVzdGFtcCI6ICIyMDI1LTA4LTE1VDAzOjE5OjU3LjY4NjY0MyIsICJpdGVtcyI6IFt7Iml0ZW1faWQiOiAiaXRlbV8yODciLCAicXVhbnRpdHkiOiA1LCAicHJpY2VfdXNkIjogMTEuMjd9LCB7Iml0ZW1faWQiOiAiaXRlbV82NzYiLCAicXVhbnRpdHkiOiAyLCAicHJpY2VfdXNkIjogMzAuNzV9LCB7Iml0ZW1faWQiOiAiaXRlbV8xODIiLCAicXVhbnRpdHkiOiA0LCAicHJpY2VfdXNkIjogOTMuNTh9XX0=</td></tr><tr><td>event_53</td><td>1.755227997686667E9</td><td>eyJ1c2VyX2lkIjogInVzZXJfNTY5NyIsICJldmVudF90eXBlIjogImNsaWNrIiwgImV2ZW50X3RpbWVzdGFtcCI6ICIyMDI1LTA4LTE1VDAzOjE5OjU3LjY4NjY1OSIsICJpdGVtcyI6IFt7Iml0ZW1faWQiOiAiaXRlbV8xNjMiLCAicXVhbnRpdHkiOiAxLCAicHJpY2VfdXNkIjogODYuMTh9XX0=</td></tr><tr><td>event_54</td><td>1.755227997686679E9</td><td>eyJ1c2VyX2lkIjogInVzZXJfMTU0NiIsICJldmVudF90eXBlIjogInB1cmNoYXNlIiwgImV2ZW50X3RpbWVzdGFtcCI6ICIyMDI1LTA4LTE1VDAzOjE5OjU3LjY4NjY2OSIsICJpdGVtcyI6IFt7Iml0ZW1faWQiOiAiaXRlbV8xNjEiLCAicXVhbnRpdHkiOiAxLCAicHJpY2VfdXNkIjogNzMuNjh9XX0=</td></tr><tr><td>event_55</td><td>1.75522799768669E9</td><td>eyJ1c2VyX2lkIjogInVzZXJfMzY1NyIsICJldmVudF90eXBlIjogImNsaWNrIiwgImV2ZW50X3RpbWVzdGFtcCI6ICIyMDI1LTA4LTE1VDAzOjE5OjU3LjY4NjY4MiIsICJpdGVtcyI6IFt7Iml0ZW1faWQiOiAiaXRlbV8zMDEiLCAicXVhbnRpdHkiOiAzLCAicHJpY2VfdXNkIjogMTAuM31dfQ==</td></tr><tr><td>event_56</td><td>1.755227997686705E9</td><td>eyJ1c2VyX2lkIjogInVzZXJfNTg5OCIsICJldmVudF90eXBlIjogImNsaWNrIiwgImV2ZW50X3RpbWVzdGFtcCI6ICIyMDI1LTA4LTE1VDAzOjE5OjU3LjY4NjY5MiIsICJpdGVtcyI6IFt7Iml0ZW1faWQiOiAiaXRlbV80ODciLCAicXVhbnRpdHkiOiAyLCAicHJpY2VfdXNkIjogMTYuNTV9LCB7Iml0ZW1faWQiOiAiaXRlbV81OTkiLCAicXVhbnRpdHkiOiAxLCAicHJpY2VfdXNkIjogMjEuNzN9LCB7Iml0ZW1faWQiOiAiaXRlbV83NDkiLCAicXVhbnRpdHkiOiA0LCAicHJpY2VfdXNkIjogNDAuMDl9XX0=</td></tr><tr><td>event_57</td><td>1.755227997686721E9</td><td>eyJ1c2VyX2lkIjogInVzZXJfNTY1NiIsICJldmVudF90eXBlIjogInZpZXciLCAiZXZlbnRfdGltZXN0YW1wIjogIjIwMjUtMDgtMTVUMDM6MTk6NTcuNjg2NzA3IiwgIml0ZW1zIjogW3siaXRlbV9pZCI6ICJpdGVtXzU1MiIsICJxdWFudGl0eSI6IDUsICJwcmljZV91c2QiOiA5OS41NX0sIHsiaXRlbV9pZCI6ICJpdGVtXzg5NCIsICJxdWFudGl0eSI6IDMsICJwcmljZV91c2QiOiA2NC4zNX1dfQ==</td></tr><tr><td>event_58</td><td>1.755227997686731E9</td><td>eyJ1c2VyX2lkIjogInVzZXJfNDQ5MSIsICJldmVudF90eXBlIjogInZpZXciLCAiZXZlbnRfdGltZXN0YW1wIjogIjIwMjUtMDgtMTVUMDM6MTk6NTcuNjg2NzIyIiwgIml0ZW1zIjogW3siaXRlbV9pZCI6ICJpdGVtXzk3NCIsICJxdWFudGl0eSI6IDUsICJwcmljZV91c2QiOiA3MS4wNX1dfQ==</td></tr><tr><td>event_59</td><td>1.755227997686743E9</td><td>eyJ1c2VyX2lkIjogInVzZXJfNTYyMyIsICJldmVudF90eXBlIjogImNsaWNrIiwgImV2ZW50X3RpbWVzdGFtcCI6ICIyMDI1LTA4LTE1VDAzOjE5OjU3LjY4NjczMyIsICJpdGVtcyI6IFt7Iml0ZW1faWQiOiAiaXRlbV83NjgiLCAicXVhbnRpdHkiOiA0LCAicHJpY2VfdXNkIjogNDguNTZ9LCB7Iml0ZW1faWQiOiAiaXRlbV85NjMiLCAicXVhbnRpdHkiOiAyLCAicHJpY2VfdXNkIjogMjYuNzJ9XX0=</td></tr><tr><td>event_60</td><td>1.755227997686756E9</td><td>eyJ1c2VyX2lkIjogInVzZXJfNzM2OSIsICJldmVudF90eXBlIjogInZpZXciLCAiZXZlbnRfdGltZXN0YW1wIjogIjIwMjUtMDgtMTVUMDM6MTk6NTcuNjg2NzQ1IiwgIml0ZW1zIjogW3siaXRlbV9pZCI6ICJpdGVtXzg1NCIsICJxdWFudGl0eSI6IDMsICJwcmljZV91c2QiOiAzNS44NX0sIHsiaXRlbV9pZCI6ICJpdGVtXzg3OSIsICJxdWFudGl0eSI6IDIsICJwcmljZV91c2QiOiA0OS4wfV19</td></tr><tr><td>event_61</td><td>1.755227997686768E9</td><td>eyJ1c2VyX2lkIjogInVzZXJfNzA0NiIsICJldmVudF90eXBlIjogImNsaWNrIiwgImV2ZW50X3RpbWVzdGFtcCI6ICIyMDI1LTA4LTE1VDAzOjE5OjU3LjY4Njc1OCIsICJpdGVtcyI6IFt7Iml0ZW1faWQiOiAiaXRlbV83NzEiLCAicXVhbnRpdHkiOiAxLCAicHJpY2VfdXNkIjogMTQuMzF9LCB7Iml0ZW1faWQiOiAiaXRlbV85NDgiLCAicXVhbnRpdHkiOiAxLCAicHJpY2VfdXNkIjogMTcuMDV9XX0=</td></tr><tr><td>event_62</td><td>1.75522799768678E9</td><td>eyJ1c2VyX2lkIjogInVzZXJfODc1NSIsICJldmVudF90eXBlIjogImNsaWNrIiwgImV2ZW50X3RpbWVzdGFtcCI6ICIyMDI1LTA4LTE1VDAzOjE5OjU3LjY4Njc3MCIsICJpdGVtcyI6IFt7Iml0ZW1faWQiOiAiaXRlbV85MDIiLCAicXVhbnRpdHkiOiAzLCAicHJpY2VfdXNkIjogNjUuNjN9LCB7Iml0ZW1faWQiOiAiaXRlbV85NDIiLCAicXVhbnRpdHkiOiAyLCAicHJpY2VfdXNkIjogNTMuNjd9XX0=</td></tr><tr><td>event_63</td><td>1.755227997686795E9</td><td>eyJ1c2VyX2lkIjogInVzZXJfNDc5OSIsICJldmVudF90eXBlIjogImNsaWNrIiwgImV2ZW50X3RpbWVzdGFtcCI6ICIyMDI1LTA4LTE1VDAzOjE5OjU3LjY4Njc4MiIsICJpdGVtcyI6IFt7Iml0ZW1faWQiOiAiaXRlbV8zMjkiLCAicXVhbnRpdHkiOiA0LCAicHJpY2VfdXNkIjogMzUuNjF9LCB7Iml0ZW1faWQiOiAiaXRlbV82NzAiLCAicXVhbnRpdHkiOiAzLCAicHJpY2VfdXNkIjogNTMuMjd9LCB7Iml0ZW1faWQiOiAiaXRlbV85MDMiLCAicXVhbnRpdHkiOiAyLCAicHJpY2VfdXNkIjogMjEuMzl9XX0=</td></tr><tr><td>event_64</td><td>1.755227997686805E9</td><td>eyJ1c2VyX2lkIjogInVzZXJfOTcyOSIsICJldmVudF90eXBlIjogImNsaWNrIiwgImV2ZW50X3RpbWVzdGFtcCI6ICIyMDI1LTA4LTE1VDAzOjE5OjU3LjY4Njc5NyIsICJpdGVtcyI6IFt7Iml0ZW1faWQiOiAiaXRlbV8xMTkiLCAicXVhbnRpdHkiOiA1LCAicHJpY2VfdXNkIjogNzMuMTN9XX0=</td></tr><tr><td>event_65</td><td>1.755227997686817E9</td><td>eyJ1c2VyX2lkIjogInVzZXJfODkyOSIsICJldmVudF90eXBlIjogInZpZXciLCAiZXZlbnRfdGltZXN0YW1wIjogIjIwMjUtMDgtMTVUMDM6MTk6NTcuNjg2ODA3IiwgIml0ZW1zIjogW3siaXRlbV9pZCI6ICJpdGVtXzMyOCIsICJxdWFudGl0eSI6IDIsICJwcmljZV91c2QiOiA5OC45NH0sIHsiaXRlbV9pZCI6ICJpdGVtXzQ2OSIsICJxdWFudGl0eSI6IDEsICJwcmljZV91c2QiOiAzNC42Nn1dfQ==</td></tr><tr><td>event_66</td><td>1.755227997686829E9</td><td>eyJ1c2VyX2lkIjogInVzZXJfMjk2OCIsICJldmVudF90eXBlIjogInZpZXciLCAiZXZlbnRfdGltZXN0YW1wIjogIjIwMjUtMDgtMTVUMDM6MTk6NTcuNjg2ODE5IiwgIml0ZW1zIjogW3siaXRlbV9pZCI6ICJpdGVtXzU3OCIsICJxdWFudGl0eSI6IDUsICJwcmljZV91c2QiOiA4Ni40Nn0sIHsiaXRlbV9pZCI6ICJpdGVtXzc5NyIsICJxdWFudGl0eSI6IDIsICJwcmljZV91c2QiOiA0OS44Mn1dfQ==</td></tr><tr><td>event_67</td><td>1.755227997686839E9</td><td>eyJ1c2VyX2lkIjogInVzZXJfMzg4NSIsICJldmVudF90eXBlIjogInZpZXciLCAiZXZlbnRfdGltZXN0YW1wIjogIjIwMjUtMDgtMTVUMDM6MTk6NTcuNjg2ODMxIiwgIml0ZW1zIjogW3siaXRlbV9pZCI6ICJpdGVtXzMwOCIsICJxdWFudGl0eSI6IDIsICJwcmljZV91c2QiOiA4NC42N31dfQ==</td></tr><tr><td>event_68</td><td>1.755227997686854E9</td><td>eyJ1c2VyX2lkIjogInVzZXJfODIzOSIsICJldmVudF90eXBlIjogInZpZXciLCAiZXZlbnRfdGltZXN0YW1wIjogIjIwMjUtMDgtMTVUMDM6MTk6NTcuNjg2ODQxIiwgIml0ZW1zIjogW3siaXRlbV9pZCI6ICJpdGVtXzk2MiIsICJxdWFudGl0eSI6IDUsICJwcmljZV91c2QiOiAyMC4yMn0sIHsiaXRlbV9pZCI6ICJpdGVtXzkzNCIsICJxdWFudGl0eSI6IDIsICJwcmljZV91c2QiOiA2OC41NH0sIHsiaXRlbV9pZCI6ICJpdGVtXzc4NSIsICJxdWFudGl0eSI6IDQsICJwcmljZV91c2QiOiAzMS41fV19</td></tr><tr><td>event_69</td><td>1.755227997686864E9</td><td>eyJ1c2VyX2lkIjogInVzZXJfMzkwMyIsICJldmVudF90eXBlIjogImNsaWNrIiwgImV2ZW50X3RpbWVzdGFtcCI6ICIyMDI1LTA4LTE1VDAzOjE5OjU3LjY4Njg1NiIsICJpdGVtcyI6IFt7Iml0ZW1faWQiOiAiaXRlbV85ODUiLCAicXVhbnRpdHkiOiAxLCAicHJpY2VfdXNkIjogMzYuNTl9XX0=</td></tr><tr><td>event_70</td><td>1.755227997686874E9</td><td>eyJ1c2VyX2lkIjogInVzZXJfOTM1NyIsICJldmVudF90eXBlIjogInB1cmNoYXNlIiwgImV2ZW50X3RpbWVzdGFtcCI6ICIyMDI1LTA4LTE1VDAzOjE5OjU3LjY4Njg2NiIsICJpdGVtcyI6IFt7Iml0ZW1faWQiOiAiaXRlbV8xOTQiLCAicXVhbnRpdHkiOiAzLCAicHJpY2VfdXNkIjogMzkuMjd9XX0=</td></tr><tr><td>event_71</td><td>1.755227997686889E9</td><td>eyJ1c2VyX2lkIjogInVzZXJfNjQxNSIsICJldmVudF90eXBlIjogImNsaWNrIiwgImV2ZW50X3RpbWVzdGFtcCI6ICIyMDI1LTA4LTE1VDAzOjE5OjU3LjY4Njg3NiIsICJpdGVtcyI6IFt7Iml0ZW1faWQiOiAiaXRlbV80ODQiLCAicXVhbnRpdHkiOiAyLCAicHJpY2VfdXNkIjogNzUuMDd9LCB7Iml0ZW1faWQiOiAiaXRlbV82MDIiLCAicXVhbnRpdHkiOiA1LCAicHJpY2VfdXNkIjogNDYuMjh9LCB7Iml0ZW1faWQiOiAiaXRlbV8zMjAiLCAicXVhbnRpdHkiOiAxLCAicHJpY2VfdXNkIjogNzguMTF9XX0=</td></tr><tr><td>event_72</td><td>1.755227997686899E9</td><td>eyJ1c2VyX2lkIjogInVzZXJfNzY0NiIsICJldmVudF90eXBlIjogInZpZXciLCAiZXZlbnRfdGltZXN0YW1wIjogIjIwMjUtMDgtMTVUMDM6MTk6NTcuNjg2ODkxIiwgIml0ZW1zIjogW3siaXRlbV9pZCI6ICJpdGVtXzc5NyIsICJxdWFudGl0eSI6IDMsICJwcmljZV91c2QiOiAzOC4xOH1dfQ==</td></tr><tr><td>event_73</td><td>1.755227997686909E9</td><td>eyJ1c2VyX2lkIjogInVzZXJfNTg5NCIsICJldmVudF90eXBlIjogImNsaWNrIiwgImV2ZW50X3RpbWVzdGFtcCI6ICIyMDI1LTA4LTE1VDAzOjE5OjU3LjY4NjkwMSIsICJpdGVtcyI6IFt7Iml0ZW1faWQiOiAiaXRlbV80MDciLCAicXVhbnRpdHkiOiAxLCAicHJpY2VfdXNkIjogMzkuNDR9XX0=</td></tr><tr><td>event_74</td><td>1.755227997686921E9</td><td>eyJ1c2VyX2lkIjogInVzZXJfNTA1MSIsICJldmVudF90eXBlIjogInZpZXciLCAiZXZlbnRfdGltZXN0YW1wIjogIjIwMjUtMDgtMTVUMDM6MTk6NTcuNjg2OTExIiwgIml0ZW1zIjogW3siaXRlbV9pZCI6ICJpdGVtXzQxOSIsICJxdWFudGl0eSI6IDEsICJwcmljZV91c2QiOiAzMC44OH0sIHsiaXRlbV9pZCI6ICJpdGVtXzc0NiIsICJxdWFudGl0eSI6IDQsICJwcmljZV91c2QiOiA2My4xOX1dfQ==</td></tr><tr><td>event_75</td><td>1.755227997686931E9</td><td>eyJ1c2VyX2lkIjogInVzZXJfNTkwOCIsICJldmVudF90eXBlIjogInZpZXciLCAiZXZlbnRfdGltZXN0YW1wIjogIjIwMjUtMDgtMTVUMDM6MTk6NTcuNjg2OTIzIiwgIml0ZW1zIjogW3siaXRlbV9pZCI6ICJpdGVtXzk0OCIsICJxdWFudGl0eSI6IDEsICJwcmljZV91c2QiOiA5MS4xM31dfQ==</td></tr><tr><td>event_76</td><td>1.755227997686946E9</td><td>eyJ1c2VyX2lkIjogInVzZXJfMTE4MyIsICJldmVudF90eXBlIjogInZpZXciLCAiZXZlbnRfdGltZXN0YW1wIjogIjIwMjUtMDgtMTVUMDM6MTk6NTcuNjg2OTMzIiwgIml0ZW1zIjogW3siaXRlbV9pZCI6ICJpdGVtXzc4MiIsICJxdWFudGl0eSI6IDMsICJwcmljZV91c2QiOiA5OC42Mn0sIHsiaXRlbV9pZCI6ICJpdGVtXzUwMiIsICJxdWFudGl0eSI6IDQsICJwcmljZV91c2QiOiA1NC41fSwgeyJpdGVtX2lkIjogIml0ZW1fNDc4IiwgInF1YW50aXR5IjogMywgInByaWNlX3VzZCI6IDI4LjI1fV19</td></tr><tr><td>event_77</td><td>1.755227997686967E9</td><td>eyJ1c2VyX2lkIjogInVzZXJfNjgyNCIsICJldmVudF90eXBlIjogImNsaWNrIiwgImV2ZW50X3RpbWVzdGFtcCI6ICIyMDI1LTA4LTE1VDAzOjE5OjU3LjY4Njk0OCIsICJpdGVtcyI6IFt7Iml0ZW1faWQiOiAiaXRlbV81MDUiLCAicXVhbnRpdHkiOiAzLCAicHJpY2VfdXNkIjogNzkuMjd9LCB7Iml0ZW1faWQiOiAiaXRlbV8xOTAiLCAicXVhbnRpdHkiOiAxLCAicHJpY2VfdXNkIjogNDcuNzR9XX0=</td></tr><tr><td>event_78</td><td>1.755227997686991E9</td><td>eyJ1c2VyX2lkIjogInVzZXJfODcwNCIsICJldmVudF90eXBlIjogImNsaWNrIiwgImV2ZW50X3RpbWVzdGFtcCI6ICIyMDI1LTA4LTE1VDAzOjE5OjU3LjY4Njk3MSIsICJpdGVtcyI6IFt7Iml0ZW1faWQiOiAiaXRlbV8xMTAiLCAicXVhbnRpdHkiOiAxLCAicHJpY2VfdXNkIjogNjQuOH0sIHsiaXRlbV9pZCI6ICJpdGVtXzQ4MyIsICJxdWFudGl0eSI6IDEsICJwcmljZV91c2QiOiAyMy42NH0sIHsiaXRlbV9pZCI6ICJpdGVtXzMyNiIsICJxdWFudGl0eSI6IDQsICJwcmljZV91c2QiOiA5MC44Nn1dfQ==</td></tr><tr><td>event_79</td><td>1.755227997687007E9</td><td>eyJ1c2VyX2lkIjogInVzZXJfMjAzOSIsICJldmVudF90eXBlIjogInZpZXciLCAiZXZlbnRfdGltZXN0YW1wIjogIjIwMjUtMDgtMTVUMDM6MTk6NTcuNjg2OTk0IiwgIml0ZW1zIjogW3siaXRlbV9pZCI6ICJpdGVtXzczMSIsICJxdWFudGl0eSI6IDQsICJwcmljZV91c2QiOiA2MS4yNn0sIHsiaXRlbV9pZCI6ICJpdGVtXzI4MyIsICJxdWFudGl0eSI6IDQsICJwcmljZV91c2QiOiAxNy4yMX0sIHsiaXRlbV9pZCI6ICJpdGVtXzU2NiIsICJxdWFudGl0eSI6IDEsICJwcmljZV91c2QiOiA5OC45Nn1dfQ==</td></tr><tr><td>event_80</td><td>1.755227997687017E9</td><td>eyJ1c2VyX2lkIjogInVzZXJfNzQwNiIsICJldmVudF90eXBlIjogImNsaWNrIiwgImV2ZW50X3RpbWVzdGFtcCI6ICIyMDI1LTA4LTE1VDAzOjE5OjU3LjY4NzAwOSIsICJpdGVtcyI6IFt7Iml0ZW1faWQiOiAiaXRlbV83MjciLCAicXVhbnRpdHkiOiAyLCAicHJpY2VfdXNkIjogNzMuOTR9XX0=</td></tr><tr><td>event_81</td><td>1.755227997687026E9</td><td>eyJ1c2VyX2lkIjogInVzZXJfMzM5OCIsICJldmVudF90eXBlIjogInZpZXciLCAiZXZlbnRfdGltZXN0YW1wIjogIjIwMjUtMDgtMTVUMDM6MTk6NTcuNjg3MDE5IiwgIml0ZW1zIjogW3siaXRlbV9pZCI6ICJpdGVtXzI2NyIsICJxdWFudGl0eSI6IDIsICJwcmljZV91c2QiOiA3MC43fV19</td></tr><tr><td>event_82</td><td>1.755227997687042E9</td><td>eyJ1c2VyX2lkIjogInVzZXJfNjYwNiIsICJldmVudF90eXBlIjogInB1cmNoYXNlIiwgImV2ZW50X3RpbWVzdGFtcCI6ICIyMDI1LTA4LTE1VDAzOjE5OjU3LjY4NzAyOCIsICJpdGVtcyI6IFt7Iml0ZW1faWQiOiAiaXRlbV8xNzEiLCAicXVhbnRpdHkiOiAxLCAicHJpY2VfdXNkIjogMzIuMDd9LCB7Iml0ZW1faWQiOiAiaXRlbV8zNzUiLCAicXVhbnRpdHkiOiAxLCAicHJpY2VfdXNkIjogMjguOX0sIHsiaXRlbV9pZCI6ICJpdGVtXzUyNCIsICJxdWFudGl0eSI6IDUsICJwcmljZV91c2QiOiA4Ni4xNX1dfQ==</td></tr><tr><td>event_83</td><td>1.755227997687054E9</td><td>eyJ1c2VyX2lkIjogInVzZXJfMzg2OCIsICJldmVudF90eXBlIjogInB1cmNoYXNlIiwgImV2ZW50X3RpbWVzdGFtcCI6ICIyMDI1LTA4LTE1VDAzOjE5OjU3LjY4NzA0NCIsICJpdGVtcyI6IFt7Iml0ZW1faWQiOiAiaXRlbV82MjciLCAicXVhbnRpdHkiOiAzLCAicHJpY2VfdXNkIjogNzguNjN9LCB7Iml0ZW1faWQiOiAiaXRlbV82NTkiLCAicXVhbnRpdHkiOiA0LCAicHJpY2VfdXNkIjogMTMuNTN9XX0=</td></tr><tr><td>event_84</td><td>1.75522799768707E9</td><td>eyJ1c2VyX2lkIjogInVzZXJfMTE2MiIsICJldmVudF90eXBlIjogInZpZXciLCAiZXZlbnRfdGltZXN0YW1wIjogIjIwMjUtMDgtMTVUMDM6MTk6NTcuNjg3MDU2IiwgIml0ZW1zIjogW3siaXRlbV9pZCI6ICJpdGVtXzkyOCIsICJxdWFudGl0eSI6IDUsICJwcmljZV91c2QiOiA0MC44OX0sIHsiaXRlbV9pZCI6ICJpdGVtXzI3MSIsICJxdWFudGl0eSI6IDUsICJwcmljZV91c2QiOiAyNy4yOH0sIHsiaXRlbV9pZCI6ICJpdGVtXzQ4NyIsICJxdWFudGl0eSI6IDIsICJwcmljZV91c2QiOiA4Ni4zOH1dfQ==</td></tr><tr><td>event_85</td><td>1.755227997687082E9</td><td>eyJ1c2VyX2lkIjogInVzZXJfNDU4OCIsICJldmVudF90eXBlIjogInB1cmNoYXNlIiwgImV2ZW50X3RpbWVzdGFtcCI6ICIyMDI1LTA4LTE1VDAzOjE5OjU3LjY4NzA3MSIsICJpdGVtcyI6IFt7Iml0ZW1faWQiOiAiaXRlbV8xODMiLCAicXVhbnRpdHkiOiAxLCAicHJpY2VfdXNkIjogOTAuMzV9LCB7Iml0ZW1faWQiOiAiaXRlbV81OTgiLCAicXVhbnRpdHkiOiAzLCAicHJpY2VfdXNkIjogMjYuODN9XX0=</td></tr><tr><td>event_86</td><td>1.755227997687091E9</td><td>eyJ1c2VyX2lkIjogInVzZXJfOTI5MiIsICJldmVudF90eXBlIjogInZpZXciLCAiZXZlbnRfdGltZXN0YW1wIjogIjIwMjUtMDgtMTVUMDM6MTk6NTcuNjg3MDg0IiwgIml0ZW1zIjogW3siaXRlbV9pZCI6ICJpdGVtXzcxMyIsICJxdWFudGl0eSI6IDQsICJwcmljZV91c2QiOiAxOC42MX1dfQ==</td></tr><tr><td>event_87</td><td>1.755227997687107E9</td><td>eyJ1c2VyX2lkIjogInVzZXJfOTQwOSIsICJldmVudF90eXBlIjogInZpZXciLCAiZXZlbnRfdGltZXN0YW1wIjogIjIwMjUtMDgtMTVUMDM6MTk6NTcuNjg3MDkzIiwgIml0ZW1zIjogW3siaXRlbV9pZCI6ICJpdGVtXzMwNSIsICJxdWFudGl0eSI6IDUsICJwcmljZV91c2QiOiA4OC4yNX0sIHsiaXRlbV9pZCI6ICJpdGVtXzU0NyIsICJxdWFudGl0eSI6IDIsICJwcmljZV91c2QiOiA4Ni43NX0sIHsiaXRlbV9pZCI6ICJpdGVtXzMwMyIsICJxdWFudGl0eSI6IDEsICJwcmljZV91c2QiOiAxNS4wfV19</td></tr><tr><td>event_88</td><td>1.75522799768712E9</td><td>eyJ1c2VyX2lkIjogInVzZXJfNjM3MiIsICJldmVudF90eXBlIjogImNsaWNrIiwgImV2ZW50X3RpbWVzdGFtcCI6ICIyMDI1LTA4LTE1VDAzOjE5OjU3LjY4NzEwOSIsICJpdGVtcyI6IFt7Iml0ZW1faWQiOiAiaXRlbV8xOTQiLCAicXVhbnRpdHkiOiAyLCAicHJpY2VfdXNkIjogNzEuNDN9XX0=</td></tr><tr><td>event_89</td><td>1.755227997687136E9</td><td>eyJ1c2VyX2lkIjogInVzZXJfMjEzMSIsICJldmVudF90eXBlIjogInB1cmNoYXNlIiwgImV2ZW50X3RpbWVzdGFtcCI6ICIyMDI1LTA4LTE1VDAzOjE5OjU3LjY4NzEyMiIsICJpdGVtcyI6IFt7Iml0ZW1faWQiOiAiaXRlbV8yNjIiLCAicXVhbnRpdHkiOiA1LCAicHJpY2VfdXNkIjogNzUuMn0sIHsiaXRlbV9pZCI6ICJpdGVtXzMzNCIsICJxdWFudGl0eSI6IDEsICJwcmljZV91c2QiOiAxNC4yN31dfQ==</td></tr><tr><td>event_90</td><td>1.755227997687149E9</td><td>eyJ1c2VyX2lkIjogInVzZXJfNjMxMCIsICJldmVudF90eXBlIjogInB1cmNoYXNlIiwgImV2ZW50X3RpbWVzdGFtcCI6ICIyMDI1LTA4LTE1VDAzOjE5OjU3LjY4NzEzOCIsICJpdGVtcyI6IFt7Iml0ZW1faWQiOiAiaXRlbV82MjYiLCAicXVhbnRpdHkiOiAxLCAicHJpY2VfdXNkIjogNjYuNDZ9LCB7Iml0ZW1faWQiOiAiaXRlbV8yNDEiLCAicXVhbnRpdHkiOiA1LCAicHJpY2VfdXNkIjogODMuNTV9XX0=</td></tr><tr><td>event_91</td><td>1.755227997687166E9</td><td>eyJ1c2VyX2lkIjogInVzZXJfNjEyMSIsICJldmVudF90eXBlIjogImNsaWNrIiwgImV2ZW50X3RpbWVzdGFtcCI6ICIyMDI1LTA4LTE1VDAzOjE5OjU3LjY4NzE1MiIsICJpdGVtcyI6IFt7Iml0ZW1faWQiOiAiaXRlbV8zNjkiLCAicXVhbnRpdHkiOiA1LCAicHJpY2VfdXNkIjogMTkuNjR9XX0=</td></tr><tr><td>event_92</td><td>1.755227997687184E9</td><td>eyJ1c2VyX2lkIjogInVzZXJfNDc2NSIsICJldmVudF90eXBlIjogImNsaWNrIiwgImV2ZW50X3RpbWVzdGFtcCI6ICIyMDI1LTA4LTE1VDAzOjE5OjU3LjY4NzE3MCIsICJpdGVtcyI6IFt7Iml0ZW1faWQiOiAiaXRlbV82NzAiLCAicXVhbnRpdHkiOiAyLCAicHJpY2VfdXNkIjogMzUuNTh9LCB7Iml0ZW1faWQiOiAiaXRlbV83NzEiLCAicXVhbnRpdHkiOiA1LCAicHJpY2VfdXNkIjogNDguNjh9LCB7Iml0ZW1faWQiOiAiaXRlbV8yMzkiLCAicXVhbnRpdHkiOiA0LCAicHJpY2VfdXNkIjogMTkuODd9XX0=</td></tr><tr><td>event_93</td><td>1.755227997687209E9</td><td>eyJ1c2VyX2lkIjogInVzZXJfMTIwMCIsICJldmVudF90eXBlIjogImNsaWNrIiwgImV2ZW50X3RpbWVzdGFtcCI6ICIyMDI1LTA4LTE1VDAzOjE5OjU3LjY4NzE4NyIsICJpdGVtcyI6IFt7Iml0ZW1faWQiOiAiaXRlbV85MTkiLCAicXVhbnRpdHkiOiAyLCAicHJpY2VfdXNkIjogOTkuOTV9LCB7Iml0ZW1faWQiOiAiaXRlbV8xNTAiLCAicXVhbnRpdHkiOiA0LCAicHJpY2VfdXNkIjogNTEuNDl9LCB7Iml0ZW1faWQiOiAiaXRlbV8zNTciLCAicXVhbnRpdHkiOiAzLCAicHJpY2VfdXNkIjogNzQuMTl9XX0=</td></tr><tr><td>event_94</td><td>1.755227997687225E9</td><td>eyJ1c2VyX2lkIjogInVzZXJfNDYyMyIsICJldmVudF90eXBlIjogInZpZXciLCAiZXZlbnRfdGltZXN0YW1wIjogIjIwMjUtMDgtMTVUMDM6MTk6NTcuNjg3MjExIiwgIml0ZW1zIjogW3siaXRlbV9pZCI6ICJpdGVtXzMzOCIsICJxdWFudGl0eSI6IDQsICJwcmljZV91c2QiOiA5Mi40OH0sIHsiaXRlbV9pZCI6ICJpdGVtXzQ3MCIsICJxdWFudGl0eSI6IDUsICJwcmljZV91c2QiOiAzMC4wM30sIHsiaXRlbV9pZCI6ICJpdGVtXzUzMiIsICJxdWFudGl0eSI6IDUsICJwcmljZV91c2QiOiAzMi45M31dfQ==</td></tr><tr><td>event_95</td><td>1.755227997687235E9</td><td>eyJ1c2VyX2lkIjogInVzZXJfNzc0MiIsICJldmVudF90eXBlIjogImNsaWNrIiwgImV2ZW50X3RpbWVzdGFtcCI6ICIyMDI1LTA4LTE1VDAzOjE5OjU3LjY4NzIyNyIsICJpdGVtcyI6IFt7Iml0ZW1faWQiOiAiaXRlbV80OTkiLCAicXVhbnRpdHkiOiAxLCAicHJpY2VfdXNkIjogNDkuNjV9XX0=</td></tr><tr><td>event_96</td><td>1.755227997687268E9</td><td>eyJ1c2VyX2lkIjogInVzZXJfMzUwNiIsICJldmVudF90eXBlIjogInZpZXciLCAiZXZlbnRfdGltZXN0YW1wIjogIjIwMjUtMDgtMTVUMDM6MTk6NTcuNjg3MjM3IiwgIml0ZW1zIjogW3siaXRlbV9pZCI6ICJpdGVtXzk0MiIsICJxdWFudGl0eSI6IDEsICJwcmljZV91c2QiOiAyMy4wN30sIHsiaXRlbV9pZCI6ICJpdGVtXzU5MyIsICJxdWFudGl0eSI6IDMsICJwcmljZV91c2QiOiA1Mi40Nn0sIHsiaXRlbV9pZCI6ICJpdGVtXzgyMyIsICJxdWFudGl0eSI6IDUsICJwcmljZV91c2QiOiA2MS44fV19</td></tr><tr><td>event_97</td><td>1.755227997687279E9</td><td>eyJ1c2VyX2lkIjogInVzZXJfNTEwMiIsICJldmVudF90eXBlIjogImNsaWNrIiwgImV2ZW50X3RpbWVzdGFtcCI6ICIyMDI1LTA4LTE1VDAzOjE5OjU3LjY4NzI3MSIsICJpdGVtcyI6IFt7Iml0ZW1faWQiOiAiaXRlbV8yMDYiLCAicXVhbnRpdHkiOiAxLCAicHJpY2VfdXNkIjogOTIuMDJ9XX0=</td></tr><tr><td>event_98</td><td>1.755227997687288E9</td><td>eyJ1c2VyX2lkIjogInVzZXJfMjc1MSIsICJldmVudF90eXBlIjogInZpZXciLCAiZXZlbnRfdGltZXN0YW1wIjogIjIwMjUtMDgtMTVUMDM6MTk6NTcuNjg3MjgwIiwgIml0ZW1zIjogW3siaXRlbV9pZCI6ICJpdGVtXzc3MSIsICJxdWFudGl0eSI6IDUsICJwcmljZV91c2QiOiAyNi42fV19</td></tr><tr><td>event_99</td><td>1.755227997687304E9</td><td>eyJ1c2VyX2lkIjogInVzZXJfNTQyMCIsICJldmVudF90eXBlIjogInZpZXciLCAiZXZlbnRfdGltZXN0YW1wIjogIjIwMjUtMDgtMTVUMDM6MTk6NTcuNjg3MjkwIiwgIml0ZW1zIjogW3siaXRlbV9pZCI6ICJpdGVtXzc2MiIsICJxdWFudGl0eSI6IDMsICJwcmljZV91c2QiOiA5MS44OH0sIHsiaXRlbV9pZCI6ICJpdGVtXzc2NiIsICJxdWFudGl0eSI6IDUsICJwcmljZV91c2QiOiA4Ni44NX0sIHsiaXRlbV9pZCI6ICJpdGVtXzIxMSIsICJxdWFudGl0eSI6IDQsICJwcmljZV91c2QiOiAxMC45N31dfQ==</td></tr></tbody></table></div>"
      ]
     },
     "metadata": {
      "application/vnd.databricks.v1+output": {
       "addedWidgets": {},
       "aggData": [],
       "aggError": "",
       "aggOverflow": false,
       "aggSchema": [],
       "aggSeriesLimitReached": false,
       "aggType": "",
       "arguments": {},
       "columnCustomDisplayInfos": {},
       "data": [
        [
         "event_0",
         1.755227997685932E9,
         "eyJ1c2VyX2lkIjogInVzZXJfOTQ0MiIsICJldmVudF90eXBlIjogInZpZXciLCAiZXZlbnRfdGltZXN0YW1wIjogIjIwMjUtMDgtMTVUMDM6MTk6NTcuNjg1ODg1IiwgIml0ZW1zIjogW3siaXRlbV9pZCI6ICJpdGVtXzE3NSIsICJxdWFudGl0eSI6IDMsICJwcmljZV91c2QiOiAyNi4zNH0sIHsiaXRlbV9pZCI6ICJpdGVtXzMwOCIsICJxdWFudGl0eSI6IDIsICJwcmljZV91c2QiOiAzOC40Mn1dfQ=="
        ],
        [
         "event_1",
         1.755227997685954E9,
         "eyJ1c2VyX2lkIjogInVzZXJfNjIwMiIsICJldmVudF90eXBlIjogInB1cmNoYXNlIiwgImV2ZW50X3RpbWVzdGFtcCI6ICIyMDI1LTA4LTE1VDAzOjE5OjU3LjY4NTkzOCIsICJpdGVtcyI6IFt7Iml0ZW1faWQiOiAiaXRlbV85MDUiLCAicXVhbnRpdHkiOiAxLCAicHJpY2VfdXNkIjogMTMuMDR9XX0="
        ],
        [
         "event_2",
         1.75522799768597E9,
         "eyJ1c2VyX2lkIjogInVzZXJfMTg1NCIsICJldmVudF90eXBlIjogImNsaWNrIiwgImV2ZW50X3RpbWVzdGFtcCI6ICIyMDI1LTA4LTE1VDAzOjE5OjU3LjY4NTk1NyIsICJpdGVtcyI6IFt7Iml0ZW1faWQiOiAiaXRlbV81NjYiLCAicXVhbnRpdHkiOiAxLCAicHJpY2VfdXNkIjogNTEuNjN9LCB7Iml0ZW1faWQiOiAiaXRlbV8zMTAiLCAicXVhbnRpdHkiOiAyLCAicHJpY2VfdXNkIjogMTYuOTl9XX0="
        ],
        [
         "event_3",
         1.755227997685985E9,
         "eyJ1c2VyX2lkIjogInVzZXJfOTQzMCIsICJldmVudF90eXBlIjogImNsaWNrIiwgImV2ZW50X3RpbWVzdGFtcCI6ICIyMDI1LTA4LTE1VDAzOjE5OjU3LjY4NTk3MyIsICJpdGVtcyI6IFt7Iml0ZW1faWQiOiAiaXRlbV81NjYiLCAicXVhbnRpdHkiOiAzLCAicHJpY2VfdXNkIjogMzcuMDN9LCB7Iml0ZW1faWQiOiAiaXRlbV80MzYiLCAicXVhbnRpdHkiOiA1LCAicHJpY2VfdXNkIjogODUuMzZ9XX0="
        ],
        [
         "event_4",
         1.755227997685996E9,
         "eyJ1c2VyX2lkIjogInVzZXJfNzc4NiIsICJldmVudF90eXBlIjogInB1cmNoYXNlIiwgImV2ZW50X3RpbWVzdGFtcCI6ICIyMDI1LTA4LTE1VDAzOjE5OjU3LjY4NTk4NyIsICJpdGVtcyI6IFt7Iml0ZW1faWQiOiAiaXRlbV8zNjYiLCAicXVhbnRpdHkiOiAxLCAicHJpY2VfdXNkIjogNDYuMDl9XX0="
        ],
        [
         "event_5",
         1.755227997686006E9,
         "eyJ1c2VyX2lkIjogInVzZXJfNDE3NSIsICJldmVudF90eXBlIjogImNsaWNrIiwgImV2ZW50X3RpbWVzdGFtcCI6ICIyMDI1LTA4LTE1VDAzOjE5OjU3LjY4NTk5OCIsICJpdGVtcyI6IFt7Iml0ZW1faWQiOiAiaXRlbV80NjAiLCAicXVhbnRpdHkiOiA0LCAicHJpY2VfdXNkIjogMjUuOTN9XX0="
        ],
        [
         "event_6",
         1.755227997686019E9,
         "eyJ1c2VyX2lkIjogInVzZXJfMjE1OSIsICJldmVudF90eXBlIjogImNsaWNrIiwgImV2ZW50X3RpbWVzdGFtcCI6ICIyMDI1LTA4LTE1VDAzOjE5OjU3LjY4NjAwOCIsICJpdGVtcyI6IFt7Iml0ZW1faWQiOiAiaXRlbV8zNjYiLCAicXVhbnRpdHkiOiA0LCAicHJpY2VfdXNkIjogNTcuNDN9LCB7Iml0ZW1faWQiOiAiaXRlbV8xMzIiLCAicXVhbnRpdHkiOiA1LCAicHJpY2VfdXNkIjogNjQuNTR9XX0="
        ],
        [
         "event_7",
         1.755227997686036E9,
         "eyJ1c2VyX2lkIjogInVzZXJfNzM4NiIsICJldmVudF90eXBlIjogImNsaWNrIiwgImV2ZW50X3RpbWVzdGFtcCI6ICIyMDI1LTA4LTE1VDAzOjE5OjU3LjY4NjAyMSIsICJpdGVtcyI6IFt7Iml0ZW1faWQiOiAiaXRlbV84OTQiLCAicXVhbnRpdHkiOiAyLCAicHJpY2VfdXNkIjogNDguMDd9LCB7Iml0ZW1faWQiOiAiaXRlbV83MjYiLCAicXVhbnRpdHkiOiA0LCAicHJpY2VfdXNkIjogMzguMjd9LCB7Iml0ZW1faWQiOiAiaXRlbV83NzkiLCAicXVhbnRpdHkiOiAxLCAicHJpY2VfdXNkIjogODMuMTV9XX0="
        ],
        [
         "event_8",
         1.755227997686053E9,
         "eyJ1c2VyX2lkIjogInVzZXJfODg1NyIsICJldmVudF90eXBlIjogImNsaWNrIiwgImV2ZW50X3RpbWVzdGFtcCI6ICIyMDI1LTA4LTE1VDAzOjE5OjU3LjY4NjAzOSIsICJpdGVtcyI6IFt7Iml0ZW1faWQiOiAiaXRlbV82ODMiLCAicXVhbnRpdHkiOiA1LCAicHJpY2VfdXNkIjogMjMuMDF9LCB7Iml0ZW1faWQiOiAiaXRlbV81MjciLCAicXVhbnRpdHkiOiAxLCAicHJpY2VfdXNkIjogMjMuMjV9LCB7Iml0ZW1faWQiOiAiaXRlbV83NjAiLCAicXVhbnRpdHkiOiA0LCAicHJpY2VfdXNkIjogNDQuNjV9XX0="
        ],
        [
         "event_9",
         1.755227997686064E9,
         "eyJ1c2VyX2lkIjogInVzZXJfOTgxOSIsICJldmVudF90eXBlIjogInZpZXciLCAiZXZlbnRfdGltZXN0YW1wIjogIjIwMjUtMDgtMTVUMDM6MTk6NTcuNjg2MDU1IiwgIml0ZW1zIjogW3siaXRlbV9pZCI6ICJpdGVtXzE1NyIsICJxdWFudGl0eSI6IDIsICJwcmljZV91c2QiOiA2Ny45MX1dfQ=="
        ],
        [
         "event_10",
         1.755227997686074E9,
         "eyJ1c2VyX2lkIjogInVzZXJfODU4MSIsICJldmVudF90eXBlIjogInZpZXciLCAiZXZlbnRfdGltZXN0YW1wIjogIjIwMjUtMDgtMTVUMDM6MTk6NTcuNjg2MDY2IiwgIml0ZW1zIjogW3siaXRlbV9pZCI6ICJpdGVtXzY3NiIsICJxdWFudGl0eSI6IDEsICJwcmljZV91c2QiOiA4NC4wMn1dfQ=="
        ],
        [
         "event_11",
         1.755227997686098E9,
         "eyJ1c2VyX2lkIjogInVzZXJfMjg3MCIsICJldmVudF90eXBlIjogInZpZXciLCAiZXZlbnRfdGltZXN0YW1wIjogIjIwMjUtMDgtMTVUMDM6MTk6NTcuNjg2MDc2IiwgIml0ZW1zIjogW3siaXRlbV9pZCI6ICJpdGVtXzExNCIsICJxdWFudGl0eSI6IDQsICJwcmljZV91c2QiOiA5My42N30sIHsiaXRlbV9pZCI6ICJpdGVtXzk0MiIsICJxdWFudGl0eSI6IDIsICJwcmljZV91c2QiOiA5MC45Nn0sIHsiaXRlbV9pZCI6ICJpdGVtXzcyOSIsICJxdWFudGl0eSI6IDMsICJwcmljZV91c2QiOiA5MC42fV19"
        ],
        [
         "event_12",
         1.75522799768612E9,
         "eyJ1c2VyX2lkIjogInVzZXJfODY0OSIsICJldmVudF90eXBlIjogInZpZXciLCAiZXZlbnRfdGltZXN0YW1wIjogIjIwMjUtMDgtMTVUMDM6MTk6NTcuNjg2MTAxIiwgIml0ZW1zIjogW3siaXRlbV9pZCI6ICJpdGVtXzg4NCIsICJxdWFudGl0eSI6IDEsICJwcmljZV91c2QiOiAzNS4zfSwgeyJpdGVtX2lkIjogIml0ZW1fMTk5IiwgInF1YW50aXR5IjogNSwgInByaWNlX3VzZCI6IDkwLjk3fV19"
        ],
        [
         "event_13",
         1.755227997686145E9,
         "eyJ1c2VyX2lkIjogInVzZXJfNDM2MiIsICJldmVudF90eXBlIjogInZpZXciLCAiZXZlbnRfdGltZXN0YW1wIjogIjIwMjUtMDgtMTVUMDM6MTk6NTcuNjg2MTIzIiwgIml0ZW1zIjogW3siaXRlbV9pZCI6ICJpdGVtXzk3MSIsICJxdWFudGl0eSI6IDUsICJwcmljZV91c2QiOiA4MS41M30sIHsiaXRlbV9pZCI6ICJpdGVtXzMxNyIsICJxdWFudGl0eSI6IDMsICJwcmljZV91c2QiOiAxNy4xMn0sIHsiaXRlbV9pZCI6ICJpdGVtXzkxNCIsICJxdWFudGl0eSI6IDIsICJwcmljZV91c2QiOiAxNC45fV19"
        ],
        [
         "event_14",
         1.755227997686159E9,
         "eyJ1c2VyX2lkIjogInVzZXJfODM4OCIsICJldmVudF90eXBlIjogInZpZXciLCAiZXZlbnRfdGltZXN0YW1wIjogIjIwMjUtMDgtMTVUMDM6MTk6NTcuNjg2MTQ3IiwgIml0ZW1zIjogW3siaXRlbV9pZCI6ICJpdGVtXzg1NCIsICJxdWFudGl0eSI6IDUsICJwcmljZV91c2QiOiAzOC45N30sIHsiaXRlbV9pZCI6ICJpdGVtXzI4MyIsICJxdWFudGl0eSI6IDUsICJwcmljZV91c2QiOiAyMS4xMX1dfQ=="
        ],
        [
         "event_15",
         1.755227997686174E9,
         "eyJ1c2VyX2lkIjogInVzZXJfODg4NyIsICJldmVudF90eXBlIjogImNsaWNrIiwgImV2ZW50X3RpbWVzdGFtcCI6ICIyMDI1LTA4LTE1VDAzOjE5OjU3LjY4NjE2MSIsICJpdGVtcyI6IFt7Iml0ZW1faWQiOiAiaXRlbV84NjkiLCAicXVhbnRpdHkiOiA0LCAicHJpY2VfdXNkIjogODEuNTR9LCB7Iml0ZW1faWQiOiAiaXRlbV8xMjMiLCAicXVhbnRpdHkiOiAzLCAicHJpY2VfdXNkIjogMzEuNjF9LCB7Iml0ZW1faWQiOiAiaXRlbV8zODMiLCAicXVhbnRpdHkiOiA0LCAicHJpY2VfdXNkIjogNDMuOX1dfQ=="
        ],
        [
         "event_16",
         1.755227997686184E9,
         "eyJ1c2VyX2lkIjogInVzZXJfMjg2MyIsICJldmVudF90eXBlIjogImNsaWNrIiwgImV2ZW50X3RpbWVzdGFtcCI6ICIyMDI1LTA4LTE1VDAzOjE5OjU3LjY4NjE3NiIsICJpdGVtcyI6IFt7Iml0ZW1faWQiOiAiaXRlbV8xNDYiLCAicXVhbnRpdHkiOiA0LCAicHJpY2VfdXNkIjogODkuOH1dfQ=="
        ],
        [
         "event_17",
         1.755227997686194E9,
         "eyJ1c2VyX2lkIjogInVzZXJfMzU3OSIsICJldmVudF90eXBlIjogImNsaWNrIiwgImV2ZW50X3RpbWVzdGFtcCI6ICIyMDI1LTA4LTE1VDAzOjE5OjU3LjY4NjE4NiIsICJpdGVtcyI6IFt7Iml0ZW1faWQiOiAiaXRlbV8xODkiLCAicXVhbnRpdHkiOiAxLCAicHJpY2VfdXNkIjogMjUuOTN9XX0="
        ],
        [
         "event_18",
         1.755227997686204E9,
         "eyJ1c2VyX2lkIjogInVzZXJfMjcyNSIsICJldmVudF90eXBlIjogInZpZXciLCAiZXZlbnRfdGltZXN0YW1wIjogIjIwMjUtMDgtMTVUMDM6MTk6NTcuNjg2MTk2IiwgIml0ZW1zIjogW3siaXRlbV9pZCI6ICJpdGVtXzQyMSIsICJxdWFudGl0eSI6IDMsICJwcmljZV91c2QiOiA5OS44fV19"
        ],
        [
         "event_19",
         1.755227997686214E9,
         "eyJ1c2VyX2lkIjogInVzZXJfNDEwMSIsICJldmVudF90eXBlIjogImNsaWNrIiwgImV2ZW50X3RpbWVzdGFtcCI6ICIyMDI1LTA4LTE1VDAzOjE5OjU3LjY4NjIwNiIsICJpdGVtcyI6IFt7Iml0ZW1faWQiOiAiaXRlbV83MzQiLCAicXVhbnRpdHkiOiA1LCAicHJpY2VfdXNkIjogMzkuMzd9XX0="
        ],
        [
         "event_20",
         1.755227997686229E9,
         "eyJ1c2VyX2lkIjogInVzZXJfMzI4NiIsICJldmVudF90eXBlIjogInZpZXciLCAiZXZlbnRfdGltZXN0YW1wIjogIjIwMjUtMDgtMTVUMDM6MTk6NTcuNjg2MjE2IiwgIml0ZW1zIjogW3siaXRlbV9pZCI6ICJpdGVtXzk0MiIsICJxdWFudGl0eSI6IDIsICJwcmljZV91c2QiOiA1NC42MX0sIHsiaXRlbV9pZCI6ICJpdGVtXzE1OCIsICJxdWFudGl0eSI6IDEsICJwcmljZV91c2QiOiA5My4xOH0sIHsiaXRlbV9pZCI6ICJpdGVtXzQ5NyIsICJxdWFudGl0eSI6IDEsICJwcmljZV91c2QiOiA5MC4wNn1dfQ=="
        ],
        [
         "event_21",
         1.755227997686239E9,
         "eyJ1c2VyX2lkIjogInVzZXJfOTIzOSIsICJldmVudF90eXBlIjogImNsaWNrIiwgImV2ZW50X3RpbWVzdGFtcCI6ICIyMDI1LTA4LTE1VDAzOjE5OjU3LjY4NjIzMSIsICJpdGVtcyI6IFt7Iml0ZW1faWQiOiAiaXRlbV83NDIiLCAicXVhbnRpdHkiOiAyLCAicHJpY2VfdXNkIjogMzcuNzl9XX0="
        ],
        [
         "event_22",
         1.755227997686252E9,
         "eyJ1c2VyX2lkIjogInVzZXJfOTYzNiIsICJldmVudF90eXBlIjogInB1cmNoYXNlIiwgImV2ZW50X3RpbWVzdGFtcCI6ICIyMDI1LTA4LTE1VDAzOjE5OjU3LjY4NjI0MSIsICJpdGVtcyI6IFt7Iml0ZW1faWQiOiAiaXRlbV82OTAiLCAicXVhbnRpdHkiOiAxLCAicHJpY2VfdXNkIjogMjEuMTh9LCB7Iml0ZW1faWQiOiAiaXRlbV81NTUiLCAicXVhbnRpdHkiOiA1LCAicHJpY2VfdXNkIjogODcuNzl9XX0="
        ],
        [
         "event_23",
         1.755227997686262E9,
         "eyJ1c2VyX2lkIjogInVzZXJfNDA5MCIsICJldmVudF90eXBlIjogInB1cmNoYXNlIiwgImV2ZW50X3RpbWVzdGFtcCI6ICIyMDI1LTA4LTE1VDAzOjE5OjU3LjY4NjI1NCIsICJpdGVtcyI6IFt7Iml0ZW1faWQiOiAiaXRlbV85NDUiLCAicXVhbnRpdHkiOiAxLCAicHJpY2VfdXNkIjogMTYuMzJ9XX0="
        ],
        [
         "event_24",
         1.755227997686284E9,
         "eyJ1c2VyX2lkIjogInVzZXJfOTE3NCIsICJldmVudF90eXBlIjogInB1cmNoYXNlIiwgImV2ZW50X3RpbWVzdGFtcCI6ICIyMDI1LTA4LTE1VDAzOjE5OjU3LjY4NjI2NCIsICJpdGVtcyI6IFt7Iml0ZW1faWQiOiAiaXRlbV83MzEiLCAicXVhbnRpdHkiOiAzLCAicHJpY2VfdXNkIjogMjUuMjN9XX0="
        ],
        [
         "event_25",
         1.755227997686301E9,
         "eyJ1c2VyX2lkIjogInVzZXJfNTM5OSIsICJldmVudF90eXBlIjogImNsaWNrIiwgImV2ZW50X3RpbWVzdGFtcCI6ICIyMDI1LTA4LTE1VDAzOjE5OjU3LjY4NjI4NyIsICJpdGVtcyI6IFt7Iml0ZW1faWQiOiAiaXRlbV84NDMiLCAicXVhbnRpdHkiOiA1LCAicHJpY2VfdXNkIjogOTguNzh9LCB7Iml0ZW1faWQiOiAiaXRlbV8yNTAiLCAicXVhbnRpdHkiOiAxLCAicHJpY2VfdXNkIjogODUuMjJ9LCB7Iml0ZW1faWQiOiAiaXRlbV82ODMiLCAicXVhbnRpdHkiOiA0LCAicHJpY2VfdXNkIjogNDUuMTV9XX0="
        ],
        [
         "event_26",
         1.755227997686317E9,
         "eyJ1c2VyX2lkIjogInVzZXJfNTY3NCIsICJldmVudF90eXBlIjogInB1cmNoYXNlIiwgImV2ZW50X3RpbWVzdGFtcCI6ICIyMDI1LTA4LTE1VDAzOjE5OjU3LjY4NjMwNCIsICJpdGVtcyI6IFt7Iml0ZW1faWQiOiAiaXRlbV8yMjIiLCAicXVhbnRpdHkiOiAzLCAicHJpY2VfdXNkIjogNDAuMjZ9LCB7Iml0ZW1faWQiOiAiaXRlbV83MzMiLCAicXVhbnRpdHkiOiAzLCAicHJpY2VfdXNkIjogNzkuMzZ9XX0="
        ],
        [
         "event_27",
         1.75522799768633E9,
         "eyJ1c2VyX2lkIjogInVzZXJfMjk2MCIsICJldmVudF90eXBlIjogImNsaWNrIiwgImV2ZW50X3RpbWVzdGFtcCI6ICIyMDI1LTA4LTE1VDAzOjE5OjU3LjY4NjMxOSIsICJpdGVtcyI6IFt7Iml0ZW1faWQiOiAiaXRlbV81NjEiLCAicXVhbnRpdHkiOiA0LCAicHJpY2VfdXNkIjogMTMuODN9LCB7Iml0ZW1faWQiOiAiaXRlbV81OTkiLCAicXVhbnRpdHkiOiA0LCAicHJpY2VfdXNkIjogNDkuOTh9XX0="
        ],
        [
         "event_28",
         1.75522799768634E9,
         "eyJ1c2VyX2lkIjogInVzZXJfNzIwMSIsICJldmVudF90eXBlIjogImNsaWNrIiwgImV2ZW50X3RpbWVzdGFtcCI6ICIyMDI1LTA4LTE1VDAzOjE5OjU3LjY4NjMzMiIsICJpdGVtcyI6IFt7Iml0ZW1faWQiOiAiaXRlbV82OTciLCAicXVhbnRpdHkiOiAzLCAicHJpY2VfdXNkIjogMzIuNDV9XX0="
        ],
        [
         "event_29",
         1.755227997686352E9,
         "eyJ1c2VyX2lkIjogInVzZXJfNjgxNSIsICJldmVudF90eXBlIjogInB1cmNoYXNlIiwgImV2ZW50X3RpbWVzdGFtcCI6ICIyMDI1LTA4LTE1VDAzOjE5OjU3LjY4NjM0MiIsICJpdGVtcyI6IFt7Iml0ZW1faWQiOiAiaXRlbV8zMDIiLCAicXVhbnRpdHkiOiAyLCAicHJpY2VfdXNkIjogNTMuNjh9LCB7Iml0ZW1faWQiOiAiaXRlbV8xNTIiLCAicXVhbnRpdHkiOiA0LCAicHJpY2VfdXNkIjogMTcuNzN9XX0="
        ],
        [
         "event_30",
         1.755227997686362E9,
         "eyJ1c2VyX2lkIjogInVzZXJfMTk3NCIsICJldmVudF90eXBlIjogImNsaWNrIiwgImV2ZW50X3RpbWVzdGFtcCI6ICIyMDI1LTA4LTE1VDAzOjE5OjU3LjY4NjM1NCIsICJpdGVtcyI6IFt7Iml0ZW1faWQiOiAiaXRlbV82NTUiLCAicXVhbnRpdHkiOiAxLCAicHJpY2VfdXNkIjogNTguOTF9XX0="
        ],
        [
         "event_31",
         1.755227997686375E9,
         "eyJ1c2VyX2lkIjogInVzZXJfMzQ5OSIsICJldmVudF90eXBlIjogInB1cmNoYXNlIiwgImV2ZW50X3RpbWVzdGFtcCI6ICIyMDI1LTA4LTE1VDAzOjE5OjU3LjY4NjM2NCIsICJpdGVtcyI6IFt7Iml0ZW1faWQiOiAiaXRlbV8xNjYiLCAicXVhbnRpdHkiOiA0LCAicHJpY2VfdXNkIjogNjguODV9LCB7Iml0ZW1faWQiOiAiaXRlbV8xNzIiLCAicXVhbnRpdHkiOiAyLCAicHJpY2VfdXNkIjogMTUuMjl9XX0="
        ],
        [
         "event_32",
         1.755227997686385E9,
         "eyJ1c2VyX2lkIjogInVzZXJfNTM2MSIsICJldmVudF90eXBlIjogInB1cmNoYXNlIiwgImV2ZW50X3RpbWVzdGFtcCI6ICIyMDI1LTA4LTE1VDAzOjE5OjU3LjY4NjM3NyIsICJpdGVtcyI6IFt7Iml0ZW1faWQiOiAiaXRlbV84MjciLCAicXVhbnRpdHkiOiAxLCAicHJpY2VfdXNkIjogNjUuOTh9XX0="
        ],
        [
         "event_33",
         1.755227997686397E9,
         "eyJ1c2VyX2lkIjogInVzZXJfMzc3NiIsICJldmVudF90eXBlIjogInB1cmNoYXNlIiwgImV2ZW50X3RpbWVzdGFtcCI6ICIyMDI1LTA4LTE1VDAzOjE5OjU3LjY4NjM4NiIsICJpdGVtcyI6IFt7Iml0ZW1faWQiOiAiaXRlbV85NzYiLCAicXVhbnRpdHkiOiAxLCAicHJpY2VfdXNkIjogNzAuOTh9LCB7Iml0ZW1faWQiOiAiaXRlbV80MTQiLCAicXVhbnRpdHkiOiAyLCAicHJpY2VfdXNkIjogNzMuODF9XX0="
        ],
        [
         "event_34",
         1.755227997686409E9,
         "eyJ1c2VyX2lkIjogInVzZXJfNjQ3MSIsICJldmVudF90eXBlIjogInZpZXciLCAiZXZlbnRfdGltZXN0YW1wIjogIjIwMjUtMDgtMTVUMDM6MTk6NTcuNjg2Mzk5IiwgIml0ZW1zIjogW3siaXRlbV9pZCI6ICJpdGVtXzc4MiIsICJxdWFudGl0eSI6IDMsICJwcmljZV91c2QiOiA4MC43NH0sIHsiaXRlbV9pZCI6ICJpdGVtXzQ1NCIsICJxdWFudGl0eSI6IDQsICJwcmljZV91c2QiOiA2NC4wfV19"
        ],
        [
         "event_35",
         1.755227997686419E9,
         "eyJ1c2VyX2lkIjogInVzZXJfNTk5MSIsICJldmVudF90eXBlIjogImNsaWNrIiwgImV2ZW50X3RpbWVzdGFtcCI6ICIyMDI1LTA4LTE1VDAzOjE5OjU3LjY4NjQxMSIsICJpdGVtcyI6IFt7Iml0ZW1faWQiOiAiaXRlbV8xMTEiLCAicXVhbnRpdHkiOiA1LCAicHJpY2VfdXNkIjogNTMuOTd9XX0="
        ],
        [
         "event_36",
         1.755227997686431E9,
         "eyJ1c2VyX2lkIjogInVzZXJfMTEwMCIsICJldmVudF90eXBlIjogInB1cmNoYXNlIiwgImV2ZW50X3RpbWVzdGFtcCI6ICIyMDI1LTA4LTE1VDAzOjE5OjU3LjY4NjQyMSIsICJpdGVtcyI6IFt7Iml0ZW1faWQiOiAiaXRlbV84MDIiLCAicXVhbnRpdHkiOiAxLCAicHJpY2VfdXNkIjogODQuNTF9LCB7Iml0ZW1faWQiOiAiaXRlbV80NDAiLCAicXVhbnRpdHkiOiA0LCAicHJpY2VfdXNkIjogNjUuMDl9XX0="
        ],
        [
         "event_37",
         1.755227997686446E9,
         "eyJ1c2VyX2lkIjogInVzZXJfMTc4NCIsICJldmVudF90eXBlIjogImNsaWNrIiwgImV2ZW50X3RpbWVzdGFtcCI6ICIyMDI1LTA4LTE1VDAzOjE5OjU3LjY4NjQzMyIsICJpdGVtcyI6IFt7Iml0ZW1faWQiOiAiaXRlbV83MTIiLCAicXVhbnRpdHkiOiAxLCAicHJpY2VfdXNkIjogMTIuNDd9LCB7Iml0ZW1faWQiOiAiaXRlbV8xNTEiLCAicXVhbnRpdHkiOiAzLCAicHJpY2VfdXNkIjogNzIuODJ9LCB7Iml0ZW1faWQiOiAiaXRlbV84MjgiLCAicXVhbnRpdHkiOiA1LCAicHJpY2VfdXNkIjogNDAuODR9XX0="
        ],
        [
         "event_38",
         1.755227997686456E9,
         "eyJ1c2VyX2lkIjogInVzZXJfNDEyOSIsICJldmVudF90eXBlIjogImNsaWNrIiwgImV2ZW50X3RpbWVzdGFtcCI6ICIyMDI1LTA4LTE1VDAzOjE5OjU3LjY4NjQ0OCIsICJpdGVtcyI6IFt7Iml0ZW1faWQiOiAiaXRlbV80NTIiLCAicXVhbnRpdHkiOiAxLCAicHJpY2VfdXNkIjogNjYuNX1dfQ=="
        ],
        [
         "event_39",
         1.755227997686472E9,
         "eyJ1c2VyX2lkIjogInVzZXJfOTkyOSIsICJldmVudF90eXBlIjogImNsaWNrIiwgImV2ZW50X3RpbWVzdGFtcCI6ICIyMDI1LTA4LTE1VDAzOjE5OjU3LjY4NjQ1OCIsICJpdGVtcyI6IFt7Iml0ZW1faWQiOiAiaXRlbV8zNjEiLCAicXVhbnRpdHkiOiA0LCAicHJpY2VfdXNkIjogNTIuMzl9LCB7Iml0ZW1faWQiOiAiaXRlbV83NTMiLCAicXVhbnRpdHkiOiAzLCAicHJpY2VfdXNkIjogMzQuMzZ9LCB7Iml0ZW1faWQiOiAiaXRlbV85NjAiLCAicXVhbnRpdHkiOiAxLCAicHJpY2VfdXNkIjogNDMuNjF9XX0="
        ],
        [
         "event_40",
         1.755227997686484E9,
         "eyJ1c2VyX2lkIjogInVzZXJfODA4MSIsICJldmVudF90eXBlIjogImNsaWNrIiwgImV2ZW50X3RpbWVzdGFtcCI6ICIyMDI1LTA4LTE1VDAzOjE5OjU3LjY4NjQ3NCIsICJpdGVtcyI6IFt7Iml0ZW1faWQiOiAiaXRlbV83ODEiLCAicXVhbnRpdHkiOiAxLCAicHJpY2VfdXNkIjogNTMuMX0sIHsiaXRlbV9pZCI6ICJpdGVtXzkyNCIsICJxdWFudGl0eSI6IDQsICJwcmljZV91c2QiOiA0NC43fV19"
        ],
        [
         "event_41",
         1.7552279976865E9,
         "eyJ1c2VyX2lkIjogInVzZXJfMjk2OSIsICJldmVudF90eXBlIjogInB1cmNoYXNlIiwgImV2ZW50X3RpbWVzdGFtcCI6ICIyMDI1LTA4LTE1VDAzOjE5OjU3LjY4NjQ4NiIsICJpdGVtcyI6IFt7Iml0ZW1faWQiOiAiaXRlbV80MTEiLCAicXVhbnRpdHkiOiA0LCAicHJpY2VfdXNkIjogNzQuNzF9LCB7Iml0ZW1faWQiOiAiaXRlbV82ODAiLCAicXVhbnRpdHkiOiA0LCAicHJpY2VfdXNkIjogODMuNTl9LCB7Iml0ZW1faWQiOiAiaXRlbV84NTUiLCAicXVhbnRpdHkiOiAxLCAicHJpY2VfdXNkIjogOTYuNTl9XX0="
        ],
        [
         "event_42",
         1.755227997686512E9,
         "eyJ1c2VyX2lkIjogInVzZXJfNzI2NiIsICJldmVudF90eXBlIjogInZpZXciLCAiZXZlbnRfdGltZXN0YW1wIjogIjIwMjUtMDgtMTVUMDM6MTk6NTcuNjg2NTAyIiwgIml0ZW1zIjogW3siaXRlbV9pZCI6ICJpdGVtXzk2OSIsICJxdWFudGl0eSI6IDMsICJwcmljZV91c2QiOiA0NS4zNH0sIHsiaXRlbV9pZCI6ICJpdGVtXzU1MiIsICJxdWFudGl0eSI6IDIsICJwcmljZV91c2QiOiAxMC4yMX1dfQ=="
        ],
        [
         "event_43",
         1.755227997686522E9,
         "eyJ1c2VyX2lkIjogInVzZXJfODY0OSIsICJldmVudF90eXBlIjogInB1cmNoYXNlIiwgImV2ZW50X3RpbWVzdGFtcCI6ICIyMDI1LTA4LTE1VDAzOjE5OjU3LjY4NjUxNCIsICJpdGVtcyI6IFt7Iml0ZW1faWQiOiAiaXRlbV80ODYiLCAicXVhbnRpdHkiOiA0LCAicHJpY2VfdXNkIjogMzAuMjN9XX0="
        ],
        [
         "event_44",
         1.755227997686538E9,
         "eyJ1c2VyX2lkIjogInVzZXJfNTIzNCIsICJldmVudF90eXBlIjogInZpZXciLCAiZXZlbnRfdGltZXN0YW1wIjogIjIwMjUtMDgtMTVUMDM6MTk6NTcuNjg2NTI0IiwgIml0ZW1zIjogW3siaXRlbV9pZCI6ICJpdGVtXzYwMCIsICJxdWFudGl0eSI6IDEsICJwcmljZV91c2QiOiAyMi44M30sIHsiaXRlbV9pZCI6ICJpdGVtXzk2MyIsICJxdWFudGl0eSI6IDIsICJwcmljZV91c2QiOiAxMS4yM30sIHsiaXRlbV9pZCI6ICJpdGVtXzg3NiIsICJxdWFudGl0eSI6IDEsICJwcmljZV91c2QiOiA2MS42OH1dfQ=="
        ],
        [
         "event_45",
         1.755227997686551E9,
         "eyJ1c2VyX2lkIjogInVzZXJfNzU1NSIsICJldmVudF90eXBlIjogInB1cmNoYXNlIiwgImV2ZW50X3RpbWVzdGFtcCI6ICIyMDI1LTA4LTE1VDAzOjE5OjU3LjY4NjU0MCIsICJpdGVtcyI6IFt7Iml0ZW1faWQiOiAiaXRlbV84MTEiLCAicXVhbnRpdHkiOiAxLCAicHJpY2VfdXNkIjogODkuMjZ9LCB7Iml0ZW1faWQiOiAiaXRlbV81MDIiLCAicXVhbnRpdHkiOiAzLCAicHJpY2VfdXNkIjogNzEuMDZ9XX0="
        ],
        [
         "event_46",
         1.75522799768658E9,
         "eyJ1c2VyX2lkIjogInVzZXJfNDQwMCIsICJldmVudF90eXBlIjogImNsaWNrIiwgImV2ZW50X3RpbWVzdGFtcCI6ICIyMDI1LTA4LTE1VDAzOjE5OjU3LjY4NjU1MiIsICJpdGVtcyI6IFt7Iml0ZW1faWQiOiAiaXRlbV8yNTUiLCAicXVhbnRpdHkiOiAyLCAicHJpY2VfdXNkIjogOTYuNTF9LCB7Iml0ZW1faWQiOiAiaXRlbV85MDIiLCAicXVhbnRpdHkiOiAxLCAicHJpY2VfdXNkIjogNjAuNzV9XX0="
        ],
        [
         "event_47",
         1.755227997686597E9,
         "eyJ1c2VyX2lkIjogInVzZXJfMzExNiIsICJldmVudF90eXBlIjogImNsaWNrIiwgImV2ZW50X3RpbWVzdGFtcCI6ICIyMDI1LTA4LTE1VDAzOjE5OjU3LjY4NjU4MiIsICJpdGVtcyI6IFt7Iml0ZW1faWQiOiAiaXRlbV85ODkiLCAicXVhbnRpdHkiOiA0LCAicHJpY2VfdXNkIjogMjIuNTh9LCB7Iml0ZW1faWQiOiAiaXRlbV8zMzYiLCAicXVhbnRpdHkiOiAzLCAicHJpY2VfdXNkIjogNDkuMDh9LCB7Iml0ZW1faWQiOiAiaXRlbV81NTMiLCAicXVhbnRpdHkiOiAyLCAicHJpY2VfdXNkIjogNzQuNDF9XX0="
        ],
        [
         "event_48",
         1.755227997686608E9,
         "eyJ1c2VyX2lkIjogInVzZXJfMzYzOSIsICJldmVudF90eXBlIjogImNsaWNrIiwgImV2ZW50X3RpbWVzdGFtcCI6ICIyMDI1LTA4LTE1VDAzOjE5OjU3LjY4NjU5OSIsICJpdGVtcyI6IFt7Iml0ZW1faWQiOiAiaXRlbV81MzgiLCAicXVhbnRpdHkiOiAzLCAicHJpY2VfdXNkIjogNjMuNjJ9XX0="
        ],
        [
         "event_49",
         1.755227997686618E9,
         "eyJ1c2VyX2lkIjogInVzZXJfOTUwMSIsICJldmVudF90eXBlIjogInB1cmNoYXNlIiwgImV2ZW50X3RpbWVzdGFtcCI6ICIyMDI1LTA4LTE1VDAzOjE5OjU3LjY4NjYxMCIsICJpdGVtcyI6IFt7Iml0ZW1faWQiOiAiaXRlbV84ODkiLCAicXVhbnRpdHkiOiA0LCAicHJpY2VfdXNkIjogNDIuMzJ9XX0="
        ],
        [
         "event_50",
         1.75522799768663E9,
         "eyJ1c2VyX2lkIjogInVzZXJfNjAyMiIsICJldmVudF90eXBlIjogImNsaWNrIiwgImV2ZW50X3RpbWVzdGFtcCI6ICIyMDI1LTA4LTE1VDAzOjE5OjU3LjY4NjYyMCIsICJpdGVtcyI6IFt7Iml0ZW1faWQiOiAiaXRlbV85NjkiLCAicXVhbnRpdHkiOiAxLCAicHJpY2VfdXNkIjogMjUuMjR9LCB7Iml0ZW1faWQiOiAiaXRlbV84OTUiLCAicXVhbnRpdHkiOiA0LCAicHJpY2VfdXNkIjogOTAuNjh9XX0="
        ],
        [
         "event_51",
         1.755227997686641E9,
         "eyJ1c2VyX2lkIjogInVzZXJfOTA1NSIsICJldmVudF90eXBlIjogInB1cmNoYXNlIiwgImV2ZW50X3RpbWVzdGFtcCI6ICIyMDI1LTA4LTE1VDAzOjE5OjU3LjY4NjYzMyIsICJpdGVtcyI6IFt7Iml0ZW1faWQiOiAiaXRlbV85NjMiLCAicXVhbnRpdHkiOiA0LCAicHJpY2VfdXNkIjogMzIuMzN9XX0="
        ],
        [
         "event_52",
         1.755227997686656E9,
         "eyJ1c2VyX2lkIjogInVzZXJfNzQ5NyIsICJldmVudF90eXBlIjogInB1cmNoYXNlIiwgImV2ZW50X3RpbWVzdGFtcCI6ICIyMDI1LTA4LTE1VDAzOjE5OjU3LjY4NjY0MyIsICJpdGVtcyI6IFt7Iml0ZW1faWQiOiAiaXRlbV8yODciLCAicXVhbnRpdHkiOiA1LCAicHJpY2VfdXNkIjogMTEuMjd9LCB7Iml0ZW1faWQiOiAiaXRlbV82NzYiLCAicXVhbnRpdHkiOiAyLCAicHJpY2VfdXNkIjogMzAuNzV9LCB7Iml0ZW1faWQiOiAiaXRlbV8xODIiLCAicXVhbnRpdHkiOiA0LCAicHJpY2VfdXNkIjogOTMuNTh9XX0="
        ],
        [
         "event_53",
         1.755227997686667E9,
         "eyJ1c2VyX2lkIjogInVzZXJfNTY5NyIsICJldmVudF90eXBlIjogImNsaWNrIiwgImV2ZW50X3RpbWVzdGFtcCI6ICIyMDI1LTA4LTE1VDAzOjE5OjU3LjY4NjY1OSIsICJpdGVtcyI6IFt7Iml0ZW1faWQiOiAiaXRlbV8xNjMiLCAicXVhbnRpdHkiOiAxLCAicHJpY2VfdXNkIjogODYuMTh9XX0="
        ],
        [
         "event_54",
         1.755227997686679E9,
         "eyJ1c2VyX2lkIjogInVzZXJfMTU0NiIsICJldmVudF90eXBlIjogInB1cmNoYXNlIiwgImV2ZW50X3RpbWVzdGFtcCI6ICIyMDI1LTA4LTE1VDAzOjE5OjU3LjY4NjY2OSIsICJpdGVtcyI6IFt7Iml0ZW1faWQiOiAiaXRlbV8xNjEiLCAicXVhbnRpdHkiOiAxLCAicHJpY2VfdXNkIjogNzMuNjh9XX0="
        ],
        [
         "event_55",
         1.75522799768669E9,
         "eyJ1c2VyX2lkIjogInVzZXJfMzY1NyIsICJldmVudF90eXBlIjogImNsaWNrIiwgImV2ZW50X3RpbWVzdGFtcCI6ICIyMDI1LTA4LTE1VDAzOjE5OjU3LjY4NjY4MiIsICJpdGVtcyI6IFt7Iml0ZW1faWQiOiAiaXRlbV8zMDEiLCAicXVhbnRpdHkiOiAzLCAicHJpY2VfdXNkIjogMTAuM31dfQ=="
        ],
        [
         "event_56",
         1.755227997686705E9,
         "eyJ1c2VyX2lkIjogInVzZXJfNTg5OCIsICJldmVudF90eXBlIjogImNsaWNrIiwgImV2ZW50X3RpbWVzdGFtcCI6ICIyMDI1LTA4LTE1VDAzOjE5OjU3LjY4NjY5MiIsICJpdGVtcyI6IFt7Iml0ZW1faWQiOiAiaXRlbV80ODciLCAicXVhbnRpdHkiOiAyLCAicHJpY2VfdXNkIjogMTYuNTV9LCB7Iml0ZW1faWQiOiAiaXRlbV81OTkiLCAicXVhbnRpdHkiOiAxLCAicHJpY2VfdXNkIjogMjEuNzN9LCB7Iml0ZW1faWQiOiAiaXRlbV83NDkiLCAicXVhbnRpdHkiOiA0LCAicHJpY2VfdXNkIjogNDAuMDl9XX0="
        ],
        [
         "event_57",
         1.755227997686721E9,
         "eyJ1c2VyX2lkIjogInVzZXJfNTY1NiIsICJldmVudF90eXBlIjogInZpZXciLCAiZXZlbnRfdGltZXN0YW1wIjogIjIwMjUtMDgtMTVUMDM6MTk6NTcuNjg2NzA3IiwgIml0ZW1zIjogW3siaXRlbV9pZCI6ICJpdGVtXzU1MiIsICJxdWFudGl0eSI6IDUsICJwcmljZV91c2QiOiA5OS41NX0sIHsiaXRlbV9pZCI6ICJpdGVtXzg5NCIsICJxdWFudGl0eSI6IDMsICJwcmljZV91c2QiOiA2NC4zNX1dfQ=="
        ],
        [
         "event_58",
         1.755227997686731E9,
         "eyJ1c2VyX2lkIjogInVzZXJfNDQ5MSIsICJldmVudF90eXBlIjogInZpZXciLCAiZXZlbnRfdGltZXN0YW1wIjogIjIwMjUtMDgtMTVUMDM6MTk6NTcuNjg2NzIyIiwgIml0ZW1zIjogW3siaXRlbV9pZCI6ICJpdGVtXzk3NCIsICJxdWFudGl0eSI6IDUsICJwcmljZV91c2QiOiA3MS4wNX1dfQ=="
        ],
        [
         "event_59",
         1.755227997686743E9,
         "eyJ1c2VyX2lkIjogInVzZXJfNTYyMyIsICJldmVudF90eXBlIjogImNsaWNrIiwgImV2ZW50X3RpbWVzdGFtcCI6ICIyMDI1LTA4LTE1VDAzOjE5OjU3LjY4NjczMyIsICJpdGVtcyI6IFt7Iml0ZW1faWQiOiAiaXRlbV83NjgiLCAicXVhbnRpdHkiOiA0LCAicHJpY2VfdXNkIjogNDguNTZ9LCB7Iml0ZW1faWQiOiAiaXRlbV85NjMiLCAicXVhbnRpdHkiOiAyLCAicHJpY2VfdXNkIjogMjYuNzJ9XX0="
        ],
        [
         "event_60",
         1.755227997686756E9,
         "eyJ1c2VyX2lkIjogInVzZXJfNzM2OSIsICJldmVudF90eXBlIjogInZpZXciLCAiZXZlbnRfdGltZXN0YW1wIjogIjIwMjUtMDgtMTVUMDM6MTk6NTcuNjg2NzQ1IiwgIml0ZW1zIjogW3siaXRlbV9pZCI6ICJpdGVtXzg1NCIsICJxdWFudGl0eSI6IDMsICJwcmljZV91c2QiOiAzNS44NX0sIHsiaXRlbV9pZCI6ICJpdGVtXzg3OSIsICJxdWFudGl0eSI6IDIsICJwcmljZV91c2QiOiA0OS4wfV19"
        ],
        [
         "event_61",
         1.755227997686768E9,
         "eyJ1c2VyX2lkIjogInVzZXJfNzA0NiIsICJldmVudF90eXBlIjogImNsaWNrIiwgImV2ZW50X3RpbWVzdGFtcCI6ICIyMDI1LTA4LTE1VDAzOjE5OjU3LjY4Njc1OCIsICJpdGVtcyI6IFt7Iml0ZW1faWQiOiAiaXRlbV83NzEiLCAicXVhbnRpdHkiOiAxLCAicHJpY2VfdXNkIjogMTQuMzF9LCB7Iml0ZW1faWQiOiAiaXRlbV85NDgiLCAicXVhbnRpdHkiOiAxLCAicHJpY2VfdXNkIjogMTcuMDV9XX0="
        ],
        [
         "event_62",
         1.75522799768678E9,
         "eyJ1c2VyX2lkIjogInVzZXJfODc1NSIsICJldmVudF90eXBlIjogImNsaWNrIiwgImV2ZW50X3RpbWVzdGFtcCI6ICIyMDI1LTA4LTE1VDAzOjE5OjU3LjY4Njc3MCIsICJpdGVtcyI6IFt7Iml0ZW1faWQiOiAiaXRlbV85MDIiLCAicXVhbnRpdHkiOiAzLCAicHJpY2VfdXNkIjogNjUuNjN9LCB7Iml0ZW1faWQiOiAiaXRlbV85NDIiLCAicXVhbnRpdHkiOiAyLCAicHJpY2VfdXNkIjogNTMuNjd9XX0="
        ],
        [
         "event_63",
         1.755227997686795E9,
         "eyJ1c2VyX2lkIjogInVzZXJfNDc5OSIsICJldmVudF90eXBlIjogImNsaWNrIiwgImV2ZW50X3RpbWVzdGFtcCI6ICIyMDI1LTA4LTE1VDAzOjE5OjU3LjY4Njc4MiIsICJpdGVtcyI6IFt7Iml0ZW1faWQiOiAiaXRlbV8zMjkiLCAicXVhbnRpdHkiOiA0LCAicHJpY2VfdXNkIjogMzUuNjF9LCB7Iml0ZW1faWQiOiAiaXRlbV82NzAiLCAicXVhbnRpdHkiOiAzLCAicHJpY2VfdXNkIjogNTMuMjd9LCB7Iml0ZW1faWQiOiAiaXRlbV85MDMiLCAicXVhbnRpdHkiOiAyLCAicHJpY2VfdXNkIjogMjEuMzl9XX0="
        ],
        [
         "event_64",
         1.755227997686805E9,
         "eyJ1c2VyX2lkIjogInVzZXJfOTcyOSIsICJldmVudF90eXBlIjogImNsaWNrIiwgImV2ZW50X3RpbWVzdGFtcCI6ICIyMDI1LTA4LTE1VDAzOjE5OjU3LjY4Njc5NyIsICJpdGVtcyI6IFt7Iml0ZW1faWQiOiAiaXRlbV8xMTkiLCAicXVhbnRpdHkiOiA1LCAicHJpY2VfdXNkIjogNzMuMTN9XX0="
        ],
        [
         "event_65",
         1.755227997686817E9,
         "eyJ1c2VyX2lkIjogInVzZXJfODkyOSIsICJldmVudF90eXBlIjogInZpZXciLCAiZXZlbnRfdGltZXN0YW1wIjogIjIwMjUtMDgtMTVUMDM6MTk6NTcuNjg2ODA3IiwgIml0ZW1zIjogW3siaXRlbV9pZCI6ICJpdGVtXzMyOCIsICJxdWFudGl0eSI6IDIsICJwcmljZV91c2QiOiA5OC45NH0sIHsiaXRlbV9pZCI6ICJpdGVtXzQ2OSIsICJxdWFudGl0eSI6IDEsICJwcmljZV91c2QiOiAzNC42Nn1dfQ=="
        ],
        [
         "event_66",
         1.755227997686829E9,
         "eyJ1c2VyX2lkIjogInVzZXJfMjk2OCIsICJldmVudF90eXBlIjogInZpZXciLCAiZXZlbnRfdGltZXN0YW1wIjogIjIwMjUtMDgtMTVUMDM6MTk6NTcuNjg2ODE5IiwgIml0ZW1zIjogW3siaXRlbV9pZCI6ICJpdGVtXzU3OCIsICJxdWFudGl0eSI6IDUsICJwcmljZV91c2QiOiA4Ni40Nn0sIHsiaXRlbV9pZCI6ICJpdGVtXzc5NyIsICJxdWFudGl0eSI6IDIsICJwcmljZV91c2QiOiA0OS44Mn1dfQ=="
        ],
        [
         "event_67",
         1.755227997686839E9,
         "eyJ1c2VyX2lkIjogInVzZXJfMzg4NSIsICJldmVudF90eXBlIjogInZpZXciLCAiZXZlbnRfdGltZXN0YW1wIjogIjIwMjUtMDgtMTVUMDM6MTk6NTcuNjg2ODMxIiwgIml0ZW1zIjogW3siaXRlbV9pZCI6ICJpdGVtXzMwOCIsICJxdWFudGl0eSI6IDIsICJwcmljZV91c2QiOiA4NC42N31dfQ=="
        ],
        [
         "event_68",
         1.755227997686854E9,
         "eyJ1c2VyX2lkIjogInVzZXJfODIzOSIsICJldmVudF90eXBlIjogInZpZXciLCAiZXZlbnRfdGltZXN0YW1wIjogIjIwMjUtMDgtMTVUMDM6MTk6NTcuNjg2ODQxIiwgIml0ZW1zIjogW3siaXRlbV9pZCI6ICJpdGVtXzk2MiIsICJxdWFudGl0eSI6IDUsICJwcmljZV91c2QiOiAyMC4yMn0sIHsiaXRlbV9pZCI6ICJpdGVtXzkzNCIsICJxdWFudGl0eSI6IDIsICJwcmljZV91c2QiOiA2OC41NH0sIHsiaXRlbV9pZCI6ICJpdGVtXzc4NSIsICJxdWFudGl0eSI6IDQsICJwcmljZV91c2QiOiAzMS41fV19"
        ],
        [
         "event_69",
         1.755227997686864E9,
         "eyJ1c2VyX2lkIjogInVzZXJfMzkwMyIsICJldmVudF90eXBlIjogImNsaWNrIiwgImV2ZW50X3RpbWVzdGFtcCI6ICIyMDI1LTA4LTE1VDAzOjE5OjU3LjY4Njg1NiIsICJpdGVtcyI6IFt7Iml0ZW1faWQiOiAiaXRlbV85ODUiLCAicXVhbnRpdHkiOiAxLCAicHJpY2VfdXNkIjogMzYuNTl9XX0="
        ],
        [
         "event_70",
         1.755227997686874E9,
         "eyJ1c2VyX2lkIjogInVzZXJfOTM1NyIsICJldmVudF90eXBlIjogInB1cmNoYXNlIiwgImV2ZW50X3RpbWVzdGFtcCI6ICIyMDI1LTA4LTE1VDAzOjE5OjU3LjY4Njg2NiIsICJpdGVtcyI6IFt7Iml0ZW1faWQiOiAiaXRlbV8xOTQiLCAicXVhbnRpdHkiOiAzLCAicHJpY2VfdXNkIjogMzkuMjd9XX0="
        ],
        [
         "event_71",
         1.755227997686889E9,
         "eyJ1c2VyX2lkIjogInVzZXJfNjQxNSIsICJldmVudF90eXBlIjogImNsaWNrIiwgImV2ZW50X3RpbWVzdGFtcCI6ICIyMDI1LTA4LTE1VDAzOjE5OjU3LjY4Njg3NiIsICJpdGVtcyI6IFt7Iml0ZW1faWQiOiAiaXRlbV80ODQiLCAicXVhbnRpdHkiOiAyLCAicHJpY2VfdXNkIjogNzUuMDd9LCB7Iml0ZW1faWQiOiAiaXRlbV82MDIiLCAicXVhbnRpdHkiOiA1LCAicHJpY2VfdXNkIjogNDYuMjh9LCB7Iml0ZW1faWQiOiAiaXRlbV8zMjAiLCAicXVhbnRpdHkiOiAxLCAicHJpY2VfdXNkIjogNzguMTF9XX0="
        ],
        [
         "event_72",
         1.755227997686899E9,
         "eyJ1c2VyX2lkIjogInVzZXJfNzY0NiIsICJldmVudF90eXBlIjogInZpZXciLCAiZXZlbnRfdGltZXN0YW1wIjogIjIwMjUtMDgtMTVUMDM6MTk6NTcuNjg2ODkxIiwgIml0ZW1zIjogW3siaXRlbV9pZCI6ICJpdGVtXzc5NyIsICJxdWFudGl0eSI6IDMsICJwcmljZV91c2QiOiAzOC4xOH1dfQ=="
        ],
        [
         "event_73",
         1.755227997686909E9,
         "eyJ1c2VyX2lkIjogInVzZXJfNTg5NCIsICJldmVudF90eXBlIjogImNsaWNrIiwgImV2ZW50X3RpbWVzdGFtcCI6ICIyMDI1LTA4LTE1VDAzOjE5OjU3LjY4NjkwMSIsICJpdGVtcyI6IFt7Iml0ZW1faWQiOiAiaXRlbV80MDciLCAicXVhbnRpdHkiOiAxLCAicHJpY2VfdXNkIjogMzkuNDR9XX0="
        ],
        [
         "event_74",
         1.755227997686921E9,
         "eyJ1c2VyX2lkIjogInVzZXJfNTA1MSIsICJldmVudF90eXBlIjogInZpZXciLCAiZXZlbnRfdGltZXN0YW1wIjogIjIwMjUtMDgtMTVUMDM6MTk6NTcuNjg2OTExIiwgIml0ZW1zIjogW3siaXRlbV9pZCI6ICJpdGVtXzQxOSIsICJxdWFudGl0eSI6IDEsICJwcmljZV91c2QiOiAzMC44OH0sIHsiaXRlbV9pZCI6ICJpdGVtXzc0NiIsICJxdWFudGl0eSI6IDQsICJwcmljZV91c2QiOiA2My4xOX1dfQ=="
        ],
        [
         "event_75",
         1.755227997686931E9,
         "eyJ1c2VyX2lkIjogInVzZXJfNTkwOCIsICJldmVudF90eXBlIjogInZpZXciLCAiZXZlbnRfdGltZXN0YW1wIjogIjIwMjUtMDgtMTVUMDM6MTk6NTcuNjg2OTIzIiwgIml0ZW1zIjogW3siaXRlbV9pZCI6ICJpdGVtXzk0OCIsICJxdWFudGl0eSI6IDEsICJwcmljZV91c2QiOiA5MS4xM31dfQ=="
        ],
        [
         "event_76",
         1.755227997686946E9,
         "eyJ1c2VyX2lkIjogInVzZXJfMTE4MyIsICJldmVudF90eXBlIjogInZpZXciLCAiZXZlbnRfdGltZXN0YW1wIjogIjIwMjUtMDgtMTVUMDM6MTk6NTcuNjg2OTMzIiwgIml0ZW1zIjogW3siaXRlbV9pZCI6ICJpdGVtXzc4MiIsICJxdWFudGl0eSI6IDMsICJwcmljZV91c2QiOiA5OC42Mn0sIHsiaXRlbV9pZCI6ICJpdGVtXzUwMiIsICJxdWFudGl0eSI6IDQsICJwcmljZV91c2QiOiA1NC41fSwgeyJpdGVtX2lkIjogIml0ZW1fNDc4IiwgInF1YW50aXR5IjogMywgInByaWNlX3VzZCI6IDI4LjI1fV19"
        ],
        [
         "event_77",
         1.755227997686967E9,
         "eyJ1c2VyX2lkIjogInVzZXJfNjgyNCIsICJldmVudF90eXBlIjogImNsaWNrIiwgImV2ZW50X3RpbWVzdGFtcCI6ICIyMDI1LTA4LTE1VDAzOjE5OjU3LjY4Njk0OCIsICJpdGVtcyI6IFt7Iml0ZW1faWQiOiAiaXRlbV81MDUiLCAicXVhbnRpdHkiOiAzLCAicHJpY2VfdXNkIjogNzkuMjd9LCB7Iml0ZW1faWQiOiAiaXRlbV8xOTAiLCAicXVhbnRpdHkiOiAxLCAicHJpY2VfdXNkIjogNDcuNzR9XX0="
        ],
        [
         "event_78",
         1.755227997686991E9,
         "eyJ1c2VyX2lkIjogInVzZXJfODcwNCIsICJldmVudF90eXBlIjogImNsaWNrIiwgImV2ZW50X3RpbWVzdGFtcCI6ICIyMDI1LTA4LTE1VDAzOjE5OjU3LjY4Njk3MSIsICJpdGVtcyI6IFt7Iml0ZW1faWQiOiAiaXRlbV8xMTAiLCAicXVhbnRpdHkiOiAxLCAicHJpY2VfdXNkIjogNjQuOH0sIHsiaXRlbV9pZCI6ICJpdGVtXzQ4MyIsICJxdWFudGl0eSI6IDEsICJwcmljZV91c2QiOiAyMy42NH0sIHsiaXRlbV9pZCI6ICJpdGVtXzMyNiIsICJxdWFudGl0eSI6IDQsICJwcmljZV91c2QiOiA5MC44Nn1dfQ=="
        ],
        [
         "event_79",
         1.755227997687007E9,
         "eyJ1c2VyX2lkIjogInVzZXJfMjAzOSIsICJldmVudF90eXBlIjogInZpZXciLCAiZXZlbnRfdGltZXN0YW1wIjogIjIwMjUtMDgtMTVUMDM6MTk6NTcuNjg2OTk0IiwgIml0ZW1zIjogW3siaXRlbV9pZCI6ICJpdGVtXzczMSIsICJxdWFudGl0eSI6IDQsICJwcmljZV91c2QiOiA2MS4yNn0sIHsiaXRlbV9pZCI6ICJpdGVtXzI4MyIsICJxdWFudGl0eSI6IDQsICJwcmljZV91c2QiOiAxNy4yMX0sIHsiaXRlbV9pZCI6ICJpdGVtXzU2NiIsICJxdWFudGl0eSI6IDEsICJwcmljZV91c2QiOiA5OC45Nn1dfQ=="
        ],
        [
         "event_80",
         1.755227997687017E9,
         "eyJ1c2VyX2lkIjogInVzZXJfNzQwNiIsICJldmVudF90eXBlIjogImNsaWNrIiwgImV2ZW50X3RpbWVzdGFtcCI6ICIyMDI1LTA4LTE1VDAzOjE5OjU3LjY4NzAwOSIsICJpdGVtcyI6IFt7Iml0ZW1faWQiOiAiaXRlbV83MjciLCAicXVhbnRpdHkiOiAyLCAicHJpY2VfdXNkIjogNzMuOTR9XX0="
        ],
        [
         "event_81",
         1.755227997687026E9,
         "eyJ1c2VyX2lkIjogInVzZXJfMzM5OCIsICJldmVudF90eXBlIjogInZpZXciLCAiZXZlbnRfdGltZXN0YW1wIjogIjIwMjUtMDgtMTVUMDM6MTk6NTcuNjg3MDE5IiwgIml0ZW1zIjogW3siaXRlbV9pZCI6ICJpdGVtXzI2NyIsICJxdWFudGl0eSI6IDIsICJwcmljZV91c2QiOiA3MC43fV19"
        ],
        [
         "event_82",
         1.755227997687042E9,
         "eyJ1c2VyX2lkIjogInVzZXJfNjYwNiIsICJldmVudF90eXBlIjogInB1cmNoYXNlIiwgImV2ZW50X3RpbWVzdGFtcCI6ICIyMDI1LTA4LTE1VDAzOjE5OjU3LjY4NzAyOCIsICJpdGVtcyI6IFt7Iml0ZW1faWQiOiAiaXRlbV8xNzEiLCAicXVhbnRpdHkiOiAxLCAicHJpY2VfdXNkIjogMzIuMDd9LCB7Iml0ZW1faWQiOiAiaXRlbV8zNzUiLCAicXVhbnRpdHkiOiAxLCAicHJpY2VfdXNkIjogMjguOX0sIHsiaXRlbV9pZCI6ICJpdGVtXzUyNCIsICJxdWFudGl0eSI6IDUsICJwcmljZV91c2QiOiA4Ni4xNX1dfQ=="
        ],
        [
         "event_83",
         1.755227997687054E9,
         "eyJ1c2VyX2lkIjogInVzZXJfMzg2OCIsICJldmVudF90eXBlIjogInB1cmNoYXNlIiwgImV2ZW50X3RpbWVzdGFtcCI6ICIyMDI1LTA4LTE1VDAzOjE5OjU3LjY4NzA0NCIsICJpdGVtcyI6IFt7Iml0ZW1faWQiOiAiaXRlbV82MjciLCAicXVhbnRpdHkiOiAzLCAicHJpY2VfdXNkIjogNzguNjN9LCB7Iml0ZW1faWQiOiAiaXRlbV82NTkiLCAicXVhbnRpdHkiOiA0LCAicHJpY2VfdXNkIjogMTMuNTN9XX0="
        ],
        [
         "event_84",
         1.75522799768707E9,
         "eyJ1c2VyX2lkIjogInVzZXJfMTE2MiIsICJldmVudF90eXBlIjogInZpZXciLCAiZXZlbnRfdGltZXN0YW1wIjogIjIwMjUtMDgtMTVUMDM6MTk6NTcuNjg3MDU2IiwgIml0ZW1zIjogW3siaXRlbV9pZCI6ICJpdGVtXzkyOCIsICJxdWFudGl0eSI6IDUsICJwcmljZV91c2QiOiA0MC44OX0sIHsiaXRlbV9pZCI6ICJpdGVtXzI3MSIsICJxdWFudGl0eSI6IDUsICJwcmljZV91c2QiOiAyNy4yOH0sIHsiaXRlbV9pZCI6ICJpdGVtXzQ4NyIsICJxdWFudGl0eSI6IDIsICJwcmljZV91c2QiOiA4Ni4zOH1dfQ=="
        ],
        [
         "event_85",
         1.755227997687082E9,
         "eyJ1c2VyX2lkIjogInVzZXJfNDU4OCIsICJldmVudF90eXBlIjogInB1cmNoYXNlIiwgImV2ZW50X3RpbWVzdGFtcCI6ICIyMDI1LTA4LTE1VDAzOjE5OjU3LjY4NzA3MSIsICJpdGVtcyI6IFt7Iml0ZW1faWQiOiAiaXRlbV8xODMiLCAicXVhbnRpdHkiOiAxLCAicHJpY2VfdXNkIjogOTAuMzV9LCB7Iml0ZW1faWQiOiAiaXRlbV81OTgiLCAicXVhbnRpdHkiOiAzLCAicHJpY2VfdXNkIjogMjYuODN9XX0="
        ],
        [
         "event_86",
         1.755227997687091E9,
         "eyJ1c2VyX2lkIjogInVzZXJfOTI5MiIsICJldmVudF90eXBlIjogInZpZXciLCAiZXZlbnRfdGltZXN0YW1wIjogIjIwMjUtMDgtMTVUMDM6MTk6NTcuNjg3MDg0IiwgIml0ZW1zIjogW3siaXRlbV9pZCI6ICJpdGVtXzcxMyIsICJxdWFudGl0eSI6IDQsICJwcmljZV91c2QiOiAxOC42MX1dfQ=="
        ],
        [
         "event_87",
         1.755227997687107E9,
         "eyJ1c2VyX2lkIjogInVzZXJfOTQwOSIsICJldmVudF90eXBlIjogInZpZXciLCAiZXZlbnRfdGltZXN0YW1wIjogIjIwMjUtMDgtMTVUMDM6MTk6NTcuNjg3MDkzIiwgIml0ZW1zIjogW3siaXRlbV9pZCI6ICJpdGVtXzMwNSIsICJxdWFudGl0eSI6IDUsICJwcmljZV91c2QiOiA4OC4yNX0sIHsiaXRlbV9pZCI6ICJpdGVtXzU0NyIsICJxdWFudGl0eSI6IDIsICJwcmljZV91c2QiOiA4Ni43NX0sIHsiaXRlbV9pZCI6ICJpdGVtXzMwMyIsICJxdWFudGl0eSI6IDEsICJwcmljZV91c2QiOiAxNS4wfV19"
        ],
        [
         "event_88",
         1.75522799768712E9,
         "eyJ1c2VyX2lkIjogInVzZXJfNjM3MiIsICJldmVudF90eXBlIjogImNsaWNrIiwgImV2ZW50X3RpbWVzdGFtcCI6ICIyMDI1LTA4LTE1VDAzOjE5OjU3LjY4NzEwOSIsICJpdGVtcyI6IFt7Iml0ZW1faWQiOiAiaXRlbV8xOTQiLCAicXVhbnRpdHkiOiAyLCAicHJpY2VfdXNkIjogNzEuNDN9XX0="
        ],
        [
         "event_89",
         1.755227997687136E9,
         "eyJ1c2VyX2lkIjogInVzZXJfMjEzMSIsICJldmVudF90eXBlIjogInB1cmNoYXNlIiwgImV2ZW50X3RpbWVzdGFtcCI6ICIyMDI1LTA4LTE1VDAzOjE5OjU3LjY4NzEyMiIsICJpdGVtcyI6IFt7Iml0ZW1faWQiOiAiaXRlbV8yNjIiLCAicXVhbnRpdHkiOiA1LCAicHJpY2VfdXNkIjogNzUuMn0sIHsiaXRlbV9pZCI6ICJpdGVtXzMzNCIsICJxdWFudGl0eSI6IDEsICJwcmljZV91c2QiOiAxNC4yN31dfQ=="
        ],
        [
         "event_90",
         1.755227997687149E9,
         "eyJ1c2VyX2lkIjogInVzZXJfNjMxMCIsICJldmVudF90eXBlIjogInB1cmNoYXNlIiwgImV2ZW50X3RpbWVzdGFtcCI6ICIyMDI1LTA4LTE1VDAzOjE5OjU3LjY4NzEzOCIsICJpdGVtcyI6IFt7Iml0ZW1faWQiOiAiaXRlbV82MjYiLCAicXVhbnRpdHkiOiAxLCAicHJpY2VfdXNkIjogNjYuNDZ9LCB7Iml0ZW1faWQiOiAiaXRlbV8yNDEiLCAicXVhbnRpdHkiOiA1LCAicHJpY2VfdXNkIjogODMuNTV9XX0="
        ],
        [
         "event_91",
         1.755227997687166E9,
         "eyJ1c2VyX2lkIjogInVzZXJfNjEyMSIsICJldmVudF90eXBlIjogImNsaWNrIiwgImV2ZW50X3RpbWVzdGFtcCI6ICIyMDI1LTA4LTE1VDAzOjE5OjU3LjY4NzE1MiIsICJpdGVtcyI6IFt7Iml0ZW1faWQiOiAiaXRlbV8zNjkiLCAicXVhbnRpdHkiOiA1LCAicHJpY2VfdXNkIjogMTkuNjR9XX0="
        ],
        [
         "event_92",
         1.755227997687184E9,
         "eyJ1c2VyX2lkIjogInVzZXJfNDc2NSIsICJldmVudF90eXBlIjogImNsaWNrIiwgImV2ZW50X3RpbWVzdGFtcCI6ICIyMDI1LTA4LTE1VDAzOjE5OjU3LjY4NzE3MCIsICJpdGVtcyI6IFt7Iml0ZW1faWQiOiAiaXRlbV82NzAiLCAicXVhbnRpdHkiOiAyLCAicHJpY2VfdXNkIjogMzUuNTh9LCB7Iml0ZW1faWQiOiAiaXRlbV83NzEiLCAicXVhbnRpdHkiOiA1LCAicHJpY2VfdXNkIjogNDguNjh9LCB7Iml0ZW1faWQiOiAiaXRlbV8yMzkiLCAicXVhbnRpdHkiOiA0LCAicHJpY2VfdXNkIjogMTkuODd9XX0="
        ],
        [
         "event_93",
         1.755227997687209E9,
         "eyJ1c2VyX2lkIjogInVzZXJfMTIwMCIsICJldmVudF90eXBlIjogImNsaWNrIiwgImV2ZW50X3RpbWVzdGFtcCI6ICIyMDI1LTA4LTE1VDAzOjE5OjU3LjY4NzE4NyIsICJpdGVtcyI6IFt7Iml0ZW1faWQiOiAiaXRlbV85MTkiLCAicXVhbnRpdHkiOiAyLCAicHJpY2VfdXNkIjogOTkuOTV9LCB7Iml0ZW1faWQiOiAiaXRlbV8xNTAiLCAicXVhbnRpdHkiOiA0LCAicHJpY2VfdXNkIjogNTEuNDl9LCB7Iml0ZW1faWQiOiAiaXRlbV8zNTciLCAicXVhbnRpdHkiOiAzLCAicHJpY2VfdXNkIjogNzQuMTl9XX0="
        ],
        [
         "event_94",
         1.755227997687225E9,
         "eyJ1c2VyX2lkIjogInVzZXJfNDYyMyIsICJldmVudF90eXBlIjogInZpZXciLCAiZXZlbnRfdGltZXN0YW1wIjogIjIwMjUtMDgtMTVUMDM6MTk6NTcuNjg3MjExIiwgIml0ZW1zIjogW3siaXRlbV9pZCI6ICJpdGVtXzMzOCIsICJxdWFudGl0eSI6IDQsICJwcmljZV91c2QiOiA5Mi40OH0sIHsiaXRlbV9pZCI6ICJpdGVtXzQ3MCIsICJxdWFudGl0eSI6IDUsICJwcmljZV91c2QiOiAzMC4wM30sIHsiaXRlbV9pZCI6ICJpdGVtXzUzMiIsICJxdWFudGl0eSI6IDUsICJwcmljZV91c2QiOiAzMi45M31dfQ=="
        ],
        [
         "event_95",
         1.755227997687235E9,
         "eyJ1c2VyX2lkIjogInVzZXJfNzc0MiIsICJldmVudF90eXBlIjogImNsaWNrIiwgImV2ZW50X3RpbWVzdGFtcCI6ICIyMDI1LTA4LTE1VDAzOjE5OjU3LjY4NzIyNyIsICJpdGVtcyI6IFt7Iml0ZW1faWQiOiAiaXRlbV80OTkiLCAicXVhbnRpdHkiOiAxLCAicHJpY2VfdXNkIjogNDkuNjV9XX0="
        ],
        [
         "event_96",
         1.755227997687268E9,
         "eyJ1c2VyX2lkIjogInVzZXJfMzUwNiIsICJldmVudF90eXBlIjogInZpZXciLCAiZXZlbnRfdGltZXN0YW1wIjogIjIwMjUtMDgtMTVUMDM6MTk6NTcuNjg3MjM3IiwgIml0ZW1zIjogW3siaXRlbV9pZCI6ICJpdGVtXzk0MiIsICJxdWFudGl0eSI6IDEsICJwcmljZV91c2QiOiAyMy4wN30sIHsiaXRlbV9pZCI6ICJpdGVtXzU5MyIsICJxdWFudGl0eSI6IDMsICJwcmljZV91c2QiOiA1Mi40Nn0sIHsiaXRlbV9pZCI6ICJpdGVtXzgyMyIsICJxdWFudGl0eSI6IDUsICJwcmljZV91c2QiOiA2MS44fV19"
        ],
        [
         "event_97",
         1.755227997687279E9,
         "eyJ1c2VyX2lkIjogInVzZXJfNTEwMiIsICJldmVudF90eXBlIjogImNsaWNrIiwgImV2ZW50X3RpbWVzdGFtcCI6ICIyMDI1LTA4LTE1VDAzOjE5OjU3LjY4NzI3MSIsICJpdGVtcyI6IFt7Iml0ZW1faWQiOiAiaXRlbV8yMDYiLCAicXVhbnRpdHkiOiAxLCAicHJpY2VfdXNkIjogOTIuMDJ9XX0="
        ],
        [
         "event_98",
         1.755227997687288E9,
         "eyJ1c2VyX2lkIjogInVzZXJfMjc1MSIsICJldmVudF90eXBlIjogInZpZXciLCAiZXZlbnRfdGltZXN0YW1wIjogIjIwMjUtMDgtMTVUMDM6MTk6NTcuNjg3MjgwIiwgIml0ZW1zIjogW3siaXRlbV9pZCI6ICJpdGVtXzc3MSIsICJxdWFudGl0eSI6IDUsICJwcmljZV91c2QiOiAyNi42fV19"
        ],
        [
         "event_99",
         1.755227997687304E9,
         "eyJ1c2VyX2lkIjogInVzZXJfNTQyMCIsICJldmVudF90eXBlIjogInZpZXciLCAiZXZlbnRfdGltZXN0YW1wIjogIjIwMjUtMDgtMTVUMDM6MTk6NTcuNjg3MjkwIiwgIml0ZW1zIjogW3siaXRlbV9pZCI6ICJpdGVtXzc2MiIsICJxdWFudGl0eSI6IDMsICJwcmljZV91c2QiOiA5MS44OH0sIHsiaXRlbV9pZCI6ICJpdGVtXzc2NiIsICJxdWFudGl0eSI6IDUsICJwcmljZV91c2QiOiA4Ni44NX0sIHsiaXRlbV9pZCI6ICJpdGVtXzIxMSIsICJxdWFudGl0eSI6IDQsICJwcmljZV91c2QiOiAxMC45N31dfQ=="
        ]
       ],
       "datasetInfos": [],
       "dbfsResultPath": null,
       "isJsonSchema": true,
       "metadata": {},
       "overflow": false,
       "plotOptions": {
        "customPlotOptions": {},
        "displayType": "table",
        "pivotAggregation": null,
        "pivotColumns": null,
        "xColumns": null,
        "yColumns": null
       },
       "removedWidgets": [],
       "schema": [
        {
         "metadata": "{}",
         "name": "key",
         "type": "\"string\""
        },
        {
         "metadata": "{}",
         "name": "timestamp",
         "type": "\"double\""
        },
        {
         "metadata": "{}",
         "name": "value",
         "type": "\"string\""
        }
       ],
       "type": "table"
      }
     },
     "output_type": "display_data"
    }
   ],
   "source": [
    "%python\n",
    "spark.sql(f'''\n",
    "          SELECT * \n",
    "          FROM json.`{DA.paths.working_dir}/json_demo_files/lab_kafka_events.json`\n",
    "          ''').display()"
   ]
  },
  {
   "cell_type": "markdown",
   "metadata": {
    "application/vnd.databricks.v1+cell": {
     "cellMetadata": {
      "byteLimit": 2048000,
      "rowLimit": 10000
     },
     "inputWidgets": {},
     "nuid": "eeeab0ba-5098-4f6e-a641-c034af33dbde",
     "showTitle": false,
     "tableResultSettingsMap": {},
     "title": ""
    }
   },
   "source": [
    "### B2. Create the Raw Bronze Table\n",
    "\n",
    "Inspect and run the code below to ingest the raw JSON file `/Volumes/dbacademy/ops/your-labuser-name/json_demo_files/lab_kafka_events.json` and create the **lab7_lab_kafka_events_raw** table.\n",
    "\n",
    "Notice the following:\n",
    "- The **value** column is decoded.\n",
    "- The **decoded_value** column was created and returns the decoded column as a JSON-formatted string.\n"
   ]
  },
  {
   "cell_type": "code",
   "execution_count": 0,
   "metadata": {
    "application/vnd.databricks.v1+cell": {
     "cellMetadata": {
      "byteLimit": 2048000,
      "rowLimit": 10000
     },
     "inputWidgets": {},
     "nuid": "347c7f61-0707-4097-b94f-eedfb88dd49a",
     "showTitle": false,
     "tableResultSettingsMap": {},
     "title": ""
    }
   },
   "outputs": [
    {
     "output_type": "display_data",
     "data": {
      "text/html": [
       "<style scoped>\n",
       "  .table-result-container {\n",
       "    max-height: 300px;\n",
       "    overflow: auto;\n",
       "  }\n",
       "  table, th, td {\n",
       "    border: 1px solid black;\n",
       "    border-collapse: collapse;\n",
       "  }\n",
       "  th, td {\n",
       "    padding: 5px;\n",
       "  }\n",
       "  th {\n",
       "    text-align: left;\n",
       "  }\n",
       "</style><div class='table-result-container'><table class='table-result'><thead style='background-color: white'><tr><th>key</th><th>timestamp</th><th>value</th><th>_rescued_data</th><th>decoded_value</th></tr></thead><tbody><tr><td>event_0</td><td>1.755227997685932E9</td><td>eyJ1c2VyX2lkIjogInVzZXJfOTQ0MiIsICJldmVudF90eXBlIjogInZpZXciLCAiZXZlbnRfdGltZXN0YW1wIjogIjIwMjUtMDgtMTVUMDM6MTk6NTcuNjg1ODg1IiwgIml0ZW1zIjogW3siaXRlbV9pZCI6ICJpdGVtXzE3NSIsICJxdWFudGl0eSI6IDMsICJwcmljZV91c2QiOiAyNi4zNH0sIHsiaXRlbV9pZCI6ICJpdGVtXzMwOCIsICJxdWFudGl0eSI6IDIsICJwcmljZV91c2QiOiAzOC40Mn1dfQ==</td><td>null</td><td>{\"user_id\": \"user_9442\", \"event_type\": \"view\", \"event_timestamp\": \"2025-08-15T03:19:57.685885\", \"items\": [{\"item_id\": \"item_175\", \"quantity\": 3, \"price_usd\": 26.34}, {\"item_id\": \"item_308\", \"quantity\": 2, \"price_usd\": 38.42}]}</td></tr><tr><td>event_1</td><td>1.755227997685954E9</td><td>eyJ1c2VyX2lkIjogInVzZXJfNjIwMiIsICJldmVudF90eXBlIjogInB1cmNoYXNlIiwgImV2ZW50X3RpbWVzdGFtcCI6ICIyMDI1LTA4LTE1VDAzOjE5OjU3LjY4NTkzOCIsICJpdGVtcyI6IFt7Iml0ZW1faWQiOiAiaXRlbV85MDUiLCAicXVhbnRpdHkiOiAxLCAicHJpY2VfdXNkIjogMTMuMDR9XX0=</td><td>null</td><td>{\"user_id\": \"user_6202\", \"event_type\": \"purchase\", \"event_timestamp\": \"2025-08-15T03:19:57.685938\", \"items\": [{\"item_id\": \"item_905\", \"quantity\": 1, \"price_usd\": 13.04}]}</td></tr><tr><td>event_2</td><td>1.75522799768597E9</td><td>eyJ1c2VyX2lkIjogInVzZXJfMTg1NCIsICJldmVudF90eXBlIjogImNsaWNrIiwgImV2ZW50X3RpbWVzdGFtcCI6ICIyMDI1LTA4LTE1VDAzOjE5OjU3LjY4NTk1NyIsICJpdGVtcyI6IFt7Iml0ZW1faWQiOiAiaXRlbV81NjYiLCAicXVhbnRpdHkiOiAxLCAicHJpY2VfdXNkIjogNTEuNjN9LCB7Iml0ZW1faWQiOiAiaXRlbV8zMTAiLCAicXVhbnRpdHkiOiAyLCAicHJpY2VfdXNkIjogMTYuOTl9XX0=</td><td>null</td><td>{\"user_id\": \"user_1854\", \"event_type\": \"click\", \"event_timestamp\": \"2025-08-15T03:19:57.685957\", \"items\": [{\"item_id\": \"item_566\", \"quantity\": 1, \"price_usd\": 51.63}, {\"item_id\": \"item_310\", \"quantity\": 2, \"price_usd\": 16.99}]}</td></tr><tr><td>event_3</td><td>1.755227997685985E9</td><td>eyJ1c2VyX2lkIjogInVzZXJfOTQzMCIsICJldmVudF90eXBlIjogImNsaWNrIiwgImV2ZW50X3RpbWVzdGFtcCI6ICIyMDI1LTA4LTE1VDAzOjE5OjU3LjY4NTk3MyIsICJpdGVtcyI6IFt7Iml0ZW1faWQiOiAiaXRlbV81NjYiLCAicXVhbnRpdHkiOiAzLCAicHJpY2VfdXNkIjogMzcuMDN9LCB7Iml0ZW1faWQiOiAiaXRlbV80MzYiLCAicXVhbnRpdHkiOiA1LCAicHJpY2VfdXNkIjogODUuMzZ9XX0=</td><td>null</td><td>{\"user_id\": \"user_9430\", \"event_type\": \"click\", \"event_timestamp\": \"2025-08-15T03:19:57.685973\", \"items\": [{\"item_id\": \"item_566\", \"quantity\": 3, \"price_usd\": 37.03}, {\"item_id\": \"item_436\", \"quantity\": 5, \"price_usd\": 85.36}]}</td></tr><tr><td>event_4</td><td>1.755227997685996E9</td><td>eyJ1c2VyX2lkIjogInVzZXJfNzc4NiIsICJldmVudF90eXBlIjogInB1cmNoYXNlIiwgImV2ZW50X3RpbWVzdGFtcCI6ICIyMDI1LTA4LTE1VDAzOjE5OjU3LjY4NTk4NyIsICJpdGVtcyI6IFt7Iml0ZW1faWQiOiAiaXRlbV8zNjYiLCAicXVhbnRpdHkiOiAxLCAicHJpY2VfdXNkIjogNDYuMDl9XX0=</td><td>null</td><td>{\"user_id\": \"user_7786\", \"event_type\": \"purchase\", \"event_timestamp\": \"2025-08-15T03:19:57.685987\", \"items\": [{\"item_id\": \"item_366\", \"quantity\": 1, \"price_usd\": 46.09}]}</td></tr><tr><td>event_5</td><td>1.755227997686006E9</td><td>eyJ1c2VyX2lkIjogInVzZXJfNDE3NSIsICJldmVudF90eXBlIjogImNsaWNrIiwgImV2ZW50X3RpbWVzdGFtcCI6ICIyMDI1LTA4LTE1VDAzOjE5OjU3LjY4NTk5OCIsICJpdGVtcyI6IFt7Iml0ZW1faWQiOiAiaXRlbV80NjAiLCAicXVhbnRpdHkiOiA0LCAicHJpY2VfdXNkIjogMjUuOTN9XX0=</td><td>null</td><td>{\"user_id\": \"user_4175\", \"event_type\": \"click\", \"event_timestamp\": \"2025-08-15T03:19:57.685998\", \"items\": [{\"item_id\": \"item_460\", \"quantity\": 4, \"price_usd\": 25.93}]}</td></tr><tr><td>event_6</td><td>1.755227997686019E9</td><td>eyJ1c2VyX2lkIjogInVzZXJfMjE1OSIsICJldmVudF90eXBlIjogImNsaWNrIiwgImV2ZW50X3RpbWVzdGFtcCI6ICIyMDI1LTA4LTE1VDAzOjE5OjU3LjY4NjAwOCIsICJpdGVtcyI6IFt7Iml0ZW1faWQiOiAiaXRlbV8zNjYiLCAicXVhbnRpdHkiOiA0LCAicHJpY2VfdXNkIjogNTcuNDN9LCB7Iml0ZW1faWQiOiAiaXRlbV8xMzIiLCAicXVhbnRpdHkiOiA1LCAicHJpY2VfdXNkIjogNjQuNTR9XX0=</td><td>null</td><td>{\"user_id\": \"user_2159\", \"event_type\": \"click\", \"event_timestamp\": \"2025-08-15T03:19:57.686008\", \"items\": [{\"item_id\": \"item_366\", \"quantity\": 4, \"price_usd\": 57.43}, {\"item_id\": \"item_132\", \"quantity\": 5, \"price_usd\": 64.54}]}</td></tr><tr><td>event_7</td><td>1.755227997686036E9</td><td>eyJ1c2VyX2lkIjogInVzZXJfNzM4NiIsICJldmVudF90eXBlIjogImNsaWNrIiwgImV2ZW50X3RpbWVzdGFtcCI6ICIyMDI1LTA4LTE1VDAzOjE5OjU3LjY4NjAyMSIsICJpdGVtcyI6IFt7Iml0ZW1faWQiOiAiaXRlbV84OTQiLCAicXVhbnRpdHkiOiAyLCAicHJpY2VfdXNkIjogNDguMDd9LCB7Iml0ZW1faWQiOiAiaXRlbV83MjYiLCAicXVhbnRpdHkiOiA0LCAicHJpY2VfdXNkIjogMzguMjd9LCB7Iml0ZW1faWQiOiAiaXRlbV83NzkiLCAicXVhbnRpdHkiOiAxLCAicHJpY2VfdXNkIjogODMuMTV9XX0=</td><td>null</td><td>{\"user_id\": \"user_7386\", \"event_type\": \"click\", \"event_timestamp\": \"2025-08-15T03:19:57.686021\", \"items\": [{\"item_id\": \"item_894\", \"quantity\": 2, \"price_usd\": 48.07}, {\"item_id\": \"item_726\", \"quantity\": 4, \"price_usd\": 38.27}, {\"item_id\": \"item_779\", \"quantity\": 1, \"price_usd\": 83.15}]}</td></tr><tr><td>event_8</td><td>1.755227997686053E9</td><td>eyJ1c2VyX2lkIjogInVzZXJfODg1NyIsICJldmVudF90eXBlIjogImNsaWNrIiwgImV2ZW50X3RpbWVzdGFtcCI6ICIyMDI1LTA4LTE1VDAzOjE5OjU3LjY4NjAzOSIsICJpdGVtcyI6IFt7Iml0ZW1faWQiOiAiaXRlbV82ODMiLCAicXVhbnRpdHkiOiA1LCAicHJpY2VfdXNkIjogMjMuMDF9LCB7Iml0ZW1faWQiOiAiaXRlbV81MjciLCAicXVhbnRpdHkiOiAxLCAicHJpY2VfdXNkIjogMjMuMjV9LCB7Iml0ZW1faWQiOiAiaXRlbV83NjAiLCAicXVhbnRpdHkiOiA0LCAicHJpY2VfdXNkIjogNDQuNjV9XX0=</td><td>null</td><td>{\"user_id\": \"user_8857\", \"event_type\": \"click\", \"event_timestamp\": \"2025-08-15T03:19:57.686039\", \"items\": [{\"item_id\": \"item_683\", \"quantity\": 5, \"price_usd\": 23.01}, {\"item_id\": \"item_527\", \"quantity\": 1, \"price_usd\": 23.25}, {\"item_id\": \"item_760\", \"quantity\": 4, \"price_usd\": 44.65}]}</td></tr><tr><td>event_9</td><td>1.755227997686064E9</td><td>eyJ1c2VyX2lkIjogInVzZXJfOTgxOSIsICJldmVudF90eXBlIjogInZpZXciLCAiZXZlbnRfdGltZXN0YW1wIjogIjIwMjUtMDgtMTVUMDM6MTk6NTcuNjg2MDU1IiwgIml0ZW1zIjogW3siaXRlbV9pZCI6ICJpdGVtXzE1NyIsICJxdWFudGl0eSI6IDIsICJwcmljZV91c2QiOiA2Ny45MX1dfQ==</td><td>null</td><td>{\"user_id\": \"user_9819\", \"event_type\": \"view\", \"event_timestamp\": \"2025-08-15T03:19:57.686055\", \"items\": [{\"item_id\": \"item_157\", \"quantity\": 2, \"price_usd\": 67.91}]}</td></tr><tr><td>event_10</td><td>1.755227997686074E9</td><td>eyJ1c2VyX2lkIjogInVzZXJfODU4MSIsICJldmVudF90eXBlIjogInZpZXciLCAiZXZlbnRfdGltZXN0YW1wIjogIjIwMjUtMDgtMTVUMDM6MTk6NTcuNjg2MDY2IiwgIml0ZW1zIjogW3siaXRlbV9pZCI6ICJpdGVtXzY3NiIsICJxdWFudGl0eSI6IDEsICJwcmljZV91c2QiOiA4NC4wMn1dfQ==</td><td>null</td><td>{\"user_id\": \"user_8581\", \"event_type\": \"view\", \"event_timestamp\": \"2025-08-15T03:19:57.686066\", \"items\": [{\"item_id\": \"item_676\", \"quantity\": 1, \"price_usd\": 84.02}]}</td></tr><tr><td>event_11</td><td>1.755227997686098E9</td><td>eyJ1c2VyX2lkIjogInVzZXJfMjg3MCIsICJldmVudF90eXBlIjogInZpZXciLCAiZXZlbnRfdGltZXN0YW1wIjogIjIwMjUtMDgtMTVUMDM6MTk6NTcuNjg2MDc2IiwgIml0ZW1zIjogW3siaXRlbV9pZCI6ICJpdGVtXzExNCIsICJxdWFudGl0eSI6IDQsICJwcmljZV91c2QiOiA5My42N30sIHsiaXRlbV9pZCI6ICJpdGVtXzk0MiIsICJxdWFudGl0eSI6IDIsICJwcmljZV91c2QiOiA5MC45Nn0sIHsiaXRlbV9pZCI6ICJpdGVtXzcyOSIsICJxdWFudGl0eSI6IDMsICJwcmljZV91c2QiOiA5MC42fV19</td><td>null</td><td>{\"user_id\": \"user_2870\", \"event_type\": \"view\", \"event_timestamp\": \"2025-08-15T03:19:57.686076\", \"items\": [{\"item_id\": \"item_114\", \"quantity\": 4, \"price_usd\": 93.67}, {\"item_id\": \"item_942\", \"quantity\": 2, \"price_usd\": 90.96}, {\"item_id\": \"item_729\", \"quantity\": 3, \"price_usd\": 90.6}]}</td></tr><tr><td>event_12</td><td>1.75522799768612E9</td><td>eyJ1c2VyX2lkIjogInVzZXJfODY0OSIsICJldmVudF90eXBlIjogInZpZXciLCAiZXZlbnRfdGltZXN0YW1wIjogIjIwMjUtMDgtMTVUMDM6MTk6NTcuNjg2MTAxIiwgIml0ZW1zIjogW3siaXRlbV9pZCI6ICJpdGVtXzg4NCIsICJxdWFudGl0eSI6IDEsICJwcmljZV91c2QiOiAzNS4zfSwgeyJpdGVtX2lkIjogIml0ZW1fMTk5IiwgInF1YW50aXR5IjogNSwgInByaWNlX3VzZCI6IDkwLjk3fV19</td><td>null</td><td>{\"user_id\": \"user_8649\", \"event_type\": \"view\", \"event_timestamp\": \"2025-08-15T03:19:57.686101\", \"items\": [{\"item_id\": \"item_884\", \"quantity\": 1, \"price_usd\": 35.3}, {\"item_id\": \"item_199\", \"quantity\": 5, \"price_usd\": 90.97}]}</td></tr><tr><td>event_13</td><td>1.755227997686145E9</td><td>eyJ1c2VyX2lkIjogInVzZXJfNDM2MiIsICJldmVudF90eXBlIjogInZpZXciLCAiZXZlbnRfdGltZXN0YW1wIjogIjIwMjUtMDgtMTVUMDM6MTk6NTcuNjg2MTIzIiwgIml0ZW1zIjogW3siaXRlbV9pZCI6ICJpdGVtXzk3MSIsICJxdWFudGl0eSI6IDUsICJwcmljZV91c2QiOiA4MS41M30sIHsiaXRlbV9pZCI6ICJpdGVtXzMxNyIsICJxdWFudGl0eSI6IDMsICJwcmljZV91c2QiOiAxNy4xMn0sIHsiaXRlbV9pZCI6ICJpdGVtXzkxNCIsICJxdWFudGl0eSI6IDIsICJwcmljZV91c2QiOiAxNC45fV19</td><td>null</td><td>{\"user_id\": \"user_4362\", \"event_type\": \"view\", \"event_timestamp\": \"2025-08-15T03:19:57.686123\", \"items\": [{\"item_id\": \"item_971\", \"quantity\": 5, \"price_usd\": 81.53}, {\"item_id\": \"item_317\", \"quantity\": 3, \"price_usd\": 17.12}, {\"item_id\": \"item_914\", \"quantity\": 2, \"price_usd\": 14.9}]}</td></tr><tr><td>event_14</td><td>1.755227997686159E9</td><td>eyJ1c2VyX2lkIjogInVzZXJfODM4OCIsICJldmVudF90eXBlIjogInZpZXciLCAiZXZlbnRfdGltZXN0YW1wIjogIjIwMjUtMDgtMTVUMDM6MTk6NTcuNjg2MTQ3IiwgIml0ZW1zIjogW3siaXRlbV9pZCI6ICJpdGVtXzg1NCIsICJxdWFudGl0eSI6IDUsICJwcmljZV91c2QiOiAzOC45N30sIHsiaXRlbV9pZCI6ICJpdGVtXzI4MyIsICJxdWFudGl0eSI6IDUsICJwcmljZV91c2QiOiAyMS4xMX1dfQ==</td><td>null</td><td>{\"user_id\": \"user_8388\", \"event_type\": \"view\", \"event_timestamp\": \"2025-08-15T03:19:57.686147\", \"items\": [{\"item_id\": \"item_854\", \"quantity\": 5, \"price_usd\": 38.97}, {\"item_id\": \"item_283\", \"quantity\": 5, \"price_usd\": 21.11}]}</td></tr><tr><td>event_15</td><td>1.755227997686174E9</td><td>eyJ1c2VyX2lkIjogInVzZXJfODg4NyIsICJldmVudF90eXBlIjogImNsaWNrIiwgImV2ZW50X3RpbWVzdGFtcCI6ICIyMDI1LTA4LTE1VDAzOjE5OjU3LjY4NjE2MSIsICJpdGVtcyI6IFt7Iml0ZW1faWQiOiAiaXRlbV84NjkiLCAicXVhbnRpdHkiOiA0LCAicHJpY2VfdXNkIjogODEuNTR9LCB7Iml0ZW1faWQiOiAiaXRlbV8xMjMiLCAicXVhbnRpdHkiOiAzLCAicHJpY2VfdXNkIjogMzEuNjF9LCB7Iml0ZW1faWQiOiAiaXRlbV8zODMiLCAicXVhbnRpdHkiOiA0LCAicHJpY2VfdXNkIjogNDMuOX1dfQ==</td><td>null</td><td>{\"user_id\": \"user_8887\", \"event_type\": \"click\", \"event_timestamp\": \"2025-08-15T03:19:57.686161\", \"items\": [{\"item_id\": \"item_869\", \"quantity\": 4, \"price_usd\": 81.54}, {\"item_id\": \"item_123\", \"quantity\": 3, \"price_usd\": 31.61}, {\"item_id\": \"item_383\", \"quantity\": 4, \"price_usd\": 43.9}]}</td></tr><tr><td>event_16</td><td>1.755227997686184E9</td><td>eyJ1c2VyX2lkIjogInVzZXJfMjg2MyIsICJldmVudF90eXBlIjogImNsaWNrIiwgImV2ZW50X3RpbWVzdGFtcCI6ICIyMDI1LTA4LTE1VDAzOjE5OjU3LjY4NjE3NiIsICJpdGVtcyI6IFt7Iml0ZW1faWQiOiAiaXRlbV8xNDYiLCAicXVhbnRpdHkiOiA0LCAicHJpY2VfdXNkIjogODkuOH1dfQ==</td><td>null</td><td>{\"user_id\": \"user_2863\", \"event_type\": \"click\", \"event_timestamp\": \"2025-08-15T03:19:57.686176\", \"items\": [{\"item_id\": \"item_146\", \"quantity\": 4, \"price_usd\": 89.8}]}</td></tr><tr><td>event_17</td><td>1.755227997686194E9</td><td>eyJ1c2VyX2lkIjogInVzZXJfMzU3OSIsICJldmVudF90eXBlIjogImNsaWNrIiwgImV2ZW50X3RpbWVzdGFtcCI6ICIyMDI1LTA4LTE1VDAzOjE5OjU3LjY4NjE4NiIsICJpdGVtcyI6IFt7Iml0ZW1faWQiOiAiaXRlbV8xODkiLCAicXVhbnRpdHkiOiAxLCAicHJpY2VfdXNkIjogMjUuOTN9XX0=</td><td>null</td><td>{\"user_id\": \"user_3579\", \"event_type\": \"click\", \"event_timestamp\": \"2025-08-15T03:19:57.686186\", \"items\": [{\"item_id\": \"item_189\", \"quantity\": 1, \"price_usd\": 25.93}]}</td></tr><tr><td>event_18</td><td>1.755227997686204E9</td><td>eyJ1c2VyX2lkIjogInVzZXJfMjcyNSIsICJldmVudF90eXBlIjogInZpZXciLCAiZXZlbnRfdGltZXN0YW1wIjogIjIwMjUtMDgtMTVUMDM6MTk6NTcuNjg2MTk2IiwgIml0ZW1zIjogW3siaXRlbV9pZCI6ICJpdGVtXzQyMSIsICJxdWFudGl0eSI6IDMsICJwcmljZV91c2QiOiA5OS44fV19</td><td>null</td><td>{\"user_id\": \"user_2725\", \"event_type\": \"view\", \"event_timestamp\": \"2025-08-15T03:19:57.686196\", \"items\": [{\"item_id\": \"item_421\", \"quantity\": 3, \"price_usd\": 99.8}]}</td></tr><tr><td>event_19</td><td>1.755227997686214E9</td><td>eyJ1c2VyX2lkIjogInVzZXJfNDEwMSIsICJldmVudF90eXBlIjogImNsaWNrIiwgImV2ZW50X3RpbWVzdGFtcCI6ICIyMDI1LTA4LTE1VDAzOjE5OjU3LjY4NjIwNiIsICJpdGVtcyI6IFt7Iml0ZW1faWQiOiAiaXRlbV83MzQiLCAicXVhbnRpdHkiOiA1LCAicHJpY2VfdXNkIjogMzkuMzd9XX0=</td><td>null</td><td>{\"user_id\": \"user_4101\", \"event_type\": \"click\", \"event_timestamp\": \"2025-08-15T03:19:57.686206\", \"items\": [{\"item_id\": \"item_734\", \"quantity\": 5, \"price_usd\": 39.37}]}</td></tr><tr><td>event_20</td><td>1.755227997686229E9</td><td>eyJ1c2VyX2lkIjogInVzZXJfMzI4NiIsICJldmVudF90eXBlIjogInZpZXciLCAiZXZlbnRfdGltZXN0YW1wIjogIjIwMjUtMDgtMTVUMDM6MTk6NTcuNjg2MjE2IiwgIml0ZW1zIjogW3siaXRlbV9pZCI6ICJpdGVtXzk0MiIsICJxdWFudGl0eSI6IDIsICJwcmljZV91c2QiOiA1NC42MX0sIHsiaXRlbV9pZCI6ICJpdGVtXzE1OCIsICJxdWFudGl0eSI6IDEsICJwcmljZV91c2QiOiA5My4xOH0sIHsiaXRlbV9pZCI6ICJpdGVtXzQ5NyIsICJxdWFudGl0eSI6IDEsICJwcmljZV91c2QiOiA5MC4wNn1dfQ==</td><td>null</td><td>{\"user_id\": \"user_3286\", \"event_type\": \"view\", \"event_timestamp\": \"2025-08-15T03:19:57.686216\", \"items\": [{\"item_id\": \"item_942\", \"quantity\": 2, \"price_usd\": 54.61}, {\"item_id\": \"item_158\", \"quantity\": 1, \"price_usd\": 93.18}, {\"item_id\": \"item_497\", \"quantity\": 1, \"price_usd\": 90.06}]}</td></tr><tr><td>event_21</td><td>1.755227997686239E9</td><td>eyJ1c2VyX2lkIjogInVzZXJfOTIzOSIsICJldmVudF90eXBlIjogImNsaWNrIiwgImV2ZW50X3RpbWVzdGFtcCI6ICIyMDI1LTA4LTE1VDAzOjE5OjU3LjY4NjIzMSIsICJpdGVtcyI6IFt7Iml0ZW1faWQiOiAiaXRlbV83NDIiLCAicXVhbnRpdHkiOiAyLCAicHJpY2VfdXNkIjogMzcuNzl9XX0=</td><td>null</td><td>{\"user_id\": \"user_9239\", \"event_type\": \"click\", \"event_timestamp\": \"2025-08-15T03:19:57.686231\", \"items\": [{\"item_id\": \"item_742\", \"quantity\": 2, \"price_usd\": 37.79}]}</td></tr><tr><td>event_22</td><td>1.755227997686252E9</td><td>eyJ1c2VyX2lkIjogInVzZXJfOTYzNiIsICJldmVudF90eXBlIjogInB1cmNoYXNlIiwgImV2ZW50X3RpbWVzdGFtcCI6ICIyMDI1LTA4LTE1VDAzOjE5OjU3LjY4NjI0MSIsICJpdGVtcyI6IFt7Iml0ZW1faWQiOiAiaXRlbV82OTAiLCAicXVhbnRpdHkiOiAxLCAicHJpY2VfdXNkIjogMjEuMTh9LCB7Iml0ZW1faWQiOiAiaXRlbV81NTUiLCAicXVhbnRpdHkiOiA1LCAicHJpY2VfdXNkIjogODcuNzl9XX0=</td><td>null</td><td>{\"user_id\": \"user_9636\", \"event_type\": \"purchase\", \"event_timestamp\": \"2025-08-15T03:19:57.686241\", \"items\": [{\"item_id\": \"item_690\", \"quantity\": 1, \"price_usd\": 21.18}, {\"item_id\": \"item_555\", \"quantity\": 5, \"price_usd\": 87.79}]}</td></tr><tr><td>event_23</td><td>1.755227997686262E9</td><td>eyJ1c2VyX2lkIjogInVzZXJfNDA5MCIsICJldmVudF90eXBlIjogInB1cmNoYXNlIiwgImV2ZW50X3RpbWVzdGFtcCI6ICIyMDI1LTA4LTE1VDAzOjE5OjU3LjY4NjI1NCIsICJpdGVtcyI6IFt7Iml0ZW1faWQiOiAiaXRlbV85NDUiLCAicXVhbnRpdHkiOiAxLCAicHJpY2VfdXNkIjogMTYuMzJ9XX0=</td><td>null</td><td>{\"user_id\": \"user_4090\", \"event_type\": \"purchase\", \"event_timestamp\": \"2025-08-15T03:19:57.686254\", \"items\": [{\"item_id\": \"item_945\", \"quantity\": 1, \"price_usd\": 16.32}]}</td></tr><tr><td>event_24</td><td>1.755227997686284E9</td><td>eyJ1c2VyX2lkIjogInVzZXJfOTE3NCIsICJldmVudF90eXBlIjogInB1cmNoYXNlIiwgImV2ZW50X3RpbWVzdGFtcCI6ICIyMDI1LTA4LTE1VDAzOjE5OjU3LjY4NjI2NCIsICJpdGVtcyI6IFt7Iml0ZW1faWQiOiAiaXRlbV83MzEiLCAicXVhbnRpdHkiOiAzLCAicHJpY2VfdXNkIjogMjUuMjN9XX0=</td><td>null</td><td>{\"user_id\": \"user_9174\", \"event_type\": \"purchase\", \"event_timestamp\": \"2025-08-15T03:19:57.686264\", \"items\": [{\"item_id\": \"item_731\", \"quantity\": 3, \"price_usd\": 25.23}]}</td></tr><tr><td>event_25</td><td>1.755227997686301E9</td><td>eyJ1c2VyX2lkIjogInVzZXJfNTM5OSIsICJldmVudF90eXBlIjogImNsaWNrIiwgImV2ZW50X3RpbWVzdGFtcCI6ICIyMDI1LTA4LTE1VDAzOjE5OjU3LjY4NjI4NyIsICJpdGVtcyI6IFt7Iml0ZW1faWQiOiAiaXRlbV84NDMiLCAicXVhbnRpdHkiOiA1LCAicHJpY2VfdXNkIjogOTguNzh9LCB7Iml0ZW1faWQiOiAiaXRlbV8yNTAiLCAicXVhbnRpdHkiOiAxLCAicHJpY2VfdXNkIjogODUuMjJ9LCB7Iml0ZW1faWQiOiAiaXRlbV82ODMiLCAicXVhbnRpdHkiOiA0LCAicHJpY2VfdXNkIjogNDUuMTV9XX0=</td><td>null</td><td>{\"user_id\": \"user_5399\", \"event_type\": \"click\", \"event_timestamp\": \"2025-08-15T03:19:57.686287\", \"items\": [{\"item_id\": \"item_843\", \"quantity\": 5, \"price_usd\": 98.78}, {\"item_id\": \"item_250\", \"quantity\": 1, \"price_usd\": 85.22}, {\"item_id\": \"item_683\", \"quantity\": 4, \"price_usd\": 45.15}]}</td></tr><tr><td>event_26</td><td>1.755227997686317E9</td><td>eyJ1c2VyX2lkIjogInVzZXJfNTY3NCIsICJldmVudF90eXBlIjogInB1cmNoYXNlIiwgImV2ZW50X3RpbWVzdGFtcCI6ICIyMDI1LTA4LTE1VDAzOjE5OjU3LjY4NjMwNCIsICJpdGVtcyI6IFt7Iml0ZW1faWQiOiAiaXRlbV8yMjIiLCAicXVhbnRpdHkiOiAzLCAicHJpY2VfdXNkIjogNDAuMjZ9LCB7Iml0ZW1faWQiOiAiaXRlbV83MzMiLCAicXVhbnRpdHkiOiAzLCAicHJpY2VfdXNkIjogNzkuMzZ9XX0=</td><td>null</td><td>{\"user_id\": \"user_5674\", \"event_type\": \"purchase\", \"event_timestamp\": \"2025-08-15T03:19:57.686304\", \"items\": [{\"item_id\": \"item_222\", \"quantity\": 3, \"price_usd\": 40.26}, {\"item_id\": \"item_733\", \"quantity\": 3, \"price_usd\": 79.36}]}</td></tr><tr><td>event_27</td><td>1.75522799768633E9</td><td>eyJ1c2VyX2lkIjogInVzZXJfMjk2MCIsICJldmVudF90eXBlIjogImNsaWNrIiwgImV2ZW50X3RpbWVzdGFtcCI6ICIyMDI1LTA4LTE1VDAzOjE5OjU3LjY4NjMxOSIsICJpdGVtcyI6IFt7Iml0ZW1faWQiOiAiaXRlbV81NjEiLCAicXVhbnRpdHkiOiA0LCAicHJpY2VfdXNkIjogMTMuODN9LCB7Iml0ZW1faWQiOiAiaXRlbV81OTkiLCAicXVhbnRpdHkiOiA0LCAicHJpY2VfdXNkIjogNDkuOTh9XX0=</td><td>null</td><td>{\"user_id\": \"user_2960\", \"event_type\": \"click\", \"event_timestamp\": \"2025-08-15T03:19:57.686319\", \"items\": [{\"item_id\": \"item_561\", \"quantity\": 4, \"price_usd\": 13.83}, {\"item_id\": \"item_599\", \"quantity\": 4, \"price_usd\": 49.98}]}</td></tr><tr><td>event_28</td><td>1.75522799768634E9</td><td>eyJ1c2VyX2lkIjogInVzZXJfNzIwMSIsICJldmVudF90eXBlIjogImNsaWNrIiwgImV2ZW50X3RpbWVzdGFtcCI6ICIyMDI1LTA4LTE1VDAzOjE5OjU3LjY4NjMzMiIsICJpdGVtcyI6IFt7Iml0ZW1faWQiOiAiaXRlbV82OTciLCAicXVhbnRpdHkiOiAzLCAicHJpY2VfdXNkIjogMzIuNDV9XX0=</td><td>null</td><td>{\"user_id\": \"user_7201\", \"event_type\": \"click\", \"event_timestamp\": \"2025-08-15T03:19:57.686332\", \"items\": [{\"item_id\": \"item_697\", \"quantity\": 3, \"price_usd\": 32.45}]}</td></tr><tr><td>event_29</td><td>1.755227997686352E9</td><td>eyJ1c2VyX2lkIjogInVzZXJfNjgxNSIsICJldmVudF90eXBlIjogInB1cmNoYXNlIiwgImV2ZW50X3RpbWVzdGFtcCI6ICIyMDI1LTA4LTE1VDAzOjE5OjU3LjY4NjM0MiIsICJpdGVtcyI6IFt7Iml0ZW1faWQiOiAiaXRlbV8zMDIiLCAicXVhbnRpdHkiOiAyLCAicHJpY2VfdXNkIjogNTMuNjh9LCB7Iml0ZW1faWQiOiAiaXRlbV8xNTIiLCAicXVhbnRpdHkiOiA0LCAicHJpY2VfdXNkIjogMTcuNzN9XX0=</td><td>null</td><td>{\"user_id\": \"user_6815\", \"event_type\": \"purchase\", \"event_timestamp\": \"2025-08-15T03:19:57.686342\", \"items\": [{\"item_id\": \"item_302\", \"quantity\": 2, \"price_usd\": 53.68}, {\"item_id\": \"item_152\", \"quantity\": 4, \"price_usd\": 17.73}]}</td></tr><tr><td>event_30</td><td>1.755227997686362E9</td><td>eyJ1c2VyX2lkIjogInVzZXJfMTk3NCIsICJldmVudF90eXBlIjogImNsaWNrIiwgImV2ZW50X3RpbWVzdGFtcCI6ICIyMDI1LTA4LTE1VDAzOjE5OjU3LjY4NjM1NCIsICJpdGVtcyI6IFt7Iml0ZW1faWQiOiAiaXRlbV82NTUiLCAicXVhbnRpdHkiOiAxLCAicHJpY2VfdXNkIjogNTguOTF9XX0=</td><td>null</td><td>{\"user_id\": \"user_1974\", \"event_type\": \"click\", \"event_timestamp\": \"2025-08-15T03:19:57.686354\", \"items\": [{\"item_id\": \"item_655\", \"quantity\": 1, \"price_usd\": 58.91}]}</td></tr><tr><td>event_31</td><td>1.755227997686375E9</td><td>eyJ1c2VyX2lkIjogInVzZXJfMzQ5OSIsICJldmVudF90eXBlIjogInB1cmNoYXNlIiwgImV2ZW50X3RpbWVzdGFtcCI6ICIyMDI1LTA4LTE1VDAzOjE5OjU3LjY4NjM2NCIsICJpdGVtcyI6IFt7Iml0ZW1faWQiOiAiaXRlbV8xNjYiLCAicXVhbnRpdHkiOiA0LCAicHJpY2VfdXNkIjogNjguODV9LCB7Iml0ZW1faWQiOiAiaXRlbV8xNzIiLCAicXVhbnRpdHkiOiAyLCAicHJpY2VfdXNkIjogMTUuMjl9XX0=</td><td>null</td><td>{\"user_id\": \"user_3499\", \"event_type\": \"purchase\", \"event_timestamp\": \"2025-08-15T03:19:57.686364\", \"items\": [{\"item_id\": \"item_166\", \"quantity\": 4, \"price_usd\": 68.85}, {\"item_id\": \"item_172\", \"quantity\": 2, \"price_usd\": 15.29}]}</td></tr><tr><td>event_32</td><td>1.755227997686385E9</td><td>eyJ1c2VyX2lkIjogInVzZXJfNTM2MSIsICJldmVudF90eXBlIjogInB1cmNoYXNlIiwgImV2ZW50X3RpbWVzdGFtcCI6ICIyMDI1LTA4LTE1VDAzOjE5OjU3LjY4NjM3NyIsICJpdGVtcyI6IFt7Iml0ZW1faWQiOiAiaXRlbV84MjciLCAicXVhbnRpdHkiOiAxLCAicHJpY2VfdXNkIjogNjUuOTh9XX0=</td><td>null</td><td>{\"user_id\": \"user_5361\", \"event_type\": \"purchase\", \"event_timestamp\": \"2025-08-15T03:19:57.686377\", \"items\": [{\"item_id\": \"item_827\", \"quantity\": 1, \"price_usd\": 65.98}]}</td></tr><tr><td>event_33</td><td>1.755227997686397E9</td><td>eyJ1c2VyX2lkIjogInVzZXJfMzc3NiIsICJldmVudF90eXBlIjogInB1cmNoYXNlIiwgImV2ZW50X3RpbWVzdGFtcCI6ICIyMDI1LTA4LTE1VDAzOjE5OjU3LjY4NjM4NiIsICJpdGVtcyI6IFt7Iml0ZW1faWQiOiAiaXRlbV85NzYiLCAicXVhbnRpdHkiOiAxLCAicHJpY2VfdXNkIjogNzAuOTh9LCB7Iml0ZW1faWQiOiAiaXRlbV80MTQiLCAicXVhbnRpdHkiOiAyLCAicHJpY2VfdXNkIjogNzMuODF9XX0=</td><td>null</td><td>{\"user_id\": \"user_3776\", \"event_type\": \"purchase\", \"event_timestamp\": \"2025-08-15T03:19:57.686386\", \"items\": [{\"item_id\": \"item_976\", \"quantity\": 1, \"price_usd\": 70.98}, {\"item_id\": \"item_414\", \"quantity\": 2, \"price_usd\": 73.81}]}</td></tr><tr><td>event_34</td><td>1.755227997686409E9</td><td>eyJ1c2VyX2lkIjogInVzZXJfNjQ3MSIsICJldmVudF90eXBlIjogInZpZXciLCAiZXZlbnRfdGltZXN0YW1wIjogIjIwMjUtMDgtMTVUMDM6MTk6NTcuNjg2Mzk5IiwgIml0ZW1zIjogW3siaXRlbV9pZCI6ICJpdGVtXzc4MiIsICJxdWFudGl0eSI6IDMsICJwcmljZV91c2QiOiA4MC43NH0sIHsiaXRlbV9pZCI6ICJpdGVtXzQ1NCIsICJxdWFudGl0eSI6IDQsICJwcmljZV91c2QiOiA2NC4wfV19</td><td>null</td><td>{\"user_id\": \"user_6471\", \"event_type\": \"view\", \"event_timestamp\": \"2025-08-15T03:19:57.686399\", \"items\": [{\"item_id\": \"item_782\", \"quantity\": 3, \"price_usd\": 80.74}, {\"item_id\": \"item_454\", \"quantity\": 4, \"price_usd\": 64.0}]}</td></tr><tr><td>event_35</td><td>1.755227997686419E9</td><td>eyJ1c2VyX2lkIjogInVzZXJfNTk5MSIsICJldmVudF90eXBlIjogImNsaWNrIiwgImV2ZW50X3RpbWVzdGFtcCI6ICIyMDI1LTA4LTE1VDAzOjE5OjU3LjY4NjQxMSIsICJpdGVtcyI6IFt7Iml0ZW1faWQiOiAiaXRlbV8xMTEiLCAicXVhbnRpdHkiOiA1LCAicHJpY2VfdXNkIjogNTMuOTd9XX0=</td><td>null</td><td>{\"user_id\": \"user_5991\", \"event_type\": \"click\", \"event_timestamp\": \"2025-08-15T03:19:57.686411\", \"items\": [{\"item_id\": \"item_111\", \"quantity\": 5, \"price_usd\": 53.97}]}</td></tr><tr><td>event_36</td><td>1.755227997686431E9</td><td>eyJ1c2VyX2lkIjogInVzZXJfMTEwMCIsICJldmVudF90eXBlIjogInB1cmNoYXNlIiwgImV2ZW50X3RpbWVzdGFtcCI6ICIyMDI1LTA4LTE1VDAzOjE5OjU3LjY4NjQyMSIsICJpdGVtcyI6IFt7Iml0ZW1faWQiOiAiaXRlbV84MDIiLCAicXVhbnRpdHkiOiAxLCAicHJpY2VfdXNkIjogODQuNTF9LCB7Iml0ZW1faWQiOiAiaXRlbV80NDAiLCAicXVhbnRpdHkiOiA0LCAicHJpY2VfdXNkIjogNjUuMDl9XX0=</td><td>null</td><td>{\"user_id\": \"user_1100\", \"event_type\": \"purchase\", \"event_timestamp\": \"2025-08-15T03:19:57.686421\", \"items\": [{\"item_id\": \"item_802\", \"quantity\": 1, \"price_usd\": 84.51}, {\"item_id\": \"item_440\", \"quantity\": 4, \"price_usd\": 65.09}]}</td></tr><tr><td>event_37</td><td>1.755227997686446E9</td><td>eyJ1c2VyX2lkIjogInVzZXJfMTc4NCIsICJldmVudF90eXBlIjogImNsaWNrIiwgImV2ZW50X3RpbWVzdGFtcCI6ICIyMDI1LTA4LTE1VDAzOjE5OjU3LjY4NjQzMyIsICJpdGVtcyI6IFt7Iml0ZW1faWQiOiAiaXRlbV83MTIiLCAicXVhbnRpdHkiOiAxLCAicHJpY2VfdXNkIjogMTIuNDd9LCB7Iml0ZW1faWQiOiAiaXRlbV8xNTEiLCAicXVhbnRpdHkiOiAzLCAicHJpY2VfdXNkIjogNzIuODJ9LCB7Iml0ZW1faWQiOiAiaXRlbV84MjgiLCAicXVhbnRpdHkiOiA1LCAicHJpY2VfdXNkIjogNDAuODR9XX0=</td><td>null</td><td>{\"user_id\": \"user_1784\", \"event_type\": \"click\", \"event_timestamp\": \"2025-08-15T03:19:57.686433\", \"items\": [{\"item_id\": \"item_712\", \"quantity\": 1, \"price_usd\": 12.47}, {\"item_id\": \"item_151\", \"quantity\": 3, \"price_usd\": 72.82}, {\"item_id\": \"item_828\", \"quantity\": 5, \"price_usd\": 40.84}]}</td></tr><tr><td>event_38</td><td>1.755227997686456E9</td><td>eyJ1c2VyX2lkIjogInVzZXJfNDEyOSIsICJldmVudF90eXBlIjogImNsaWNrIiwgImV2ZW50X3RpbWVzdGFtcCI6ICIyMDI1LTA4LTE1VDAzOjE5OjU3LjY4NjQ0OCIsICJpdGVtcyI6IFt7Iml0ZW1faWQiOiAiaXRlbV80NTIiLCAicXVhbnRpdHkiOiAxLCAicHJpY2VfdXNkIjogNjYuNX1dfQ==</td><td>null</td><td>{\"user_id\": \"user_4129\", \"event_type\": \"click\", \"event_timestamp\": \"2025-08-15T03:19:57.686448\", \"items\": [{\"item_id\": \"item_452\", \"quantity\": 1, \"price_usd\": 66.5}]}</td></tr><tr><td>event_39</td><td>1.755227997686472E9</td><td>eyJ1c2VyX2lkIjogInVzZXJfOTkyOSIsICJldmVudF90eXBlIjogImNsaWNrIiwgImV2ZW50X3RpbWVzdGFtcCI6ICIyMDI1LTA4LTE1VDAzOjE5OjU3LjY4NjQ1OCIsICJpdGVtcyI6IFt7Iml0ZW1faWQiOiAiaXRlbV8zNjEiLCAicXVhbnRpdHkiOiA0LCAicHJpY2VfdXNkIjogNTIuMzl9LCB7Iml0ZW1faWQiOiAiaXRlbV83NTMiLCAicXVhbnRpdHkiOiAzLCAicHJpY2VfdXNkIjogMzQuMzZ9LCB7Iml0ZW1faWQiOiAiaXRlbV85NjAiLCAicXVhbnRpdHkiOiAxLCAicHJpY2VfdXNkIjogNDMuNjF9XX0=</td><td>null</td><td>{\"user_id\": \"user_9929\", \"event_type\": \"click\", \"event_timestamp\": \"2025-08-15T03:19:57.686458\", \"items\": [{\"item_id\": \"item_361\", \"quantity\": 4, \"price_usd\": 52.39}, {\"item_id\": \"item_753\", \"quantity\": 3, \"price_usd\": 34.36}, {\"item_id\": \"item_960\", \"quantity\": 1, \"price_usd\": 43.61}]}</td></tr><tr><td>event_40</td><td>1.755227997686484E9</td><td>eyJ1c2VyX2lkIjogInVzZXJfODA4MSIsICJldmVudF90eXBlIjogImNsaWNrIiwgImV2ZW50X3RpbWVzdGFtcCI6ICIyMDI1LTA4LTE1VDAzOjE5OjU3LjY4NjQ3NCIsICJpdGVtcyI6IFt7Iml0ZW1faWQiOiAiaXRlbV83ODEiLCAicXVhbnRpdHkiOiAxLCAicHJpY2VfdXNkIjogNTMuMX0sIHsiaXRlbV9pZCI6ICJpdGVtXzkyNCIsICJxdWFudGl0eSI6IDQsICJwcmljZV91c2QiOiA0NC43fV19</td><td>null</td><td>{\"user_id\": \"user_8081\", \"event_type\": \"click\", \"event_timestamp\": \"2025-08-15T03:19:57.686474\", \"items\": [{\"item_id\": \"item_781\", \"quantity\": 1, \"price_usd\": 53.1}, {\"item_id\": \"item_924\", \"quantity\": 4, \"price_usd\": 44.7}]}</td></tr><tr><td>event_41</td><td>1.7552279976865E9</td><td>eyJ1c2VyX2lkIjogInVzZXJfMjk2OSIsICJldmVudF90eXBlIjogInB1cmNoYXNlIiwgImV2ZW50X3RpbWVzdGFtcCI6ICIyMDI1LTA4LTE1VDAzOjE5OjU3LjY4NjQ4NiIsICJpdGVtcyI6IFt7Iml0ZW1faWQiOiAiaXRlbV80MTEiLCAicXVhbnRpdHkiOiA0LCAicHJpY2VfdXNkIjogNzQuNzF9LCB7Iml0ZW1faWQiOiAiaXRlbV82ODAiLCAicXVhbnRpdHkiOiA0LCAicHJpY2VfdXNkIjogODMuNTl9LCB7Iml0ZW1faWQiOiAiaXRlbV84NTUiLCAicXVhbnRpdHkiOiAxLCAicHJpY2VfdXNkIjogOTYuNTl9XX0=</td><td>null</td><td>{\"user_id\": \"user_2969\", \"event_type\": \"purchase\", \"event_timestamp\": \"2025-08-15T03:19:57.686486\", \"items\": [{\"item_id\": \"item_411\", \"quantity\": 4, \"price_usd\": 74.71}, {\"item_id\": \"item_680\", \"quantity\": 4, \"price_usd\": 83.59}, {\"item_id\": \"item_855\", \"quantity\": 1, \"price_usd\": 96.59}]}</td></tr><tr><td>event_42</td><td>1.755227997686512E9</td><td>eyJ1c2VyX2lkIjogInVzZXJfNzI2NiIsICJldmVudF90eXBlIjogInZpZXciLCAiZXZlbnRfdGltZXN0YW1wIjogIjIwMjUtMDgtMTVUMDM6MTk6NTcuNjg2NTAyIiwgIml0ZW1zIjogW3siaXRlbV9pZCI6ICJpdGVtXzk2OSIsICJxdWFudGl0eSI6IDMsICJwcmljZV91c2QiOiA0NS4zNH0sIHsiaXRlbV9pZCI6ICJpdGVtXzU1MiIsICJxdWFudGl0eSI6IDIsICJwcmljZV91c2QiOiAxMC4yMX1dfQ==</td><td>null</td><td>{\"user_id\": \"user_7266\", \"event_type\": \"view\", \"event_timestamp\": \"2025-08-15T03:19:57.686502\", \"items\": [{\"item_id\": \"item_969\", \"quantity\": 3, \"price_usd\": 45.34}, {\"item_id\": \"item_552\", \"quantity\": 2, \"price_usd\": 10.21}]}</td></tr><tr><td>event_43</td><td>1.755227997686522E9</td><td>eyJ1c2VyX2lkIjogInVzZXJfODY0OSIsICJldmVudF90eXBlIjogInB1cmNoYXNlIiwgImV2ZW50X3RpbWVzdGFtcCI6ICIyMDI1LTA4LTE1VDAzOjE5OjU3LjY4NjUxNCIsICJpdGVtcyI6IFt7Iml0ZW1faWQiOiAiaXRlbV80ODYiLCAicXVhbnRpdHkiOiA0LCAicHJpY2VfdXNkIjogMzAuMjN9XX0=</td><td>null</td><td>{\"user_id\": \"user_8649\", \"event_type\": \"purchase\", \"event_timestamp\": \"2025-08-15T03:19:57.686514\", \"items\": [{\"item_id\": \"item_486\", \"quantity\": 4, \"price_usd\": 30.23}]}</td></tr><tr><td>event_44</td><td>1.755227997686538E9</td><td>eyJ1c2VyX2lkIjogInVzZXJfNTIzNCIsICJldmVudF90eXBlIjogInZpZXciLCAiZXZlbnRfdGltZXN0YW1wIjogIjIwMjUtMDgtMTVUMDM6MTk6NTcuNjg2NTI0IiwgIml0ZW1zIjogW3siaXRlbV9pZCI6ICJpdGVtXzYwMCIsICJxdWFudGl0eSI6IDEsICJwcmljZV91c2QiOiAyMi44M30sIHsiaXRlbV9pZCI6ICJpdGVtXzk2MyIsICJxdWFudGl0eSI6IDIsICJwcmljZV91c2QiOiAxMS4yM30sIHsiaXRlbV9pZCI6ICJpdGVtXzg3NiIsICJxdWFudGl0eSI6IDEsICJwcmljZV91c2QiOiA2MS42OH1dfQ==</td><td>null</td><td>{\"user_id\": \"user_5234\", \"event_type\": \"view\", \"event_timestamp\": \"2025-08-15T03:19:57.686524\", \"items\": [{\"item_id\": \"item_600\", \"quantity\": 1, \"price_usd\": 22.83}, {\"item_id\": \"item_963\", \"quantity\": 2, \"price_usd\": 11.23}, {\"item_id\": \"item_876\", \"quantity\": 1, \"price_usd\": 61.68}]}</td></tr><tr><td>event_45</td><td>1.755227997686551E9</td><td>eyJ1c2VyX2lkIjogInVzZXJfNzU1NSIsICJldmVudF90eXBlIjogInB1cmNoYXNlIiwgImV2ZW50X3RpbWVzdGFtcCI6ICIyMDI1LTA4LTE1VDAzOjE5OjU3LjY4NjU0MCIsICJpdGVtcyI6IFt7Iml0ZW1faWQiOiAiaXRlbV84MTEiLCAicXVhbnRpdHkiOiAxLCAicHJpY2VfdXNkIjogODkuMjZ9LCB7Iml0ZW1faWQiOiAiaXRlbV81MDIiLCAicXVhbnRpdHkiOiAzLCAicHJpY2VfdXNkIjogNzEuMDZ9XX0=</td><td>null</td><td>{\"user_id\": \"user_7555\", \"event_type\": \"purchase\", \"event_timestamp\": \"2025-08-15T03:19:57.686540\", \"items\": [{\"item_id\": \"item_811\", \"quantity\": 1, \"price_usd\": 89.26}, {\"item_id\": \"item_502\", \"quantity\": 3, \"price_usd\": 71.06}]}</td></tr><tr><td>event_46</td><td>1.75522799768658E9</td><td>eyJ1c2VyX2lkIjogInVzZXJfNDQwMCIsICJldmVudF90eXBlIjogImNsaWNrIiwgImV2ZW50X3RpbWVzdGFtcCI6ICIyMDI1LTA4LTE1VDAzOjE5OjU3LjY4NjU1MiIsICJpdGVtcyI6IFt7Iml0ZW1faWQiOiAiaXRlbV8yNTUiLCAicXVhbnRpdHkiOiAyLCAicHJpY2VfdXNkIjogOTYuNTF9LCB7Iml0ZW1faWQiOiAiaXRlbV85MDIiLCAicXVhbnRpdHkiOiAxLCAicHJpY2VfdXNkIjogNjAuNzV9XX0=</td><td>null</td><td>{\"user_id\": \"user_4400\", \"event_type\": \"click\", \"event_timestamp\": \"2025-08-15T03:19:57.686552\", \"items\": [{\"item_id\": \"item_255\", \"quantity\": 2, \"price_usd\": 96.51}, {\"item_id\": \"item_902\", \"quantity\": 1, \"price_usd\": 60.75}]}</td></tr><tr><td>event_47</td><td>1.755227997686597E9</td><td>eyJ1c2VyX2lkIjogInVzZXJfMzExNiIsICJldmVudF90eXBlIjogImNsaWNrIiwgImV2ZW50X3RpbWVzdGFtcCI6ICIyMDI1LTA4LTE1VDAzOjE5OjU3LjY4NjU4MiIsICJpdGVtcyI6IFt7Iml0ZW1faWQiOiAiaXRlbV85ODkiLCAicXVhbnRpdHkiOiA0LCAicHJpY2VfdXNkIjogMjIuNTh9LCB7Iml0ZW1faWQiOiAiaXRlbV8zMzYiLCAicXVhbnRpdHkiOiAzLCAicHJpY2VfdXNkIjogNDkuMDh9LCB7Iml0ZW1faWQiOiAiaXRlbV81NTMiLCAicXVhbnRpdHkiOiAyLCAicHJpY2VfdXNkIjogNzQuNDF9XX0=</td><td>null</td><td>{\"user_id\": \"user_3116\", \"event_type\": \"click\", \"event_timestamp\": \"2025-08-15T03:19:57.686582\", \"items\": [{\"item_id\": \"item_989\", \"quantity\": 4, \"price_usd\": 22.58}, {\"item_id\": \"item_336\", \"quantity\": 3, \"price_usd\": 49.08}, {\"item_id\": \"item_553\", \"quantity\": 2, \"price_usd\": 74.41}]}</td></tr><tr><td>event_48</td><td>1.755227997686608E9</td><td>eyJ1c2VyX2lkIjogInVzZXJfMzYzOSIsICJldmVudF90eXBlIjogImNsaWNrIiwgImV2ZW50X3RpbWVzdGFtcCI6ICIyMDI1LTA4LTE1VDAzOjE5OjU3LjY4NjU5OSIsICJpdGVtcyI6IFt7Iml0ZW1faWQiOiAiaXRlbV81MzgiLCAicXVhbnRpdHkiOiAzLCAicHJpY2VfdXNkIjogNjMuNjJ9XX0=</td><td>null</td><td>{\"user_id\": \"user_3639\", \"event_type\": \"click\", \"event_timestamp\": \"2025-08-15T03:19:57.686599\", \"items\": [{\"item_id\": \"item_538\", \"quantity\": 3, \"price_usd\": 63.62}]}</td></tr><tr><td>event_49</td><td>1.755227997686618E9</td><td>eyJ1c2VyX2lkIjogInVzZXJfOTUwMSIsICJldmVudF90eXBlIjogInB1cmNoYXNlIiwgImV2ZW50X3RpbWVzdGFtcCI6ICIyMDI1LTA4LTE1VDAzOjE5OjU3LjY4NjYxMCIsICJpdGVtcyI6IFt7Iml0ZW1faWQiOiAiaXRlbV84ODkiLCAicXVhbnRpdHkiOiA0LCAicHJpY2VfdXNkIjogNDIuMzJ9XX0=</td><td>null</td><td>{\"user_id\": \"user_9501\", \"event_type\": \"purchase\", \"event_timestamp\": \"2025-08-15T03:19:57.686610\", \"items\": [{\"item_id\": \"item_889\", \"quantity\": 4, \"price_usd\": 42.32}]}</td></tr><tr><td>event_50</td><td>1.75522799768663E9</td><td>eyJ1c2VyX2lkIjogInVzZXJfNjAyMiIsICJldmVudF90eXBlIjogImNsaWNrIiwgImV2ZW50X3RpbWVzdGFtcCI6ICIyMDI1LTA4LTE1VDAzOjE5OjU3LjY4NjYyMCIsICJpdGVtcyI6IFt7Iml0ZW1faWQiOiAiaXRlbV85NjkiLCAicXVhbnRpdHkiOiAxLCAicHJpY2VfdXNkIjogMjUuMjR9LCB7Iml0ZW1faWQiOiAiaXRlbV84OTUiLCAicXVhbnRpdHkiOiA0LCAicHJpY2VfdXNkIjogOTAuNjh9XX0=</td><td>null</td><td>{\"user_id\": \"user_6022\", \"event_type\": \"click\", \"event_timestamp\": \"2025-08-15T03:19:57.686620\", \"items\": [{\"item_id\": \"item_969\", \"quantity\": 1, \"price_usd\": 25.24}, {\"item_id\": \"item_895\", \"quantity\": 4, \"price_usd\": 90.68}]}</td></tr><tr><td>event_51</td><td>1.755227997686641E9</td><td>eyJ1c2VyX2lkIjogInVzZXJfOTA1NSIsICJldmVudF90eXBlIjogInB1cmNoYXNlIiwgImV2ZW50X3RpbWVzdGFtcCI6ICIyMDI1LTA4LTE1VDAzOjE5OjU3LjY4NjYzMyIsICJpdGVtcyI6IFt7Iml0ZW1faWQiOiAiaXRlbV85NjMiLCAicXVhbnRpdHkiOiA0LCAicHJpY2VfdXNkIjogMzIuMzN9XX0=</td><td>null</td><td>{\"user_id\": \"user_9055\", \"event_type\": \"purchase\", \"event_timestamp\": \"2025-08-15T03:19:57.686633\", \"items\": [{\"item_id\": \"item_963\", \"quantity\": 4, \"price_usd\": 32.33}]}</td></tr><tr><td>event_52</td><td>1.755227997686656E9</td><td>eyJ1c2VyX2lkIjogInVzZXJfNzQ5NyIsICJldmVudF90eXBlIjogInB1cmNoYXNlIiwgImV2ZW50X3RpbWVzdGFtcCI6ICIyMDI1LTA4LTE1VDAzOjE5OjU3LjY4NjY0MyIsICJpdGVtcyI6IFt7Iml0ZW1faWQiOiAiaXRlbV8yODciLCAicXVhbnRpdHkiOiA1LCAicHJpY2VfdXNkIjogMTEuMjd9LCB7Iml0ZW1faWQiOiAiaXRlbV82NzYiLCAicXVhbnRpdHkiOiAyLCAicHJpY2VfdXNkIjogMzAuNzV9LCB7Iml0ZW1faWQiOiAiaXRlbV8xODIiLCAicXVhbnRpdHkiOiA0LCAicHJpY2VfdXNkIjogOTMuNTh9XX0=</td><td>null</td><td>{\"user_id\": \"user_7497\", \"event_type\": \"purchase\", \"event_timestamp\": \"2025-08-15T03:19:57.686643\", \"items\": [{\"item_id\": \"item_287\", \"quantity\": 5, \"price_usd\": 11.27}, {\"item_id\": \"item_676\", \"quantity\": 2, \"price_usd\": 30.75}, {\"item_id\": \"item_182\", \"quantity\": 4, \"price_usd\": 93.58}]}</td></tr><tr><td>event_53</td><td>1.755227997686667E9</td><td>eyJ1c2VyX2lkIjogInVzZXJfNTY5NyIsICJldmVudF90eXBlIjogImNsaWNrIiwgImV2ZW50X3RpbWVzdGFtcCI6ICIyMDI1LTA4LTE1VDAzOjE5OjU3LjY4NjY1OSIsICJpdGVtcyI6IFt7Iml0ZW1faWQiOiAiaXRlbV8xNjMiLCAicXVhbnRpdHkiOiAxLCAicHJpY2VfdXNkIjogODYuMTh9XX0=</td><td>null</td><td>{\"user_id\": \"user_5697\", \"event_type\": \"click\", \"event_timestamp\": \"2025-08-15T03:19:57.686659\", \"items\": [{\"item_id\": \"item_163\", \"quantity\": 1, \"price_usd\": 86.18}]}</td></tr><tr><td>event_54</td><td>1.755227997686679E9</td><td>eyJ1c2VyX2lkIjogInVzZXJfMTU0NiIsICJldmVudF90eXBlIjogInB1cmNoYXNlIiwgImV2ZW50X3RpbWVzdGFtcCI6ICIyMDI1LTA4LTE1VDAzOjE5OjU3LjY4NjY2OSIsICJpdGVtcyI6IFt7Iml0ZW1faWQiOiAiaXRlbV8xNjEiLCAicXVhbnRpdHkiOiAxLCAicHJpY2VfdXNkIjogNzMuNjh9XX0=</td><td>null</td><td>{\"user_id\": \"user_1546\", \"event_type\": \"purchase\", \"event_timestamp\": \"2025-08-15T03:19:57.686669\", \"items\": [{\"item_id\": \"item_161\", \"quantity\": 1, \"price_usd\": 73.68}]}</td></tr><tr><td>event_55</td><td>1.75522799768669E9</td><td>eyJ1c2VyX2lkIjogInVzZXJfMzY1NyIsICJldmVudF90eXBlIjogImNsaWNrIiwgImV2ZW50X3RpbWVzdGFtcCI6ICIyMDI1LTA4LTE1VDAzOjE5OjU3LjY4NjY4MiIsICJpdGVtcyI6IFt7Iml0ZW1faWQiOiAiaXRlbV8zMDEiLCAicXVhbnRpdHkiOiAzLCAicHJpY2VfdXNkIjogMTAuM31dfQ==</td><td>null</td><td>{\"user_id\": \"user_3657\", \"event_type\": \"click\", \"event_timestamp\": \"2025-08-15T03:19:57.686682\", \"items\": [{\"item_id\": \"item_301\", \"quantity\": 3, \"price_usd\": 10.3}]}</td></tr><tr><td>event_56</td><td>1.755227997686705E9</td><td>eyJ1c2VyX2lkIjogInVzZXJfNTg5OCIsICJldmVudF90eXBlIjogImNsaWNrIiwgImV2ZW50X3RpbWVzdGFtcCI6ICIyMDI1LTA4LTE1VDAzOjE5OjU3LjY4NjY5MiIsICJpdGVtcyI6IFt7Iml0ZW1faWQiOiAiaXRlbV80ODciLCAicXVhbnRpdHkiOiAyLCAicHJpY2VfdXNkIjogMTYuNTV9LCB7Iml0ZW1faWQiOiAiaXRlbV81OTkiLCAicXVhbnRpdHkiOiAxLCAicHJpY2VfdXNkIjogMjEuNzN9LCB7Iml0ZW1faWQiOiAiaXRlbV83NDkiLCAicXVhbnRpdHkiOiA0LCAicHJpY2VfdXNkIjogNDAuMDl9XX0=</td><td>null</td><td>{\"user_id\": \"user_5898\", \"event_type\": \"click\", \"event_timestamp\": \"2025-08-15T03:19:57.686692\", \"items\": [{\"item_id\": \"item_487\", \"quantity\": 2, \"price_usd\": 16.55}, {\"item_id\": \"item_599\", \"quantity\": 1, \"price_usd\": 21.73}, {\"item_id\": \"item_749\", \"quantity\": 4, \"price_usd\": 40.09}]}</td></tr><tr><td>event_57</td><td>1.755227997686721E9</td><td>eyJ1c2VyX2lkIjogInVzZXJfNTY1NiIsICJldmVudF90eXBlIjogInZpZXciLCAiZXZlbnRfdGltZXN0YW1wIjogIjIwMjUtMDgtMTVUMDM6MTk6NTcuNjg2NzA3IiwgIml0ZW1zIjogW3siaXRlbV9pZCI6ICJpdGVtXzU1MiIsICJxdWFudGl0eSI6IDUsICJwcmljZV91c2QiOiA5OS41NX0sIHsiaXRlbV9pZCI6ICJpdGVtXzg5NCIsICJxdWFudGl0eSI6IDMsICJwcmljZV91c2QiOiA2NC4zNX1dfQ==</td><td>null</td><td>{\"user_id\": \"user_5656\", \"event_type\": \"view\", \"event_timestamp\": \"2025-08-15T03:19:57.686707\", \"items\": [{\"item_id\": \"item_552\", \"quantity\": 5, \"price_usd\": 99.55}, {\"item_id\": \"item_894\", \"quantity\": 3, \"price_usd\": 64.35}]}</td></tr><tr><td>event_58</td><td>1.755227997686731E9</td><td>eyJ1c2VyX2lkIjogInVzZXJfNDQ5MSIsICJldmVudF90eXBlIjogInZpZXciLCAiZXZlbnRfdGltZXN0YW1wIjogIjIwMjUtMDgtMTVUMDM6MTk6NTcuNjg2NzIyIiwgIml0ZW1zIjogW3siaXRlbV9pZCI6ICJpdGVtXzk3NCIsICJxdWFudGl0eSI6IDUsICJwcmljZV91c2QiOiA3MS4wNX1dfQ==</td><td>null</td><td>{\"user_id\": \"user_4491\", \"event_type\": \"view\", \"event_timestamp\": \"2025-08-15T03:19:57.686722\", \"items\": [{\"item_id\": \"item_974\", \"quantity\": 5, \"price_usd\": 71.05}]}</td></tr><tr><td>event_59</td><td>1.755227997686743E9</td><td>eyJ1c2VyX2lkIjogInVzZXJfNTYyMyIsICJldmVudF90eXBlIjogImNsaWNrIiwgImV2ZW50X3RpbWVzdGFtcCI6ICIyMDI1LTA4LTE1VDAzOjE5OjU3LjY4NjczMyIsICJpdGVtcyI6IFt7Iml0ZW1faWQiOiAiaXRlbV83NjgiLCAicXVhbnRpdHkiOiA0LCAicHJpY2VfdXNkIjogNDguNTZ9LCB7Iml0ZW1faWQiOiAiaXRlbV85NjMiLCAicXVhbnRpdHkiOiAyLCAicHJpY2VfdXNkIjogMjYuNzJ9XX0=</td><td>null</td><td>{\"user_id\": \"user_5623\", \"event_type\": \"click\", \"event_timestamp\": \"2025-08-15T03:19:57.686733\", \"items\": [{\"item_id\": \"item_768\", \"quantity\": 4, \"price_usd\": 48.56}, {\"item_id\": \"item_963\", \"quantity\": 2, \"price_usd\": 26.72}]}</td></tr><tr><td>event_60</td><td>1.755227997686756E9</td><td>eyJ1c2VyX2lkIjogInVzZXJfNzM2OSIsICJldmVudF90eXBlIjogInZpZXciLCAiZXZlbnRfdGltZXN0YW1wIjogIjIwMjUtMDgtMTVUMDM6MTk6NTcuNjg2NzQ1IiwgIml0ZW1zIjogW3siaXRlbV9pZCI6ICJpdGVtXzg1NCIsICJxdWFudGl0eSI6IDMsICJwcmljZV91c2QiOiAzNS44NX0sIHsiaXRlbV9pZCI6ICJpdGVtXzg3OSIsICJxdWFudGl0eSI6IDIsICJwcmljZV91c2QiOiA0OS4wfV19</td><td>null</td><td>{\"user_id\": \"user_7369\", \"event_type\": \"view\", \"event_timestamp\": \"2025-08-15T03:19:57.686745\", \"items\": [{\"item_id\": \"item_854\", \"quantity\": 3, \"price_usd\": 35.85}, {\"item_id\": \"item_879\", \"quantity\": 2, \"price_usd\": 49.0}]}</td></tr><tr><td>event_61</td><td>1.755227997686768E9</td><td>eyJ1c2VyX2lkIjogInVzZXJfNzA0NiIsICJldmVudF90eXBlIjogImNsaWNrIiwgImV2ZW50X3RpbWVzdGFtcCI6ICIyMDI1LTA4LTE1VDAzOjE5OjU3LjY4Njc1OCIsICJpdGVtcyI6IFt7Iml0ZW1faWQiOiAiaXRlbV83NzEiLCAicXVhbnRpdHkiOiAxLCAicHJpY2VfdXNkIjogMTQuMzF9LCB7Iml0ZW1faWQiOiAiaXRlbV85NDgiLCAicXVhbnRpdHkiOiAxLCAicHJpY2VfdXNkIjogMTcuMDV9XX0=</td><td>null</td><td>{\"user_id\": \"user_7046\", \"event_type\": \"click\", \"event_timestamp\": \"2025-08-15T03:19:57.686758\", \"items\": [{\"item_id\": \"item_771\", \"quantity\": 1, \"price_usd\": 14.31}, {\"item_id\": \"item_948\", \"quantity\": 1, \"price_usd\": 17.05}]}</td></tr><tr><td>event_62</td><td>1.75522799768678E9</td><td>eyJ1c2VyX2lkIjogInVzZXJfODc1NSIsICJldmVudF90eXBlIjogImNsaWNrIiwgImV2ZW50X3RpbWVzdGFtcCI6ICIyMDI1LTA4LTE1VDAzOjE5OjU3LjY4Njc3MCIsICJpdGVtcyI6IFt7Iml0ZW1faWQiOiAiaXRlbV85MDIiLCAicXVhbnRpdHkiOiAzLCAicHJpY2VfdXNkIjogNjUuNjN9LCB7Iml0ZW1faWQiOiAiaXRlbV85NDIiLCAicXVhbnRpdHkiOiAyLCAicHJpY2VfdXNkIjogNTMuNjd9XX0=</td><td>null</td><td>{\"user_id\": \"user_8755\", \"event_type\": \"click\", \"event_timestamp\": \"2025-08-15T03:19:57.686770\", \"items\": [{\"item_id\": \"item_902\", \"quantity\": 3, \"price_usd\": 65.63}, {\"item_id\": \"item_942\", \"quantity\": 2, \"price_usd\": 53.67}]}</td></tr><tr><td>event_63</td><td>1.755227997686795E9</td><td>eyJ1c2VyX2lkIjogInVzZXJfNDc5OSIsICJldmVudF90eXBlIjogImNsaWNrIiwgImV2ZW50X3RpbWVzdGFtcCI6ICIyMDI1LTA4LTE1VDAzOjE5OjU3LjY4Njc4MiIsICJpdGVtcyI6IFt7Iml0ZW1faWQiOiAiaXRlbV8zMjkiLCAicXVhbnRpdHkiOiA0LCAicHJpY2VfdXNkIjogMzUuNjF9LCB7Iml0ZW1faWQiOiAiaXRlbV82NzAiLCAicXVhbnRpdHkiOiAzLCAicHJpY2VfdXNkIjogNTMuMjd9LCB7Iml0ZW1faWQiOiAiaXRlbV85MDMiLCAicXVhbnRpdHkiOiAyLCAicHJpY2VfdXNkIjogMjEuMzl9XX0=</td><td>null</td><td>{\"user_id\": \"user_4799\", \"event_type\": \"click\", \"event_timestamp\": \"2025-08-15T03:19:57.686782\", \"items\": [{\"item_id\": \"item_329\", \"quantity\": 4, \"price_usd\": 35.61}, {\"item_id\": \"item_670\", \"quantity\": 3, \"price_usd\": 53.27}, {\"item_id\": \"item_903\", \"quantity\": 2, \"price_usd\": 21.39}]}</td></tr><tr><td>event_64</td><td>1.755227997686805E9</td><td>eyJ1c2VyX2lkIjogInVzZXJfOTcyOSIsICJldmVudF90eXBlIjogImNsaWNrIiwgImV2ZW50X3RpbWVzdGFtcCI6ICIyMDI1LTA4LTE1VDAzOjE5OjU3LjY4Njc5NyIsICJpdGVtcyI6IFt7Iml0ZW1faWQiOiAiaXRlbV8xMTkiLCAicXVhbnRpdHkiOiA1LCAicHJpY2VfdXNkIjogNzMuMTN9XX0=</td><td>null</td><td>{\"user_id\": \"user_9729\", \"event_type\": \"click\", \"event_timestamp\": \"2025-08-15T03:19:57.686797\", \"items\": [{\"item_id\": \"item_119\", \"quantity\": 5, \"price_usd\": 73.13}]}</td></tr><tr><td>event_65</td><td>1.755227997686817E9</td><td>eyJ1c2VyX2lkIjogInVzZXJfODkyOSIsICJldmVudF90eXBlIjogInZpZXciLCAiZXZlbnRfdGltZXN0YW1wIjogIjIwMjUtMDgtMTVUMDM6MTk6NTcuNjg2ODA3IiwgIml0ZW1zIjogW3siaXRlbV9pZCI6ICJpdGVtXzMyOCIsICJxdWFudGl0eSI6IDIsICJwcmljZV91c2QiOiA5OC45NH0sIHsiaXRlbV9pZCI6ICJpdGVtXzQ2OSIsICJxdWFudGl0eSI6IDEsICJwcmljZV91c2QiOiAzNC42Nn1dfQ==</td><td>null</td><td>{\"user_id\": \"user_8929\", \"event_type\": \"view\", \"event_timestamp\": \"2025-08-15T03:19:57.686807\", \"items\": [{\"item_id\": \"item_328\", \"quantity\": 2, \"price_usd\": 98.94}, {\"item_id\": \"item_469\", \"quantity\": 1, \"price_usd\": 34.66}]}</td></tr><tr><td>event_66</td><td>1.755227997686829E9</td><td>eyJ1c2VyX2lkIjogInVzZXJfMjk2OCIsICJldmVudF90eXBlIjogInZpZXciLCAiZXZlbnRfdGltZXN0YW1wIjogIjIwMjUtMDgtMTVUMDM6MTk6NTcuNjg2ODE5IiwgIml0ZW1zIjogW3siaXRlbV9pZCI6ICJpdGVtXzU3OCIsICJxdWFudGl0eSI6IDUsICJwcmljZV91c2QiOiA4Ni40Nn0sIHsiaXRlbV9pZCI6ICJpdGVtXzc5NyIsICJxdWFudGl0eSI6IDIsICJwcmljZV91c2QiOiA0OS44Mn1dfQ==</td><td>null</td><td>{\"user_id\": \"user_2968\", \"event_type\": \"view\", \"event_timestamp\": \"2025-08-15T03:19:57.686819\", \"items\": [{\"item_id\": \"item_578\", \"quantity\": 5, \"price_usd\": 86.46}, {\"item_id\": \"item_797\", \"quantity\": 2, \"price_usd\": 49.82}]}</td></tr><tr><td>event_67</td><td>1.755227997686839E9</td><td>eyJ1c2VyX2lkIjogInVzZXJfMzg4NSIsICJldmVudF90eXBlIjogInZpZXciLCAiZXZlbnRfdGltZXN0YW1wIjogIjIwMjUtMDgtMTVUMDM6MTk6NTcuNjg2ODMxIiwgIml0ZW1zIjogW3siaXRlbV9pZCI6ICJpdGVtXzMwOCIsICJxdWFudGl0eSI6IDIsICJwcmljZV91c2QiOiA4NC42N31dfQ==</td><td>null</td><td>{\"user_id\": \"user_3885\", \"event_type\": \"view\", \"event_timestamp\": \"2025-08-15T03:19:57.686831\", \"items\": [{\"item_id\": \"item_308\", \"quantity\": 2, \"price_usd\": 84.67}]}</td></tr><tr><td>event_68</td><td>1.755227997686854E9</td><td>eyJ1c2VyX2lkIjogInVzZXJfODIzOSIsICJldmVudF90eXBlIjogInZpZXciLCAiZXZlbnRfdGltZXN0YW1wIjogIjIwMjUtMDgtMTVUMDM6MTk6NTcuNjg2ODQxIiwgIml0ZW1zIjogW3siaXRlbV9pZCI6ICJpdGVtXzk2MiIsICJxdWFudGl0eSI6IDUsICJwcmljZV91c2QiOiAyMC4yMn0sIHsiaXRlbV9pZCI6ICJpdGVtXzkzNCIsICJxdWFudGl0eSI6IDIsICJwcmljZV91c2QiOiA2OC41NH0sIHsiaXRlbV9pZCI6ICJpdGVtXzc4NSIsICJxdWFudGl0eSI6IDQsICJwcmljZV91c2QiOiAzMS41fV19</td><td>null</td><td>{\"user_id\": \"user_8239\", \"event_type\": \"view\", \"event_timestamp\": \"2025-08-15T03:19:57.686841\", \"items\": [{\"item_id\": \"item_962\", \"quantity\": 5, \"price_usd\": 20.22}, {\"item_id\": \"item_934\", \"quantity\": 2, \"price_usd\": 68.54}, {\"item_id\": \"item_785\", \"quantity\": 4, \"price_usd\": 31.5}]}</td></tr><tr><td>event_69</td><td>1.755227997686864E9</td><td>eyJ1c2VyX2lkIjogInVzZXJfMzkwMyIsICJldmVudF90eXBlIjogImNsaWNrIiwgImV2ZW50X3RpbWVzdGFtcCI6ICIyMDI1LTA4LTE1VDAzOjE5OjU3LjY4Njg1NiIsICJpdGVtcyI6IFt7Iml0ZW1faWQiOiAiaXRlbV85ODUiLCAicXVhbnRpdHkiOiAxLCAicHJpY2VfdXNkIjogMzYuNTl9XX0=</td><td>null</td><td>{\"user_id\": \"user_3903\", \"event_type\": \"click\", \"event_timestamp\": \"2025-08-15T03:19:57.686856\", \"items\": [{\"item_id\": \"item_985\", \"quantity\": 1, \"price_usd\": 36.59}]}</td></tr><tr><td>event_70</td><td>1.755227997686874E9</td><td>eyJ1c2VyX2lkIjogInVzZXJfOTM1NyIsICJldmVudF90eXBlIjogInB1cmNoYXNlIiwgImV2ZW50X3RpbWVzdGFtcCI6ICIyMDI1LTA4LTE1VDAzOjE5OjU3LjY4Njg2NiIsICJpdGVtcyI6IFt7Iml0ZW1faWQiOiAiaXRlbV8xOTQiLCAicXVhbnRpdHkiOiAzLCAicHJpY2VfdXNkIjogMzkuMjd9XX0=</td><td>null</td><td>{\"user_id\": \"user_9357\", \"event_type\": \"purchase\", \"event_timestamp\": \"2025-08-15T03:19:57.686866\", \"items\": [{\"item_id\": \"item_194\", \"quantity\": 3, \"price_usd\": 39.27}]}</td></tr><tr><td>event_71</td><td>1.755227997686889E9</td><td>eyJ1c2VyX2lkIjogInVzZXJfNjQxNSIsICJldmVudF90eXBlIjogImNsaWNrIiwgImV2ZW50X3RpbWVzdGFtcCI6ICIyMDI1LTA4LTE1VDAzOjE5OjU3LjY4Njg3NiIsICJpdGVtcyI6IFt7Iml0ZW1faWQiOiAiaXRlbV80ODQiLCAicXVhbnRpdHkiOiAyLCAicHJpY2VfdXNkIjogNzUuMDd9LCB7Iml0ZW1faWQiOiAiaXRlbV82MDIiLCAicXVhbnRpdHkiOiA1LCAicHJpY2VfdXNkIjogNDYuMjh9LCB7Iml0ZW1faWQiOiAiaXRlbV8zMjAiLCAicXVhbnRpdHkiOiAxLCAicHJpY2VfdXNkIjogNzguMTF9XX0=</td><td>null</td><td>{\"user_id\": \"user_6415\", \"event_type\": \"click\", \"event_timestamp\": \"2025-08-15T03:19:57.686876\", \"items\": [{\"item_id\": \"item_484\", \"quantity\": 2, \"price_usd\": 75.07}, {\"item_id\": \"item_602\", \"quantity\": 5, \"price_usd\": 46.28}, {\"item_id\": \"item_320\", \"quantity\": 1, \"price_usd\": 78.11}]}</td></tr><tr><td>event_72</td><td>1.755227997686899E9</td><td>eyJ1c2VyX2lkIjogInVzZXJfNzY0NiIsICJldmVudF90eXBlIjogInZpZXciLCAiZXZlbnRfdGltZXN0YW1wIjogIjIwMjUtMDgtMTVUMDM6MTk6NTcuNjg2ODkxIiwgIml0ZW1zIjogW3siaXRlbV9pZCI6ICJpdGVtXzc5NyIsICJxdWFudGl0eSI6IDMsICJwcmljZV91c2QiOiAzOC4xOH1dfQ==</td><td>null</td><td>{\"user_id\": \"user_7646\", \"event_type\": \"view\", \"event_timestamp\": \"2025-08-15T03:19:57.686891\", \"items\": [{\"item_id\": \"item_797\", \"quantity\": 3, \"price_usd\": 38.18}]}</td></tr><tr><td>event_73</td><td>1.755227997686909E9</td><td>eyJ1c2VyX2lkIjogInVzZXJfNTg5NCIsICJldmVudF90eXBlIjogImNsaWNrIiwgImV2ZW50X3RpbWVzdGFtcCI6ICIyMDI1LTA4LTE1VDAzOjE5OjU3LjY4NjkwMSIsICJpdGVtcyI6IFt7Iml0ZW1faWQiOiAiaXRlbV80MDciLCAicXVhbnRpdHkiOiAxLCAicHJpY2VfdXNkIjogMzkuNDR9XX0=</td><td>null</td><td>{\"user_id\": \"user_5894\", \"event_type\": \"click\", \"event_timestamp\": \"2025-08-15T03:19:57.686901\", \"items\": [{\"item_id\": \"item_407\", \"quantity\": 1, \"price_usd\": 39.44}]}</td></tr><tr><td>event_74</td><td>1.755227997686921E9</td><td>eyJ1c2VyX2lkIjogInVzZXJfNTA1MSIsICJldmVudF90eXBlIjogInZpZXciLCAiZXZlbnRfdGltZXN0YW1wIjogIjIwMjUtMDgtMTVUMDM6MTk6NTcuNjg2OTExIiwgIml0ZW1zIjogW3siaXRlbV9pZCI6ICJpdGVtXzQxOSIsICJxdWFudGl0eSI6IDEsICJwcmljZV91c2QiOiAzMC44OH0sIHsiaXRlbV9pZCI6ICJpdGVtXzc0NiIsICJxdWFudGl0eSI6IDQsICJwcmljZV91c2QiOiA2My4xOX1dfQ==</td><td>null</td><td>{\"user_id\": \"user_5051\", \"event_type\": \"view\", \"event_timestamp\": \"2025-08-15T03:19:57.686911\", \"items\": [{\"item_id\": \"item_419\", \"quantity\": 1, \"price_usd\": 30.88}, {\"item_id\": \"item_746\", \"quantity\": 4, \"price_usd\": 63.19}]}</td></tr><tr><td>event_75</td><td>1.755227997686931E9</td><td>eyJ1c2VyX2lkIjogInVzZXJfNTkwOCIsICJldmVudF90eXBlIjogInZpZXciLCAiZXZlbnRfdGltZXN0YW1wIjogIjIwMjUtMDgtMTVUMDM6MTk6NTcuNjg2OTIzIiwgIml0ZW1zIjogW3siaXRlbV9pZCI6ICJpdGVtXzk0OCIsICJxdWFudGl0eSI6IDEsICJwcmljZV91c2QiOiA5MS4xM31dfQ==</td><td>null</td><td>{\"user_id\": \"user_5908\", \"event_type\": \"view\", \"event_timestamp\": \"2025-08-15T03:19:57.686923\", \"items\": [{\"item_id\": \"item_948\", \"quantity\": 1, \"price_usd\": 91.13}]}</td></tr><tr><td>event_76</td><td>1.755227997686946E9</td><td>eyJ1c2VyX2lkIjogInVzZXJfMTE4MyIsICJldmVudF90eXBlIjogInZpZXciLCAiZXZlbnRfdGltZXN0YW1wIjogIjIwMjUtMDgtMTVUMDM6MTk6NTcuNjg2OTMzIiwgIml0ZW1zIjogW3siaXRlbV9pZCI6ICJpdGVtXzc4MiIsICJxdWFudGl0eSI6IDMsICJwcmljZV91c2QiOiA5OC42Mn0sIHsiaXRlbV9pZCI6ICJpdGVtXzUwMiIsICJxdWFudGl0eSI6IDQsICJwcmljZV91c2QiOiA1NC41fSwgeyJpdGVtX2lkIjogIml0ZW1fNDc4IiwgInF1YW50aXR5IjogMywgInByaWNlX3VzZCI6IDI4LjI1fV19</td><td>null</td><td>{\"user_id\": \"user_1183\", \"event_type\": \"view\", \"event_timestamp\": \"2025-08-15T03:19:57.686933\", \"items\": [{\"item_id\": \"item_782\", \"quantity\": 3, \"price_usd\": 98.62}, {\"item_id\": \"item_502\", \"quantity\": 4, \"price_usd\": 54.5}, {\"item_id\": \"item_478\", \"quantity\": 3, \"price_usd\": 28.25}]}</td></tr><tr><td>event_77</td><td>1.755227997686967E9</td><td>eyJ1c2VyX2lkIjogInVzZXJfNjgyNCIsICJldmVudF90eXBlIjogImNsaWNrIiwgImV2ZW50X3RpbWVzdGFtcCI6ICIyMDI1LTA4LTE1VDAzOjE5OjU3LjY4Njk0OCIsICJpdGVtcyI6IFt7Iml0ZW1faWQiOiAiaXRlbV81MDUiLCAicXVhbnRpdHkiOiAzLCAicHJpY2VfdXNkIjogNzkuMjd9LCB7Iml0ZW1faWQiOiAiaXRlbV8xOTAiLCAicXVhbnRpdHkiOiAxLCAicHJpY2VfdXNkIjogNDcuNzR9XX0=</td><td>null</td><td>{\"user_id\": \"user_6824\", \"event_type\": \"click\", \"event_timestamp\": \"2025-08-15T03:19:57.686948\", \"items\": [{\"item_id\": \"item_505\", \"quantity\": 3, \"price_usd\": 79.27}, {\"item_id\": \"item_190\", \"quantity\": 1, \"price_usd\": 47.74}]}</td></tr><tr><td>event_78</td><td>1.755227997686991E9</td><td>eyJ1c2VyX2lkIjogInVzZXJfODcwNCIsICJldmVudF90eXBlIjogImNsaWNrIiwgImV2ZW50X3RpbWVzdGFtcCI6ICIyMDI1LTA4LTE1VDAzOjE5OjU3LjY4Njk3MSIsICJpdGVtcyI6IFt7Iml0ZW1faWQiOiAiaXRlbV8xMTAiLCAicXVhbnRpdHkiOiAxLCAicHJpY2VfdXNkIjogNjQuOH0sIHsiaXRlbV9pZCI6ICJpdGVtXzQ4MyIsICJxdWFudGl0eSI6IDEsICJwcmljZV91c2QiOiAyMy42NH0sIHsiaXRlbV9pZCI6ICJpdGVtXzMyNiIsICJxdWFudGl0eSI6IDQsICJwcmljZV91c2QiOiA5MC44Nn1dfQ==</td><td>null</td><td>{\"user_id\": \"user_8704\", \"event_type\": \"click\", \"event_timestamp\": \"2025-08-15T03:19:57.686971\", \"items\": [{\"item_id\": \"item_110\", \"quantity\": 1, \"price_usd\": 64.8}, {\"item_id\": \"item_483\", \"quantity\": 1, \"price_usd\": 23.64}, {\"item_id\": \"item_326\", \"quantity\": 4, \"price_usd\": 90.86}]}</td></tr><tr><td>event_79</td><td>1.755227997687007E9</td><td>eyJ1c2VyX2lkIjogInVzZXJfMjAzOSIsICJldmVudF90eXBlIjogInZpZXciLCAiZXZlbnRfdGltZXN0YW1wIjogIjIwMjUtMDgtMTVUMDM6MTk6NTcuNjg2OTk0IiwgIml0ZW1zIjogW3siaXRlbV9pZCI6ICJpdGVtXzczMSIsICJxdWFudGl0eSI6IDQsICJwcmljZV91c2QiOiA2MS4yNn0sIHsiaXRlbV9pZCI6ICJpdGVtXzI4MyIsICJxdWFudGl0eSI6IDQsICJwcmljZV91c2QiOiAxNy4yMX0sIHsiaXRlbV9pZCI6ICJpdGVtXzU2NiIsICJxdWFudGl0eSI6IDEsICJwcmljZV91c2QiOiA5OC45Nn1dfQ==</td><td>null</td><td>{\"user_id\": \"user_2039\", \"event_type\": \"view\", \"event_timestamp\": \"2025-08-15T03:19:57.686994\", \"items\": [{\"item_id\": \"item_731\", \"quantity\": 4, \"price_usd\": 61.26}, {\"item_id\": \"item_283\", \"quantity\": 4, \"price_usd\": 17.21}, {\"item_id\": \"item_566\", \"quantity\": 1, \"price_usd\": 98.96}]}</td></tr><tr><td>event_80</td><td>1.755227997687017E9</td><td>eyJ1c2VyX2lkIjogInVzZXJfNzQwNiIsICJldmVudF90eXBlIjogImNsaWNrIiwgImV2ZW50X3RpbWVzdGFtcCI6ICIyMDI1LTA4LTE1VDAzOjE5OjU3LjY4NzAwOSIsICJpdGVtcyI6IFt7Iml0ZW1faWQiOiAiaXRlbV83MjciLCAicXVhbnRpdHkiOiAyLCAicHJpY2VfdXNkIjogNzMuOTR9XX0=</td><td>null</td><td>{\"user_id\": \"user_7406\", \"event_type\": \"click\", \"event_timestamp\": \"2025-08-15T03:19:57.687009\", \"items\": [{\"item_id\": \"item_727\", \"quantity\": 2, \"price_usd\": 73.94}]}</td></tr><tr><td>event_81</td><td>1.755227997687026E9</td><td>eyJ1c2VyX2lkIjogInVzZXJfMzM5OCIsICJldmVudF90eXBlIjogInZpZXciLCAiZXZlbnRfdGltZXN0YW1wIjogIjIwMjUtMDgtMTVUMDM6MTk6NTcuNjg3MDE5IiwgIml0ZW1zIjogW3siaXRlbV9pZCI6ICJpdGVtXzI2NyIsICJxdWFudGl0eSI6IDIsICJwcmljZV91c2QiOiA3MC43fV19</td><td>null</td><td>{\"user_id\": \"user_3398\", \"event_type\": \"view\", \"event_timestamp\": \"2025-08-15T03:19:57.687019\", \"items\": [{\"item_id\": \"item_267\", \"quantity\": 2, \"price_usd\": 70.7}]}</td></tr><tr><td>event_82</td><td>1.755227997687042E9</td><td>eyJ1c2VyX2lkIjogInVzZXJfNjYwNiIsICJldmVudF90eXBlIjogInB1cmNoYXNlIiwgImV2ZW50X3RpbWVzdGFtcCI6ICIyMDI1LTA4LTE1VDAzOjE5OjU3LjY4NzAyOCIsICJpdGVtcyI6IFt7Iml0ZW1faWQiOiAiaXRlbV8xNzEiLCAicXVhbnRpdHkiOiAxLCAicHJpY2VfdXNkIjogMzIuMDd9LCB7Iml0ZW1faWQiOiAiaXRlbV8zNzUiLCAicXVhbnRpdHkiOiAxLCAicHJpY2VfdXNkIjogMjguOX0sIHsiaXRlbV9pZCI6ICJpdGVtXzUyNCIsICJxdWFudGl0eSI6IDUsICJwcmljZV91c2QiOiA4Ni4xNX1dfQ==</td><td>null</td><td>{\"user_id\": \"user_6606\", \"event_type\": \"purchase\", \"event_timestamp\": \"2025-08-15T03:19:57.687028\", \"items\": [{\"item_id\": \"item_171\", \"quantity\": 1, \"price_usd\": 32.07}, {\"item_id\": \"item_375\", \"quantity\": 1, \"price_usd\": 28.9}, {\"item_id\": \"item_524\", \"quantity\": 5, \"price_usd\": 86.15}]}</td></tr><tr><td>event_83</td><td>1.755227997687054E9</td><td>eyJ1c2VyX2lkIjogInVzZXJfMzg2OCIsICJldmVudF90eXBlIjogInB1cmNoYXNlIiwgImV2ZW50X3RpbWVzdGFtcCI6ICIyMDI1LTA4LTE1VDAzOjE5OjU3LjY4NzA0NCIsICJpdGVtcyI6IFt7Iml0ZW1faWQiOiAiaXRlbV82MjciLCAicXVhbnRpdHkiOiAzLCAicHJpY2VfdXNkIjogNzguNjN9LCB7Iml0ZW1faWQiOiAiaXRlbV82NTkiLCAicXVhbnRpdHkiOiA0LCAicHJpY2VfdXNkIjogMTMuNTN9XX0=</td><td>null</td><td>{\"user_id\": \"user_3868\", \"event_type\": \"purchase\", \"event_timestamp\": \"2025-08-15T03:19:57.687044\", \"items\": [{\"item_id\": \"item_627\", \"quantity\": 3, \"price_usd\": 78.63}, {\"item_id\": \"item_659\", \"quantity\": 4, \"price_usd\": 13.53}]}</td></tr><tr><td>event_84</td><td>1.75522799768707E9</td><td>eyJ1c2VyX2lkIjogInVzZXJfMTE2MiIsICJldmVudF90eXBlIjogInZpZXciLCAiZXZlbnRfdGltZXN0YW1wIjogIjIwMjUtMDgtMTVUMDM6MTk6NTcuNjg3MDU2IiwgIml0ZW1zIjogW3siaXRlbV9pZCI6ICJpdGVtXzkyOCIsICJxdWFudGl0eSI6IDUsICJwcmljZV91c2QiOiA0MC44OX0sIHsiaXRlbV9pZCI6ICJpdGVtXzI3MSIsICJxdWFudGl0eSI6IDUsICJwcmljZV91c2QiOiAyNy4yOH0sIHsiaXRlbV9pZCI6ICJpdGVtXzQ4NyIsICJxdWFudGl0eSI6IDIsICJwcmljZV91c2QiOiA4Ni4zOH1dfQ==</td><td>null</td><td>{\"user_id\": \"user_1162\", \"event_type\": \"view\", \"event_timestamp\": \"2025-08-15T03:19:57.687056\", \"items\": [{\"item_id\": \"item_928\", \"quantity\": 5, \"price_usd\": 40.89}, {\"item_id\": \"item_271\", \"quantity\": 5, \"price_usd\": 27.28}, {\"item_id\": \"item_487\", \"quantity\": 2, \"price_usd\": 86.38}]}</td></tr><tr><td>event_85</td><td>1.755227997687082E9</td><td>eyJ1c2VyX2lkIjogInVzZXJfNDU4OCIsICJldmVudF90eXBlIjogInB1cmNoYXNlIiwgImV2ZW50X3RpbWVzdGFtcCI6ICIyMDI1LTA4LTE1VDAzOjE5OjU3LjY4NzA3MSIsICJpdGVtcyI6IFt7Iml0ZW1faWQiOiAiaXRlbV8xODMiLCAicXVhbnRpdHkiOiAxLCAicHJpY2VfdXNkIjogOTAuMzV9LCB7Iml0ZW1faWQiOiAiaXRlbV81OTgiLCAicXVhbnRpdHkiOiAzLCAicHJpY2VfdXNkIjogMjYuODN9XX0=</td><td>null</td><td>{\"user_id\": \"user_4588\", \"event_type\": \"purchase\", \"event_timestamp\": \"2025-08-15T03:19:57.687071\", \"items\": [{\"item_id\": \"item_183\", \"quantity\": 1, \"price_usd\": 90.35}, {\"item_id\": \"item_598\", \"quantity\": 3, \"price_usd\": 26.83}]}</td></tr><tr><td>event_86</td><td>1.755227997687091E9</td><td>eyJ1c2VyX2lkIjogInVzZXJfOTI5MiIsICJldmVudF90eXBlIjogInZpZXciLCAiZXZlbnRfdGltZXN0YW1wIjogIjIwMjUtMDgtMTVUMDM6MTk6NTcuNjg3MDg0IiwgIml0ZW1zIjogW3siaXRlbV9pZCI6ICJpdGVtXzcxMyIsICJxdWFudGl0eSI6IDQsICJwcmljZV91c2QiOiAxOC42MX1dfQ==</td><td>null</td><td>{\"user_id\": \"user_9292\", \"event_type\": \"view\", \"event_timestamp\": \"2025-08-15T03:19:57.687084\", \"items\": [{\"item_id\": \"item_713\", \"quantity\": 4, \"price_usd\": 18.61}]}</td></tr><tr><td>event_87</td><td>1.755227997687107E9</td><td>eyJ1c2VyX2lkIjogInVzZXJfOTQwOSIsICJldmVudF90eXBlIjogInZpZXciLCAiZXZlbnRfdGltZXN0YW1wIjogIjIwMjUtMDgtMTVUMDM6MTk6NTcuNjg3MDkzIiwgIml0ZW1zIjogW3siaXRlbV9pZCI6ICJpdGVtXzMwNSIsICJxdWFudGl0eSI6IDUsICJwcmljZV91c2QiOiA4OC4yNX0sIHsiaXRlbV9pZCI6ICJpdGVtXzU0NyIsICJxdWFudGl0eSI6IDIsICJwcmljZV91c2QiOiA4Ni43NX0sIHsiaXRlbV9pZCI6ICJpdGVtXzMwMyIsICJxdWFudGl0eSI6IDEsICJwcmljZV91c2QiOiAxNS4wfV19</td><td>null</td><td>{\"user_id\": \"user_9409\", \"event_type\": \"view\", \"event_timestamp\": \"2025-08-15T03:19:57.687093\", \"items\": [{\"item_id\": \"item_305\", \"quantity\": 5, \"price_usd\": 88.25}, {\"item_id\": \"item_547\", \"quantity\": 2, \"price_usd\": 86.75}, {\"item_id\": \"item_303\", \"quantity\": 1, \"price_usd\": 15.0}]}</td></tr><tr><td>event_88</td><td>1.75522799768712E9</td><td>eyJ1c2VyX2lkIjogInVzZXJfNjM3MiIsICJldmVudF90eXBlIjogImNsaWNrIiwgImV2ZW50X3RpbWVzdGFtcCI6ICIyMDI1LTA4LTE1VDAzOjE5OjU3LjY4NzEwOSIsICJpdGVtcyI6IFt7Iml0ZW1faWQiOiAiaXRlbV8xOTQiLCAicXVhbnRpdHkiOiAyLCAicHJpY2VfdXNkIjogNzEuNDN9XX0=</td><td>null</td><td>{\"user_id\": \"user_6372\", \"event_type\": \"click\", \"event_timestamp\": \"2025-08-15T03:19:57.687109\", \"items\": [{\"item_id\": \"item_194\", \"quantity\": 2, \"price_usd\": 71.43}]}</td></tr><tr><td>event_89</td><td>1.755227997687136E9</td><td>eyJ1c2VyX2lkIjogInVzZXJfMjEzMSIsICJldmVudF90eXBlIjogInB1cmNoYXNlIiwgImV2ZW50X3RpbWVzdGFtcCI6ICIyMDI1LTA4LTE1VDAzOjE5OjU3LjY4NzEyMiIsICJpdGVtcyI6IFt7Iml0ZW1faWQiOiAiaXRlbV8yNjIiLCAicXVhbnRpdHkiOiA1LCAicHJpY2VfdXNkIjogNzUuMn0sIHsiaXRlbV9pZCI6ICJpdGVtXzMzNCIsICJxdWFudGl0eSI6IDEsICJwcmljZV91c2QiOiAxNC4yN31dfQ==</td><td>null</td><td>{\"user_id\": \"user_2131\", \"event_type\": \"purchase\", \"event_timestamp\": \"2025-08-15T03:19:57.687122\", \"items\": [{\"item_id\": \"item_262\", \"quantity\": 5, \"price_usd\": 75.2}, {\"item_id\": \"item_334\", \"quantity\": 1, \"price_usd\": 14.27}]}</td></tr><tr><td>event_90</td><td>1.755227997687149E9</td><td>eyJ1c2VyX2lkIjogInVzZXJfNjMxMCIsICJldmVudF90eXBlIjogInB1cmNoYXNlIiwgImV2ZW50X3RpbWVzdGFtcCI6ICIyMDI1LTA4LTE1VDAzOjE5OjU3LjY4NzEzOCIsICJpdGVtcyI6IFt7Iml0ZW1faWQiOiAiaXRlbV82MjYiLCAicXVhbnRpdHkiOiAxLCAicHJpY2VfdXNkIjogNjYuNDZ9LCB7Iml0ZW1faWQiOiAiaXRlbV8yNDEiLCAicXVhbnRpdHkiOiA1LCAicHJpY2VfdXNkIjogODMuNTV9XX0=</td><td>null</td><td>{\"user_id\": \"user_6310\", \"event_type\": \"purchase\", \"event_timestamp\": \"2025-08-15T03:19:57.687138\", \"items\": [{\"item_id\": \"item_626\", \"quantity\": 1, \"price_usd\": 66.46}, {\"item_id\": \"item_241\", \"quantity\": 5, \"price_usd\": 83.55}]}</td></tr><tr><td>event_91</td><td>1.755227997687166E9</td><td>eyJ1c2VyX2lkIjogInVzZXJfNjEyMSIsICJldmVudF90eXBlIjogImNsaWNrIiwgImV2ZW50X3RpbWVzdGFtcCI6ICIyMDI1LTA4LTE1VDAzOjE5OjU3LjY4NzE1MiIsICJpdGVtcyI6IFt7Iml0ZW1faWQiOiAiaXRlbV8zNjkiLCAicXVhbnRpdHkiOiA1LCAicHJpY2VfdXNkIjogMTkuNjR9XX0=</td><td>null</td><td>{\"user_id\": \"user_6121\", \"event_type\": \"click\", \"event_timestamp\": \"2025-08-15T03:19:57.687152\", \"items\": [{\"item_id\": \"item_369\", \"quantity\": 5, \"price_usd\": 19.64}]}</td></tr><tr><td>event_92</td><td>1.755227997687184E9</td><td>eyJ1c2VyX2lkIjogInVzZXJfNDc2NSIsICJldmVudF90eXBlIjogImNsaWNrIiwgImV2ZW50X3RpbWVzdGFtcCI6ICIyMDI1LTA4LTE1VDAzOjE5OjU3LjY4NzE3MCIsICJpdGVtcyI6IFt7Iml0ZW1faWQiOiAiaXRlbV82NzAiLCAicXVhbnRpdHkiOiAyLCAicHJpY2VfdXNkIjogMzUuNTh9LCB7Iml0ZW1faWQiOiAiaXRlbV83NzEiLCAicXVhbnRpdHkiOiA1LCAicHJpY2VfdXNkIjogNDguNjh9LCB7Iml0ZW1faWQiOiAiaXRlbV8yMzkiLCAicXVhbnRpdHkiOiA0LCAicHJpY2VfdXNkIjogMTkuODd9XX0=</td><td>null</td><td>{\"user_id\": \"user_4765\", \"event_type\": \"click\", \"event_timestamp\": \"2025-08-15T03:19:57.687170\", \"items\": [{\"item_id\": \"item_670\", \"quantity\": 2, \"price_usd\": 35.58}, {\"item_id\": \"item_771\", \"quantity\": 5, \"price_usd\": 48.68}, {\"item_id\": \"item_239\", \"quantity\": 4, \"price_usd\": 19.87}]}</td></tr><tr><td>event_93</td><td>1.755227997687209E9</td><td>eyJ1c2VyX2lkIjogInVzZXJfMTIwMCIsICJldmVudF90eXBlIjogImNsaWNrIiwgImV2ZW50X3RpbWVzdGFtcCI6ICIyMDI1LTA4LTE1VDAzOjE5OjU3LjY4NzE4NyIsICJpdGVtcyI6IFt7Iml0ZW1faWQiOiAiaXRlbV85MTkiLCAicXVhbnRpdHkiOiAyLCAicHJpY2VfdXNkIjogOTkuOTV9LCB7Iml0ZW1faWQiOiAiaXRlbV8xNTAiLCAicXVhbnRpdHkiOiA0LCAicHJpY2VfdXNkIjogNTEuNDl9LCB7Iml0ZW1faWQiOiAiaXRlbV8zNTciLCAicXVhbnRpdHkiOiAzLCAicHJpY2VfdXNkIjogNzQuMTl9XX0=</td><td>null</td><td>{\"user_id\": \"user_1200\", \"event_type\": \"click\", \"event_timestamp\": \"2025-08-15T03:19:57.687187\", \"items\": [{\"item_id\": \"item_919\", \"quantity\": 2, \"price_usd\": 99.95}, {\"item_id\": \"item_150\", \"quantity\": 4, \"price_usd\": 51.49}, {\"item_id\": \"item_357\", \"quantity\": 3, \"price_usd\": 74.19}]}</td></tr><tr><td>event_94</td><td>1.755227997687225E9</td><td>eyJ1c2VyX2lkIjogInVzZXJfNDYyMyIsICJldmVudF90eXBlIjogInZpZXciLCAiZXZlbnRfdGltZXN0YW1wIjogIjIwMjUtMDgtMTVUMDM6MTk6NTcuNjg3MjExIiwgIml0ZW1zIjogW3siaXRlbV9pZCI6ICJpdGVtXzMzOCIsICJxdWFudGl0eSI6IDQsICJwcmljZV91c2QiOiA5Mi40OH0sIHsiaXRlbV9pZCI6ICJpdGVtXzQ3MCIsICJxdWFudGl0eSI6IDUsICJwcmljZV91c2QiOiAzMC4wM30sIHsiaXRlbV9pZCI6ICJpdGVtXzUzMiIsICJxdWFudGl0eSI6IDUsICJwcmljZV91c2QiOiAzMi45M31dfQ==</td><td>null</td><td>{\"user_id\": \"user_4623\", \"event_type\": \"view\", \"event_timestamp\": \"2025-08-15T03:19:57.687211\", \"items\": [{\"item_id\": \"item_338\", \"quantity\": 4, \"price_usd\": 92.48}, {\"item_id\": \"item_470\", \"quantity\": 5, \"price_usd\": 30.03}, {\"item_id\": \"item_532\", \"quantity\": 5, \"price_usd\": 32.93}]}</td></tr><tr><td>event_95</td><td>1.755227997687235E9</td><td>eyJ1c2VyX2lkIjogInVzZXJfNzc0MiIsICJldmVudF90eXBlIjogImNsaWNrIiwgImV2ZW50X3RpbWVzdGFtcCI6ICIyMDI1LTA4LTE1VDAzOjE5OjU3LjY4NzIyNyIsICJpdGVtcyI6IFt7Iml0ZW1faWQiOiAiaXRlbV80OTkiLCAicXVhbnRpdHkiOiAxLCAicHJpY2VfdXNkIjogNDkuNjV9XX0=</td><td>null</td><td>{\"user_id\": \"user_7742\", \"event_type\": \"click\", \"event_timestamp\": \"2025-08-15T03:19:57.687227\", \"items\": [{\"item_id\": \"item_499\", \"quantity\": 1, \"price_usd\": 49.65}]}</td></tr><tr><td>event_96</td><td>1.755227997687268E9</td><td>eyJ1c2VyX2lkIjogInVzZXJfMzUwNiIsICJldmVudF90eXBlIjogInZpZXciLCAiZXZlbnRfdGltZXN0YW1wIjogIjIwMjUtMDgtMTVUMDM6MTk6NTcuNjg3MjM3IiwgIml0ZW1zIjogW3siaXRlbV9pZCI6ICJpdGVtXzk0MiIsICJxdWFudGl0eSI6IDEsICJwcmljZV91c2QiOiAyMy4wN30sIHsiaXRlbV9pZCI6ICJpdGVtXzU5MyIsICJxdWFudGl0eSI6IDMsICJwcmljZV91c2QiOiA1Mi40Nn0sIHsiaXRlbV9pZCI6ICJpdGVtXzgyMyIsICJxdWFudGl0eSI6IDUsICJwcmljZV91c2QiOiA2MS44fV19</td><td>null</td><td>{\"user_id\": \"user_3506\", \"event_type\": \"view\", \"event_timestamp\": \"2025-08-15T03:19:57.687237\", \"items\": [{\"item_id\": \"item_942\", \"quantity\": 1, \"price_usd\": 23.07}, {\"item_id\": \"item_593\", \"quantity\": 3, \"price_usd\": 52.46}, {\"item_id\": \"item_823\", \"quantity\": 5, \"price_usd\": 61.8}]}</td></tr><tr><td>event_97</td><td>1.755227997687279E9</td><td>eyJ1c2VyX2lkIjogInVzZXJfNTEwMiIsICJldmVudF90eXBlIjogImNsaWNrIiwgImV2ZW50X3RpbWVzdGFtcCI6ICIyMDI1LTA4LTE1VDAzOjE5OjU3LjY4NzI3MSIsICJpdGVtcyI6IFt7Iml0ZW1faWQiOiAiaXRlbV8yMDYiLCAicXVhbnRpdHkiOiAxLCAicHJpY2VfdXNkIjogOTIuMDJ9XX0=</td><td>null</td><td>{\"user_id\": \"user_5102\", \"event_type\": \"click\", \"event_timestamp\": \"2025-08-15T03:19:57.687271\", \"items\": [{\"item_id\": \"item_206\", \"quantity\": 1, \"price_usd\": 92.02}]}</td></tr><tr><td>event_98</td><td>1.755227997687288E9</td><td>eyJ1c2VyX2lkIjogInVzZXJfMjc1MSIsICJldmVudF90eXBlIjogInZpZXciLCAiZXZlbnRfdGltZXN0YW1wIjogIjIwMjUtMDgtMTVUMDM6MTk6NTcuNjg3MjgwIiwgIml0ZW1zIjogW3siaXRlbV9pZCI6ICJpdGVtXzc3MSIsICJxdWFudGl0eSI6IDUsICJwcmljZV91c2QiOiAyNi42fV19</td><td>null</td><td>{\"user_id\": \"user_2751\", \"event_type\": \"view\", \"event_timestamp\": \"2025-08-15T03:19:57.687280\", \"items\": [{\"item_id\": \"item_771\", \"quantity\": 5, \"price_usd\": 26.6}]}</td></tr><tr><td>event_99</td><td>1.755227997687304E9</td><td>eyJ1c2VyX2lkIjogInVzZXJfNTQyMCIsICJldmVudF90eXBlIjogInZpZXciLCAiZXZlbnRfdGltZXN0YW1wIjogIjIwMjUtMDgtMTVUMDM6MTk6NTcuNjg3MjkwIiwgIml0ZW1zIjogW3siaXRlbV9pZCI6ICJpdGVtXzc2MiIsICJxdWFudGl0eSI6IDMsICJwcmljZV91c2QiOiA5MS44OH0sIHsiaXRlbV9pZCI6ICJpdGVtXzc2NiIsICJxdWFudGl0eSI6IDUsICJwcmljZV91c2QiOiA4Ni44NX0sIHsiaXRlbV9pZCI6ICJpdGVtXzIxMSIsICJxdWFudGl0eSI6IDQsICJwcmljZV91c2QiOiAxMC45N31dfQ==</td><td>null</td><td>{\"user_id\": \"user_5420\", \"event_type\": \"view\", \"event_timestamp\": \"2025-08-15T03:19:57.687290\", \"items\": [{\"item_id\": \"item_762\", \"quantity\": 3, \"price_usd\": 91.88}, {\"item_id\": \"item_766\", \"quantity\": 5, \"price_usd\": 86.85}, {\"item_id\": \"item_211\", \"quantity\": 4, \"price_usd\": 10.97}]}</td></tr></tbody></table></div>"
      ]
     },
     "metadata": {
      "application/vnd.databricks.v1+output": {
       "addedWidgets": {},
       "aggData": [],
       "aggError": "",
       "aggOverflow": false,
       "aggSchema": [],
       "aggSeriesLimitReached": false,
       "aggType": "",
       "arguments": {},
       "columnCustomDisplayInfos": {},
       "data": [
        [
         "event_0",
         1.755227997685932E9,
         "eyJ1c2VyX2lkIjogInVzZXJfOTQ0MiIsICJldmVudF90eXBlIjogInZpZXciLCAiZXZlbnRfdGltZXN0YW1wIjogIjIwMjUtMDgtMTVUMDM6MTk6NTcuNjg1ODg1IiwgIml0ZW1zIjogW3siaXRlbV9pZCI6ICJpdGVtXzE3NSIsICJxdWFudGl0eSI6IDMsICJwcmljZV91c2QiOiAyNi4zNH0sIHsiaXRlbV9pZCI6ICJpdGVtXzMwOCIsICJxdWFudGl0eSI6IDIsICJwcmljZV91c2QiOiAzOC40Mn1dfQ==",
         null,
         "{\"user_id\": \"user_9442\", \"event_type\": \"view\", \"event_timestamp\": \"2025-08-15T03:19:57.685885\", \"items\": [{\"item_id\": \"item_175\", \"quantity\": 3, \"price_usd\": 26.34}, {\"item_id\": \"item_308\", \"quantity\": 2, \"price_usd\": 38.42}]}"
        ],
        [
         "event_1",
         1.755227997685954E9,
         "eyJ1c2VyX2lkIjogInVzZXJfNjIwMiIsICJldmVudF90eXBlIjogInB1cmNoYXNlIiwgImV2ZW50X3RpbWVzdGFtcCI6ICIyMDI1LTA4LTE1VDAzOjE5OjU3LjY4NTkzOCIsICJpdGVtcyI6IFt7Iml0ZW1faWQiOiAiaXRlbV85MDUiLCAicXVhbnRpdHkiOiAxLCAicHJpY2VfdXNkIjogMTMuMDR9XX0=",
         null,
         "{\"user_id\": \"user_6202\", \"event_type\": \"purchase\", \"event_timestamp\": \"2025-08-15T03:19:57.685938\", \"items\": [{\"item_id\": \"item_905\", \"quantity\": 1, \"price_usd\": 13.04}]}"
        ],
        [
         "event_2",
         1.75522799768597E9,
         "eyJ1c2VyX2lkIjogInVzZXJfMTg1NCIsICJldmVudF90eXBlIjogImNsaWNrIiwgImV2ZW50X3RpbWVzdGFtcCI6ICIyMDI1LTA4LTE1VDAzOjE5OjU3LjY4NTk1NyIsICJpdGVtcyI6IFt7Iml0ZW1faWQiOiAiaXRlbV81NjYiLCAicXVhbnRpdHkiOiAxLCAicHJpY2VfdXNkIjogNTEuNjN9LCB7Iml0ZW1faWQiOiAiaXRlbV8zMTAiLCAicXVhbnRpdHkiOiAyLCAicHJpY2VfdXNkIjogMTYuOTl9XX0=",
         null,
         "{\"user_id\": \"user_1854\", \"event_type\": \"click\", \"event_timestamp\": \"2025-08-15T03:19:57.685957\", \"items\": [{\"item_id\": \"item_566\", \"quantity\": 1, \"price_usd\": 51.63}, {\"item_id\": \"item_310\", \"quantity\": 2, \"price_usd\": 16.99}]}"
        ],
        [
         "event_3",
         1.755227997685985E9,
         "eyJ1c2VyX2lkIjogInVzZXJfOTQzMCIsICJldmVudF90eXBlIjogImNsaWNrIiwgImV2ZW50X3RpbWVzdGFtcCI6ICIyMDI1LTA4LTE1VDAzOjE5OjU3LjY4NTk3MyIsICJpdGVtcyI6IFt7Iml0ZW1faWQiOiAiaXRlbV81NjYiLCAicXVhbnRpdHkiOiAzLCAicHJpY2VfdXNkIjogMzcuMDN9LCB7Iml0ZW1faWQiOiAiaXRlbV80MzYiLCAicXVhbnRpdHkiOiA1LCAicHJpY2VfdXNkIjogODUuMzZ9XX0=",
         null,
         "{\"user_id\": \"user_9430\", \"event_type\": \"click\", \"event_timestamp\": \"2025-08-15T03:19:57.685973\", \"items\": [{\"item_id\": \"item_566\", \"quantity\": 3, \"price_usd\": 37.03}, {\"item_id\": \"item_436\", \"quantity\": 5, \"price_usd\": 85.36}]}"
        ],
        [
         "event_4",
         1.755227997685996E9,
         "eyJ1c2VyX2lkIjogInVzZXJfNzc4NiIsICJldmVudF90eXBlIjogInB1cmNoYXNlIiwgImV2ZW50X3RpbWVzdGFtcCI6ICIyMDI1LTA4LTE1VDAzOjE5OjU3LjY4NTk4NyIsICJpdGVtcyI6IFt7Iml0ZW1faWQiOiAiaXRlbV8zNjYiLCAicXVhbnRpdHkiOiAxLCAicHJpY2VfdXNkIjogNDYuMDl9XX0=",
         null,
         "{\"user_id\": \"user_7786\", \"event_type\": \"purchase\", \"event_timestamp\": \"2025-08-15T03:19:57.685987\", \"items\": [{\"item_id\": \"item_366\", \"quantity\": 1, \"price_usd\": 46.09}]}"
        ],
        [
         "event_5",
         1.755227997686006E9,
         "eyJ1c2VyX2lkIjogInVzZXJfNDE3NSIsICJldmVudF90eXBlIjogImNsaWNrIiwgImV2ZW50X3RpbWVzdGFtcCI6ICIyMDI1LTA4LTE1VDAzOjE5OjU3LjY4NTk5OCIsICJpdGVtcyI6IFt7Iml0ZW1faWQiOiAiaXRlbV80NjAiLCAicXVhbnRpdHkiOiA0LCAicHJpY2VfdXNkIjogMjUuOTN9XX0=",
         null,
         "{\"user_id\": \"user_4175\", \"event_type\": \"click\", \"event_timestamp\": \"2025-08-15T03:19:57.685998\", \"items\": [{\"item_id\": \"item_460\", \"quantity\": 4, \"price_usd\": 25.93}]}"
        ],
        [
         "event_6",
         1.755227997686019E9,
         "eyJ1c2VyX2lkIjogInVzZXJfMjE1OSIsICJldmVudF90eXBlIjogImNsaWNrIiwgImV2ZW50X3RpbWVzdGFtcCI6ICIyMDI1LTA4LTE1VDAzOjE5OjU3LjY4NjAwOCIsICJpdGVtcyI6IFt7Iml0ZW1faWQiOiAiaXRlbV8zNjYiLCAicXVhbnRpdHkiOiA0LCAicHJpY2VfdXNkIjogNTcuNDN9LCB7Iml0ZW1faWQiOiAiaXRlbV8xMzIiLCAicXVhbnRpdHkiOiA1LCAicHJpY2VfdXNkIjogNjQuNTR9XX0=",
         null,
         "{\"user_id\": \"user_2159\", \"event_type\": \"click\", \"event_timestamp\": \"2025-08-15T03:19:57.686008\", \"items\": [{\"item_id\": \"item_366\", \"quantity\": 4, \"price_usd\": 57.43}, {\"item_id\": \"item_132\", \"quantity\": 5, \"price_usd\": 64.54}]}"
        ],
        [
         "event_7",
         1.755227997686036E9,
         "eyJ1c2VyX2lkIjogInVzZXJfNzM4NiIsICJldmVudF90eXBlIjogImNsaWNrIiwgImV2ZW50X3RpbWVzdGFtcCI6ICIyMDI1LTA4LTE1VDAzOjE5OjU3LjY4NjAyMSIsICJpdGVtcyI6IFt7Iml0ZW1faWQiOiAiaXRlbV84OTQiLCAicXVhbnRpdHkiOiAyLCAicHJpY2VfdXNkIjogNDguMDd9LCB7Iml0ZW1faWQiOiAiaXRlbV83MjYiLCAicXVhbnRpdHkiOiA0LCAicHJpY2VfdXNkIjogMzguMjd9LCB7Iml0ZW1faWQiOiAiaXRlbV83NzkiLCAicXVhbnRpdHkiOiAxLCAicHJpY2VfdXNkIjogODMuMTV9XX0=",
         null,
         "{\"user_id\": \"user_7386\", \"event_type\": \"click\", \"event_timestamp\": \"2025-08-15T03:19:57.686021\", \"items\": [{\"item_id\": \"item_894\", \"quantity\": 2, \"price_usd\": 48.07}, {\"item_id\": \"item_726\", \"quantity\": 4, \"price_usd\": 38.27}, {\"item_id\": \"item_779\", \"quantity\": 1, \"price_usd\": 83.15}]}"
        ],
        [
         "event_8",
         1.755227997686053E9,
         "eyJ1c2VyX2lkIjogInVzZXJfODg1NyIsICJldmVudF90eXBlIjogImNsaWNrIiwgImV2ZW50X3RpbWVzdGFtcCI6ICIyMDI1LTA4LTE1VDAzOjE5OjU3LjY4NjAzOSIsICJpdGVtcyI6IFt7Iml0ZW1faWQiOiAiaXRlbV82ODMiLCAicXVhbnRpdHkiOiA1LCAicHJpY2VfdXNkIjogMjMuMDF9LCB7Iml0ZW1faWQiOiAiaXRlbV81MjciLCAicXVhbnRpdHkiOiAxLCAicHJpY2VfdXNkIjogMjMuMjV9LCB7Iml0ZW1faWQiOiAiaXRlbV83NjAiLCAicXVhbnRpdHkiOiA0LCAicHJpY2VfdXNkIjogNDQuNjV9XX0=",
         null,
         "{\"user_id\": \"user_8857\", \"event_type\": \"click\", \"event_timestamp\": \"2025-08-15T03:19:57.686039\", \"items\": [{\"item_id\": \"item_683\", \"quantity\": 5, \"price_usd\": 23.01}, {\"item_id\": \"item_527\", \"quantity\": 1, \"price_usd\": 23.25}, {\"item_id\": \"item_760\", \"quantity\": 4, \"price_usd\": 44.65}]}"
        ],
        [
         "event_9",
         1.755227997686064E9,
         "eyJ1c2VyX2lkIjogInVzZXJfOTgxOSIsICJldmVudF90eXBlIjogInZpZXciLCAiZXZlbnRfdGltZXN0YW1wIjogIjIwMjUtMDgtMTVUMDM6MTk6NTcuNjg2MDU1IiwgIml0ZW1zIjogW3siaXRlbV9pZCI6ICJpdGVtXzE1NyIsICJxdWFudGl0eSI6IDIsICJwcmljZV91c2QiOiA2Ny45MX1dfQ==",
         null,
         "{\"user_id\": \"user_9819\", \"event_type\": \"view\", \"event_timestamp\": \"2025-08-15T03:19:57.686055\", \"items\": [{\"item_id\": \"item_157\", \"quantity\": 2, \"price_usd\": 67.91}]}"
        ],
        [
         "event_10",
         1.755227997686074E9,
         "eyJ1c2VyX2lkIjogInVzZXJfODU4MSIsICJldmVudF90eXBlIjogInZpZXciLCAiZXZlbnRfdGltZXN0YW1wIjogIjIwMjUtMDgtMTVUMDM6MTk6NTcuNjg2MDY2IiwgIml0ZW1zIjogW3siaXRlbV9pZCI6ICJpdGVtXzY3NiIsICJxdWFudGl0eSI6IDEsICJwcmljZV91c2QiOiA4NC4wMn1dfQ==",
         null,
         "{\"user_id\": \"user_8581\", \"event_type\": \"view\", \"event_timestamp\": \"2025-08-15T03:19:57.686066\", \"items\": [{\"item_id\": \"item_676\", \"quantity\": 1, \"price_usd\": 84.02}]}"
        ],
        [
         "event_11",
         1.755227997686098E9,
         "eyJ1c2VyX2lkIjogInVzZXJfMjg3MCIsICJldmVudF90eXBlIjogInZpZXciLCAiZXZlbnRfdGltZXN0YW1wIjogIjIwMjUtMDgtMTVUMDM6MTk6NTcuNjg2MDc2IiwgIml0ZW1zIjogW3siaXRlbV9pZCI6ICJpdGVtXzExNCIsICJxdWFudGl0eSI6IDQsICJwcmljZV91c2QiOiA5My42N30sIHsiaXRlbV9pZCI6ICJpdGVtXzk0MiIsICJxdWFudGl0eSI6IDIsICJwcmljZV91c2QiOiA5MC45Nn0sIHsiaXRlbV9pZCI6ICJpdGVtXzcyOSIsICJxdWFudGl0eSI6IDMsICJwcmljZV91c2QiOiA5MC42fV19",
         null,
         "{\"user_id\": \"user_2870\", \"event_type\": \"view\", \"event_timestamp\": \"2025-08-15T03:19:57.686076\", \"items\": [{\"item_id\": \"item_114\", \"quantity\": 4, \"price_usd\": 93.67}, {\"item_id\": \"item_942\", \"quantity\": 2, \"price_usd\": 90.96}, {\"item_id\": \"item_729\", \"quantity\": 3, \"price_usd\": 90.6}]}"
        ],
        [
         "event_12",
         1.75522799768612E9,
         "eyJ1c2VyX2lkIjogInVzZXJfODY0OSIsICJldmVudF90eXBlIjogInZpZXciLCAiZXZlbnRfdGltZXN0YW1wIjogIjIwMjUtMDgtMTVUMDM6MTk6NTcuNjg2MTAxIiwgIml0ZW1zIjogW3siaXRlbV9pZCI6ICJpdGVtXzg4NCIsICJxdWFudGl0eSI6IDEsICJwcmljZV91c2QiOiAzNS4zfSwgeyJpdGVtX2lkIjogIml0ZW1fMTk5IiwgInF1YW50aXR5IjogNSwgInByaWNlX3VzZCI6IDkwLjk3fV19",
         null,
         "{\"user_id\": \"user_8649\", \"event_type\": \"view\", \"event_timestamp\": \"2025-08-15T03:19:57.686101\", \"items\": [{\"item_id\": \"item_884\", \"quantity\": 1, \"price_usd\": 35.3}, {\"item_id\": \"item_199\", \"quantity\": 5, \"price_usd\": 90.97}]}"
        ],
        [
         "event_13",
         1.755227997686145E9,
         "eyJ1c2VyX2lkIjogInVzZXJfNDM2MiIsICJldmVudF90eXBlIjogInZpZXciLCAiZXZlbnRfdGltZXN0YW1wIjogIjIwMjUtMDgtMTVUMDM6MTk6NTcuNjg2MTIzIiwgIml0ZW1zIjogW3siaXRlbV9pZCI6ICJpdGVtXzk3MSIsICJxdWFudGl0eSI6IDUsICJwcmljZV91c2QiOiA4MS41M30sIHsiaXRlbV9pZCI6ICJpdGVtXzMxNyIsICJxdWFudGl0eSI6IDMsICJwcmljZV91c2QiOiAxNy4xMn0sIHsiaXRlbV9pZCI6ICJpdGVtXzkxNCIsICJxdWFudGl0eSI6IDIsICJwcmljZV91c2QiOiAxNC45fV19",
         null,
         "{\"user_id\": \"user_4362\", \"event_type\": \"view\", \"event_timestamp\": \"2025-08-15T03:19:57.686123\", \"items\": [{\"item_id\": \"item_971\", \"quantity\": 5, \"price_usd\": 81.53}, {\"item_id\": \"item_317\", \"quantity\": 3, \"price_usd\": 17.12}, {\"item_id\": \"item_914\", \"quantity\": 2, \"price_usd\": 14.9}]}"
        ],
        [
         "event_14",
         1.755227997686159E9,
         "eyJ1c2VyX2lkIjogInVzZXJfODM4OCIsICJldmVudF90eXBlIjogInZpZXciLCAiZXZlbnRfdGltZXN0YW1wIjogIjIwMjUtMDgtMTVUMDM6MTk6NTcuNjg2MTQ3IiwgIml0ZW1zIjogW3siaXRlbV9pZCI6ICJpdGVtXzg1NCIsICJxdWFudGl0eSI6IDUsICJwcmljZV91c2QiOiAzOC45N30sIHsiaXRlbV9pZCI6ICJpdGVtXzI4MyIsICJxdWFudGl0eSI6IDUsICJwcmljZV91c2QiOiAyMS4xMX1dfQ==",
         null,
         "{\"user_id\": \"user_8388\", \"event_type\": \"view\", \"event_timestamp\": \"2025-08-15T03:19:57.686147\", \"items\": [{\"item_id\": \"item_854\", \"quantity\": 5, \"price_usd\": 38.97}, {\"item_id\": \"item_283\", \"quantity\": 5, \"price_usd\": 21.11}]}"
        ],
        [
         "event_15",
         1.755227997686174E9,
         "eyJ1c2VyX2lkIjogInVzZXJfODg4NyIsICJldmVudF90eXBlIjogImNsaWNrIiwgImV2ZW50X3RpbWVzdGFtcCI6ICIyMDI1LTA4LTE1VDAzOjE5OjU3LjY4NjE2MSIsICJpdGVtcyI6IFt7Iml0ZW1faWQiOiAiaXRlbV84NjkiLCAicXVhbnRpdHkiOiA0LCAicHJpY2VfdXNkIjogODEuNTR9LCB7Iml0ZW1faWQiOiAiaXRlbV8xMjMiLCAicXVhbnRpdHkiOiAzLCAicHJpY2VfdXNkIjogMzEuNjF9LCB7Iml0ZW1faWQiOiAiaXRlbV8zODMiLCAicXVhbnRpdHkiOiA0LCAicHJpY2VfdXNkIjogNDMuOX1dfQ==",
         null,
         "{\"user_id\": \"user_8887\", \"event_type\": \"click\", \"event_timestamp\": \"2025-08-15T03:19:57.686161\", \"items\": [{\"item_id\": \"item_869\", \"quantity\": 4, \"price_usd\": 81.54}, {\"item_id\": \"item_123\", \"quantity\": 3, \"price_usd\": 31.61}, {\"item_id\": \"item_383\", \"quantity\": 4, \"price_usd\": 43.9}]}"
        ],
        [
         "event_16",
         1.755227997686184E9,
         "eyJ1c2VyX2lkIjogInVzZXJfMjg2MyIsICJldmVudF90eXBlIjogImNsaWNrIiwgImV2ZW50X3RpbWVzdGFtcCI6ICIyMDI1LTA4LTE1VDAzOjE5OjU3LjY4NjE3NiIsICJpdGVtcyI6IFt7Iml0ZW1faWQiOiAiaXRlbV8xNDYiLCAicXVhbnRpdHkiOiA0LCAicHJpY2VfdXNkIjogODkuOH1dfQ==",
         null,
         "{\"user_id\": \"user_2863\", \"event_type\": \"click\", \"event_timestamp\": \"2025-08-15T03:19:57.686176\", \"items\": [{\"item_id\": \"item_146\", \"quantity\": 4, \"price_usd\": 89.8}]}"
        ],
        [
         "event_17",
         1.755227997686194E9,
         "eyJ1c2VyX2lkIjogInVzZXJfMzU3OSIsICJldmVudF90eXBlIjogImNsaWNrIiwgImV2ZW50X3RpbWVzdGFtcCI6ICIyMDI1LTA4LTE1VDAzOjE5OjU3LjY4NjE4NiIsICJpdGVtcyI6IFt7Iml0ZW1faWQiOiAiaXRlbV8xODkiLCAicXVhbnRpdHkiOiAxLCAicHJpY2VfdXNkIjogMjUuOTN9XX0=",
         null,
         "{\"user_id\": \"user_3579\", \"event_type\": \"click\", \"event_timestamp\": \"2025-08-15T03:19:57.686186\", \"items\": [{\"item_id\": \"item_189\", \"quantity\": 1, \"price_usd\": 25.93}]}"
        ],
        [
         "event_18",
         1.755227997686204E9,
         "eyJ1c2VyX2lkIjogInVzZXJfMjcyNSIsICJldmVudF90eXBlIjogInZpZXciLCAiZXZlbnRfdGltZXN0YW1wIjogIjIwMjUtMDgtMTVUMDM6MTk6NTcuNjg2MTk2IiwgIml0ZW1zIjogW3siaXRlbV9pZCI6ICJpdGVtXzQyMSIsICJxdWFudGl0eSI6IDMsICJwcmljZV91c2QiOiA5OS44fV19",
         null,
         "{\"user_id\": \"user_2725\", \"event_type\": \"view\", \"event_timestamp\": \"2025-08-15T03:19:57.686196\", \"items\": [{\"item_id\": \"item_421\", \"quantity\": 3, \"price_usd\": 99.8}]}"
        ],
        [
         "event_19",
         1.755227997686214E9,
         "eyJ1c2VyX2lkIjogInVzZXJfNDEwMSIsICJldmVudF90eXBlIjogImNsaWNrIiwgImV2ZW50X3RpbWVzdGFtcCI6ICIyMDI1LTA4LTE1VDAzOjE5OjU3LjY4NjIwNiIsICJpdGVtcyI6IFt7Iml0ZW1faWQiOiAiaXRlbV83MzQiLCAicXVhbnRpdHkiOiA1LCAicHJpY2VfdXNkIjogMzkuMzd9XX0=",
         null,
         "{\"user_id\": \"user_4101\", \"event_type\": \"click\", \"event_timestamp\": \"2025-08-15T03:19:57.686206\", \"items\": [{\"item_id\": \"item_734\", \"quantity\": 5, \"price_usd\": 39.37}]}"
        ],
        [
         "event_20",
         1.755227997686229E9,
         "eyJ1c2VyX2lkIjogInVzZXJfMzI4NiIsICJldmVudF90eXBlIjogInZpZXciLCAiZXZlbnRfdGltZXN0YW1wIjogIjIwMjUtMDgtMTVUMDM6MTk6NTcuNjg2MjE2IiwgIml0ZW1zIjogW3siaXRlbV9pZCI6ICJpdGVtXzk0MiIsICJxdWFudGl0eSI6IDIsICJwcmljZV91c2QiOiA1NC42MX0sIHsiaXRlbV9pZCI6ICJpdGVtXzE1OCIsICJxdWFudGl0eSI6IDEsICJwcmljZV91c2QiOiA5My4xOH0sIHsiaXRlbV9pZCI6ICJpdGVtXzQ5NyIsICJxdWFudGl0eSI6IDEsICJwcmljZV91c2QiOiA5MC4wNn1dfQ==",
         null,
         "{\"user_id\": \"user_3286\", \"event_type\": \"view\", \"event_timestamp\": \"2025-08-15T03:19:57.686216\", \"items\": [{\"item_id\": \"item_942\", \"quantity\": 2, \"price_usd\": 54.61}, {\"item_id\": \"item_158\", \"quantity\": 1, \"price_usd\": 93.18}, {\"item_id\": \"item_497\", \"quantity\": 1, \"price_usd\": 90.06}]}"
        ],
        [
         "event_21",
         1.755227997686239E9,
         "eyJ1c2VyX2lkIjogInVzZXJfOTIzOSIsICJldmVudF90eXBlIjogImNsaWNrIiwgImV2ZW50X3RpbWVzdGFtcCI6ICIyMDI1LTA4LTE1VDAzOjE5OjU3LjY4NjIzMSIsICJpdGVtcyI6IFt7Iml0ZW1faWQiOiAiaXRlbV83NDIiLCAicXVhbnRpdHkiOiAyLCAicHJpY2VfdXNkIjogMzcuNzl9XX0=",
         null,
         "{\"user_id\": \"user_9239\", \"event_type\": \"click\", \"event_timestamp\": \"2025-08-15T03:19:57.686231\", \"items\": [{\"item_id\": \"item_742\", \"quantity\": 2, \"price_usd\": 37.79}]}"
        ],
        [
         "event_22",
         1.755227997686252E9,
         "eyJ1c2VyX2lkIjogInVzZXJfOTYzNiIsICJldmVudF90eXBlIjogInB1cmNoYXNlIiwgImV2ZW50X3RpbWVzdGFtcCI6ICIyMDI1LTA4LTE1VDAzOjE5OjU3LjY4NjI0MSIsICJpdGVtcyI6IFt7Iml0ZW1faWQiOiAiaXRlbV82OTAiLCAicXVhbnRpdHkiOiAxLCAicHJpY2VfdXNkIjogMjEuMTh9LCB7Iml0ZW1faWQiOiAiaXRlbV81NTUiLCAicXVhbnRpdHkiOiA1LCAicHJpY2VfdXNkIjogODcuNzl9XX0=",
         null,
         "{\"user_id\": \"user_9636\", \"event_type\": \"purchase\", \"event_timestamp\": \"2025-08-15T03:19:57.686241\", \"items\": [{\"item_id\": \"item_690\", \"quantity\": 1, \"price_usd\": 21.18}, {\"item_id\": \"item_555\", \"quantity\": 5, \"price_usd\": 87.79}]}"
        ],
        [
         "event_23",
         1.755227997686262E9,
         "eyJ1c2VyX2lkIjogInVzZXJfNDA5MCIsICJldmVudF90eXBlIjogInB1cmNoYXNlIiwgImV2ZW50X3RpbWVzdGFtcCI6ICIyMDI1LTA4LTE1VDAzOjE5OjU3LjY4NjI1NCIsICJpdGVtcyI6IFt7Iml0ZW1faWQiOiAiaXRlbV85NDUiLCAicXVhbnRpdHkiOiAxLCAicHJpY2VfdXNkIjogMTYuMzJ9XX0=",
         null,
         "{\"user_id\": \"user_4090\", \"event_type\": \"purchase\", \"event_timestamp\": \"2025-08-15T03:19:57.686254\", \"items\": [{\"item_id\": \"item_945\", \"quantity\": 1, \"price_usd\": 16.32}]}"
        ],
        [
         "event_24",
         1.755227997686284E9,
         "eyJ1c2VyX2lkIjogInVzZXJfOTE3NCIsICJldmVudF90eXBlIjogInB1cmNoYXNlIiwgImV2ZW50X3RpbWVzdGFtcCI6ICIyMDI1LTA4LTE1VDAzOjE5OjU3LjY4NjI2NCIsICJpdGVtcyI6IFt7Iml0ZW1faWQiOiAiaXRlbV83MzEiLCAicXVhbnRpdHkiOiAzLCAicHJpY2VfdXNkIjogMjUuMjN9XX0=",
         null,
         "{\"user_id\": \"user_9174\", \"event_type\": \"purchase\", \"event_timestamp\": \"2025-08-15T03:19:57.686264\", \"items\": [{\"item_id\": \"item_731\", \"quantity\": 3, \"price_usd\": 25.23}]}"
        ],
        [
         "event_25",
         1.755227997686301E9,
         "eyJ1c2VyX2lkIjogInVzZXJfNTM5OSIsICJldmVudF90eXBlIjogImNsaWNrIiwgImV2ZW50X3RpbWVzdGFtcCI6ICIyMDI1LTA4LTE1VDAzOjE5OjU3LjY4NjI4NyIsICJpdGVtcyI6IFt7Iml0ZW1faWQiOiAiaXRlbV84NDMiLCAicXVhbnRpdHkiOiA1LCAicHJpY2VfdXNkIjogOTguNzh9LCB7Iml0ZW1faWQiOiAiaXRlbV8yNTAiLCAicXVhbnRpdHkiOiAxLCAicHJpY2VfdXNkIjogODUuMjJ9LCB7Iml0ZW1faWQiOiAiaXRlbV82ODMiLCAicXVhbnRpdHkiOiA0LCAicHJpY2VfdXNkIjogNDUuMTV9XX0=",
         null,
         "{\"user_id\": \"user_5399\", \"event_type\": \"click\", \"event_timestamp\": \"2025-08-15T03:19:57.686287\", \"items\": [{\"item_id\": \"item_843\", \"quantity\": 5, \"price_usd\": 98.78}, {\"item_id\": \"item_250\", \"quantity\": 1, \"price_usd\": 85.22}, {\"item_id\": \"item_683\", \"quantity\": 4, \"price_usd\": 45.15}]}"
        ],
        [
         "event_26",
         1.755227997686317E9,
         "eyJ1c2VyX2lkIjogInVzZXJfNTY3NCIsICJldmVudF90eXBlIjogInB1cmNoYXNlIiwgImV2ZW50X3RpbWVzdGFtcCI6ICIyMDI1LTA4LTE1VDAzOjE5OjU3LjY4NjMwNCIsICJpdGVtcyI6IFt7Iml0ZW1faWQiOiAiaXRlbV8yMjIiLCAicXVhbnRpdHkiOiAzLCAicHJpY2VfdXNkIjogNDAuMjZ9LCB7Iml0ZW1faWQiOiAiaXRlbV83MzMiLCAicXVhbnRpdHkiOiAzLCAicHJpY2VfdXNkIjogNzkuMzZ9XX0=",
         null,
         "{\"user_id\": \"user_5674\", \"event_type\": \"purchase\", \"event_timestamp\": \"2025-08-15T03:19:57.686304\", \"items\": [{\"item_id\": \"item_222\", \"quantity\": 3, \"price_usd\": 40.26}, {\"item_id\": \"item_733\", \"quantity\": 3, \"price_usd\": 79.36}]}"
        ],
        [
         "event_27",
         1.75522799768633E9,
         "eyJ1c2VyX2lkIjogInVzZXJfMjk2MCIsICJldmVudF90eXBlIjogImNsaWNrIiwgImV2ZW50X3RpbWVzdGFtcCI6ICIyMDI1LTA4LTE1VDAzOjE5OjU3LjY4NjMxOSIsICJpdGVtcyI6IFt7Iml0ZW1faWQiOiAiaXRlbV81NjEiLCAicXVhbnRpdHkiOiA0LCAicHJpY2VfdXNkIjogMTMuODN9LCB7Iml0ZW1faWQiOiAiaXRlbV81OTkiLCAicXVhbnRpdHkiOiA0LCAicHJpY2VfdXNkIjogNDkuOTh9XX0=",
         null,
         "{\"user_id\": \"user_2960\", \"event_type\": \"click\", \"event_timestamp\": \"2025-08-15T03:19:57.686319\", \"items\": [{\"item_id\": \"item_561\", \"quantity\": 4, \"price_usd\": 13.83}, {\"item_id\": \"item_599\", \"quantity\": 4, \"price_usd\": 49.98}]}"
        ],
        [
         "event_28",
         1.75522799768634E9,
         "eyJ1c2VyX2lkIjogInVzZXJfNzIwMSIsICJldmVudF90eXBlIjogImNsaWNrIiwgImV2ZW50X3RpbWVzdGFtcCI6ICIyMDI1LTA4LTE1VDAzOjE5OjU3LjY4NjMzMiIsICJpdGVtcyI6IFt7Iml0ZW1faWQiOiAiaXRlbV82OTciLCAicXVhbnRpdHkiOiAzLCAicHJpY2VfdXNkIjogMzIuNDV9XX0=",
         null,
         "{\"user_id\": \"user_7201\", \"event_type\": \"click\", \"event_timestamp\": \"2025-08-15T03:19:57.686332\", \"items\": [{\"item_id\": \"item_697\", \"quantity\": 3, \"price_usd\": 32.45}]}"
        ],
        [
         "event_29",
         1.755227997686352E9,
         "eyJ1c2VyX2lkIjogInVzZXJfNjgxNSIsICJldmVudF90eXBlIjogInB1cmNoYXNlIiwgImV2ZW50X3RpbWVzdGFtcCI6ICIyMDI1LTA4LTE1VDAzOjE5OjU3LjY4NjM0MiIsICJpdGVtcyI6IFt7Iml0ZW1faWQiOiAiaXRlbV8zMDIiLCAicXVhbnRpdHkiOiAyLCAicHJpY2VfdXNkIjogNTMuNjh9LCB7Iml0ZW1faWQiOiAiaXRlbV8xNTIiLCAicXVhbnRpdHkiOiA0LCAicHJpY2VfdXNkIjogMTcuNzN9XX0=",
         null,
         "{\"user_id\": \"user_6815\", \"event_type\": \"purchase\", \"event_timestamp\": \"2025-08-15T03:19:57.686342\", \"items\": [{\"item_id\": \"item_302\", \"quantity\": 2, \"price_usd\": 53.68}, {\"item_id\": \"item_152\", \"quantity\": 4, \"price_usd\": 17.73}]}"
        ],
        [
         "event_30",
         1.755227997686362E9,
         "eyJ1c2VyX2lkIjogInVzZXJfMTk3NCIsICJldmVudF90eXBlIjogImNsaWNrIiwgImV2ZW50X3RpbWVzdGFtcCI6ICIyMDI1LTA4LTE1VDAzOjE5OjU3LjY4NjM1NCIsICJpdGVtcyI6IFt7Iml0ZW1faWQiOiAiaXRlbV82NTUiLCAicXVhbnRpdHkiOiAxLCAicHJpY2VfdXNkIjogNTguOTF9XX0=",
         null,
         "{\"user_id\": \"user_1974\", \"event_type\": \"click\", \"event_timestamp\": \"2025-08-15T03:19:57.686354\", \"items\": [{\"item_id\": \"item_655\", \"quantity\": 1, \"price_usd\": 58.91}]}"
        ],
        [
         "event_31",
         1.755227997686375E9,
         "eyJ1c2VyX2lkIjogInVzZXJfMzQ5OSIsICJldmVudF90eXBlIjogInB1cmNoYXNlIiwgImV2ZW50X3RpbWVzdGFtcCI6ICIyMDI1LTA4LTE1VDAzOjE5OjU3LjY4NjM2NCIsICJpdGVtcyI6IFt7Iml0ZW1faWQiOiAiaXRlbV8xNjYiLCAicXVhbnRpdHkiOiA0LCAicHJpY2VfdXNkIjogNjguODV9LCB7Iml0ZW1faWQiOiAiaXRlbV8xNzIiLCAicXVhbnRpdHkiOiAyLCAicHJpY2VfdXNkIjogMTUuMjl9XX0=",
         null,
         "{\"user_id\": \"user_3499\", \"event_type\": \"purchase\", \"event_timestamp\": \"2025-08-15T03:19:57.686364\", \"items\": [{\"item_id\": \"item_166\", \"quantity\": 4, \"price_usd\": 68.85}, {\"item_id\": \"item_172\", \"quantity\": 2, \"price_usd\": 15.29}]}"
        ],
        [
         "event_32",
         1.755227997686385E9,
         "eyJ1c2VyX2lkIjogInVzZXJfNTM2MSIsICJldmVudF90eXBlIjogInB1cmNoYXNlIiwgImV2ZW50X3RpbWVzdGFtcCI6ICIyMDI1LTA4LTE1VDAzOjE5OjU3LjY4NjM3NyIsICJpdGVtcyI6IFt7Iml0ZW1faWQiOiAiaXRlbV84MjciLCAicXVhbnRpdHkiOiAxLCAicHJpY2VfdXNkIjogNjUuOTh9XX0=",
         null,
         "{\"user_id\": \"user_5361\", \"event_type\": \"purchase\", \"event_timestamp\": \"2025-08-15T03:19:57.686377\", \"items\": [{\"item_id\": \"item_827\", \"quantity\": 1, \"price_usd\": 65.98}]}"
        ],
        [
         "event_33",
         1.755227997686397E9,
         "eyJ1c2VyX2lkIjogInVzZXJfMzc3NiIsICJldmVudF90eXBlIjogInB1cmNoYXNlIiwgImV2ZW50X3RpbWVzdGFtcCI6ICIyMDI1LTA4LTE1VDAzOjE5OjU3LjY4NjM4NiIsICJpdGVtcyI6IFt7Iml0ZW1faWQiOiAiaXRlbV85NzYiLCAicXVhbnRpdHkiOiAxLCAicHJpY2VfdXNkIjogNzAuOTh9LCB7Iml0ZW1faWQiOiAiaXRlbV80MTQiLCAicXVhbnRpdHkiOiAyLCAicHJpY2VfdXNkIjogNzMuODF9XX0=",
         null,
         "{\"user_id\": \"user_3776\", \"event_type\": \"purchase\", \"event_timestamp\": \"2025-08-15T03:19:57.686386\", \"items\": [{\"item_id\": \"item_976\", \"quantity\": 1, \"price_usd\": 70.98}, {\"item_id\": \"item_414\", \"quantity\": 2, \"price_usd\": 73.81}]}"
        ],
        [
         "event_34",
         1.755227997686409E9,
         "eyJ1c2VyX2lkIjogInVzZXJfNjQ3MSIsICJldmVudF90eXBlIjogInZpZXciLCAiZXZlbnRfdGltZXN0YW1wIjogIjIwMjUtMDgtMTVUMDM6MTk6NTcuNjg2Mzk5IiwgIml0ZW1zIjogW3siaXRlbV9pZCI6ICJpdGVtXzc4MiIsICJxdWFudGl0eSI6IDMsICJwcmljZV91c2QiOiA4MC43NH0sIHsiaXRlbV9pZCI6ICJpdGVtXzQ1NCIsICJxdWFudGl0eSI6IDQsICJwcmljZV91c2QiOiA2NC4wfV19",
         null,
         "{\"user_id\": \"user_6471\", \"event_type\": \"view\", \"event_timestamp\": \"2025-08-15T03:19:57.686399\", \"items\": [{\"item_id\": \"item_782\", \"quantity\": 3, \"price_usd\": 80.74}, {\"item_id\": \"item_454\", \"quantity\": 4, \"price_usd\": 64.0}]}"
        ],
        [
         "event_35",
         1.755227997686419E9,
         "eyJ1c2VyX2lkIjogInVzZXJfNTk5MSIsICJldmVudF90eXBlIjogImNsaWNrIiwgImV2ZW50X3RpbWVzdGFtcCI6ICIyMDI1LTA4LTE1VDAzOjE5OjU3LjY4NjQxMSIsICJpdGVtcyI6IFt7Iml0ZW1faWQiOiAiaXRlbV8xMTEiLCAicXVhbnRpdHkiOiA1LCAicHJpY2VfdXNkIjogNTMuOTd9XX0=",
         null,
         "{\"user_id\": \"user_5991\", \"event_type\": \"click\", \"event_timestamp\": \"2025-08-15T03:19:57.686411\", \"items\": [{\"item_id\": \"item_111\", \"quantity\": 5, \"price_usd\": 53.97}]}"
        ],
        [
         "event_36",
         1.755227997686431E9,
         "eyJ1c2VyX2lkIjogInVzZXJfMTEwMCIsICJldmVudF90eXBlIjogInB1cmNoYXNlIiwgImV2ZW50X3RpbWVzdGFtcCI6ICIyMDI1LTA4LTE1VDAzOjE5OjU3LjY4NjQyMSIsICJpdGVtcyI6IFt7Iml0ZW1faWQiOiAiaXRlbV84MDIiLCAicXVhbnRpdHkiOiAxLCAicHJpY2VfdXNkIjogODQuNTF9LCB7Iml0ZW1faWQiOiAiaXRlbV80NDAiLCAicXVhbnRpdHkiOiA0LCAicHJpY2VfdXNkIjogNjUuMDl9XX0=",
         null,
         "{\"user_id\": \"user_1100\", \"event_type\": \"purchase\", \"event_timestamp\": \"2025-08-15T03:19:57.686421\", \"items\": [{\"item_id\": \"item_802\", \"quantity\": 1, \"price_usd\": 84.51}, {\"item_id\": \"item_440\", \"quantity\": 4, \"price_usd\": 65.09}]}"
        ],
        [
         "event_37",
         1.755227997686446E9,
         "eyJ1c2VyX2lkIjogInVzZXJfMTc4NCIsICJldmVudF90eXBlIjogImNsaWNrIiwgImV2ZW50X3RpbWVzdGFtcCI6ICIyMDI1LTA4LTE1VDAzOjE5OjU3LjY4NjQzMyIsICJpdGVtcyI6IFt7Iml0ZW1faWQiOiAiaXRlbV83MTIiLCAicXVhbnRpdHkiOiAxLCAicHJpY2VfdXNkIjogMTIuNDd9LCB7Iml0ZW1faWQiOiAiaXRlbV8xNTEiLCAicXVhbnRpdHkiOiAzLCAicHJpY2VfdXNkIjogNzIuODJ9LCB7Iml0ZW1faWQiOiAiaXRlbV84MjgiLCAicXVhbnRpdHkiOiA1LCAicHJpY2VfdXNkIjogNDAuODR9XX0=",
         null,
         "{\"user_id\": \"user_1784\", \"event_type\": \"click\", \"event_timestamp\": \"2025-08-15T03:19:57.686433\", \"items\": [{\"item_id\": \"item_712\", \"quantity\": 1, \"price_usd\": 12.47}, {\"item_id\": \"item_151\", \"quantity\": 3, \"price_usd\": 72.82}, {\"item_id\": \"item_828\", \"quantity\": 5, \"price_usd\": 40.84}]}"
        ],
        [
         "event_38",
         1.755227997686456E9,
         "eyJ1c2VyX2lkIjogInVzZXJfNDEyOSIsICJldmVudF90eXBlIjogImNsaWNrIiwgImV2ZW50X3RpbWVzdGFtcCI6ICIyMDI1LTA4LTE1VDAzOjE5OjU3LjY4NjQ0OCIsICJpdGVtcyI6IFt7Iml0ZW1faWQiOiAiaXRlbV80NTIiLCAicXVhbnRpdHkiOiAxLCAicHJpY2VfdXNkIjogNjYuNX1dfQ==",
         null,
         "{\"user_id\": \"user_4129\", \"event_type\": \"click\", \"event_timestamp\": \"2025-08-15T03:19:57.686448\", \"items\": [{\"item_id\": \"item_452\", \"quantity\": 1, \"price_usd\": 66.5}]}"
        ],
        [
         "event_39",
         1.755227997686472E9,
         "eyJ1c2VyX2lkIjogInVzZXJfOTkyOSIsICJldmVudF90eXBlIjogImNsaWNrIiwgImV2ZW50X3RpbWVzdGFtcCI6ICIyMDI1LTA4LTE1VDAzOjE5OjU3LjY4NjQ1OCIsICJpdGVtcyI6IFt7Iml0ZW1faWQiOiAiaXRlbV8zNjEiLCAicXVhbnRpdHkiOiA0LCAicHJpY2VfdXNkIjogNTIuMzl9LCB7Iml0ZW1faWQiOiAiaXRlbV83NTMiLCAicXVhbnRpdHkiOiAzLCAicHJpY2VfdXNkIjogMzQuMzZ9LCB7Iml0ZW1faWQiOiAiaXRlbV85NjAiLCAicXVhbnRpdHkiOiAxLCAicHJpY2VfdXNkIjogNDMuNjF9XX0=",
         null,
         "{\"user_id\": \"user_9929\", \"event_type\": \"click\", \"event_timestamp\": \"2025-08-15T03:19:57.686458\", \"items\": [{\"item_id\": \"item_361\", \"quantity\": 4, \"price_usd\": 52.39}, {\"item_id\": \"item_753\", \"quantity\": 3, \"price_usd\": 34.36}, {\"item_id\": \"item_960\", \"quantity\": 1, \"price_usd\": 43.61}]}"
        ],
        [
         "event_40",
         1.755227997686484E9,
         "eyJ1c2VyX2lkIjogInVzZXJfODA4MSIsICJldmVudF90eXBlIjogImNsaWNrIiwgImV2ZW50X3RpbWVzdGFtcCI6ICIyMDI1LTA4LTE1VDAzOjE5OjU3LjY4NjQ3NCIsICJpdGVtcyI6IFt7Iml0ZW1faWQiOiAiaXRlbV83ODEiLCAicXVhbnRpdHkiOiAxLCAicHJpY2VfdXNkIjogNTMuMX0sIHsiaXRlbV9pZCI6ICJpdGVtXzkyNCIsICJxdWFudGl0eSI6IDQsICJwcmljZV91c2QiOiA0NC43fV19",
         null,
         "{\"user_id\": \"user_8081\", \"event_type\": \"click\", \"event_timestamp\": \"2025-08-15T03:19:57.686474\", \"items\": [{\"item_id\": \"item_781\", \"quantity\": 1, \"price_usd\": 53.1}, {\"item_id\": \"item_924\", \"quantity\": 4, \"price_usd\": 44.7}]}"
        ],
        [
         "event_41",
         1.7552279976865E9,
         "eyJ1c2VyX2lkIjogInVzZXJfMjk2OSIsICJldmVudF90eXBlIjogInB1cmNoYXNlIiwgImV2ZW50X3RpbWVzdGFtcCI6ICIyMDI1LTA4LTE1VDAzOjE5OjU3LjY4NjQ4NiIsICJpdGVtcyI6IFt7Iml0ZW1faWQiOiAiaXRlbV80MTEiLCAicXVhbnRpdHkiOiA0LCAicHJpY2VfdXNkIjogNzQuNzF9LCB7Iml0ZW1faWQiOiAiaXRlbV82ODAiLCAicXVhbnRpdHkiOiA0LCAicHJpY2VfdXNkIjogODMuNTl9LCB7Iml0ZW1faWQiOiAiaXRlbV84NTUiLCAicXVhbnRpdHkiOiAxLCAicHJpY2VfdXNkIjogOTYuNTl9XX0=",
         null,
         "{\"user_id\": \"user_2969\", \"event_type\": \"purchase\", \"event_timestamp\": \"2025-08-15T03:19:57.686486\", \"items\": [{\"item_id\": \"item_411\", \"quantity\": 4, \"price_usd\": 74.71}, {\"item_id\": \"item_680\", \"quantity\": 4, \"price_usd\": 83.59}, {\"item_id\": \"item_855\", \"quantity\": 1, \"price_usd\": 96.59}]}"
        ],
        [
         "event_42",
         1.755227997686512E9,
         "eyJ1c2VyX2lkIjogInVzZXJfNzI2NiIsICJldmVudF90eXBlIjogInZpZXciLCAiZXZlbnRfdGltZXN0YW1wIjogIjIwMjUtMDgtMTVUMDM6MTk6NTcuNjg2NTAyIiwgIml0ZW1zIjogW3siaXRlbV9pZCI6ICJpdGVtXzk2OSIsICJxdWFudGl0eSI6IDMsICJwcmljZV91c2QiOiA0NS4zNH0sIHsiaXRlbV9pZCI6ICJpdGVtXzU1MiIsICJxdWFudGl0eSI6IDIsICJwcmljZV91c2QiOiAxMC4yMX1dfQ==",
         null,
         "{\"user_id\": \"user_7266\", \"event_type\": \"view\", \"event_timestamp\": \"2025-08-15T03:19:57.686502\", \"items\": [{\"item_id\": \"item_969\", \"quantity\": 3, \"price_usd\": 45.34}, {\"item_id\": \"item_552\", \"quantity\": 2, \"price_usd\": 10.21}]}"
        ],
        [
         "event_43",
         1.755227997686522E9,
         "eyJ1c2VyX2lkIjogInVzZXJfODY0OSIsICJldmVudF90eXBlIjogInB1cmNoYXNlIiwgImV2ZW50X3RpbWVzdGFtcCI6ICIyMDI1LTA4LTE1VDAzOjE5OjU3LjY4NjUxNCIsICJpdGVtcyI6IFt7Iml0ZW1faWQiOiAiaXRlbV80ODYiLCAicXVhbnRpdHkiOiA0LCAicHJpY2VfdXNkIjogMzAuMjN9XX0=",
         null,
         "{\"user_id\": \"user_8649\", \"event_type\": \"purchase\", \"event_timestamp\": \"2025-08-15T03:19:57.686514\", \"items\": [{\"item_id\": \"item_486\", \"quantity\": 4, \"price_usd\": 30.23}]}"
        ],
        [
         "event_44",
         1.755227997686538E9,
         "eyJ1c2VyX2lkIjogInVzZXJfNTIzNCIsICJldmVudF90eXBlIjogInZpZXciLCAiZXZlbnRfdGltZXN0YW1wIjogIjIwMjUtMDgtMTVUMDM6MTk6NTcuNjg2NTI0IiwgIml0ZW1zIjogW3siaXRlbV9pZCI6ICJpdGVtXzYwMCIsICJxdWFudGl0eSI6IDEsICJwcmljZV91c2QiOiAyMi44M30sIHsiaXRlbV9pZCI6ICJpdGVtXzk2MyIsICJxdWFudGl0eSI6IDIsICJwcmljZV91c2QiOiAxMS4yM30sIHsiaXRlbV9pZCI6ICJpdGVtXzg3NiIsICJxdWFudGl0eSI6IDEsICJwcmljZV91c2QiOiA2MS42OH1dfQ==",
         null,
         "{\"user_id\": \"user_5234\", \"event_type\": \"view\", \"event_timestamp\": \"2025-08-15T03:19:57.686524\", \"items\": [{\"item_id\": \"item_600\", \"quantity\": 1, \"price_usd\": 22.83}, {\"item_id\": \"item_963\", \"quantity\": 2, \"price_usd\": 11.23}, {\"item_id\": \"item_876\", \"quantity\": 1, \"price_usd\": 61.68}]}"
        ],
        [
         "event_45",
         1.755227997686551E9,
         "eyJ1c2VyX2lkIjogInVzZXJfNzU1NSIsICJldmVudF90eXBlIjogInB1cmNoYXNlIiwgImV2ZW50X3RpbWVzdGFtcCI6ICIyMDI1LTA4LTE1VDAzOjE5OjU3LjY4NjU0MCIsICJpdGVtcyI6IFt7Iml0ZW1faWQiOiAiaXRlbV84MTEiLCAicXVhbnRpdHkiOiAxLCAicHJpY2VfdXNkIjogODkuMjZ9LCB7Iml0ZW1faWQiOiAiaXRlbV81MDIiLCAicXVhbnRpdHkiOiAzLCAicHJpY2VfdXNkIjogNzEuMDZ9XX0=",
         null,
         "{\"user_id\": \"user_7555\", \"event_type\": \"purchase\", \"event_timestamp\": \"2025-08-15T03:19:57.686540\", \"items\": [{\"item_id\": \"item_811\", \"quantity\": 1, \"price_usd\": 89.26}, {\"item_id\": \"item_502\", \"quantity\": 3, \"price_usd\": 71.06}]}"
        ],
        [
         "event_46",
         1.75522799768658E9,
         "eyJ1c2VyX2lkIjogInVzZXJfNDQwMCIsICJldmVudF90eXBlIjogImNsaWNrIiwgImV2ZW50X3RpbWVzdGFtcCI6ICIyMDI1LTA4LTE1VDAzOjE5OjU3LjY4NjU1MiIsICJpdGVtcyI6IFt7Iml0ZW1faWQiOiAiaXRlbV8yNTUiLCAicXVhbnRpdHkiOiAyLCAicHJpY2VfdXNkIjogOTYuNTF9LCB7Iml0ZW1faWQiOiAiaXRlbV85MDIiLCAicXVhbnRpdHkiOiAxLCAicHJpY2VfdXNkIjogNjAuNzV9XX0=",
         null,
         "{\"user_id\": \"user_4400\", \"event_type\": \"click\", \"event_timestamp\": \"2025-08-15T03:19:57.686552\", \"items\": [{\"item_id\": \"item_255\", \"quantity\": 2, \"price_usd\": 96.51}, {\"item_id\": \"item_902\", \"quantity\": 1, \"price_usd\": 60.75}]}"
        ],
        [
         "event_47",
         1.755227997686597E9,
         "eyJ1c2VyX2lkIjogInVzZXJfMzExNiIsICJldmVudF90eXBlIjogImNsaWNrIiwgImV2ZW50X3RpbWVzdGFtcCI6ICIyMDI1LTA4LTE1VDAzOjE5OjU3LjY4NjU4MiIsICJpdGVtcyI6IFt7Iml0ZW1faWQiOiAiaXRlbV85ODkiLCAicXVhbnRpdHkiOiA0LCAicHJpY2VfdXNkIjogMjIuNTh9LCB7Iml0ZW1faWQiOiAiaXRlbV8zMzYiLCAicXVhbnRpdHkiOiAzLCAicHJpY2VfdXNkIjogNDkuMDh9LCB7Iml0ZW1faWQiOiAiaXRlbV81NTMiLCAicXVhbnRpdHkiOiAyLCAicHJpY2VfdXNkIjogNzQuNDF9XX0=",
         null,
         "{\"user_id\": \"user_3116\", \"event_type\": \"click\", \"event_timestamp\": \"2025-08-15T03:19:57.686582\", \"items\": [{\"item_id\": \"item_989\", \"quantity\": 4, \"price_usd\": 22.58}, {\"item_id\": \"item_336\", \"quantity\": 3, \"price_usd\": 49.08}, {\"item_id\": \"item_553\", \"quantity\": 2, \"price_usd\": 74.41}]}"
        ],
        [
         "event_48",
         1.755227997686608E9,
         "eyJ1c2VyX2lkIjogInVzZXJfMzYzOSIsICJldmVudF90eXBlIjogImNsaWNrIiwgImV2ZW50X3RpbWVzdGFtcCI6ICIyMDI1LTA4LTE1VDAzOjE5OjU3LjY4NjU5OSIsICJpdGVtcyI6IFt7Iml0ZW1faWQiOiAiaXRlbV81MzgiLCAicXVhbnRpdHkiOiAzLCAicHJpY2VfdXNkIjogNjMuNjJ9XX0=",
         null,
         "{\"user_id\": \"user_3639\", \"event_type\": \"click\", \"event_timestamp\": \"2025-08-15T03:19:57.686599\", \"items\": [{\"item_id\": \"item_538\", \"quantity\": 3, \"price_usd\": 63.62}]}"
        ],
        [
         "event_49",
         1.755227997686618E9,
         "eyJ1c2VyX2lkIjogInVzZXJfOTUwMSIsICJldmVudF90eXBlIjogInB1cmNoYXNlIiwgImV2ZW50X3RpbWVzdGFtcCI6ICIyMDI1LTA4LTE1VDAzOjE5OjU3LjY4NjYxMCIsICJpdGVtcyI6IFt7Iml0ZW1faWQiOiAiaXRlbV84ODkiLCAicXVhbnRpdHkiOiA0LCAicHJpY2VfdXNkIjogNDIuMzJ9XX0=",
         null,
         "{\"user_id\": \"user_9501\", \"event_type\": \"purchase\", \"event_timestamp\": \"2025-08-15T03:19:57.686610\", \"items\": [{\"item_id\": \"item_889\", \"quantity\": 4, \"price_usd\": 42.32}]}"
        ],
        [
         "event_50",
         1.75522799768663E9,
         "eyJ1c2VyX2lkIjogInVzZXJfNjAyMiIsICJldmVudF90eXBlIjogImNsaWNrIiwgImV2ZW50X3RpbWVzdGFtcCI6ICIyMDI1LTA4LTE1VDAzOjE5OjU3LjY4NjYyMCIsICJpdGVtcyI6IFt7Iml0ZW1faWQiOiAiaXRlbV85NjkiLCAicXVhbnRpdHkiOiAxLCAicHJpY2VfdXNkIjogMjUuMjR9LCB7Iml0ZW1faWQiOiAiaXRlbV84OTUiLCAicXVhbnRpdHkiOiA0LCAicHJpY2VfdXNkIjogOTAuNjh9XX0=",
         null,
         "{\"user_id\": \"user_6022\", \"event_type\": \"click\", \"event_timestamp\": \"2025-08-15T03:19:57.686620\", \"items\": [{\"item_id\": \"item_969\", \"quantity\": 1, \"price_usd\": 25.24}, {\"item_id\": \"item_895\", \"quantity\": 4, \"price_usd\": 90.68}]}"
        ],
        [
         "event_51",
         1.755227997686641E9,
         "eyJ1c2VyX2lkIjogInVzZXJfOTA1NSIsICJldmVudF90eXBlIjogInB1cmNoYXNlIiwgImV2ZW50X3RpbWVzdGFtcCI6ICIyMDI1LTA4LTE1VDAzOjE5OjU3LjY4NjYzMyIsICJpdGVtcyI6IFt7Iml0ZW1faWQiOiAiaXRlbV85NjMiLCAicXVhbnRpdHkiOiA0LCAicHJpY2VfdXNkIjogMzIuMzN9XX0=",
         null,
         "{\"user_id\": \"user_9055\", \"event_type\": \"purchase\", \"event_timestamp\": \"2025-08-15T03:19:57.686633\", \"items\": [{\"item_id\": \"item_963\", \"quantity\": 4, \"price_usd\": 32.33}]}"
        ],
        [
         "event_52",
         1.755227997686656E9,
         "eyJ1c2VyX2lkIjogInVzZXJfNzQ5NyIsICJldmVudF90eXBlIjogInB1cmNoYXNlIiwgImV2ZW50X3RpbWVzdGFtcCI6ICIyMDI1LTA4LTE1VDAzOjE5OjU3LjY4NjY0MyIsICJpdGVtcyI6IFt7Iml0ZW1faWQiOiAiaXRlbV8yODciLCAicXVhbnRpdHkiOiA1LCAicHJpY2VfdXNkIjogMTEuMjd9LCB7Iml0ZW1faWQiOiAiaXRlbV82NzYiLCAicXVhbnRpdHkiOiAyLCAicHJpY2VfdXNkIjogMzAuNzV9LCB7Iml0ZW1faWQiOiAiaXRlbV8xODIiLCAicXVhbnRpdHkiOiA0LCAicHJpY2VfdXNkIjogOTMuNTh9XX0=",
         null,
         "{\"user_id\": \"user_7497\", \"event_type\": \"purchase\", \"event_timestamp\": \"2025-08-15T03:19:57.686643\", \"items\": [{\"item_id\": \"item_287\", \"quantity\": 5, \"price_usd\": 11.27}, {\"item_id\": \"item_676\", \"quantity\": 2, \"price_usd\": 30.75}, {\"item_id\": \"item_182\", \"quantity\": 4, \"price_usd\": 93.58}]}"
        ],
        [
         "event_53",
         1.755227997686667E9,
         "eyJ1c2VyX2lkIjogInVzZXJfNTY5NyIsICJldmVudF90eXBlIjogImNsaWNrIiwgImV2ZW50X3RpbWVzdGFtcCI6ICIyMDI1LTA4LTE1VDAzOjE5OjU3LjY4NjY1OSIsICJpdGVtcyI6IFt7Iml0ZW1faWQiOiAiaXRlbV8xNjMiLCAicXVhbnRpdHkiOiAxLCAicHJpY2VfdXNkIjogODYuMTh9XX0=",
         null,
         "{\"user_id\": \"user_5697\", \"event_type\": \"click\", \"event_timestamp\": \"2025-08-15T03:19:57.686659\", \"items\": [{\"item_id\": \"item_163\", \"quantity\": 1, \"price_usd\": 86.18}]}"
        ],
        [
         "event_54",
         1.755227997686679E9,
         "eyJ1c2VyX2lkIjogInVzZXJfMTU0NiIsICJldmVudF90eXBlIjogInB1cmNoYXNlIiwgImV2ZW50X3RpbWVzdGFtcCI6ICIyMDI1LTA4LTE1VDAzOjE5OjU3LjY4NjY2OSIsICJpdGVtcyI6IFt7Iml0ZW1faWQiOiAiaXRlbV8xNjEiLCAicXVhbnRpdHkiOiAxLCAicHJpY2VfdXNkIjogNzMuNjh9XX0=",
         null,
         "{\"user_id\": \"user_1546\", \"event_type\": \"purchase\", \"event_timestamp\": \"2025-08-15T03:19:57.686669\", \"items\": [{\"item_id\": \"item_161\", \"quantity\": 1, \"price_usd\": 73.68}]}"
        ],
        [
         "event_55",
         1.75522799768669E9,
         "eyJ1c2VyX2lkIjogInVzZXJfMzY1NyIsICJldmVudF90eXBlIjogImNsaWNrIiwgImV2ZW50X3RpbWVzdGFtcCI6ICIyMDI1LTA4LTE1VDAzOjE5OjU3LjY4NjY4MiIsICJpdGVtcyI6IFt7Iml0ZW1faWQiOiAiaXRlbV8zMDEiLCAicXVhbnRpdHkiOiAzLCAicHJpY2VfdXNkIjogMTAuM31dfQ==",
         null,
         "{\"user_id\": \"user_3657\", \"event_type\": \"click\", \"event_timestamp\": \"2025-08-15T03:19:57.686682\", \"items\": [{\"item_id\": \"item_301\", \"quantity\": 3, \"price_usd\": 10.3}]}"
        ],
        [
         "event_56",
         1.755227997686705E9,
         "eyJ1c2VyX2lkIjogInVzZXJfNTg5OCIsICJldmVudF90eXBlIjogImNsaWNrIiwgImV2ZW50X3RpbWVzdGFtcCI6ICIyMDI1LTA4LTE1VDAzOjE5OjU3LjY4NjY5MiIsICJpdGVtcyI6IFt7Iml0ZW1faWQiOiAiaXRlbV80ODciLCAicXVhbnRpdHkiOiAyLCAicHJpY2VfdXNkIjogMTYuNTV9LCB7Iml0ZW1faWQiOiAiaXRlbV81OTkiLCAicXVhbnRpdHkiOiAxLCAicHJpY2VfdXNkIjogMjEuNzN9LCB7Iml0ZW1faWQiOiAiaXRlbV83NDkiLCAicXVhbnRpdHkiOiA0LCAicHJpY2VfdXNkIjogNDAuMDl9XX0=",
         null,
         "{\"user_id\": \"user_5898\", \"event_type\": \"click\", \"event_timestamp\": \"2025-08-15T03:19:57.686692\", \"items\": [{\"item_id\": \"item_487\", \"quantity\": 2, \"price_usd\": 16.55}, {\"item_id\": \"item_599\", \"quantity\": 1, \"price_usd\": 21.73}, {\"item_id\": \"item_749\", \"quantity\": 4, \"price_usd\": 40.09}]}"
        ],
        [
         "event_57",
         1.755227997686721E9,
         "eyJ1c2VyX2lkIjogInVzZXJfNTY1NiIsICJldmVudF90eXBlIjogInZpZXciLCAiZXZlbnRfdGltZXN0YW1wIjogIjIwMjUtMDgtMTVUMDM6MTk6NTcuNjg2NzA3IiwgIml0ZW1zIjogW3siaXRlbV9pZCI6ICJpdGVtXzU1MiIsICJxdWFudGl0eSI6IDUsICJwcmljZV91c2QiOiA5OS41NX0sIHsiaXRlbV9pZCI6ICJpdGVtXzg5NCIsICJxdWFudGl0eSI6IDMsICJwcmljZV91c2QiOiA2NC4zNX1dfQ==",
         null,
         "{\"user_id\": \"user_5656\", \"event_type\": \"view\", \"event_timestamp\": \"2025-08-15T03:19:57.686707\", \"items\": [{\"item_id\": \"item_552\", \"quantity\": 5, \"price_usd\": 99.55}, {\"item_id\": \"item_894\", \"quantity\": 3, \"price_usd\": 64.35}]}"
        ],
        [
         "event_58",
         1.755227997686731E9,
         "eyJ1c2VyX2lkIjogInVzZXJfNDQ5MSIsICJldmVudF90eXBlIjogInZpZXciLCAiZXZlbnRfdGltZXN0YW1wIjogIjIwMjUtMDgtMTVUMDM6MTk6NTcuNjg2NzIyIiwgIml0ZW1zIjogW3siaXRlbV9pZCI6ICJpdGVtXzk3NCIsICJxdWFudGl0eSI6IDUsICJwcmljZV91c2QiOiA3MS4wNX1dfQ==",
         null,
         "{\"user_id\": \"user_4491\", \"event_type\": \"view\", \"event_timestamp\": \"2025-08-15T03:19:57.686722\", \"items\": [{\"item_id\": \"item_974\", \"quantity\": 5, \"price_usd\": 71.05}]}"
        ],
        [
         "event_59",
         1.755227997686743E9,
         "eyJ1c2VyX2lkIjogInVzZXJfNTYyMyIsICJldmVudF90eXBlIjogImNsaWNrIiwgImV2ZW50X3RpbWVzdGFtcCI6ICIyMDI1LTA4LTE1VDAzOjE5OjU3LjY4NjczMyIsICJpdGVtcyI6IFt7Iml0ZW1faWQiOiAiaXRlbV83NjgiLCAicXVhbnRpdHkiOiA0LCAicHJpY2VfdXNkIjogNDguNTZ9LCB7Iml0ZW1faWQiOiAiaXRlbV85NjMiLCAicXVhbnRpdHkiOiAyLCAicHJpY2VfdXNkIjogMjYuNzJ9XX0=",
         null,
         "{\"user_id\": \"user_5623\", \"event_type\": \"click\", \"event_timestamp\": \"2025-08-15T03:19:57.686733\", \"items\": [{\"item_id\": \"item_768\", \"quantity\": 4, \"price_usd\": 48.56}, {\"item_id\": \"item_963\", \"quantity\": 2, \"price_usd\": 26.72}]}"
        ],
        [
         "event_60",
         1.755227997686756E9,
         "eyJ1c2VyX2lkIjogInVzZXJfNzM2OSIsICJldmVudF90eXBlIjogInZpZXciLCAiZXZlbnRfdGltZXN0YW1wIjogIjIwMjUtMDgtMTVUMDM6MTk6NTcuNjg2NzQ1IiwgIml0ZW1zIjogW3siaXRlbV9pZCI6ICJpdGVtXzg1NCIsICJxdWFudGl0eSI6IDMsICJwcmljZV91c2QiOiAzNS44NX0sIHsiaXRlbV9pZCI6ICJpdGVtXzg3OSIsICJxdWFudGl0eSI6IDIsICJwcmljZV91c2QiOiA0OS4wfV19",
         null,
         "{\"user_id\": \"user_7369\", \"event_type\": \"view\", \"event_timestamp\": \"2025-08-15T03:19:57.686745\", \"items\": [{\"item_id\": \"item_854\", \"quantity\": 3, \"price_usd\": 35.85}, {\"item_id\": \"item_879\", \"quantity\": 2, \"price_usd\": 49.0}]}"
        ],
        [
         "event_61",
         1.755227997686768E9,
         "eyJ1c2VyX2lkIjogInVzZXJfNzA0NiIsICJldmVudF90eXBlIjogImNsaWNrIiwgImV2ZW50X3RpbWVzdGFtcCI6ICIyMDI1LTA4LTE1VDAzOjE5OjU3LjY4Njc1OCIsICJpdGVtcyI6IFt7Iml0ZW1faWQiOiAiaXRlbV83NzEiLCAicXVhbnRpdHkiOiAxLCAicHJpY2VfdXNkIjogMTQuMzF9LCB7Iml0ZW1faWQiOiAiaXRlbV85NDgiLCAicXVhbnRpdHkiOiAxLCAicHJpY2VfdXNkIjogMTcuMDV9XX0=",
         null,
         "{\"user_id\": \"user_7046\", \"event_type\": \"click\", \"event_timestamp\": \"2025-08-15T03:19:57.686758\", \"items\": [{\"item_id\": \"item_771\", \"quantity\": 1, \"price_usd\": 14.31}, {\"item_id\": \"item_948\", \"quantity\": 1, \"price_usd\": 17.05}]}"
        ],
        [
         "event_62",
         1.75522799768678E9,
         "eyJ1c2VyX2lkIjogInVzZXJfODc1NSIsICJldmVudF90eXBlIjogImNsaWNrIiwgImV2ZW50X3RpbWVzdGFtcCI6ICIyMDI1LTA4LTE1VDAzOjE5OjU3LjY4Njc3MCIsICJpdGVtcyI6IFt7Iml0ZW1faWQiOiAiaXRlbV85MDIiLCAicXVhbnRpdHkiOiAzLCAicHJpY2VfdXNkIjogNjUuNjN9LCB7Iml0ZW1faWQiOiAiaXRlbV85NDIiLCAicXVhbnRpdHkiOiAyLCAicHJpY2VfdXNkIjogNTMuNjd9XX0=",
         null,
         "{\"user_id\": \"user_8755\", \"event_type\": \"click\", \"event_timestamp\": \"2025-08-15T03:19:57.686770\", \"items\": [{\"item_id\": \"item_902\", \"quantity\": 3, \"price_usd\": 65.63}, {\"item_id\": \"item_942\", \"quantity\": 2, \"price_usd\": 53.67}]}"
        ],
        [
         "event_63",
         1.755227997686795E9,
         "eyJ1c2VyX2lkIjogInVzZXJfNDc5OSIsICJldmVudF90eXBlIjogImNsaWNrIiwgImV2ZW50X3RpbWVzdGFtcCI6ICIyMDI1LTA4LTE1VDAzOjE5OjU3LjY4Njc4MiIsICJpdGVtcyI6IFt7Iml0ZW1faWQiOiAiaXRlbV8zMjkiLCAicXVhbnRpdHkiOiA0LCAicHJpY2VfdXNkIjogMzUuNjF9LCB7Iml0ZW1faWQiOiAiaXRlbV82NzAiLCAicXVhbnRpdHkiOiAzLCAicHJpY2VfdXNkIjogNTMuMjd9LCB7Iml0ZW1faWQiOiAiaXRlbV85MDMiLCAicXVhbnRpdHkiOiAyLCAicHJpY2VfdXNkIjogMjEuMzl9XX0=",
         null,
         "{\"user_id\": \"user_4799\", \"event_type\": \"click\", \"event_timestamp\": \"2025-08-15T03:19:57.686782\", \"items\": [{\"item_id\": \"item_329\", \"quantity\": 4, \"price_usd\": 35.61}, {\"item_id\": \"item_670\", \"quantity\": 3, \"price_usd\": 53.27}, {\"item_id\": \"item_903\", \"quantity\": 2, \"price_usd\": 21.39}]}"
        ],
        [
         "event_64",
         1.755227997686805E9,
         "eyJ1c2VyX2lkIjogInVzZXJfOTcyOSIsICJldmVudF90eXBlIjogImNsaWNrIiwgImV2ZW50X3RpbWVzdGFtcCI6ICIyMDI1LTA4LTE1VDAzOjE5OjU3LjY4Njc5NyIsICJpdGVtcyI6IFt7Iml0ZW1faWQiOiAiaXRlbV8xMTkiLCAicXVhbnRpdHkiOiA1LCAicHJpY2VfdXNkIjogNzMuMTN9XX0=",
         null,
         "{\"user_id\": \"user_9729\", \"event_type\": \"click\", \"event_timestamp\": \"2025-08-15T03:19:57.686797\", \"items\": [{\"item_id\": \"item_119\", \"quantity\": 5, \"price_usd\": 73.13}]}"
        ],
        [
         "event_65",
         1.755227997686817E9,
         "eyJ1c2VyX2lkIjogInVzZXJfODkyOSIsICJldmVudF90eXBlIjogInZpZXciLCAiZXZlbnRfdGltZXN0YW1wIjogIjIwMjUtMDgtMTVUMDM6MTk6NTcuNjg2ODA3IiwgIml0ZW1zIjogW3siaXRlbV9pZCI6ICJpdGVtXzMyOCIsICJxdWFudGl0eSI6IDIsICJwcmljZV91c2QiOiA5OC45NH0sIHsiaXRlbV9pZCI6ICJpdGVtXzQ2OSIsICJxdWFudGl0eSI6IDEsICJwcmljZV91c2QiOiAzNC42Nn1dfQ==",
         null,
         "{\"user_id\": \"user_8929\", \"event_type\": \"view\", \"event_timestamp\": \"2025-08-15T03:19:57.686807\", \"items\": [{\"item_id\": \"item_328\", \"quantity\": 2, \"price_usd\": 98.94}, {\"item_id\": \"item_469\", \"quantity\": 1, \"price_usd\": 34.66}]}"
        ],
        [
         "event_66",
         1.755227997686829E9,
         "eyJ1c2VyX2lkIjogInVzZXJfMjk2OCIsICJldmVudF90eXBlIjogInZpZXciLCAiZXZlbnRfdGltZXN0YW1wIjogIjIwMjUtMDgtMTVUMDM6MTk6NTcuNjg2ODE5IiwgIml0ZW1zIjogW3siaXRlbV9pZCI6ICJpdGVtXzU3OCIsICJxdWFudGl0eSI6IDUsICJwcmljZV91c2QiOiA4Ni40Nn0sIHsiaXRlbV9pZCI6ICJpdGVtXzc5NyIsICJxdWFudGl0eSI6IDIsICJwcmljZV91c2QiOiA0OS44Mn1dfQ==",
         null,
         "{\"user_id\": \"user_2968\", \"event_type\": \"view\", \"event_timestamp\": \"2025-08-15T03:19:57.686819\", \"items\": [{\"item_id\": \"item_578\", \"quantity\": 5, \"price_usd\": 86.46}, {\"item_id\": \"item_797\", \"quantity\": 2, \"price_usd\": 49.82}]}"
        ],
        [
         "event_67",
         1.755227997686839E9,
         "eyJ1c2VyX2lkIjogInVzZXJfMzg4NSIsICJldmVudF90eXBlIjogInZpZXciLCAiZXZlbnRfdGltZXN0YW1wIjogIjIwMjUtMDgtMTVUMDM6MTk6NTcuNjg2ODMxIiwgIml0ZW1zIjogW3siaXRlbV9pZCI6ICJpdGVtXzMwOCIsICJxdWFudGl0eSI6IDIsICJwcmljZV91c2QiOiA4NC42N31dfQ==",
         null,
         "{\"user_id\": \"user_3885\", \"event_type\": \"view\", \"event_timestamp\": \"2025-08-15T03:19:57.686831\", \"items\": [{\"item_id\": \"item_308\", \"quantity\": 2, \"price_usd\": 84.67}]}"
        ],
        [
         "event_68",
         1.755227997686854E9,
         "eyJ1c2VyX2lkIjogInVzZXJfODIzOSIsICJldmVudF90eXBlIjogInZpZXciLCAiZXZlbnRfdGltZXN0YW1wIjogIjIwMjUtMDgtMTVUMDM6MTk6NTcuNjg2ODQxIiwgIml0ZW1zIjogW3siaXRlbV9pZCI6ICJpdGVtXzk2MiIsICJxdWFudGl0eSI6IDUsICJwcmljZV91c2QiOiAyMC4yMn0sIHsiaXRlbV9pZCI6ICJpdGVtXzkzNCIsICJxdWFudGl0eSI6IDIsICJwcmljZV91c2QiOiA2OC41NH0sIHsiaXRlbV9pZCI6ICJpdGVtXzc4NSIsICJxdWFudGl0eSI6IDQsICJwcmljZV91c2QiOiAzMS41fV19",
         null,
         "{\"user_id\": \"user_8239\", \"event_type\": \"view\", \"event_timestamp\": \"2025-08-15T03:19:57.686841\", \"items\": [{\"item_id\": \"item_962\", \"quantity\": 5, \"price_usd\": 20.22}, {\"item_id\": \"item_934\", \"quantity\": 2, \"price_usd\": 68.54}, {\"item_id\": \"item_785\", \"quantity\": 4, \"price_usd\": 31.5}]}"
        ],
        [
         "event_69",
         1.755227997686864E9,
         "eyJ1c2VyX2lkIjogInVzZXJfMzkwMyIsICJldmVudF90eXBlIjogImNsaWNrIiwgImV2ZW50X3RpbWVzdGFtcCI6ICIyMDI1LTA4LTE1VDAzOjE5OjU3LjY4Njg1NiIsICJpdGVtcyI6IFt7Iml0ZW1faWQiOiAiaXRlbV85ODUiLCAicXVhbnRpdHkiOiAxLCAicHJpY2VfdXNkIjogMzYuNTl9XX0=",
         null,
         "{\"user_id\": \"user_3903\", \"event_type\": \"click\", \"event_timestamp\": \"2025-08-15T03:19:57.686856\", \"items\": [{\"item_id\": \"item_985\", \"quantity\": 1, \"price_usd\": 36.59}]}"
        ],
        [
         "event_70",
         1.755227997686874E9,
         "eyJ1c2VyX2lkIjogInVzZXJfOTM1NyIsICJldmVudF90eXBlIjogInB1cmNoYXNlIiwgImV2ZW50X3RpbWVzdGFtcCI6ICIyMDI1LTA4LTE1VDAzOjE5OjU3LjY4Njg2NiIsICJpdGVtcyI6IFt7Iml0ZW1faWQiOiAiaXRlbV8xOTQiLCAicXVhbnRpdHkiOiAzLCAicHJpY2VfdXNkIjogMzkuMjd9XX0=",
         null,
         "{\"user_id\": \"user_9357\", \"event_type\": \"purchase\", \"event_timestamp\": \"2025-08-15T03:19:57.686866\", \"items\": [{\"item_id\": \"item_194\", \"quantity\": 3, \"price_usd\": 39.27}]}"
        ],
        [
         "event_71",
         1.755227997686889E9,
         "eyJ1c2VyX2lkIjogInVzZXJfNjQxNSIsICJldmVudF90eXBlIjogImNsaWNrIiwgImV2ZW50X3RpbWVzdGFtcCI6ICIyMDI1LTA4LTE1VDAzOjE5OjU3LjY4Njg3NiIsICJpdGVtcyI6IFt7Iml0ZW1faWQiOiAiaXRlbV80ODQiLCAicXVhbnRpdHkiOiAyLCAicHJpY2VfdXNkIjogNzUuMDd9LCB7Iml0ZW1faWQiOiAiaXRlbV82MDIiLCAicXVhbnRpdHkiOiA1LCAicHJpY2VfdXNkIjogNDYuMjh9LCB7Iml0ZW1faWQiOiAiaXRlbV8zMjAiLCAicXVhbnRpdHkiOiAxLCAicHJpY2VfdXNkIjogNzguMTF9XX0=",
         null,
         "{\"user_id\": \"user_6415\", \"event_type\": \"click\", \"event_timestamp\": \"2025-08-15T03:19:57.686876\", \"items\": [{\"item_id\": \"item_484\", \"quantity\": 2, \"price_usd\": 75.07}, {\"item_id\": \"item_602\", \"quantity\": 5, \"price_usd\": 46.28}, {\"item_id\": \"item_320\", \"quantity\": 1, \"price_usd\": 78.11}]}"
        ],
        [
         "event_72",
         1.755227997686899E9,
         "eyJ1c2VyX2lkIjogInVzZXJfNzY0NiIsICJldmVudF90eXBlIjogInZpZXciLCAiZXZlbnRfdGltZXN0YW1wIjogIjIwMjUtMDgtMTVUMDM6MTk6NTcuNjg2ODkxIiwgIml0ZW1zIjogW3siaXRlbV9pZCI6ICJpdGVtXzc5NyIsICJxdWFudGl0eSI6IDMsICJwcmljZV91c2QiOiAzOC4xOH1dfQ==",
         null,
         "{\"user_id\": \"user_7646\", \"event_type\": \"view\", \"event_timestamp\": \"2025-08-15T03:19:57.686891\", \"items\": [{\"item_id\": \"item_797\", \"quantity\": 3, \"price_usd\": 38.18}]}"
        ],
        [
         "event_73",
         1.755227997686909E9,
         "eyJ1c2VyX2lkIjogInVzZXJfNTg5NCIsICJldmVudF90eXBlIjogImNsaWNrIiwgImV2ZW50X3RpbWVzdGFtcCI6ICIyMDI1LTA4LTE1VDAzOjE5OjU3LjY4NjkwMSIsICJpdGVtcyI6IFt7Iml0ZW1faWQiOiAiaXRlbV80MDciLCAicXVhbnRpdHkiOiAxLCAicHJpY2VfdXNkIjogMzkuNDR9XX0=",
         null,
         "{\"user_id\": \"user_5894\", \"event_type\": \"click\", \"event_timestamp\": \"2025-08-15T03:19:57.686901\", \"items\": [{\"item_id\": \"item_407\", \"quantity\": 1, \"price_usd\": 39.44}]}"
        ],
        [
         "event_74",
         1.755227997686921E9,
         "eyJ1c2VyX2lkIjogInVzZXJfNTA1MSIsICJldmVudF90eXBlIjogInZpZXciLCAiZXZlbnRfdGltZXN0YW1wIjogIjIwMjUtMDgtMTVUMDM6MTk6NTcuNjg2OTExIiwgIml0ZW1zIjogW3siaXRlbV9pZCI6ICJpdGVtXzQxOSIsICJxdWFudGl0eSI6IDEsICJwcmljZV91c2QiOiAzMC44OH0sIHsiaXRlbV9pZCI6ICJpdGVtXzc0NiIsICJxdWFudGl0eSI6IDQsICJwcmljZV91c2QiOiA2My4xOX1dfQ==",
         null,
         "{\"user_id\": \"user_5051\", \"event_type\": \"view\", \"event_timestamp\": \"2025-08-15T03:19:57.686911\", \"items\": [{\"item_id\": \"item_419\", \"quantity\": 1, \"price_usd\": 30.88}, {\"item_id\": \"item_746\", \"quantity\": 4, \"price_usd\": 63.19}]}"
        ],
        [
         "event_75",
         1.755227997686931E9,
         "eyJ1c2VyX2lkIjogInVzZXJfNTkwOCIsICJldmVudF90eXBlIjogInZpZXciLCAiZXZlbnRfdGltZXN0YW1wIjogIjIwMjUtMDgtMTVUMDM6MTk6NTcuNjg2OTIzIiwgIml0ZW1zIjogW3siaXRlbV9pZCI6ICJpdGVtXzk0OCIsICJxdWFudGl0eSI6IDEsICJwcmljZV91c2QiOiA5MS4xM31dfQ==",
         null,
         "{\"user_id\": \"user_5908\", \"event_type\": \"view\", \"event_timestamp\": \"2025-08-15T03:19:57.686923\", \"items\": [{\"item_id\": \"item_948\", \"quantity\": 1, \"price_usd\": 91.13}]}"
        ],
        [
         "event_76",
         1.755227997686946E9,
         "eyJ1c2VyX2lkIjogInVzZXJfMTE4MyIsICJldmVudF90eXBlIjogInZpZXciLCAiZXZlbnRfdGltZXN0YW1wIjogIjIwMjUtMDgtMTVUMDM6MTk6NTcuNjg2OTMzIiwgIml0ZW1zIjogW3siaXRlbV9pZCI6ICJpdGVtXzc4MiIsICJxdWFudGl0eSI6IDMsICJwcmljZV91c2QiOiA5OC42Mn0sIHsiaXRlbV9pZCI6ICJpdGVtXzUwMiIsICJxdWFudGl0eSI6IDQsICJwcmljZV91c2QiOiA1NC41fSwgeyJpdGVtX2lkIjogIml0ZW1fNDc4IiwgInF1YW50aXR5IjogMywgInByaWNlX3VzZCI6IDI4LjI1fV19",
         null,
         "{\"user_id\": \"user_1183\", \"event_type\": \"view\", \"event_timestamp\": \"2025-08-15T03:19:57.686933\", \"items\": [{\"item_id\": \"item_782\", \"quantity\": 3, \"price_usd\": 98.62}, {\"item_id\": \"item_502\", \"quantity\": 4, \"price_usd\": 54.5}, {\"item_id\": \"item_478\", \"quantity\": 3, \"price_usd\": 28.25}]}"
        ],
        [
         "event_77",
         1.755227997686967E9,
         "eyJ1c2VyX2lkIjogInVzZXJfNjgyNCIsICJldmVudF90eXBlIjogImNsaWNrIiwgImV2ZW50X3RpbWVzdGFtcCI6ICIyMDI1LTA4LTE1VDAzOjE5OjU3LjY4Njk0OCIsICJpdGVtcyI6IFt7Iml0ZW1faWQiOiAiaXRlbV81MDUiLCAicXVhbnRpdHkiOiAzLCAicHJpY2VfdXNkIjogNzkuMjd9LCB7Iml0ZW1faWQiOiAiaXRlbV8xOTAiLCAicXVhbnRpdHkiOiAxLCAicHJpY2VfdXNkIjogNDcuNzR9XX0=",
         null,
         "{\"user_id\": \"user_6824\", \"event_type\": \"click\", \"event_timestamp\": \"2025-08-15T03:19:57.686948\", \"items\": [{\"item_id\": \"item_505\", \"quantity\": 3, \"price_usd\": 79.27}, {\"item_id\": \"item_190\", \"quantity\": 1, \"price_usd\": 47.74}]}"
        ],
        [
         "event_78",
         1.755227997686991E9,
         "eyJ1c2VyX2lkIjogInVzZXJfODcwNCIsICJldmVudF90eXBlIjogImNsaWNrIiwgImV2ZW50X3RpbWVzdGFtcCI6ICIyMDI1LTA4LTE1VDAzOjE5OjU3LjY4Njk3MSIsICJpdGVtcyI6IFt7Iml0ZW1faWQiOiAiaXRlbV8xMTAiLCAicXVhbnRpdHkiOiAxLCAicHJpY2VfdXNkIjogNjQuOH0sIHsiaXRlbV9pZCI6ICJpdGVtXzQ4MyIsICJxdWFudGl0eSI6IDEsICJwcmljZV91c2QiOiAyMy42NH0sIHsiaXRlbV9pZCI6ICJpdGVtXzMyNiIsICJxdWFudGl0eSI6IDQsICJwcmljZV91c2QiOiA5MC44Nn1dfQ==",
         null,
         "{\"user_id\": \"user_8704\", \"event_type\": \"click\", \"event_timestamp\": \"2025-08-15T03:19:57.686971\", \"items\": [{\"item_id\": \"item_110\", \"quantity\": 1, \"price_usd\": 64.8}, {\"item_id\": \"item_483\", \"quantity\": 1, \"price_usd\": 23.64}, {\"item_id\": \"item_326\", \"quantity\": 4, \"price_usd\": 90.86}]}"
        ],
        [
         "event_79",
         1.755227997687007E9,
         "eyJ1c2VyX2lkIjogInVzZXJfMjAzOSIsICJldmVudF90eXBlIjogInZpZXciLCAiZXZlbnRfdGltZXN0YW1wIjogIjIwMjUtMDgtMTVUMDM6MTk6NTcuNjg2OTk0IiwgIml0ZW1zIjogW3siaXRlbV9pZCI6ICJpdGVtXzczMSIsICJxdWFudGl0eSI6IDQsICJwcmljZV91c2QiOiA2MS4yNn0sIHsiaXRlbV9pZCI6ICJpdGVtXzI4MyIsICJxdWFudGl0eSI6IDQsICJwcmljZV91c2QiOiAxNy4yMX0sIHsiaXRlbV9pZCI6ICJpdGVtXzU2NiIsICJxdWFudGl0eSI6IDEsICJwcmljZV91c2QiOiA5OC45Nn1dfQ==",
         null,
         "{\"user_id\": \"user_2039\", \"event_type\": \"view\", \"event_timestamp\": \"2025-08-15T03:19:57.686994\", \"items\": [{\"item_id\": \"item_731\", \"quantity\": 4, \"price_usd\": 61.26}, {\"item_id\": \"item_283\", \"quantity\": 4, \"price_usd\": 17.21}, {\"item_id\": \"item_566\", \"quantity\": 1, \"price_usd\": 98.96}]}"
        ],
        [
         "event_80",
         1.755227997687017E9,
         "eyJ1c2VyX2lkIjogInVzZXJfNzQwNiIsICJldmVudF90eXBlIjogImNsaWNrIiwgImV2ZW50X3RpbWVzdGFtcCI6ICIyMDI1LTA4LTE1VDAzOjE5OjU3LjY4NzAwOSIsICJpdGVtcyI6IFt7Iml0ZW1faWQiOiAiaXRlbV83MjciLCAicXVhbnRpdHkiOiAyLCAicHJpY2VfdXNkIjogNzMuOTR9XX0=",
         null,
         "{\"user_id\": \"user_7406\", \"event_type\": \"click\", \"event_timestamp\": \"2025-08-15T03:19:57.687009\", \"items\": [{\"item_id\": \"item_727\", \"quantity\": 2, \"price_usd\": 73.94}]}"
        ],
        [
         "event_81",
         1.755227997687026E9,
         "eyJ1c2VyX2lkIjogInVzZXJfMzM5OCIsICJldmVudF90eXBlIjogInZpZXciLCAiZXZlbnRfdGltZXN0YW1wIjogIjIwMjUtMDgtMTVUMDM6MTk6NTcuNjg3MDE5IiwgIml0ZW1zIjogW3siaXRlbV9pZCI6ICJpdGVtXzI2NyIsICJxdWFudGl0eSI6IDIsICJwcmljZV91c2QiOiA3MC43fV19",
         null,
         "{\"user_id\": \"user_3398\", \"event_type\": \"view\", \"event_timestamp\": \"2025-08-15T03:19:57.687019\", \"items\": [{\"item_id\": \"item_267\", \"quantity\": 2, \"price_usd\": 70.7}]}"
        ],
        [
         "event_82",
         1.755227997687042E9,
         "eyJ1c2VyX2lkIjogInVzZXJfNjYwNiIsICJldmVudF90eXBlIjogInB1cmNoYXNlIiwgImV2ZW50X3RpbWVzdGFtcCI6ICIyMDI1LTA4LTE1VDAzOjE5OjU3LjY4NzAyOCIsICJpdGVtcyI6IFt7Iml0ZW1faWQiOiAiaXRlbV8xNzEiLCAicXVhbnRpdHkiOiAxLCAicHJpY2VfdXNkIjogMzIuMDd9LCB7Iml0ZW1faWQiOiAiaXRlbV8zNzUiLCAicXVhbnRpdHkiOiAxLCAicHJpY2VfdXNkIjogMjguOX0sIHsiaXRlbV9pZCI6ICJpdGVtXzUyNCIsICJxdWFudGl0eSI6IDUsICJwcmljZV91c2QiOiA4Ni4xNX1dfQ==",
         null,
         "{\"user_id\": \"user_6606\", \"event_type\": \"purchase\", \"event_timestamp\": \"2025-08-15T03:19:57.687028\", \"items\": [{\"item_id\": \"item_171\", \"quantity\": 1, \"price_usd\": 32.07}, {\"item_id\": \"item_375\", \"quantity\": 1, \"price_usd\": 28.9}, {\"item_id\": \"item_524\", \"quantity\": 5, \"price_usd\": 86.15}]}"
        ],
        [
         "event_83",
         1.755227997687054E9,
         "eyJ1c2VyX2lkIjogInVzZXJfMzg2OCIsICJldmVudF90eXBlIjogInB1cmNoYXNlIiwgImV2ZW50X3RpbWVzdGFtcCI6ICIyMDI1LTA4LTE1VDAzOjE5OjU3LjY4NzA0NCIsICJpdGVtcyI6IFt7Iml0ZW1faWQiOiAiaXRlbV82MjciLCAicXVhbnRpdHkiOiAzLCAicHJpY2VfdXNkIjogNzguNjN9LCB7Iml0ZW1faWQiOiAiaXRlbV82NTkiLCAicXVhbnRpdHkiOiA0LCAicHJpY2VfdXNkIjogMTMuNTN9XX0=",
         null,
         "{\"user_id\": \"user_3868\", \"event_type\": \"purchase\", \"event_timestamp\": \"2025-08-15T03:19:57.687044\", \"items\": [{\"item_id\": \"item_627\", \"quantity\": 3, \"price_usd\": 78.63}, {\"item_id\": \"item_659\", \"quantity\": 4, \"price_usd\": 13.53}]}"
        ],
        [
         "event_84",
         1.75522799768707E9,
         "eyJ1c2VyX2lkIjogInVzZXJfMTE2MiIsICJldmVudF90eXBlIjogInZpZXciLCAiZXZlbnRfdGltZXN0YW1wIjogIjIwMjUtMDgtMTVUMDM6MTk6NTcuNjg3MDU2IiwgIml0ZW1zIjogW3siaXRlbV9pZCI6ICJpdGVtXzkyOCIsICJxdWFudGl0eSI6IDUsICJwcmljZV91c2QiOiA0MC44OX0sIHsiaXRlbV9pZCI6ICJpdGVtXzI3MSIsICJxdWFudGl0eSI6IDUsICJwcmljZV91c2QiOiAyNy4yOH0sIHsiaXRlbV9pZCI6ICJpdGVtXzQ4NyIsICJxdWFudGl0eSI6IDIsICJwcmljZV91c2QiOiA4Ni4zOH1dfQ==",
         null,
         "{\"user_id\": \"user_1162\", \"event_type\": \"view\", \"event_timestamp\": \"2025-08-15T03:19:57.687056\", \"items\": [{\"item_id\": \"item_928\", \"quantity\": 5, \"price_usd\": 40.89}, {\"item_id\": \"item_271\", \"quantity\": 5, \"price_usd\": 27.28}, {\"item_id\": \"item_487\", \"quantity\": 2, \"price_usd\": 86.38}]}"
        ],
        [
         "event_85",
         1.755227997687082E9,
         "eyJ1c2VyX2lkIjogInVzZXJfNDU4OCIsICJldmVudF90eXBlIjogInB1cmNoYXNlIiwgImV2ZW50X3RpbWVzdGFtcCI6ICIyMDI1LTA4LTE1VDAzOjE5OjU3LjY4NzA3MSIsICJpdGVtcyI6IFt7Iml0ZW1faWQiOiAiaXRlbV8xODMiLCAicXVhbnRpdHkiOiAxLCAicHJpY2VfdXNkIjogOTAuMzV9LCB7Iml0ZW1faWQiOiAiaXRlbV81OTgiLCAicXVhbnRpdHkiOiAzLCAicHJpY2VfdXNkIjogMjYuODN9XX0=",
         null,
         "{\"user_id\": \"user_4588\", \"event_type\": \"purchase\", \"event_timestamp\": \"2025-08-15T03:19:57.687071\", \"items\": [{\"item_id\": \"item_183\", \"quantity\": 1, \"price_usd\": 90.35}, {\"item_id\": \"item_598\", \"quantity\": 3, \"price_usd\": 26.83}]}"
        ],
        [
         "event_86",
         1.755227997687091E9,
         "eyJ1c2VyX2lkIjogInVzZXJfOTI5MiIsICJldmVudF90eXBlIjogInZpZXciLCAiZXZlbnRfdGltZXN0YW1wIjogIjIwMjUtMDgtMTVUMDM6MTk6NTcuNjg3MDg0IiwgIml0ZW1zIjogW3siaXRlbV9pZCI6ICJpdGVtXzcxMyIsICJxdWFudGl0eSI6IDQsICJwcmljZV91c2QiOiAxOC42MX1dfQ==",
         null,
         "{\"user_id\": \"user_9292\", \"event_type\": \"view\", \"event_timestamp\": \"2025-08-15T03:19:57.687084\", \"items\": [{\"item_id\": \"item_713\", \"quantity\": 4, \"price_usd\": 18.61}]}"
        ],
        [
         "event_87",
         1.755227997687107E9,
         "eyJ1c2VyX2lkIjogInVzZXJfOTQwOSIsICJldmVudF90eXBlIjogInZpZXciLCAiZXZlbnRfdGltZXN0YW1wIjogIjIwMjUtMDgtMTVUMDM6MTk6NTcuNjg3MDkzIiwgIml0ZW1zIjogW3siaXRlbV9pZCI6ICJpdGVtXzMwNSIsICJxdWFudGl0eSI6IDUsICJwcmljZV91c2QiOiA4OC4yNX0sIHsiaXRlbV9pZCI6ICJpdGVtXzU0NyIsICJxdWFudGl0eSI6IDIsICJwcmljZV91c2QiOiA4Ni43NX0sIHsiaXRlbV9pZCI6ICJpdGVtXzMwMyIsICJxdWFudGl0eSI6IDEsICJwcmljZV91c2QiOiAxNS4wfV19",
         null,
         "{\"user_id\": \"user_9409\", \"event_type\": \"view\", \"event_timestamp\": \"2025-08-15T03:19:57.687093\", \"items\": [{\"item_id\": \"item_305\", \"quantity\": 5, \"price_usd\": 88.25}, {\"item_id\": \"item_547\", \"quantity\": 2, \"price_usd\": 86.75}, {\"item_id\": \"item_303\", \"quantity\": 1, \"price_usd\": 15.0}]}"
        ],
        [
         "event_88",
         1.75522799768712E9,
         "eyJ1c2VyX2lkIjogInVzZXJfNjM3MiIsICJldmVudF90eXBlIjogImNsaWNrIiwgImV2ZW50X3RpbWVzdGFtcCI6ICIyMDI1LTA4LTE1VDAzOjE5OjU3LjY4NzEwOSIsICJpdGVtcyI6IFt7Iml0ZW1faWQiOiAiaXRlbV8xOTQiLCAicXVhbnRpdHkiOiAyLCAicHJpY2VfdXNkIjogNzEuNDN9XX0=",
         null,
         "{\"user_id\": \"user_6372\", \"event_type\": \"click\", \"event_timestamp\": \"2025-08-15T03:19:57.687109\", \"items\": [{\"item_id\": \"item_194\", \"quantity\": 2, \"price_usd\": 71.43}]}"
        ],
        [
         "event_89",
         1.755227997687136E9,
         "eyJ1c2VyX2lkIjogInVzZXJfMjEzMSIsICJldmVudF90eXBlIjogInB1cmNoYXNlIiwgImV2ZW50X3RpbWVzdGFtcCI6ICIyMDI1LTA4LTE1VDAzOjE5OjU3LjY4NzEyMiIsICJpdGVtcyI6IFt7Iml0ZW1faWQiOiAiaXRlbV8yNjIiLCAicXVhbnRpdHkiOiA1LCAicHJpY2VfdXNkIjogNzUuMn0sIHsiaXRlbV9pZCI6ICJpdGVtXzMzNCIsICJxdWFudGl0eSI6IDEsICJwcmljZV91c2QiOiAxNC4yN31dfQ==",
         null,
         "{\"user_id\": \"user_2131\", \"event_type\": \"purchase\", \"event_timestamp\": \"2025-08-15T03:19:57.687122\", \"items\": [{\"item_id\": \"item_262\", \"quantity\": 5, \"price_usd\": 75.2}, {\"item_id\": \"item_334\", \"quantity\": 1, \"price_usd\": 14.27}]}"
        ],
        [
         "event_90",
         1.755227997687149E9,
         "eyJ1c2VyX2lkIjogInVzZXJfNjMxMCIsICJldmVudF90eXBlIjogInB1cmNoYXNlIiwgImV2ZW50X3RpbWVzdGFtcCI6ICIyMDI1LTA4LTE1VDAzOjE5OjU3LjY4NzEzOCIsICJpdGVtcyI6IFt7Iml0ZW1faWQiOiAiaXRlbV82MjYiLCAicXVhbnRpdHkiOiAxLCAicHJpY2VfdXNkIjogNjYuNDZ9LCB7Iml0ZW1faWQiOiAiaXRlbV8yNDEiLCAicXVhbnRpdHkiOiA1LCAicHJpY2VfdXNkIjogODMuNTV9XX0=",
         null,
         "{\"user_id\": \"user_6310\", \"event_type\": \"purchase\", \"event_timestamp\": \"2025-08-15T03:19:57.687138\", \"items\": [{\"item_id\": \"item_626\", \"quantity\": 1, \"price_usd\": 66.46}, {\"item_id\": \"item_241\", \"quantity\": 5, \"price_usd\": 83.55}]}"
        ],
        [
         "event_91",
         1.755227997687166E9,
         "eyJ1c2VyX2lkIjogInVzZXJfNjEyMSIsICJldmVudF90eXBlIjogImNsaWNrIiwgImV2ZW50X3RpbWVzdGFtcCI6ICIyMDI1LTA4LTE1VDAzOjE5OjU3LjY4NzE1MiIsICJpdGVtcyI6IFt7Iml0ZW1faWQiOiAiaXRlbV8zNjkiLCAicXVhbnRpdHkiOiA1LCAicHJpY2VfdXNkIjogMTkuNjR9XX0=",
         null,
         "{\"user_id\": \"user_6121\", \"event_type\": \"click\", \"event_timestamp\": \"2025-08-15T03:19:57.687152\", \"items\": [{\"item_id\": \"item_369\", \"quantity\": 5, \"price_usd\": 19.64}]}"
        ],
        [
         "event_92",
         1.755227997687184E9,
         "eyJ1c2VyX2lkIjogInVzZXJfNDc2NSIsICJldmVudF90eXBlIjogImNsaWNrIiwgImV2ZW50X3RpbWVzdGFtcCI6ICIyMDI1LTA4LTE1VDAzOjE5OjU3LjY4NzE3MCIsICJpdGVtcyI6IFt7Iml0ZW1faWQiOiAiaXRlbV82NzAiLCAicXVhbnRpdHkiOiAyLCAicHJpY2VfdXNkIjogMzUuNTh9LCB7Iml0ZW1faWQiOiAiaXRlbV83NzEiLCAicXVhbnRpdHkiOiA1LCAicHJpY2VfdXNkIjogNDguNjh9LCB7Iml0ZW1faWQiOiAiaXRlbV8yMzkiLCAicXVhbnRpdHkiOiA0LCAicHJpY2VfdXNkIjogMTkuODd9XX0=",
         null,
         "{\"user_id\": \"user_4765\", \"event_type\": \"click\", \"event_timestamp\": \"2025-08-15T03:19:57.687170\", \"items\": [{\"item_id\": \"item_670\", \"quantity\": 2, \"price_usd\": 35.58}, {\"item_id\": \"item_771\", \"quantity\": 5, \"price_usd\": 48.68}, {\"item_id\": \"item_239\", \"quantity\": 4, \"price_usd\": 19.87}]}"
        ],
        [
         "event_93",
         1.755227997687209E9,
         "eyJ1c2VyX2lkIjogInVzZXJfMTIwMCIsICJldmVudF90eXBlIjogImNsaWNrIiwgImV2ZW50X3RpbWVzdGFtcCI6ICIyMDI1LTA4LTE1VDAzOjE5OjU3LjY4NzE4NyIsICJpdGVtcyI6IFt7Iml0ZW1faWQiOiAiaXRlbV85MTkiLCAicXVhbnRpdHkiOiAyLCAicHJpY2VfdXNkIjogOTkuOTV9LCB7Iml0ZW1faWQiOiAiaXRlbV8xNTAiLCAicXVhbnRpdHkiOiA0LCAicHJpY2VfdXNkIjogNTEuNDl9LCB7Iml0ZW1faWQiOiAiaXRlbV8zNTciLCAicXVhbnRpdHkiOiAzLCAicHJpY2VfdXNkIjogNzQuMTl9XX0=",
         null,
         "{\"user_id\": \"user_1200\", \"event_type\": \"click\", \"event_timestamp\": \"2025-08-15T03:19:57.687187\", \"items\": [{\"item_id\": \"item_919\", \"quantity\": 2, \"price_usd\": 99.95}, {\"item_id\": \"item_150\", \"quantity\": 4, \"price_usd\": 51.49}, {\"item_id\": \"item_357\", \"quantity\": 3, \"price_usd\": 74.19}]}"
        ],
        [
         "event_94",
         1.755227997687225E9,
         "eyJ1c2VyX2lkIjogInVzZXJfNDYyMyIsICJldmVudF90eXBlIjogInZpZXciLCAiZXZlbnRfdGltZXN0YW1wIjogIjIwMjUtMDgtMTVUMDM6MTk6NTcuNjg3MjExIiwgIml0ZW1zIjogW3siaXRlbV9pZCI6ICJpdGVtXzMzOCIsICJxdWFudGl0eSI6IDQsICJwcmljZV91c2QiOiA5Mi40OH0sIHsiaXRlbV9pZCI6ICJpdGVtXzQ3MCIsICJxdWFudGl0eSI6IDUsICJwcmljZV91c2QiOiAzMC4wM30sIHsiaXRlbV9pZCI6ICJpdGVtXzUzMiIsICJxdWFudGl0eSI6IDUsICJwcmljZV91c2QiOiAzMi45M31dfQ==",
         null,
         "{\"user_id\": \"user_4623\", \"event_type\": \"view\", \"event_timestamp\": \"2025-08-15T03:19:57.687211\", \"items\": [{\"item_id\": \"item_338\", \"quantity\": 4, \"price_usd\": 92.48}, {\"item_id\": \"item_470\", \"quantity\": 5, \"price_usd\": 30.03}, {\"item_id\": \"item_532\", \"quantity\": 5, \"price_usd\": 32.93}]}"
        ],
        [
         "event_95",
         1.755227997687235E9,
         "eyJ1c2VyX2lkIjogInVzZXJfNzc0MiIsICJldmVudF90eXBlIjogImNsaWNrIiwgImV2ZW50X3RpbWVzdGFtcCI6ICIyMDI1LTA4LTE1VDAzOjE5OjU3LjY4NzIyNyIsICJpdGVtcyI6IFt7Iml0ZW1faWQiOiAiaXRlbV80OTkiLCAicXVhbnRpdHkiOiAxLCAicHJpY2VfdXNkIjogNDkuNjV9XX0=",
         null,
         "{\"user_id\": \"user_7742\", \"event_type\": \"click\", \"event_timestamp\": \"2025-08-15T03:19:57.687227\", \"items\": [{\"item_id\": \"item_499\", \"quantity\": 1, \"price_usd\": 49.65}]}"
        ],
        [
         "event_96",
         1.755227997687268E9,
         "eyJ1c2VyX2lkIjogInVzZXJfMzUwNiIsICJldmVudF90eXBlIjogInZpZXciLCAiZXZlbnRfdGltZXN0YW1wIjogIjIwMjUtMDgtMTVUMDM6MTk6NTcuNjg3MjM3IiwgIml0ZW1zIjogW3siaXRlbV9pZCI6ICJpdGVtXzk0MiIsICJxdWFudGl0eSI6IDEsICJwcmljZV91c2QiOiAyMy4wN30sIHsiaXRlbV9pZCI6ICJpdGVtXzU5MyIsICJxdWFudGl0eSI6IDMsICJwcmljZV91c2QiOiA1Mi40Nn0sIHsiaXRlbV9pZCI6ICJpdGVtXzgyMyIsICJxdWFudGl0eSI6IDUsICJwcmljZV91c2QiOiA2MS44fV19",
         null,
         "{\"user_id\": \"user_3506\", \"event_type\": \"view\", \"event_timestamp\": \"2025-08-15T03:19:57.687237\", \"items\": [{\"item_id\": \"item_942\", \"quantity\": 1, \"price_usd\": 23.07}, {\"item_id\": \"item_593\", \"quantity\": 3, \"price_usd\": 52.46}, {\"item_id\": \"item_823\", \"quantity\": 5, \"price_usd\": 61.8}]}"
        ],
        [
         "event_97",
         1.755227997687279E9,
         "eyJ1c2VyX2lkIjogInVzZXJfNTEwMiIsICJldmVudF90eXBlIjogImNsaWNrIiwgImV2ZW50X3RpbWVzdGFtcCI6ICIyMDI1LTA4LTE1VDAzOjE5OjU3LjY4NzI3MSIsICJpdGVtcyI6IFt7Iml0ZW1faWQiOiAiaXRlbV8yMDYiLCAicXVhbnRpdHkiOiAxLCAicHJpY2VfdXNkIjogOTIuMDJ9XX0=",
         null,
         "{\"user_id\": \"user_5102\", \"event_type\": \"click\", \"event_timestamp\": \"2025-08-15T03:19:57.687271\", \"items\": [{\"item_id\": \"item_206\", \"quantity\": 1, \"price_usd\": 92.02}]}"
        ],
        [
         "event_98",
         1.755227997687288E9,
         "eyJ1c2VyX2lkIjogInVzZXJfMjc1MSIsICJldmVudF90eXBlIjogInZpZXciLCAiZXZlbnRfdGltZXN0YW1wIjogIjIwMjUtMDgtMTVUMDM6MTk6NTcuNjg3MjgwIiwgIml0ZW1zIjogW3siaXRlbV9pZCI6ICJpdGVtXzc3MSIsICJxdWFudGl0eSI6IDUsICJwcmljZV91c2QiOiAyNi42fV19",
         null,
         "{\"user_id\": \"user_2751\", \"event_type\": \"view\", \"event_timestamp\": \"2025-08-15T03:19:57.687280\", \"items\": [{\"item_id\": \"item_771\", \"quantity\": 5, \"price_usd\": 26.6}]}"
        ],
        [
         "event_99",
         1.755227997687304E9,
         "eyJ1c2VyX2lkIjogInVzZXJfNTQyMCIsICJldmVudF90eXBlIjogInZpZXciLCAiZXZlbnRfdGltZXN0YW1wIjogIjIwMjUtMDgtMTVUMDM6MTk6NTcuNjg3MjkwIiwgIml0ZW1zIjogW3siaXRlbV9pZCI6ICJpdGVtXzc2MiIsICJxdWFudGl0eSI6IDMsICJwcmljZV91c2QiOiA5MS44OH0sIHsiaXRlbV9pZCI6ICJpdGVtXzc2NiIsICJxdWFudGl0eSI6IDUsICJwcmljZV91c2QiOiA4Ni44NX0sIHsiaXRlbV9pZCI6ICJpdGVtXzIxMSIsICJxdWFudGl0eSI6IDQsICJwcmljZV91c2QiOiAxMC45N31dfQ==",
         null,
         "{\"user_id\": \"user_5420\", \"event_type\": \"view\", \"event_timestamp\": \"2025-08-15T03:19:57.687290\", \"items\": [{\"item_id\": \"item_762\", \"quantity\": 3, \"price_usd\": 91.88}, {\"item_id\": \"item_766\", \"quantity\": 5, \"price_usd\": 86.85}, {\"item_id\": \"item_211\", \"quantity\": 4, \"price_usd\": 10.97}]}"
        ]
       ],
       "datasetInfos": [],
       "dbfsResultPath": null,
       "isJsonSchema": true,
       "metadata": {},
       "overflow": false,
       "plotOptions": {
        "customPlotOptions": {},
        "displayType": "table",
        "pivotAggregation": null,
        "pivotColumns": null,
        "xColumns": null,
        "yColumns": null
       },
       "removedWidgets": [],
       "schema": [
        {
         "metadata": "{}",
         "name": "key",
         "type": "\"string\""
        },
        {
         "metadata": "{}",
         "name": "timestamp",
         "type": "\"double\""
        },
        {
         "metadata": "{}",
         "name": "value",
         "type": "\"string\""
        },
        {
         "metadata": "{}",
         "name": "_rescued_data",
         "type": "\"string\""
        },
        {
         "metadata": "{}",
         "name": "decoded_value",
         "type": "\"string\""
        }
       ],
       "type": "table"
      }
     },
     "output_type": "display_data"
    }
   ],
   "source": [
    "CREATE OR REPLACE TABLE lab7_lab_kafka_events_raw\n",
    "AS\n",
    "SELECT \n",
    "  *,\n",
    "  cast(unbase64(value) as STRING) as decoded_value\n",
    "FROM read_files(\n",
    "        DA.paths_working_dir || '/json_demo_files/lab_kafka_events.json',\n",
    "        format => \"json\", \n",
    "        schema => '''\n",
    "          key STRING, \n",
    "          timestamp DOUBLE, \n",
    "          value STRING\n",
    "        ''',\n",
    "        rescueddatacolumn => '_rescued_data'\n",
    "      );\n",
    "\n",
    "-- View the table\n",
    "SELECT *\n",
    "FROM lab7_lab_kafka_events_raw;"
   ]
  },
  {
   "cell_type": "markdown",
   "metadata": {
    "application/vnd.databricks.v1+cell": {
     "cellMetadata": {
      "byteLimit": 2048000,
      "rowLimit": 10000
     },
     "inputWidgets": {},
     "nuid": "bc7b920e-2f4a-4a17-b947-ad4be4ef963f",
     "showTitle": false,
     "tableResultSettingsMap": {},
     "title": ""
    }
   },
   "source": [
    "### B3. Create the Flattened Bronze Table"
   ]
  },
  {
   "cell_type": "markdown",
   "metadata": {
    "application/vnd.databricks.v1+cell": {
     "cellMetadata": {
      "byteLimit": 2048000,
      "rowLimit": 10000
     },
     "inputWidgets": {},
     "nuid": "df28a8cd-59e1-4d89-9f90-1b47f2907084",
     "showTitle": false,
     "tableResultSettingsMap": {},
     "title": ""
    }
   },
   "source": [
    "1. Your goal is to flatten the JSON formatted string column **decoded_value** from the table **lab7_lab_kafka_events_raw** to create a new table named **lab7_lab_kafka_events_flattened** for downstream processing. The table should contain the following columns:\n",
    "    - **key**\n",
    "    - **timestamp**\n",
    "    - **user_id**\n",
    "    - **event_type**\n",
    "    - **event_timestamp**\n",
    "    - **items**\n",
    "\n",
    "    You can use whichever technique you prefer:\n",
    "\n",
    "    - Parse the JSON formatted string (easiest) to flatten\n",
    "      - [Query JSON strings](https://docs.databricks.com/aws/en/semi-structured/json):\n",
    "\n",
    "    - Convert the JSON formatted string as a VARIANT and flatten\n",
    "      - [parse_json function](https://docs.databricks.com/gcp/en/sql/language-manual/functions/parse_json)\n",
    "\n",
    "    - Convert the JSON formatted string to a STRUCT and flatten\n",
    "      - [schema_of_json function](https://docs.databricks.com/aws/en/sql/language-manual/functions/schema_of_json)\n",
    "      - [from_json function](https://docs.databricks.com/gcp/en/sql/language-manual/functions/from_json)\n",
    "\n",
    "**NOTE:** View the lab solution notebook to view the solutions for each."
   ]
  },
  {
   "cell_type": "markdown",
   "metadata": {
    "application/vnd.databricks.v1+cell": {
     "cellMetadata": {
      "byteLimit": 2048000,
      "rowLimit": 10000
     },
     "inputWidgets": {},
     "nuid": "40ef0789-d9a9-435f-ab01-c86e62d49907",
     "showTitle": false,
     "tableResultSettingsMap": {},
     "title": ""
    }
   },
   "source": [
    "2. To begin, run the code below to view the final solution table **lab7_lab_kafka_events_flattened_solution**. This will give you an idea of what your final table should look like.\n",
    "\n",
    "  **NOTE**: Depending on your solution, the data types of the columns may vary slightly.  \n",
    "\n",
    "\n",
    "##### Optional Challenge\n",
    "\n",
    "  As a challenge, after flattening the table, try converting the data types accordingly. Depending on your skill set, you may not convert all columns to the correct data types within the allotted time.\n",
    "\n",
    "  - **key** STRING\n",
    "  - **timestamp** DOUBLE\n",
    "  - **user_id** STRING\n",
    "  - **event_type** STRING\n",
    "  - **event_timestamp** TIMESTAMP\n",
    "  - **items** (STRUCT or VARIANT) depending on the method you used."
   ]
  },
  {
   "cell_type": "code",
   "execution_count": 0,
   "metadata": {
    "application/vnd.databricks.v1+cell": {
     "cellMetadata": {
      "byteLimit": 2048000,
      "rowLimit": 10000
     },
     "inputWidgets": {},
     "nuid": "92ae1d51-8491-4d91-af4a-450f8a58e175",
     "showTitle": false,
     "tableResultSettingsMap": {},
     "title": ""
    }
   },
   "outputs": [
    {
     "output_type": "display_data",
     "data": {
      "text/html": [
       "<style scoped>\n",
       "  .table-result-container {\n",
       "    max-height: 300px;\n",
       "    overflow: auto;\n",
       "  }\n",
       "  table, th, td {\n",
       "    border: 1px solid black;\n",
       "    border-collapse: collapse;\n",
       "  }\n",
       "  th, td {\n",
       "    padding: 5px;\n",
       "  }\n",
       "  th {\n",
       "    text-align: left;\n",
       "  }\n",
       "</style><div class='table-result-container'><table class='table-result'><thead style='background-color: white'><tr><th>key</th><th>timestamp</th><th>user_id</th><th>event_type</th><th>event_timestamp</th><th>items</th></tr></thead><tbody><tr><td>event_0</td><td>1.755227997685932E9</td><td>user_9442</td><td>view</td><td>2025-08-15T03:19:57.685885Z</td><td>List(List(item_175, 26.34, 3), List(item_308, 38.42, 2))</td></tr><tr><td>event_1</td><td>1.755227997685954E9</td><td>user_6202</td><td>purchase</td><td>2025-08-15T03:19:57.685938Z</td><td>List(List(item_905, 13.04, 1))</td></tr><tr><td>event_2</td><td>1.75522799768597E9</td><td>user_1854</td><td>click</td><td>2025-08-15T03:19:57.685957Z</td><td>List(List(item_566, 51.63, 1), List(item_310, 16.99, 2))</td></tr><tr><td>event_3</td><td>1.755227997685985E9</td><td>user_9430</td><td>click</td><td>2025-08-15T03:19:57.685973Z</td><td>List(List(item_566, 37.03, 3), List(item_436, 85.36, 5))</td></tr><tr><td>event_4</td><td>1.755227997685996E9</td><td>user_7786</td><td>purchase</td><td>2025-08-15T03:19:57.685987Z</td><td>List(List(item_366, 46.09, 1))</td></tr><tr><td>event_5</td><td>1.755227997686006E9</td><td>user_4175</td><td>click</td><td>2025-08-15T03:19:57.685998Z</td><td>List(List(item_460, 25.93, 4))</td></tr><tr><td>event_6</td><td>1.755227997686019E9</td><td>user_2159</td><td>click</td><td>2025-08-15T03:19:57.686008Z</td><td>List(List(item_366, 57.43, 4), List(item_132, 64.54, 5))</td></tr><tr><td>event_7</td><td>1.755227997686036E9</td><td>user_7386</td><td>click</td><td>2025-08-15T03:19:57.686021Z</td><td>List(List(item_894, 48.07, 2), List(item_726, 38.27, 4), List(item_779, 83.15, 1))</td></tr><tr><td>event_8</td><td>1.755227997686053E9</td><td>user_8857</td><td>click</td><td>2025-08-15T03:19:57.686039Z</td><td>List(List(item_683, 23.01, 5), List(item_527, 23.25, 1), List(item_760, 44.65, 4))</td></tr><tr><td>event_9</td><td>1.755227997686064E9</td><td>user_9819</td><td>view</td><td>2025-08-15T03:19:57.686055Z</td><td>List(List(item_157, 67.91, 2))</td></tr><tr><td>event_10</td><td>1.755227997686074E9</td><td>user_8581</td><td>view</td><td>2025-08-15T03:19:57.686066Z</td><td>List(List(item_676, 84.02, 1))</td></tr><tr><td>event_11</td><td>1.755227997686098E9</td><td>user_2870</td><td>view</td><td>2025-08-15T03:19:57.686076Z</td><td>List(List(item_114, 93.67, 4), List(item_942, 90.96, 2), List(item_729, 90.6, 3))</td></tr><tr><td>event_12</td><td>1.75522799768612E9</td><td>user_8649</td><td>view</td><td>2025-08-15T03:19:57.686101Z</td><td>List(List(item_884, 35.3, 1), List(item_199, 90.97, 5))</td></tr><tr><td>event_13</td><td>1.755227997686145E9</td><td>user_4362</td><td>view</td><td>2025-08-15T03:19:57.686123Z</td><td>List(List(item_971, 81.53, 5), List(item_317, 17.12, 3), List(item_914, 14.9, 2))</td></tr><tr><td>event_14</td><td>1.755227997686159E9</td><td>user_8388</td><td>view</td><td>2025-08-15T03:19:57.686147Z</td><td>List(List(item_854, 38.97, 5), List(item_283, 21.11, 5))</td></tr><tr><td>event_15</td><td>1.755227997686174E9</td><td>user_8887</td><td>click</td><td>2025-08-15T03:19:57.686161Z</td><td>List(List(item_869, 81.54, 4), List(item_123, 31.61, 3), List(item_383, 43.9, 4))</td></tr><tr><td>event_16</td><td>1.755227997686184E9</td><td>user_2863</td><td>click</td><td>2025-08-15T03:19:57.686176Z</td><td>List(List(item_146, 89.8, 4))</td></tr><tr><td>event_17</td><td>1.755227997686194E9</td><td>user_3579</td><td>click</td><td>2025-08-15T03:19:57.686186Z</td><td>List(List(item_189, 25.93, 1))</td></tr><tr><td>event_18</td><td>1.755227997686204E9</td><td>user_2725</td><td>view</td><td>2025-08-15T03:19:57.686196Z</td><td>List(List(item_421, 99.8, 3))</td></tr><tr><td>event_19</td><td>1.755227997686214E9</td><td>user_4101</td><td>click</td><td>2025-08-15T03:19:57.686206Z</td><td>List(List(item_734, 39.37, 5))</td></tr><tr><td>event_20</td><td>1.755227997686229E9</td><td>user_3286</td><td>view</td><td>2025-08-15T03:19:57.686216Z</td><td>List(List(item_942, 54.61, 2), List(item_158, 93.18, 1), List(item_497, 90.06, 1))</td></tr><tr><td>event_21</td><td>1.755227997686239E9</td><td>user_9239</td><td>click</td><td>2025-08-15T03:19:57.686231Z</td><td>List(List(item_742, 37.79, 2))</td></tr><tr><td>event_22</td><td>1.755227997686252E9</td><td>user_9636</td><td>purchase</td><td>2025-08-15T03:19:57.686241Z</td><td>List(List(item_690, 21.18, 1), List(item_555, 87.79, 5))</td></tr><tr><td>event_23</td><td>1.755227997686262E9</td><td>user_4090</td><td>purchase</td><td>2025-08-15T03:19:57.686254Z</td><td>List(List(item_945, 16.32, 1))</td></tr><tr><td>event_24</td><td>1.755227997686284E9</td><td>user_9174</td><td>purchase</td><td>2025-08-15T03:19:57.686264Z</td><td>List(List(item_731, 25.23, 3))</td></tr><tr><td>event_25</td><td>1.755227997686301E9</td><td>user_5399</td><td>click</td><td>2025-08-15T03:19:57.686287Z</td><td>List(List(item_843, 98.78, 5), List(item_250, 85.22, 1), List(item_683, 45.15, 4))</td></tr><tr><td>event_26</td><td>1.755227997686317E9</td><td>user_5674</td><td>purchase</td><td>2025-08-15T03:19:57.686304Z</td><td>List(List(item_222, 40.26, 3), List(item_733, 79.36, 3))</td></tr><tr><td>event_27</td><td>1.75522799768633E9</td><td>user_2960</td><td>click</td><td>2025-08-15T03:19:57.686319Z</td><td>List(List(item_561, 13.83, 4), List(item_599, 49.98, 4))</td></tr><tr><td>event_28</td><td>1.75522799768634E9</td><td>user_7201</td><td>click</td><td>2025-08-15T03:19:57.686332Z</td><td>List(List(item_697, 32.45, 3))</td></tr><tr><td>event_29</td><td>1.755227997686352E9</td><td>user_6815</td><td>purchase</td><td>2025-08-15T03:19:57.686342Z</td><td>List(List(item_302, 53.68, 2), List(item_152, 17.73, 4))</td></tr><tr><td>event_30</td><td>1.755227997686362E9</td><td>user_1974</td><td>click</td><td>2025-08-15T03:19:57.686354Z</td><td>List(List(item_655, 58.91, 1))</td></tr><tr><td>event_31</td><td>1.755227997686375E9</td><td>user_3499</td><td>purchase</td><td>2025-08-15T03:19:57.686364Z</td><td>List(List(item_166, 68.85, 4), List(item_172, 15.29, 2))</td></tr><tr><td>event_32</td><td>1.755227997686385E9</td><td>user_5361</td><td>purchase</td><td>2025-08-15T03:19:57.686377Z</td><td>List(List(item_827, 65.98, 1))</td></tr><tr><td>event_33</td><td>1.755227997686397E9</td><td>user_3776</td><td>purchase</td><td>2025-08-15T03:19:57.686386Z</td><td>List(List(item_976, 70.98, 1), List(item_414, 73.81, 2))</td></tr><tr><td>event_34</td><td>1.755227997686409E9</td><td>user_6471</td><td>view</td><td>2025-08-15T03:19:57.686399Z</td><td>List(List(item_782, 80.74, 3), List(item_454, 64.0, 4))</td></tr><tr><td>event_35</td><td>1.755227997686419E9</td><td>user_5991</td><td>click</td><td>2025-08-15T03:19:57.686411Z</td><td>List(List(item_111, 53.97, 5))</td></tr><tr><td>event_36</td><td>1.755227997686431E9</td><td>user_1100</td><td>purchase</td><td>2025-08-15T03:19:57.686421Z</td><td>List(List(item_802, 84.51, 1), List(item_440, 65.09, 4))</td></tr><tr><td>event_37</td><td>1.755227997686446E9</td><td>user_1784</td><td>click</td><td>2025-08-15T03:19:57.686433Z</td><td>List(List(item_712, 12.47, 1), List(item_151, 72.82, 3), List(item_828, 40.84, 5))</td></tr><tr><td>event_38</td><td>1.755227997686456E9</td><td>user_4129</td><td>click</td><td>2025-08-15T03:19:57.686448Z</td><td>List(List(item_452, 66.5, 1))</td></tr><tr><td>event_39</td><td>1.755227997686472E9</td><td>user_9929</td><td>click</td><td>2025-08-15T03:19:57.686458Z</td><td>List(List(item_361, 52.39, 4), List(item_753, 34.36, 3), List(item_960, 43.61, 1))</td></tr><tr><td>event_40</td><td>1.755227997686484E9</td><td>user_8081</td><td>click</td><td>2025-08-15T03:19:57.686474Z</td><td>List(List(item_781, 53.1, 1), List(item_924, 44.7, 4))</td></tr><tr><td>event_41</td><td>1.7552279976865E9</td><td>user_2969</td><td>purchase</td><td>2025-08-15T03:19:57.686486Z</td><td>List(List(item_411, 74.71, 4), List(item_680, 83.59, 4), List(item_855, 96.59, 1))</td></tr><tr><td>event_42</td><td>1.755227997686512E9</td><td>user_7266</td><td>view</td><td>2025-08-15T03:19:57.686502Z</td><td>List(List(item_969, 45.34, 3), List(item_552, 10.21, 2))</td></tr><tr><td>event_43</td><td>1.755227997686522E9</td><td>user_8649</td><td>purchase</td><td>2025-08-15T03:19:57.686514Z</td><td>List(List(item_486, 30.23, 4))</td></tr><tr><td>event_44</td><td>1.755227997686538E9</td><td>user_5234</td><td>view</td><td>2025-08-15T03:19:57.686524Z</td><td>List(List(item_600, 22.83, 1), List(item_963, 11.23, 2), List(item_876, 61.68, 1))</td></tr><tr><td>event_45</td><td>1.755227997686551E9</td><td>user_7555</td><td>purchase</td><td>2025-08-15T03:19:57.68654Z</td><td>List(List(item_811, 89.26, 1), List(item_502, 71.06, 3))</td></tr><tr><td>event_46</td><td>1.75522799768658E9</td><td>user_4400</td><td>click</td><td>2025-08-15T03:19:57.686552Z</td><td>List(List(item_255, 96.51, 2), List(item_902, 60.75, 1))</td></tr><tr><td>event_47</td><td>1.755227997686597E9</td><td>user_3116</td><td>click</td><td>2025-08-15T03:19:57.686582Z</td><td>List(List(item_989, 22.58, 4), List(item_336, 49.08, 3), List(item_553, 74.41, 2))</td></tr><tr><td>event_48</td><td>1.755227997686608E9</td><td>user_3639</td><td>click</td><td>2025-08-15T03:19:57.686599Z</td><td>List(List(item_538, 63.62, 3))</td></tr><tr><td>event_49</td><td>1.755227997686618E9</td><td>user_9501</td><td>purchase</td><td>2025-08-15T03:19:57.68661Z</td><td>List(List(item_889, 42.32, 4))</td></tr><tr><td>event_50</td><td>1.75522799768663E9</td><td>user_6022</td><td>click</td><td>2025-08-15T03:19:57.68662Z</td><td>List(List(item_969, 25.24, 1), List(item_895, 90.68, 4))</td></tr><tr><td>event_51</td><td>1.755227997686641E9</td><td>user_9055</td><td>purchase</td><td>2025-08-15T03:19:57.686633Z</td><td>List(List(item_963, 32.33, 4))</td></tr><tr><td>event_52</td><td>1.755227997686656E9</td><td>user_7497</td><td>purchase</td><td>2025-08-15T03:19:57.686643Z</td><td>List(List(item_287, 11.27, 5), List(item_676, 30.75, 2), List(item_182, 93.58, 4))</td></tr><tr><td>event_53</td><td>1.755227997686667E9</td><td>user_5697</td><td>click</td><td>2025-08-15T03:19:57.686659Z</td><td>List(List(item_163, 86.18, 1))</td></tr><tr><td>event_54</td><td>1.755227997686679E9</td><td>user_1546</td><td>purchase</td><td>2025-08-15T03:19:57.686669Z</td><td>List(List(item_161, 73.68, 1))</td></tr><tr><td>event_55</td><td>1.75522799768669E9</td><td>user_3657</td><td>click</td><td>2025-08-15T03:19:57.686682Z</td><td>List(List(item_301, 10.3, 3))</td></tr><tr><td>event_56</td><td>1.755227997686705E9</td><td>user_5898</td><td>click</td><td>2025-08-15T03:19:57.686692Z</td><td>List(List(item_487, 16.55, 2), List(item_599, 21.73, 1), List(item_749, 40.09, 4))</td></tr><tr><td>event_57</td><td>1.755227997686721E9</td><td>user_5656</td><td>view</td><td>2025-08-15T03:19:57.686707Z</td><td>List(List(item_552, 99.55, 5), List(item_894, 64.35, 3))</td></tr><tr><td>event_58</td><td>1.755227997686731E9</td><td>user_4491</td><td>view</td><td>2025-08-15T03:19:57.686722Z</td><td>List(List(item_974, 71.05, 5))</td></tr><tr><td>event_59</td><td>1.755227997686743E9</td><td>user_5623</td><td>click</td><td>2025-08-15T03:19:57.686733Z</td><td>List(List(item_768, 48.56, 4), List(item_963, 26.72, 2))</td></tr><tr><td>event_60</td><td>1.755227997686756E9</td><td>user_7369</td><td>view</td><td>2025-08-15T03:19:57.686745Z</td><td>List(List(item_854, 35.85, 3), List(item_879, 49.0, 2))</td></tr><tr><td>event_61</td><td>1.755227997686768E9</td><td>user_7046</td><td>click</td><td>2025-08-15T03:19:57.686758Z</td><td>List(List(item_771, 14.31, 1), List(item_948, 17.05, 1))</td></tr><tr><td>event_62</td><td>1.75522799768678E9</td><td>user_8755</td><td>click</td><td>2025-08-15T03:19:57.68677Z</td><td>List(List(item_902, 65.63, 3), List(item_942, 53.67, 2))</td></tr><tr><td>event_63</td><td>1.755227997686795E9</td><td>user_4799</td><td>click</td><td>2025-08-15T03:19:57.686782Z</td><td>List(List(item_329, 35.61, 4), List(item_670, 53.27, 3), List(item_903, 21.39, 2))</td></tr><tr><td>event_64</td><td>1.755227997686805E9</td><td>user_9729</td><td>click</td><td>2025-08-15T03:19:57.686797Z</td><td>List(List(item_119, 73.13, 5))</td></tr><tr><td>event_65</td><td>1.755227997686817E9</td><td>user_8929</td><td>view</td><td>2025-08-15T03:19:57.686807Z</td><td>List(List(item_328, 98.94, 2), List(item_469, 34.66, 1))</td></tr><tr><td>event_66</td><td>1.755227997686829E9</td><td>user_2968</td><td>view</td><td>2025-08-15T03:19:57.686819Z</td><td>List(List(item_578, 86.46, 5), List(item_797, 49.82, 2))</td></tr><tr><td>event_67</td><td>1.755227997686839E9</td><td>user_3885</td><td>view</td><td>2025-08-15T03:19:57.686831Z</td><td>List(List(item_308, 84.67, 2))</td></tr><tr><td>event_68</td><td>1.755227997686854E9</td><td>user_8239</td><td>view</td><td>2025-08-15T03:19:57.686841Z</td><td>List(List(item_962, 20.22, 5), List(item_934, 68.54, 2), List(item_785, 31.5, 4))</td></tr><tr><td>event_69</td><td>1.755227997686864E9</td><td>user_3903</td><td>click</td><td>2025-08-15T03:19:57.686856Z</td><td>List(List(item_985, 36.59, 1))</td></tr><tr><td>event_70</td><td>1.755227997686874E9</td><td>user_9357</td><td>purchase</td><td>2025-08-15T03:19:57.686866Z</td><td>List(List(item_194, 39.27, 3))</td></tr><tr><td>event_71</td><td>1.755227997686889E9</td><td>user_6415</td><td>click</td><td>2025-08-15T03:19:57.686876Z</td><td>List(List(item_484, 75.07, 2), List(item_602, 46.28, 5), List(item_320, 78.11, 1))</td></tr><tr><td>event_72</td><td>1.755227997686899E9</td><td>user_7646</td><td>view</td><td>2025-08-15T03:19:57.686891Z</td><td>List(List(item_797, 38.18, 3))</td></tr><tr><td>event_73</td><td>1.755227997686909E9</td><td>user_5894</td><td>click</td><td>2025-08-15T03:19:57.686901Z</td><td>List(List(item_407, 39.44, 1))</td></tr><tr><td>event_74</td><td>1.755227997686921E9</td><td>user_5051</td><td>view</td><td>2025-08-15T03:19:57.686911Z</td><td>List(List(item_419, 30.88, 1), List(item_746, 63.19, 4))</td></tr><tr><td>event_75</td><td>1.755227997686931E9</td><td>user_5908</td><td>view</td><td>2025-08-15T03:19:57.686923Z</td><td>List(List(item_948, 91.13, 1))</td></tr><tr><td>event_76</td><td>1.755227997686946E9</td><td>user_1183</td><td>view</td><td>2025-08-15T03:19:57.686933Z</td><td>List(List(item_782, 98.62, 3), List(item_502, 54.5, 4), List(item_478, 28.25, 3))</td></tr><tr><td>event_77</td><td>1.755227997686967E9</td><td>user_6824</td><td>click</td><td>2025-08-15T03:19:57.686948Z</td><td>List(List(item_505, 79.27, 3), List(item_190, 47.74, 1))</td></tr><tr><td>event_78</td><td>1.755227997686991E9</td><td>user_8704</td><td>click</td><td>2025-08-15T03:19:57.686971Z</td><td>List(List(item_110, 64.8, 1), List(item_483, 23.64, 1), List(item_326, 90.86, 4))</td></tr><tr><td>event_79</td><td>1.755227997687007E9</td><td>user_2039</td><td>view</td><td>2025-08-15T03:19:57.686994Z</td><td>List(List(item_731, 61.26, 4), List(item_283, 17.21, 4), List(item_566, 98.96, 1))</td></tr><tr><td>event_80</td><td>1.755227997687017E9</td><td>user_7406</td><td>click</td><td>2025-08-15T03:19:57.687009Z</td><td>List(List(item_727, 73.94, 2))</td></tr><tr><td>event_81</td><td>1.755227997687026E9</td><td>user_3398</td><td>view</td><td>2025-08-15T03:19:57.687019Z</td><td>List(List(item_267, 70.7, 2))</td></tr><tr><td>event_82</td><td>1.755227997687042E9</td><td>user_6606</td><td>purchase</td><td>2025-08-15T03:19:57.687028Z</td><td>List(List(item_171, 32.07, 1), List(item_375, 28.9, 1), List(item_524, 86.15, 5))</td></tr><tr><td>event_83</td><td>1.755227997687054E9</td><td>user_3868</td><td>purchase</td><td>2025-08-15T03:19:57.687044Z</td><td>List(List(item_627, 78.63, 3), List(item_659, 13.53, 4))</td></tr><tr><td>event_84</td><td>1.75522799768707E9</td><td>user_1162</td><td>view</td><td>2025-08-15T03:19:57.687056Z</td><td>List(List(item_928, 40.89, 5), List(item_271, 27.28, 5), List(item_487, 86.38, 2))</td></tr><tr><td>event_85</td><td>1.755227997687082E9</td><td>user_4588</td><td>purchase</td><td>2025-08-15T03:19:57.687071Z</td><td>List(List(item_183, 90.35, 1), List(item_598, 26.83, 3))</td></tr><tr><td>event_86</td><td>1.755227997687091E9</td><td>user_9292</td><td>view</td><td>2025-08-15T03:19:57.687084Z</td><td>List(List(item_713, 18.61, 4))</td></tr><tr><td>event_87</td><td>1.755227997687107E9</td><td>user_9409</td><td>view</td><td>2025-08-15T03:19:57.687093Z</td><td>List(List(item_305, 88.25, 5), List(item_547, 86.75, 2), List(item_303, 15.0, 1))</td></tr><tr><td>event_88</td><td>1.75522799768712E9</td><td>user_6372</td><td>click</td><td>2025-08-15T03:19:57.687109Z</td><td>List(List(item_194, 71.43, 2))</td></tr><tr><td>event_89</td><td>1.755227997687136E9</td><td>user_2131</td><td>purchase</td><td>2025-08-15T03:19:57.687122Z</td><td>List(List(item_262, 75.2, 5), List(item_334, 14.27, 1))</td></tr><tr><td>event_90</td><td>1.755227997687149E9</td><td>user_6310</td><td>purchase</td><td>2025-08-15T03:19:57.687138Z</td><td>List(List(item_626, 66.46, 1), List(item_241, 83.55, 5))</td></tr><tr><td>event_91</td><td>1.755227997687166E9</td><td>user_6121</td><td>click</td><td>2025-08-15T03:19:57.687152Z</td><td>List(List(item_369, 19.64, 5))</td></tr><tr><td>event_92</td><td>1.755227997687184E9</td><td>user_4765</td><td>click</td><td>2025-08-15T03:19:57.68717Z</td><td>List(List(item_670, 35.58, 2), List(item_771, 48.68, 5), List(item_239, 19.87, 4))</td></tr><tr><td>event_93</td><td>1.755227997687209E9</td><td>user_1200</td><td>click</td><td>2025-08-15T03:19:57.687187Z</td><td>List(List(item_919, 99.95, 2), List(item_150, 51.49, 4), List(item_357, 74.19, 3))</td></tr><tr><td>event_94</td><td>1.755227997687225E9</td><td>user_4623</td><td>view</td><td>2025-08-15T03:19:57.687211Z</td><td>List(List(item_338, 92.48, 4), List(item_470, 30.03, 5), List(item_532, 32.93, 5))</td></tr><tr><td>event_95</td><td>1.755227997687235E9</td><td>user_7742</td><td>click</td><td>2025-08-15T03:19:57.687227Z</td><td>List(List(item_499, 49.65, 1))</td></tr><tr><td>event_96</td><td>1.755227997687268E9</td><td>user_3506</td><td>view</td><td>2025-08-15T03:19:57.687237Z</td><td>List(List(item_942, 23.07, 1), List(item_593, 52.46, 3), List(item_823, 61.8, 5))</td></tr><tr><td>event_97</td><td>1.755227997687279E9</td><td>user_5102</td><td>click</td><td>2025-08-15T03:19:57.687271Z</td><td>List(List(item_206, 92.02, 1))</td></tr><tr><td>event_98</td><td>1.755227997687288E9</td><td>user_2751</td><td>view</td><td>2025-08-15T03:19:57.68728Z</td><td>List(List(item_771, 26.6, 5))</td></tr><tr><td>event_99</td><td>1.755227997687304E9</td><td>user_5420</td><td>view</td><td>2025-08-15T03:19:57.68729Z</td><td>List(List(item_762, 91.88, 3), List(item_766, 86.85, 5), List(item_211, 10.97, 4))</td></tr></tbody></table></div>"
      ]
     },
     "metadata": {
      "application/vnd.databricks.v1+output": {
       "addedWidgets": {},
       "aggData": [],
       "aggError": "",
       "aggOverflow": false,
       "aggSchema": [],
       "aggSeriesLimitReached": false,
       "aggType": "",
       "arguments": {},
       "columnCustomDisplayInfos": {},
       "data": [
        [
         "event_0",
         1.755227997685932E9,
         "user_9442",
         "view",
         "2025-08-15T03:19:57.685885Z",
         [
          [
           "item_175",
           26.34,
           3
          ],
          [
           "item_308",
           38.42,
           2
          ]
         ]
        ],
        [
         "event_1",
         1.755227997685954E9,
         "user_6202",
         "purchase",
         "2025-08-15T03:19:57.685938Z",
         [
          [
           "item_905",
           13.04,
           1
          ]
         ]
        ],
        [
         "event_2",
         1.75522799768597E9,
         "user_1854",
         "click",
         "2025-08-15T03:19:57.685957Z",
         [
          [
           "item_566",
           51.63,
           1
          ],
          [
           "item_310",
           16.99,
           2
          ]
         ]
        ],
        [
         "event_3",
         1.755227997685985E9,
         "user_9430",
         "click",
         "2025-08-15T03:19:57.685973Z",
         [
          [
           "item_566",
           37.03,
           3
          ],
          [
           "item_436",
           85.36,
           5
          ]
         ]
        ],
        [
         "event_4",
         1.755227997685996E9,
         "user_7786",
         "purchase",
         "2025-08-15T03:19:57.685987Z",
         [
          [
           "item_366",
           46.09,
           1
          ]
         ]
        ],
        [
         "event_5",
         1.755227997686006E9,
         "user_4175",
         "click",
         "2025-08-15T03:19:57.685998Z",
         [
          [
           "item_460",
           25.93,
           4
          ]
         ]
        ],
        [
         "event_6",
         1.755227997686019E9,
         "user_2159",
         "click",
         "2025-08-15T03:19:57.686008Z",
         [
          [
           "item_366",
           57.43,
           4
          ],
          [
           "item_132",
           64.54,
           5
          ]
         ]
        ],
        [
         "event_7",
         1.755227997686036E9,
         "user_7386",
         "click",
         "2025-08-15T03:19:57.686021Z",
         [
          [
           "item_894",
           48.07,
           2
          ],
          [
           "item_726",
           38.27,
           4
          ],
          [
           "item_779",
           83.15,
           1
          ]
         ]
        ],
        [
         "event_8",
         1.755227997686053E9,
         "user_8857",
         "click",
         "2025-08-15T03:19:57.686039Z",
         [
          [
           "item_683",
           23.01,
           5
          ],
          [
           "item_527",
           23.25,
           1
          ],
          [
           "item_760",
           44.65,
           4
          ]
         ]
        ],
        [
         "event_9",
         1.755227997686064E9,
         "user_9819",
         "view",
         "2025-08-15T03:19:57.686055Z",
         [
          [
           "item_157",
           67.91,
           2
          ]
         ]
        ],
        [
         "event_10",
         1.755227997686074E9,
         "user_8581",
         "view",
         "2025-08-15T03:19:57.686066Z",
         [
          [
           "item_676",
           84.02,
           1
          ]
         ]
        ],
        [
         "event_11",
         1.755227997686098E9,
         "user_2870",
         "view",
         "2025-08-15T03:19:57.686076Z",
         [
          [
           "item_114",
           93.67,
           4
          ],
          [
           "item_942",
           90.96,
           2
          ],
          [
           "item_729",
           90.6,
           3
          ]
         ]
        ],
        [
         "event_12",
         1.75522799768612E9,
         "user_8649",
         "view",
         "2025-08-15T03:19:57.686101Z",
         [
          [
           "item_884",
           35.3,
           1
          ],
          [
           "item_199",
           90.97,
           5
          ]
         ]
        ],
        [
         "event_13",
         1.755227997686145E9,
         "user_4362",
         "view",
         "2025-08-15T03:19:57.686123Z",
         [
          [
           "item_971",
           81.53,
           5
          ],
          [
           "item_317",
           17.12,
           3
          ],
          [
           "item_914",
           14.9,
           2
          ]
         ]
        ],
        [
         "event_14",
         1.755227997686159E9,
         "user_8388",
         "view",
         "2025-08-15T03:19:57.686147Z",
         [
          [
           "item_854",
           38.97,
           5
          ],
          [
           "item_283",
           21.11,
           5
          ]
         ]
        ],
        [
         "event_15",
         1.755227997686174E9,
         "user_8887",
         "click",
         "2025-08-15T03:19:57.686161Z",
         [
          [
           "item_869",
           81.54,
           4
          ],
          [
           "item_123",
           31.61,
           3
          ],
          [
           "item_383",
           43.9,
           4
          ]
         ]
        ],
        [
         "event_16",
         1.755227997686184E9,
         "user_2863",
         "click",
         "2025-08-15T03:19:57.686176Z",
         [
          [
           "item_146",
           89.8,
           4
          ]
         ]
        ],
        [
         "event_17",
         1.755227997686194E9,
         "user_3579",
         "click",
         "2025-08-15T03:19:57.686186Z",
         [
          [
           "item_189",
           25.93,
           1
          ]
         ]
        ],
        [
         "event_18",
         1.755227997686204E9,
         "user_2725",
         "view",
         "2025-08-15T03:19:57.686196Z",
         [
          [
           "item_421",
           99.8,
           3
          ]
         ]
        ],
        [
         "event_19",
         1.755227997686214E9,
         "user_4101",
         "click",
         "2025-08-15T03:19:57.686206Z",
         [
          [
           "item_734",
           39.37,
           5
          ]
         ]
        ],
        [
         "event_20",
         1.755227997686229E9,
         "user_3286",
         "view",
         "2025-08-15T03:19:57.686216Z",
         [
          [
           "item_942",
           54.61,
           2
          ],
          [
           "item_158",
           93.18,
           1
          ],
          [
           "item_497",
           90.06,
           1
          ]
         ]
        ],
        [
         "event_21",
         1.755227997686239E9,
         "user_9239",
         "click",
         "2025-08-15T03:19:57.686231Z",
         [
          [
           "item_742",
           37.79,
           2
          ]
         ]
        ],
        [
         "event_22",
         1.755227997686252E9,
         "user_9636",
         "purchase",
         "2025-08-15T03:19:57.686241Z",
         [
          [
           "item_690",
           21.18,
           1
          ],
          [
           "item_555",
           87.79,
           5
          ]
         ]
        ],
        [
         "event_23",
         1.755227997686262E9,
         "user_4090",
         "purchase",
         "2025-08-15T03:19:57.686254Z",
         [
          [
           "item_945",
           16.32,
           1
          ]
         ]
        ],
        [
         "event_24",
         1.755227997686284E9,
         "user_9174",
         "purchase",
         "2025-08-15T03:19:57.686264Z",
         [
          [
           "item_731",
           25.23,
           3
          ]
         ]
        ],
        [
         "event_25",
         1.755227997686301E9,
         "user_5399",
         "click",
         "2025-08-15T03:19:57.686287Z",
         [
          [
           "item_843",
           98.78,
           5
          ],
          [
           "item_250",
           85.22,
           1
          ],
          [
           "item_683",
           45.15,
           4
          ]
         ]
        ],
        [
         "event_26",
         1.755227997686317E9,
         "user_5674",
         "purchase",
         "2025-08-15T03:19:57.686304Z",
         [
          [
           "item_222",
           40.26,
           3
          ],
          [
           "item_733",
           79.36,
           3
          ]
         ]
        ],
        [
         "event_27",
         1.75522799768633E9,
         "user_2960",
         "click",
         "2025-08-15T03:19:57.686319Z",
         [
          [
           "item_561",
           13.83,
           4
          ],
          [
           "item_599",
           49.98,
           4
          ]
         ]
        ],
        [
         "event_28",
         1.75522799768634E9,
         "user_7201",
         "click",
         "2025-08-15T03:19:57.686332Z",
         [
          [
           "item_697",
           32.45,
           3
          ]
         ]
        ],
        [
         "event_29",
         1.755227997686352E9,
         "user_6815",
         "purchase",
         "2025-08-15T03:19:57.686342Z",
         [
          [
           "item_302",
           53.68,
           2
          ],
          [
           "item_152",
           17.73,
           4
          ]
         ]
        ],
        [
         "event_30",
         1.755227997686362E9,
         "user_1974",
         "click",
         "2025-08-15T03:19:57.686354Z",
         [
          [
           "item_655",
           58.91,
           1
          ]
         ]
        ],
        [
         "event_31",
         1.755227997686375E9,
         "user_3499",
         "purchase",
         "2025-08-15T03:19:57.686364Z",
         [
          [
           "item_166",
           68.85,
           4
          ],
          [
           "item_172",
           15.29,
           2
          ]
         ]
        ],
        [
         "event_32",
         1.755227997686385E9,
         "user_5361",
         "purchase",
         "2025-08-15T03:19:57.686377Z",
         [
          [
           "item_827",
           65.98,
           1
          ]
         ]
        ],
        [
         "event_33",
         1.755227997686397E9,
         "user_3776",
         "purchase",
         "2025-08-15T03:19:57.686386Z",
         [
          [
           "item_976",
           70.98,
           1
          ],
          [
           "item_414",
           73.81,
           2
          ]
         ]
        ],
        [
         "event_34",
         1.755227997686409E9,
         "user_6471",
         "view",
         "2025-08-15T03:19:57.686399Z",
         [
          [
           "item_782",
           80.74,
           3
          ],
          [
           "item_454",
           64.0,
           4
          ]
         ]
        ],
        [
         "event_35",
         1.755227997686419E9,
         "user_5991",
         "click",
         "2025-08-15T03:19:57.686411Z",
         [
          [
           "item_111",
           53.97,
           5
          ]
         ]
        ],
        [
         "event_36",
         1.755227997686431E9,
         "user_1100",
         "purchase",
         "2025-08-15T03:19:57.686421Z",
         [
          [
           "item_802",
           84.51,
           1
          ],
          [
           "item_440",
           65.09,
           4
          ]
         ]
        ],
        [
         "event_37",
         1.755227997686446E9,
         "user_1784",
         "click",
         "2025-08-15T03:19:57.686433Z",
         [
          [
           "item_712",
           12.47,
           1
          ],
          [
           "item_151",
           72.82,
           3
          ],
          [
           "item_828",
           40.84,
           5
          ]
         ]
        ],
        [
         "event_38",
         1.755227997686456E9,
         "user_4129",
         "click",
         "2025-08-15T03:19:57.686448Z",
         [
          [
           "item_452",
           66.5,
           1
          ]
         ]
        ],
        [
         "event_39",
         1.755227997686472E9,
         "user_9929",
         "click",
         "2025-08-15T03:19:57.686458Z",
         [
          [
           "item_361",
           52.39,
           4
          ],
          [
           "item_753",
           34.36,
           3
          ],
          [
           "item_960",
           43.61,
           1
          ]
         ]
        ],
        [
         "event_40",
         1.755227997686484E9,
         "user_8081",
         "click",
         "2025-08-15T03:19:57.686474Z",
         [
          [
           "item_781",
           53.1,
           1
          ],
          [
           "item_924",
           44.7,
           4
          ]
         ]
        ],
        [
         "event_41",
         1.7552279976865E9,
         "user_2969",
         "purchase",
         "2025-08-15T03:19:57.686486Z",
         [
          [
           "item_411",
           74.71,
           4
          ],
          [
           "item_680",
           83.59,
           4
          ],
          [
           "item_855",
           96.59,
           1
          ]
         ]
        ],
        [
         "event_42",
         1.755227997686512E9,
         "user_7266",
         "view",
         "2025-08-15T03:19:57.686502Z",
         [
          [
           "item_969",
           45.34,
           3
          ],
          [
           "item_552",
           10.21,
           2
          ]
         ]
        ],
        [
         "event_43",
         1.755227997686522E9,
         "user_8649",
         "purchase",
         "2025-08-15T03:19:57.686514Z",
         [
          [
           "item_486",
           30.23,
           4
          ]
         ]
        ],
        [
         "event_44",
         1.755227997686538E9,
         "user_5234",
         "view",
         "2025-08-15T03:19:57.686524Z",
         [
          [
           "item_600",
           22.83,
           1
          ],
          [
           "item_963",
           11.23,
           2
          ],
          [
           "item_876",
           61.68,
           1
          ]
         ]
        ],
        [
         "event_45",
         1.755227997686551E9,
         "user_7555",
         "purchase",
         "2025-08-15T03:19:57.68654Z",
         [
          [
           "item_811",
           89.26,
           1
          ],
          [
           "item_502",
           71.06,
           3
          ]
         ]
        ],
        [
         "event_46",
         1.75522799768658E9,
         "user_4400",
         "click",
         "2025-08-15T03:19:57.686552Z",
         [
          [
           "item_255",
           96.51,
           2
          ],
          [
           "item_902",
           60.75,
           1
          ]
         ]
        ],
        [
         "event_47",
         1.755227997686597E9,
         "user_3116",
         "click",
         "2025-08-15T03:19:57.686582Z",
         [
          [
           "item_989",
           22.58,
           4
          ],
          [
           "item_336",
           49.08,
           3
          ],
          [
           "item_553",
           74.41,
           2
          ]
         ]
        ],
        [
         "event_48",
         1.755227997686608E9,
         "user_3639",
         "click",
         "2025-08-15T03:19:57.686599Z",
         [
          [
           "item_538",
           63.62,
           3
          ]
         ]
        ],
        [
         "event_49",
         1.755227997686618E9,
         "user_9501",
         "purchase",
         "2025-08-15T03:19:57.68661Z",
         [
          [
           "item_889",
           42.32,
           4
          ]
         ]
        ],
        [
         "event_50",
         1.75522799768663E9,
         "user_6022",
         "click",
         "2025-08-15T03:19:57.68662Z",
         [
          [
           "item_969",
           25.24,
           1
          ],
          [
           "item_895",
           90.68,
           4
          ]
         ]
        ],
        [
         "event_51",
         1.755227997686641E9,
         "user_9055",
         "purchase",
         "2025-08-15T03:19:57.686633Z",
         [
          [
           "item_963",
           32.33,
           4
          ]
         ]
        ],
        [
         "event_52",
         1.755227997686656E9,
         "user_7497",
         "purchase",
         "2025-08-15T03:19:57.686643Z",
         [
          [
           "item_287",
           11.27,
           5
          ],
          [
           "item_676",
           30.75,
           2
          ],
          [
           "item_182",
           93.58,
           4
          ]
         ]
        ],
        [
         "event_53",
         1.755227997686667E9,
         "user_5697",
         "click",
         "2025-08-15T03:19:57.686659Z",
         [
          [
           "item_163",
           86.18,
           1
          ]
         ]
        ],
        [
         "event_54",
         1.755227997686679E9,
         "user_1546",
         "purchase",
         "2025-08-15T03:19:57.686669Z",
         [
          [
           "item_161",
           73.68,
           1
          ]
         ]
        ],
        [
         "event_55",
         1.75522799768669E9,
         "user_3657",
         "click",
         "2025-08-15T03:19:57.686682Z",
         [
          [
           "item_301",
           10.3,
           3
          ]
         ]
        ],
        [
         "event_56",
         1.755227997686705E9,
         "user_5898",
         "click",
         "2025-08-15T03:19:57.686692Z",
         [
          [
           "item_487",
           16.55,
           2
          ],
          [
           "item_599",
           21.73,
           1
          ],
          [
           "item_749",
           40.09,
           4
          ]
         ]
        ],
        [
         "event_57",
         1.755227997686721E9,
         "user_5656",
         "view",
         "2025-08-15T03:19:57.686707Z",
         [
          [
           "item_552",
           99.55,
           5
          ],
          [
           "item_894",
           64.35,
           3
          ]
         ]
        ],
        [
         "event_58",
         1.755227997686731E9,
         "user_4491",
         "view",
         "2025-08-15T03:19:57.686722Z",
         [
          [
           "item_974",
           71.05,
           5
          ]
         ]
        ],
        [
         "event_59",
         1.755227997686743E9,
         "user_5623",
         "click",
         "2025-08-15T03:19:57.686733Z",
         [
          [
           "item_768",
           48.56,
           4
          ],
          [
           "item_963",
           26.72,
           2
          ]
         ]
        ],
        [
         "event_60",
         1.755227997686756E9,
         "user_7369",
         "view",
         "2025-08-15T03:19:57.686745Z",
         [
          [
           "item_854",
           35.85,
           3
          ],
          [
           "item_879",
           49.0,
           2
          ]
         ]
        ],
        [
         "event_61",
         1.755227997686768E9,
         "user_7046",
         "click",
         "2025-08-15T03:19:57.686758Z",
         [
          [
           "item_771",
           14.31,
           1
          ],
          [
           "item_948",
           17.05,
           1
          ]
         ]
        ],
        [
         "event_62",
         1.75522799768678E9,
         "user_8755",
         "click",
         "2025-08-15T03:19:57.68677Z",
         [
          [
           "item_902",
           65.63,
           3
          ],
          [
           "item_942",
           53.67,
           2
          ]
         ]
        ],
        [
         "event_63",
         1.755227997686795E9,
         "user_4799",
         "click",
         "2025-08-15T03:19:57.686782Z",
         [
          [
           "item_329",
           35.61,
           4
          ],
          [
           "item_670",
           53.27,
           3
          ],
          [
           "item_903",
           21.39,
           2
          ]
         ]
        ],
        [
         "event_64",
         1.755227997686805E9,
         "user_9729",
         "click",
         "2025-08-15T03:19:57.686797Z",
         [
          [
           "item_119",
           73.13,
           5
          ]
         ]
        ],
        [
         "event_65",
         1.755227997686817E9,
         "user_8929",
         "view",
         "2025-08-15T03:19:57.686807Z",
         [
          [
           "item_328",
           98.94,
           2
          ],
          [
           "item_469",
           34.66,
           1
          ]
         ]
        ],
        [
         "event_66",
         1.755227997686829E9,
         "user_2968",
         "view",
         "2025-08-15T03:19:57.686819Z",
         [
          [
           "item_578",
           86.46,
           5
          ],
          [
           "item_797",
           49.82,
           2
          ]
         ]
        ],
        [
         "event_67",
         1.755227997686839E9,
         "user_3885",
         "view",
         "2025-08-15T03:19:57.686831Z",
         [
          [
           "item_308",
           84.67,
           2
          ]
         ]
        ],
        [
         "event_68",
         1.755227997686854E9,
         "user_8239",
         "view",
         "2025-08-15T03:19:57.686841Z",
         [
          [
           "item_962",
           20.22,
           5
          ],
          [
           "item_934",
           68.54,
           2
          ],
          [
           "item_785",
           31.5,
           4
          ]
         ]
        ],
        [
         "event_69",
         1.755227997686864E9,
         "user_3903",
         "click",
         "2025-08-15T03:19:57.686856Z",
         [
          [
           "item_985",
           36.59,
           1
          ]
         ]
        ],
        [
         "event_70",
         1.755227997686874E9,
         "user_9357",
         "purchase",
         "2025-08-15T03:19:57.686866Z",
         [
          [
           "item_194",
           39.27,
           3
          ]
         ]
        ],
        [
         "event_71",
         1.755227997686889E9,
         "user_6415",
         "click",
         "2025-08-15T03:19:57.686876Z",
         [
          [
           "item_484",
           75.07,
           2
          ],
          [
           "item_602",
           46.28,
           5
          ],
          [
           "item_320",
           78.11,
           1
          ]
         ]
        ],
        [
         "event_72",
         1.755227997686899E9,
         "user_7646",
         "view",
         "2025-08-15T03:19:57.686891Z",
         [
          [
           "item_797",
           38.18,
           3
          ]
         ]
        ],
        [
         "event_73",
         1.755227997686909E9,
         "user_5894",
         "click",
         "2025-08-15T03:19:57.686901Z",
         [
          [
           "item_407",
           39.44,
           1
          ]
         ]
        ],
        [
         "event_74",
         1.755227997686921E9,
         "user_5051",
         "view",
         "2025-08-15T03:19:57.686911Z",
         [
          [
           "item_419",
           30.88,
           1
          ],
          [
           "item_746",
           63.19,
           4
          ]
         ]
        ],
        [
         "event_75",
         1.755227997686931E9,
         "user_5908",
         "view",
         "2025-08-15T03:19:57.686923Z",
         [
          [
           "item_948",
           91.13,
           1
          ]
         ]
        ],
        [
         "event_76",
         1.755227997686946E9,
         "user_1183",
         "view",
         "2025-08-15T03:19:57.686933Z",
         [
          [
           "item_782",
           98.62,
           3
          ],
          [
           "item_502",
           54.5,
           4
          ],
          [
           "item_478",
           28.25,
           3
          ]
         ]
        ],
        [
         "event_77",
         1.755227997686967E9,
         "user_6824",
         "click",
         "2025-08-15T03:19:57.686948Z",
         [
          [
           "item_505",
           79.27,
           3
          ],
          [
           "item_190",
           47.74,
           1
          ]
         ]
        ],
        [
         "event_78",
         1.755227997686991E9,
         "user_8704",
         "click",
         "2025-08-15T03:19:57.686971Z",
         [
          [
           "item_110",
           64.8,
           1
          ],
          [
           "item_483",
           23.64,
           1
          ],
          [
           "item_326",
           90.86,
           4
          ]
         ]
        ],
        [
         "event_79",
         1.755227997687007E9,
         "user_2039",
         "view",
         "2025-08-15T03:19:57.686994Z",
         [
          [
           "item_731",
           61.26,
           4
          ],
          [
           "item_283",
           17.21,
           4
          ],
          [
           "item_566",
           98.96,
           1
          ]
         ]
        ],
        [
         "event_80",
         1.755227997687017E9,
         "user_7406",
         "click",
         "2025-08-15T03:19:57.687009Z",
         [
          [
           "item_727",
           73.94,
           2
          ]
         ]
        ],
        [
         "event_81",
         1.755227997687026E9,
         "user_3398",
         "view",
         "2025-08-15T03:19:57.687019Z",
         [
          [
           "item_267",
           70.7,
           2
          ]
         ]
        ],
        [
         "event_82",
         1.755227997687042E9,
         "user_6606",
         "purchase",
         "2025-08-15T03:19:57.687028Z",
         [
          [
           "item_171",
           32.07,
           1
          ],
          [
           "item_375",
           28.9,
           1
          ],
          [
           "item_524",
           86.15,
           5
          ]
         ]
        ],
        [
         "event_83",
         1.755227997687054E9,
         "user_3868",
         "purchase",
         "2025-08-15T03:19:57.687044Z",
         [
          [
           "item_627",
           78.63,
           3
          ],
          [
           "item_659",
           13.53,
           4
          ]
         ]
        ],
        [
         "event_84",
         1.75522799768707E9,
         "user_1162",
         "view",
         "2025-08-15T03:19:57.687056Z",
         [
          [
           "item_928",
           40.89,
           5
          ],
          [
           "item_271",
           27.28,
           5
          ],
          [
           "item_487",
           86.38,
           2
          ]
         ]
        ],
        [
         "event_85",
         1.755227997687082E9,
         "user_4588",
         "purchase",
         "2025-08-15T03:19:57.687071Z",
         [
          [
           "item_183",
           90.35,
           1
          ],
          [
           "item_598",
           26.83,
           3
          ]
         ]
        ],
        [
         "event_86",
         1.755227997687091E9,
         "user_9292",
         "view",
         "2025-08-15T03:19:57.687084Z",
         [
          [
           "item_713",
           18.61,
           4
          ]
         ]
        ],
        [
         "event_87",
         1.755227997687107E9,
         "user_9409",
         "view",
         "2025-08-15T03:19:57.687093Z",
         [
          [
           "item_305",
           88.25,
           5
          ],
          [
           "item_547",
           86.75,
           2
          ],
          [
           "item_303",
           15.0,
           1
          ]
         ]
        ],
        [
         "event_88",
         1.75522799768712E9,
         "user_6372",
         "click",
         "2025-08-15T03:19:57.687109Z",
         [
          [
           "item_194",
           71.43,
           2
          ]
         ]
        ],
        [
         "event_89",
         1.755227997687136E9,
         "user_2131",
         "purchase",
         "2025-08-15T03:19:57.687122Z",
         [
          [
           "item_262",
           75.2,
           5
          ],
          [
           "item_334",
           14.27,
           1
          ]
         ]
        ],
        [
         "event_90",
         1.755227997687149E9,
         "user_6310",
         "purchase",
         "2025-08-15T03:19:57.687138Z",
         [
          [
           "item_626",
           66.46,
           1
          ],
          [
           "item_241",
           83.55,
           5
          ]
         ]
        ],
        [
         "event_91",
         1.755227997687166E9,
         "user_6121",
         "click",
         "2025-08-15T03:19:57.687152Z",
         [
          [
           "item_369",
           19.64,
           5
          ]
         ]
        ],
        [
         "event_92",
         1.755227997687184E9,
         "user_4765",
         "click",
         "2025-08-15T03:19:57.68717Z",
         [
          [
           "item_670",
           35.58,
           2
          ],
          [
           "item_771",
           48.68,
           5
          ],
          [
           "item_239",
           19.87,
           4
          ]
         ]
        ],
        [
         "event_93",
         1.755227997687209E9,
         "user_1200",
         "click",
         "2025-08-15T03:19:57.687187Z",
         [
          [
           "item_919",
           99.95,
           2
          ],
          [
           "item_150",
           51.49,
           4
          ],
          [
           "item_357",
           74.19,
           3
          ]
         ]
        ],
        [
         "event_94",
         1.755227997687225E9,
         "user_4623",
         "view",
         "2025-08-15T03:19:57.687211Z",
         [
          [
           "item_338",
           92.48,
           4
          ],
          [
           "item_470",
           30.03,
           5
          ],
          [
           "item_532",
           32.93,
           5
          ]
         ]
        ],
        [
         "event_95",
         1.755227997687235E9,
         "user_7742",
         "click",
         "2025-08-15T03:19:57.687227Z",
         [
          [
           "item_499",
           49.65,
           1
          ]
         ]
        ],
        [
         "event_96",
         1.755227997687268E9,
         "user_3506",
         "view",
         "2025-08-15T03:19:57.687237Z",
         [
          [
           "item_942",
           23.07,
           1
          ],
          [
           "item_593",
           52.46,
           3
          ],
          [
           "item_823",
           61.8,
           5
          ]
         ]
        ],
        [
         "event_97",
         1.755227997687279E9,
         "user_5102",
         "click",
         "2025-08-15T03:19:57.687271Z",
         [
          [
           "item_206",
           92.02,
           1
          ]
         ]
        ],
        [
         "event_98",
         1.755227997687288E9,
         "user_2751",
         "view",
         "2025-08-15T03:19:57.68728Z",
         [
          [
           "item_771",
           26.6,
           5
          ]
         ]
        ],
        [
         "event_99",
         1.755227997687304E9,
         "user_5420",
         "view",
         "2025-08-15T03:19:57.68729Z",
         [
          [
           "item_762",
           91.88,
           3
          ],
          [
           "item_766",
           86.85,
           5
          ],
          [
           "item_211",
           10.97,
           4
          ]
         ]
        ]
       ],
       "datasetInfos": [],
       "dbfsResultPath": null,
       "isJsonSchema": true,
       "metadata": {},
       "overflow": false,
       "plotOptions": {
        "customPlotOptions": {},
        "displayType": "table",
        "pivotAggregation": null,
        "pivotColumns": null,
        "xColumns": null,
        "yColumns": null
       },
       "removedWidgets": [],
       "schema": [
        {
         "metadata": "{}",
         "name": "key",
         "type": "\"string\""
        },
        {
         "metadata": "{}",
         "name": "timestamp",
         "type": "\"double\""
        },
        {
         "metadata": "{}",
         "name": "user_id",
         "type": "\"string\""
        },
        {
         "metadata": "{}",
         "name": "event_type",
         "type": "\"string\""
        },
        {
         "metadata": "{}",
         "name": "event_timestamp",
         "type": "\"timestamp\""
        },
        {
         "metadata": "{}",
         "name": "items",
         "type": "{\"type\":\"array\",\"elementType\":{\"type\":\"struct\",\"fields\":[{\"name\":\"item_id\",\"type\":\"string\",\"nullable\":true,\"metadata\":{}},{\"name\":\"price_usd\",\"type\":\"double\",\"nullable\":true,\"metadata\":{}},{\"name\":\"quantity\",\"type\":\"long\",\"nullable\":true,\"metadata\":{}}]},\"containsNull\":true}"
        }
       ],
       "type": "table"
      }
     },
     "output_type": "display_data"
    }
   ],
   "source": [
    "SELECT *\n",
    "FROM lab7_lab_kafka_events_flattened_solution"
   ]
  },
  {
   "cell_type": "markdown",
   "metadata": {
    "application/vnd.databricks.v1+cell": {
     "cellMetadata": {
      "byteLimit": 2048000,
      "rowLimit": 10000
     },
     "inputWidgets": {},
     "nuid": "ec5c6cbc-e216-448d-a032-58c9efd87ac8",
     "showTitle": false,
     "tableResultSettingsMap": {},
     "title": ""
    }
   },
   "source": [
    "3. Write the query in the cell below to read the **lab_kafka_events_raw** table and create the flattened table **lab7_lab_kafka_events_flattened** following the requirements from above."
   ]
  },
  {
   "cell_type": "code",
   "execution_count": 0,
   "metadata": {
    "application/vnd.databricks.v1+cell": {
     "cellMetadata": {
      "byteLimit": 2048000,
      "rowLimit": 10000
     },
     "inputWidgets": {},
     "nuid": "36ea0753-1e0f-4c28-b92a-caaf85901384",
     "showTitle": false,
     "tableResultSettingsMap": {},
     "title": ""
    }
   },
   "outputs": [
    {
     "output_type": "display_data",
     "data": {
      "text/html": [
       "<style scoped>\n",
       "  .table-result-container {\n",
       "    max-height: 300px;\n",
       "    overflow: auto;\n",
       "  }\n",
       "  table, th, td {\n",
       "    border: 1px solid black;\n",
       "    border-collapse: collapse;\n",
       "  }\n",
       "  th, td {\n",
       "    padding: 5px;\n",
       "  }\n",
       "  th {\n",
       "    text-align: left;\n",
       "  }\n",
       "</style><div class='table-result-container'><table class='table-result'><thead style='background-color: white'><tr><th>key</th><th>timestamp</th><th>user_id</th><th>event_type</th><th>event_timestamp</th><th>items</th></tr></thead><tbody><tr><td>event_0</td><td>1.755227997685932E9</td><td>user_9442</td><td>view</td><td>2025-08-15T03:19:57.685885Z</td><td>List(List(item_175, 26.34, 3), List(item_308, 38.42, 2))</td></tr><tr><td>event_1</td><td>1.755227997685954E9</td><td>user_6202</td><td>purchase</td><td>2025-08-15T03:19:57.685938Z</td><td>List(List(item_905, 13.04, 1))</td></tr><tr><td>event_2</td><td>1.75522799768597E9</td><td>user_1854</td><td>click</td><td>2025-08-15T03:19:57.685957Z</td><td>List(List(item_566, 51.63, 1), List(item_310, 16.99, 2))</td></tr><tr><td>event_3</td><td>1.755227997685985E9</td><td>user_9430</td><td>click</td><td>2025-08-15T03:19:57.685973Z</td><td>List(List(item_566, 37.03, 3), List(item_436, 85.36, 5))</td></tr><tr><td>event_4</td><td>1.755227997685996E9</td><td>user_7786</td><td>purchase</td><td>2025-08-15T03:19:57.685987Z</td><td>List(List(item_366, 46.09, 1))</td></tr><tr><td>event_5</td><td>1.755227997686006E9</td><td>user_4175</td><td>click</td><td>2025-08-15T03:19:57.685998Z</td><td>List(List(item_460, 25.93, 4))</td></tr><tr><td>event_6</td><td>1.755227997686019E9</td><td>user_2159</td><td>click</td><td>2025-08-15T03:19:57.686008Z</td><td>List(List(item_366, 57.43, 4), List(item_132, 64.54, 5))</td></tr><tr><td>event_7</td><td>1.755227997686036E9</td><td>user_7386</td><td>click</td><td>2025-08-15T03:19:57.686021Z</td><td>List(List(item_894, 48.07, 2), List(item_726, 38.27, 4), List(item_779, 83.15, 1))</td></tr><tr><td>event_8</td><td>1.755227997686053E9</td><td>user_8857</td><td>click</td><td>2025-08-15T03:19:57.686039Z</td><td>List(List(item_683, 23.01, 5), List(item_527, 23.25, 1), List(item_760, 44.65, 4))</td></tr><tr><td>event_9</td><td>1.755227997686064E9</td><td>user_9819</td><td>view</td><td>2025-08-15T03:19:57.686055Z</td><td>List(List(item_157, 67.91, 2))</td></tr><tr><td>event_10</td><td>1.755227997686074E9</td><td>user_8581</td><td>view</td><td>2025-08-15T03:19:57.686066Z</td><td>List(List(item_676, 84.02, 1))</td></tr><tr><td>event_11</td><td>1.755227997686098E9</td><td>user_2870</td><td>view</td><td>2025-08-15T03:19:57.686076Z</td><td>List(List(item_114, 93.67, 4), List(item_942, 90.96, 2), List(item_729, 90.6, 3))</td></tr><tr><td>event_12</td><td>1.75522799768612E9</td><td>user_8649</td><td>view</td><td>2025-08-15T03:19:57.686101Z</td><td>List(List(item_884, 35.3, 1), List(item_199, 90.97, 5))</td></tr><tr><td>event_13</td><td>1.755227997686145E9</td><td>user_4362</td><td>view</td><td>2025-08-15T03:19:57.686123Z</td><td>List(List(item_971, 81.53, 5), List(item_317, 17.12, 3), List(item_914, 14.9, 2))</td></tr><tr><td>event_14</td><td>1.755227997686159E9</td><td>user_8388</td><td>view</td><td>2025-08-15T03:19:57.686147Z</td><td>List(List(item_854, 38.97, 5), List(item_283, 21.11, 5))</td></tr><tr><td>event_15</td><td>1.755227997686174E9</td><td>user_8887</td><td>click</td><td>2025-08-15T03:19:57.686161Z</td><td>List(List(item_869, 81.54, 4), List(item_123, 31.61, 3), List(item_383, 43.9, 4))</td></tr><tr><td>event_16</td><td>1.755227997686184E9</td><td>user_2863</td><td>click</td><td>2025-08-15T03:19:57.686176Z</td><td>List(List(item_146, 89.8, 4))</td></tr><tr><td>event_17</td><td>1.755227997686194E9</td><td>user_3579</td><td>click</td><td>2025-08-15T03:19:57.686186Z</td><td>List(List(item_189, 25.93, 1))</td></tr><tr><td>event_18</td><td>1.755227997686204E9</td><td>user_2725</td><td>view</td><td>2025-08-15T03:19:57.686196Z</td><td>List(List(item_421, 99.8, 3))</td></tr><tr><td>event_19</td><td>1.755227997686214E9</td><td>user_4101</td><td>click</td><td>2025-08-15T03:19:57.686206Z</td><td>List(List(item_734, 39.37, 5))</td></tr><tr><td>event_20</td><td>1.755227997686229E9</td><td>user_3286</td><td>view</td><td>2025-08-15T03:19:57.686216Z</td><td>List(List(item_942, 54.61, 2), List(item_158, 93.18, 1), List(item_497, 90.06, 1))</td></tr><tr><td>event_21</td><td>1.755227997686239E9</td><td>user_9239</td><td>click</td><td>2025-08-15T03:19:57.686231Z</td><td>List(List(item_742, 37.79, 2))</td></tr><tr><td>event_22</td><td>1.755227997686252E9</td><td>user_9636</td><td>purchase</td><td>2025-08-15T03:19:57.686241Z</td><td>List(List(item_690, 21.18, 1), List(item_555, 87.79, 5))</td></tr><tr><td>event_23</td><td>1.755227997686262E9</td><td>user_4090</td><td>purchase</td><td>2025-08-15T03:19:57.686254Z</td><td>List(List(item_945, 16.32, 1))</td></tr><tr><td>event_24</td><td>1.755227997686284E9</td><td>user_9174</td><td>purchase</td><td>2025-08-15T03:19:57.686264Z</td><td>List(List(item_731, 25.23, 3))</td></tr><tr><td>event_25</td><td>1.755227997686301E9</td><td>user_5399</td><td>click</td><td>2025-08-15T03:19:57.686287Z</td><td>List(List(item_843, 98.78, 5), List(item_250, 85.22, 1), List(item_683, 45.15, 4))</td></tr><tr><td>event_26</td><td>1.755227997686317E9</td><td>user_5674</td><td>purchase</td><td>2025-08-15T03:19:57.686304Z</td><td>List(List(item_222, 40.26, 3), List(item_733, 79.36, 3))</td></tr><tr><td>event_27</td><td>1.75522799768633E9</td><td>user_2960</td><td>click</td><td>2025-08-15T03:19:57.686319Z</td><td>List(List(item_561, 13.83, 4), List(item_599, 49.98, 4))</td></tr><tr><td>event_28</td><td>1.75522799768634E9</td><td>user_7201</td><td>click</td><td>2025-08-15T03:19:57.686332Z</td><td>List(List(item_697, 32.45, 3))</td></tr><tr><td>event_29</td><td>1.755227997686352E9</td><td>user_6815</td><td>purchase</td><td>2025-08-15T03:19:57.686342Z</td><td>List(List(item_302, 53.68, 2), List(item_152, 17.73, 4))</td></tr><tr><td>event_30</td><td>1.755227997686362E9</td><td>user_1974</td><td>click</td><td>2025-08-15T03:19:57.686354Z</td><td>List(List(item_655, 58.91, 1))</td></tr><tr><td>event_31</td><td>1.755227997686375E9</td><td>user_3499</td><td>purchase</td><td>2025-08-15T03:19:57.686364Z</td><td>List(List(item_166, 68.85, 4), List(item_172, 15.29, 2))</td></tr><tr><td>event_32</td><td>1.755227997686385E9</td><td>user_5361</td><td>purchase</td><td>2025-08-15T03:19:57.686377Z</td><td>List(List(item_827, 65.98, 1))</td></tr><tr><td>event_33</td><td>1.755227997686397E9</td><td>user_3776</td><td>purchase</td><td>2025-08-15T03:19:57.686386Z</td><td>List(List(item_976, 70.98, 1), List(item_414, 73.81, 2))</td></tr><tr><td>event_34</td><td>1.755227997686409E9</td><td>user_6471</td><td>view</td><td>2025-08-15T03:19:57.686399Z</td><td>List(List(item_782, 80.74, 3), List(item_454, 64.0, 4))</td></tr><tr><td>event_35</td><td>1.755227997686419E9</td><td>user_5991</td><td>click</td><td>2025-08-15T03:19:57.686411Z</td><td>List(List(item_111, 53.97, 5))</td></tr><tr><td>event_36</td><td>1.755227997686431E9</td><td>user_1100</td><td>purchase</td><td>2025-08-15T03:19:57.686421Z</td><td>List(List(item_802, 84.51, 1), List(item_440, 65.09, 4))</td></tr><tr><td>event_37</td><td>1.755227997686446E9</td><td>user_1784</td><td>click</td><td>2025-08-15T03:19:57.686433Z</td><td>List(List(item_712, 12.47, 1), List(item_151, 72.82, 3), List(item_828, 40.84, 5))</td></tr><tr><td>event_38</td><td>1.755227997686456E9</td><td>user_4129</td><td>click</td><td>2025-08-15T03:19:57.686448Z</td><td>List(List(item_452, 66.5, 1))</td></tr><tr><td>event_39</td><td>1.755227997686472E9</td><td>user_9929</td><td>click</td><td>2025-08-15T03:19:57.686458Z</td><td>List(List(item_361, 52.39, 4), List(item_753, 34.36, 3), List(item_960, 43.61, 1))</td></tr><tr><td>event_40</td><td>1.755227997686484E9</td><td>user_8081</td><td>click</td><td>2025-08-15T03:19:57.686474Z</td><td>List(List(item_781, 53.1, 1), List(item_924, 44.7, 4))</td></tr><tr><td>event_41</td><td>1.7552279976865E9</td><td>user_2969</td><td>purchase</td><td>2025-08-15T03:19:57.686486Z</td><td>List(List(item_411, 74.71, 4), List(item_680, 83.59, 4), List(item_855, 96.59, 1))</td></tr><tr><td>event_42</td><td>1.755227997686512E9</td><td>user_7266</td><td>view</td><td>2025-08-15T03:19:57.686502Z</td><td>List(List(item_969, 45.34, 3), List(item_552, 10.21, 2))</td></tr><tr><td>event_43</td><td>1.755227997686522E9</td><td>user_8649</td><td>purchase</td><td>2025-08-15T03:19:57.686514Z</td><td>List(List(item_486, 30.23, 4))</td></tr><tr><td>event_44</td><td>1.755227997686538E9</td><td>user_5234</td><td>view</td><td>2025-08-15T03:19:57.686524Z</td><td>List(List(item_600, 22.83, 1), List(item_963, 11.23, 2), List(item_876, 61.68, 1))</td></tr><tr><td>event_45</td><td>1.755227997686551E9</td><td>user_7555</td><td>purchase</td><td>2025-08-15T03:19:57.68654Z</td><td>List(List(item_811, 89.26, 1), List(item_502, 71.06, 3))</td></tr><tr><td>event_46</td><td>1.75522799768658E9</td><td>user_4400</td><td>click</td><td>2025-08-15T03:19:57.686552Z</td><td>List(List(item_255, 96.51, 2), List(item_902, 60.75, 1))</td></tr><tr><td>event_47</td><td>1.755227997686597E9</td><td>user_3116</td><td>click</td><td>2025-08-15T03:19:57.686582Z</td><td>List(List(item_989, 22.58, 4), List(item_336, 49.08, 3), List(item_553, 74.41, 2))</td></tr><tr><td>event_48</td><td>1.755227997686608E9</td><td>user_3639</td><td>click</td><td>2025-08-15T03:19:57.686599Z</td><td>List(List(item_538, 63.62, 3))</td></tr><tr><td>event_49</td><td>1.755227997686618E9</td><td>user_9501</td><td>purchase</td><td>2025-08-15T03:19:57.68661Z</td><td>List(List(item_889, 42.32, 4))</td></tr><tr><td>event_50</td><td>1.75522799768663E9</td><td>user_6022</td><td>click</td><td>2025-08-15T03:19:57.68662Z</td><td>List(List(item_969, 25.24, 1), List(item_895, 90.68, 4))</td></tr><tr><td>event_51</td><td>1.755227997686641E9</td><td>user_9055</td><td>purchase</td><td>2025-08-15T03:19:57.686633Z</td><td>List(List(item_963, 32.33, 4))</td></tr><tr><td>event_52</td><td>1.755227997686656E9</td><td>user_7497</td><td>purchase</td><td>2025-08-15T03:19:57.686643Z</td><td>List(List(item_287, 11.27, 5), List(item_676, 30.75, 2), List(item_182, 93.58, 4))</td></tr><tr><td>event_53</td><td>1.755227997686667E9</td><td>user_5697</td><td>click</td><td>2025-08-15T03:19:57.686659Z</td><td>List(List(item_163, 86.18, 1))</td></tr><tr><td>event_54</td><td>1.755227997686679E9</td><td>user_1546</td><td>purchase</td><td>2025-08-15T03:19:57.686669Z</td><td>List(List(item_161, 73.68, 1))</td></tr><tr><td>event_55</td><td>1.75522799768669E9</td><td>user_3657</td><td>click</td><td>2025-08-15T03:19:57.686682Z</td><td>List(List(item_301, 10.3, 3))</td></tr><tr><td>event_56</td><td>1.755227997686705E9</td><td>user_5898</td><td>click</td><td>2025-08-15T03:19:57.686692Z</td><td>List(List(item_487, 16.55, 2), List(item_599, 21.73, 1), List(item_749, 40.09, 4))</td></tr><tr><td>event_57</td><td>1.755227997686721E9</td><td>user_5656</td><td>view</td><td>2025-08-15T03:19:57.686707Z</td><td>List(List(item_552, 99.55, 5), List(item_894, 64.35, 3))</td></tr><tr><td>event_58</td><td>1.755227997686731E9</td><td>user_4491</td><td>view</td><td>2025-08-15T03:19:57.686722Z</td><td>List(List(item_974, 71.05, 5))</td></tr><tr><td>event_59</td><td>1.755227997686743E9</td><td>user_5623</td><td>click</td><td>2025-08-15T03:19:57.686733Z</td><td>List(List(item_768, 48.56, 4), List(item_963, 26.72, 2))</td></tr><tr><td>event_60</td><td>1.755227997686756E9</td><td>user_7369</td><td>view</td><td>2025-08-15T03:19:57.686745Z</td><td>List(List(item_854, 35.85, 3), List(item_879, 49.0, 2))</td></tr><tr><td>event_61</td><td>1.755227997686768E9</td><td>user_7046</td><td>click</td><td>2025-08-15T03:19:57.686758Z</td><td>List(List(item_771, 14.31, 1), List(item_948, 17.05, 1))</td></tr><tr><td>event_62</td><td>1.75522799768678E9</td><td>user_8755</td><td>click</td><td>2025-08-15T03:19:57.68677Z</td><td>List(List(item_902, 65.63, 3), List(item_942, 53.67, 2))</td></tr><tr><td>event_63</td><td>1.755227997686795E9</td><td>user_4799</td><td>click</td><td>2025-08-15T03:19:57.686782Z</td><td>List(List(item_329, 35.61, 4), List(item_670, 53.27, 3), List(item_903, 21.39, 2))</td></tr><tr><td>event_64</td><td>1.755227997686805E9</td><td>user_9729</td><td>click</td><td>2025-08-15T03:19:57.686797Z</td><td>List(List(item_119, 73.13, 5))</td></tr><tr><td>event_65</td><td>1.755227997686817E9</td><td>user_8929</td><td>view</td><td>2025-08-15T03:19:57.686807Z</td><td>List(List(item_328, 98.94, 2), List(item_469, 34.66, 1))</td></tr><tr><td>event_66</td><td>1.755227997686829E9</td><td>user_2968</td><td>view</td><td>2025-08-15T03:19:57.686819Z</td><td>List(List(item_578, 86.46, 5), List(item_797, 49.82, 2))</td></tr><tr><td>event_67</td><td>1.755227997686839E9</td><td>user_3885</td><td>view</td><td>2025-08-15T03:19:57.686831Z</td><td>List(List(item_308, 84.67, 2))</td></tr><tr><td>event_68</td><td>1.755227997686854E9</td><td>user_8239</td><td>view</td><td>2025-08-15T03:19:57.686841Z</td><td>List(List(item_962, 20.22, 5), List(item_934, 68.54, 2), List(item_785, 31.5, 4))</td></tr><tr><td>event_69</td><td>1.755227997686864E9</td><td>user_3903</td><td>click</td><td>2025-08-15T03:19:57.686856Z</td><td>List(List(item_985, 36.59, 1))</td></tr><tr><td>event_70</td><td>1.755227997686874E9</td><td>user_9357</td><td>purchase</td><td>2025-08-15T03:19:57.686866Z</td><td>List(List(item_194, 39.27, 3))</td></tr><tr><td>event_71</td><td>1.755227997686889E9</td><td>user_6415</td><td>click</td><td>2025-08-15T03:19:57.686876Z</td><td>List(List(item_484, 75.07, 2), List(item_602, 46.28, 5), List(item_320, 78.11, 1))</td></tr><tr><td>event_72</td><td>1.755227997686899E9</td><td>user_7646</td><td>view</td><td>2025-08-15T03:19:57.686891Z</td><td>List(List(item_797, 38.18, 3))</td></tr><tr><td>event_73</td><td>1.755227997686909E9</td><td>user_5894</td><td>click</td><td>2025-08-15T03:19:57.686901Z</td><td>List(List(item_407, 39.44, 1))</td></tr><tr><td>event_74</td><td>1.755227997686921E9</td><td>user_5051</td><td>view</td><td>2025-08-15T03:19:57.686911Z</td><td>List(List(item_419, 30.88, 1), List(item_746, 63.19, 4))</td></tr><tr><td>event_75</td><td>1.755227997686931E9</td><td>user_5908</td><td>view</td><td>2025-08-15T03:19:57.686923Z</td><td>List(List(item_948, 91.13, 1))</td></tr><tr><td>event_76</td><td>1.755227997686946E9</td><td>user_1183</td><td>view</td><td>2025-08-15T03:19:57.686933Z</td><td>List(List(item_782, 98.62, 3), List(item_502, 54.5, 4), List(item_478, 28.25, 3))</td></tr><tr><td>event_77</td><td>1.755227997686967E9</td><td>user_6824</td><td>click</td><td>2025-08-15T03:19:57.686948Z</td><td>List(List(item_505, 79.27, 3), List(item_190, 47.74, 1))</td></tr><tr><td>event_78</td><td>1.755227997686991E9</td><td>user_8704</td><td>click</td><td>2025-08-15T03:19:57.686971Z</td><td>List(List(item_110, 64.8, 1), List(item_483, 23.64, 1), List(item_326, 90.86, 4))</td></tr><tr><td>event_79</td><td>1.755227997687007E9</td><td>user_2039</td><td>view</td><td>2025-08-15T03:19:57.686994Z</td><td>List(List(item_731, 61.26, 4), List(item_283, 17.21, 4), List(item_566, 98.96, 1))</td></tr><tr><td>event_80</td><td>1.755227997687017E9</td><td>user_7406</td><td>click</td><td>2025-08-15T03:19:57.687009Z</td><td>List(List(item_727, 73.94, 2))</td></tr><tr><td>event_81</td><td>1.755227997687026E9</td><td>user_3398</td><td>view</td><td>2025-08-15T03:19:57.687019Z</td><td>List(List(item_267, 70.7, 2))</td></tr><tr><td>event_82</td><td>1.755227997687042E9</td><td>user_6606</td><td>purchase</td><td>2025-08-15T03:19:57.687028Z</td><td>List(List(item_171, 32.07, 1), List(item_375, 28.9, 1), List(item_524, 86.15, 5))</td></tr><tr><td>event_83</td><td>1.755227997687054E9</td><td>user_3868</td><td>purchase</td><td>2025-08-15T03:19:57.687044Z</td><td>List(List(item_627, 78.63, 3), List(item_659, 13.53, 4))</td></tr><tr><td>event_84</td><td>1.75522799768707E9</td><td>user_1162</td><td>view</td><td>2025-08-15T03:19:57.687056Z</td><td>List(List(item_928, 40.89, 5), List(item_271, 27.28, 5), List(item_487, 86.38, 2))</td></tr><tr><td>event_85</td><td>1.755227997687082E9</td><td>user_4588</td><td>purchase</td><td>2025-08-15T03:19:57.687071Z</td><td>List(List(item_183, 90.35, 1), List(item_598, 26.83, 3))</td></tr><tr><td>event_86</td><td>1.755227997687091E9</td><td>user_9292</td><td>view</td><td>2025-08-15T03:19:57.687084Z</td><td>List(List(item_713, 18.61, 4))</td></tr><tr><td>event_87</td><td>1.755227997687107E9</td><td>user_9409</td><td>view</td><td>2025-08-15T03:19:57.687093Z</td><td>List(List(item_305, 88.25, 5), List(item_547, 86.75, 2), List(item_303, 15.0, 1))</td></tr><tr><td>event_88</td><td>1.75522799768712E9</td><td>user_6372</td><td>click</td><td>2025-08-15T03:19:57.687109Z</td><td>List(List(item_194, 71.43, 2))</td></tr><tr><td>event_89</td><td>1.755227997687136E9</td><td>user_2131</td><td>purchase</td><td>2025-08-15T03:19:57.687122Z</td><td>List(List(item_262, 75.2, 5), List(item_334, 14.27, 1))</td></tr><tr><td>event_90</td><td>1.755227997687149E9</td><td>user_6310</td><td>purchase</td><td>2025-08-15T03:19:57.687138Z</td><td>List(List(item_626, 66.46, 1), List(item_241, 83.55, 5))</td></tr><tr><td>event_91</td><td>1.755227997687166E9</td><td>user_6121</td><td>click</td><td>2025-08-15T03:19:57.687152Z</td><td>List(List(item_369, 19.64, 5))</td></tr><tr><td>event_92</td><td>1.755227997687184E9</td><td>user_4765</td><td>click</td><td>2025-08-15T03:19:57.68717Z</td><td>List(List(item_670, 35.58, 2), List(item_771, 48.68, 5), List(item_239, 19.87, 4))</td></tr><tr><td>event_93</td><td>1.755227997687209E9</td><td>user_1200</td><td>click</td><td>2025-08-15T03:19:57.687187Z</td><td>List(List(item_919, 99.95, 2), List(item_150, 51.49, 4), List(item_357, 74.19, 3))</td></tr><tr><td>event_94</td><td>1.755227997687225E9</td><td>user_4623</td><td>view</td><td>2025-08-15T03:19:57.687211Z</td><td>List(List(item_338, 92.48, 4), List(item_470, 30.03, 5), List(item_532, 32.93, 5))</td></tr><tr><td>event_95</td><td>1.755227997687235E9</td><td>user_7742</td><td>click</td><td>2025-08-15T03:19:57.687227Z</td><td>List(List(item_499, 49.65, 1))</td></tr><tr><td>event_96</td><td>1.755227997687268E9</td><td>user_3506</td><td>view</td><td>2025-08-15T03:19:57.687237Z</td><td>List(List(item_942, 23.07, 1), List(item_593, 52.46, 3), List(item_823, 61.8, 5))</td></tr><tr><td>event_97</td><td>1.755227997687279E9</td><td>user_5102</td><td>click</td><td>2025-08-15T03:19:57.687271Z</td><td>List(List(item_206, 92.02, 1))</td></tr><tr><td>event_98</td><td>1.755227997687288E9</td><td>user_2751</td><td>view</td><td>2025-08-15T03:19:57.68728Z</td><td>List(List(item_771, 26.6, 5))</td></tr><tr><td>event_99</td><td>1.755227997687304E9</td><td>user_5420</td><td>view</td><td>2025-08-15T03:19:57.68729Z</td><td>List(List(item_762, 91.88, 3), List(item_766, 86.85, 5), List(item_211, 10.97, 4))</td></tr></tbody></table></div>"
      ]
     },
     "metadata": {
      "application/vnd.databricks.v1+output": {
       "addedWidgets": {},
       "aggData": [],
       "aggError": "",
       "aggOverflow": false,
       "aggSchema": [],
       "aggSeriesLimitReached": false,
       "aggType": "",
       "arguments": {},
       "columnCustomDisplayInfos": {},
       "data": [
        [
         "event_0",
         1.755227997685932E9,
         "user_9442",
         "view",
         "2025-08-15T03:19:57.685885Z",
         [
          [
           "item_175",
           26.34,
           3
          ],
          [
           "item_308",
           38.42,
           2
          ]
         ]
        ],
        [
         "event_1",
         1.755227997685954E9,
         "user_6202",
         "purchase",
         "2025-08-15T03:19:57.685938Z",
         [
          [
           "item_905",
           13.04,
           1
          ]
         ]
        ],
        [
         "event_2",
         1.75522799768597E9,
         "user_1854",
         "click",
         "2025-08-15T03:19:57.685957Z",
         [
          [
           "item_566",
           51.63,
           1
          ],
          [
           "item_310",
           16.99,
           2
          ]
         ]
        ],
        [
         "event_3",
         1.755227997685985E9,
         "user_9430",
         "click",
         "2025-08-15T03:19:57.685973Z",
         [
          [
           "item_566",
           37.03,
           3
          ],
          [
           "item_436",
           85.36,
           5
          ]
         ]
        ],
        [
         "event_4",
         1.755227997685996E9,
         "user_7786",
         "purchase",
         "2025-08-15T03:19:57.685987Z",
         [
          [
           "item_366",
           46.09,
           1
          ]
         ]
        ],
        [
         "event_5",
         1.755227997686006E9,
         "user_4175",
         "click",
         "2025-08-15T03:19:57.685998Z",
         [
          [
           "item_460",
           25.93,
           4
          ]
         ]
        ],
        [
         "event_6",
         1.755227997686019E9,
         "user_2159",
         "click",
         "2025-08-15T03:19:57.686008Z",
         [
          [
           "item_366",
           57.43,
           4
          ],
          [
           "item_132",
           64.54,
           5
          ]
         ]
        ],
        [
         "event_7",
         1.755227997686036E9,
         "user_7386",
         "click",
         "2025-08-15T03:19:57.686021Z",
         [
          [
           "item_894",
           48.07,
           2
          ],
          [
           "item_726",
           38.27,
           4
          ],
          [
           "item_779",
           83.15,
           1
          ]
         ]
        ],
        [
         "event_8",
         1.755227997686053E9,
         "user_8857",
         "click",
         "2025-08-15T03:19:57.686039Z",
         [
          [
           "item_683",
           23.01,
           5
          ],
          [
           "item_527",
           23.25,
           1
          ],
          [
           "item_760",
           44.65,
           4
          ]
         ]
        ],
        [
         "event_9",
         1.755227997686064E9,
         "user_9819",
         "view",
         "2025-08-15T03:19:57.686055Z",
         [
          [
           "item_157",
           67.91,
           2
          ]
         ]
        ],
        [
         "event_10",
         1.755227997686074E9,
         "user_8581",
         "view",
         "2025-08-15T03:19:57.686066Z",
         [
          [
           "item_676",
           84.02,
           1
          ]
         ]
        ],
        [
         "event_11",
         1.755227997686098E9,
         "user_2870",
         "view",
         "2025-08-15T03:19:57.686076Z",
         [
          [
           "item_114",
           93.67,
           4
          ],
          [
           "item_942",
           90.96,
           2
          ],
          [
           "item_729",
           90.6,
           3
          ]
         ]
        ],
        [
         "event_12",
         1.75522799768612E9,
         "user_8649",
         "view",
         "2025-08-15T03:19:57.686101Z",
         [
          [
           "item_884",
           35.3,
           1
          ],
          [
           "item_199",
           90.97,
           5
          ]
         ]
        ],
        [
         "event_13",
         1.755227997686145E9,
         "user_4362",
         "view",
         "2025-08-15T03:19:57.686123Z",
         [
          [
           "item_971",
           81.53,
           5
          ],
          [
           "item_317",
           17.12,
           3
          ],
          [
           "item_914",
           14.9,
           2
          ]
         ]
        ],
        [
         "event_14",
         1.755227997686159E9,
         "user_8388",
         "view",
         "2025-08-15T03:19:57.686147Z",
         [
          [
           "item_854",
           38.97,
           5
          ],
          [
           "item_283",
           21.11,
           5
          ]
         ]
        ],
        [
         "event_15",
         1.755227997686174E9,
         "user_8887",
         "click",
         "2025-08-15T03:19:57.686161Z",
         [
          [
           "item_869",
           81.54,
           4
          ],
          [
           "item_123",
           31.61,
           3
          ],
          [
           "item_383",
           43.9,
           4
          ]
         ]
        ],
        [
         "event_16",
         1.755227997686184E9,
         "user_2863",
         "click",
         "2025-08-15T03:19:57.686176Z",
         [
          [
           "item_146",
           89.8,
           4
          ]
         ]
        ],
        [
         "event_17",
         1.755227997686194E9,
         "user_3579",
         "click",
         "2025-08-15T03:19:57.686186Z",
         [
          [
           "item_189",
           25.93,
           1
          ]
         ]
        ],
        [
         "event_18",
         1.755227997686204E9,
         "user_2725",
         "view",
         "2025-08-15T03:19:57.686196Z",
         [
          [
           "item_421",
           99.8,
           3
          ]
         ]
        ],
        [
         "event_19",
         1.755227997686214E9,
         "user_4101",
         "click",
         "2025-08-15T03:19:57.686206Z",
         [
          [
           "item_734",
           39.37,
           5
          ]
         ]
        ],
        [
         "event_20",
         1.755227997686229E9,
         "user_3286",
         "view",
         "2025-08-15T03:19:57.686216Z",
         [
          [
           "item_942",
           54.61,
           2
          ],
          [
           "item_158",
           93.18,
           1
          ],
          [
           "item_497",
           90.06,
           1
          ]
         ]
        ],
        [
         "event_21",
         1.755227997686239E9,
         "user_9239",
         "click",
         "2025-08-15T03:19:57.686231Z",
         [
          [
           "item_742",
           37.79,
           2
          ]
         ]
        ],
        [
         "event_22",
         1.755227997686252E9,
         "user_9636",
         "purchase",
         "2025-08-15T03:19:57.686241Z",
         [
          [
           "item_690",
           21.18,
           1
          ],
          [
           "item_555",
           87.79,
           5
          ]
         ]
        ],
        [
         "event_23",
         1.755227997686262E9,
         "user_4090",
         "purchase",
         "2025-08-15T03:19:57.686254Z",
         [
          [
           "item_945",
           16.32,
           1
          ]
         ]
        ],
        [
         "event_24",
         1.755227997686284E9,
         "user_9174",
         "purchase",
         "2025-08-15T03:19:57.686264Z",
         [
          [
           "item_731",
           25.23,
           3
          ]
         ]
        ],
        [
         "event_25",
         1.755227997686301E9,
         "user_5399",
         "click",
         "2025-08-15T03:19:57.686287Z",
         [
          [
           "item_843",
           98.78,
           5
          ],
          [
           "item_250",
           85.22,
           1
          ],
          [
           "item_683",
           45.15,
           4
          ]
         ]
        ],
        [
         "event_26",
         1.755227997686317E9,
         "user_5674",
         "purchase",
         "2025-08-15T03:19:57.686304Z",
         [
          [
           "item_222",
           40.26,
           3
          ],
          [
           "item_733",
           79.36,
           3
          ]
         ]
        ],
        [
         "event_27",
         1.75522799768633E9,
         "user_2960",
         "click",
         "2025-08-15T03:19:57.686319Z",
         [
          [
           "item_561",
           13.83,
           4
          ],
          [
           "item_599",
           49.98,
           4
          ]
         ]
        ],
        [
         "event_28",
         1.75522799768634E9,
         "user_7201",
         "click",
         "2025-08-15T03:19:57.686332Z",
         [
          [
           "item_697",
           32.45,
           3
          ]
         ]
        ],
        [
         "event_29",
         1.755227997686352E9,
         "user_6815",
         "purchase",
         "2025-08-15T03:19:57.686342Z",
         [
          [
           "item_302",
           53.68,
           2
          ],
          [
           "item_152",
           17.73,
           4
          ]
         ]
        ],
        [
         "event_30",
         1.755227997686362E9,
         "user_1974",
         "click",
         "2025-08-15T03:19:57.686354Z",
         [
          [
           "item_655",
           58.91,
           1
          ]
         ]
        ],
        [
         "event_31",
         1.755227997686375E9,
         "user_3499",
         "purchase",
         "2025-08-15T03:19:57.686364Z",
         [
          [
           "item_166",
           68.85,
           4
          ],
          [
           "item_172",
           15.29,
           2
          ]
         ]
        ],
        [
         "event_32",
         1.755227997686385E9,
         "user_5361",
         "purchase",
         "2025-08-15T03:19:57.686377Z",
         [
          [
           "item_827",
           65.98,
           1
          ]
         ]
        ],
        [
         "event_33",
         1.755227997686397E9,
         "user_3776",
         "purchase",
         "2025-08-15T03:19:57.686386Z",
         [
          [
           "item_976",
           70.98,
           1
          ],
          [
           "item_414",
           73.81,
           2
          ]
         ]
        ],
        [
         "event_34",
         1.755227997686409E9,
         "user_6471",
         "view",
         "2025-08-15T03:19:57.686399Z",
         [
          [
           "item_782",
           80.74,
           3
          ],
          [
           "item_454",
           64.0,
           4
          ]
         ]
        ],
        [
         "event_35",
         1.755227997686419E9,
         "user_5991",
         "click",
         "2025-08-15T03:19:57.686411Z",
         [
          [
           "item_111",
           53.97,
           5
          ]
         ]
        ],
        [
         "event_36",
         1.755227997686431E9,
         "user_1100",
         "purchase",
         "2025-08-15T03:19:57.686421Z",
         [
          [
           "item_802",
           84.51,
           1
          ],
          [
           "item_440",
           65.09,
           4
          ]
         ]
        ],
        [
         "event_37",
         1.755227997686446E9,
         "user_1784",
         "click",
         "2025-08-15T03:19:57.686433Z",
         [
          [
           "item_712",
           12.47,
           1
          ],
          [
           "item_151",
           72.82,
           3
          ],
          [
           "item_828",
           40.84,
           5
          ]
         ]
        ],
        [
         "event_38",
         1.755227997686456E9,
         "user_4129",
         "click",
         "2025-08-15T03:19:57.686448Z",
         [
          [
           "item_452",
           66.5,
           1
          ]
         ]
        ],
        [
         "event_39",
         1.755227997686472E9,
         "user_9929",
         "click",
         "2025-08-15T03:19:57.686458Z",
         [
          [
           "item_361",
           52.39,
           4
          ],
          [
           "item_753",
           34.36,
           3
          ],
          [
           "item_960",
           43.61,
           1
          ]
         ]
        ],
        [
         "event_40",
         1.755227997686484E9,
         "user_8081",
         "click",
         "2025-08-15T03:19:57.686474Z",
         [
          [
           "item_781",
           53.1,
           1
          ],
          [
           "item_924",
           44.7,
           4
          ]
         ]
        ],
        [
         "event_41",
         1.7552279976865E9,
         "user_2969",
         "purchase",
         "2025-08-15T03:19:57.686486Z",
         [
          [
           "item_411",
           74.71,
           4
          ],
          [
           "item_680",
           83.59,
           4
          ],
          [
           "item_855",
           96.59,
           1
          ]
         ]
        ],
        [
         "event_42",
         1.755227997686512E9,
         "user_7266",
         "view",
         "2025-08-15T03:19:57.686502Z",
         [
          [
           "item_969",
           45.34,
           3
          ],
          [
           "item_552",
           10.21,
           2
          ]
         ]
        ],
        [
         "event_43",
         1.755227997686522E9,
         "user_8649",
         "purchase",
         "2025-08-15T03:19:57.686514Z",
         [
          [
           "item_486",
           30.23,
           4
          ]
         ]
        ],
        [
         "event_44",
         1.755227997686538E9,
         "user_5234",
         "view",
         "2025-08-15T03:19:57.686524Z",
         [
          [
           "item_600",
           22.83,
           1
          ],
          [
           "item_963",
           11.23,
           2
          ],
          [
           "item_876",
           61.68,
           1
          ]
         ]
        ],
        [
         "event_45",
         1.755227997686551E9,
         "user_7555",
         "purchase",
         "2025-08-15T03:19:57.68654Z",
         [
          [
           "item_811",
           89.26,
           1
          ],
          [
           "item_502",
           71.06,
           3
          ]
         ]
        ],
        [
         "event_46",
         1.75522799768658E9,
         "user_4400",
         "click",
         "2025-08-15T03:19:57.686552Z",
         [
          [
           "item_255",
           96.51,
           2
          ],
          [
           "item_902",
           60.75,
           1
          ]
         ]
        ],
        [
         "event_47",
         1.755227997686597E9,
         "user_3116",
         "click",
         "2025-08-15T03:19:57.686582Z",
         [
          [
           "item_989",
           22.58,
           4
          ],
          [
           "item_336",
           49.08,
           3
          ],
          [
           "item_553",
           74.41,
           2
          ]
         ]
        ],
        [
         "event_48",
         1.755227997686608E9,
         "user_3639",
         "click",
         "2025-08-15T03:19:57.686599Z",
         [
          [
           "item_538",
           63.62,
           3
          ]
         ]
        ],
        [
         "event_49",
         1.755227997686618E9,
         "user_9501",
         "purchase",
         "2025-08-15T03:19:57.68661Z",
         [
          [
           "item_889",
           42.32,
           4
          ]
         ]
        ],
        [
         "event_50",
         1.75522799768663E9,
         "user_6022",
         "click",
         "2025-08-15T03:19:57.68662Z",
         [
          [
           "item_969",
           25.24,
           1
          ],
          [
           "item_895",
           90.68,
           4
          ]
         ]
        ],
        [
         "event_51",
         1.755227997686641E9,
         "user_9055",
         "purchase",
         "2025-08-15T03:19:57.686633Z",
         [
          [
           "item_963",
           32.33,
           4
          ]
         ]
        ],
        [
         "event_52",
         1.755227997686656E9,
         "user_7497",
         "purchase",
         "2025-08-15T03:19:57.686643Z",
         [
          [
           "item_287",
           11.27,
           5
          ],
          [
           "item_676",
           30.75,
           2
          ],
          [
           "item_182",
           93.58,
           4
          ]
         ]
        ],
        [
         "event_53",
         1.755227997686667E9,
         "user_5697",
         "click",
         "2025-08-15T03:19:57.686659Z",
         [
          [
           "item_163",
           86.18,
           1
          ]
         ]
        ],
        [
         "event_54",
         1.755227997686679E9,
         "user_1546",
         "purchase",
         "2025-08-15T03:19:57.686669Z",
         [
          [
           "item_161",
           73.68,
           1
          ]
         ]
        ],
        [
         "event_55",
         1.75522799768669E9,
         "user_3657",
         "click",
         "2025-08-15T03:19:57.686682Z",
         [
          [
           "item_301",
           10.3,
           3
          ]
         ]
        ],
        [
         "event_56",
         1.755227997686705E9,
         "user_5898",
         "click",
         "2025-08-15T03:19:57.686692Z",
         [
          [
           "item_487",
           16.55,
           2
          ],
          [
           "item_599",
           21.73,
           1
          ],
          [
           "item_749",
           40.09,
           4
          ]
         ]
        ],
        [
         "event_57",
         1.755227997686721E9,
         "user_5656",
         "view",
         "2025-08-15T03:19:57.686707Z",
         [
          [
           "item_552",
           99.55,
           5
          ],
          [
           "item_894",
           64.35,
           3
          ]
         ]
        ],
        [
         "event_58",
         1.755227997686731E9,
         "user_4491",
         "view",
         "2025-08-15T03:19:57.686722Z",
         [
          [
           "item_974",
           71.05,
           5
          ]
         ]
        ],
        [
         "event_59",
         1.755227997686743E9,
         "user_5623",
         "click",
         "2025-08-15T03:19:57.686733Z",
         [
          [
           "item_768",
           48.56,
           4
          ],
          [
           "item_963",
           26.72,
           2
          ]
         ]
        ],
        [
         "event_60",
         1.755227997686756E9,
         "user_7369",
         "view",
         "2025-08-15T03:19:57.686745Z",
         [
          [
           "item_854",
           35.85,
           3
          ],
          [
           "item_879",
           49.0,
           2
          ]
         ]
        ],
        [
         "event_61",
         1.755227997686768E9,
         "user_7046",
         "click",
         "2025-08-15T03:19:57.686758Z",
         [
          [
           "item_771",
           14.31,
           1
          ],
          [
           "item_948",
           17.05,
           1
          ]
         ]
        ],
        [
         "event_62",
         1.75522799768678E9,
         "user_8755",
         "click",
         "2025-08-15T03:19:57.68677Z",
         [
          [
           "item_902",
           65.63,
           3
          ],
          [
           "item_942",
           53.67,
           2
          ]
         ]
        ],
        [
         "event_63",
         1.755227997686795E9,
         "user_4799",
         "click",
         "2025-08-15T03:19:57.686782Z",
         [
          [
           "item_329",
           35.61,
           4
          ],
          [
           "item_670",
           53.27,
           3
          ],
          [
           "item_903",
           21.39,
           2
          ]
         ]
        ],
        [
         "event_64",
         1.755227997686805E9,
         "user_9729",
         "click",
         "2025-08-15T03:19:57.686797Z",
         [
          [
           "item_119",
           73.13,
           5
          ]
         ]
        ],
        [
         "event_65",
         1.755227997686817E9,
         "user_8929",
         "view",
         "2025-08-15T03:19:57.686807Z",
         [
          [
           "item_328",
           98.94,
           2
          ],
          [
           "item_469",
           34.66,
           1
          ]
         ]
        ],
        [
         "event_66",
         1.755227997686829E9,
         "user_2968",
         "view",
         "2025-08-15T03:19:57.686819Z",
         [
          [
           "item_578",
           86.46,
           5
          ],
          [
           "item_797",
           49.82,
           2
          ]
         ]
        ],
        [
         "event_67",
         1.755227997686839E9,
         "user_3885",
         "view",
         "2025-08-15T03:19:57.686831Z",
         [
          [
           "item_308",
           84.67,
           2
          ]
         ]
        ],
        [
         "event_68",
         1.755227997686854E9,
         "user_8239",
         "view",
         "2025-08-15T03:19:57.686841Z",
         [
          [
           "item_962",
           20.22,
           5
          ],
          [
           "item_934",
           68.54,
           2
          ],
          [
           "item_785",
           31.5,
           4
          ]
         ]
        ],
        [
         "event_69",
         1.755227997686864E9,
         "user_3903",
         "click",
         "2025-08-15T03:19:57.686856Z",
         [
          [
           "item_985",
           36.59,
           1
          ]
         ]
        ],
        [
         "event_70",
         1.755227997686874E9,
         "user_9357",
         "purchase",
         "2025-08-15T03:19:57.686866Z",
         [
          [
           "item_194",
           39.27,
           3
          ]
         ]
        ],
        [
         "event_71",
         1.755227997686889E9,
         "user_6415",
         "click",
         "2025-08-15T03:19:57.686876Z",
         [
          [
           "item_484",
           75.07,
           2
          ],
          [
           "item_602",
           46.28,
           5
          ],
          [
           "item_320",
           78.11,
           1
          ]
         ]
        ],
        [
         "event_72",
         1.755227997686899E9,
         "user_7646",
         "view",
         "2025-08-15T03:19:57.686891Z",
         [
          [
           "item_797",
           38.18,
           3
          ]
         ]
        ],
        [
         "event_73",
         1.755227997686909E9,
         "user_5894",
         "click",
         "2025-08-15T03:19:57.686901Z",
         [
          [
           "item_407",
           39.44,
           1
          ]
         ]
        ],
        [
         "event_74",
         1.755227997686921E9,
         "user_5051",
         "view",
         "2025-08-15T03:19:57.686911Z",
         [
          [
           "item_419",
           30.88,
           1
          ],
          [
           "item_746",
           63.19,
           4
          ]
         ]
        ],
        [
         "event_75",
         1.755227997686931E9,
         "user_5908",
         "view",
         "2025-08-15T03:19:57.686923Z",
         [
          [
           "item_948",
           91.13,
           1
          ]
         ]
        ],
        [
         "event_76",
         1.755227997686946E9,
         "user_1183",
         "view",
         "2025-08-15T03:19:57.686933Z",
         [
          [
           "item_782",
           98.62,
           3
          ],
          [
           "item_502",
           54.5,
           4
          ],
          [
           "item_478",
           28.25,
           3
          ]
         ]
        ],
        [
         "event_77",
         1.755227997686967E9,
         "user_6824",
         "click",
         "2025-08-15T03:19:57.686948Z",
         [
          [
           "item_505",
           79.27,
           3
          ],
          [
           "item_190",
           47.74,
           1
          ]
         ]
        ],
        [
         "event_78",
         1.755227997686991E9,
         "user_8704",
         "click",
         "2025-08-15T03:19:57.686971Z",
         [
          [
           "item_110",
           64.8,
           1
          ],
          [
           "item_483",
           23.64,
           1
          ],
          [
           "item_326",
           90.86,
           4
          ]
         ]
        ],
        [
         "event_79",
         1.755227997687007E9,
         "user_2039",
         "view",
         "2025-08-15T03:19:57.686994Z",
         [
          [
           "item_731",
           61.26,
           4
          ],
          [
           "item_283",
           17.21,
           4
          ],
          [
           "item_566",
           98.96,
           1
          ]
         ]
        ],
        [
         "event_80",
         1.755227997687017E9,
         "user_7406",
         "click",
         "2025-08-15T03:19:57.687009Z",
         [
          [
           "item_727",
           73.94,
           2
          ]
         ]
        ],
        [
         "event_81",
         1.755227997687026E9,
         "user_3398",
         "view",
         "2025-08-15T03:19:57.687019Z",
         [
          [
           "item_267",
           70.7,
           2
          ]
         ]
        ],
        [
         "event_82",
         1.755227997687042E9,
         "user_6606",
         "purchase",
         "2025-08-15T03:19:57.687028Z",
         [
          [
           "item_171",
           32.07,
           1
          ],
          [
           "item_375",
           28.9,
           1
          ],
          [
           "item_524",
           86.15,
           5
          ]
         ]
        ],
        [
         "event_83",
         1.755227997687054E9,
         "user_3868",
         "purchase",
         "2025-08-15T03:19:57.687044Z",
         [
          [
           "item_627",
           78.63,
           3
          ],
          [
           "item_659",
           13.53,
           4
          ]
         ]
        ],
        [
         "event_84",
         1.75522799768707E9,
         "user_1162",
         "view",
         "2025-08-15T03:19:57.687056Z",
         [
          [
           "item_928",
           40.89,
           5
          ],
          [
           "item_271",
           27.28,
           5
          ],
          [
           "item_487",
           86.38,
           2
          ]
         ]
        ],
        [
         "event_85",
         1.755227997687082E9,
         "user_4588",
         "purchase",
         "2025-08-15T03:19:57.687071Z",
         [
          [
           "item_183",
           90.35,
           1
          ],
          [
           "item_598",
           26.83,
           3
          ]
         ]
        ],
        [
         "event_86",
         1.755227997687091E9,
         "user_9292",
         "view",
         "2025-08-15T03:19:57.687084Z",
         [
          [
           "item_713",
           18.61,
           4
          ]
         ]
        ],
        [
         "event_87",
         1.755227997687107E9,
         "user_9409",
         "view",
         "2025-08-15T03:19:57.687093Z",
         [
          [
           "item_305",
           88.25,
           5
          ],
          [
           "item_547",
           86.75,
           2
          ],
          [
           "item_303",
           15.0,
           1
          ]
         ]
        ],
        [
         "event_88",
         1.75522799768712E9,
         "user_6372",
         "click",
         "2025-08-15T03:19:57.687109Z",
         [
          [
           "item_194",
           71.43,
           2
          ]
         ]
        ],
        [
         "event_89",
         1.755227997687136E9,
         "user_2131",
         "purchase",
         "2025-08-15T03:19:57.687122Z",
         [
          [
           "item_262",
           75.2,
           5
          ],
          [
           "item_334",
           14.27,
           1
          ]
         ]
        ],
        [
         "event_90",
         1.755227997687149E9,
         "user_6310",
         "purchase",
         "2025-08-15T03:19:57.687138Z",
         [
          [
           "item_626",
           66.46,
           1
          ],
          [
           "item_241",
           83.55,
           5
          ]
         ]
        ],
        [
         "event_91",
         1.755227997687166E9,
         "user_6121",
         "click",
         "2025-08-15T03:19:57.687152Z",
         [
          [
           "item_369",
           19.64,
           5
          ]
         ]
        ],
        [
         "event_92",
         1.755227997687184E9,
         "user_4765",
         "click",
         "2025-08-15T03:19:57.68717Z",
         [
          [
           "item_670",
           35.58,
           2
          ],
          [
           "item_771",
           48.68,
           5
          ],
          [
           "item_239",
           19.87,
           4
          ]
         ]
        ],
        [
         "event_93",
         1.755227997687209E9,
         "user_1200",
         "click",
         "2025-08-15T03:19:57.687187Z",
         [
          [
           "item_919",
           99.95,
           2
          ],
          [
           "item_150",
           51.49,
           4
          ],
          [
           "item_357",
           74.19,
           3
          ]
         ]
        ],
        [
         "event_94",
         1.755227997687225E9,
         "user_4623",
         "view",
         "2025-08-15T03:19:57.687211Z",
         [
          [
           "item_338",
           92.48,
           4
          ],
          [
           "item_470",
           30.03,
           5
          ],
          [
           "item_532",
           32.93,
           5
          ]
         ]
        ],
        [
         "event_95",
         1.755227997687235E9,
         "user_7742",
         "click",
         "2025-08-15T03:19:57.687227Z",
         [
          [
           "item_499",
           49.65,
           1
          ]
         ]
        ],
        [
         "event_96",
         1.755227997687268E9,
         "user_3506",
         "view",
         "2025-08-15T03:19:57.687237Z",
         [
          [
           "item_942",
           23.07,
           1
          ],
          [
           "item_593",
           52.46,
           3
          ],
          [
           "item_823",
           61.8,
           5
          ]
         ]
        ],
        [
         "event_97",
         1.755227997687279E9,
         "user_5102",
         "click",
         "2025-08-15T03:19:57.687271Z",
         [
          [
           "item_206",
           92.02,
           1
          ]
         ]
        ],
        [
         "event_98",
         1.755227997687288E9,
         "user_2751",
         "view",
         "2025-08-15T03:19:57.68728Z",
         [
          [
           "item_771",
           26.6,
           5
          ]
         ]
        ],
        [
         "event_99",
         1.755227997687304E9,
         "user_5420",
         "view",
         "2025-08-15T03:19:57.68729Z",
         [
          [
           "item_762",
           91.88,
           3
          ],
          [
           "item_766",
           86.85,
           5
          ],
          [
           "item_211",
           10.97,
           4
          ]
         ]
        ]
       ],
       "datasetInfos": [],
       "dbfsResultPath": null,
       "isJsonSchema": true,
       "metadata": {},
       "overflow": false,
       "plotOptions": {
        "customPlotOptions": {},
        "displayType": "table",
        "pivotAggregation": null,
        "pivotColumns": null,
        "xColumns": null,
        "yColumns": null
       },
       "removedWidgets": [],
       "schema": [
        {
         "metadata": "{}",
         "name": "key",
         "type": "\"string\""
        },
        {
         "metadata": "{}",
         "name": "timestamp",
         "type": "\"double\""
        },
        {
         "metadata": "{}",
         "name": "user_id",
         "type": "\"string\""
        },
        {
         "metadata": "{}",
         "name": "event_type",
         "type": "\"string\""
        },
        {
         "metadata": "{}",
         "name": "event_timestamp",
         "type": "\"timestamp\""
        },
        {
         "metadata": "{}",
         "name": "items",
         "type": "{\"type\":\"array\",\"elementType\":{\"type\":\"struct\",\"fields\":[{\"name\":\"item_id\",\"type\":\"string\",\"nullable\":true,\"metadata\":{}},{\"name\":\"price_usd\",\"type\":\"double\",\"nullable\":true,\"metadata\":{}},{\"name\":\"quantity\",\"type\":\"long\",\"nullable\":true,\"metadata\":{}}]},\"containsNull\":true}"
        }
       ],
       "type": "table"
      }
     },
     "output_type": "display_data"
    }
   ],
   "source": [
    "---- Parse the JSON formatted STRING\n",
    "CREATE OR REPLACE TABLE lab7_lab_kafka_events_flattened_str\n",
    "AS\n",
    "SELECT \n",
    "  key,\n",
    "  timestamp,\n",
    "  decoded_value:user_id,\n",
    "  decoded_value:event_type,\n",
    "  cast(decoded_value:event_timestamp AS TIMESTAMP),\n",
    "  from_json(decoded_value:items,'ARRAY<STRUCT<item_id: STRING, price_usd: DOUBLE, quantity: BIGINT>>') AS items\n",
    "FROM lab7_lab_kafka_events_raw;\n",
    "\n",
    "\n",
    "---- Display the table\n",
    "SELECT *\n",
    "FROM lab7_lab_kafka_events_flattened_str;"
   ]
  },
  {
   "cell_type": "code",
   "execution_count": 0,
   "metadata": {
    "application/vnd.databricks.v1+cell": {
     "cellMetadata": {
      "byteLimit": 2048000,
      "rowLimit": 10000
     },
     "inputWidgets": {},
     "nuid": "b375f88b-8191-4872-81db-7261ce9b32ce",
     "showTitle": false,
     "tableResultSettingsMap": {},
     "title": ""
    }
   },
   "outputs": [
    {
     "output_type": "display_data",
     "data": {
      "text/html": [
       "<style scoped>\n",
       "  .table-result-container {\n",
       "    max-height: 300px;\n",
       "    overflow: auto;\n",
       "  }\n",
       "  table, th, td {\n",
       "    border: 1px solid black;\n",
       "    border-collapse: collapse;\n",
       "  }\n",
       "  th, td {\n",
       "    padding: 5px;\n",
       "  }\n",
       "  th {\n",
       "    text-align: left;\n",
       "  }\n",
       "</style><div class='table-result-container'><table class='table-result'><thead style='background-color: white'><tr><th>key</th><th>timestamp</th><th>decoded_value_variant</th><th>user_id</th><th>event_type</th><th>event_timestamp</th><th>items</th></tr></thead><tbody><tr><td>event_0</td><td>1.755227997685932E9</td><td>{\"event_timestamp\":\"2025-08-15T03:19:57.685885\",\"event_type\":\"view\",\"items\":[{\"item_id\":\"item_175\",\"price_usd\":26.34,\"quantity\":3},{\"item_id\":\"item_308\",\"price_usd\":38.42,\"quantity\":2}],\"user_id\":\"user_9442\"}</td><td>user_9442</td><td>view</td><td>2025-08-15T03:19:57.685885Z</td><td>[{\"item_id\":\"item_175\",\"price_usd\":26.34,\"quantity\":3},{\"item_id\":\"item_308\",\"price_usd\":38.42,\"quantity\":2}]</td></tr><tr><td>event_1</td><td>1.755227997685954E9</td><td>{\"event_timestamp\":\"2025-08-15T03:19:57.685938\",\"event_type\":\"purchase\",\"items\":[{\"item_id\":\"item_905\",\"price_usd\":13.04,\"quantity\":1}],\"user_id\":\"user_6202\"}</td><td>user_6202</td><td>purchase</td><td>2025-08-15T03:19:57.685938Z</td><td>[{\"item_id\":\"item_905\",\"price_usd\":13.04,\"quantity\":1}]</td></tr><tr><td>event_2</td><td>1.75522799768597E9</td><td>{\"event_timestamp\":\"2025-08-15T03:19:57.685957\",\"event_type\":\"click\",\"items\":[{\"item_id\":\"item_566\",\"price_usd\":51.63,\"quantity\":1},{\"item_id\":\"item_310\",\"price_usd\":16.99,\"quantity\":2}],\"user_id\":\"user_1854\"}</td><td>user_1854</td><td>click</td><td>2025-08-15T03:19:57.685957Z</td><td>[{\"item_id\":\"item_566\",\"price_usd\":51.63,\"quantity\":1},{\"item_id\":\"item_310\",\"price_usd\":16.99,\"quantity\":2}]</td></tr><tr><td>event_3</td><td>1.755227997685985E9</td><td>{\"event_timestamp\":\"2025-08-15T03:19:57.685973\",\"event_type\":\"click\",\"items\":[{\"item_id\":\"item_566\",\"price_usd\":37.03,\"quantity\":3},{\"item_id\":\"item_436\",\"price_usd\":85.36,\"quantity\":5}],\"user_id\":\"user_9430\"}</td><td>user_9430</td><td>click</td><td>2025-08-15T03:19:57.685973Z</td><td>[{\"item_id\":\"item_566\",\"price_usd\":37.03,\"quantity\":3},{\"item_id\":\"item_436\",\"price_usd\":85.36,\"quantity\":5}]</td></tr><tr><td>event_4</td><td>1.755227997685996E9</td><td>{\"event_timestamp\":\"2025-08-15T03:19:57.685987\",\"event_type\":\"purchase\",\"items\":[{\"item_id\":\"item_366\",\"price_usd\":46.09,\"quantity\":1}],\"user_id\":\"user_7786\"}</td><td>user_7786</td><td>purchase</td><td>2025-08-15T03:19:57.685987Z</td><td>[{\"item_id\":\"item_366\",\"price_usd\":46.09,\"quantity\":1}]</td></tr><tr><td>event_5</td><td>1.755227997686006E9</td><td>{\"event_timestamp\":\"2025-08-15T03:19:57.685998\",\"event_type\":\"click\",\"items\":[{\"item_id\":\"item_460\",\"price_usd\":25.93,\"quantity\":4}],\"user_id\":\"user_4175\"}</td><td>user_4175</td><td>click</td><td>2025-08-15T03:19:57.685998Z</td><td>[{\"item_id\":\"item_460\",\"price_usd\":25.93,\"quantity\":4}]</td></tr><tr><td>event_6</td><td>1.755227997686019E9</td><td>{\"event_timestamp\":\"2025-08-15T03:19:57.686008\",\"event_type\":\"click\",\"items\":[{\"item_id\":\"item_366\",\"price_usd\":57.43,\"quantity\":4},{\"item_id\":\"item_132\",\"price_usd\":64.54,\"quantity\":5}],\"user_id\":\"user_2159\"}</td><td>user_2159</td><td>click</td><td>2025-08-15T03:19:57.686008Z</td><td>[{\"item_id\":\"item_366\",\"price_usd\":57.43,\"quantity\":4},{\"item_id\":\"item_132\",\"price_usd\":64.54,\"quantity\":5}]</td></tr><tr><td>event_7</td><td>1.755227997686036E9</td><td>{\"event_timestamp\":\"2025-08-15T03:19:57.686021\",\"event_type\":\"click\",\"items\":[{\"item_id\":\"item_894\",\"price_usd\":48.07,\"quantity\":2},{\"item_id\":\"item_726\",\"price_usd\":38.27,\"quantity\":4},{\"item_id\":\"item_779\",\"price_usd\":83.15,\"quantity\":1}],\"user_id\":\"user_7386\"}</td><td>user_7386</td><td>click</td><td>2025-08-15T03:19:57.686021Z</td><td>[{\"item_id\":\"item_894\",\"price_usd\":48.07,\"quantity\":2},{\"item_id\":\"item_726\",\"price_usd\":38.27,\"quantity\":4},{\"item_id\":\"item_779\",\"price_usd\":83.15,\"quantity\":1}]</td></tr><tr><td>event_8</td><td>1.755227997686053E9</td><td>{\"event_timestamp\":\"2025-08-15T03:19:57.686039\",\"event_type\":\"click\",\"items\":[{\"item_id\":\"item_683\",\"price_usd\":23.01,\"quantity\":5},{\"item_id\":\"item_527\",\"price_usd\":23.25,\"quantity\":1},{\"item_id\":\"item_760\",\"price_usd\":44.65,\"quantity\":4}],\"user_id\":\"user_8857\"}</td><td>user_8857</td><td>click</td><td>2025-08-15T03:19:57.686039Z</td><td>[{\"item_id\":\"item_683\",\"price_usd\":23.01,\"quantity\":5},{\"item_id\":\"item_527\",\"price_usd\":23.25,\"quantity\":1},{\"item_id\":\"item_760\",\"price_usd\":44.65,\"quantity\":4}]</td></tr><tr><td>event_9</td><td>1.755227997686064E9</td><td>{\"event_timestamp\":\"2025-08-15T03:19:57.686055\",\"event_type\":\"view\",\"items\":[{\"item_id\":\"item_157\",\"price_usd\":67.91,\"quantity\":2}],\"user_id\":\"user_9819\"}</td><td>user_9819</td><td>view</td><td>2025-08-15T03:19:57.686055Z</td><td>[{\"item_id\":\"item_157\",\"price_usd\":67.91,\"quantity\":2}]</td></tr><tr><td>event_10</td><td>1.755227997686074E9</td><td>{\"event_timestamp\":\"2025-08-15T03:19:57.686066\",\"event_type\":\"view\",\"items\":[{\"item_id\":\"item_676\",\"price_usd\":84.02,\"quantity\":1}],\"user_id\":\"user_8581\"}</td><td>user_8581</td><td>view</td><td>2025-08-15T03:19:57.686066Z</td><td>[{\"item_id\":\"item_676\",\"price_usd\":84.02,\"quantity\":1}]</td></tr><tr><td>event_11</td><td>1.755227997686098E9</td><td>{\"event_timestamp\":\"2025-08-15T03:19:57.686076\",\"event_type\":\"view\",\"items\":[{\"item_id\":\"item_114\",\"price_usd\":93.67,\"quantity\":4},{\"item_id\":\"item_942\",\"price_usd\":90.96,\"quantity\":2},{\"item_id\":\"item_729\",\"price_usd\":90.6,\"quantity\":3}],\"user_id\":\"user_2870\"}</td><td>user_2870</td><td>view</td><td>2025-08-15T03:19:57.686076Z</td><td>[{\"item_id\":\"item_114\",\"price_usd\":93.67,\"quantity\":4},{\"item_id\":\"item_942\",\"price_usd\":90.96,\"quantity\":2},{\"item_id\":\"item_729\",\"price_usd\":90.6,\"quantity\":3}]</td></tr><tr><td>event_12</td><td>1.75522799768612E9</td><td>{\"event_timestamp\":\"2025-08-15T03:19:57.686101\",\"event_type\":\"view\",\"items\":[{\"item_id\":\"item_884\",\"price_usd\":35.3,\"quantity\":1},{\"item_id\":\"item_199\",\"price_usd\":90.97,\"quantity\":5}],\"user_id\":\"user_8649\"}</td><td>user_8649</td><td>view</td><td>2025-08-15T03:19:57.686101Z</td><td>[{\"item_id\":\"item_884\",\"price_usd\":35.3,\"quantity\":1},{\"item_id\":\"item_199\",\"price_usd\":90.97,\"quantity\":5}]</td></tr><tr><td>event_13</td><td>1.755227997686145E9</td><td>{\"event_timestamp\":\"2025-08-15T03:19:57.686123\",\"event_type\":\"view\",\"items\":[{\"item_id\":\"item_971\",\"price_usd\":81.53,\"quantity\":5},{\"item_id\":\"item_317\",\"price_usd\":17.12,\"quantity\":3},{\"item_id\":\"item_914\",\"price_usd\":14.9,\"quantity\":2}],\"user_id\":\"user_4362\"}</td><td>user_4362</td><td>view</td><td>2025-08-15T03:19:57.686123Z</td><td>[{\"item_id\":\"item_971\",\"price_usd\":81.53,\"quantity\":5},{\"item_id\":\"item_317\",\"price_usd\":17.12,\"quantity\":3},{\"item_id\":\"item_914\",\"price_usd\":14.9,\"quantity\":2}]</td></tr><tr><td>event_14</td><td>1.755227997686159E9</td><td>{\"event_timestamp\":\"2025-08-15T03:19:57.686147\",\"event_type\":\"view\",\"items\":[{\"item_id\":\"item_854\",\"price_usd\":38.97,\"quantity\":5},{\"item_id\":\"item_283\",\"price_usd\":21.11,\"quantity\":5}],\"user_id\":\"user_8388\"}</td><td>user_8388</td><td>view</td><td>2025-08-15T03:19:57.686147Z</td><td>[{\"item_id\":\"item_854\",\"price_usd\":38.97,\"quantity\":5},{\"item_id\":\"item_283\",\"price_usd\":21.11,\"quantity\":5}]</td></tr><tr><td>event_15</td><td>1.755227997686174E9</td><td>{\"event_timestamp\":\"2025-08-15T03:19:57.686161\",\"event_type\":\"click\",\"items\":[{\"item_id\":\"item_869\",\"price_usd\":81.54,\"quantity\":4},{\"item_id\":\"item_123\",\"price_usd\":31.61,\"quantity\":3},{\"item_id\":\"item_383\",\"price_usd\":43.9,\"quantity\":4}],\"user_id\":\"user_8887\"}</td><td>user_8887</td><td>click</td><td>2025-08-15T03:19:57.686161Z</td><td>[{\"item_id\":\"item_869\",\"price_usd\":81.54,\"quantity\":4},{\"item_id\":\"item_123\",\"price_usd\":31.61,\"quantity\":3},{\"item_id\":\"item_383\",\"price_usd\":43.9,\"quantity\":4}]</td></tr><tr><td>event_16</td><td>1.755227997686184E9</td><td>{\"event_timestamp\":\"2025-08-15T03:19:57.686176\",\"event_type\":\"click\",\"items\":[{\"item_id\":\"item_146\",\"price_usd\":89.8,\"quantity\":4}],\"user_id\":\"user_2863\"}</td><td>user_2863</td><td>click</td><td>2025-08-15T03:19:57.686176Z</td><td>[{\"item_id\":\"item_146\",\"price_usd\":89.8,\"quantity\":4}]</td></tr><tr><td>event_17</td><td>1.755227997686194E9</td><td>{\"event_timestamp\":\"2025-08-15T03:19:57.686186\",\"event_type\":\"click\",\"items\":[{\"item_id\":\"item_189\",\"price_usd\":25.93,\"quantity\":1}],\"user_id\":\"user_3579\"}</td><td>user_3579</td><td>click</td><td>2025-08-15T03:19:57.686186Z</td><td>[{\"item_id\":\"item_189\",\"price_usd\":25.93,\"quantity\":1}]</td></tr><tr><td>event_18</td><td>1.755227997686204E9</td><td>{\"event_timestamp\":\"2025-08-15T03:19:57.686196\",\"event_type\":\"view\",\"items\":[{\"item_id\":\"item_421\",\"price_usd\":99.8,\"quantity\":3}],\"user_id\":\"user_2725\"}</td><td>user_2725</td><td>view</td><td>2025-08-15T03:19:57.686196Z</td><td>[{\"item_id\":\"item_421\",\"price_usd\":99.8,\"quantity\":3}]</td></tr><tr><td>event_19</td><td>1.755227997686214E9</td><td>{\"event_timestamp\":\"2025-08-15T03:19:57.686206\",\"event_type\":\"click\",\"items\":[{\"item_id\":\"item_734\",\"price_usd\":39.37,\"quantity\":5}],\"user_id\":\"user_4101\"}</td><td>user_4101</td><td>click</td><td>2025-08-15T03:19:57.686206Z</td><td>[{\"item_id\":\"item_734\",\"price_usd\":39.37,\"quantity\":5}]</td></tr><tr><td>event_20</td><td>1.755227997686229E9</td><td>{\"event_timestamp\":\"2025-08-15T03:19:57.686216\",\"event_type\":\"view\",\"items\":[{\"item_id\":\"item_942\",\"price_usd\":54.61,\"quantity\":2},{\"item_id\":\"item_158\",\"price_usd\":93.18,\"quantity\":1},{\"item_id\":\"item_497\",\"price_usd\":90.06,\"quantity\":1}],\"user_id\":\"user_3286\"}</td><td>user_3286</td><td>view</td><td>2025-08-15T03:19:57.686216Z</td><td>[{\"item_id\":\"item_942\",\"price_usd\":54.61,\"quantity\":2},{\"item_id\":\"item_158\",\"price_usd\":93.18,\"quantity\":1},{\"item_id\":\"item_497\",\"price_usd\":90.06,\"quantity\":1}]</td></tr><tr><td>event_21</td><td>1.755227997686239E9</td><td>{\"event_timestamp\":\"2025-08-15T03:19:57.686231\",\"event_type\":\"click\",\"items\":[{\"item_id\":\"item_742\",\"price_usd\":37.79,\"quantity\":2}],\"user_id\":\"user_9239\"}</td><td>user_9239</td><td>click</td><td>2025-08-15T03:19:57.686231Z</td><td>[{\"item_id\":\"item_742\",\"price_usd\":37.79,\"quantity\":2}]</td></tr><tr><td>event_22</td><td>1.755227997686252E9</td><td>{\"event_timestamp\":\"2025-08-15T03:19:57.686241\",\"event_type\":\"purchase\",\"items\":[{\"item_id\":\"item_690\",\"price_usd\":21.18,\"quantity\":1},{\"item_id\":\"item_555\",\"price_usd\":87.79,\"quantity\":5}],\"user_id\":\"user_9636\"}</td><td>user_9636</td><td>purchase</td><td>2025-08-15T03:19:57.686241Z</td><td>[{\"item_id\":\"item_690\",\"price_usd\":21.18,\"quantity\":1},{\"item_id\":\"item_555\",\"price_usd\":87.79,\"quantity\":5}]</td></tr><tr><td>event_23</td><td>1.755227997686262E9</td><td>{\"event_timestamp\":\"2025-08-15T03:19:57.686254\",\"event_type\":\"purchase\",\"items\":[{\"item_id\":\"item_945\",\"price_usd\":16.32,\"quantity\":1}],\"user_id\":\"user_4090\"}</td><td>user_4090</td><td>purchase</td><td>2025-08-15T03:19:57.686254Z</td><td>[{\"item_id\":\"item_945\",\"price_usd\":16.32,\"quantity\":1}]</td></tr><tr><td>event_24</td><td>1.755227997686284E9</td><td>{\"event_timestamp\":\"2025-08-15T03:19:57.686264\",\"event_type\":\"purchase\",\"items\":[{\"item_id\":\"item_731\",\"price_usd\":25.23,\"quantity\":3}],\"user_id\":\"user_9174\"}</td><td>user_9174</td><td>purchase</td><td>2025-08-15T03:19:57.686264Z</td><td>[{\"item_id\":\"item_731\",\"price_usd\":25.23,\"quantity\":3}]</td></tr><tr><td>event_25</td><td>1.755227997686301E9</td><td>{\"event_timestamp\":\"2025-08-15T03:19:57.686287\",\"event_type\":\"click\",\"items\":[{\"item_id\":\"item_843\",\"price_usd\":98.78,\"quantity\":5},{\"item_id\":\"item_250\",\"price_usd\":85.22,\"quantity\":1},{\"item_id\":\"item_683\",\"price_usd\":45.15,\"quantity\":4}],\"user_id\":\"user_5399\"}</td><td>user_5399</td><td>click</td><td>2025-08-15T03:19:57.686287Z</td><td>[{\"item_id\":\"item_843\",\"price_usd\":98.78,\"quantity\":5},{\"item_id\":\"item_250\",\"price_usd\":85.22,\"quantity\":1},{\"item_id\":\"item_683\",\"price_usd\":45.15,\"quantity\":4}]</td></tr><tr><td>event_26</td><td>1.755227997686317E9</td><td>{\"event_timestamp\":\"2025-08-15T03:19:57.686304\",\"event_type\":\"purchase\",\"items\":[{\"item_id\":\"item_222\",\"price_usd\":40.26,\"quantity\":3},{\"item_id\":\"item_733\",\"price_usd\":79.36,\"quantity\":3}],\"user_id\":\"user_5674\"}</td><td>user_5674</td><td>purchase</td><td>2025-08-15T03:19:57.686304Z</td><td>[{\"item_id\":\"item_222\",\"price_usd\":40.26,\"quantity\":3},{\"item_id\":\"item_733\",\"price_usd\":79.36,\"quantity\":3}]</td></tr><tr><td>event_27</td><td>1.75522799768633E9</td><td>{\"event_timestamp\":\"2025-08-15T03:19:57.686319\",\"event_type\":\"click\",\"items\":[{\"item_id\":\"item_561\",\"price_usd\":13.83,\"quantity\":4},{\"item_id\":\"item_599\",\"price_usd\":49.98,\"quantity\":4}],\"user_id\":\"user_2960\"}</td><td>user_2960</td><td>click</td><td>2025-08-15T03:19:57.686319Z</td><td>[{\"item_id\":\"item_561\",\"price_usd\":13.83,\"quantity\":4},{\"item_id\":\"item_599\",\"price_usd\":49.98,\"quantity\":4}]</td></tr><tr><td>event_28</td><td>1.75522799768634E9</td><td>{\"event_timestamp\":\"2025-08-15T03:19:57.686332\",\"event_type\":\"click\",\"items\":[{\"item_id\":\"item_697\",\"price_usd\":32.45,\"quantity\":3}],\"user_id\":\"user_7201\"}</td><td>user_7201</td><td>click</td><td>2025-08-15T03:19:57.686332Z</td><td>[{\"item_id\":\"item_697\",\"price_usd\":32.45,\"quantity\":3}]</td></tr><tr><td>event_29</td><td>1.755227997686352E9</td><td>{\"event_timestamp\":\"2025-08-15T03:19:57.686342\",\"event_type\":\"purchase\",\"items\":[{\"item_id\":\"item_302\",\"price_usd\":53.68,\"quantity\":2},{\"item_id\":\"item_152\",\"price_usd\":17.73,\"quantity\":4}],\"user_id\":\"user_6815\"}</td><td>user_6815</td><td>purchase</td><td>2025-08-15T03:19:57.686342Z</td><td>[{\"item_id\":\"item_302\",\"price_usd\":53.68,\"quantity\":2},{\"item_id\":\"item_152\",\"price_usd\":17.73,\"quantity\":4}]</td></tr><tr><td>event_30</td><td>1.755227997686362E9</td><td>{\"event_timestamp\":\"2025-08-15T03:19:57.686354\",\"event_type\":\"click\",\"items\":[{\"item_id\":\"item_655\",\"price_usd\":58.91,\"quantity\":1}],\"user_id\":\"user_1974\"}</td><td>user_1974</td><td>click</td><td>2025-08-15T03:19:57.686354Z</td><td>[{\"item_id\":\"item_655\",\"price_usd\":58.91,\"quantity\":1}]</td></tr><tr><td>event_31</td><td>1.755227997686375E9</td><td>{\"event_timestamp\":\"2025-08-15T03:19:57.686364\",\"event_type\":\"purchase\",\"items\":[{\"item_id\":\"item_166\",\"price_usd\":68.85,\"quantity\":4},{\"item_id\":\"item_172\",\"price_usd\":15.29,\"quantity\":2}],\"user_id\":\"user_3499\"}</td><td>user_3499</td><td>purchase</td><td>2025-08-15T03:19:57.686364Z</td><td>[{\"item_id\":\"item_166\",\"price_usd\":68.85,\"quantity\":4},{\"item_id\":\"item_172\",\"price_usd\":15.29,\"quantity\":2}]</td></tr><tr><td>event_32</td><td>1.755227997686385E9</td><td>{\"event_timestamp\":\"2025-08-15T03:19:57.686377\",\"event_type\":\"purchase\",\"items\":[{\"item_id\":\"item_827\",\"price_usd\":65.98,\"quantity\":1}],\"user_id\":\"user_5361\"}</td><td>user_5361</td><td>purchase</td><td>2025-08-15T03:19:57.686377Z</td><td>[{\"item_id\":\"item_827\",\"price_usd\":65.98,\"quantity\":1}]</td></tr><tr><td>event_33</td><td>1.755227997686397E9</td><td>{\"event_timestamp\":\"2025-08-15T03:19:57.686386\",\"event_type\":\"purchase\",\"items\":[{\"item_id\":\"item_976\",\"price_usd\":70.98,\"quantity\":1},{\"item_id\":\"item_414\",\"price_usd\":73.81,\"quantity\":2}],\"user_id\":\"user_3776\"}</td><td>user_3776</td><td>purchase</td><td>2025-08-15T03:19:57.686386Z</td><td>[{\"item_id\":\"item_976\",\"price_usd\":70.98,\"quantity\":1},{\"item_id\":\"item_414\",\"price_usd\":73.81,\"quantity\":2}]</td></tr><tr><td>event_34</td><td>1.755227997686409E9</td><td>{\"event_timestamp\":\"2025-08-15T03:19:57.686399\",\"event_type\":\"view\",\"items\":[{\"item_id\":\"item_782\",\"price_usd\":80.74,\"quantity\":3},{\"item_id\":\"item_454\",\"price_usd\":64,\"quantity\":4}],\"user_id\":\"user_6471\"}</td><td>user_6471</td><td>view</td><td>2025-08-15T03:19:57.686399Z</td><td>[{\"item_id\":\"item_782\",\"price_usd\":80.74,\"quantity\":3},{\"item_id\":\"item_454\",\"price_usd\":64,\"quantity\":4}]</td></tr><tr><td>event_35</td><td>1.755227997686419E9</td><td>{\"event_timestamp\":\"2025-08-15T03:19:57.686411\",\"event_type\":\"click\",\"items\":[{\"item_id\":\"item_111\",\"price_usd\":53.97,\"quantity\":5}],\"user_id\":\"user_5991\"}</td><td>user_5991</td><td>click</td><td>2025-08-15T03:19:57.686411Z</td><td>[{\"item_id\":\"item_111\",\"price_usd\":53.97,\"quantity\":5}]</td></tr><tr><td>event_36</td><td>1.755227997686431E9</td><td>{\"event_timestamp\":\"2025-08-15T03:19:57.686421\",\"event_type\":\"purchase\",\"items\":[{\"item_id\":\"item_802\",\"price_usd\":84.51,\"quantity\":1},{\"item_id\":\"item_440\",\"price_usd\":65.09,\"quantity\":4}],\"user_id\":\"user_1100\"}</td><td>user_1100</td><td>purchase</td><td>2025-08-15T03:19:57.686421Z</td><td>[{\"item_id\":\"item_802\",\"price_usd\":84.51,\"quantity\":1},{\"item_id\":\"item_440\",\"price_usd\":65.09,\"quantity\":4}]</td></tr><tr><td>event_37</td><td>1.755227997686446E9</td><td>{\"event_timestamp\":\"2025-08-15T03:19:57.686433\",\"event_type\":\"click\",\"items\":[{\"item_id\":\"item_712\",\"price_usd\":12.47,\"quantity\":1},{\"item_id\":\"item_151\",\"price_usd\":72.82,\"quantity\":3},{\"item_id\":\"item_828\",\"price_usd\":40.84,\"quantity\":5}],\"user_id\":\"user_1784\"}</td><td>user_1784</td><td>click</td><td>2025-08-15T03:19:57.686433Z</td><td>[{\"item_id\":\"item_712\",\"price_usd\":12.47,\"quantity\":1},{\"item_id\":\"item_151\",\"price_usd\":72.82,\"quantity\":3},{\"item_id\":\"item_828\",\"price_usd\":40.84,\"quantity\":5}]</td></tr><tr><td>event_38</td><td>1.755227997686456E9</td><td>{\"event_timestamp\":\"2025-08-15T03:19:57.686448\",\"event_type\":\"click\",\"items\":[{\"item_id\":\"item_452\",\"price_usd\":66.5,\"quantity\":1}],\"user_id\":\"user_4129\"}</td><td>user_4129</td><td>click</td><td>2025-08-15T03:19:57.686448Z</td><td>[{\"item_id\":\"item_452\",\"price_usd\":66.5,\"quantity\":1}]</td></tr><tr><td>event_39</td><td>1.755227997686472E9</td><td>{\"event_timestamp\":\"2025-08-15T03:19:57.686458\",\"event_type\":\"click\",\"items\":[{\"item_id\":\"item_361\",\"price_usd\":52.39,\"quantity\":4},{\"item_id\":\"item_753\",\"price_usd\":34.36,\"quantity\":3},{\"item_id\":\"item_960\",\"price_usd\":43.61,\"quantity\":1}],\"user_id\":\"user_9929\"}</td><td>user_9929</td><td>click</td><td>2025-08-15T03:19:57.686458Z</td><td>[{\"item_id\":\"item_361\",\"price_usd\":52.39,\"quantity\":4},{\"item_id\":\"item_753\",\"price_usd\":34.36,\"quantity\":3},{\"item_id\":\"item_960\",\"price_usd\":43.61,\"quantity\":1}]</td></tr><tr><td>event_40</td><td>1.755227997686484E9</td><td>{\"event_timestamp\":\"2025-08-15T03:19:57.686474\",\"event_type\":\"click\",\"items\":[{\"item_id\":\"item_781\",\"price_usd\":53.1,\"quantity\":1},{\"item_id\":\"item_924\",\"price_usd\":44.7,\"quantity\":4}],\"user_id\":\"user_8081\"}</td><td>user_8081</td><td>click</td><td>2025-08-15T03:19:57.686474Z</td><td>[{\"item_id\":\"item_781\",\"price_usd\":53.1,\"quantity\":1},{\"item_id\":\"item_924\",\"price_usd\":44.7,\"quantity\":4}]</td></tr><tr><td>event_41</td><td>1.7552279976865E9</td><td>{\"event_timestamp\":\"2025-08-15T03:19:57.686486\",\"event_type\":\"purchase\",\"items\":[{\"item_id\":\"item_411\",\"price_usd\":74.71,\"quantity\":4},{\"item_id\":\"item_680\",\"price_usd\":83.59,\"quantity\":4},{\"item_id\":\"item_855\",\"price_usd\":96.59,\"quantity\":1}],\"user_id\":\"user_2969\"}</td><td>user_2969</td><td>purchase</td><td>2025-08-15T03:19:57.686486Z</td><td>[{\"item_id\":\"item_411\",\"price_usd\":74.71,\"quantity\":4},{\"item_id\":\"item_680\",\"price_usd\":83.59,\"quantity\":4},{\"item_id\":\"item_855\",\"price_usd\":96.59,\"quantity\":1}]</td></tr><tr><td>event_42</td><td>1.755227997686512E9</td><td>{\"event_timestamp\":\"2025-08-15T03:19:57.686502\",\"event_type\":\"view\",\"items\":[{\"item_id\":\"item_969\",\"price_usd\":45.34,\"quantity\":3},{\"item_id\":\"item_552\",\"price_usd\":10.21,\"quantity\":2}],\"user_id\":\"user_7266\"}</td><td>user_7266</td><td>view</td><td>2025-08-15T03:19:57.686502Z</td><td>[{\"item_id\":\"item_969\",\"price_usd\":45.34,\"quantity\":3},{\"item_id\":\"item_552\",\"price_usd\":10.21,\"quantity\":2}]</td></tr><tr><td>event_43</td><td>1.755227997686522E9</td><td>{\"event_timestamp\":\"2025-08-15T03:19:57.686514\",\"event_type\":\"purchase\",\"items\":[{\"item_id\":\"item_486\",\"price_usd\":30.23,\"quantity\":4}],\"user_id\":\"user_8649\"}</td><td>user_8649</td><td>purchase</td><td>2025-08-15T03:19:57.686514Z</td><td>[{\"item_id\":\"item_486\",\"price_usd\":30.23,\"quantity\":4}]</td></tr><tr><td>event_44</td><td>1.755227997686538E9</td><td>{\"event_timestamp\":\"2025-08-15T03:19:57.686524\",\"event_type\":\"view\",\"items\":[{\"item_id\":\"item_600\",\"price_usd\":22.83,\"quantity\":1},{\"item_id\":\"item_963\",\"price_usd\":11.23,\"quantity\":2},{\"item_id\":\"item_876\",\"price_usd\":61.68,\"quantity\":1}],\"user_id\":\"user_5234\"}</td><td>user_5234</td><td>view</td><td>2025-08-15T03:19:57.686524Z</td><td>[{\"item_id\":\"item_600\",\"price_usd\":22.83,\"quantity\":1},{\"item_id\":\"item_963\",\"price_usd\":11.23,\"quantity\":2},{\"item_id\":\"item_876\",\"price_usd\":61.68,\"quantity\":1}]</td></tr><tr><td>event_45</td><td>1.755227997686551E9</td><td>{\"event_timestamp\":\"2025-08-15T03:19:57.686540\",\"event_type\":\"purchase\",\"items\":[{\"item_id\":\"item_811\",\"price_usd\":89.26,\"quantity\":1},{\"item_id\":\"item_502\",\"price_usd\":71.06,\"quantity\":3}],\"user_id\":\"user_7555\"}</td><td>user_7555</td><td>purchase</td><td>2025-08-15T03:19:57.68654Z</td><td>[{\"item_id\":\"item_811\",\"price_usd\":89.26,\"quantity\":1},{\"item_id\":\"item_502\",\"price_usd\":71.06,\"quantity\":3}]</td></tr><tr><td>event_46</td><td>1.75522799768658E9</td><td>{\"event_timestamp\":\"2025-08-15T03:19:57.686552\",\"event_type\":\"click\",\"items\":[{\"item_id\":\"item_255\",\"price_usd\":96.51,\"quantity\":2},{\"item_id\":\"item_902\",\"price_usd\":60.75,\"quantity\":1}],\"user_id\":\"user_4400\"}</td><td>user_4400</td><td>click</td><td>2025-08-15T03:19:57.686552Z</td><td>[{\"item_id\":\"item_255\",\"price_usd\":96.51,\"quantity\":2},{\"item_id\":\"item_902\",\"price_usd\":60.75,\"quantity\":1}]</td></tr><tr><td>event_47</td><td>1.755227997686597E9</td><td>{\"event_timestamp\":\"2025-08-15T03:19:57.686582\",\"event_type\":\"click\",\"items\":[{\"item_id\":\"item_989\",\"price_usd\":22.58,\"quantity\":4},{\"item_id\":\"item_336\",\"price_usd\":49.08,\"quantity\":3},{\"item_id\":\"item_553\",\"price_usd\":74.41,\"quantity\":2}],\"user_id\":\"user_3116\"}</td><td>user_3116</td><td>click</td><td>2025-08-15T03:19:57.686582Z</td><td>[{\"item_id\":\"item_989\",\"price_usd\":22.58,\"quantity\":4},{\"item_id\":\"item_336\",\"price_usd\":49.08,\"quantity\":3},{\"item_id\":\"item_553\",\"price_usd\":74.41,\"quantity\":2}]</td></tr><tr><td>event_48</td><td>1.755227997686608E9</td><td>{\"event_timestamp\":\"2025-08-15T03:19:57.686599\",\"event_type\":\"click\",\"items\":[{\"item_id\":\"item_538\",\"price_usd\":63.62,\"quantity\":3}],\"user_id\":\"user_3639\"}</td><td>user_3639</td><td>click</td><td>2025-08-15T03:19:57.686599Z</td><td>[{\"item_id\":\"item_538\",\"price_usd\":63.62,\"quantity\":3}]</td></tr><tr><td>event_49</td><td>1.755227997686618E9</td><td>{\"event_timestamp\":\"2025-08-15T03:19:57.686610\",\"event_type\":\"purchase\",\"items\":[{\"item_id\":\"item_889\",\"price_usd\":42.32,\"quantity\":4}],\"user_id\":\"user_9501\"}</td><td>user_9501</td><td>purchase</td><td>2025-08-15T03:19:57.68661Z</td><td>[{\"item_id\":\"item_889\",\"price_usd\":42.32,\"quantity\":4}]</td></tr><tr><td>event_50</td><td>1.75522799768663E9</td><td>{\"event_timestamp\":\"2025-08-15T03:19:57.686620\",\"event_type\":\"click\",\"items\":[{\"item_id\":\"item_969\",\"price_usd\":25.24,\"quantity\":1},{\"item_id\":\"item_895\",\"price_usd\":90.68,\"quantity\":4}],\"user_id\":\"user_6022\"}</td><td>user_6022</td><td>click</td><td>2025-08-15T03:19:57.68662Z</td><td>[{\"item_id\":\"item_969\",\"price_usd\":25.24,\"quantity\":1},{\"item_id\":\"item_895\",\"price_usd\":90.68,\"quantity\":4}]</td></tr><tr><td>event_51</td><td>1.755227997686641E9</td><td>{\"event_timestamp\":\"2025-08-15T03:19:57.686633\",\"event_type\":\"purchase\",\"items\":[{\"item_id\":\"item_963\",\"price_usd\":32.33,\"quantity\":4}],\"user_id\":\"user_9055\"}</td><td>user_9055</td><td>purchase</td><td>2025-08-15T03:19:57.686633Z</td><td>[{\"item_id\":\"item_963\",\"price_usd\":32.33,\"quantity\":4}]</td></tr><tr><td>event_52</td><td>1.755227997686656E9</td><td>{\"event_timestamp\":\"2025-08-15T03:19:57.686643\",\"event_type\":\"purchase\",\"items\":[{\"item_id\":\"item_287\",\"price_usd\":11.27,\"quantity\":5},{\"item_id\":\"item_676\",\"price_usd\":30.75,\"quantity\":2},{\"item_id\":\"item_182\",\"price_usd\":93.58,\"quantity\":4}],\"user_id\":\"user_7497\"}</td><td>user_7497</td><td>purchase</td><td>2025-08-15T03:19:57.686643Z</td><td>[{\"item_id\":\"item_287\",\"price_usd\":11.27,\"quantity\":5},{\"item_id\":\"item_676\",\"price_usd\":30.75,\"quantity\":2},{\"item_id\":\"item_182\",\"price_usd\":93.58,\"quantity\":4}]</td></tr><tr><td>event_53</td><td>1.755227997686667E9</td><td>{\"event_timestamp\":\"2025-08-15T03:19:57.686659\",\"event_type\":\"click\",\"items\":[{\"item_id\":\"item_163\",\"price_usd\":86.18,\"quantity\":1}],\"user_id\":\"user_5697\"}</td><td>user_5697</td><td>click</td><td>2025-08-15T03:19:57.686659Z</td><td>[{\"item_id\":\"item_163\",\"price_usd\":86.18,\"quantity\":1}]</td></tr><tr><td>event_54</td><td>1.755227997686679E9</td><td>{\"event_timestamp\":\"2025-08-15T03:19:57.686669\",\"event_type\":\"purchase\",\"items\":[{\"item_id\":\"item_161\",\"price_usd\":73.68,\"quantity\":1}],\"user_id\":\"user_1546\"}</td><td>user_1546</td><td>purchase</td><td>2025-08-15T03:19:57.686669Z</td><td>[{\"item_id\":\"item_161\",\"price_usd\":73.68,\"quantity\":1}]</td></tr><tr><td>event_55</td><td>1.75522799768669E9</td><td>{\"event_timestamp\":\"2025-08-15T03:19:57.686682\",\"event_type\":\"click\",\"items\":[{\"item_id\":\"item_301\",\"price_usd\":10.3,\"quantity\":3}],\"user_id\":\"user_3657\"}</td><td>user_3657</td><td>click</td><td>2025-08-15T03:19:57.686682Z</td><td>[{\"item_id\":\"item_301\",\"price_usd\":10.3,\"quantity\":3}]</td></tr><tr><td>event_56</td><td>1.755227997686705E9</td><td>{\"event_timestamp\":\"2025-08-15T03:19:57.686692\",\"event_type\":\"click\",\"items\":[{\"item_id\":\"item_487\",\"price_usd\":16.55,\"quantity\":2},{\"item_id\":\"item_599\",\"price_usd\":21.73,\"quantity\":1},{\"item_id\":\"item_749\",\"price_usd\":40.09,\"quantity\":4}],\"user_id\":\"user_5898\"}</td><td>user_5898</td><td>click</td><td>2025-08-15T03:19:57.686692Z</td><td>[{\"item_id\":\"item_487\",\"price_usd\":16.55,\"quantity\":2},{\"item_id\":\"item_599\",\"price_usd\":21.73,\"quantity\":1},{\"item_id\":\"item_749\",\"price_usd\":40.09,\"quantity\":4}]</td></tr><tr><td>event_57</td><td>1.755227997686721E9</td><td>{\"event_timestamp\":\"2025-08-15T03:19:57.686707\",\"event_type\":\"view\",\"items\":[{\"item_id\":\"item_552\",\"price_usd\":99.55,\"quantity\":5},{\"item_id\":\"item_894\",\"price_usd\":64.35,\"quantity\":3}],\"user_id\":\"user_5656\"}</td><td>user_5656</td><td>view</td><td>2025-08-15T03:19:57.686707Z</td><td>[{\"item_id\":\"item_552\",\"price_usd\":99.55,\"quantity\":5},{\"item_id\":\"item_894\",\"price_usd\":64.35,\"quantity\":3}]</td></tr><tr><td>event_58</td><td>1.755227997686731E9</td><td>{\"event_timestamp\":\"2025-08-15T03:19:57.686722\",\"event_type\":\"view\",\"items\":[{\"item_id\":\"item_974\",\"price_usd\":71.05,\"quantity\":5}],\"user_id\":\"user_4491\"}</td><td>user_4491</td><td>view</td><td>2025-08-15T03:19:57.686722Z</td><td>[{\"item_id\":\"item_974\",\"price_usd\":71.05,\"quantity\":5}]</td></tr><tr><td>event_59</td><td>1.755227997686743E9</td><td>{\"event_timestamp\":\"2025-08-15T03:19:57.686733\",\"event_type\":\"click\",\"items\":[{\"item_id\":\"item_768\",\"price_usd\":48.56,\"quantity\":4},{\"item_id\":\"item_963\",\"price_usd\":26.72,\"quantity\":2}],\"user_id\":\"user_5623\"}</td><td>user_5623</td><td>click</td><td>2025-08-15T03:19:57.686733Z</td><td>[{\"item_id\":\"item_768\",\"price_usd\":48.56,\"quantity\":4},{\"item_id\":\"item_963\",\"price_usd\":26.72,\"quantity\":2}]</td></tr><tr><td>event_60</td><td>1.755227997686756E9</td><td>{\"event_timestamp\":\"2025-08-15T03:19:57.686745\",\"event_type\":\"view\",\"items\":[{\"item_id\":\"item_854\",\"price_usd\":35.85,\"quantity\":3},{\"item_id\":\"item_879\",\"price_usd\":49,\"quantity\":2}],\"user_id\":\"user_7369\"}</td><td>user_7369</td><td>view</td><td>2025-08-15T03:19:57.686745Z</td><td>[{\"item_id\":\"item_854\",\"price_usd\":35.85,\"quantity\":3},{\"item_id\":\"item_879\",\"price_usd\":49,\"quantity\":2}]</td></tr><tr><td>event_61</td><td>1.755227997686768E9</td><td>{\"event_timestamp\":\"2025-08-15T03:19:57.686758\",\"event_type\":\"click\",\"items\":[{\"item_id\":\"item_771\",\"price_usd\":14.31,\"quantity\":1},{\"item_id\":\"item_948\",\"price_usd\":17.05,\"quantity\":1}],\"user_id\":\"user_7046\"}</td><td>user_7046</td><td>click</td><td>2025-08-15T03:19:57.686758Z</td><td>[{\"item_id\":\"item_771\",\"price_usd\":14.31,\"quantity\":1},{\"item_id\":\"item_948\",\"price_usd\":17.05,\"quantity\":1}]</td></tr><tr><td>event_62</td><td>1.75522799768678E9</td><td>{\"event_timestamp\":\"2025-08-15T03:19:57.686770\",\"event_type\":\"click\",\"items\":[{\"item_id\":\"item_902\",\"price_usd\":65.63,\"quantity\":3},{\"item_id\":\"item_942\",\"price_usd\":53.67,\"quantity\":2}],\"user_id\":\"user_8755\"}</td><td>user_8755</td><td>click</td><td>2025-08-15T03:19:57.68677Z</td><td>[{\"item_id\":\"item_902\",\"price_usd\":65.63,\"quantity\":3},{\"item_id\":\"item_942\",\"price_usd\":53.67,\"quantity\":2}]</td></tr><tr><td>event_63</td><td>1.755227997686795E9</td><td>{\"event_timestamp\":\"2025-08-15T03:19:57.686782\",\"event_type\":\"click\",\"items\":[{\"item_id\":\"item_329\",\"price_usd\":35.61,\"quantity\":4},{\"item_id\":\"item_670\",\"price_usd\":53.27,\"quantity\":3},{\"item_id\":\"item_903\",\"price_usd\":21.39,\"quantity\":2}],\"user_id\":\"user_4799\"}</td><td>user_4799</td><td>click</td><td>2025-08-15T03:19:57.686782Z</td><td>[{\"item_id\":\"item_329\",\"price_usd\":35.61,\"quantity\":4},{\"item_id\":\"item_670\",\"price_usd\":53.27,\"quantity\":3},{\"item_id\":\"item_903\",\"price_usd\":21.39,\"quantity\":2}]</td></tr><tr><td>event_64</td><td>1.755227997686805E9</td><td>{\"event_timestamp\":\"2025-08-15T03:19:57.686797\",\"event_type\":\"click\",\"items\":[{\"item_id\":\"item_119\",\"price_usd\":73.13,\"quantity\":5}],\"user_id\":\"user_9729\"}</td><td>user_9729</td><td>click</td><td>2025-08-15T03:19:57.686797Z</td><td>[{\"item_id\":\"item_119\",\"price_usd\":73.13,\"quantity\":5}]</td></tr><tr><td>event_65</td><td>1.755227997686817E9</td><td>{\"event_timestamp\":\"2025-08-15T03:19:57.686807\",\"event_type\":\"view\",\"items\":[{\"item_id\":\"item_328\",\"price_usd\":98.94,\"quantity\":2},{\"item_id\":\"item_469\",\"price_usd\":34.66,\"quantity\":1}],\"user_id\":\"user_8929\"}</td><td>user_8929</td><td>view</td><td>2025-08-15T03:19:57.686807Z</td><td>[{\"item_id\":\"item_328\",\"price_usd\":98.94,\"quantity\":2},{\"item_id\":\"item_469\",\"price_usd\":34.66,\"quantity\":1}]</td></tr><tr><td>event_66</td><td>1.755227997686829E9</td><td>{\"event_timestamp\":\"2025-08-15T03:19:57.686819\",\"event_type\":\"view\",\"items\":[{\"item_id\":\"item_578\",\"price_usd\":86.46,\"quantity\":5},{\"item_id\":\"item_797\",\"price_usd\":49.82,\"quantity\":2}],\"user_id\":\"user_2968\"}</td><td>user_2968</td><td>view</td><td>2025-08-15T03:19:57.686819Z</td><td>[{\"item_id\":\"item_578\",\"price_usd\":86.46,\"quantity\":5},{\"item_id\":\"item_797\",\"price_usd\":49.82,\"quantity\":2}]</td></tr><tr><td>event_67</td><td>1.755227997686839E9</td><td>{\"event_timestamp\":\"2025-08-15T03:19:57.686831\",\"event_type\":\"view\",\"items\":[{\"item_id\":\"item_308\",\"price_usd\":84.67,\"quantity\":2}],\"user_id\":\"user_3885\"}</td><td>user_3885</td><td>view</td><td>2025-08-15T03:19:57.686831Z</td><td>[{\"item_id\":\"item_308\",\"price_usd\":84.67,\"quantity\":2}]</td></tr><tr><td>event_68</td><td>1.755227997686854E9</td><td>{\"event_timestamp\":\"2025-08-15T03:19:57.686841\",\"event_type\":\"view\",\"items\":[{\"item_id\":\"item_962\",\"price_usd\":20.22,\"quantity\":5},{\"item_id\":\"item_934\",\"price_usd\":68.54,\"quantity\":2},{\"item_id\":\"item_785\",\"price_usd\":31.5,\"quantity\":4}],\"user_id\":\"user_8239\"}</td><td>user_8239</td><td>view</td><td>2025-08-15T03:19:57.686841Z</td><td>[{\"item_id\":\"item_962\",\"price_usd\":20.22,\"quantity\":5},{\"item_id\":\"item_934\",\"price_usd\":68.54,\"quantity\":2},{\"item_id\":\"item_785\",\"price_usd\":31.5,\"quantity\":4}]</td></tr><tr><td>event_69</td><td>1.755227997686864E9</td><td>{\"event_timestamp\":\"2025-08-15T03:19:57.686856\",\"event_type\":\"click\",\"items\":[{\"item_id\":\"item_985\",\"price_usd\":36.59,\"quantity\":1}],\"user_id\":\"user_3903\"}</td><td>user_3903</td><td>click</td><td>2025-08-15T03:19:57.686856Z</td><td>[{\"item_id\":\"item_985\",\"price_usd\":36.59,\"quantity\":1}]</td></tr><tr><td>event_70</td><td>1.755227997686874E9</td><td>{\"event_timestamp\":\"2025-08-15T03:19:57.686866\",\"event_type\":\"purchase\",\"items\":[{\"item_id\":\"item_194\",\"price_usd\":39.27,\"quantity\":3}],\"user_id\":\"user_9357\"}</td><td>user_9357</td><td>purchase</td><td>2025-08-15T03:19:57.686866Z</td><td>[{\"item_id\":\"item_194\",\"price_usd\":39.27,\"quantity\":3}]</td></tr><tr><td>event_71</td><td>1.755227997686889E9</td><td>{\"event_timestamp\":\"2025-08-15T03:19:57.686876\",\"event_type\":\"click\",\"items\":[{\"item_id\":\"item_484\",\"price_usd\":75.07,\"quantity\":2},{\"item_id\":\"item_602\",\"price_usd\":46.28,\"quantity\":5},{\"item_id\":\"item_320\",\"price_usd\":78.11,\"quantity\":1}],\"user_id\":\"user_6415\"}</td><td>user_6415</td><td>click</td><td>2025-08-15T03:19:57.686876Z</td><td>[{\"item_id\":\"item_484\",\"price_usd\":75.07,\"quantity\":2},{\"item_id\":\"item_602\",\"price_usd\":46.28,\"quantity\":5},{\"item_id\":\"item_320\",\"price_usd\":78.11,\"quantity\":1}]</td></tr><tr><td>event_72</td><td>1.755227997686899E9</td><td>{\"event_timestamp\":\"2025-08-15T03:19:57.686891\",\"event_type\":\"view\",\"items\":[{\"item_id\":\"item_797\",\"price_usd\":38.18,\"quantity\":3}],\"user_id\":\"user_7646\"}</td><td>user_7646</td><td>view</td><td>2025-08-15T03:19:57.686891Z</td><td>[{\"item_id\":\"item_797\",\"price_usd\":38.18,\"quantity\":3}]</td></tr><tr><td>event_73</td><td>1.755227997686909E9</td><td>{\"event_timestamp\":\"2025-08-15T03:19:57.686901\",\"event_type\":\"click\",\"items\":[{\"item_id\":\"item_407\",\"price_usd\":39.44,\"quantity\":1}],\"user_id\":\"user_5894\"}</td><td>user_5894</td><td>click</td><td>2025-08-15T03:19:57.686901Z</td><td>[{\"item_id\":\"item_407\",\"price_usd\":39.44,\"quantity\":1}]</td></tr><tr><td>event_74</td><td>1.755227997686921E9</td><td>{\"event_timestamp\":\"2025-08-15T03:19:57.686911\",\"event_type\":\"view\",\"items\":[{\"item_id\":\"item_419\",\"price_usd\":30.88,\"quantity\":1},{\"item_id\":\"item_746\",\"price_usd\":63.19,\"quantity\":4}],\"user_id\":\"user_5051\"}</td><td>user_5051</td><td>view</td><td>2025-08-15T03:19:57.686911Z</td><td>[{\"item_id\":\"item_419\",\"price_usd\":30.88,\"quantity\":1},{\"item_id\":\"item_746\",\"price_usd\":63.19,\"quantity\":4}]</td></tr><tr><td>event_75</td><td>1.755227997686931E9</td><td>{\"event_timestamp\":\"2025-08-15T03:19:57.686923\",\"event_type\":\"view\",\"items\":[{\"item_id\":\"item_948\",\"price_usd\":91.13,\"quantity\":1}],\"user_id\":\"user_5908\"}</td><td>user_5908</td><td>view</td><td>2025-08-15T03:19:57.686923Z</td><td>[{\"item_id\":\"item_948\",\"price_usd\":91.13,\"quantity\":1}]</td></tr><tr><td>event_76</td><td>1.755227997686946E9</td><td>{\"event_timestamp\":\"2025-08-15T03:19:57.686933\",\"event_type\":\"view\",\"items\":[{\"item_id\":\"item_782\",\"price_usd\":98.62,\"quantity\":3},{\"item_id\":\"item_502\",\"price_usd\":54.5,\"quantity\":4},{\"item_id\":\"item_478\",\"price_usd\":28.25,\"quantity\":3}],\"user_id\":\"user_1183\"}</td><td>user_1183</td><td>view</td><td>2025-08-15T03:19:57.686933Z</td><td>[{\"item_id\":\"item_782\",\"price_usd\":98.62,\"quantity\":3},{\"item_id\":\"item_502\",\"price_usd\":54.5,\"quantity\":4},{\"item_id\":\"item_478\",\"price_usd\":28.25,\"quantity\":3}]</td></tr><tr><td>event_77</td><td>1.755227997686967E9</td><td>{\"event_timestamp\":\"2025-08-15T03:19:57.686948\",\"event_type\":\"click\",\"items\":[{\"item_id\":\"item_505\",\"price_usd\":79.27,\"quantity\":3},{\"item_id\":\"item_190\",\"price_usd\":47.74,\"quantity\":1}],\"user_id\":\"user_6824\"}</td><td>user_6824</td><td>click</td><td>2025-08-15T03:19:57.686948Z</td><td>[{\"item_id\":\"item_505\",\"price_usd\":79.27,\"quantity\":3},{\"item_id\":\"item_190\",\"price_usd\":47.74,\"quantity\":1}]</td></tr><tr><td>event_78</td><td>1.755227997686991E9</td><td>{\"event_timestamp\":\"2025-08-15T03:19:57.686971\",\"event_type\":\"click\",\"items\":[{\"item_id\":\"item_110\",\"price_usd\":64.8,\"quantity\":1},{\"item_id\":\"item_483\",\"price_usd\":23.64,\"quantity\":1},{\"item_id\":\"item_326\",\"price_usd\":90.86,\"quantity\":4}],\"user_id\":\"user_8704\"}</td><td>user_8704</td><td>click</td><td>2025-08-15T03:19:57.686971Z</td><td>[{\"item_id\":\"item_110\",\"price_usd\":64.8,\"quantity\":1},{\"item_id\":\"item_483\",\"price_usd\":23.64,\"quantity\":1},{\"item_id\":\"item_326\",\"price_usd\":90.86,\"quantity\":4}]</td></tr><tr><td>event_79</td><td>1.755227997687007E9</td><td>{\"event_timestamp\":\"2025-08-15T03:19:57.686994\",\"event_type\":\"view\",\"items\":[{\"item_id\":\"item_731\",\"price_usd\":61.26,\"quantity\":4},{\"item_id\":\"item_283\",\"price_usd\":17.21,\"quantity\":4},{\"item_id\":\"item_566\",\"price_usd\":98.96,\"quantity\":1}],\"user_id\":\"user_2039\"}</td><td>user_2039</td><td>view</td><td>2025-08-15T03:19:57.686994Z</td><td>[{\"item_id\":\"item_731\",\"price_usd\":61.26,\"quantity\":4},{\"item_id\":\"item_283\",\"price_usd\":17.21,\"quantity\":4},{\"item_id\":\"item_566\",\"price_usd\":98.96,\"quantity\":1}]</td></tr><tr><td>event_80</td><td>1.755227997687017E9</td><td>{\"event_timestamp\":\"2025-08-15T03:19:57.687009\",\"event_type\":\"click\",\"items\":[{\"item_id\":\"item_727\",\"price_usd\":73.94,\"quantity\":2}],\"user_id\":\"user_7406\"}</td><td>user_7406</td><td>click</td><td>2025-08-15T03:19:57.687009Z</td><td>[{\"item_id\":\"item_727\",\"price_usd\":73.94,\"quantity\":2}]</td></tr><tr><td>event_81</td><td>1.755227997687026E9</td><td>{\"event_timestamp\":\"2025-08-15T03:19:57.687019\",\"event_type\":\"view\",\"items\":[{\"item_id\":\"item_267\",\"price_usd\":70.7,\"quantity\":2}],\"user_id\":\"user_3398\"}</td><td>user_3398</td><td>view</td><td>2025-08-15T03:19:57.687019Z</td><td>[{\"item_id\":\"item_267\",\"price_usd\":70.7,\"quantity\":2}]</td></tr><tr><td>event_82</td><td>1.755227997687042E9</td><td>{\"event_timestamp\":\"2025-08-15T03:19:57.687028\",\"event_type\":\"purchase\",\"items\":[{\"item_id\":\"item_171\",\"price_usd\":32.07,\"quantity\":1},{\"item_id\":\"item_375\",\"price_usd\":28.9,\"quantity\":1},{\"item_id\":\"item_524\",\"price_usd\":86.15,\"quantity\":5}],\"user_id\":\"user_6606\"}</td><td>user_6606</td><td>purchase</td><td>2025-08-15T03:19:57.687028Z</td><td>[{\"item_id\":\"item_171\",\"price_usd\":32.07,\"quantity\":1},{\"item_id\":\"item_375\",\"price_usd\":28.9,\"quantity\":1},{\"item_id\":\"item_524\",\"price_usd\":86.15,\"quantity\":5}]</td></tr><tr><td>event_83</td><td>1.755227997687054E9</td><td>{\"event_timestamp\":\"2025-08-15T03:19:57.687044\",\"event_type\":\"purchase\",\"items\":[{\"item_id\":\"item_627\",\"price_usd\":78.63,\"quantity\":3},{\"item_id\":\"item_659\",\"price_usd\":13.53,\"quantity\":4}],\"user_id\":\"user_3868\"}</td><td>user_3868</td><td>purchase</td><td>2025-08-15T03:19:57.687044Z</td><td>[{\"item_id\":\"item_627\",\"price_usd\":78.63,\"quantity\":3},{\"item_id\":\"item_659\",\"price_usd\":13.53,\"quantity\":4}]</td></tr><tr><td>event_84</td><td>1.75522799768707E9</td><td>{\"event_timestamp\":\"2025-08-15T03:19:57.687056\",\"event_type\":\"view\",\"items\":[{\"item_id\":\"item_928\",\"price_usd\":40.89,\"quantity\":5},{\"item_id\":\"item_271\",\"price_usd\":27.28,\"quantity\":5},{\"item_id\":\"item_487\",\"price_usd\":86.38,\"quantity\":2}],\"user_id\":\"user_1162\"}</td><td>user_1162</td><td>view</td><td>2025-08-15T03:19:57.687056Z</td><td>[{\"item_id\":\"item_928\",\"price_usd\":40.89,\"quantity\":5},{\"item_id\":\"item_271\",\"price_usd\":27.28,\"quantity\":5},{\"item_id\":\"item_487\",\"price_usd\":86.38,\"quantity\":2}]</td></tr><tr><td>event_85</td><td>1.755227997687082E9</td><td>{\"event_timestamp\":\"2025-08-15T03:19:57.687071\",\"event_type\":\"purchase\",\"items\":[{\"item_id\":\"item_183\",\"price_usd\":90.35,\"quantity\":1},{\"item_id\":\"item_598\",\"price_usd\":26.83,\"quantity\":3}],\"user_id\":\"user_4588\"}</td><td>user_4588</td><td>purchase</td><td>2025-08-15T03:19:57.687071Z</td><td>[{\"item_id\":\"item_183\",\"price_usd\":90.35,\"quantity\":1},{\"item_id\":\"item_598\",\"price_usd\":26.83,\"quantity\":3}]</td></tr><tr><td>event_86</td><td>1.755227997687091E9</td><td>{\"event_timestamp\":\"2025-08-15T03:19:57.687084\",\"event_type\":\"view\",\"items\":[{\"item_id\":\"item_713\",\"price_usd\":18.61,\"quantity\":4}],\"user_id\":\"user_9292\"}</td><td>user_9292</td><td>view</td><td>2025-08-15T03:19:57.687084Z</td><td>[{\"item_id\":\"item_713\",\"price_usd\":18.61,\"quantity\":4}]</td></tr><tr><td>event_87</td><td>1.755227997687107E9</td><td>{\"event_timestamp\":\"2025-08-15T03:19:57.687093\",\"event_type\":\"view\",\"items\":[{\"item_id\":\"item_305\",\"price_usd\":88.25,\"quantity\":5},{\"item_id\":\"item_547\",\"price_usd\":86.75,\"quantity\":2},{\"item_id\":\"item_303\",\"price_usd\":15,\"quantity\":1}],\"user_id\":\"user_9409\"}</td><td>user_9409</td><td>view</td><td>2025-08-15T03:19:57.687093Z</td><td>[{\"item_id\":\"item_305\",\"price_usd\":88.25,\"quantity\":5},{\"item_id\":\"item_547\",\"price_usd\":86.75,\"quantity\":2},{\"item_id\":\"item_303\",\"price_usd\":15,\"quantity\":1}]</td></tr><tr><td>event_88</td><td>1.75522799768712E9</td><td>{\"event_timestamp\":\"2025-08-15T03:19:57.687109\",\"event_type\":\"click\",\"items\":[{\"item_id\":\"item_194\",\"price_usd\":71.43,\"quantity\":2}],\"user_id\":\"user_6372\"}</td><td>user_6372</td><td>click</td><td>2025-08-15T03:19:57.687109Z</td><td>[{\"item_id\":\"item_194\",\"price_usd\":71.43,\"quantity\":2}]</td></tr><tr><td>event_89</td><td>1.755227997687136E9</td><td>{\"event_timestamp\":\"2025-08-15T03:19:57.687122\",\"event_type\":\"purchase\",\"items\":[{\"item_id\":\"item_262\",\"price_usd\":75.2,\"quantity\":5},{\"item_id\":\"item_334\",\"price_usd\":14.27,\"quantity\":1}],\"user_id\":\"user_2131\"}</td><td>user_2131</td><td>purchase</td><td>2025-08-15T03:19:57.687122Z</td><td>[{\"item_id\":\"item_262\",\"price_usd\":75.2,\"quantity\":5},{\"item_id\":\"item_334\",\"price_usd\":14.27,\"quantity\":1}]</td></tr><tr><td>event_90</td><td>1.755227997687149E9</td><td>{\"event_timestamp\":\"2025-08-15T03:19:57.687138\",\"event_type\":\"purchase\",\"items\":[{\"item_id\":\"item_626\",\"price_usd\":66.46,\"quantity\":1},{\"item_id\":\"item_241\",\"price_usd\":83.55,\"quantity\":5}],\"user_id\":\"user_6310\"}</td><td>user_6310</td><td>purchase</td><td>2025-08-15T03:19:57.687138Z</td><td>[{\"item_id\":\"item_626\",\"price_usd\":66.46,\"quantity\":1},{\"item_id\":\"item_241\",\"price_usd\":83.55,\"quantity\":5}]</td></tr><tr><td>event_91</td><td>1.755227997687166E9</td><td>{\"event_timestamp\":\"2025-08-15T03:19:57.687152\",\"event_type\":\"click\",\"items\":[{\"item_id\":\"item_369\",\"price_usd\":19.64,\"quantity\":5}],\"user_id\":\"user_6121\"}</td><td>user_6121</td><td>click</td><td>2025-08-15T03:19:57.687152Z</td><td>[{\"item_id\":\"item_369\",\"price_usd\":19.64,\"quantity\":5}]</td></tr><tr><td>event_92</td><td>1.755227997687184E9</td><td>{\"event_timestamp\":\"2025-08-15T03:19:57.687170\",\"event_type\":\"click\",\"items\":[{\"item_id\":\"item_670\",\"price_usd\":35.58,\"quantity\":2},{\"item_id\":\"item_771\",\"price_usd\":48.68,\"quantity\":5},{\"item_id\":\"item_239\",\"price_usd\":19.87,\"quantity\":4}],\"user_id\":\"user_4765\"}</td><td>user_4765</td><td>click</td><td>2025-08-15T03:19:57.68717Z</td><td>[{\"item_id\":\"item_670\",\"price_usd\":35.58,\"quantity\":2},{\"item_id\":\"item_771\",\"price_usd\":48.68,\"quantity\":5},{\"item_id\":\"item_239\",\"price_usd\":19.87,\"quantity\":4}]</td></tr><tr><td>event_93</td><td>1.755227997687209E9</td><td>{\"event_timestamp\":\"2025-08-15T03:19:57.687187\",\"event_type\":\"click\",\"items\":[{\"item_id\":\"item_919\",\"price_usd\":99.95,\"quantity\":2},{\"item_id\":\"item_150\",\"price_usd\":51.49,\"quantity\":4},{\"item_id\":\"item_357\",\"price_usd\":74.19,\"quantity\":3}],\"user_id\":\"user_1200\"}</td><td>user_1200</td><td>click</td><td>2025-08-15T03:19:57.687187Z</td><td>[{\"item_id\":\"item_919\",\"price_usd\":99.95,\"quantity\":2},{\"item_id\":\"item_150\",\"price_usd\":51.49,\"quantity\":4},{\"item_id\":\"item_357\",\"price_usd\":74.19,\"quantity\":3}]</td></tr><tr><td>event_94</td><td>1.755227997687225E9</td><td>{\"event_timestamp\":\"2025-08-15T03:19:57.687211\",\"event_type\":\"view\",\"items\":[{\"item_id\":\"item_338\",\"price_usd\":92.48,\"quantity\":4},{\"item_id\":\"item_470\",\"price_usd\":30.03,\"quantity\":5},{\"item_id\":\"item_532\",\"price_usd\":32.93,\"quantity\":5}],\"user_id\":\"user_4623\"}</td><td>user_4623</td><td>view</td><td>2025-08-15T03:19:57.687211Z</td><td>[{\"item_id\":\"item_338\",\"price_usd\":92.48,\"quantity\":4},{\"item_id\":\"item_470\",\"price_usd\":30.03,\"quantity\":5},{\"item_id\":\"item_532\",\"price_usd\":32.93,\"quantity\":5}]</td></tr><tr><td>event_95</td><td>1.755227997687235E9</td><td>{\"event_timestamp\":\"2025-08-15T03:19:57.687227\",\"event_type\":\"click\",\"items\":[{\"item_id\":\"item_499\",\"price_usd\":49.65,\"quantity\":1}],\"user_id\":\"user_7742\"}</td><td>user_7742</td><td>click</td><td>2025-08-15T03:19:57.687227Z</td><td>[{\"item_id\":\"item_499\",\"price_usd\":49.65,\"quantity\":1}]</td></tr><tr><td>event_96</td><td>1.755227997687268E9</td><td>{\"event_timestamp\":\"2025-08-15T03:19:57.687237\",\"event_type\":\"view\",\"items\":[{\"item_id\":\"item_942\",\"price_usd\":23.07,\"quantity\":1},{\"item_id\":\"item_593\",\"price_usd\":52.46,\"quantity\":3},{\"item_id\":\"item_823\",\"price_usd\":61.8,\"quantity\":5}],\"user_id\":\"user_3506\"}</td><td>user_3506</td><td>view</td><td>2025-08-15T03:19:57.687237Z</td><td>[{\"item_id\":\"item_942\",\"price_usd\":23.07,\"quantity\":1},{\"item_id\":\"item_593\",\"price_usd\":52.46,\"quantity\":3},{\"item_id\":\"item_823\",\"price_usd\":61.8,\"quantity\":5}]</td></tr><tr><td>event_97</td><td>1.755227997687279E9</td><td>{\"event_timestamp\":\"2025-08-15T03:19:57.687271\",\"event_type\":\"click\",\"items\":[{\"item_id\":\"item_206\",\"price_usd\":92.02,\"quantity\":1}],\"user_id\":\"user_5102\"}</td><td>user_5102</td><td>click</td><td>2025-08-15T03:19:57.687271Z</td><td>[{\"item_id\":\"item_206\",\"price_usd\":92.02,\"quantity\":1}]</td></tr><tr><td>event_98</td><td>1.755227997687288E9</td><td>{\"event_timestamp\":\"2025-08-15T03:19:57.687280\",\"event_type\":\"view\",\"items\":[{\"item_id\":\"item_771\",\"price_usd\":26.6,\"quantity\":5}],\"user_id\":\"user_2751\"}</td><td>user_2751</td><td>view</td><td>2025-08-15T03:19:57.68728Z</td><td>[{\"item_id\":\"item_771\",\"price_usd\":26.6,\"quantity\":5}]</td></tr><tr><td>event_99</td><td>1.755227997687304E9</td><td>{\"event_timestamp\":\"2025-08-15T03:19:57.687290\",\"event_type\":\"view\",\"items\":[{\"item_id\":\"item_762\",\"price_usd\":91.88,\"quantity\":3},{\"item_id\":\"item_766\",\"price_usd\":86.85,\"quantity\":5},{\"item_id\":\"item_211\",\"price_usd\":10.97,\"quantity\":4}],\"user_id\":\"user_5420\"}</td><td>user_5420</td><td>view</td><td>2025-08-15T03:19:57.68729Z</td><td>[{\"item_id\":\"item_762\",\"price_usd\":91.88,\"quantity\":3},{\"item_id\":\"item_766\",\"price_usd\":86.85,\"quantity\":5},{\"item_id\":\"item_211\",\"price_usd\":10.97,\"quantity\":4}]</td></tr></tbody></table></div>"
      ]
     },
     "metadata": {
      "application/vnd.databricks.v1+output": {
       "addedWidgets": {},
       "aggData": [],
       "aggError": "",
       "aggOverflow": false,
       "aggSchema": [],
       "aggSeriesLimitReached": false,
       "aggType": "",
       "arguments": {},
       "columnCustomDisplayInfos": {},
       "data": [
        [
         "event_0",
         1.755227997685932E9,
         "{\"event_timestamp\":\"2025-08-15T03:19:57.685885\",\"event_type\":\"view\",\"items\":[{\"item_id\":\"item_175\",\"price_usd\":26.34,\"quantity\":3},{\"item_id\":\"item_308\",\"price_usd\":38.42,\"quantity\":2}],\"user_id\":\"user_9442\"}",
         "user_9442",
         "view",
         "2025-08-15T03:19:57.685885Z",
         "[{\"item_id\":\"item_175\",\"price_usd\":26.34,\"quantity\":3},{\"item_id\":\"item_308\",\"price_usd\":38.42,\"quantity\":2}]"
        ],
        [
         "event_1",
         1.755227997685954E9,
         "{\"event_timestamp\":\"2025-08-15T03:19:57.685938\",\"event_type\":\"purchase\",\"items\":[{\"item_id\":\"item_905\",\"price_usd\":13.04,\"quantity\":1}],\"user_id\":\"user_6202\"}",
         "user_6202",
         "purchase",
         "2025-08-15T03:19:57.685938Z",
         "[{\"item_id\":\"item_905\",\"price_usd\":13.04,\"quantity\":1}]"
        ],
        [
         "event_2",
         1.75522799768597E9,
         "{\"event_timestamp\":\"2025-08-15T03:19:57.685957\",\"event_type\":\"click\",\"items\":[{\"item_id\":\"item_566\",\"price_usd\":51.63,\"quantity\":1},{\"item_id\":\"item_310\",\"price_usd\":16.99,\"quantity\":2}],\"user_id\":\"user_1854\"}",
         "user_1854",
         "click",
         "2025-08-15T03:19:57.685957Z",
         "[{\"item_id\":\"item_566\",\"price_usd\":51.63,\"quantity\":1},{\"item_id\":\"item_310\",\"price_usd\":16.99,\"quantity\":2}]"
        ],
        [
         "event_3",
         1.755227997685985E9,
         "{\"event_timestamp\":\"2025-08-15T03:19:57.685973\",\"event_type\":\"click\",\"items\":[{\"item_id\":\"item_566\",\"price_usd\":37.03,\"quantity\":3},{\"item_id\":\"item_436\",\"price_usd\":85.36,\"quantity\":5}],\"user_id\":\"user_9430\"}",
         "user_9430",
         "click",
         "2025-08-15T03:19:57.685973Z",
         "[{\"item_id\":\"item_566\",\"price_usd\":37.03,\"quantity\":3},{\"item_id\":\"item_436\",\"price_usd\":85.36,\"quantity\":5}]"
        ],
        [
         "event_4",
         1.755227997685996E9,
         "{\"event_timestamp\":\"2025-08-15T03:19:57.685987\",\"event_type\":\"purchase\",\"items\":[{\"item_id\":\"item_366\",\"price_usd\":46.09,\"quantity\":1}],\"user_id\":\"user_7786\"}",
         "user_7786",
         "purchase",
         "2025-08-15T03:19:57.685987Z",
         "[{\"item_id\":\"item_366\",\"price_usd\":46.09,\"quantity\":1}]"
        ],
        [
         "event_5",
         1.755227997686006E9,
         "{\"event_timestamp\":\"2025-08-15T03:19:57.685998\",\"event_type\":\"click\",\"items\":[{\"item_id\":\"item_460\",\"price_usd\":25.93,\"quantity\":4}],\"user_id\":\"user_4175\"}",
         "user_4175",
         "click",
         "2025-08-15T03:19:57.685998Z",
         "[{\"item_id\":\"item_460\",\"price_usd\":25.93,\"quantity\":4}]"
        ],
        [
         "event_6",
         1.755227997686019E9,
         "{\"event_timestamp\":\"2025-08-15T03:19:57.686008\",\"event_type\":\"click\",\"items\":[{\"item_id\":\"item_366\",\"price_usd\":57.43,\"quantity\":4},{\"item_id\":\"item_132\",\"price_usd\":64.54,\"quantity\":5}],\"user_id\":\"user_2159\"}",
         "user_2159",
         "click",
         "2025-08-15T03:19:57.686008Z",
         "[{\"item_id\":\"item_366\",\"price_usd\":57.43,\"quantity\":4},{\"item_id\":\"item_132\",\"price_usd\":64.54,\"quantity\":5}]"
        ],
        [
         "event_7",
         1.755227997686036E9,
         "{\"event_timestamp\":\"2025-08-15T03:19:57.686021\",\"event_type\":\"click\",\"items\":[{\"item_id\":\"item_894\",\"price_usd\":48.07,\"quantity\":2},{\"item_id\":\"item_726\",\"price_usd\":38.27,\"quantity\":4},{\"item_id\":\"item_779\",\"price_usd\":83.15,\"quantity\":1}],\"user_id\":\"user_7386\"}",
         "user_7386",
         "click",
         "2025-08-15T03:19:57.686021Z",
         "[{\"item_id\":\"item_894\",\"price_usd\":48.07,\"quantity\":2},{\"item_id\":\"item_726\",\"price_usd\":38.27,\"quantity\":4},{\"item_id\":\"item_779\",\"price_usd\":83.15,\"quantity\":1}]"
        ],
        [
         "event_8",
         1.755227997686053E9,
         "{\"event_timestamp\":\"2025-08-15T03:19:57.686039\",\"event_type\":\"click\",\"items\":[{\"item_id\":\"item_683\",\"price_usd\":23.01,\"quantity\":5},{\"item_id\":\"item_527\",\"price_usd\":23.25,\"quantity\":1},{\"item_id\":\"item_760\",\"price_usd\":44.65,\"quantity\":4}],\"user_id\":\"user_8857\"}",
         "user_8857",
         "click",
         "2025-08-15T03:19:57.686039Z",
         "[{\"item_id\":\"item_683\",\"price_usd\":23.01,\"quantity\":5},{\"item_id\":\"item_527\",\"price_usd\":23.25,\"quantity\":1},{\"item_id\":\"item_760\",\"price_usd\":44.65,\"quantity\":4}]"
        ],
        [
         "event_9",
         1.755227997686064E9,
         "{\"event_timestamp\":\"2025-08-15T03:19:57.686055\",\"event_type\":\"view\",\"items\":[{\"item_id\":\"item_157\",\"price_usd\":67.91,\"quantity\":2}],\"user_id\":\"user_9819\"}",
         "user_9819",
         "view",
         "2025-08-15T03:19:57.686055Z",
         "[{\"item_id\":\"item_157\",\"price_usd\":67.91,\"quantity\":2}]"
        ],
        [
         "event_10",
         1.755227997686074E9,
         "{\"event_timestamp\":\"2025-08-15T03:19:57.686066\",\"event_type\":\"view\",\"items\":[{\"item_id\":\"item_676\",\"price_usd\":84.02,\"quantity\":1}],\"user_id\":\"user_8581\"}",
         "user_8581",
         "view",
         "2025-08-15T03:19:57.686066Z",
         "[{\"item_id\":\"item_676\",\"price_usd\":84.02,\"quantity\":1}]"
        ],
        [
         "event_11",
         1.755227997686098E9,
         "{\"event_timestamp\":\"2025-08-15T03:19:57.686076\",\"event_type\":\"view\",\"items\":[{\"item_id\":\"item_114\",\"price_usd\":93.67,\"quantity\":4},{\"item_id\":\"item_942\",\"price_usd\":90.96,\"quantity\":2},{\"item_id\":\"item_729\",\"price_usd\":90.6,\"quantity\":3}],\"user_id\":\"user_2870\"}",
         "user_2870",
         "view",
         "2025-08-15T03:19:57.686076Z",
         "[{\"item_id\":\"item_114\",\"price_usd\":93.67,\"quantity\":4},{\"item_id\":\"item_942\",\"price_usd\":90.96,\"quantity\":2},{\"item_id\":\"item_729\",\"price_usd\":90.6,\"quantity\":3}]"
        ],
        [
         "event_12",
         1.75522799768612E9,
         "{\"event_timestamp\":\"2025-08-15T03:19:57.686101\",\"event_type\":\"view\",\"items\":[{\"item_id\":\"item_884\",\"price_usd\":35.3,\"quantity\":1},{\"item_id\":\"item_199\",\"price_usd\":90.97,\"quantity\":5}],\"user_id\":\"user_8649\"}",
         "user_8649",
         "view",
         "2025-08-15T03:19:57.686101Z",
         "[{\"item_id\":\"item_884\",\"price_usd\":35.3,\"quantity\":1},{\"item_id\":\"item_199\",\"price_usd\":90.97,\"quantity\":5}]"
        ],
        [
         "event_13",
         1.755227997686145E9,
         "{\"event_timestamp\":\"2025-08-15T03:19:57.686123\",\"event_type\":\"view\",\"items\":[{\"item_id\":\"item_971\",\"price_usd\":81.53,\"quantity\":5},{\"item_id\":\"item_317\",\"price_usd\":17.12,\"quantity\":3},{\"item_id\":\"item_914\",\"price_usd\":14.9,\"quantity\":2}],\"user_id\":\"user_4362\"}",
         "user_4362",
         "view",
         "2025-08-15T03:19:57.686123Z",
         "[{\"item_id\":\"item_971\",\"price_usd\":81.53,\"quantity\":5},{\"item_id\":\"item_317\",\"price_usd\":17.12,\"quantity\":3},{\"item_id\":\"item_914\",\"price_usd\":14.9,\"quantity\":2}]"
        ],
        [
         "event_14",
         1.755227997686159E9,
         "{\"event_timestamp\":\"2025-08-15T03:19:57.686147\",\"event_type\":\"view\",\"items\":[{\"item_id\":\"item_854\",\"price_usd\":38.97,\"quantity\":5},{\"item_id\":\"item_283\",\"price_usd\":21.11,\"quantity\":5}],\"user_id\":\"user_8388\"}",
         "user_8388",
         "view",
         "2025-08-15T03:19:57.686147Z",
         "[{\"item_id\":\"item_854\",\"price_usd\":38.97,\"quantity\":5},{\"item_id\":\"item_283\",\"price_usd\":21.11,\"quantity\":5}]"
        ],
        [
         "event_15",
         1.755227997686174E9,
         "{\"event_timestamp\":\"2025-08-15T03:19:57.686161\",\"event_type\":\"click\",\"items\":[{\"item_id\":\"item_869\",\"price_usd\":81.54,\"quantity\":4},{\"item_id\":\"item_123\",\"price_usd\":31.61,\"quantity\":3},{\"item_id\":\"item_383\",\"price_usd\":43.9,\"quantity\":4}],\"user_id\":\"user_8887\"}",
         "user_8887",
         "click",
         "2025-08-15T03:19:57.686161Z",
         "[{\"item_id\":\"item_869\",\"price_usd\":81.54,\"quantity\":4},{\"item_id\":\"item_123\",\"price_usd\":31.61,\"quantity\":3},{\"item_id\":\"item_383\",\"price_usd\":43.9,\"quantity\":4}]"
        ],
        [
         "event_16",
         1.755227997686184E9,
         "{\"event_timestamp\":\"2025-08-15T03:19:57.686176\",\"event_type\":\"click\",\"items\":[{\"item_id\":\"item_146\",\"price_usd\":89.8,\"quantity\":4}],\"user_id\":\"user_2863\"}",
         "user_2863",
         "click",
         "2025-08-15T03:19:57.686176Z",
         "[{\"item_id\":\"item_146\",\"price_usd\":89.8,\"quantity\":4}]"
        ],
        [
         "event_17",
         1.755227997686194E9,
         "{\"event_timestamp\":\"2025-08-15T03:19:57.686186\",\"event_type\":\"click\",\"items\":[{\"item_id\":\"item_189\",\"price_usd\":25.93,\"quantity\":1}],\"user_id\":\"user_3579\"}",
         "user_3579",
         "click",
         "2025-08-15T03:19:57.686186Z",
         "[{\"item_id\":\"item_189\",\"price_usd\":25.93,\"quantity\":1}]"
        ],
        [
         "event_18",
         1.755227997686204E9,
         "{\"event_timestamp\":\"2025-08-15T03:19:57.686196\",\"event_type\":\"view\",\"items\":[{\"item_id\":\"item_421\",\"price_usd\":99.8,\"quantity\":3}],\"user_id\":\"user_2725\"}",
         "user_2725",
         "view",
         "2025-08-15T03:19:57.686196Z",
         "[{\"item_id\":\"item_421\",\"price_usd\":99.8,\"quantity\":3}]"
        ],
        [
         "event_19",
         1.755227997686214E9,
         "{\"event_timestamp\":\"2025-08-15T03:19:57.686206\",\"event_type\":\"click\",\"items\":[{\"item_id\":\"item_734\",\"price_usd\":39.37,\"quantity\":5}],\"user_id\":\"user_4101\"}",
         "user_4101",
         "click",
         "2025-08-15T03:19:57.686206Z",
         "[{\"item_id\":\"item_734\",\"price_usd\":39.37,\"quantity\":5}]"
        ],
        [
         "event_20",
         1.755227997686229E9,
         "{\"event_timestamp\":\"2025-08-15T03:19:57.686216\",\"event_type\":\"view\",\"items\":[{\"item_id\":\"item_942\",\"price_usd\":54.61,\"quantity\":2},{\"item_id\":\"item_158\",\"price_usd\":93.18,\"quantity\":1},{\"item_id\":\"item_497\",\"price_usd\":90.06,\"quantity\":1}],\"user_id\":\"user_3286\"}",
         "user_3286",
         "view",
         "2025-08-15T03:19:57.686216Z",
         "[{\"item_id\":\"item_942\",\"price_usd\":54.61,\"quantity\":2},{\"item_id\":\"item_158\",\"price_usd\":93.18,\"quantity\":1},{\"item_id\":\"item_497\",\"price_usd\":90.06,\"quantity\":1}]"
        ],
        [
         "event_21",
         1.755227997686239E9,
         "{\"event_timestamp\":\"2025-08-15T03:19:57.686231\",\"event_type\":\"click\",\"items\":[{\"item_id\":\"item_742\",\"price_usd\":37.79,\"quantity\":2}],\"user_id\":\"user_9239\"}",
         "user_9239",
         "click",
         "2025-08-15T03:19:57.686231Z",
         "[{\"item_id\":\"item_742\",\"price_usd\":37.79,\"quantity\":2}]"
        ],
        [
         "event_22",
         1.755227997686252E9,
         "{\"event_timestamp\":\"2025-08-15T03:19:57.686241\",\"event_type\":\"purchase\",\"items\":[{\"item_id\":\"item_690\",\"price_usd\":21.18,\"quantity\":1},{\"item_id\":\"item_555\",\"price_usd\":87.79,\"quantity\":5}],\"user_id\":\"user_9636\"}",
         "user_9636",
         "purchase",
         "2025-08-15T03:19:57.686241Z",
         "[{\"item_id\":\"item_690\",\"price_usd\":21.18,\"quantity\":1},{\"item_id\":\"item_555\",\"price_usd\":87.79,\"quantity\":5}]"
        ],
        [
         "event_23",
         1.755227997686262E9,
         "{\"event_timestamp\":\"2025-08-15T03:19:57.686254\",\"event_type\":\"purchase\",\"items\":[{\"item_id\":\"item_945\",\"price_usd\":16.32,\"quantity\":1}],\"user_id\":\"user_4090\"}",
         "user_4090",
         "purchase",
         "2025-08-15T03:19:57.686254Z",
         "[{\"item_id\":\"item_945\",\"price_usd\":16.32,\"quantity\":1}]"
        ],
        [
         "event_24",
         1.755227997686284E9,
         "{\"event_timestamp\":\"2025-08-15T03:19:57.686264\",\"event_type\":\"purchase\",\"items\":[{\"item_id\":\"item_731\",\"price_usd\":25.23,\"quantity\":3}],\"user_id\":\"user_9174\"}",
         "user_9174",
         "purchase",
         "2025-08-15T03:19:57.686264Z",
         "[{\"item_id\":\"item_731\",\"price_usd\":25.23,\"quantity\":3}]"
        ],
        [
         "event_25",
         1.755227997686301E9,
         "{\"event_timestamp\":\"2025-08-15T03:19:57.686287\",\"event_type\":\"click\",\"items\":[{\"item_id\":\"item_843\",\"price_usd\":98.78,\"quantity\":5},{\"item_id\":\"item_250\",\"price_usd\":85.22,\"quantity\":1},{\"item_id\":\"item_683\",\"price_usd\":45.15,\"quantity\":4}],\"user_id\":\"user_5399\"}",
         "user_5399",
         "click",
         "2025-08-15T03:19:57.686287Z",
         "[{\"item_id\":\"item_843\",\"price_usd\":98.78,\"quantity\":5},{\"item_id\":\"item_250\",\"price_usd\":85.22,\"quantity\":1},{\"item_id\":\"item_683\",\"price_usd\":45.15,\"quantity\":4}]"
        ],
        [
         "event_26",
         1.755227997686317E9,
         "{\"event_timestamp\":\"2025-08-15T03:19:57.686304\",\"event_type\":\"purchase\",\"items\":[{\"item_id\":\"item_222\",\"price_usd\":40.26,\"quantity\":3},{\"item_id\":\"item_733\",\"price_usd\":79.36,\"quantity\":3}],\"user_id\":\"user_5674\"}",
         "user_5674",
         "purchase",
         "2025-08-15T03:19:57.686304Z",
         "[{\"item_id\":\"item_222\",\"price_usd\":40.26,\"quantity\":3},{\"item_id\":\"item_733\",\"price_usd\":79.36,\"quantity\":3}]"
        ],
        [
         "event_27",
         1.75522799768633E9,
         "{\"event_timestamp\":\"2025-08-15T03:19:57.686319\",\"event_type\":\"click\",\"items\":[{\"item_id\":\"item_561\",\"price_usd\":13.83,\"quantity\":4},{\"item_id\":\"item_599\",\"price_usd\":49.98,\"quantity\":4}],\"user_id\":\"user_2960\"}",
         "user_2960",
         "click",
         "2025-08-15T03:19:57.686319Z",
         "[{\"item_id\":\"item_561\",\"price_usd\":13.83,\"quantity\":4},{\"item_id\":\"item_599\",\"price_usd\":49.98,\"quantity\":4}]"
        ],
        [
         "event_28",
         1.75522799768634E9,
         "{\"event_timestamp\":\"2025-08-15T03:19:57.686332\",\"event_type\":\"click\",\"items\":[{\"item_id\":\"item_697\",\"price_usd\":32.45,\"quantity\":3}],\"user_id\":\"user_7201\"}",
         "user_7201",
         "click",
         "2025-08-15T03:19:57.686332Z",
         "[{\"item_id\":\"item_697\",\"price_usd\":32.45,\"quantity\":3}]"
        ],
        [
         "event_29",
         1.755227997686352E9,
         "{\"event_timestamp\":\"2025-08-15T03:19:57.686342\",\"event_type\":\"purchase\",\"items\":[{\"item_id\":\"item_302\",\"price_usd\":53.68,\"quantity\":2},{\"item_id\":\"item_152\",\"price_usd\":17.73,\"quantity\":4}],\"user_id\":\"user_6815\"}",
         "user_6815",
         "purchase",
         "2025-08-15T03:19:57.686342Z",
         "[{\"item_id\":\"item_302\",\"price_usd\":53.68,\"quantity\":2},{\"item_id\":\"item_152\",\"price_usd\":17.73,\"quantity\":4}]"
        ],
        [
         "event_30",
         1.755227997686362E9,
         "{\"event_timestamp\":\"2025-08-15T03:19:57.686354\",\"event_type\":\"click\",\"items\":[{\"item_id\":\"item_655\",\"price_usd\":58.91,\"quantity\":1}],\"user_id\":\"user_1974\"}",
         "user_1974",
         "click",
         "2025-08-15T03:19:57.686354Z",
         "[{\"item_id\":\"item_655\",\"price_usd\":58.91,\"quantity\":1}]"
        ],
        [
         "event_31",
         1.755227997686375E9,
         "{\"event_timestamp\":\"2025-08-15T03:19:57.686364\",\"event_type\":\"purchase\",\"items\":[{\"item_id\":\"item_166\",\"price_usd\":68.85,\"quantity\":4},{\"item_id\":\"item_172\",\"price_usd\":15.29,\"quantity\":2}],\"user_id\":\"user_3499\"}",
         "user_3499",
         "purchase",
         "2025-08-15T03:19:57.686364Z",
         "[{\"item_id\":\"item_166\",\"price_usd\":68.85,\"quantity\":4},{\"item_id\":\"item_172\",\"price_usd\":15.29,\"quantity\":2}]"
        ],
        [
         "event_32",
         1.755227997686385E9,
         "{\"event_timestamp\":\"2025-08-15T03:19:57.686377\",\"event_type\":\"purchase\",\"items\":[{\"item_id\":\"item_827\",\"price_usd\":65.98,\"quantity\":1}],\"user_id\":\"user_5361\"}",
         "user_5361",
         "purchase",
         "2025-08-15T03:19:57.686377Z",
         "[{\"item_id\":\"item_827\",\"price_usd\":65.98,\"quantity\":1}]"
        ],
        [
         "event_33",
         1.755227997686397E9,
         "{\"event_timestamp\":\"2025-08-15T03:19:57.686386\",\"event_type\":\"purchase\",\"items\":[{\"item_id\":\"item_976\",\"price_usd\":70.98,\"quantity\":1},{\"item_id\":\"item_414\",\"price_usd\":73.81,\"quantity\":2}],\"user_id\":\"user_3776\"}",
         "user_3776",
         "purchase",
         "2025-08-15T03:19:57.686386Z",
         "[{\"item_id\":\"item_976\",\"price_usd\":70.98,\"quantity\":1},{\"item_id\":\"item_414\",\"price_usd\":73.81,\"quantity\":2}]"
        ],
        [
         "event_34",
         1.755227997686409E9,
         "{\"event_timestamp\":\"2025-08-15T03:19:57.686399\",\"event_type\":\"view\",\"items\":[{\"item_id\":\"item_782\",\"price_usd\":80.74,\"quantity\":3},{\"item_id\":\"item_454\",\"price_usd\":64,\"quantity\":4}],\"user_id\":\"user_6471\"}",
         "user_6471",
         "view",
         "2025-08-15T03:19:57.686399Z",
         "[{\"item_id\":\"item_782\",\"price_usd\":80.74,\"quantity\":3},{\"item_id\":\"item_454\",\"price_usd\":64,\"quantity\":4}]"
        ],
        [
         "event_35",
         1.755227997686419E9,
         "{\"event_timestamp\":\"2025-08-15T03:19:57.686411\",\"event_type\":\"click\",\"items\":[{\"item_id\":\"item_111\",\"price_usd\":53.97,\"quantity\":5}],\"user_id\":\"user_5991\"}",
         "user_5991",
         "click",
         "2025-08-15T03:19:57.686411Z",
         "[{\"item_id\":\"item_111\",\"price_usd\":53.97,\"quantity\":5}]"
        ],
        [
         "event_36",
         1.755227997686431E9,
         "{\"event_timestamp\":\"2025-08-15T03:19:57.686421\",\"event_type\":\"purchase\",\"items\":[{\"item_id\":\"item_802\",\"price_usd\":84.51,\"quantity\":1},{\"item_id\":\"item_440\",\"price_usd\":65.09,\"quantity\":4}],\"user_id\":\"user_1100\"}",
         "user_1100",
         "purchase",
         "2025-08-15T03:19:57.686421Z",
         "[{\"item_id\":\"item_802\",\"price_usd\":84.51,\"quantity\":1},{\"item_id\":\"item_440\",\"price_usd\":65.09,\"quantity\":4}]"
        ],
        [
         "event_37",
         1.755227997686446E9,
         "{\"event_timestamp\":\"2025-08-15T03:19:57.686433\",\"event_type\":\"click\",\"items\":[{\"item_id\":\"item_712\",\"price_usd\":12.47,\"quantity\":1},{\"item_id\":\"item_151\",\"price_usd\":72.82,\"quantity\":3},{\"item_id\":\"item_828\",\"price_usd\":40.84,\"quantity\":5}],\"user_id\":\"user_1784\"}",
         "user_1784",
         "click",
         "2025-08-15T03:19:57.686433Z",
         "[{\"item_id\":\"item_712\",\"price_usd\":12.47,\"quantity\":1},{\"item_id\":\"item_151\",\"price_usd\":72.82,\"quantity\":3},{\"item_id\":\"item_828\",\"price_usd\":40.84,\"quantity\":5}]"
        ],
        [
         "event_38",
         1.755227997686456E9,
         "{\"event_timestamp\":\"2025-08-15T03:19:57.686448\",\"event_type\":\"click\",\"items\":[{\"item_id\":\"item_452\",\"price_usd\":66.5,\"quantity\":1}],\"user_id\":\"user_4129\"}",
         "user_4129",
         "click",
         "2025-08-15T03:19:57.686448Z",
         "[{\"item_id\":\"item_452\",\"price_usd\":66.5,\"quantity\":1}]"
        ],
        [
         "event_39",
         1.755227997686472E9,
         "{\"event_timestamp\":\"2025-08-15T03:19:57.686458\",\"event_type\":\"click\",\"items\":[{\"item_id\":\"item_361\",\"price_usd\":52.39,\"quantity\":4},{\"item_id\":\"item_753\",\"price_usd\":34.36,\"quantity\":3},{\"item_id\":\"item_960\",\"price_usd\":43.61,\"quantity\":1}],\"user_id\":\"user_9929\"}",
         "user_9929",
         "click",
         "2025-08-15T03:19:57.686458Z",
         "[{\"item_id\":\"item_361\",\"price_usd\":52.39,\"quantity\":4},{\"item_id\":\"item_753\",\"price_usd\":34.36,\"quantity\":3},{\"item_id\":\"item_960\",\"price_usd\":43.61,\"quantity\":1}]"
        ],
        [
         "event_40",
         1.755227997686484E9,
         "{\"event_timestamp\":\"2025-08-15T03:19:57.686474\",\"event_type\":\"click\",\"items\":[{\"item_id\":\"item_781\",\"price_usd\":53.1,\"quantity\":1},{\"item_id\":\"item_924\",\"price_usd\":44.7,\"quantity\":4}],\"user_id\":\"user_8081\"}",
         "user_8081",
         "click",
         "2025-08-15T03:19:57.686474Z",
         "[{\"item_id\":\"item_781\",\"price_usd\":53.1,\"quantity\":1},{\"item_id\":\"item_924\",\"price_usd\":44.7,\"quantity\":4}]"
        ],
        [
         "event_41",
         1.7552279976865E9,
         "{\"event_timestamp\":\"2025-08-15T03:19:57.686486\",\"event_type\":\"purchase\",\"items\":[{\"item_id\":\"item_411\",\"price_usd\":74.71,\"quantity\":4},{\"item_id\":\"item_680\",\"price_usd\":83.59,\"quantity\":4},{\"item_id\":\"item_855\",\"price_usd\":96.59,\"quantity\":1}],\"user_id\":\"user_2969\"}",
         "user_2969",
         "purchase",
         "2025-08-15T03:19:57.686486Z",
         "[{\"item_id\":\"item_411\",\"price_usd\":74.71,\"quantity\":4},{\"item_id\":\"item_680\",\"price_usd\":83.59,\"quantity\":4},{\"item_id\":\"item_855\",\"price_usd\":96.59,\"quantity\":1}]"
        ],
        [
         "event_42",
         1.755227997686512E9,
         "{\"event_timestamp\":\"2025-08-15T03:19:57.686502\",\"event_type\":\"view\",\"items\":[{\"item_id\":\"item_969\",\"price_usd\":45.34,\"quantity\":3},{\"item_id\":\"item_552\",\"price_usd\":10.21,\"quantity\":2}],\"user_id\":\"user_7266\"}",
         "user_7266",
         "view",
         "2025-08-15T03:19:57.686502Z",
         "[{\"item_id\":\"item_969\",\"price_usd\":45.34,\"quantity\":3},{\"item_id\":\"item_552\",\"price_usd\":10.21,\"quantity\":2}]"
        ],
        [
         "event_43",
         1.755227997686522E9,
         "{\"event_timestamp\":\"2025-08-15T03:19:57.686514\",\"event_type\":\"purchase\",\"items\":[{\"item_id\":\"item_486\",\"price_usd\":30.23,\"quantity\":4}],\"user_id\":\"user_8649\"}",
         "user_8649",
         "purchase",
         "2025-08-15T03:19:57.686514Z",
         "[{\"item_id\":\"item_486\",\"price_usd\":30.23,\"quantity\":4}]"
        ],
        [
         "event_44",
         1.755227997686538E9,
         "{\"event_timestamp\":\"2025-08-15T03:19:57.686524\",\"event_type\":\"view\",\"items\":[{\"item_id\":\"item_600\",\"price_usd\":22.83,\"quantity\":1},{\"item_id\":\"item_963\",\"price_usd\":11.23,\"quantity\":2},{\"item_id\":\"item_876\",\"price_usd\":61.68,\"quantity\":1}],\"user_id\":\"user_5234\"}",
         "user_5234",
         "view",
         "2025-08-15T03:19:57.686524Z",
         "[{\"item_id\":\"item_600\",\"price_usd\":22.83,\"quantity\":1},{\"item_id\":\"item_963\",\"price_usd\":11.23,\"quantity\":2},{\"item_id\":\"item_876\",\"price_usd\":61.68,\"quantity\":1}]"
        ],
        [
         "event_45",
         1.755227997686551E9,
         "{\"event_timestamp\":\"2025-08-15T03:19:57.686540\",\"event_type\":\"purchase\",\"items\":[{\"item_id\":\"item_811\",\"price_usd\":89.26,\"quantity\":1},{\"item_id\":\"item_502\",\"price_usd\":71.06,\"quantity\":3}],\"user_id\":\"user_7555\"}",
         "user_7555",
         "purchase",
         "2025-08-15T03:19:57.68654Z",
         "[{\"item_id\":\"item_811\",\"price_usd\":89.26,\"quantity\":1},{\"item_id\":\"item_502\",\"price_usd\":71.06,\"quantity\":3}]"
        ],
        [
         "event_46",
         1.75522799768658E9,
         "{\"event_timestamp\":\"2025-08-15T03:19:57.686552\",\"event_type\":\"click\",\"items\":[{\"item_id\":\"item_255\",\"price_usd\":96.51,\"quantity\":2},{\"item_id\":\"item_902\",\"price_usd\":60.75,\"quantity\":1}],\"user_id\":\"user_4400\"}",
         "user_4400",
         "click",
         "2025-08-15T03:19:57.686552Z",
         "[{\"item_id\":\"item_255\",\"price_usd\":96.51,\"quantity\":2},{\"item_id\":\"item_902\",\"price_usd\":60.75,\"quantity\":1}]"
        ],
        [
         "event_47",
         1.755227997686597E9,
         "{\"event_timestamp\":\"2025-08-15T03:19:57.686582\",\"event_type\":\"click\",\"items\":[{\"item_id\":\"item_989\",\"price_usd\":22.58,\"quantity\":4},{\"item_id\":\"item_336\",\"price_usd\":49.08,\"quantity\":3},{\"item_id\":\"item_553\",\"price_usd\":74.41,\"quantity\":2}],\"user_id\":\"user_3116\"}",
         "user_3116",
         "click",
         "2025-08-15T03:19:57.686582Z",
         "[{\"item_id\":\"item_989\",\"price_usd\":22.58,\"quantity\":4},{\"item_id\":\"item_336\",\"price_usd\":49.08,\"quantity\":3},{\"item_id\":\"item_553\",\"price_usd\":74.41,\"quantity\":2}]"
        ],
        [
         "event_48",
         1.755227997686608E9,
         "{\"event_timestamp\":\"2025-08-15T03:19:57.686599\",\"event_type\":\"click\",\"items\":[{\"item_id\":\"item_538\",\"price_usd\":63.62,\"quantity\":3}],\"user_id\":\"user_3639\"}",
         "user_3639",
         "click",
         "2025-08-15T03:19:57.686599Z",
         "[{\"item_id\":\"item_538\",\"price_usd\":63.62,\"quantity\":3}]"
        ],
        [
         "event_49",
         1.755227997686618E9,
         "{\"event_timestamp\":\"2025-08-15T03:19:57.686610\",\"event_type\":\"purchase\",\"items\":[{\"item_id\":\"item_889\",\"price_usd\":42.32,\"quantity\":4}],\"user_id\":\"user_9501\"}",
         "user_9501",
         "purchase",
         "2025-08-15T03:19:57.68661Z",
         "[{\"item_id\":\"item_889\",\"price_usd\":42.32,\"quantity\":4}]"
        ],
        [
         "event_50",
         1.75522799768663E9,
         "{\"event_timestamp\":\"2025-08-15T03:19:57.686620\",\"event_type\":\"click\",\"items\":[{\"item_id\":\"item_969\",\"price_usd\":25.24,\"quantity\":1},{\"item_id\":\"item_895\",\"price_usd\":90.68,\"quantity\":4}],\"user_id\":\"user_6022\"}",
         "user_6022",
         "click",
         "2025-08-15T03:19:57.68662Z",
         "[{\"item_id\":\"item_969\",\"price_usd\":25.24,\"quantity\":1},{\"item_id\":\"item_895\",\"price_usd\":90.68,\"quantity\":4}]"
        ],
        [
         "event_51",
         1.755227997686641E9,
         "{\"event_timestamp\":\"2025-08-15T03:19:57.686633\",\"event_type\":\"purchase\",\"items\":[{\"item_id\":\"item_963\",\"price_usd\":32.33,\"quantity\":4}],\"user_id\":\"user_9055\"}",
         "user_9055",
         "purchase",
         "2025-08-15T03:19:57.686633Z",
         "[{\"item_id\":\"item_963\",\"price_usd\":32.33,\"quantity\":4}]"
        ],
        [
         "event_52",
         1.755227997686656E9,
         "{\"event_timestamp\":\"2025-08-15T03:19:57.686643\",\"event_type\":\"purchase\",\"items\":[{\"item_id\":\"item_287\",\"price_usd\":11.27,\"quantity\":5},{\"item_id\":\"item_676\",\"price_usd\":30.75,\"quantity\":2},{\"item_id\":\"item_182\",\"price_usd\":93.58,\"quantity\":4}],\"user_id\":\"user_7497\"}",
         "user_7497",
         "purchase",
         "2025-08-15T03:19:57.686643Z",
         "[{\"item_id\":\"item_287\",\"price_usd\":11.27,\"quantity\":5},{\"item_id\":\"item_676\",\"price_usd\":30.75,\"quantity\":2},{\"item_id\":\"item_182\",\"price_usd\":93.58,\"quantity\":4}]"
        ],
        [
         "event_53",
         1.755227997686667E9,
         "{\"event_timestamp\":\"2025-08-15T03:19:57.686659\",\"event_type\":\"click\",\"items\":[{\"item_id\":\"item_163\",\"price_usd\":86.18,\"quantity\":1}],\"user_id\":\"user_5697\"}",
         "user_5697",
         "click",
         "2025-08-15T03:19:57.686659Z",
         "[{\"item_id\":\"item_163\",\"price_usd\":86.18,\"quantity\":1}]"
        ],
        [
         "event_54",
         1.755227997686679E9,
         "{\"event_timestamp\":\"2025-08-15T03:19:57.686669\",\"event_type\":\"purchase\",\"items\":[{\"item_id\":\"item_161\",\"price_usd\":73.68,\"quantity\":1}],\"user_id\":\"user_1546\"}",
         "user_1546",
         "purchase",
         "2025-08-15T03:19:57.686669Z",
         "[{\"item_id\":\"item_161\",\"price_usd\":73.68,\"quantity\":1}]"
        ],
        [
         "event_55",
         1.75522799768669E9,
         "{\"event_timestamp\":\"2025-08-15T03:19:57.686682\",\"event_type\":\"click\",\"items\":[{\"item_id\":\"item_301\",\"price_usd\":10.3,\"quantity\":3}],\"user_id\":\"user_3657\"}",
         "user_3657",
         "click",
         "2025-08-15T03:19:57.686682Z",
         "[{\"item_id\":\"item_301\",\"price_usd\":10.3,\"quantity\":3}]"
        ],
        [
         "event_56",
         1.755227997686705E9,
         "{\"event_timestamp\":\"2025-08-15T03:19:57.686692\",\"event_type\":\"click\",\"items\":[{\"item_id\":\"item_487\",\"price_usd\":16.55,\"quantity\":2},{\"item_id\":\"item_599\",\"price_usd\":21.73,\"quantity\":1},{\"item_id\":\"item_749\",\"price_usd\":40.09,\"quantity\":4}],\"user_id\":\"user_5898\"}",
         "user_5898",
         "click",
         "2025-08-15T03:19:57.686692Z",
         "[{\"item_id\":\"item_487\",\"price_usd\":16.55,\"quantity\":2},{\"item_id\":\"item_599\",\"price_usd\":21.73,\"quantity\":1},{\"item_id\":\"item_749\",\"price_usd\":40.09,\"quantity\":4}]"
        ],
        [
         "event_57",
         1.755227997686721E9,
         "{\"event_timestamp\":\"2025-08-15T03:19:57.686707\",\"event_type\":\"view\",\"items\":[{\"item_id\":\"item_552\",\"price_usd\":99.55,\"quantity\":5},{\"item_id\":\"item_894\",\"price_usd\":64.35,\"quantity\":3}],\"user_id\":\"user_5656\"}",
         "user_5656",
         "view",
         "2025-08-15T03:19:57.686707Z",
         "[{\"item_id\":\"item_552\",\"price_usd\":99.55,\"quantity\":5},{\"item_id\":\"item_894\",\"price_usd\":64.35,\"quantity\":3}]"
        ],
        [
         "event_58",
         1.755227997686731E9,
         "{\"event_timestamp\":\"2025-08-15T03:19:57.686722\",\"event_type\":\"view\",\"items\":[{\"item_id\":\"item_974\",\"price_usd\":71.05,\"quantity\":5}],\"user_id\":\"user_4491\"}",
         "user_4491",
         "view",
         "2025-08-15T03:19:57.686722Z",
         "[{\"item_id\":\"item_974\",\"price_usd\":71.05,\"quantity\":5}]"
        ],
        [
         "event_59",
         1.755227997686743E9,
         "{\"event_timestamp\":\"2025-08-15T03:19:57.686733\",\"event_type\":\"click\",\"items\":[{\"item_id\":\"item_768\",\"price_usd\":48.56,\"quantity\":4},{\"item_id\":\"item_963\",\"price_usd\":26.72,\"quantity\":2}],\"user_id\":\"user_5623\"}",
         "user_5623",
         "click",
         "2025-08-15T03:19:57.686733Z",
         "[{\"item_id\":\"item_768\",\"price_usd\":48.56,\"quantity\":4},{\"item_id\":\"item_963\",\"price_usd\":26.72,\"quantity\":2}]"
        ],
        [
         "event_60",
         1.755227997686756E9,
         "{\"event_timestamp\":\"2025-08-15T03:19:57.686745\",\"event_type\":\"view\",\"items\":[{\"item_id\":\"item_854\",\"price_usd\":35.85,\"quantity\":3},{\"item_id\":\"item_879\",\"price_usd\":49,\"quantity\":2}],\"user_id\":\"user_7369\"}",
         "user_7369",
         "view",
         "2025-08-15T03:19:57.686745Z",
         "[{\"item_id\":\"item_854\",\"price_usd\":35.85,\"quantity\":3},{\"item_id\":\"item_879\",\"price_usd\":49,\"quantity\":2}]"
        ],
        [
         "event_61",
         1.755227997686768E9,
         "{\"event_timestamp\":\"2025-08-15T03:19:57.686758\",\"event_type\":\"click\",\"items\":[{\"item_id\":\"item_771\",\"price_usd\":14.31,\"quantity\":1},{\"item_id\":\"item_948\",\"price_usd\":17.05,\"quantity\":1}],\"user_id\":\"user_7046\"}",
         "user_7046",
         "click",
         "2025-08-15T03:19:57.686758Z",
         "[{\"item_id\":\"item_771\",\"price_usd\":14.31,\"quantity\":1},{\"item_id\":\"item_948\",\"price_usd\":17.05,\"quantity\":1}]"
        ],
        [
         "event_62",
         1.75522799768678E9,
         "{\"event_timestamp\":\"2025-08-15T03:19:57.686770\",\"event_type\":\"click\",\"items\":[{\"item_id\":\"item_902\",\"price_usd\":65.63,\"quantity\":3},{\"item_id\":\"item_942\",\"price_usd\":53.67,\"quantity\":2}],\"user_id\":\"user_8755\"}",
         "user_8755",
         "click",
         "2025-08-15T03:19:57.68677Z",
         "[{\"item_id\":\"item_902\",\"price_usd\":65.63,\"quantity\":3},{\"item_id\":\"item_942\",\"price_usd\":53.67,\"quantity\":2}]"
        ],
        [
         "event_63",
         1.755227997686795E9,
         "{\"event_timestamp\":\"2025-08-15T03:19:57.686782\",\"event_type\":\"click\",\"items\":[{\"item_id\":\"item_329\",\"price_usd\":35.61,\"quantity\":4},{\"item_id\":\"item_670\",\"price_usd\":53.27,\"quantity\":3},{\"item_id\":\"item_903\",\"price_usd\":21.39,\"quantity\":2}],\"user_id\":\"user_4799\"}",
         "user_4799",
         "click",
         "2025-08-15T03:19:57.686782Z",
         "[{\"item_id\":\"item_329\",\"price_usd\":35.61,\"quantity\":4},{\"item_id\":\"item_670\",\"price_usd\":53.27,\"quantity\":3},{\"item_id\":\"item_903\",\"price_usd\":21.39,\"quantity\":2}]"
        ],
        [
         "event_64",
         1.755227997686805E9,
         "{\"event_timestamp\":\"2025-08-15T03:19:57.686797\",\"event_type\":\"click\",\"items\":[{\"item_id\":\"item_119\",\"price_usd\":73.13,\"quantity\":5}],\"user_id\":\"user_9729\"}",
         "user_9729",
         "click",
         "2025-08-15T03:19:57.686797Z",
         "[{\"item_id\":\"item_119\",\"price_usd\":73.13,\"quantity\":5}]"
        ],
        [
         "event_65",
         1.755227997686817E9,
         "{\"event_timestamp\":\"2025-08-15T03:19:57.686807\",\"event_type\":\"view\",\"items\":[{\"item_id\":\"item_328\",\"price_usd\":98.94,\"quantity\":2},{\"item_id\":\"item_469\",\"price_usd\":34.66,\"quantity\":1}],\"user_id\":\"user_8929\"}",
         "user_8929",
         "view",
         "2025-08-15T03:19:57.686807Z",
         "[{\"item_id\":\"item_328\",\"price_usd\":98.94,\"quantity\":2},{\"item_id\":\"item_469\",\"price_usd\":34.66,\"quantity\":1}]"
        ],
        [
         "event_66",
         1.755227997686829E9,
         "{\"event_timestamp\":\"2025-08-15T03:19:57.686819\",\"event_type\":\"view\",\"items\":[{\"item_id\":\"item_578\",\"price_usd\":86.46,\"quantity\":5},{\"item_id\":\"item_797\",\"price_usd\":49.82,\"quantity\":2}],\"user_id\":\"user_2968\"}",
         "user_2968",
         "view",
         "2025-08-15T03:19:57.686819Z",
         "[{\"item_id\":\"item_578\",\"price_usd\":86.46,\"quantity\":5},{\"item_id\":\"item_797\",\"price_usd\":49.82,\"quantity\":2}]"
        ],
        [
         "event_67",
         1.755227997686839E9,
         "{\"event_timestamp\":\"2025-08-15T03:19:57.686831\",\"event_type\":\"view\",\"items\":[{\"item_id\":\"item_308\",\"price_usd\":84.67,\"quantity\":2}],\"user_id\":\"user_3885\"}",
         "user_3885",
         "view",
         "2025-08-15T03:19:57.686831Z",
         "[{\"item_id\":\"item_308\",\"price_usd\":84.67,\"quantity\":2}]"
        ],
        [
         "event_68",
         1.755227997686854E9,
         "{\"event_timestamp\":\"2025-08-15T03:19:57.686841\",\"event_type\":\"view\",\"items\":[{\"item_id\":\"item_962\",\"price_usd\":20.22,\"quantity\":5},{\"item_id\":\"item_934\",\"price_usd\":68.54,\"quantity\":2},{\"item_id\":\"item_785\",\"price_usd\":31.5,\"quantity\":4}],\"user_id\":\"user_8239\"}",
         "user_8239",
         "view",
         "2025-08-15T03:19:57.686841Z",
         "[{\"item_id\":\"item_962\",\"price_usd\":20.22,\"quantity\":5},{\"item_id\":\"item_934\",\"price_usd\":68.54,\"quantity\":2},{\"item_id\":\"item_785\",\"price_usd\":31.5,\"quantity\":4}]"
        ],
        [
         "event_69",
         1.755227997686864E9,
         "{\"event_timestamp\":\"2025-08-15T03:19:57.686856\",\"event_type\":\"click\",\"items\":[{\"item_id\":\"item_985\",\"price_usd\":36.59,\"quantity\":1}],\"user_id\":\"user_3903\"}",
         "user_3903",
         "click",
         "2025-08-15T03:19:57.686856Z",
         "[{\"item_id\":\"item_985\",\"price_usd\":36.59,\"quantity\":1}]"
        ],
        [
         "event_70",
         1.755227997686874E9,
         "{\"event_timestamp\":\"2025-08-15T03:19:57.686866\",\"event_type\":\"purchase\",\"items\":[{\"item_id\":\"item_194\",\"price_usd\":39.27,\"quantity\":3}],\"user_id\":\"user_9357\"}",
         "user_9357",
         "purchase",
         "2025-08-15T03:19:57.686866Z",
         "[{\"item_id\":\"item_194\",\"price_usd\":39.27,\"quantity\":3}]"
        ],
        [
         "event_71",
         1.755227997686889E9,
         "{\"event_timestamp\":\"2025-08-15T03:19:57.686876\",\"event_type\":\"click\",\"items\":[{\"item_id\":\"item_484\",\"price_usd\":75.07,\"quantity\":2},{\"item_id\":\"item_602\",\"price_usd\":46.28,\"quantity\":5},{\"item_id\":\"item_320\",\"price_usd\":78.11,\"quantity\":1}],\"user_id\":\"user_6415\"}",
         "user_6415",
         "click",
         "2025-08-15T03:19:57.686876Z",
         "[{\"item_id\":\"item_484\",\"price_usd\":75.07,\"quantity\":2},{\"item_id\":\"item_602\",\"price_usd\":46.28,\"quantity\":5},{\"item_id\":\"item_320\",\"price_usd\":78.11,\"quantity\":1}]"
        ],
        [
         "event_72",
         1.755227997686899E9,
         "{\"event_timestamp\":\"2025-08-15T03:19:57.686891\",\"event_type\":\"view\",\"items\":[{\"item_id\":\"item_797\",\"price_usd\":38.18,\"quantity\":3}],\"user_id\":\"user_7646\"}",
         "user_7646",
         "view",
         "2025-08-15T03:19:57.686891Z",
         "[{\"item_id\":\"item_797\",\"price_usd\":38.18,\"quantity\":3}]"
        ],
        [
         "event_73",
         1.755227997686909E9,
         "{\"event_timestamp\":\"2025-08-15T03:19:57.686901\",\"event_type\":\"click\",\"items\":[{\"item_id\":\"item_407\",\"price_usd\":39.44,\"quantity\":1}],\"user_id\":\"user_5894\"}",
         "user_5894",
         "click",
         "2025-08-15T03:19:57.686901Z",
         "[{\"item_id\":\"item_407\",\"price_usd\":39.44,\"quantity\":1}]"
        ],
        [
         "event_74",
         1.755227997686921E9,
         "{\"event_timestamp\":\"2025-08-15T03:19:57.686911\",\"event_type\":\"view\",\"items\":[{\"item_id\":\"item_419\",\"price_usd\":30.88,\"quantity\":1},{\"item_id\":\"item_746\",\"price_usd\":63.19,\"quantity\":4}],\"user_id\":\"user_5051\"}",
         "user_5051",
         "view",
         "2025-08-15T03:19:57.686911Z",
         "[{\"item_id\":\"item_419\",\"price_usd\":30.88,\"quantity\":1},{\"item_id\":\"item_746\",\"price_usd\":63.19,\"quantity\":4}]"
        ],
        [
         "event_75",
         1.755227997686931E9,
         "{\"event_timestamp\":\"2025-08-15T03:19:57.686923\",\"event_type\":\"view\",\"items\":[{\"item_id\":\"item_948\",\"price_usd\":91.13,\"quantity\":1}],\"user_id\":\"user_5908\"}",
         "user_5908",
         "view",
         "2025-08-15T03:19:57.686923Z",
         "[{\"item_id\":\"item_948\",\"price_usd\":91.13,\"quantity\":1}]"
        ],
        [
         "event_76",
         1.755227997686946E9,
         "{\"event_timestamp\":\"2025-08-15T03:19:57.686933\",\"event_type\":\"view\",\"items\":[{\"item_id\":\"item_782\",\"price_usd\":98.62,\"quantity\":3},{\"item_id\":\"item_502\",\"price_usd\":54.5,\"quantity\":4},{\"item_id\":\"item_478\",\"price_usd\":28.25,\"quantity\":3}],\"user_id\":\"user_1183\"}",
         "user_1183",
         "view",
         "2025-08-15T03:19:57.686933Z",
         "[{\"item_id\":\"item_782\",\"price_usd\":98.62,\"quantity\":3},{\"item_id\":\"item_502\",\"price_usd\":54.5,\"quantity\":4},{\"item_id\":\"item_478\",\"price_usd\":28.25,\"quantity\":3}]"
        ],
        [
         "event_77",
         1.755227997686967E9,
         "{\"event_timestamp\":\"2025-08-15T03:19:57.686948\",\"event_type\":\"click\",\"items\":[{\"item_id\":\"item_505\",\"price_usd\":79.27,\"quantity\":3},{\"item_id\":\"item_190\",\"price_usd\":47.74,\"quantity\":1}],\"user_id\":\"user_6824\"}",
         "user_6824",
         "click",
         "2025-08-15T03:19:57.686948Z",
         "[{\"item_id\":\"item_505\",\"price_usd\":79.27,\"quantity\":3},{\"item_id\":\"item_190\",\"price_usd\":47.74,\"quantity\":1}]"
        ],
        [
         "event_78",
         1.755227997686991E9,
         "{\"event_timestamp\":\"2025-08-15T03:19:57.686971\",\"event_type\":\"click\",\"items\":[{\"item_id\":\"item_110\",\"price_usd\":64.8,\"quantity\":1},{\"item_id\":\"item_483\",\"price_usd\":23.64,\"quantity\":1},{\"item_id\":\"item_326\",\"price_usd\":90.86,\"quantity\":4}],\"user_id\":\"user_8704\"}",
         "user_8704",
         "click",
         "2025-08-15T03:19:57.686971Z",
         "[{\"item_id\":\"item_110\",\"price_usd\":64.8,\"quantity\":1},{\"item_id\":\"item_483\",\"price_usd\":23.64,\"quantity\":1},{\"item_id\":\"item_326\",\"price_usd\":90.86,\"quantity\":4}]"
        ],
        [
         "event_79",
         1.755227997687007E9,
         "{\"event_timestamp\":\"2025-08-15T03:19:57.686994\",\"event_type\":\"view\",\"items\":[{\"item_id\":\"item_731\",\"price_usd\":61.26,\"quantity\":4},{\"item_id\":\"item_283\",\"price_usd\":17.21,\"quantity\":4},{\"item_id\":\"item_566\",\"price_usd\":98.96,\"quantity\":1}],\"user_id\":\"user_2039\"}",
         "user_2039",
         "view",
         "2025-08-15T03:19:57.686994Z",
         "[{\"item_id\":\"item_731\",\"price_usd\":61.26,\"quantity\":4},{\"item_id\":\"item_283\",\"price_usd\":17.21,\"quantity\":4},{\"item_id\":\"item_566\",\"price_usd\":98.96,\"quantity\":1}]"
        ],
        [
         "event_80",
         1.755227997687017E9,
         "{\"event_timestamp\":\"2025-08-15T03:19:57.687009\",\"event_type\":\"click\",\"items\":[{\"item_id\":\"item_727\",\"price_usd\":73.94,\"quantity\":2}],\"user_id\":\"user_7406\"}",
         "user_7406",
         "click",
         "2025-08-15T03:19:57.687009Z",
         "[{\"item_id\":\"item_727\",\"price_usd\":73.94,\"quantity\":2}]"
        ],
        [
         "event_81",
         1.755227997687026E9,
         "{\"event_timestamp\":\"2025-08-15T03:19:57.687019\",\"event_type\":\"view\",\"items\":[{\"item_id\":\"item_267\",\"price_usd\":70.7,\"quantity\":2}],\"user_id\":\"user_3398\"}",
         "user_3398",
         "view",
         "2025-08-15T03:19:57.687019Z",
         "[{\"item_id\":\"item_267\",\"price_usd\":70.7,\"quantity\":2}]"
        ],
        [
         "event_82",
         1.755227997687042E9,
         "{\"event_timestamp\":\"2025-08-15T03:19:57.687028\",\"event_type\":\"purchase\",\"items\":[{\"item_id\":\"item_171\",\"price_usd\":32.07,\"quantity\":1},{\"item_id\":\"item_375\",\"price_usd\":28.9,\"quantity\":1},{\"item_id\":\"item_524\",\"price_usd\":86.15,\"quantity\":5}],\"user_id\":\"user_6606\"}",
         "user_6606",
         "purchase",
         "2025-08-15T03:19:57.687028Z",
         "[{\"item_id\":\"item_171\",\"price_usd\":32.07,\"quantity\":1},{\"item_id\":\"item_375\",\"price_usd\":28.9,\"quantity\":1},{\"item_id\":\"item_524\",\"price_usd\":86.15,\"quantity\":5}]"
        ],
        [
         "event_83",
         1.755227997687054E9,
         "{\"event_timestamp\":\"2025-08-15T03:19:57.687044\",\"event_type\":\"purchase\",\"items\":[{\"item_id\":\"item_627\",\"price_usd\":78.63,\"quantity\":3},{\"item_id\":\"item_659\",\"price_usd\":13.53,\"quantity\":4}],\"user_id\":\"user_3868\"}",
         "user_3868",
         "purchase",
         "2025-08-15T03:19:57.687044Z",
         "[{\"item_id\":\"item_627\",\"price_usd\":78.63,\"quantity\":3},{\"item_id\":\"item_659\",\"price_usd\":13.53,\"quantity\":4}]"
        ],
        [
         "event_84",
         1.75522799768707E9,
         "{\"event_timestamp\":\"2025-08-15T03:19:57.687056\",\"event_type\":\"view\",\"items\":[{\"item_id\":\"item_928\",\"price_usd\":40.89,\"quantity\":5},{\"item_id\":\"item_271\",\"price_usd\":27.28,\"quantity\":5},{\"item_id\":\"item_487\",\"price_usd\":86.38,\"quantity\":2}],\"user_id\":\"user_1162\"}",
         "user_1162",
         "view",
         "2025-08-15T03:19:57.687056Z",
         "[{\"item_id\":\"item_928\",\"price_usd\":40.89,\"quantity\":5},{\"item_id\":\"item_271\",\"price_usd\":27.28,\"quantity\":5},{\"item_id\":\"item_487\",\"price_usd\":86.38,\"quantity\":2}]"
        ],
        [
         "event_85",
         1.755227997687082E9,
         "{\"event_timestamp\":\"2025-08-15T03:19:57.687071\",\"event_type\":\"purchase\",\"items\":[{\"item_id\":\"item_183\",\"price_usd\":90.35,\"quantity\":1},{\"item_id\":\"item_598\",\"price_usd\":26.83,\"quantity\":3}],\"user_id\":\"user_4588\"}",
         "user_4588",
         "purchase",
         "2025-08-15T03:19:57.687071Z",
         "[{\"item_id\":\"item_183\",\"price_usd\":90.35,\"quantity\":1},{\"item_id\":\"item_598\",\"price_usd\":26.83,\"quantity\":3}]"
        ],
        [
         "event_86",
         1.755227997687091E9,
         "{\"event_timestamp\":\"2025-08-15T03:19:57.687084\",\"event_type\":\"view\",\"items\":[{\"item_id\":\"item_713\",\"price_usd\":18.61,\"quantity\":4}],\"user_id\":\"user_9292\"}",
         "user_9292",
         "view",
         "2025-08-15T03:19:57.687084Z",
         "[{\"item_id\":\"item_713\",\"price_usd\":18.61,\"quantity\":4}]"
        ],
        [
         "event_87",
         1.755227997687107E9,
         "{\"event_timestamp\":\"2025-08-15T03:19:57.687093\",\"event_type\":\"view\",\"items\":[{\"item_id\":\"item_305\",\"price_usd\":88.25,\"quantity\":5},{\"item_id\":\"item_547\",\"price_usd\":86.75,\"quantity\":2},{\"item_id\":\"item_303\",\"price_usd\":15,\"quantity\":1}],\"user_id\":\"user_9409\"}",
         "user_9409",
         "view",
         "2025-08-15T03:19:57.687093Z",
         "[{\"item_id\":\"item_305\",\"price_usd\":88.25,\"quantity\":5},{\"item_id\":\"item_547\",\"price_usd\":86.75,\"quantity\":2},{\"item_id\":\"item_303\",\"price_usd\":15,\"quantity\":1}]"
        ],
        [
         "event_88",
         1.75522799768712E9,
         "{\"event_timestamp\":\"2025-08-15T03:19:57.687109\",\"event_type\":\"click\",\"items\":[{\"item_id\":\"item_194\",\"price_usd\":71.43,\"quantity\":2}],\"user_id\":\"user_6372\"}",
         "user_6372",
         "click",
         "2025-08-15T03:19:57.687109Z",
         "[{\"item_id\":\"item_194\",\"price_usd\":71.43,\"quantity\":2}]"
        ],
        [
         "event_89",
         1.755227997687136E9,
         "{\"event_timestamp\":\"2025-08-15T03:19:57.687122\",\"event_type\":\"purchase\",\"items\":[{\"item_id\":\"item_262\",\"price_usd\":75.2,\"quantity\":5},{\"item_id\":\"item_334\",\"price_usd\":14.27,\"quantity\":1}],\"user_id\":\"user_2131\"}",
         "user_2131",
         "purchase",
         "2025-08-15T03:19:57.687122Z",
         "[{\"item_id\":\"item_262\",\"price_usd\":75.2,\"quantity\":5},{\"item_id\":\"item_334\",\"price_usd\":14.27,\"quantity\":1}]"
        ],
        [
         "event_90",
         1.755227997687149E9,
         "{\"event_timestamp\":\"2025-08-15T03:19:57.687138\",\"event_type\":\"purchase\",\"items\":[{\"item_id\":\"item_626\",\"price_usd\":66.46,\"quantity\":1},{\"item_id\":\"item_241\",\"price_usd\":83.55,\"quantity\":5}],\"user_id\":\"user_6310\"}",
         "user_6310",
         "purchase",
         "2025-08-15T03:19:57.687138Z",
         "[{\"item_id\":\"item_626\",\"price_usd\":66.46,\"quantity\":1},{\"item_id\":\"item_241\",\"price_usd\":83.55,\"quantity\":5}]"
        ],
        [
         "event_91",
         1.755227997687166E9,
         "{\"event_timestamp\":\"2025-08-15T03:19:57.687152\",\"event_type\":\"click\",\"items\":[{\"item_id\":\"item_369\",\"price_usd\":19.64,\"quantity\":5}],\"user_id\":\"user_6121\"}",
         "user_6121",
         "click",
         "2025-08-15T03:19:57.687152Z",
         "[{\"item_id\":\"item_369\",\"price_usd\":19.64,\"quantity\":5}]"
        ],
        [
         "event_92",
         1.755227997687184E9,
         "{\"event_timestamp\":\"2025-08-15T03:19:57.687170\",\"event_type\":\"click\",\"items\":[{\"item_id\":\"item_670\",\"price_usd\":35.58,\"quantity\":2},{\"item_id\":\"item_771\",\"price_usd\":48.68,\"quantity\":5},{\"item_id\":\"item_239\",\"price_usd\":19.87,\"quantity\":4}],\"user_id\":\"user_4765\"}",
         "user_4765",
         "click",
         "2025-08-15T03:19:57.68717Z",
         "[{\"item_id\":\"item_670\",\"price_usd\":35.58,\"quantity\":2},{\"item_id\":\"item_771\",\"price_usd\":48.68,\"quantity\":5},{\"item_id\":\"item_239\",\"price_usd\":19.87,\"quantity\":4}]"
        ],
        [
         "event_93",
         1.755227997687209E9,
         "{\"event_timestamp\":\"2025-08-15T03:19:57.687187\",\"event_type\":\"click\",\"items\":[{\"item_id\":\"item_919\",\"price_usd\":99.95,\"quantity\":2},{\"item_id\":\"item_150\",\"price_usd\":51.49,\"quantity\":4},{\"item_id\":\"item_357\",\"price_usd\":74.19,\"quantity\":3}],\"user_id\":\"user_1200\"}",
         "user_1200",
         "click",
         "2025-08-15T03:19:57.687187Z",
         "[{\"item_id\":\"item_919\",\"price_usd\":99.95,\"quantity\":2},{\"item_id\":\"item_150\",\"price_usd\":51.49,\"quantity\":4},{\"item_id\":\"item_357\",\"price_usd\":74.19,\"quantity\":3}]"
        ],
        [
         "event_94",
         1.755227997687225E9,
         "{\"event_timestamp\":\"2025-08-15T03:19:57.687211\",\"event_type\":\"view\",\"items\":[{\"item_id\":\"item_338\",\"price_usd\":92.48,\"quantity\":4},{\"item_id\":\"item_470\",\"price_usd\":30.03,\"quantity\":5},{\"item_id\":\"item_532\",\"price_usd\":32.93,\"quantity\":5}],\"user_id\":\"user_4623\"}",
         "user_4623",
         "view",
         "2025-08-15T03:19:57.687211Z",
         "[{\"item_id\":\"item_338\",\"price_usd\":92.48,\"quantity\":4},{\"item_id\":\"item_470\",\"price_usd\":30.03,\"quantity\":5},{\"item_id\":\"item_532\",\"price_usd\":32.93,\"quantity\":5}]"
        ],
        [
         "event_95",
         1.755227997687235E9,
         "{\"event_timestamp\":\"2025-08-15T03:19:57.687227\",\"event_type\":\"click\",\"items\":[{\"item_id\":\"item_499\",\"price_usd\":49.65,\"quantity\":1}],\"user_id\":\"user_7742\"}",
         "user_7742",
         "click",
         "2025-08-15T03:19:57.687227Z",
         "[{\"item_id\":\"item_499\",\"price_usd\":49.65,\"quantity\":1}]"
        ],
        [
         "event_96",
         1.755227997687268E9,
         "{\"event_timestamp\":\"2025-08-15T03:19:57.687237\",\"event_type\":\"view\",\"items\":[{\"item_id\":\"item_942\",\"price_usd\":23.07,\"quantity\":1},{\"item_id\":\"item_593\",\"price_usd\":52.46,\"quantity\":3},{\"item_id\":\"item_823\",\"price_usd\":61.8,\"quantity\":5}],\"user_id\":\"user_3506\"}",
         "user_3506",
         "view",
         "2025-08-15T03:19:57.687237Z",
         "[{\"item_id\":\"item_942\",\"price_usd\":23.07,\"quantity\":1},{\"item_id\":\"item_593\",\"price_usd\":52.46,\"quantity\":3},{\"item_id\":\"item_823\",\"price_usd\":61.8,\"quantity\":5}]"
        ],
        [
         "event_97",
         1.755227997687279E9,
         "{\"event_timestamp\":\"2025-08-15T03:19:57.687271\",\"event_type\":\"click\",\"items\":[{\"item_id\":\"item_206\",\"price_usd\":92.02,\"quantity\":1}],\"user_id\":\"user_5102\"}",
         "user_5102",
         "click",
         "2025-08-15T03:19:57.687271Z",
         "[{\"item_id\":\"item_206\",\"price_usd\":92.02,\"quantity\":1}]"
        ],
        [
         "event_98",
         1.755227997687288E9,
         "{\"event_timestamp\":\"2025-08-15T03:19:57.687280\",\"event_type\":\"view\",\"items\":[{\"item_id\":\"item_771\",\"price_usd\":26.6,\"quantity\":5}],\"user_id\":\"user_2751\"}",
         "user_2751",
         "view",
         "2025-08-15T03:19:57.68728Z",
         "[{\"item_id\":\"item_771\",\"price_usd\":26.6,\"quantity\":5}]"
        ],
        [
         "event_99",
         1.755227997687304E9,
         "{\"event_timestamp\":\"2025-08-15T03:19:57.687290\",\"event_type\":\"view\",\"items\":[{\"item_id\":\"item_762\",\"price_usd\":91.88,\"quantity\":3},{\"item_id\":\"item_766\",\"price_usd\":86.85,\"quantity\":5},{\"item_id\":\"item_211\",\"price_usd\":10.97,\"quantity\":4}],\"user_id\":\"user_5420\"}",
         "user_5420",
         "view",
         "2025-08-15T03:19:57.68729Z",
         "[{\"item_id\":\"item_762\",\"price_usd\":91.88,\"quantity\":3},{\"item_id\":\"item_766\",\"price_usd\":86.85,\"quantity\":5},{\"item_id\":\"item_211\",\"price_usd\":10.97,\"quantity\":4}]"
        ]
       ],
       "datasetInfos": [],
       "dbfsResultPath": null,
       "isJsonSchema": true,
       "metadata": {},
       "overflow": false,
       "plotOptions": {
        "customPlotOptions": {},
        "displayType": "table",
        "pivotAggregation": null,
        "pivotColumns": null,
        "xColumns": null,
        "yColumns": null
       },
       "removedWidgets": [],
       "schema": [
        {
         "metadata": "{}",
         "name": "key",
         "type": "\"string\""
        },
        {
         "metadata": "{}",
         "name": "timestamp",
         "type": "\"double\""
        },
        {
         "metadata": "{}",
         "name": "decoded_value_variant",
         "type": "\"variant\""
        },
        {
         "metadata": "{}",
         "name": "user_id",
         "type": "\"string\""
        },
        {
         "metadata": "{}",
         "name": "event_type",
         "type": "\"string\""
        },
        {
         "metadata": "{}",
         "name": "event_timestamp",
         "type": "\"timestamp\""
        },
        {
         "metadata": "{}",
         "name": "items",
         "type": "\"variant\""
        }
       ],
       "type": "table"
      }
     },
     "output_type": "display_data"
    }
   ],
   "source": [
    "---- Convert the JSON formatted string as a VARIANT\n",
    "---- NOTE: The VARIANT decoded_value_variant column is included in this solution to display the column\n",
    "---- NOTE: Variant data type will not work on Serverless Version 1.\n",
    "CREATE OR REPLACE TABLE lab7_lab_kafka_events_flattened_variant\n",
    "AS\n",
    "SELECT\n",
    "  key,\n",
    "  timestamp,\n",
    "  parse_json(decoded_value) AS decoded_value_variant,\n",
    "  cast(decoded_value_variant:user_id AS STRING),\n",
    "  decoded_value_variant:event_type :: STRING,\n",
    "  decoded_value_variant:event_timestamp :: TIMESTAMP,\n",
    "  decoded_value_variant:items\n",
    "FROM lab7_lab_kafka_events_raw;\n",
    "\n",
    "\n",
    "---- Display the table\n",
    "SELECT *\n",
    "FROM lab7_lab_kafka_events_flattened_variant;"
   ]
  },
  {
   "cell_type": "code",
   "execution_count": 0,
   "metadata": {
    "application/vnd.databricks.v1+cell": {
     "cellMetadata": {
      "byteLimit": 2048000,
      "rowLimit": 10000
     },
     "inputWidgets": {},
     "nuid": "156bff4a-c178-4d0b-bc79-306e49665e47",
     "showTitle": false,
     "tableResultSettingsMap": {},
     "title": ""
    }
   },
   "outputs": [
    {
     "output_type": "display_data",
     "data": {
      "text/html": [
       "<style scoped>\n",
       "  .table-result-container {\n",
       "    max-height: 300px;\n",
       "    overflow: auto;\n",
       "  }\n",
       "  table, th, td {\n",
       "    border: 1px solid black;\n",
       "    border-collapse: collapse;\n",
       "  }\n",
       "  th, td {\n",
       "    padding: 5px;\n",
       "  }\n",
       "  th {\n",
       "    text-align: left;\n",
       "  }\n",
       "</style><div class='table-result-container'><table class='table-result'><thead style='background-color: white'><tr><th>key</th><th>timestamp</th><th>decoded_value_struct</th><th>user_id</th><th>event_type</th><th>event_timestamp</th><th>items</th></tr></thead><tbody><tr><td>event_0</td><td>1.755227997685932E9</td><td>List(2025-08-15T03:19:57.685885, view, List(List(item_175, 26.34, 3), List(item_308, 38.42, 2)), user_9442)</td><td>user_9442</td><td>view</td><td>2025-08-15T03:19:57.685885Z</td><td>List(List(item_175, 26.34, 3), List(item_308, 38.42, 2))</td></tr><tr><td>event_1</td><td>1.755227997685954E9</td><td>List(2025-08-15T03:19:57.685938, purchase, List(List(item_905, 13.04, 1)), user_6202)</td><td>user_6202</td><td>purchase</td><td>2025-08-15T03:19:57.685938Z</td><td>List(List(item_905, 13.04, 1))</td></tr><tr><td>event_2</td><td>1.75522799768597E9</td><td>List(2025-08-15T03:19:57.685957, click, List(List(item_566, 51.63, 1), List(item_310, 16.99, 2)), user_1854)</td><td>user_1854</td><td>click</td><td>2025-08-15T03:19:57.685957Z</td><td>List(List(item_566, 51.63, 1), List(item_310, 16.99, 2))</td></tr><tr><td>event_3</td><td>1.755227997685985E9</td><td>List(2025-08-15T03:19:57.685973, click, List(List(item_566, 37.03, 3), List(item_436, 85.36, 5)), user_9430)</td><td>user_9430</td><td>click</td><td>2025-08-15T03:19:57.685973Z</td><td>List(List(item_566, 37.03, 3), List(item_436, 85.36, 5))</td></tr><tr><td>event_4</td><td>1.755227997685996E9</td><td>List(2025-08-15T03:19:57.685987, purchase, List(List(item_366, 46.09, 1)), user_7786)</td><td>user_7786</td><td>purchase</td><td>2025-08-15T03:19:57.685987Z</td><td>List(List(item_366, 46.09, 1))</td></tr><tr><td>event_5</td><td>1.755227997686006E9</td><td>List(2025-08-15T03:19:57.685998, click, List(List(item_460, 25.93, 4)), user_4175)</td><td>user_4175</td><td>click</td><td>2025-08-15T03:19:57.685998Z</td><td>List(List(item_460, 25.93, 4))</td></tr><tr><td>event_6</td><td>1.755227997686019E9</td><td>List(2025-08-15T03:19:57.686008, click, List(List(item_366, 57.43, 4), List(item_132, 64.54, 5)), user_2159)</td><td>user_2159</td><td>click</td><td>2025-08-15T03:19:57.686008Z</td><td>List(List(item_366, 57.43, 4), List(item_132, 64.54, 5))</td></tr><tr><td>event_7</td><td>1.755227997686036E9</td><td>List(2025-08-15T03:19:57.686021, click, List(List(item_894, 48.07, 2), List(item_726, 38.27, 4), List(item_779, 83.15, 1)), user_7386)</td><td>user_7386</td><td>click</td><td>2025-08-15T03:19:57.686021Z</td><td>List(List(item_894, 48.07, 2), List(item_726, 38.27, 4), List(item_779, 83.15, 1))</td></tr><tr><td>event_8</td><td>1.755227997686053E9</td><td>List(2025-08-15T03:19:57.686039, click, List(List(item_683, 23.01, 5), List(item_527, 23.25, 1), List(item_760, 44.65, 4)), user_8857)</td><td>user_8857</td><td>click</td><td>2025-08-15T03:19:57.686039Z</td><td>List(List(item_683, 23.01, 5), List(item_527, 23.25, 1), List(item_760, 44.65, 4))</td></tr><tr><td>event_9</td><td>1.755227997686064E9</td><td>List(2025-08-15T03:19:57.686055, view, List(List(item_157, 67.91, 2)), user_9819)</td><td>user_9819</td><td>view</td><td>2025-08-15T03:19:57.686055Z</td><td>List(List(item_157, 67.91, 2))</td></tr><tr><td>event_10</td><td>1.755227997686074E9</td><td>List(2025-08-15T03:19:57.686066, view, List(List(item_676, 84.02, 1)), user_8581)</td><td>user_8581</td><td>view</td><td>2025-08-15T03:19:57.686066Z</td><td>List(List(item_676, 84.02, 1))</td></tr><tr><td>event_11</td><td>1.755227997686098E9</td><td>List(2025-08-15T03:19:57.686076, view, List(List(item_114, 93.67, 4), List(item_942, 90.96, 2), List(item_729, 90.6, 3)), user_2870)</td><td>user_2870</td><td>view</td><td>2025-08-15T03:19:57.686076Z</td><td>List(List(item_114, 93.67, 4), List(item_942, 90.96, 2), List(item_729, 90.6, 3))</td></tr><tr><td>event_12</td><td>1.75522799768612E9</td><td>List(2025-08-15T03:19:57.686101, view, List(List(item_884, 35.3, 1), List(item_199, 90.97, 5)), user_8649)</td><td>user_8649</td><td>view</td><td>2025-08-15T03:19:57.686101Z</td><td>List(List(item_884, 35.3, 1), List(item_199, 90.97, 5))</td></tr><tr><td>event_13</td><td>1.755227997686145E9</td><td>List(2025-08-15T03:19:57.686123, view, List(List(item_971, 81.53, 5), List(item_317, 17.12, 3), List(item_914, 14.9, 2)), user_4362)</td><td>user_4362</td><td>view</td><td>2025-08-15T03:19:57.686123Z</td><td>List(List(item_971, 81.53, 5), List(item_317, 17.12, 3), List(item_914, 14.9, 2))</td></tr><tr><td>event_14</td><td>1.755227997686159E9</td><td>List(2025-08-15T03:19:57.686147, view, List(List(item_854, 38.97, 5), List(item_283, 21.11, 5)), user_8388)</td><td>user_8388</td><td>view</td><td>2025-08-15T03:19:57.686147Z</td><td>List(List(item_854, 38.97, 5), List(item_283, 21.11, 5))</td></tr><tr><td>event_15</td><td>1.755227997686174E9</td><td>List(2025-08-15T03:19:57.686161, click, List(List(item_869, 81.54, 4), List(item_123, 31.61, 3), List(item_383, 43.9, 4)), user_8887)</td><td>user_8887</td><td>click</td><td>2025-08-15T03:19:57.686161Z</td><td>List(List(item_869, 81.54, 4), List(item_123, 31.61, 3), List(item_383, 43.9, 4))</td></tr><tr><td>event_16</td><td>1.755227997686184E9</td><td>List(2025-08-15T03:19:57.686176, click, List(List(item_146, 89.8, 4)), user_2863)</td><td>user_2863</td><td>click</td><td>2025-08-15T03:19:57.686176Z</td><td>List(List(item_146, 89.8, 4))</td></tr><tr><td>event_17</td><td>1.755227997686194E9</td><td>List(2025-08-15T03:19:57.686186, click, List(List(item_189, 25.93, 1)), user_3579)</td><td>user_3579</td><td>click</td><td>2025-08-15T03:19:57.686186Z</td><td>List(List(item_189, 25.93, 1))</td></tr><tr><td>event_18</td><td>1.755227997686204E9</td><td>List(2025-08-15T03:19:57.686196, view, List(List(item_421, 99.8, 3)), user_2725)</td><td>user_2725</td><td>view</td><td>2025-08-15T03:19:57.686196Z</td><td>List(List(item_421, 99.8, 3))</td></tr><tr><td>event_19</td><td>1.755227997686214E9</td><td>List(2025-08-15T03:19:57.686206, click, List(List(item_734, 39.37, 5)), user_4101)</td><td>user_4101</td><td>click</td><td>2025-08-15T03:19:57.686206Z</td><td>List(List(item_734, 39.37, 5))</td></tr><tr><td>event_20</td><td>1.755227997686229E9</td><td>List(2025-08-15T03:19:57.686216, view, List(List(item_942, 54.61, 2), List(item_158, 93.18, 1), List(item_497, 90.06, 1)), user_3286)</td><td>user_3286</td><td>view</td><td>2025-08-15T03:19:57.686216Z</td><td>List(List(item_942, 54.61, 2), List(item_158, 93.18, 1), List(item_497, 90.06, 1))</td></tr><tr><td>event_21</td><td>1.755227997686239E9</td><td>List(2025-08-15T03:19:57.686231, click, List(List(item_742, 37.79, 2)), user_9239)</td><td>user_9239</td><td>click</td><td>2025-08-15T03:19:57.686231Z</td><td>List(List(item_742, 37.79, 2))</td></tr><tr><td>event_22</td><td>1.755227997686252E9</td><td>List(2025-08-15T03:19:57.686241, purchase, List(List(item_690, 21.18, 1), List(item_555, 87.79, 5)), user_9636)</td><td>user_9636</td><td>purchase</td><td>2025-08-15T03:19:57.686241Z</td><td>List(List(item_690, 21.18, 1), List(item_555, 87.79, 5))</td></tr><tr><td>event_23</td><td>1.755227997686262E9</td><td>List(2025-08-15T03:19:57.686254, purchase, List(List(item_945, 16.32, 1)), user_4090)</td><td>user_4090</td><td>purchase</td><td>2025-08-15T03:19:57.686254Z</td><td>List(List(item_945, 16.32, 1))</td></tr><tr><td>event_24</td><td>1.755227997686284E9</td><td>List(2025-08-15T03:19:57.686264, purchase, List(List(item_731, 25.23, 3)), user_9174)</td><td>user_9174</td><td>purchase</td><td>2025-08-15T03:19:57.686264Z</td><td>List(List(item_731, 25.23, 3))</td></tr><tr><td>event_25</td><td>1.755227997686301E9</td><td>List(2025-08-15T03:19:57.686287, click, List(List(item_843, 98.78, 5), List(item_250, 85.22, 1), List(item_683, 45.15, 4)), user_5399)</td><td>user_5399</td><td>click</td><td>2025-08-15T03:19:57.686287Z</td><td>List(List(item_843, 98.78, 5), List(item_250, 85.22, 1), List(item_683, 45.15, 4))</td></tr><tr><td>event_26</td><td>1.755227997686317E9</td><td>List(2025-08-15T03:19:57.686304, purchase, List(List(item_222, 40.26, 3), List(item_733, 79.36, 3)), user_5674)</td><td>user_5674</td><td>purchase</td><td>2025-08-15T03:19:57.686304Z</td><td>List(List(item_222, 40.26, 3), List(item_733, 79.36, 3))</td></tr><tr><td>event_27</td><td>1.75522799768633E9</td><td>List(2025-08-15T03:19:57.686319, click, List(List(item_561, 13.83, 4), List(item_599, 49.98, 4)), user_2960)</td><td>user_2960</td><td>click</td><td>2025-08-15T03:19:57.686319Z</td><td>List(List(item_561, 13.83, 4), List(item_599, 49.98, 4))</td></tr><tr><td>event_28</td><td>1.75522799768634E9</td><td>List(2025-08-15T03:19:57.686332, click, List(List(item_697, 32.45, 3)), user_7201)</td><td>user_7201</td><td>click</td><td>2025-08-15T03:19:57.686332Z</td><td>List(List(item_697, 32.45, 3))</td></tr><tr><td>event_29</td><td>1.755227997686352E9</td><td>List(2025-08-15T03:19:57.686342, purchase, List(List(item_302, 53.68, 2), List(item_152, 17.73, 4)), user_6815)</td><td>user_6815</td><td>purchase</td><td>2025-08-15T03:19:57.686342Z</td><td>List(List(item_302, 53.68, 2), List(item_152, 17.73, 4))</td></tr><tr><td>event_30</td><td>1.755227997686362E9</td><td>List(2025-08-15T03:19:57.686354, click, List(List(item_655, 58.91, 1)), user_1974)</td><td>user_1974</td><td>click</td><td>2025-08-15T03:19:57.686354Z</td><td>List(List(item_655, 58.91, 1))</td></tr><tr><td>event_31</td><td>1.755227997686375E9</td><td>List(2025-08-15T03:19:57.686364, purchase, List(List(item_166, 68.85, 4), List(item_172, 15.29, 2)), user_3499)</td><td>user_3499</td><td>purchase</td><td>2025-08-15T03:19:57.686364Z</td><td>List(List(item_166, 68.85, 4), List(item_172, 15.29, 2))</td></tr><tr><td>event_32</td><td>1.755227997686385E9</td><td>List(2025-08-15T03:19:57.686377, purchase, List(List(item_827, 65.98, 1)), user_5361)</td><td>user_5361</td><td>purchase</td><td>2025-08-15T03:19:57.686377Z</td><td>List(List(item_827, 65.98, 1))</td></tr><tr><td>event_33</td><td>1.755227997686397E9</td><td>List(2025-08-15T03:19:57.686386, purchase, List(List(item_976, 70.98, 1), List(item_414, 73.81, 2)), user_3776)</td><td>user_3776</td><td>purchase</td><td>2025-08-15T03:19:57.686386Z</td><td>List(List(item_976, 70.98, 1), List(item_414, 73.81, 2))</td></tr><tr><td>event_34</td><td>1.755227997686409E9</td><td>List(2025-08-15T03:19:57.686399, view, List(List(item_782, 80.74, 3), List(item_454, 64.0, 4)), user_6471)</td><td>user_6471</td><td>view</td><td>2025-08-15T03:19:57.686399Z</td><td>List(List(item_782, 80.74, 3), List(item_454, 64.0, 4))</td></tr><tr><td>event_35</td><td>1.755227997686419E9</td><td>List(2025-08-15T03:19:57.686411, click, List(List(item_111, 53.97, 5)), user_5991)</td><td>user_5991</td><td>click</td><td>2025-08-15T03:19:57.686411Z</td><td>List(List(item_111, 53.97, 5))</td></tr><tr><td>event_36</td><td>1.755227997686431E9</td><td>List(2025-08-15T03:19:57.686421, purchase, List(List(item_802, 84.51, 1), List(item_440, 65.09, 4)), user_1100)</td><td>user_1100</td><td>purchase</td><td>2025-08-15T03:19:57.686421Z</td><td>List(List(item_802, 84.51, 1), List(item_440, 65.09, 4))</td></tr><tr><td>event_37</td><td>1.755227997686446E9</td><td>List(2025-08-15T03:19:57.686433, click, List(List(item_712, 12.47, 1), List(item_151, 72.82, 3), List(item_828, 40.84, 5)), user_1784)</td><td>user_1784</td><td>click</td><td>2025-08-15T03:19:57.686433Z</td><td>List(List(item_712, 12.47, 1), List(item_151, 72.82, 3), List(item_828, 40.84, 5))</td></tr><tr><td>event_38</td><td>1.755227997686456E9</td><td>List(2025-08-15T03:19:57.686448, click, List(List(item_452, 66.5, 1)), user_4129)</td><td>user_4129</td><td>click</td><td>2025-08-15T03:19:57.686448Z</td><td>List(List(item_452, 66.5, 1))</td></tr><tr><td>event_39</td><td>1.755227997686472E9</td><td>List(2025-08-15T03:19:57.686458, click, List(List(item_361, 52.39, 4), List(item_753, 34.36, 3), List(item_960, 43.61, 1)), user_9929)</td><td>user_9929</td><td>click</td><td>2025-08-15T03:19:57.686458Z</td><td>List(List(item_361, 52.39, 4), List(item_753, 34.36, 3), List(item_960, 43.61, 1))</td></tr><tr><td>event_40</td><td>1.755227997686484E9</td><td>List(2025-08-15T03:19:57.686474, click, List(List(item_781, 53.1, 1), List(item_924, 44.7, 4)), user_8081)</td><td>user_8081</td><td>click</td><td>2025-08-15T03:19:57.686474Z</td><td>List(List(item_781, 53.1, 1), List(item_924, 44.7, 4))</td></tr><tr><td>event_41</td><td>1.7552279976865E9</td><td>List(2025-08-15T03:19:57.686486, purchase, List(List(item_411, 74.71, 4), List(item_680, 83.59, 4), List(item_855, 96.59, 1)), user_2969)</td><td>user_2969</td><td>purchase</td><td>2025-08-15T03:19:57.686486Z</td><td>List(List(item_411, 74.71, 4), List(item_680, 83.59, 4), List(item_855, 96.59, 1))</td></tr><tr><td>event_42</td><td>1.755227997686512E9</td><td>List(2025-08-15T03:19:57.686502, view, List(List(item_969, 45.34, 3), List(item_552, 10.21, 2)), user_7266)</td><td>user_7266</td><td>view</td><td>2025-08-15T03:19:57.686502Z</td><td>List(List(item_969, 45.34, 3), List(item_552, 10.21, 2))</td></tr><tr><td>event_43</td><td>1.755227997686522E9</td><td>List(2025-08-15T03:19:57.686514, purchase, List(List(item_486, 30.23, 4)), user_8649)</td><td>user_8649</td><td>purchase</td><td>2025-08-15T03:19:57.686514Z</td><td>List(List(item_486, 30.23, 4))</td></tr><tr><td>event_44</td><td>1.755227997686538E9</td><td>List(2025-08-15T03:19:57.686524, view, List(List(item_600, 22.83, 1), List(item_963, 11.23, 2), List(item_876, 61.68, 1)), user_5234)</td><td>user_5234</td><td>view</td><td>2025-08-15T03:19:57.686524Z</td><td>List(List(item_600, 22.83, 1), List(item_963, 11.23, 2), List(item_876, 61.68, 1))</td></tr><tr><td>event_45</td><td>1.755227997686551E9</td><td>List(2025-08-15T03:19:57.686540, purchase, List(List(item_811, 89.26, 1), List(item_502, 71.06, 3)), user_7555)</td><td>user_7555</td><td>purchase</td><td>2025-08-15T03:19:57.68654Z</td><td>List(List(item_811, 89.26, 1), List(item_502, 71.06, 3))</td></tr><tr><td>event_46</td><td>1.75522799768658E9</td><td>List(2025-08-15T03:19:57.686552, click, List(List(item_255, 96.51, 2), List(item_902, 60.75, 1)), user_4400)</td><td>user_4400</td><td>click</td><td>2025-08-15T03:19:57.686552Z</td><td>List(List(item_255, 96.51, 2), List(item_902, 60.75, 1))</td></tr><tr><td>event_47</td><td>1.755227997686597E9</td><td>List(2025-08-15T03:19:57.686582, click, List(List(item_989, 22.58, 4), List(item_336, 49.08, 3), List(item_553, 74.41, 2)), user_3116)</td><td>user_3116</td><td>click</td><td>2025-08-15T03:19:57.686582Z</td><td>List(List(item_989, 22.58, 4), List(item_336, 49.08, 3), List(item_553, 74.41, 2))</td></tr><tr><td>event_48</td><td>1.755227997686608E9</td><td>List(2025-08-15T03:19:57.686599, click, List(List(item_538, 63.62, 3)), user_3639)</td><td>user_3639</td><td>click</td><td>2025-08-15T03:19:57.686599Z</td><td>List(List(item_538, 63.62, 3))</td></tr><tr><td>event_49</td><td>1.755227997686618E9</td><td>List(2025-08-15T03:19:57.686610, purchase, List(List(item_889, 42.32, 4)), user_9501)</td><td>user_9501</td><td>purchase</td><td>2025-08-15T03:19:57.68661Z</td><td>List(List(item_889, 42.32, 4))</td></tr><tr><td>event_50</td><td>1.75522799768663E9</td><td>List(2025-08-15T03:19:57.686620, click, List(List(item_969, 25.24, 1), List(item_895, 90.68, 4)), user_6022)</td><td>user_6022</td><td>click</td><td>2025-08-15T03:19:57.68662Z</td><td>List(List(item_969, 25.24, 1), List(item_895, 90.68, 4))</td></tr><tr><td>event_51</td><td>1.755227997686641E9</td><td>List(2025-08-15T03:19:57.686633, purchase, List(List(item_963, 32.33, 4)), user_9055)</td><td>user_9055</td><td>purchase</td><td>2025-08-15T03:19:57.686633Z</td><td>List(List(item_963, 32.33, 4))</td></tr><tr><td>event_52</td><td>1.755227997686656E9</td><td>List(2025-08-15T03:19:57.686643, purchase, List(List(item_287, 11.27, 5), List(item_676, 30.75, 2), List(item_182, 93.58, 4)), user_7497)</td><td>user_7497</td><td>purchase</td><td>2025-08-15T03:19:57.686643Z</td><td>List(List(item_287, 11.27, 5), List(item_676, 30.75, 2), List(item_182, 93.58, 4))</td></tr><tr><td>event_53</td><td>1.755227997686667E9</td><td>List(2025-08-15T03:19:57.686659, click, List(List(item_163, 86.18, 1)), user_5697)</td><td>user_5697</td><td>click</td><td>2025-08-15T03:19:57.686659Z</td><td>List(List(item_163, 86.18, 1))</td></tr><tr><td>event_54</td><td>1.755227997686679E9</td><td>List(2025-08-15T03:19:57.686669, purchase, List(List(item_161, 73.68, 1)), user_1546)</td><td>user_1546</td><td>purchase</td><td>2025-08-15T03:19:57.686669Z</td><td>List(List(item_161, 73.68, 1))</td></tr><tr><td>event_55</td><td>1.75522799768669E9</td><td>List(2025-08-15T03:19:57.686682, click, List(List(item_301, 10.3, 3)), user_3657)</td><td>user_3657</td><td>click</td><td>2025-08-15T03:19:57.686682Z</td><td>List(List(item_301, 10.3, 3))</td></tr><tr><td>event_56</td><td>1.755227997686705E9</td><td>List(2025-08-15T03:19:57.686692, click, List(List(item_487, 16.55, 2), List(item_599, 21.73, 1), List(item_749, 40.09, 4)), user_5898)</td><td>user_5898</td><td>click</td><td>2025-08-15T03:19:57.686692Z</td><td>List(List(item_487, 16.55, 2), List(item_599, 21.73, 1), List(item_749, 40.09, 4))</td></tr><tr><td>event_57</td><td>1.755227997686721E9</td><td>List(2025-08-15T03:19:57.686707, view, List(List(item_552, 99.55, 5), List(item_894, 64.35, 3)), user_5656)</td><td>user_5656</td><td>view</td><td>2025-08-15T03:19:57.686707Z</td><td>List(List(item_552, 99.55, 5), List(item_894, 64.35, 3))</td></tr><tr><td>event_58</td><td>1.755227997686731E9</td><td>List(2025-08-15T03:19:57.686722, view, List(List(item_974, 71.05, 5)), user_4491)</td><td>user_4491</td><td>view</td><td>2025-08-15T03:19:57.686722Z</td><td>List(List(item_974, 71.05, 5))</td></tr><tr><td>event_59</td><td>1.755227997686743E9</td><td>List(2025-08-15T03:19:57.686733, click, List(List(item_768, 48.56, 4), List(item_963, 26.72, 2)), user_5623)</td><td>user_5623</td><td>click</td><td>2025-08-15T03:19:57.686733Z</td><td>List(List(item_768, 48.56, 4), List(item_963, 26.72, 2))</td></tr><tr><td>event_60</td><td>1.755227997686756E9</td><td>List(2025-08-15T03:19:57.686745, view, List(List(item_854, 35.85, 3), List(item_879, 49.0, 2)), user_7369)</td><td>user_7369</td><td>view</td><td>2025-08-15T03:19:57.686745Z</td><td>List(List(item_854, 35.85, 3), List(item_879, 49.0, 2))</td></tr><tr><td>event_61</td><td>1.755227997686768E9</td><td>List(2025-08-15T03:19:57.686758, click, List(List(item_771, 14.31, 1), List(item_948, 17.05, 1)), user_7046)</td><td>user_7046</td><td>click</td><td>2025-08-15T03:19:57.686758Z</td><td>List(List(item_771, 14.31, 1), List(item_948, 17.05, 1))</td></tr><tr><td>event_62</td><td>1.75522799768678E9</td><td>List(2025-08-15T03:19:57.686770, click, List(List(item_902, 65.63, 3), List(item_942, 53.67, 2)), user_8755)</td><td>user_8755</td><td>click</td><td>2025-08-15T03:19:57.68677Z</td><td>List(List(item_902, 65.63, 3), List(item_942, 53.67, 2))</td></tr><tr><td>event_63</td><td>1.755227997686795E9</td><td>List(2025-08-15T03:19:57.686782, click, List(List(item_329, 35.61, 4), List(item_670, 53.27, 3), List(item_903, 21.39, 2)), user_4799)</td><td>user_4799</td><td>click</td><td>2025-08-15T03:19:57.686782Z</td><td>List(List(item_329, 35.61, 4), List(item_670, 53.27, 3), List(item_903, 21.39, 2))</td></tr><tr><td>event_64</td><td>1.755227997686805E9</td><td>List(2025-08-15T03:19:57.686797, click, List(List(item_119, 73.13, 5)), user_9729)</td><td>user_9729</td><td>click</td><td>2025-08-15T03:19:57.686797Z</td><td>List(List(item_119, 73.13, 5))</td></tr><tr><td>event_65</td><td>1.755227997686817E9</td><td>List(2025-08-15T03:19:57.686807, view, List(List(item_328, 98.94, 2), List(item_469, 34.66, 1)), user_8929)</td><td>user_8929</td><td>view</td><td>2025-08-15T03:19:57.686807Z</td><td>List(List(item_328, 98.94, 2), List(item_469, 34.66, 1))</td></tr><tr><td>event_66</td><td>1.755227997686829E9</td><td>List(2025-08-15T03:19:57.686819, view, List(List(item_578, 86.46, 5), List(item_797, 49.82, 2)), user_2968)</td><td>user_2968</td><td>view</td><td>2025-08-15T03:19:57.686819Z</td><td>List(List(item_578, 86.46, 5), List(item_797, 49.82, 2))</td></tr><tr><td>event_67</td><td>1.755227997686839E9</td><td>List(2025-08-15T03:19:57.686831, view, List(List(item_308, 84.67, 2)), user_3885)</td><td>user_3885</td><td>view</td><td>2025-08-15T03:19:57.686831Z</td><td>List(List(item_308, 84.67, 2))</td></tr><tr><td>event_68</td><td>1.755227997686854E9</td><td>List(2025-08-15T03:19:57.686841, view, List(List(item_962, 20.22, 5), List(item_934, 68.54, 2), List(item_785, 31.5, 4)), user_8239)</td><td>user_8239</td><td>view</td><td>2025-08-15T03:19:57.686841Z</td><td>List(List(item_962, 20.22, 5), List(item_934, 68.54, 2), List(item_785, 31.5, 4))</td></tr><tr><td>event_69</td><td>1.755227997686864E9</td><td>List(2025-08-15T03:19:57.686856, click, List(List(item_985, 36.59, 1)), user_3903)</td><td>user_3903</td><td>click</td><td>2025-08-15T03:19:57.686856Z</td><td>List(List(item_985, 36.59, 1))</td></tr><tr><td>event_70</td><td>1.755227997686874E9</td><td>List(2025-08-15T03:19:57.686866, purchase, List(List(item_194, 39.27, 3)), user_9357)</td><td>user_9357</td><td>purchase</td><td>2025-08-15T03:19:57.686866Z</td><td>List(List(item_194, 39.27, 3))</td></tr><tr><td>event_71</td><td>1.755227997686889E9</td><td>List(2025-08-15T03:19:57.686876, click, List(List(item_484, 75.07, 2), List(item_602, 46.28, 5), List(item_320, 78.11, 1)), user_6415)</td><td>user_6415</td><td>click</td><td>2025-08-15T03:19:57.686876Z</td><td>List(List(item_484, 75.07, 2), List(item_602, 46.28, 5), List(item_320, 78.11, 1))</td></tr><tr><td>event_72</td><td>1.755227997686899E9</td><td>List(2025-08-15T03:19:57.686891, view, List(List(item_797, 38.18, 3)), user_7646)</td><td>user_7646</td><td>view</td><td>2025-08-15T03:19:57.686891Z</td><td>List(List(item_797, 38.18, 3))</td></tr><tr><td>event_73</td><td>1.755227997686909E9</td><td>List(2025-08-15T03:19:57.686901, click, List(List(item_407, 39.44, 1)), user_5894)</td><td>user_5894</td><td>click</td><td>2025-08-15T03:19:57.686901Z</td><td>List(List(item_407, 39.44, 1))</td></tr><tr><td>event_74</td><td>1.755227997686921E9</td><td>List(2025-08-15T03:19:57.686911, view, List(List(item_419, 30.88, 1), List(item_746, 63.19, 4)), user_5051)</td><td>user_5051</td><td>view</td><td>2025-08-15T03:19:57.686911Z</td><td>List(List(item_419, 30.88, 1), List(item_746, 63.19, 4))</td></tr><tr><td>event_75</td><td>1.755227997686931E9</td><td>List(2025-08-15T03:19:57.686923, view, List(List(item_948, 91.13, 1)), user_5908)</td><td>user_5908</td><td>view</td><td>2025-08-15T03:19:57.686923Z</td><td>List(List(item_948, 91.13, 1))</td></tr><tr><td>event_76</td><td>1.755227997686946E9</td><td>List(2025-08-15T03:19:57.686933, view, List(List(item_782, 98.62, 3), List(item_502, 54.5, 4), List(item_478, 28.25, 3)), user_1183)</td><td>user_1183</td><td>view</td><td>2025-08-15T03:19:57.686933Z</td><td>List(List(item_782, 98.62, 3), List(item_502, 54.5, 4), List(item_478, 28.25, 3))</td></tr><tr><td>event_77</td><td>1.755227997686967E9</td><td>List(2025-08-15T03:19:57.686948, click, List(List(item_505, 79.27, 3), List(item_190, 47.74, 1)), user_6824)</td><td>user_6824</td><td>click</td><td>2025-08-15T03:19:57.686948Z</td><td>List(List(item_505, 79.27, 3), List(item_190, 47.74, 1))</td></tr><tr><td>event_78</td><td>1.755227997686991E9</td><td>List(2025-08-15T03:19:57.686971, click, List(List(item_110, 64.8, 1), List(item_483, 23.64, 1), List(item_326, 90.86, 4)), user_8704)</td><td>user_8704</td><td>click</td><td>2025-08-15T03:19:57.686971Z</td><td>List(List(item_110, 64.8, 1), List(item_483, 23.64, 1), List(item_326, 90.86, 4))</td></tr><tr><td>event_79</td><td>1.755227997687007E9</td><td>List(2025-08-15T03:19:57.686994, view, List(List(item_731, 61.26, 4), List(item_283, 17.21, 4), List(item_566, 98.96, 1)), user_2039)</td><td>user_2039</td><td>view</td><td>2025-08-15T03:19:57.686994Z</td><td>List(List(item_731, 61.26, 4), List(item_283, 17.21, 4), List(item_566, 98.96, 1))</td></tr><tr><td>event_80</td><td>1.755227997687017E9</td><td>List(2025-08-15T03:19:57.687009, click, List(List(item_727, 73.94, 2)), user_7406)</td><td>user_7406</td><td>click</td><td>2025-08-15T03:19:57.687009Z</td><td>List(List(item_727, 73.94, 2))</td></tr><tr><td>event_81</td><td>1.755227997687026E9</td><td>List(2025-08-15T03:19:57.687019, view, List(List(item_267, 70.7, 2)), user_3398)</td><td>user_3398</td><td>view</td><td>2025-08-15T03:19:57.687019Z</td><td>List(List(item_267, 70.7, 2))</td></tr><tr><td>event_82</td><td>1.755227997687042E9</td><td>List(2025-08-15T03:19:57.687028, purchase, List(List(item_171, 32.07, 1), List(item_375, 28.9, 1), List(item_524, 86.15, 5)), user_6606)</td><td>user_6606</td><td>purchase</td><td>2025-08-15T03:19:57.687028Z</td><td>List(List(item_171, 32.07, 1), List(item_375, 28.9, 1), List(item_524, 86.15, 5))</td></tr><tr><td>event_83</td><td>1.755227997687054E9</td><td>List(2025-08-15T03:19:57.687044, purchase, List(List(item_627, 78.63, 3), List(item_659, 13.53, 4)), user_3868)</td><td>user_3868</td><td>purchase</td><td>2025-08-15T03:19:57.687044Z</td><td>List(List(item_627, 78.63, 3), List(item_659, 13.53, 4))</td></tr><tr><td>event_84</td><td>1.75522799768707E9</td><td>List(2025-08-15T03:19:57.687056, view, List(List(item_928, 40.89, 5), List(item_271, 27.28, 5), List(item_487, 86.38, 2)), user_1162)</td><td>user_1162</td><td>view</td><td>2025-08-15T03:19:57.687056Z</td><td>List(List(item_928, 40.89, 5), List(item_271, 27.28, 5), List(item_487, 86.38, 2))</td></tr><tr><td>event_85</td><td>1.755227997687082E9</td><td>List(2025-08-15T03:19:57.687071, purchase, List(List(item_183, 90.35, 1), List(item_598, 26.83, 3)), user_4588)</td><td>user_4588</td><td>purchase</td><td>2025-08-15T03:19:57.687071Z</td><td>List(List(item_183, 90.35, 1), List(item_598, 26.83, 3))</td></tr><tr><td>event_86</td><td>1.755227997687091E9</td><td>List(2025-08-15T03:19:57.687084, view, List(List(item_713, 18.61, 4)), user_9292)</td><td>user_9292</td><td>view</td><td>2025-08-15T03:19:57.687084Z</td><td>List(List(item_713, 18.61, 4))</td></tr><tr><td>event_87</td><td>1.755227997687107E9</td><td>List(2025-08-15T03:19:57.687093, view, List(List(item_305, 88.25, 5), List(item_547, 86.75, 2), List(item_303, 15.0, 1)), user_9409)</td><td>user_9409</td><td>view</td><td>2025-08-15T03:19:57.687093Z</td><td>List(List(item_305, 88.25, 5), List(item_547, 86.75, 2), List(item_303, 15.0, 1))</td></tr><tr><td>event_88</td><td>1.75522799768712E9</td><td>List(2025-08-15T03:19:57.687109, click, List(List(item_194, 71.43, 2)), user_6372)</td><td>user_6372</td><td>click</td><td>2025-08-15T03:19:57.687109Z</td><td>List(List(item_194, 71.43, 2))</td></tr><tr><td>event_89</td><td>1.755227997687136E9</td><td>List(2025-08-15T03:19:57.687122, purchase, List(List(item_262, 75.2, 5), List(item_334, 14.27, 1)), user_2131)</td><td>user_2131</td><td>purchase</td><td>2025-08-15T03:19:57.687122Z</td><td>List(List(item_262, 75.2, 5), List(item_334, 14.27, 1))</td></tr><tr><td>event_90</td><td>1.755227997687149E9</td><td>List(2025-08-15T03:19:57.687138, purchase, List(List(item_626, 66.46, 1), List(item_241, 83.55, 5)), user_6310)</td><td>user_6310</td><td>purchase</td><td>2025-08-15T03:19:57.687138Z</td><td>List(List(item_626, 66.46, 1), List(item_241, 83.55, 5))</td></tr><tr><td>event_91</td><td>1.755227997687166E9</td><td>List(2025-08-15T03:19:57.687152, click, List(List(item_369, 19.64, 5)), user_6121)</td><td>user_6121</td><td>click</td><td>2025-08-15T03:19:57.687152Z</td><td>List(List(item_369, 19.64, 5))</td></tr><tr><td>event_92</td><td>1.755227997687184E9</td><td>List(2025-08-15T03:19:57.687170, click, List(List(item_670, 35.58, 2), List(item_771, 48.68, 5), List(item_239, 19.87, 4)), user_4765)</td><td>user_4765</td><td>click</td><td>2025-08-15T03:19:57.68717Z</td><td>List(List(item_670, 35.58, 2), List(item_771, 48.68, 5), List(item_239, 19.87, 4))</td></tr><tr><td>event_93</td><td>1.755227997687209E9</td><td>List(2025-08-15T03:19:57.687187, click, List(List(item_919, 99.95, 2), List(item_150, 51.49, 4), List(item_357, 74.19, 3)), user_1200)</td><td>user_1200</td><td>click</td><td>2025-08-15T03:19:57.687187Z</td><td>List(List(item_919, 99.95, 2), List(item_150, 51.49, 4), List(item_357, 74.19, 3))</td></tr><tr><td>event_94</td><td>1.755227997687225E9</td><td>List(2025-08-15T03:19:57.687211, view, List(List(item_338, 92.48, 4), List(item_470, 30.03, 5), List(item_532, 32.93, 5)), user_4623)</td><td>user_4623</td><td>view</td><td>2025-08-15T03:19:57.687211Z</td><td>List(List(item_338, 92.48, 4), List(item_470, 30.03, 5), List(item_532, 32.93, 5))</td></tr><tr><td>event_95</td><td>1.755227997687235E9</td><td>List(2025-08-15T03:19:57.687227, click, List(List(item_499, 49.65, 1)), user_7742)</td><td>user_7742</td><td>click</td><td>2025-08-15T03:19:57.687227Z</td><td>List(List(item_499, 49.65, 1))</td></tr><tr><td>event_96</td><td>1.755227997687268E9</td><td>List(2025-08-15T03:19:57.687237, view, List(List(item_942, 23.07, 1), List(item_593, 52.46, 3), List(item_823, 61.8, 5)), user_3506)</td><td>user_3506</td><td>view</td><td>2025-08-15T03:19:57.687237Z</td><td>List(List(item_942, 23.07, 1), List(item_593, 52.46, 3), List(item_823, 61.8, 5))</td></tr><tr><td>event_97</td><td>1.755227997687279E9</td><td>List(2025-08-15T03:19:57.687271, click, List(List(item_206, 92.02, 1)), user_5102)</td><td>user_5102</td><td>click</td><td>2025-08-15T03:19:57.687271Z</td><td>List(List(item_206, 92.02, 1))</td></tr><tr><td>event_98</td><td>1.755227997687288E9</td><td>List(2025-08-15T03:19:57.687280, view, List(List(item_771, 26.6, 5)), user_2751)</td><td>user_2751</td><td>view</td><td>2025-08-15T03:19:57.68728Z</td><td>List(List(item_771, 26.6, 5))</td></tr><tr><td>event_99</td><td>1.755227997687304E9</td><td>List(2025-08-15T03:19:57.687290, view, List(List(item_762, 91.88, 3), List(item_766, 86.85, 5), List(item_211, 10.97, 4)), user_5420)</td><td>user_5420</td><td>view</td><td>2025-08-15T03:19:57.68729Z</td><td>List(List(item_762, 91.88, 3), List(item_766, 86.85, 5), List(item_211, 10.97, 4))</td></tr></tbody></table></div>"
      ]
     },
     "metadata": {
      "application/vnd.databricks.v1+output": {
       "addedWidgets": {},
       "aggData": [],
       "aggError": "",
       "aggOverflow": false,
       "aggSchema": [],
       "aggSeriesLimitReached": false,
       "aggType": "",
       "arguments": {},
       "columnCustomDisplayInfos": {},
       "data": [
        [
         "event_0",
         1.755227997685932E9,
         [
          "2025-08-15T03:19:57.685885",
          "view",
          [
           [
            "item_175",
            26.34,
            3
           ],
           [
            "item_308",
            38.42,
            2
           ]
          ],
          "user_9442"
         ],
         "user_9442",
         "view",
         "2025-08-15T03:19:57.685885Z",
         [
          [
           "item_175",
           26.34,
           3
          ],
          [
           "item_308",
           38.42,
           2
          ]
         ]
        ],
        [
         "event_1",
         1.755227997685954E9,
         [
          "2025-08-15T03:19:57.685938",
          "purchase",
          [
           [
            "item_905",
            13.04,
            1
           ]
          ],
          "user_6202"
         ],
         "user_6202",
         "purchase",
         "2025-08-15T03:19:57.685938Z",
         [
          [
           "item_905",
           13.04,
           1
          ]
         ]
        ],
        [
         "event_2",
         1.75522799768597E9,
         [
          "2025-08-15T03:19:57.685957",
          "click",
          [
           [
            "item_566",
            51.63,
            1
           ],
           [
            "item_310",
            16.99,
            2
           ]
          ],
          "user_1854"
         ],
         "user_1854",
         "click",
         "2025-08-15T03:19:57.685957Z",
         [
          [
           "item_566",
           51.63,
           1
          ],
          [
           "item_310",
           16.99,
           2
          ]
         ]
        ],
        [
         "event_3",
         1.755227997685985E9,
         [
          "2025-08-15T03:19:57.685973",
          "click",
          [
           [
            "item_566",
            37.03,
            3
           ],
           [
            "item_436",
            85.36,
            5
           ]
          ],
          "user_9430"
         ],
         "user_9430",
         "click",
         "2025-08-15T03:19:57.685973Z",
         [
          [
           "item_566",
           37.03,
           3
          ],
          [
           "item_436",
           85.36,
           5
          ]
         ]
        ],
        [
         "event_4",
         1.755227997685996E9,
         [
          "2025-08-15T03:19:57.685987",
          "purchase",
          [
           [
            "item_366",
            46.09,
            1
           ]
          ],
          "user_7786"
         ],
         "user_7786",
         "purchase",
         "2025-08-15T03:19:57.685987Z",
         [
          [
           "item_366",
           46.09,
           1
          ]
         ]
        ],
        [
         "event_5",
         1.755227997686006E9,
         [
          "2025-08-15T03:19:57.685998",
          "click",
          [
           [
            "item_460",
            25.93,
            4
           ]
          ],
          "user_4175"
         ],
         "user_4175",
         "click",
         "2025-08-15T03:19:57.685998Z",
         [
          [
           "item_460",
           25.93,
           4
          ]
         ]
        ],
        [
         "event_6",
         1.755227997686019E9,
         [
          "2025-08-15T03:19:57.686008",
          "click",
          [
           [
            "item_366",
            57.43,
            4
           ],
           [
            "item_132",
            64.54,
            5
           ]
          ],
          "user_2159"
         ],
         "user_2159",
         "click",
         "2025-08-15T03:19:57.686008Z",
         [
          [
           "item_366",
           57.43,
           4
          ],
          [
           "item_132",
           64.54,
           5
          ]
         ]
        ],
        [
         "event_7",
         1.755227997686036E9,
         [
          "2025-08-15T03:19:57.686021",
          "click",
          [
           [
            "item_894",
            48.07,
            2
           ],
           [
            "item_726",
            38.27,
            4
           ],
           [
            "item_779",
            83.15,
            1
           ]
          ],
          "user_7386"
         ],
         "user_7386",
         "click",
         "2025-08-15T03:19:57.686021Z",
         [
          [
           "item_894",
           48.07,
           2
          ],
          [
           "item_726",
           38.27,
           4
          ],
          [
           "item_779",
           83.15,
           1
          ]
         ]
        ],
        [
         "event_8",
         1.755227997686053E9,
         [
          "2025-08-15T03:19:57.686039",
          "click",
          [
           [
            "item_683",
            23.01,
            5
           ],
           [
            "item_527",
            23.25,
            1
           ],
           [
            "item_760",
            44.65,
            4
           ]
          ],
          "user_8857"
         ],
         "user_8857",
         "click",
         "2025-08-15T03:19:57.686039Z",
         [
          [
           "item_683",
           23.01,
           5
          ],
          [
           "item_527",
           23.25,
           1
          ],
          [
           "item_760",
           44.65,
           4
          ]
         ]
        ],
        [
         "event_9",
         1.755227997686064E9,
         [
          "2025-08-15T03:19:57.686055",
          "view",
          [
           [
            "item_157",
            67.91,
            2
           ]
          ],
          "user_9819"
         ],
         "user_9819",
         "view",
         "2025-08-15T03:19:57.686055Z",
         [
          [
           "item_157",
           67.91,
           2
          ]
         ]
        ],
        [
         "event_10",
         1.755227997686074E9,
         [
          "2025-08-15T03:19:57.686066",
          "view",
          [
           [
            "item_676",
            84.02,
            1
           ]
          ],
          "user_8581"
         ],
         "user_8581",
         "view",
         "2025-08-15T03:19:57.686066Z",
         [
          [
           "item_676",
           84.02,
           1
          ]
         ]
        ],
        [
         "event_11",
         1.755227997686098E9,
         [
          "2025-08-15T03:19:57.686076",
          "view",
          [
           [
            "item_114",
            93.67,
            4
           ],
           [
            "item_942",
            90.96,
            2
           ],
           [
            "item_729",
            90.6,
            3
           ]
          ],
          "user_2870"
         ],
         "user_2870",
         "view",
         "2025-08-15T03:19:57.686076Z",
         [
          [
           "item_114",
           93.67,
           4
          ],
          [
           "item_942",
           90.96,
           2
          ],
          [
           "item_729",
           90.6,
           3
          ]
         ]
        ],
        [
         "event_12",
         1.75522799768612E9,
         [
          "2025-08-15T03:19:57.686101",
          "view",
          [
           [
            "item_884",
            35.3,
            1
           ],
           [
            "item_199",
            90.97,
            5
           ]
          ],
          "user_8649"
         ],
         "user_8649",
         "view",
         "2025-08-15T03:19:57.686101Z",
         [
          [
           "item_884",
           35.3,
           1
          ],
          [
           "item_199",
           90.97,
           5
          ]
         ]
        ],
        [
         "event_13",
         1.755227997686145E9,
         [
          "2025-08-15T03:19:57.686123",
          "view",
          [
           [
            "item_971",
            81.53,
            5
           ],
           [
            "item_317",
            17.12,
            3
           ],
           [
            "item_914",
            14.9,
            2
           ]
          ],
          "user_4362"
         ],
         "user_4362",
         "view",
         "2025-08-15T03:19:57.686123Z",
         [
          [
           "item_971",
           81.53,
           5
          ],
          [
           "item_317",
           17.12,
           3
          ],
          [
           "item_914",
           14.9,
           2
          ]
         ]
        ],
        [
         "event_14",
         1.755227997686159E9,
         [
          "2025-08-15T03:19:57.686147",
          "view",
          [
           [
            "item_854",
            38.97,
            5
           ],
           [
            "item_283",
            21.11,
            5
           ]
          ],
          "user_8388"
         ],
         "user_8388",
         "view",
         "2025-08-15T03:19:57.686147Z",
         [
          [
           "item_854",
           38.97,
           5
          ],
          [
           "item_283",
           21.11,
           5
          ]
         ]
        ],
        [
         "event_15",
         1.755227997686174E9,
         [
          "2025-08-15T03:19:57.686161",
          "click",
          [
           [
            "item_869",
            81.54,
            4
           ],
           [
            "item_123",
            31.61,
            3
           ],
           [
            "item_383",
            43.9,
            4
           ]
          ],
          "user_8887"
         ],
         "user_8887",
         "click",
         "2025-08-15T03:19:57.686161Z",
         [
          [
           "item_869",
           81.54,
           4
          ],
          [
           "item_123",
           31.61,
           3
          ],
          [
           "item_383",
           43.9,
           4
          ]
         ]
        ],
        [
         "event_16",
         1.755227997686184E9,
         [
          "2025-08-15T03:19:57.686176",
          "click",
          [
           [
            "item_146",
            89.8,
            4
           ]
          ],
          "user_2863"
         ],
         "user_2863",
         "click",
         "2025-08-15T03:19:57.686176Z",
         [
          [
           "item_146",
           89.8,
           4
          ]
         ]
        ],
        [
         "event_17",
         1.755227997686194E9,
         [
          "2025-08-15T03:19:57.686186",
          "click",
          [
           [
            "item_189",
            25.93,
            1
           ]
          ],
          "user_3579"
         ],
         "user_3579",
         "click",
         "2025-08-15T03:19:57.686186Z",
         [
          [
           "item_189",
           25.93,
           1
          ]
         ]
        ],
        [
         "event_18",
         1.755227997686204E9,
         [
          "2025-08-15T03:19:57.686196",
          "view",
          [
           [
            "item_421",
            99.8,
            3
           ]
          ],
          "user_2725"
         ],
         "user_2725",
         "view",
         "2025-08-15T03:19:57.686196Z",
         [
          [
           "item_421",
           99.8,
           3
          ]
         ]
        ],
        [
         "event_19",
         1.755227997686214E9,
         [
          "2025-08-15T03:19:57.686206",
          "click",
          [
           [
            "item_734",
            39.37,
            5
           ]
          ],
          "user_4101"
         ],
         "user_4101",
         "click",
         "2025-08-15T03:19:57.686206Z",
         [
          [
           "item_734",
           39.37,
           5
          ]
         ]
        ],
        [
         "event_20",
         1.755227997686229E9,
         [
          "2025-08-15T03:19:57.686216",
          "view",
          [
           [
            "item_942",
            54.61,
            2
           ],
           [
            "item_158",
            93.18,
            1
           ],
           [
            "item_497",
            90.06,
            1
           ]
          ],
          "user_3286"
         ],
         "user_3286",
         "view",
         "2025-08-15T03:19:57.686216Z",
         [
          [
           "item_942",
           54.61,
           2
          ],
          [
           "item_158",
           93.18,
           1
          ],
          [
           "item_497",
           90.06,
           1
          ]
         ]
        ],
        [
         "event_21",
         1.755227997686239E9,
         [
          "2025-08-15T03:19:57.686231",
          "click",
          [
           [
            "item_742",
            37.79,
            2
           ]
          ],
          "user_9239"
         ],
         "user_9239",
         "click",
         "2025-08-15T03:19:57.686231Z",
         [
          [
           "item_742",
           37.79,
           2
          ]
         ]
        ],
        [
         "event_22",
         1.755227997686252E9,
         [
          "2025-08-15T03:19:57.686241",
          "purchase",
          [
           [
            "item_690",
            21.18,
            1
           ],
           [
            "item_555",
            87.79,
            5
           ]
          ],
          "user_9636"
         ],
         "user_9636",
         "purchase",
         "2025-08-15T03:19:57.686241Z",
         [
          [
           "item_690",
           21.18,
           1
          ],
          [
           "item_555",
           87.79,
           5
          ]
         ]
        ],
        [
         "event_23",
         1.755227997686262E9,
         [
          "2025-08-15T03:19:57.686254",
          "purchase",
          [
           [
            "item_945",
            16.32,
            1
           ]
          ],
          "user_4090"
         ],
         "user_4090",
         "purchase",
         "2025-08-15T03:19:57.686254Z",
         [
          [
           "item_945",
           16.32,
           1
          ]
         ]
        ],
        [
         "event_24",
         1.755227997686284E9,
         [
          "2025-08-15T03:19:57.686264",
          "purchase",
          [
           [
            "item_731",
            25.23,
            3
           ]
          ],
          "user_9174"
         ],
         "user_9174",
         "purchase",
         "2025-08-15T03:19:57.686264Z",
         [
          [
           "item_731",
           25.23,
           3
          ]
         ]
        ],
        [
         "event_25",
         1.755227997686301E9,
         [
          "2025-08-15T03:19:57.686287",
          "click",
          [
           [
            "item_843",
            98.78,
            5
           ],
           [
            "item_250",
            85.22,
            1
           ],
           [
            "item_683",
            45.15,
            4
           ]
          ],
          "user_5399"
         ],
         "user_5399",
         "click",
         "2025-08-15T03:19:57.686287Z",
         [
          [
           "item_843",
           98.78,
           5
          ],
          [
           "item_250",
           85.22,
           1
          ],
          [
           "item_683",
           45.15,
           4
          ]
         ]
        ],
        [
         "event_26",
         1.755227997686317E9,
         [
          "2025-08-15T03:19:57.686304",
          "purchase",
          [
           [
            "item_222",
            40.26,
            3
           ],
           [
            "item_733",
            79.36,
            3
           ]
          ],
          "user_5674"
         ],
         "user_5674",
         "purchase",
         "2025-08-15T03:19:57.686304Z",
         [
          [
           "item_222",
           40.26,
           3
          ],
          [
           "item_733",
           79.36,
           3
          ]
         ]
        ],
        [
         "event_27",
         1.75522799768633E9,
         [
          "2025-08-15T03:19:57.686319",
          "click",
          [
           [
            "item_561",
            13.83,
            4
           ],
           [
            "item_599",
            49.98,
            4
           ]
          ],
          "user_2960"
         ],
         "user_2960",
         "click",
         "2025-08-15T03:19:57.686319Z",
         [
          [
           "item_561",
           13.83,
           4
          ],
          [
           "item_599",
           49.98,
           4
          ]
         ]
        ],
        [
         "event_28",
         1.75522799768634E9,
         [
          "2025-08-15T03:19:57.686332",
          "click",
          [
           [
            "item_697",
            32.45,
            3
           ]
          ],
          "user_7201"
         ],
         "user_7201",
         "click",
         "2025-08-15T03:19:57.686332Z",
         [
          [
           "item_697",
           32.45,
           3
          ]
         ]
        ],
        [
         "event_29",
         1.755227997686352E9,
         [
          "2025-08-15T03:19:57.686342",
          "purchase",
          [
           [
            "item_302",
            53.68,
            2
           ],
           [
            "item_152",
            17.73,
            4
           ]
          ],
          "user_6815"
         ],
         "user_6815",
         "purchase",
         "2025-08-15T03:19:57.686342Z",
         [
          [
           "item_302",
           53.68,
           2
          ],
          [
           "item_152",
           17.73,
           4
          ]
         ]
        ],
        [
         "event_30",
         1.755227997686362E9,
         [
          "2025-08-15T03:19:57.686354",
          "click",
          [
           [
            "item_655",
            58.91,
            1
           ]
          ],
          "user_1974"
         ],
         "user_1974",
         "click",
         "2025-08-15T03:19:57.686354Z",
         [
          [
           "item_655",
           58.91,
           1
          ]
         ]
        ],
        [
         "event_31",
         1.755227997686375E9,
         [
          "2025-08-15T03:19:57.686364",
          "purchase",
          [
           [
            "item_166",
            68.85,
            4
           ],
           [
            "item_172",
            15.29,
            2
           ]
          ],
          "user_3499"
         ],
         "user_3499",
         "purchase",
         "2025-08-15T03:19:57.686364Z",
         [
          [
           "item_166",
           68.85,
           4
          ],
          [
           "item_172",
           15.29,
           2
          ]
         ]
        ],
        [
         "event_32",
         1.755227997686385E9,
         [
          "2025-08-15T03:19:57.686377",
          "purchase",
          [
           [
            "item_827",
            65.98,
            1
           ]
          ],
          "user_5361"
         ],
         "user_5361",
         "purchase",
         "2025-08-15T03:19:57.686377Z",
         [
          [
           "item_827",
           65.98,
           1
          ]
         ]
        ],
        [
         "event_33",
         1.755227997686397E9,
         [
          "2025-08-15T03:19:57.686386",
          "purchase",
          [
           [
            "item_976",
            70.98,
            1
           ],
           [
            "item_414",
            73.81,
            2
           ]
          ],
          "user_3776"
         ],
         "user_3776",
         "purchase",
         "2025-08-15T03:19:57.686386Z",
         [
          [
           "item_976",
           70.98,
           1
          ],
          [
           "item_414",
           73.81,
           2
          ]
         ]
        ],
        [
         "event_34",
         1.755227997686409E9,
         [
          "2025-08-15T03:19:57.686399",
          "view",
          [
           [
            "item_782",
            80.74,
            3
           ],
           [
            "item_454",
            64.0,
            4
           ]
          ],
          "user_6471"
         ],
         "user_6471",
         "view",
         "2025-08-15T03:19:57.686399Z",
         [
          [
           "item_782",
           80.74,
           3
          ],
          [
           "item_454",
           64.0,
           4
          ]
         ]
        ],
        [
         "event_35",
         1.755227997686419E9,
         [
          "2025-08-15T03:19:57.686411",
          "click",
          [
           [
            "item_111",
            53.97,
            5
           ]
          ],
          "user_5991"
         ],
         "user_5991",
         "click",
         "2025-08-15T03:19:57.686411Z",
         [
          [
           "item_111",
           53.97,
           5
          ]
         ]
        ],
        [
         "event_36",
         1.755227997686431E9,
         [
          "2025-08-15T03:19:57.686421",
          "purchase",
          [
           [
            "item_802",
            84.51,
            1
           ],
           [
            "item_440",
            65.09,
            4
           ]
          ],
          "user_1100"
         ],
         "user_1100",
         "purchase",
         "2025-08-15T03:19:57.686421Z",
         [
          [
           "item_802",
           84.51,
           1
          ],
          [
           "item_440",
           65.09,
           4
          ]
         ]
        ],
        [
         "event_37",
         1.755227997686446E9,
         [
          "2025-08-15T03:19:57.686433",
          "click",
          [
           [
            "item_712",
            12.47,
            1
           ],
           [
            "item_151",
            72.82,
            3
           ],
           [
            "item_828",
            40.84,
            5
           ]
          ],
          "user_1784"
         ],
         "user_1784",
         "click",
         "2025-08-15T03:19:57.686433Z",
         [
          [
           "item_712",
           12.47,
           1
          ],
          [
           "item_151",
           72.82,
           3
          ],
          [
           "item_828",
           40.84,
           5
          ]
         ]
        ],
        [
         "event_38",
         1.755227997686456E9,
         [
          "2025-08-15T03:19:57.686448",
          "click",
          [
           [
            "item_452",
            66.5,
            1
           ]
          ],
          "user_4129"
         ],
         "user_4129",
         "click",
         "2025-08-15T03:19:57.686448Z",
         [
          [
           "item_452",
           66.5,
           1
          ]
         ]
        ],
        [
         "event_39",
         1.755227997686472E9,
         [
          "2025-08-15T03:19:57.686458",
          "click",
          [
           [
            "item_361",
            52.39,
            4
           ],
           [
            "item_753",
            34.36,
            3
           ],
           [
            "item_960",
            43.61,
            1
           ]
          ],
          "user_9929"
         ],
         "user_9929",
         "click",
         "2025-08-15T03:19:57.686458Z",
         [
          [
           "item_361",
           52.39,
           4
          ],
          [
           "item_753",
           34.36,
           3
          ],
          [
           "item_960",
           43.61,
           1
          ]
         ]
        ],
        [
         "event_40",
         1.755227997686484E9,
         [
          "2025-08-15T03:19:57.686474",
          "click",
          [
           [
            "item_781",
            53.1,
            1
           ],
           [
            "item_924",
            44.7,
            4
           ]
          ],
          "user_8081"
         ],
         "user_8081",
         "click",
         "2025-08-15T03:19:57.686474Z",
         [
          [
           "item_781",
           53.1,
           1
          ],
          [
           "item_924",
           44.7,
           4
          ]
         ]
        ],
        [
         "event_41",
         1.7552279976865E9,
         [
          "2025-08-15T03:19:57.686486",
          "purchase",
          [
           [
            "item_411",
            74.71,
            4
           ],
           [
            "item_680",
            83.59,
            4
           ],
           [
            "item_855",
            96.59,
            1
           ]
          ],
          "user_2969"
         ],
         "user_2969",
         "purchase",
         "2025-08-15T03:19:57.686486Z",
         [
          [
           "item_411",
           74.71,
           4
          ],
          [
           "item_680",
           83.59,
           4
          ],
          [
           "item_855",
           96.59,
           1
          ]
         ]
        ],
        [
         "event_42",
         1.755227997686512E9,
         [
          "2025-08-15T03:19:57.686502",
          "view",
          [
           [
            "item_969",
            45.34,
            3
           ],
           [
            "item_552",
            10.21,
            2
           ]
          ],
          "user_7266"
         ],
         "user_7266",
         "view",
         "2025-08-15T03:19:57.686502Z",
         [
          [
           "item_969",
           45.34,
           3
          ],
          [
           "item_552",
           10.21,
           2
          ]
         ]
        ],
        [
         "event_43",
         1.755227997686522E9,
         [
          "2025-08-15T03:19:57.686514",
          "purchase",
          [
           [
            "item_486",
            30.23,
            4
           ]
          ],
          "user_8649"
         ],
         "user_8649",
         "purchase",
         "2025-08-15T03:19:57.686514Z",
         [
          [
           "item_486",
           30.23,
           4
          ]
         ]
        ],
        [
         "event_44",
         1.755227997686538E9,
         [
          "2025-08-15T03:19:57.686524",
          "view",
          [
           [
            "item_600",
            22.83,
            1
           ],
           [
            "item_963",
            11.23,
            2
           ],
           [
            "item_876",
            61.68,
            1
           ]
          ],
          "user_5234"
         ],
         "user_5234",
         "view",
         "2025-08-15T03:19:57.686524Z",
         [
          [
           "item_600",
           22.83,
           1
          ],
          [
           "item_963",
           11.23,
           2
          ],
          [
           "item_876",
           61.68,
           1
          ]
         ]
        ],
        [
         "event_45",
         1.755227997686551E9,
         [
          "2025-08-15T03:19:57.686540",
          "purchase",
          [
           [
            "item_811",
            89.26,
            1
           ],
           [
            "item_502",
            71.06,
            3
           ]
          ],
          "user_7555"
         ],
         "user_7555",
         "purchase",
         "2025-08-15T03:19:57.68654Z",
         [
          [
           "item_811",
           89.26,
           1
          ],
          [
           "item_502",
           71.06,
           3
          ]
         ]
        ],
        [
         "event_46",
         1.75522799768658E9,
         [
          "2025-08-15T03:19:57.686552",
          "click",
          [
           [
            "item_255",
            96.51,
            2
           ],
           [
            "item_902",
            60.75,
            1
           ]
          ],
          "user_4400"
         ],
         "user_4400",
         "click",
         "2025-08-15T03:19:57.686552Z",
         [
          [
           "item_255",
           96.51,
           2
          ],
          [
           "item_902",
           60.75,
           1
          ]
         ]
        ],
        [
         "event_47",
         1.755227997686597E9,
         [
          "2025-08-15T03:19:57.686582",
          "click",
          [
           [
            "item_989",
            22.58,
            4
           ],
           [
            "item_336",
            49.08,
            3
           ],
           [
            "item_553",
            74.41,
            2
           ]
          ],
          "user_3116"
         ],
         "user_3116",
         "click",
         "2025-08-15T03:19:57.686582Z",
         [
          [
           "item_989",
           22.58,
           4
          ],
          [
           "item_336",
           49.08,
           3
          ],
          [
           "item_553",
           74.41,
           2
          ]
         ]
        ],
        [
         "event_48",
         1.755227997686608E9,
         [
          "2025-08-15T03:19:57.686599",
          "click",
          [
           [
            "item_538",
            63.62,
            3
           ]
          ],
          "user_3639"
         ],
         "user_3639",
         "click",
         "2025-08-15T03:19:57.686599Z",
         [
          [
           "item_538",
           63.62,
           3
          ]
         ]
        ],
        [
         "event_49",
         1.755227997686618E9,
         [
          "2025-08-15T03:19:57.686610",
          "purchase",
          [
           [
            "item_889",
            42.32,
            4
           ]
          ],
          "user_9501"
         ],
         "user_9501",
         "purchase",
         "2025-08-15T03:19:57.68661Z",
         [
          [
           "item_889",
           42.32,
           4
          ]
         ]
        ],
        [
         "event_50",
         1.75522799768663E9,
         [
          "2025-08-15T03:19:57.686620",
          "click",
          [
           [
            "item_969",
            25.24,
            1
           ],
           [
            "item_895",
            90.68,
            4
           ]
          ],
          "user_6022"
         ],
         "user_6022",
         "click",
         "2025-08-15T03:19:57.68662Z",
         [
          [
           "item_969",
           25.24,
           1
          ],
          [
           "item_895",
           90.68,
           4
          ]
         ]
        ],
        [
         "event_51",
         1.755227997686641E9,
         [
          "2025-08-15T03:19:57.686633",
          "purchase",
          [
           [
            "item_963",
            32.33,
            4
           ]
          ],
          "user_9055"
         ],
         "user_9055",
         "purchase",
         "2025-08-15T03:19:57.686633Z",
         [
          [
           "item_963",
           32.33,
           4
          ]
         ]
        ],
        [
         "event_52",
         1.755227997686656E9,
         [
          "2025-08-15T03:19:57.686643",
          "purchase",
          [
           [
            "item_287",
            11.27,
            5
           ],
           [
            "item_676",
            30.75,
            2
           ],
           [
            "item_182",
            93.58,
            4
           ]
          ],
          "user_7497"
         ],
         "user_7497",
         "purchase",
         "2025-08-15T03:19:57.686643Z",
         [
          [
           "item_287",
           11.27,
           5
          ],
          [
           "item_676",
           30.75,
           2
          ],
          [
           "item_182",
           93.58,
           4
          ]
         ]
        ],
        [
         "event_53",
         1.755227997686667E9,
         [
          "2025-08-15T03:19:57.686659",
          "click",
          [
           [
            "item_163",
            86.18,
            1
           ]
          ],
          "user_5697"
         ],
         "user_5697",
         "click",
         "2025-08-15T03:19:57.686659Z",
         [
          [
           "item_163",
           86.18,
           1
          ]
         ]
        ],
        [
         "event_54",
         1.755227997686679E9,
         [
          "2025-08-15T03:19:57.686669",
          "purchase",
          [
           [
            "item_161",
            73.68,
            1
           ]
          ],
          "user_1546"
         ],
         "user_1546",
         "purchase",
         "2025-08-15T03:19:57.686669Z",
         [
          [
           "item_161",
           73.68,
           1
          ]
         ]
        ],
        [
         "event_55",
         1.75522799768669E9,
         [
          "2025-08-15T03:19:57.686682",
          "click",
          [
           [
            "item_301",
            10.3,
            3
           ]
          ],
          "user_3657"
         ],
         "user_3657",
         "click",
         "2025-08-15T03:19:57.686682Z",
         [
          [
           "item_301",
           10.3,
           3
          ]
         ]
        ],
        [
         "event_56",
         1.755227997686705E9,
         [
          "2025-08-15T03:19:57.686692",
          "click",
          [
           [
            "item_487",
            16.55,
            2
           ],
           [
            "item_599",
            21.73,
            1
           ],
           [
            "item_749",
            40.09,
            4
           ]
          ],
          "user_5898"
         ],
         "user_5898",
         "click",
         "2025-08-15T03:19:57.686692Z",
         [
          [
           "item_487",
           16.55,
           2
          ],
          [
           "item_599",
           21.73,
           1
          ],
          [
           "item_749",
           40.09,
           4
          ]
         ]
        ],
        [
         "event_57",
         1.755227997686721E9,
         [
          "2025-08-15T03:19:57.686707",
          "view",
          [
           [
            "item_552",
            99.55,
            5
           ],
           [
            "item_894",
            64.35,
            3
           ]
          ],
          "user_5656"
         ],
         "user_5656",
         "view",
         "2025-08-15T03:19:57.686707Z",
         [
          [
           "item_552",
           99.55,
           5
          ],
          [
           "item_894",
           64.35,
           3
          ]
         ]
        ],
        [
         "event_58",
         1.755227997686731E9,
         [
          "2025-08-15T03:19:57.686722",
          "view",
          [
           [
            "item_974",
            71.05,
            5
           ]
          ],
          "user_4491"
         ],
         "user_4491",
         "view",
         "2025-08-15T03:19:57.686722Z",
         [
          [
           "item_974",
           71.05,
           5
          ]
         ]
        ],
        [
         "event_59",
         1.755227997686743E9,
         [
          "2025-08-15T03:19:57.686733",
          "click",
          [
           [
            "item_768",
            48.56,
            4
           ],
           [
            "item_963",
            26.72,
            2
           ]
          ],
          "user_5623"
         ],
         "user_5623",
         "click",
         "2025-08-15T03:19:57.686733Z",
         [
          [
           "item_768",
           48.56,
           4
          ],
          [
           "item_963",
           26.72,
           2
          ]
         ]
        ],
        [
         "event_60",
         1.755227997686756E9,
         [
          "2025-08-15T03:19:57.686745",
          "view",
          [
           [
            "item_854",
            35.85,
            3
           ],
           [
            "item_879",
            49.0,
            2
           ]
          ],
          "user_7369"
         ],
         "user_7369",
         "view",
         "2025-08-15T03:19:57.686745Z",
         [
          [
           "item_854",
           35.85,
           3
          ],
          [
           "item_879",
           49.0,
           2
          ]
         ]
        ],
        [
         "event_61",
         1.755227997686768E9,
         [
          "2025-08-15T03:19:57.686758",
          "click",
          [
           [
            "item_771",
            14.31,
            1
           ],
           [
            "item_948",
            17.05,
            1
           ]
          ],
          "user_7046"
         ],
         "user_7046",
         "click",
         "2025-08-15T03:19:57.686758Z",
         [
          [
           "item_771",
           14.31,
           1
          ],
          [
           "item_948",
           17.05,
           1
          ]
         ]
        ],
        [
         "event_62",
         1.75522799768678E9,
         [
          "2025-08-15T03:19:57.686770",
          "click",
          [
           [
            "item_902",
            65.63,
            3
           ],
           [
            "item_942",
            53.67,
            2
           ]
          ],
          "user_8755"
         ],
         "user_8755",
         "click",
         "2025-08-15T03:19:57.68677Z",
         [
          [
           "item_902",
           65.63,
           3
          ],
          [
           "item_942",
           53.67,
           2
          ]
         ]
        ],
        [
         "event_63",
         1.755227997686795E9,
         [
          "2025-08-15T03:19:57.686782",
          "click",
          [
           [
            "item_329",
            35.61,
            4
           ],
           [
            "item_670",
            53.27,
            3
           ],
           [
            "item_903",
            21.39,
            2
           ]
          ],
          "user_4799"
         ],
         "user_4799",
         "click",
         "2025-08-15T03:19:57.686782Z",
         [
          [
           "item_329",
           35.61,
           4
          ],
          [
           "item_670",
           53.27,
           3
          ],
          [
           "item_903",
           21.39,
           2
          ]
         ]
        ],
        [
         "event_64",
         1.755227997686805E9,
         [
          "2025-08-15T03:19:57.686797",
          "click",
          [
           [
            "item_119",
            73.13,
            5
           ]
          ],
          "user_9729"
         ],
         "user_9729",
         "click",
         "2025-08-15T03:19:57.686797Z",
         [
          [
           "item_119",
           73.13,
           5
          ]
         ]
        ],
        [
         "event_65",
         1.755227997686817E9,
         [
          "2025-08-15T03:19:57.686807",
          "view",
          [
           [
            "item_328",
            98.94,
            2
           ],
           [
            "item_469",
            34.66,
            1
           ]
          ],
          "user_8929"
         ],
         "user_8929",
         "view",
         "2025-08-15T03:19:57.686807Z",
         [
          [
           "item_328",
           98.94,
           2
          ],
          [
           "item_469",
           34.66,
           1
          ]
         ]
        ],
        [
         "event_66",
         1.755227997686829E9,
         [
          "2025-08-15T03:19:57.686819",
          "view",
          [
           [
            "item_578",
            86.46,
            5
           ],
           [
            "item_797",
            49.82,
            2
           ]
          ],
          "user_2968"
         ],
         "user_2968",
         "view",
         "2025-08-15T03:19:57.686819Z",
         [
          [
           "item_578",
           86.46,
           5
          ],
          [
           "item_797",
           49.82,
           2
          ]
         ]
        ],
        [
         "event_67",
         1.755227997686839E9,
         [
          "2025-08-15T03:19:57.686831",
          "view",
          [
           [
            "item_308",
            84.67,
            2
           ]
          ],
          "user_3885"
         ],
         "user_3885",
         "view",
         "2025-08-15T03:19:57.686831Z",
         [
          [
           "item_308",
           84.67,
           2
          ]
         ]
        ],
        [
         "event_68",
         1.755227997686854E9,
         [
          "2025-08-15T03:19:57.686841",
          "view",
          [
           [
            "item_962",
            20.22,
            5
           ],
           [
            "item_934",
            68.54,
            2
           ],
           [
            "item_785",
            31.5,
            4
           ]
          ],
          "user_8239"
         ],
         "user_8239",
         "view",
         "2025-08-15T03:19:57.686841Z",
         [
          [
           "item_962",
           20.22,
           5
          ],
          [
           "item_934",
           68.54,
           2
          ],
          [
           "item_785",
           31.5,
           4
          ]
         ]
        ],
        [
         "event_69",
         1.755227997686864E9,
         [
          "2025-08-15T03:19:57.686856",
          "click",
          [
           [
            "item_985",
            36.59,
            1
           ]
          ],
          "user_3903"
         ],
         "user_3903",
         "click",
         "2025-08-15T03:19:57.686856Z",
         [
          [
           "item_985",
           36.59,
           1
          ]
         ]
        ],
        [
         "event_70",
         1.755227997686874E9,
         [
          "2025-08-15T03:19:57.686866",
          "purchase",
          [
           [
            "item_194",
            39.27,
            3
           ]
          ],
          "user_9357"
         ],
         "user_9357",
         "purchase",
         "2025-08-15T03:19:57.686866Z",
         [
          [
           "item_194",
           39.27,
           3
          ]
         ]
        ],
        [
         "event_71",
         1.755227997686889E9,
         [
          "2025-08-15T03:19:57.686876",
          "click",
          [
           [
            "item_484",
            75.07,
            2
           ],
           [
            "item_602",
            46.28,
            5
           ],
           [
            "item_320",
            78.11,
            1
           ]
          ],
          "user_6415"
         ],
         "user_6415",
         "click",
         "2025-08-15T03:19:57.686876Z",
         [
          [
           "item_484",
           75.07,
           2
          ],
          [
           "item_602",
           46.28,
           5
          ],
          [
           "item_320",
           78.11,
           1
          ]
         ]
        ],
        [
         "event_72",
         1.755227997686899E9,
         [
          "2025-08-15T03:19:57.686891",
          "view",
          [
           [
            "item_797",
            38.18,
            3
           ]
          ],
          "user_7646"
         ],
         "user_7646",
         "view",
         "2025-08-15T03:19:57.686891Z",
         [
          [
           "item_797",
           38.18,
           3
          ]
         ]
        ],
        [
         "event_73",
         1.755227997686909E9,
         [
          "2025-08-15T03:19:57.686901",
          "click",
          [
           [
            "item_407",
            39.44,
            1
           ]
          ],
          "user_5894"
         ],
         "user_5894",
         "click",
         "2025-08-15T03:19:57.686901Z",
         [
          [
           "item_407",
           39.44,
           1
          ]
         ]
        ],
        [
         "event_74",
         1.755227997686921E9,
         [
          "2025-08-15T03:19:57.686911",
          "view",
          [
           [
            "item_419",
            30.88,
            1
           ],
           [
            "item_746",
            63.19,
            4
           ]
          ],
          "user_5051"
         ],
         "user_5051",
         "view",
         "2025-08-15T03:19:57.686911Z",
         [
          [
           "item_419",
           30.88,
           1
          ],
          [
           "item_746",
           63.19,
           4
          ]
         ]
        ],
        [
         "event_75",
         1.755227997686931E9,
         [
          "2025-08-15T03:19:57.686923",
          "view",
          [
           [
            "item_948",
            91.13,
            1
           ]
          ],
          "user_5908"
         ],
         "user_5908",
         "view",
         "2025-08-15T03:19:57.686923Z",
         [
          [
           "item_948",
           91.13,
           1
          ]
         ]
        ],
        [
         "event_76",
         1.755227997686946E9,
         [
          "2025-08-15T03:19:57.686933",
          "view",
          [
           [
            "item_782",
            98.62,
            3
           ],
           [
            "item_502",
            54.5,
            4
           ],
           [
            "item_478",
            28.25,
            3
           ]
          ],
          "user_1183"
         ],
         "user_1183",
         "view",
         "2025-08-15T03:19:57.686933Z",
         [
          [
           "item_782",
           98.62,
           3
          ],
          [
           "item_502",
           54.5,
           4
          ],
          [
           "item_478",
           28.25,
           3
          ]
         ]
        ],
        [
         "event_77",
         1.755227997686967E9,
         [
          "2025-08-15T03:19:57.686948",
          "click",
          [
           [
            "item_505",
            79.27,
            3
           ],
           [
            "item_190",
            47.74,
            1
           ]
          ],
          "user_6824"
         ],
         "user_6824",
         "click",
         "2025-08-15T03:19:57.686948Z",
         [
          [
           "item_505",
           79.27,
           3
          ],
          [
           "item_190",
           47.74,
           1
          ]
         ]
        ],
        [
         "event_78",
         1.755227997686991E9,
         [
          "2025-08-15T03:19:57.686971",
          "click",
          [
           [
            "item_110",
            64.8,
            1
           ],
           [
            "item_483",
            23.64,
            1
           ],
           [
            "item_326",
            90.86,
            4
           ]
          ],
          "user_8704"
         ],
         "user_8704",
         "click",
         "2025-08-15T03:19:57.686971Z",
         [
          [
           "item_110",
           64.8,
           1
          ],
          [
           "item_483",
           23.64,
           1
          ],
          [
           "item_326",
           90.86,
           4
          ]
         ]
        ],
        [
         "event_79",
         1.755227997687007E9,
         [
          "2025-08-15T03:19:57.686994",
          "view",
          [
           [
            "item_731",
            61.26,
            4
           ],
           [
            "item_283",
            17.21,
            4
           ],
           [
            "item_566",
            98.96,
            1
           ]
          ],
          "user_2039"
         ],
         "user_2039",
         "view",
         "2025-08-15T03:19:57.686994Z",
         [
          [
           "item_731",
           61.26,
           4
          ],
          [
           "item_283",
           17.21,
           4
          ],
          [
           "item_566",
           98.96,
           1
          ]
         ]
        ],
        [
         "event_80",
         1.755227997687017E9,
         [
          "2025-08-15T03:19:57.687009",
          "click",
          [
           [
            "item_727",
            73.94,
            2
           ]
          ],
          "user_7406"
         ],
         "user_7406",
         "click",
         "2025-08-15T03:19:57.687009Z",
         [
          [
           "item_727",
           73.94,
           2
          ]
         ]
        ],
        [
         "event_81",
         1.755227997687026E9,
         [
          "2025-08-15T03:19:57.687019",
          "view",
          [
           [
            "item_267",
            70.7,
            2
           ]
          ],
          "user_3398"
         ],
         "user_3398",
         "view",
         "2025-08-15T03:19:57.687019Z",
         [
          [
           "item_267",
           70.7,
           2
          ]
         ]
        ],
        [
         "event_82",
         1.755227997687042E9,
         [
          "2025-08-15T03:19:57.687028",
          "purchase",
          [
           [
            "item_171",
            32.07,
            1
           ],
           [
            "item_375",
            28.9,
            1
           ],
           [
            "item_524",
            86.15,
            5
           ]
          ],
          "user_6606"
         ],
         "user_6606",
         "purchase",
         "2025-08-15T03:19:57.687028Z",
         [
          [
           "item_171",
           32.07,
           1
          ],
          [
           "item_375",
           28.9,
           1
          ],
          [
           "item_524",
           86.15,
           5
          ]
         ]
        ],
        [
         "event_83",
         1.755227997687054E9,
         [
          "2025-08-15T03:19:57.687044",
          "purchase",
          [
           [
            "item_627",
            78.63,
            3
           ],
           [
            "item_659",
            13.53,
            4
           ]
          ],
          "user_3868"
         ],
         "user_3868",
         "purchase",
         "2025-08-15T03:19:57.687044Z",
         [
          [
           "item_627",
           78.63,
           3
          ],
          [
           "item_659",
           13.53,
           4
          ]
         ]
        ],
        [
         "event_84",
         1.75522799768707E9,
         [
          "2025-08-15T03:19:57.687056",
          "view",
          [
           [
            "item_928",
            40.89,
            5
           ],
           [
            "item_271",
            27.28,
            5
           ],
           [
            "item_487",
            86.38,
            2
           ]
          ],
          "user_1162"
         ],
         "user_1162",
         "view",
         "2025-08-15T03:19:57.687056Z",
         [
          [
           "item_928",
           40.89,
           5
          ],
          [
           "item_271",
           27.28,
           5
          ],
          [
           "item_487",
           86.38,
           2
          ]
         ]
        ],
        [
         "event_85",
         1.755227997687082E9,
         [
          "2025-08-15T03:19:57.687071",
          "purchase",
          [
           [
            "item_183",
            90.35,
            1
           ],
           [
            "item_598",
            26.83,
            3
           ]
          ],
          "user_4588"
         ],
         "user_4588",
         "purchase",
         "2025-08-15T03:19:57.687071Z",
         [
          [
           "item_183",
           90.35,
           1
          ],
          [
           "item_598",
           26.83,
           3
          ]
         ]
        ],
        [
         "event_86",
         1.755227997687091E9,
         [
          "2025-08-15T03:19:57.687084",
          "view",
          [
           [
            "item_713",
            18.61,
            4
           ]
          ],
          "user_9292"
         ],
         "user_9292",
         "view",
         "2025-08-15T03:19:57.687084Z",
         [
          [
           "item_713",
           18.61,
           4
          ]
         ]
        ],
        [
         "event_87",
         1.755227997687107E9,
         [
          "2025-08-15T03:19:57.687093",
          "view",
          [
           [
            "item_305",
            88.25,
            5
           ],
           [
            "item_547",
            86.75,
            2
           ],
           [
            "item_303",
            15.0,
            1
           ]
          ],
          "user_9409"
         ],
         "user_9409",
         "view",
         "2025-08-15T03:19:57.687093Z",
         [
          [
           "item_305",
           88.25,
           5
          ],
          [
           "item_547",
           86.75,
           2
          ],
          [
           "item_303",
           15.0,
           1
          ]
         ]
        ],
        [
         "event_88",
         1.75522799768712E9,
         [
          "2025-08-15T03:19:57.687109",
          "click",
          [
           [
            "item_194",
            71.43,
            2
           ]
          ],
          "user_6372"
         ],
         "user_6372",
         "click",
         "2025-08-15T03:19:57.687109Z",
         [
          [
           "item_194",
           71.43,
           2
          ]
         ]
        ],
        [
         "event_89",
         1.755227997687136E9,
         [
          "2025-08-15T03:19:57.687122",
          "purchase",
          [
           [
            "item_262",
            75.2,
            5
           ],
           [
            "item_334",
            14.27,
            1
           ]
          ],
          "user_2131"
         ],
         "user_2131",
         "purchase",
         "2025-08-15T03:19:57.687122Z",
         [
          [
           "item_262",
           75.2,
           5
          ],
          [
           "item_334",
           14.27,
           1
          ]
         ]
        ],
        [
         "event_90",
         1.755227997687149E9,
         [
          "2025-08-15T03:19:57.687138",
          "purchase",
          [
           [
            "item_626",
            66.46,
            1
           ],
           [
            "item_241",
            83.55,
            5
           ]
          ],
          "user_6310"
         ],
         "user_6310",
         "purchase",
         "2025-08-15T03:19:57.687138Z",
         [
          [
           "item_626",
           66.46,
           1
          ],
          [
           "item_241",
           83.55,
           5
          ]
         ]
        ],
        [
         "event_91",
         1.755227997687166E9,
         [
          "2025-08-15T03:19:57.687152",
          "click",
          [
           [
            "item_369",
            19.64,
            5
           ]
          ],
          "user_6121"
         ],
         "user_6121",
         "click",
         "2025-08-15T03:19:57.687152Z",
         [
          [
           "item_369",
           19.64,
           5
          ]
         ]
        ],
        [
         "event_92",
         1.755227997687184E9,
         [
          "2025-08-15T03:19:57.687170",
          "click",
          [
           [
            "item_670",
            35.58,
            2
           ],
           [
            "item_771",
            48.68,
            5
           ],
           [
            "item_239",
            19.87,
            4
           ]
          ],
          "user_4765"
         ],
         "user_4765",
         "click",
         "2025-08-15T03:19:57.68717Z",
         [
          [
           "item_670",
           35.58,
           2
          ],
          [
           "item_771",
           48.68,
           5
          ],
          [
           "item_239",
           19.87,
           4
          ]
         ]
        ],
        [
         "event_93",
         1.755227997687209E9,
         [
          "2025-08-15T03:19:57.687187",
          "click",
          [
           [
            "item_919",
            99.95,
            2
           ],
           [
            "item_150",
            51.49,
            4
           ],
           [
            "item_357",
            74.19,
            3
           ]
          ],
          "user_1200"
         ],
         "user_1200",
         "click",
         "2025-08-15T03:19:57.687187Z",
         [
          [
           "item_919",
           99.95,
           2
          ],
          [
           "item_150",
           51.49,
           4
          ],
          [
           "item_357",
           74.19,
           3
          ]
         ]
        ],
        [
         "event_94",
         1.755227997687225E9,
         [
          "2025-08-15T03:19:57.687211",
          "view",
          [
           [
            "item_338",
            92.48,
            4
           ],
           [
            "item_470",
            30.03,
            5
           ],
           [
            "item_532",
            32.93,
            5
           ]
          ],
          "user_4623"
         ],
         "user_4623",
         "view",
         "2025-08-15T03:19:57.687211Z",
         [
          [
           "item_338",
           92.48,
           4
          ],
          [
           "item_470",
           30.03,
           5
          ],
          [
           "item_532",
           32.93,
           5
          ]
         ]
        ],
        [
         "event_95",
         1.755227997687235E9,
         [
          "2025-08-15T03:19:57.687227",
          "click",
          [
           [
            "item_499",
            49.65,
            1
           ]
          ],
          "user_7742"
         ],
         "user_7742",
         "click",
         "2025-08-15T03:19:57.687227Z",
         [
          [
           "item_499",
           49.65,
           1
          ]
         ]
        ],
        [
         "event_96",
         1.755227997687268E9,
         [
          "2025-08-15T03:19:57.687237",
          "view",
          [
           [
            "item_942",
            23.07,
            1
           ],
           [
            "item_593",
            52.46,
            3
           ],
           [
            "item_823",
            61.8,
            5
           ]
          ],
          "user_3506"
         ],
         "user_3506",
         "view",
         "2025-08-15T03:19:57.687237Z",
         [
          [
           "item_942",
           23.07,
           1
          ],
          [
           "item_593",
           52.46,
           3
          ],
          [
           "item_823",
           61.8,
           5
          ]
         ]
        ],
        [
         "event_97",
         1.755227997687279E9,
         [
          "2025-08-15T03:19:57.687271",
          "click",
          [
           [
            "item_206",
            92.02,
            1
           ]
          ],
          "user_5102"
         ],
         "user_5102",
         "click",
         "2025-08-15T03:19:57.687271Z",
         [
          [
           "item_206",
           92.02,
           1
          ]
         ]
        ],
        [
         "event_98",
         1.755227997687288E9,
         [
          "2025-08-15T03:19:57.687280",
          "view",
          [
           [
            "item_771",
            26.6,
            5
           ]
          ],
          "user_2751"
         ],
         "user_2751",
         "view",
         "2025-08-15T03:19:57.68728Z",
         [
          [
           "item_771",
           26.6,
           5
          ]
         ]
        ],
        [
         "event_99",
         1.755227997687304E9,
         [
          "2025-08-15T03:19:57.687290",
          "view",
          [
           [
            "item_762",
            91.88,
            3
           ],
           [
            "item_766",
            86.85,
            5
           ],
           [
            "item_211",
            10.97,
            4
           ]
          ],
          "user_5420"
         ],
         "user_5420",
         "view",
         "2025-08-15T03:19:57.68729Z",
         [
          [
           "item_762",
           91.88,
           3
          ],
          [
           "item_766",
           86.85,
           5
          ],
          [
           "item_211",
           10.97,
           4
          ]
         ]
        ]
       ],
       "datasetInfos": [],
       "dbfsResultPath": null,
       "isJsonSchema": true,
       "metadata": {},
       "overflow": false,
       "plotOptions": {
        "customPlotOptions": {},
        "displayType": "table",
        "pivotAggregation": null,
        "pivotColumns": null,
        "xColumns": null,
        "yColumns": null
       },
       "removedWidgets": [],
       "schema": [
        {
         "metadata": "{}",
         "name": "key",
         "type": "\"string\""
        },
        {
         "metadata": "{}",
         "name": "timestamp",
         "type": "\"double\""
        },
        {
         "metadata": "{}",
         "name": "decoded_value_struct",
         "type": "{\"type\":\"struct\",\"fields\":[{\"name\":\"event_timestamp\",\"type\":\"string\",\"nullable\":true,\"metadata\":{}},{\"name\":\"event_type\",\"type\":\"string\",\"nullable\":true,\"metadata\":{}},{\"name\":\"items\",\"type\":{\"type\":\"array\",\"elementType\":{\"type\":\"struct\",\"fields\":[{\"name\":\"item_id\",\"type\":\"string\",\"nullable\":true,\"metadata\":{}},{\"name\":\"price_usd\",\"type\":\"double\",\"nullable\":true,\"metadata\":{}},{\"name\":\"quantity\",\"type\":\"long\",\"nullable\":true,\"metadata\":{}}]},\"containsNull\":true},\"nullable\":true,\"metadata\":{}},{\"name\":\"user_id\",\"type\":\"string\",\"nullable\":true,\"metadata\":{}}]}"
        },
        {
         "metadata": "{}",
         "name": "user_id",
         "type": "\"string\""
        },
        {
         "metadata": "{}",
         "name": "event_type",
         "type": "\"string\""
        },
        {
         "metadata": "{}",
         "name": "event_timestamp",
         "type": "\"timestamp\""
        },
        {
         "metadata": "{}",
         "name": "items",
         "type": "{\"type\":\"array\",\"elementType\":{\"type\":\"struct\",\"fields\":[{\"name\":\"item_id\",\"type\":\"string\",\"nullable\":true,\"metadata\":{}},{\"name\":\"price_usd\",\"type\":\"double\",\"nullable\":true,\"metadata\":{}},{\"name\":\"quantity\",\"type\":\"long\",\"nullable\":true,\"metadata\":{}}]},\"containsNull\":true}"
        }
       ],
       "type": "table"
      }
     },
     "output_type": "display_data"
    }
   ],
   "source": [
    "---- Convert the JSON formatted string as a STRUCT\n",
    "\n",
    "---- Return the structure of the JSON formatted string\n",
    "SELECT schema_of_json(decoded_value)\n",
    "FROM lab7_lab_kafka_events_raw\n",
    "LIMIT 1;\n",
    "\n",
    "\n",
    "---- Use the JSON structure from above within the from_json function to convert the JSON formatted string to a STRUCT\n",
    "---- NOTE: The STRUCT decoded_value_struct column is included in this solution to display the column\n",
    "CREATE OR REPLACE TABLE lab7_lab_kafka_events_flattened_struct\n",
    "AS\n",
    "SELECT\n",
    "  key,\n",
    "  timestamp,\n",
    "  from_json(decoded_value, 'STRUCT<event_timestamp: STRING, event_type: STRING, items: ARRAY<STRUCT<item_id: STRING, price_usd: DOUBLE, quantity: BIGINT>>, user_id: STRING>') AS decoded_value_struct,\n",
    "  decoded_value_struct.user_id,\n",
    "  decoded_value_struct.event_type,\n",
    "  cast(decoded_value_struct.event_timestamp AS TIMESTAMP),\n",
    "  decoded_value_struct.items\n",
    "FROM lab7_lab_kafka_events_raw;\n",
    "\n",
    "\n",
    "---- Display the table\n",
    "SELECT *\n",
    "FROM lab7_lab_kafka_events_flattened_struct;"
   ]
  },
  {
   "cell_type": "markdown",
   "metadata": {
    "application/vnd.databricks.v1+cell": {
     "cellMetadata": {
      "byteLimit": 2048000,
      "rowLimit": 10000
     },
     "inputWidgets": {},
     "nuid": "34aa5cf5-91e7-4a1d-b57d-2250856e3a36",
     "showTitle": false,
     "tableResultSettingsMap": {},
     "title": ""
    }
   },
   "source": [
    "\n",
    "&copy; 2025 Databricks, Inc. All rights reserved. Apache, Apache Spark, Spark, the Spark Logo, Apache Iceberg, Iceberg, and the Apache Iceberg logo are trademarks of the <a href=\"https://www.apache.org/\" target=\"blank\">Apache Software Foundation</a>.<br/>\n",
    "<br/><a href=\"https://databricks.com/privacy-policy\" target=\"blank\">Privacy Policy</a> | \n",
    "<a href=\"https://databricks.com/terms-of-use\" target=\"blank\">Terms of Use</a> | \n",
    "<a href=\"https://help.databricks.com/\" target=\"blank\">Support</a>"
   ]
  }
 ],
 "metadata": {
  "application/vnd.databricks.v1+notebook": {
   "computePreferences": null,
   "dashboards": [],
   "environmentMetadata": null,
   "inputWidgetPreferences": null,
   "language": "sql",
   "notebookMetadata": {
    "mostRecentlyExecutedCommandWithImplicitDF": {
     "commandId": 856643151990525,
     "dataframes": [
      "_sqldf"
     ]
    },
    "pythonIndentUnit": 4
   },
   "notebookName": "07L Solution - Creating Bronze Tables from JSON Files",
   "widgets": {}
  },
  "language_info": {
   "name": "sql"
  }
 },
 "nbformat": 4,
 "nbformat_minor": 0
}