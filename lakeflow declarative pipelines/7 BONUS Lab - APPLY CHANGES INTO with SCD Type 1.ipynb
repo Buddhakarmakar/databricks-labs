{
 "cells": [
  {
   "cell_type": "markdown",
   "metadata": {
    "application/vnd.databricks.v1+cell": {
     "cellMetadata": {
      "byteLimit": 2048000,
      "rowLimit": 10000
     },
     "inputWidgets": {},
     "nuid": "3a5d0a79-34b8-4339-a392-208fd0077f8a",
     "showTitle": false,
     "tableResultSettingsMap": {},
     "title": ""
    }
   },
   "source": [
    "\n",
    "<div style=\"text-align: center; line-height: 0; padding-top: 9px;\">\n",
    "  <img src=\"https://databricks.com/wp-content/uploads/2018/03/db-academy-rgb-1200px.png\" alt=\"Databricks Learning\">\n",
    "</div>\n"
   ]
  },
  {
   "cell_type": "markdown",
   "metadata": {
    "application/vnd.databricks.v1+cell": {
     "cellMetadata": {
      "byteLimit": 2048000,
      "rowLimit": 10000
     },
     "inputWidgets": {},
     "nuid": "8dea9b30-3fdf-4223-a951-59efbf42380c",
     "showTitle": false,
     "tableResultSettingsMap": {},
     "title": ""
    }
   },
   "source": [
    "# 7 Bonus Lab - APPLY CHANGES INTO with SCD Type 1\n",
    "\n",
    "### Estimated Duration: ~15-20 minutes\n",
    "\n",
    "#### This is an optional lab that can be completed after class if you're interested in practicing CDC.\n",
    "\n",
    "\n",
    "In this demonstration you will use Change Data Capture (CDC) to detect changes and apply them using SCD Type 1 logic (overwrite, no historical records).\n",
    "\n",
    "### Learning Objectives\n",
    "\n",
    "By the end of this lesson, you will be able to:\n",
    "- Use `APPLY CHANGES INTO` to perform Change Data Capture (CDC) using SCD Type 1."
   ]
  },
  {
   "cell_type": "markdown",
   "metadata": {
    "application/vnd.databricks.v1+cell": {
     "cellMetadata": {
      "byteLimit": 2048000,
      "rowLimit": 10000
     },
     "inputWidgets": {},
     "nuid": "154a3f8c-3e85-4387-9dc0-b83397bd1cec",
     "showTitle": false,
     "tableResultSettingsMap": {},
     "title": ""
    }
   },
   "source": [
    "## REQUIRED - SELECT CLASSIC COMPUTE\n",
    "\n",
    "Before executing cells in this notebook, please select your classic compute cluster in the lab. Be aware that **Serverless** is enabled by default.\n",
    "\n",
    "Follow these steps to select the classic compute cluster:\n",
    "\n",
    "1. Navigate to the top-right of this notebook and click the drop-down menu to select your cluster. By default, the notebook will use **Serverless**.\n",
    "\n",
    "1. If your cluster is available, select it and continue to the next cell. If the cluster is not shown:\n",
    "\n",
    "    - In the drop-down, select **More**.\n",
    "\n",
    "    - In the **Attach to an existing compute resource** pop-up, select the first drop-down. You will see a unique cluster name in that drop-down. Please select that cluster.\n",
    "\n",
    "**NOTE:** If your cluster has terminated, you might need to restart it in order to select it. To do this:\n",
    "\n",
    "1. Right-click on **Compute** in the left navigation pane and select *Open in new tab*.\n",
    "\n",
    "1. Find the triangle icon to the right of your compute cluster name and click it.\n",
    "\n",
    "1. Wait a few minutes for the cluster to start.\n",
    "\n",
    "1. Once the cluster is running, complete the steps above to select your cluster."
   ]
  },
  {
   "cell_type": "markdown",
   "metadata": {
    "application/vnd.databricks.v1+cell": {
     "cellMetadata": {
      "byteLimit": 2048000,
      "rowLimit": 10000
     },
     "inputWidgets": {},
     "nuid": "ba217281-cef8-4ed7-8f10-49f86b590fa7",
     "showTitle": false,
     "tableResultSettingsMap": {},
     "title": ""
    }
   },
   "source": [
    "%md\n",
    "## A. Classroom Setup\n",
    "\n",
    "Run the following cell to configure your working environment for this course.\n",
    "\n",
    "**NOTE:** The `DA` object is only used in Databricks Academy courses and is not available outside of these courses. It will dynamically create and reference the information needed to run the course."
   ]
  },
  {
   "cell_type": "code",
   "execution_count": 0,
   "metadata": {
    "application/vnd.databricks.v1+cell": {
     "cellMetadata": {
      "byteLimit": 2048000,
      "implicitDf": true,
      "rowLimit": 10000
     },
     "inputWidgets": {},
     "nuid": "1f08449c-b2e1-4dda-a518-4302f027657c",
     "showTitle": false,
     "tableResultSettingsMap": {},
     "title": ""
    }
   },
   "outputs": [
    {
     "output_type": "stream",
     "name": "stdout",
     "output_type": "stream",
     "text": [
      "\u001B[43mNote: you may need to restart the kernel using %restart_python or dbutils.library.restartPython() to use updated packages.\u001B[0m\n"
     ]
    },
    {
     "output_type": "display_data",
     "data": {
      "text/html": [
       "<style scoped>\n",
       "  .table-result-container {\n",
       "    max-height: 300px;\n",
       "    overflow: auto;\n",
       "  }\n",
       "  table, th, td {\n",
       "    border: 1px solid black;\n",
       "    border-collapse: collapse;\n",
       "  }\n",
       "  th, td {\n",
       "    padding: 5px;\n",
       "  }\n",
       "  th {\n",
       "    text-align: left;\n",
       "  }\n",
       "</style><div class='table-result-container'><table class='table-result'><thead style='background-color: white'><tr></tr></thead><tbody></tbody></table></div>"
      ]
     },
     "metadata": {
      "application/vnd.databricks.v1+output": {
       "addedWidgets": {},
       "aggData": [],
       "aggError": "",
       "aggOverflow": false,
       "aggSchema": [],
       "aggSeriesLimitReached": false,
       "aggType": "",
       "arguments": {},
       "columnCustomDisplayInfos": {},
       "data": [],
       "datasetInfos": [],
       "dbfsResultPath": null,
       "isJsonSchema": true,
       "metadata": {},
       "overflow": false,
       "plotOptions": {
        "customPlotOptions": {},
        "displayType": "table",
        "pivotAggregation": null,
        "pivotColumns": null,
        "xColumns": null,
        "yColumns": null
       },
       "removedWidgets": [],
       "schema": [],
       "type": "table"
      }
     },
     "output_type": "display_data"
    },
    {
     "output_type": "stream",
     "name": "stdout",
     "output_type": "stream",
     "text": [
      "Creating volume: labuser11197806_1755343273.default.lab_staging_files if not exists.\n\nCreating volume: labuser11197806_1755343273.default.lab_files if not exists.\n\nCreating schema: labuser11197806_1755343273.lab_1_bronze_db.\nCreating schema: labuser11197806_1755343273.lab_2_silver_db.\nCreating schema: labuser11197806_1755343273.lab_3_gold_db.\n\nSearching for files in /Volumes/labuser11197806_1755343273/default/lab_files/ volume to delete prior to creating files...\nNo files found in /Volumes/labuser11197806_1755343273/default/lab_files/.\n\n\nSearching for files in /Volumes/labuser11197806_1755343273/default/lab_files_staging/ volume to delete prior to creating files...\nNo files found in /Volumes/labuser11197806_1755343273/default/lab_files_staging/.\n\nStarting environment validation...\nCatalog 'labuser11197806_1755343273' exists.\nSchema 'labuser11197806_1755343273.default' exists.\nVolume 'lab_staging_files' exists.\nThe file '/Volumes/labuser11197806_1755343273/default/lab_staging_files/employees_1.csv' does not exist.\nCreating file 'employees_1.csv'...\nCreated CSV file at '/Volumes/labuser11197806_1755343273/default/lab_staging_files/employees_1.csv'.\nThe file '/Volumes/labuser11197806_1755343273/default/lab_staging_files/employees_2.csv' does not exist.\nCreating file 'employees_2.csv'...\nCreated CSV file at '/Volumes/labuser11197806_1755343273/default/lab_staging_files/employees_2.csv'.\nThe file '/Volumes/labuser11197806_1755343273/default/lab_staging_files/employees_3.csv' does not exist.\nCreating file 'employees_3.csv'...\nCreated CSV file at '/Volumes/labuser11197806_1755343273/default/lab_staging_files/employees_3.csv'.\nLabDataSetup initialized successfully in volume_path: '/Volumes/labuser11197806_1755343273/default/lab_staging_files'\n"
     ]
    },
    {
     "output_type": "stream",
     "name": "stdout",
     "output_type": "stream",
     "text": [
      "Moving file '/Volumes/labuser11197806_1755343273/default/lab_staging_files/employees_1.csv' to '/Volumes/labuser11197806_1755343273/default/lab_files/employees_1.csv'.\nMoving file '/Volumes/labuser11197806_1755343273/default/lab_staging_files/employees_2.csv' to '/Volumes/labuser11197806_1755343273/default/lab_files/employees_2.csv'.\n\n\n\n------------------------------------------------------------------------------\nSETUP COMPLETE!\n------------------------------------------------------------------------------\n"
     ]
    },
    {
     "output_type": "display_data",
     "data": {
      "text/html": [
       "<table style=\"width:100%\">\n",
       "        <tr>\n",
       "            <td style=\"white-space:nowrap; width:1em\">Your catalog name variable reference: DA.catalog_name:</td>\n",
       "            <td><input type=\"text\" value=\"labuser11197806_1755343273\" style=\"width: 100%\"></td></tr>\n",
       "        <tr>\n",
       "            <td style=\"white-space:nowrap; width:1em\">Your raw data source files:</td>\n",
       "            <td><input type=\"text\" value=\"/Volumes/labuser11197806_1755343273/default/lab_files\" style=\"width: 100%\"></td></tr></table>"
      ]
     },
     "metadata": {},
     "output_type": "display_data"
    }
   ],
   "source": [
    "%run ./Includes/Classroom-Setup-7"
   ]
  },
  {
   "cell_type": "markdown",
   "metadata": {
    "application/vnd.databricks.v1+cell": {
     "cellMetadata": {
      "byteLimit": 2048000,
      "rowLimit": 10000
     },
     "inputWidgets": {},
     "nuid": "4514feb4-8c54-47d4-8447-2dce93baffad",
     "showTitle": false,
     "tableResultSettingsMap": {},
     "title": ""
    }
   },
   "source": [
    "## B. SCENARIO\n",
    "\n",
    "Your data engineering team wants to build a Lakeflow Declarative Pipeline to maintain a record of current employees without keeping historical data (SCD Type 1). The project has been started, but the final step is to update the silver table with the current employee records that have not yet been completed. \n",
    "\n",
    "There are already two files in a cloud storage location that contain information about employees and employee updates.\n",
    "\n",
    "### REQUIREMENTS:\n",
    "It’s your job to complete the Lakeflow Declarative Pipeline by adding the `APPLY CHANGES INTO` statement to perform SCD Type 1.\n",
    "\n",
    "Follow the steps below to complete your task."
   ]
  },
  {
   "cell_type": "markdown",
   "metadata": {
    "application/vnd.databricks.v1+cell": {
     "cellMetadata": {
      "byteLimit": 2048000,
      "rowLimit": 10000
     },
     "inputWidgets": {},
     "nuid": "bff385b9-ecb4-4513-af96-88f295ce2715",
     "showTitle": false,
     "tableResultSettingsMap": {},
     "title": ""
    }
   },
   "source": [
    "## C. Explore the Raw Data Source Files"
   ]
  },
  {
   "cell_type": "markdown",
   "metadata": {
    "application/vnd.databricks.v1+cell": {
     "cellMetadata": {
      "byteLimit": 2048000,
      "rowLimit": 10000
     },
     "inputWidgets": {},
     "nuid": "8ce8040d-8eea-43d4-a940-871bc7b3ef60",
     "showTitle": false,
     "tableResultSettingsMap": {},
     "title": ""
    }
   },
   "source": [
    "1. Run the cell below to programmatically view the files in your `/Volumes/your-lab-catalog-name/default/lab_files` volume. Confirm that you see **employees_1.csv** and **employees_2.csv**.\n",
    "\n",
    "**NOTE:** You can also manually navigate to your **labuser.default.lab_files** volume and view the files in the volume.\n"
   ]
  },
  {
   "cell_type": "code",
   "execution_count": 0,
   "metadata": {
    "application/vnd.databricks.v1+cell": {
     "cellMetadata": {
      "byteLimit": 2048000,
      "rowLimit": 10000
     },
     "inputWidgets": {},
     "nuid": "03fdc0f3-573b-49c7-8ec9-7ff0de46a466",
     "showTitle": true,
     "tableResultSettingsMap": {},
     "title": "View files in the lab_files volume"
    }
   },
   "outputs": [
    {
     "output_type": "display_data",
     "data": {
      "text/html": [
       "<style scoped>\n",
       "  .table-result-container {\n",
       "    max-height: 300px;\n",
       "    overflow: auto;\n",
       "  }\n",
       "  table, th, td {\n",
       "    border: 1px solid black;\n",
       "    border-collapse: collapse;\n",
       "  }\n",
       "  th, td {\n",
       "    padding: 5px;\n",
       "  }\n",
       "  th {\n",
       "    text-align: left;\n",
       "  }\n",
       "</style><div class='table-result-container'><table class='table-result'><thead style='background-color: white'><tr><th>path</th><th>name</th><th>size</th><th>modification_time</th></tr></thead><tbody><tr><td>/Volumes/labuser11197806_1755343273/default/lab_files/employees_1.csv</td><td>employees_1.csv</td><td>371</td><td>1755350310000</td></tr><tr><td>/Volumes/labuser11197806_1755343273/default/lab_files/employees_2.csv</td><td>employees_2.csv</td><td>262</td><td>1755350311000</td></tr></tbody></table></div>"
      ]
     },
     "metadata": {
      "application/vnd.databricks.v1+output": {
       "addedWidgets": {},
       "aggData": [],
       "aggError": "",
       "aggOverflow": false,
       "aggSchema": [],
       "aggSeriesLimitReached": false,
       "aggType": "",
       "arguments": {},
       "columnCustomDisplayInfos": {},
       "data": [
        [
         "/Volumes/labuser11197806_1755343273/default/lab_files/employees_1.csv",
         "employees_1.csv",
         371,
         1755350310000
        ],
        [
         "/Volumes/labuser11197806_1755343273/default/lab_files/employees_2.csv",
         "employees_2.csv",
         262,
         1755350311000
        ]
       ],
       "datasetInfos": [],
       "dbfsResultPath": null,
       "isJsonSchema": true,
       "metadata": {},
       "overflow": false,
       "plotOptions": {
        "customPlotOptions": {},
        "displayType": "table",
        "pivotAggregation": null,
        "pivotColumns": null,
        "xColumns": null,
        "yColumns": null
       },
       "removedWidgets": [],
       "schema": [
        {
         "metadata": "{}",
         "name": "path",
         "type": "\"string\""
        },
        {
         "metadata": "{}",
         "name": "name",
         "type": "\"string\""
        },
        {
         "metadata": "{}",
         "name": "size",
         "type": "\"long\""
        },
        {
         "metadata": "{}",
         "name": "modification_time",
         "type": "\"long\""
        }
       ],
       "type": "table"
      }
     },
     "output_type": "display_data"
    }
   ],
   "source": [
    "%python\n",
    "spark.sql(f'LIST \"/Volumes/{DA.catalog_name}/default/lab_files\"').display()"
   ]
  },
  {
   "cell_type": "markdown",
   "metadata": {
    "application/vnd.databricks.v1+cell": {
     "cellMetadata": {
      "byteLimit": 2048000,
      "rowLimit": 10000
     },
     "inputWidgets": {},
     "nuid": "c7526b93-da17-4a11-beea-52ea27affed5",
     "showTitle": false,
     "tableResultSettingsMap": {},
     "title": ""
    }
   },
   "source": [
    "2. Query the 2 CSV files in that volume. Notice the following:\n",
    "\n",
    "   - The files contain a list of employees.\n",
    "\n",
    "   - The **employees_1.csv** contains the initial employees.  \n",
    "   \n",
    "   - The **employees_2.csv** contains an update, a delete, and a new employee.\n",
    "\n",
    "   - The **Operation** column provides information about the action for each record (new employee, update employee information, or delete employee).\n",
    "\n",
    "   - The **ProcessDate** column indicates when the records were processed (acts as a sequence column).\n",
    "\n",
    "   - In total, there are 10 rows.\n",
    "\n",
    "      - There are two duplicate **EmployeeID** values:\n",
    "        - **EmployeeID 1** – Sophia was an employee, then should be deleted.\n",
    "        - **EmployeeID 3** – Liam received a bonus, and his **Salary** needs to be updated.\n",
    "        \n",
    "      - **Employee 6 & 7** - New employees from the **employees_2.csv** file."
   ]
  },
  {
   "cell_type": "code",
   "execution_count": 0,
   "metadata": {
    "application/vnd.databricks.v1+cell": {
     "cellMetadata": {
      "byteLimit": 2048000,
      "rowLimit": 10000
     },
     "inputWidgets": {},
     "nuid": "cbef8cf5-5426-4c5b-baf9-ea7f148227df",
     "showTitle": true,
     "tableResultSettingsMap": {},
     "title": "View the volume CSV files"
    }
   },
   "outputs": [
    {
     "output_type": "display_data",
     "data": {
      "text/html": [
       "<style scoped>\n",
       "  .table-result-container {\n",
       "    max-height: 300px;\n",
       "    overflow: auto;\n",
       "  }\n",
       "  table, th, td {\n",
       "    border: 1px solid black;\n",
       "    border-collapse: collapse;\n",
       "  }\n",
       "  th, td {\n",
       "    padding: 5px;\n",
       "  }\n",
       "  th {\n",
       "    text-align: left;\n",
       "  }\n",
       "</style><div class='table-result-container'><table class='table-result'><thead style='background-color: white'><tr><th>EmployeeID</th><th>FirstName</th><th>Country</th><th>Department</th><th>Salary</th><th>HireDate</th><th>Operation</th><th>ProcessDate</th><th>_rescued_data</th><th>source_file</th></tr></thead><tbody><tr><td>null</td><td>test</td><td>test</td><td>test</td><td>9999.0</td><td>2025-01-01</td><td>new</td><td>2025-06-05</td><td>null</td><td>employees_1.csv</td></tr><tr><td>1.0</td><td>null</td><td>null</td><td>null</td><td>null</td><td>null</td><td>delete</td><td>2025-06-22</td><td>null</td><td>employees_2.csv</td></tr><tr><td>1.0</td><td>Sophia</td><td>US</td><td>Sales</td><td>72000.0</td><td>2025-04-01</td><td>new</td><td>2025-06-05</td><td>null</td><td>employees_1.csv</td></tr><tr><td>2.0</td><td>Nikos</td><td>Gr</td><td>IT</td><td>55000.0</td><td>2025-04-10</td><td>new</td><td>2025-06-05</td><td>null</td><td>employees_1.csv</td></tr><tr><td>3.0</td><td>Liam</td><td>US</td><td>Sales</td><td>100000.0</td><td>2025-05-03</td><td>update</td><td>2025-06-22</td><td>null</td><td>employees_2.csv</td></tr><tr><td>3.0</td><td>Liam</td><td>US</td><td>Sales</td><td>69000.0</td><td>2025-05-03</td><td>new</td><td>2025-06-05</td><td>null</td><td>employees_1.csv</td></tr><tr><td>4.0</td><td>Elena</td><td>GR</td><td>IT</td><td>53000.0</td><td>2025-06-04</td><td>new</td><td>2025-06-05</td><td>null</td><td>employees_1.csv</td></tr><tr><td>5.0</td><td>James</td><td>Us</td><td>IT</td><td>60000.0</td><td>2025-06-05</td><td>new</td><td>2025-06-05</td><td>null</td><td>employees_1.csv</td></tr><tr><td>6.0</td><td>Emily</td><td>us</td><td>Enablement</td><td>80000.0</td><td>2025-06-09</td><td>new</td><td>2025-06-22</td><td>null</td><td>employees_2.csv</td></tr><tr><td>7.0</td><td>Yannis</td><td>gR</td><td>HR</td><td>70000.0</td><td>2025-06-20</td><td>new</td><td>2025-06-22</td><td>null</td><td>employees_2.csv</td></tr></tbody></table></div>"
      ]
     },
     "metadata": {
      "application/vnd.databricks.v1+output": {
       "addedWidgets": {},
       "aggData": [],
       "aggError": "",
       "aggOverflow": false,
       "aggSchema": [],
       "aggSeriesLimitReached": false,
       "aggType": "",
       "arguments": {},
       "columnCustomDisplayInfos": {},
       "data": [
        [
         null,
         "test",
         "test",
         "test",
         9999.0,
         "2025-01-01",
         "new",
         "2025-06-05",
         null,
         "employees_1.csv"
        ],
        [
         1.0,
         null,
         null,
         null,
         null,
         null,
         "delete",
         "2025-06-22",
         null,
         "employees_2.csv"
        ],
        [
         1.0,
         "Sophia",
         "US",
         "Sales",
         72000.0,
         "2025-04-01",
         "new",
         "2025-06-05",
         null,
         "employees_1.csv"
        ],
        [
         2.0,
         "Nikos",
         "Gr",
         "IT",
         55000.0,
         "2025-04-10",
         "new",
         "2025-06-05",
         null,
         "employees_1.csv"
        ],
        [
         3.0,
         "Liam",
         "US",
         "Sales",
         100000.0,
         "2025-05-03",
         "update",
         "2025-06-22",
         null,
         "employees_2.csv"
        ],
        [
         3.0,
         "Liam",
         "US",
         "Sales",
         69000.0,
         "2025-05-03",
         "new",
         "2025-06-05",
         null,
         "employees_1.csv"
        ],
        [
         4.0,
         "Elena",
         "GR",
         "IT",
         53000.0,
         "2025-06-04",
         "new",
         "2025-06-05",
         null,
         "employees_1.csv"
        ],
        [
         5.0,
         "James",
         "Us",
         "IT",
         60000.0,
         "2025-06-05",
         "new",
         "2025-06-05",
         null,
         "employees_1.csv"
        ],
        [
         6.0,
         "Emily",
         "us",
         "Enablement",
         80000.0,
         "2025-06-09",
         "new",
         "2025-06-22",
         null,
         "employees_2.csv"
        ],
        [
         7.0,
         "Yannis",
         "gR",
         "HR",
         70000.0,
         "2025-06-20",
         "new",
         "2025-06-22",
         null,
         "employees_2.csv"
        ]
       ],
       "datasetInfos": [],
       "dbfsResultPath": null,
       "isJsonSchema": true,
       "metadata": {
        "isDbfsCommandResult": false
       },
       "overflow": false,
       "plotOptions": {
        "customPlotOptions": {},
        "displayType": "table",
        "pivotAggregation": null,
        "pivotColumns": null,
        "xColumns": null,
        "yColumns": null
       },
       "removedWidgets": [],
       "schema": [
        {
         "metadata": "{}",
         "name": "EmployeeID",
         "type": "\"double\""
        },
        {
         "metadata": "{}",
         "name": "FirstName",
         "type": "\"string\""
        },
        {
         "metadata": "{}",
         "name": "Country",
         "type": "\"string\""
        },
        {
         "metadata": "{}",
         "name": "Department",
         "type": "\"string\""
        },
        {
         "metadata": "{}",
         "name": "Salary",
         "type": "\"double\""
        },
        {
         "metadata": "{\"__detected_date_formats\":\"yyyy-M-d\"}",
         "name": "HireDate",
         "type": "\"date\""
        },
        {
         "metadata": "{}",
         "name": "Operation",
         "type": "\"string\""
        },
        {
         "metadata": "{\"__detected_date_formats\":\"yyyy-M-d\"}",
         "name": "ProcessDate",
         "type": "\"date\""
        },
        {
         "metadata": "{}",
         "name": "_rescued_data",
         "type": "\"string\""
        },
        {
         "metadata": "{}",
         "name": "source_file",
         "type": "\"string\""
        }
       ],
       "type": "table"
      }
     },
     "output_type": "display_data"
    }
   ],
   "source": [
    "SELECT \n",
    "  *,\n",
    "  _metadata.file_name as source_file\n",
    "FROM read_files(\n",
    "  '/Volumes/' || DA.catalog_name || '/default/lab_files',\n",
    "  format => 'CSV'\n",
    ")\n",
    "ORDER BY EmployeeID, ProcessDate DESC;"
   ]
  },
  {
   "cell_type": "markdown",
   "metadata": {
    "application/vnd.databricks.v1+cell": {
     "cellMetadata": {
      "byteLimit": 2048000,
      "rowLimit": 10000
     },
     "inputWidgets": {},
     "nuid": "bd8acf96-7fce-42bc-a1cc-db01c811fcdc",
     "showTitle": false,
     "tableResultSettingsMap": {},
     "title": ""
    }
   },
   "source": [
    "3. Looking at the output from above, our final table after applying SCD Type 1 on the two files should:\n",
    "\n",
    "   - Contain 6 rows of data:\n",
    "      - remove the **EmployeeID** with a `null` value (removed with a data quality expectation)\n",
    "      - delete **EmployeeID** 1\n",
    "\n",
    "   - **EmployeeID 3** should have a current salary of 100,000 and only one row of data.\n",
    "\n",
    "   - **EmployeeID 5 & 6** are new employees from **employees_2.csv** file.\n",
    "\n",
    "   - No historical data should be tracked.\n",
    "\n",
    "<br></br>\n",
    "\n",
    "**FINAL TABLE OUTPUT**\n",
    "| EmployeeID | FirstName | Country | Department | Salary | HireDate   | ProcessDate |\n",
    "|------------|-----------|---------|------------|--------|------------|-------------|\n",
    "| 2          | Nikos     | GR      | IT         | 55000  | 2025-04-10 | 2025-06-05  |\n",
    "| 3          | Liam      | US      | Sales      | **100000** | 2025-05-03 | **2025-06-22**  |\n",
    "| 4          | Elena     | GR      | IT         | 53000  | 2025-06-04 | 2025-06-05  |\n",
    "| 5          | James     | US      | IT         | 60000  | 2025-06-05 | 2025-06-05  |\n",
    "| 6          | Emily     | US      | Enablement | 80000  | 2025-06-09 | **2025-06-22**  |\n",
    "| 7          | Yannis    | GR      | HR         | 70000  | 2025-06-20 | **2025-06-22**  |\n"
   ]
  },
  {
   "cell_type": "markdown",
   "metadata": {
    "application/vnd.databricks.v1+cell": {
     "cellMetadata": {
      "byteLimit": 2048000,
      "rowLimit": 10000
     },
     "inputWidgets": {},
     "nuid": "4460116e-9e4a-4f75-afa7-ead5d9117e26",
     "showTitle": false,
     "tableResultSettingsMap": {},
     "title": ""
    }
   },
   "source": [
    "## D. TO DO: Complete the Pipeline with SCD Type 1"
   ]
  },
  {
   "cell_type": "markdown",
   "metadata": {
    "application/vnd.databricks.v1+cell": {
     "cellMetadata": {
      "byteLimit": 2048000,
      "rowLimit": 10000
     },
     "inputWidgets": {},
     "nuid": "54534349-66a4-4e58-99b5-e2d74b0d5280",
     "showTitle": false,
     "tableResultSettingsMap": {},
     "title": ""
    }
   },
   "source": [
    "1. Run the cell below to create your starter Lakeflow Declarative Pipeline for this lab. The pipeline will set the following for you:\n",
    "    - Your default catalog: `labuser`\n",
    "    - Your configuration parameter: `source` = `/Volumes/dbacademy/ops/your-labuser-name`\n",
    "\n",
    "    **NOTE:** If the pipeline already exists, an error will be returned. In that case, you'll need to delete the existing pipeline and rerun this cell.\n",
    "\n",
    "    To delete the pipeline:\n",
    "\n",
    "    a. Select **Jobs and Pipelines** from the far-left navigation bar.  \n",
    "\n",
    "    b. Find the pipeline you want to delete.  \n",
    "\n",
    "    c. Click the three-dot menu ![ellipsis icon](./Includes/images/ellipsis_icon.png).  \n",
    "\n",
    "    d. Select **Delete**.\n",
    "\n",
    "**NOTE:**  The `create_declarative_pipeline` function is a custom function built for this course to create the sample pipeline using the Databricks REST API. This avoids manually creating the pipeline and referencing the pipeline assets."
   ]
  },
  {
   "cell_type": "code",
   "execution_count": 0,
   "metadata": {
    "application/vnd.databricks.v1+cell": {
     "cellMetadata": {
      "byteLimit": 2048000,
      "rowLimit": 10000
     },
     "inputWidgets": {},
     "nuid": "9044c5bb-3143-4893-ac45-1ea696fa3ad1",
     "showTitle": false,
     "tableResultSettingsMap": {},
     "title": ""
    }
   },
   "outputs": [
    {
     "output_type": "stream",
     "name": "stdout",
     "output_type": "stream",
     "text": [
      "Creating the Lakeflow Declarative Pipeline '7 - CDC Lab Starter Project - labuser11197806_1755343273'...\nRoot folder path: /Workspace/Users/labuser11197806_1755343273@vocareum.com/build-data-pipelines-with-lakeflow-declarative-pipelines-3.0.2/Build Data Pipelines with Lakeflow Declarative Pipelines/7 - CDC Lab Starter Project\nSource folder path(s): [{'glob': {'include': '/Workspace/Users/labuser11197806_1755343273@vocareum.com/build-data-pipelines-with-lakeflow-declarative-pipelines-3.0.2/Build Data Pipelines with Lakeflow Declarative Pipelines/7 - CDC Lab Starter Project/cdc_type_1_pipeline/**'}}]\n\nLakeflow Declarative Pipeline Creation '7 - CDC Lab Starter Project - labuser11197806_1755343273' Complete!\n"
     ]
    }
   ],
   "source": [
    "%python\n",
    "create_declarative_pipeline(pipeline_name=f'7 - CDC Lab Starter Project - {DA.catalog_name}', \n",
    "                            root_path_folder_name='7 - CDC Lab Starter Project',\n",
    "                            catalog_name = DA.catalog_name,\n",
    "                            schema_name = 'default',\n",
    "                            source_folder_names=['cdc_type_1_pipeline'],\n",
    "                            configuration = {'source':f'/Volumes/{DA.catalog_name}/default/lab_files'})"
   ]
  },
  {
   "cell_type": "markdown",
   "metadata": {
    "application/vnd.databricks.v1+cell": {
     "cellMetadata": {
      "byteLimit": 2048000,
      "rowLimit": 10000
     },
     "inputWidgets": {},
     "nuid": "5cedc6f3-04bd-4d08-859d-d749c8ca6903",
     "showTitle": false,
     "tableResultSettingsMap": {},
     "title": ""
    }
   },
   "source": [
    "2. Complete the following steps to open the starter Lakeflow Declarative Pipeline project for this lab:\n",
    "\n",
    "   a. Click the folder icon ![Folder](./Includes/images/folder_icon.png) in the left navigation panel.\n",
    "\n",
    "   b. In the **Build Data Pipelines with Lakeflow Declarative Pipelines** folder, find the **7 - CDC Lab Starter Project** folder. \n",
    "   \n",
    "   c. Right-click and select **Open in a new tab**.\n",
    "\n",
    "   d. In the new tab you should see the folder: **cdc_type_1_pipeline**. \n",
    "\n",
    "   e. Open the **cdc_type_1_pipeline** folder and select the **cdc_employees.sql** notebook."
   ]
  },
  {
   "cell_type": "markdown",
   "metadata": {
    "application/vnd.databricks.v1+cell": {
     "cellMetadata": {
      "byteLimit": 2048000,
      "rowLimit": 10000
     },
     "inputWidgets": {},
     "nuid": "bb09ee29-8743-4331-80c2-4cd5f03365e8",
     "showTitle": false,
     "tableResultSettingsMap": {},
     "title": ""
    }
   },
   "source": [
    "#### TO DO: Review the code in the cdc_employees.sql file and complete the `APPLY CHANGES INTO STATEMENT` to perform SCD Type 1.\n",
    "   \n",
    "   - For simplicity in training, all code for the pipeline is in one file **cdc_employees.sql**.\n",
    "\n",
    "   - Walk through the **cdc_employees.sql** file and read the comments.\n",
    "\n",
    "   - The **bronze** and **silver** table code is completed for you. You just need to complete the `APPLY CHANGES INTO STATEMENT`.\n",
    "\n",
    "   - If you need the solution to the pipeline you can view it in the **7 - CDC Lab Solution Project** folder."
   ]
  },
  {
   "cell_type": "markdown",
   "metadata": {
    "application/vnd.databricks.v1+cell": {
     "cellMetadata": {
      "byteLimit": 2048000,
      "rowLimit": 10000
     },
     "inputWidgets": {},
     "nuid": "21c3fe3a-4f6f-4484-a447-9468aea4c99c",
     "showTitle": false,
     "tableResultSettingsMap": {},
     "title": ""
    }
   },
   "source": [
    "##### TROUBLESHOOT\n",
    "   **NOTE:** If you open the **cdc_employees.sql** file and it does not open up the new editor, that is because that folder is not associated with a Lakeflow Declarative Pipeline. Please make sure to run the previous cell to associate the folder with a pipeline and try again.\n",
    "\n",
    "   **WARNING:** If you get the following warning when opening the **cdc_employees.sql** file: \n",
    "\n",
    "   ```pipeline you are trying to access does not exist or is inaccessible. Please verify the pipeline ID, request access or detach this file from the pipeline.``` \n",
    "\n",
    "   Simply refresh the page and/or reselect the notebook."
   ]
  },
  {
   "cell_type": "markdown",
   "metadata": {
    "application/vnd.databricks.v1+cell": {
     "cellMetadata": {
      "byteLimit": 2048000,
      "rowLimit": 10000
     },
     "inputWidgets": {},
     "nuid": "eddf030a-9afa-4923-9f80-ca41e34d1f4a",
     "showTitle": false,
     "tableResultSettingsMap": {},
     "title": ""
    }
   },
   "source": [
    "## E. Explore Your CDC SCD Type 1 Streaming Table\n",
    "\n",
    "After you have completed the `APPLY CHANGES INTO` statement in the **cdc_employees.sql** file, compare your results to the solution image below.\n",
    "\n",
    "**FINAL PIPELINE RUN**\n",
    "\n",
    "![Lab 7 Pipeline Run](./Includes/images/lab_7_pipeline_run.png)"
   ]
  },
  {
   "cell_type": "markdown",
   "metadata": {
    "application/vnd.databricks.v1+cell": {
     "cellMetadata": {
      "byteLimit": 2048000,
      "rowLimit": 10000
     },
     "inputWidgets": {},
     "nuid": "e53e8f23-dd0a-4ab7-a11d-c0f69e5960da",
     "showTitle": false,
     "tableResultSettingsMap": {},
     "title": ""
    }
   },
   "source": [
    "1. Run the cell below to view the data in your **lab_2_silver_db.current_employees_silver_demo7** streaming table that applied SCD Type 1, and compare it to the solution below.\n",
    "\n",
    "    Notice with SCD Type 1 no historical data is kept.\n",
    "\n",
    "**FINAL TABLE SOLUTION**\n",
    "| EmployeeID | FirstName | Country | Department | Salary | HireDate   | ProcessDate |\n",
    "|------------|-----------|---------|------------|--------|------------|-------------|\n",
    "| 2          | Nikos     | GR      | IT         | 55000  | 2025-04-10 | 2025-06-05  |\n",
    "| 3          | Liam      | US      | Sales      | **100000** | 2025-05-03 | **2025-06-22**  |\n",
    "| 4          | Elena     | GR      | IT         | 53000  | 2025-06-04 | 2025-06-05  |\n",
    "| 5          | James     | US      | IT         | 60000  | 2025-06-05 | 2025-06-05  |\n",
    "| 6          | Emily     | US      | Enablement | 80000  | 2025-06-09 | **2025-06-22**  |\n",
    "| 7          | Yannis    | GR      | HR         | 70000  | 2025-06-20 | **2025-06-22**  |\n",
    "\n",
    "**NOTE**: If you ran the solution pipeline, the streaming table is named **current_employees_silver_demo7_solution**"
   ]
  },
  {
   "cell_type": "code",
   "execution_count": 0,
   "metadata": {
    "application/vnd.databricks.v1+cell": {
     "cellMetadata": {
      "byteLimit": 2048000,
      "rowLimit": 10000
     },
     "inputWidgets": {},
     "nuid": "c2e8446f-0d1e-4298-95bb-05a230c82eed",
     "showTitle": false,
     "tableResultSettingsMap": {},
     "title": ""
    }
   },
   "outputs": [
    {
     "output_type": "display_data",
     "data": {
      "text/html": [
       "<style scoped>\n",
       "  .table-result-container {\n",
       "    max-height: 300px;\n",
       "    overflow: auto;\n",
       "  }\n",
       "  table, th, td {\n",
       "    border: 1px solid black;\n",
       "    border-collapse: collapse;\n",
       "  }\n",
       "  th, td {\n",
       "    padding: 5px;\n",
       "  }\n",
       "  th {\n",
       "    text-align: left;\n",
       "  }\n",
       "</style><div class='table-result-container'><table class='table-result'><thead style='background-color: white'><tr><th>EmployeeID</th><th>FirstName</th><th>Country</th><th>Department</th><th>Salary</th><th>HireDate</th><th>ProcessDate</th></tr></thead><tbody><tr><td>2.0</td><td>Nikos</td><td>GR</td><td>IT</td><td>55000.0</td><td>2025-04-10</td><td>2025-06-05</td></tr><tr><td>3.0</td><td>Liam</td><td>US</td><td>Sales</td><td>100000.0</td><td>2025-05-03</td><td>2025-06-22</td></tr><tr><td>4.0</td><td>Elena</td><td>GR</td><td>IT</td><td>53000.0</td><td>2025-06-04</td><td>2025-06-05</td></tr><tr><td>5.0</td><td>James</td><td>US</td><td>IT</td><td>60000.0</td><td>2025-06-05</td><td>2025-06-05</td></tr><tr><td>6.0</td><td>Emily</td><td>US</td><td>Enablement</td><td>80000.0</td><td>2025-06-09</td><td>2025-06-22</td></tr><tr><td>7.0</td><td>Yannis</td><td>GR</td><td>HR</td><td>70000.0</td><td>2025-06-20</td><td>2025-06-22</td></tr></tbody></table></div>"
      ]
     },
     "metadata": {
      "application/vnd.databricks.v1+output": {
       "addedWidgets": {},
       "aggData": [],
       "aggError": "",
       "aggOverflow": false,
       "aggSchema": [],
       "aggSeriesLimitReached": false,
       "aggType": "",
       "arguments": {},
       "columnCustomDisplayInfos": {},
       "data": [
        [
         2.0,
         "Nikos",
         "GR",
         "IT",
         55000.0,
         "2025-04-10",
         "2025-06-05"
        ],
        [
         3.0,
         "Liam",
         "US",
         "Sales",
         100000.0,
         "2025-05-03",
         "2025-06-22"
        ],
        [
         4.0,
         "Elena",
         "GR",
         "IT",
         53000.0,
         "2025-06-04",
         "2025-06-05"
        ],
        [
         5.0,
         "James",
         "US",
         "IT",
         60000.0,
         "2025-06-05",
         "2025-06-05"
        ],
        [
         6.0,
         "Emily",
         "US",
         "Enablement",
         80000.0,
         "2025-06-09",
         "2025-06-22"
        ],
        [
         7.0,
         "Yannis",
         "GR",
         "HR",
         70000.0,
         "2025-06-20",
         "2025-06-22"
        ]
       ],
       "datasetInfos": [],
       "dbfsResultPath": null,
       "isJsonSchema": true,
       "metadata": {
        "isDbfsCommandResult": false
       },
       "overflow": false,
       "plotOptions": {
        "customPlotOptions": {},
        "displayType": "table",
        "pivotAggregation": null,
        "pivotColumns": null,
        "xColumns": null,
        "yColumns": null
       },
       "removedWidgets": [],
       "schema": [
        {
         "metadata": "{}",
         "name": "EmployeeID",
         "type": "\"double\""
        },
        {
         "metadata": "{}",
         "name": "FirstName",
         "type": "\"string\""
        },
        {
         "metadata": "{}",
         "name": "Country",
         "type": "\"string\""
        },
        {
         "metadata": "{}",
         "name": "Department",
         "type": "\"string\""
        },
        {
         "metadata": "{}",
         "name": "Salary",
         "type": "\"double\""
        },
        {
         "metadata": "{}",
         "name": "HireDate",
         "type": "\"date\""
        },
        {
         "metadata": "{}",
         "name": "ProcessDate",
         "type": "\"date\""
        }
       ],
       "type": "table"
      }
     },
     "output_type": "display_data"
    }
   ],
   "source": [
    "SELECT *\n",
    "FROM lab_2_silver_db.current_employees_silver_demo7\n",
    "ORDER BY EmployeeID"
   ]
  },
  {
   "cell_type": "markdown",
   "metadata": {
    "application/vnd.databricks.v1+cell": {
     "cellMetadata": {
      "byteLimit": 2048000,
      "rowLimit": 10000
     },
     "inputWidgets": {},
     "nuid": "74b1a301-47d9-43b8-8b7e-cce4edcfd90f",
     "showTitle": false,
     "tableResultSettingsMap": {},
     "title": ""
    }
   },
   "source": [
    "## F. Lab Solution (OPTIONAL)\n",
    "If you want to run the solution, you can execute the cell below to create a pipeline using the **7 - CDC Lab Solution Project** project folder.\n",
    "\n",
    "Each table in this solution pipeline will end with **_solution**."
   ]
  },
  {
   "cell_type": "code",
   "execution_count": 0,
   "metadata": {
    "application/vnd.databricks.v1+cell": {
     "cellMetadata": {
      "byteLimit": 2048000,
      "rowLimit": 10000
     },
     "inputWidgets": {},
     "nuid": "a41598f3-795e-4aef-bca4-7900e3d152c8",
     "showTitle": false,
     "tableResultSettingsMap": {},
     "title": ""
    }
   },
   "outputs": [
    {
     "output_type": "stream",
     "name": "stdout",
     "output_type": "stream",
     "text": [
      "Creating the Lakeflow Declarative Pipeline '7 - CDC Lab Solution Project - labuser11197806_1755343273'...\nRoot folder path: /Workspace/Users/labuser11197806_1755343273@vocareum.com/build-data-pipelines-with-lakeflow-declarative-pipelines-3.0.2/Build Data Pipelines with Lakeflow Declarative Pipelines/7 - CDC Lab Solution Project\nSource folder path(s): [{'glob': {'include': '/Workspace/Users/labuser11197806_1755343273@vocareum.com/build-data-pipelines-with-lakeflow-declarative-pipelines-3.0.2/Build Data Pipelines with Lakeflow Declarative Pipelines/7 - CDC Lab Solution Project/cdc_type_1_pipeline/**'}}]\n\nLakeflow Declarative Pipeline Creation '7 - CDC Lab Solution Project - labuser11197806_1755343273' Complete!\n"
     ]
    }
   ],
   "source": [
    "%python\n",
    "create_declarative_pipeline(pipeline_name=f'7 - CDC Lab Solution Project - {DA.catalog_name}', \n",
    "                            root_path_folder_name='7 - CDC Lab Solution Project',\n",
    "                            catalog_name = DA.catalog_name,\n",
    "                            schema_name = 'default',\n",
    "                            source_folder_names=['cdc_type_1_pipeline'],\n",
    "                            configuration = {'source':f'/Volumes/{DA.catalog_name}/default/lab_files'})"
   ]
  },
  {
   "cell_type": "markdown",
   "metadata": {
    "application/vnd.databricks.v1+cell": {
     "cellMetadata": {
      "byteLimit": 2048000,
      "rowLimit": 10000
     },
     "inputWidgets": {},
     "nuid": "530b21ec-1891-4089-b4ad-209388527425",
     "showTitle": false,
     "tableResultSettingsMap": {},
     "title": ""
    }
   },
   "source": [
    "## G. CHALLENGE SCENARIO\n",
    "### Duration: ~10 minutes\n",
    "\n",
    "**NOTE:** *If you finish early in a live class, feel free to complete the challenge below. The challenge is optional and most likely won't be completed during the live class. Only continue if your Lakeflow Declarative Pipeline pipeline was set up correctly in the previous section by comparing your pipeline to the solution image.*\n",
    "\n",
    "**SCENARIO:** In the challenge, you will land a new CSV file in your **lab_files** cloud storage volume and rerun the pipeline to watch the Lakeflow Declarative Pipeline perform CDC SCD Type 1 on the new data."
   ]
  },
  {
   "cell_type": "markdown",
   "metadata": {
    "application/vnd.databricks.v1+cell": {
     "cellMetadata": {
      "byteLimit": 2048000,
      "rowLimit": 10000
     },
     "inputWidgets": {},
     "nuid": "2114991a-ca8b-4067-a9c2-f712ec78460f",
     "showTitle": false,
     "tableResultSettingsMap": {},
     "title": ""
    }
   },
   "source": [
    "1. Run the cell below to land another file in your **lab_files** cloud storage location."
   ]
  },
  {
   "cell_type": "code",
   "execution_count": 0,
   "metadata": {
    "application/vnd.databricks.v1+cell": {
     "cellMetadata": {
      "byteLimit": 2048000,
      "rowLimit": 10000
     },
     "inputWidgets": {},
     "nuid": "794f64dc-a1c2-497a-8101-17f0e2ea75b9",
     "showTitle": false,
     "tableResultSettingsMap": {},
     "title": ""
    }
   },
   "outputs": [
    {
     "output_type": "stream",
     "name": "stdout",
     "output_type": "stream",
     "text": [
      "Moving file '/Volumes/labuser11197806_1755343273/default/lab_staging_files/employees_3.csv' to '/Volumes/labuser11197806_1755343273/default/lab_files/employees_3.csv'.\n"
     ]
    }
   ],
   "source": [
    "%python\n",
    "LabSetup.copy_file(copy_file = 'employees_3.csv', \n",
    "                   to_target_volume = f'/Volumes/{DA.catalog_name}/default/lab_files')"
   ]
  },
  {
   "cell_type": "markdown",
   "metadata": {
    "application/vnd.databricks.v1+cell": {
     "cellMetadata": {
      "byteLimit": 2048000,
      "rowLimit": 10000
     },
     "inputWidgets": {},
     "nuid": "34a64eda-8a64-4193-b42c-23a52d8a7aa6",
     "showTitle": false,
     "tableResultSettingsMap": {},
     "title": ""
    }
   },
   "source": [
    "2. Query the **employees_3.csv** file. Notice the following:\n",
    "\n",
    "   - **EmployeeID** values **2** and **6** need to be removed.\n",
    "\n",
    "   - **EmployeeID 8** is a new employee in our company.\n"
   ]
  },
  {
   "cell_type": "code",
   "execution_count": 0,
   "metadata": {
    "application/vnd.databricks.v1+cell": {
     "cellMetadata": {
      "byteLimit": 2048000,
      "rowLimit": 10000
     },
     "inputWidgets": {},
     "nuid": "bc94538b-cee1-4667-9ddd-f97a7fef0a8a",
     "showTitle": false,
     "tableResultSettingsMap": {},
     "title": ""
    }
   },
   "outputs": [
    {
     "output_type": "display_data",
     "data": {
      "text/plain": [
       ""
      ]
     },
     "metadata": {
      "application/vnd.databricks.v1+output": {
       "addedWidgets": {},
       "arguments": {},
       "datasetInfos": [],
       "jupyterProps": null,
       "metadata": {
        "errorSummary": "Command skipped"
       },
       "removedWidgets": [],
       "sqlProps": null,
       "stackFrames": [],
       "type": "baseError"
      }
     },
     "output_type": "display_data"
    }
   ],
   "source": [
    "SELECT \n",
    "  *,\n",
    "  _metadata.file_name as source_file\n",
    "FROM read_files(\n",
    "  '/Volumes/' || DA.catalog_name || '/default/lab_files/employees_3.csv',\n",
    "  format => 'CSV'\n",
    ");"
   ]
  },
  {
   "cell_type": "markdown",
   "metadata": {
    "application/vnd.databricks.v1+cell": {
     "cellMetadata": {
      "byteLimit": 2048000,
      "rowLimit": 10000
     },
     "inputWidgets": {},
     "nuid": "9c8a3c84-e0f1-4b71-9cde-7067829229c1",
     "showTitle": false,
     "tableResultSettingsMap": {},
     "title": ""
    }
   },
   "source": [
    "3. Go back to your pipeline and select **Run pipeline**. Examine the pipeline run. Confirm it shows the following:\n",
    "\n",
    "![Lab 7 Challenge Run](./Includes/images/lab_7_challenge_solution.png)\n",
    "![Lab 7 Challenge Run](./Includes/images/lab4_challenge_metrics.png)\n"
   ]
  },
  {
   "cell_type": "markdown",
   "metadata": {
    "application/vnd.databricks.v1+cell": {
     "cellMetadata": {
      "byteLimit": 2048000,
      "rowLimit": 10000
     },
     "inputWidgets": {},
     "nuid": "445a3d55-f0d0-4855-8f26-5b3b67bb4ba1",
     "showTitle": false,
     "tableResultSettingsMap": {},
     "title": ""
    }
   },
   "source": [
    "4. Run the cell below to query the table **lab_2_silver_db.current_employees_silver_demo7** and view the results. Notice that:\n",
    "\n",
    "   - The two employees (**EmployeeID** 2 and 6) were deleted.\n",
    "\n",
    "   - **EmployeeID 8** was added.\n",
    "\n",
    "   - No historical data is kept with SCD Type 1.\n",
    "\n",
    "    **NOTE:** If you ran the solution pipeline, the streaming table is named **lab_2_silver_db.current_employees_silver_demo7_solution**.\n",
    "\n",
    "\n",
    "    **FINAL TABLE**\n",
    "| EmployeeID | FirstName  | Country | Department | Salary  | HireDate   | ProcessDate |\n",
    "|------------|------------|---------|------------|---------|------------|-------------|\n",
    "| 3          | Liam       | US      | Sales      | 100000  | 2025-05-03 | 2025-06-22  |\n",
    "| 4          | Elena      | GR      | IT         | 53000   | 2025-06-04 | 2025-06-05  |\n",
    "| 5          | James      | US      | IT         | 60000   | 2025-06-05 | 2025-06-05  |\n",
    "| 7          | Yannis     | GR      | HR         | 70000   | 2025-06-20 | 2025-06-22  |\n",
    "| 8          | Panagiotis | GR      | Enablement | 90000   | 2025-07-01 | 2025-07-22  |"
   ]
  },
  {
   "cell_type": "code",
   "execution_count": 0,
   "metadata": {
    "application/vnd.databricks.v1+cell": {
     "cellMetadata": {
      "byteLimit": 2048000,
      "rowLimit": 10000
     },
     "inputWidgets": {},
     "nuid": "2a4c65fd-5573-4af2-9723-b8de8f7eadf9",
     "showTitle": false,
     "tableResultSettingsMap": {},
     "title": ""
    }
   },
   "outputs": [
    {
     "output_type": "display_data",
     "data": {
      "text/html": [
       "<style scoped>\n",
       "  .table-result-container {\n",
       "    max-height: 300px;\n",
       "    overflow: auto;\n",
       "  }\n",
       "  table, th, td {\n",
       "    border: 1px solid black;\n",
       "    border-collapse: collapse;\n",
       "  }\n",
       "  th, td {\n",
       "    padding: 5px;\n",
       "  }\n",
       "  th {\n",
       "    text-align: left;\n",
       "  }\n",
       "</style><div class='table-result-container'><table class='table-result'><thead style='background-color: white'><tr><th>EmployeeID</th><th>FirstName</th><th>Country</th><th>Department</th><th>Salary</th><th>HireDate</th><th>ProcessDate</th></tr></thead><tbody><tr><td>2.0</td><td>Nikos</td><td>GR</td><td>IT</td><td>55000.0</td><td>2025-04-10</td><td>2025-06-05</td></tr><tr><td>3.0</td><td>Liam</td><td>US</td><td>Sales</td><td>100000.0</td><td>2025-05-03</td><td>2025-06-22</td></tr><tr><td>4.0</td><td>Elena</td><td>GR</td><td>IT</td><td>53000.0</td><td>2025-06-04</td><td>2025-06-05</td></tr><tr><td>5.0</td><td>James</td><td>US</td><td>IT</td><td>60000.0</td><td>2025-06-05</td><td>2025-06-05</td></tr><tr><td>6.0</td><td>Emily</td><td>US</td><td>Enablement</td><td>80000.0</td><td>2025-06-09</td><td>2025-06-22</td></tr><tr><td>7.0</td><td>Yannis</td><td>GR</td><td>HR</td><td>70000.0</td><td>2025-06-20</td><td>2025-06-22</td></tr></tbody></table></div>"
      ]
     },
     "metadata": {
      "application/vnd.databricks.v1+output": {
       "addedWidgets": {},
       "aggData": [],
       "aggError": "",
       "aggOverflow": false,
       "aggSchema": [],
       "aggSeriesLimitReached": false,
       "aggType": "",
       "arguments": {},
       "columnCustomDisplayInfos": {},
       "data": [
        [
         2.0,
         "Nikos",
         "GR",
         "IT",
         55000.0,
         "2025-04-10",
         "2025-06-05"
        ],
        [
         3.0,
         "Liam",
         "US",
         "Sales",
         100000.0,
         "2025-05-03",
         "2025-06-22"
        ],
        [
         4.0,
         "Elena",
         "GR",
         "IT",
         53000.0,
         "2025-06-04",
         "2025-06-05"
        ],
        [
         5.0,
         "James",
         "US",
         "IT",
         60000.0,
         "2025-06-05",
         "2025-06-05"
        ],
        [
         6.0,
         "Emily",
         "US",
         "Enablement",
         80000.0,
         "2025-06-09",
         "2025-06-22"
        ],
        [
         7.0,
         "Yannis",
         "GR",
         "HR",
         70000.0,
         "2025-06-20",
         "2025-06-22"
        ]
       ],
       "datasetInfos": [],
       "dbfsResultPath": null,
       "isJsonSchema": true,
       "metadata": {
        "isDbfsCommandResult": false
       },
       "overflow": false,
       "plotOptions": {
        "customPlotOptions": {},
        "displayType": "table",
        "pivotAggregation": null,
        "pivotColumns": null,
        "xColumns": null,
        "yColumns": null
       },
       "removedWidgets": [],
       "schema": [
        {
         "metadata": "{}",
         "name": "EmployeeID",
         "type": "\"double\""
        },
        {
         "metadata": "{}",
         "name": "FirstName",
         "type": "\"string\""
        },
        {
         "metadata": "{}",
         "name": "Country",
         "type": "\"string\""
        },
        {
         "metadata": "{}",
         "name": "Department",
         "type": "\"string\""
        },
        {
         "metadata": "{}",
         "name": "Salary",
         "type": "\"double\""
        },
        {
         "metadata": "{}",
         "name": "HireDate",
         "type": "\"date\""
        },
        {
         "metadata": "{}",
         "name": "ProcessDate",
         "type": "\"date\""
        }
       ],
       "type": "table"
      }
     },
     "output_type": "display_data"
    }
   ],
   "source": [
    "SELECT *\n",
    "FROM lab_2_silver_db.current_employees_silver_demo7\n",
    "ORDER BY EmployeeID;"
   ]
  },
  {
   "cell_type": "markdown",
   "metadata": {
    "application/vnd.databricks.v1+cell": {
     "cellMetadata": {
      "byteLimit": 2048000,
      "rowLimit": 10000
     },
     "inputWidgets": {},
     "nuid": "3fd8901d-0c58-491f-8e01-1c7209a3942a",
     "showTitle": false,
     "tableResultSettingsMap": {},
     "title": ""
    }
   },
   "source": [
    "\n",
    "&copy; 2025 Databricks, Inc. All rights reserved. Apache, Apache Spark, Spark, the Spark Logo, Apache Iceberg, Iceberg, and the Apache Iceberg logo are trademarks of the <a href=\"https://www.apache.org/\" target=\"blank\">Apache Software Foundation</a>.<br/>\n",
    "<br/><a href=\"https://databricks.com/privacy-policy\" target=\"blank\">Privacy Policy</a> | \n",
    "<a href=\"https://databricks.com/terms-of-use\" target=\"blank\">Terms of Use</a> | \n",
    "<a href=\"https://help.databricks.com/\" target=\"blank\">Support</a>"
   ]
  }
 ],
 "metadata": {
  "application/vnd.databricks.v1+notebook": {
   "computePreferences": null,
   "dashboards": [],
   "environmentMetadata": null,
   "inputWidgetPreferences": null,
   "language": "sql",
   "notebookMetadata": {
    "mostRecentlyExecutedCommandWithImplicitDF": {
     "commandId": 614781687096000,
     "dataframes": [
      "_sqldf"
     ]
    },
    "pythonIndentUnit": 4
   },
   "notebookName": "7 BONUS Lab - APPLY CHANGES INTO with SCD Type 1",
   "widgets": {}
  },
  "language_info": {
   "name": "sql"
  }
 },
 "nbformat": 4,
 "nbformat_minor": 0
}