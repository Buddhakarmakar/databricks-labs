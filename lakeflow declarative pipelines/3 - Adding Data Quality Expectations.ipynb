{
 "cells": [
  {
   "cell_type": "markdown",
   "metadata": {
    "application/vnd.databricks.v1+cell": {
     "cellMetadata": {},
     "inputWidgets": {},
     "nuid": "65e56284-9df6-41cb-8ab0-d4708516bbca",
     "showTitle": false,
     "tableResultSettingsMap": {},
     "title": ""
    }
   },
   "source": [
    "\n",
    "<div style=\"text-align: center; line-height: 0; padding-top: 9px;\">\n",
    "  <img src=\"https://databricks.com/wp-content/uploads/2018/03/db-academy-rgb-1200px.png\" alt=\"Databricks Learning\">\n",
    "</div>\n"
   ]
  },
  {
   "cell_type": "markdown",
   "metadata": {
    "application/vnd.databricks.v1+cell": {
     "cellMetadata": {},
     "inputWidgets": {},
     "nuid": "7e11409a-5fd6-4efc-b8f2-673f66f4c879",
     "showTitle": false,
     "tableResultSettingsMap": {},
     "title": ""
    }
   },
   "source": [
    "# 3 - Adding Data Quality Expectations\n",
    "\n",
    "In this demonstration we will add data quality expectations to apply quality constraints that validates data as it flows through Lakeflow Declarative Pipelines. Expectations provide greater insight into data quality metrics and allow you to fail updates or drop records when detecting invalid records.\n",
    "\n",
    "\n",
    "### Learning Objectives\n",
    "\n",
    "By the end of this lesson, you will be able to:\n",
    "- Add quality constraints within a Lakeflow Declarative Pipeline to trigger appropriate actions (warn, drop, or fail) based on data expectations.\n",
    "- Analyze pipeline metrics to identify and interpret data quality issues across different data flows."
   ]
  },
  {
   "cell_type": "markdown",
   "metadata": {
    "application/vnd.databricks.v1+cell": {
     "cellMetadata": {},
     "inputWidgets": {},
     "nuid": "684092df-7eec-4a98-bc0c-e958c1505566",
     "showTitle": false,
     "tableResultSettingsMap": {},
     "title": ""
    }
   },
   "source": [
    "## REQUIRED - SELECT CLASSIC COMPUTE\n",
    "\n",
    "Before executing cells in this notebook, please select your classic compute cluster in the lab. Be aware that **Serverless** is enabled by default.\n",
    "\n",
    "Follow these steps to select the classic compute cluster:\n",
    "\n",
    "1. Navigate to the top-right of this notebook and click the drop-down menu to select your cluster. By default, the notebook will use **Serverless**.\n",
    "\n",
    "1. If your cluster is available, select it and continue to the next cell. If the cluster is not shown:\n",
    "\n",
    "    - In the drop-down, select **More**.\n",
    "\n",
    "    - In the **Attach to an existing compute resource** pop-up, select the first drop-down. You will see a unique cluster name in that drop-down. Please select that cluster.\n",
    "\n",
    "**NOTE:** If your cluster has terminated, you might need to restart it in order to select it. To do this:\n",
    "\n",
    "1. Right-click on **Compute** in the left navigation pane and select *Open in new tab*.\n",
    "\n",
    "1. Find the triangle icon to the right of your compute cluster name and click it.\n",
    "\n",
    "1. Wait a few minutes for the cluster to start.\n",
    "\n",
    "1. Once the cluster is running, complete the steps above to select your cluster."
   ]
  },
  {
   "cell_type": "markdown",
   "metadata": {
    "application/vnd.databricks.v1+cell": {
     "cellMetadata": {},
     "inputWidgets": {},
     "nuid": "52b0f06b-1881-45dd-ab26-c6cfc3a1f94b",
     "showTitle": false,
     "tableResultSettingsMap": {},
     "title": ""
    }
   },
   "source": [
    "%md\n",
    "## A. Classroom Setup\n",
    "\n",
    "Run the following cell to configure your working environment for this course.\n",
    "\n",
    "This cell will also reset your `/Volumes/dbacademy/ops/labuser/` volume with the JSON files to the starting point, with one JSON file in each volume.\n",
    "\n",
    "**NOTE:** The `DA` object is only used in Databricks Academy courses and is not available outside of these courses. It will dynamically create and reference the information needed to run the course."
   ]
  },
  {
   "cell_type": "code",
   "execution_count": 0,
   "metadata": {
    "application/vnd.databricks.v1+cell": {
     "cellMetadata": {
      "byteLimit": 2048000,
      "implicitDf": true,
      "rowLimit": 10000
     },
     "inputWidgets": {},
     "nuid": "af9b4a8b-6414-4732-be47-40e38b55a4ec",
     "showTitle": false,
     "tableResultSettingsMap": {},
     "title": ""
    }
   },
   "outputs": [
    {
     "output_type": "stream",
     "name": "stdout",
     "output_type": "stream",
     "text": [
      "\u001B[43mNote: you may need to restart the kernel using %restart_python or dbutils.library.restartPython() to use updated packages.\u001B[0m\n"
     ]
    },
    {
     "output_type": "display_data",
     "data": {
      "text/html": [
       "<style scoped>\n",
       "  .table-result-container {\n",
       "    max-height: 300px;\n",
       "    overflow: auto;\n",
       "  }\n",
       "  table, th, td {\n",
       "    border: 1px solid black;\n",
       "    border-collapse: collapse;\n",
       "  }\n",
       "  th, td {\n",
       "    padding: 5px;\n",
       "  }\n",
       "  th {\n",
       "    text-align: left;\n",
       "  }\n",
       "</style><div class='table-result-container'><table class='table-result'><thead style='background-color: white'><tr></tr></thead><tbody></tbody></table></div>"
      ]
     },
     "metadata": {
      "application/vnd.databricks.v1+output": {
       "addedWidgets": {},
       "aggData": [],
       "aggError": "",
       "aggOverflow": false,
       "aggSchema": [],
       "aggSeriesLimitReached": false,
       "aggType": "",
       "arguments": {},
       "columnCustomDisplayInfos": {},
       "data": [],
       "datasetInfos": [],
       "dbfsResultPath": null,
       "isJsonSchema": true,
       "metadata": {},
       "overflow": false,
       "plotOptions": {
        "customPlotOptions": {},
        "displayType": "table",
        "pivotAggregation": null,
        "pivotColumns": null,
        "xColumns": null,
        "yColumns": null
       },
       "removedWidgets": [],
       "schema": [],
       "type": "table"
      }
     },
     "output_type": "display_data"
    },
    {
     "output_type": "stream",
     "name": "stdout",
     "output_type": "stream",
     "text": [
      "Schema labuser11197806_1755312348.1_bronze_db already exists. No action taken.\nSchema labuser11197806_1755312348.2_silver_db already exists. No action taken.\nSchema labuser11197806_1755312348.3_gold_db already exists. No action taken.\n----------------------------------------------------------------------------------------\nDirectory /Volumes/dbacademy/ops/labuser11197806_1755312348@vocareum_com/customers already exists. No action taken.\nDirectory /Volumes/dbacademy/ops/labuser11197806_1755312348@vocareum_com/orders already exists. No action taken.\nDirectory /Volumes/dbacademy/ops/labuser11197806_1755312348@vocareum_com/status already exists. No action taken.\n----------------------------------------------------------------------------------------\n\n\nSearching for files in /Volumes/dbacademy/ops/labuser11197806_1755312348@vocareum_com/customers/ volume to delete prior to creating files...\nDeleting file: /Volumes/dbacademy/ops/labuser11197806_1755312348@vocareum_com/customers/00.json\n\nSearching for files in /Volumes/dbacademy/ops/labuser11197806_1755312348@vocareum_com/orders/ volume to delete prior to creating files...\nDeleting file: /Volumes/dbacademy/ops/labuser11197806_1755312348@vocareum_com/orders/00.json\nDeleting file: /Volumes/dbacademy/ops/labuser11197806_1755312348@vocareum_com/orders/01.json\n\nSearching for files in /Volumes/dbacademy/ops/labuser11197806_1755312348@vocareum_com/status/ volume to delete prior to creating files...\nDeleting file: /Volumes/dbacademy/ops/labuser11197806_1755312348@vocareum_com/status/00.json\n\n----------------Loading files to user's volume: '/Volumes/dbacademy/ops/labuser11197806_1755312348@vocareum_com/customers'----------------\nFile number 1 - Copying file /Volumes/dbacademy_retail/v01/retail-pipeline/customers/stream_json/00.json --> /Volumes/dbacademy/ops/labuser11197806_1755312348@vocareum_com/customers/00.json.\n\n----------------Loading files to user's volume: '/Volumes/dbacademy/ops/labuser11197806_1755312348@vocareum_com/orders'----------------\nFile number 1 - Copying file /Volumes/dbacademy_retail/v01/retail-pipeline/orders/stream_json/00.json --> /Volumes/dbacademy/ops/labuser11197806_1755312348@vocareum_com/orders/00.json.\n\n----------------Loading files to user's volume: '/Volumes/dbacademy/ops/labuser11197806_1755312348@vocareum_com/status'----------------\nFile number 1 - Copying file /Volumes/dbacademy_retail/v01/retail-pipeline/status/stream_json/00.json --> /Volumes/dbacademy/ops/labuser11197806_1755312348@vocareum_com/status/00.json.\n\n\n\n------------------------------------------------------------------------------\nSETUP COMPLETE!\n------------------------------------------------------------------------------\n"
     ]
    },
    {
     "output_type": "stream",
     "name": "stdout",
     "output_type": "stream",
     "text": [
      "Schemas are available, lab check passed: ['1_bronze_db', '2_silver_db', '3_gold_db'].\n"
     ]
    },
    {
     "output_type": "display_data",
     "data": {
      "text/html": [
       "<table style=\"width:100%\">\n",
       "        <tr>\n",
       "            <td style=\"white-space:nowrap; width:1em\">Your catalog name variable reference: DA.catalog_name:</td>\n",
       "            <td><input type=\"text\" value=\"labuser11197806_1755312348\" style=\"width: 100%\"></td></tr>\n",
       "        <tr>\n",
       "            <td style=\"white-space:nowrap; width:1em\">Variable reference to your source files (Python - DA.paths.working_dir, SQL - DA.paths_working_dir):</td>\n",
       "            <td><input type=\"text\" value=\"/Volumes/dbacademy/ops/labuser11197806_1755312348@vocareum_com\" style=\"width: 100%\"></td></tr></table>"
      ]
     },
     "metadata": {},
     "output_type": "display_data"
    }
   ],
   "source": [
    "%run ./Includes/Classroom-Setup-3"
   ]
  },
  {
   "cell_type": "markdown",
   "metadata": {
    "application/vnd.databricks.v1+cell": {
     "cellMetadata": {},
     "inputWidgets": {},
     "nuid": "e13d68b6-75db-4851-ac95-d8aa5d9ca947",
     "showTitle": false,
     "tableResultSettingsMap": {},
     "title": ""
    }
   },
   "source": [
    "Run the cell below to programmatically view the files in your `/Volumes/dbacademy/ops/labuser/orders` volume. Confirm you only see the original **00.json** file in the **orders** folder."
   ]
  },
  {
   "cell_type": "code",
   "execution_count": 0,
   "metadata": {
    "application/vnd.databricks.v1+cell": {
     "cellMetadata": {
      "byteLimit": 2048000,
      "rowLimit": 10000
     },
     "inputWidgets": {},
     "nuid": "1c992af8-7e5a-4921-9ab9-038b9a781f23",
     "showTitle": true,
     "tableResultSettingsMap": {},
     "title": "View files in the orders volume"
    }
   },
   "outputs": [
    {
     "output_type": "display_data",
     "data": {
      "text/html": [
       "<style scoped>\n",
       "  .table-result-container {\n",
       "    max-height: 300px;\n",
       "    overflow: auto;\n",
       "  }\n",
       "  table, th, td {\n",
       "    border: 1px solid black;\n",
       "    border-collapse: collapse;\n",
       "  }\n",
       "  th, td {\n",
       "    padding: 5px;\n",
       "  }\n",
       "  th {\n",
       "    text-align: left;\n",
       "  }\n",
       "</style><div class='table-result-container'><table class='table-result'><thead style='background-color: white'><tr><th>path</th><th>name</th><th>size</th><th>modification_time</th></tr></thead><tbody><tr><td>/Volumes/dbacademy/ops/labuser11197806_1755312348@vocareum_com/orders/00.json</td><td>00.json</td><td>15313</td><td>1755317295000</td></tr></tbody></table></div>"
      ]
     },
     "metadata": {
      "application/vnd.databricks.v1+output": {
       "addedWidgets": {},
       "aggData": [],
       "aggError": "",
       "aggOverflow": false,
       "aggSchema": [],
       "aggSeriesLimitReached": false,
       "aggType": "",
       "arguments": {},
       "columnCustomDisplayInfos": {},
       "data": [
        [
         "/Volumes/dbacademy/ops/labuser11197806_1755312348@vocareum_com/orders/00.json",
         "00.json",
         15313,
         1755317295000
        ]
       ],
       "datasetInfos": [],
       "dbfsResultPath": null,
       "isJsonSchema": true,
       "metadata": {},
       "overflow": false,
       "plotOptions": {
        "customPlotOptions": {},
        "displayType": "table",
        "pivotAggregation": null,
        "pivotColumns": null,
        "xColumns": null,
        "yColumns": null
       },
       "removedWidgets": [],
       "schema": [
        {
         "metadata": "{}",
         "name": "path",
         "type": "\"string\""
        },
        {
         "metadata": "{}",
         "name": "name",
         "type": "\"string\""
        },
        {
         "metadata": "{}",
         "name": "size",
         "type": "\"long\""
        },
        {
         "metadata": "{}",
         "name": "modification_time",
         "type": "\"long\""
        }
       ],
       "type": "table"
      }
     },
     "output_type": "display_data"
    }
   ],
   "source": [
    "%python\n",
    "spark.sql(f'LIST \"{DA.paths.working_dir}/orders\"').display()"
   ]
  },
  {
   "cell_type": "code",
   "execution_count": 0,
   "metadata": {
    "application/vnd.databricks.v1+cell": {
     "cellMetadata": {
      "byteLimit": 2048000,
      "rowLimit": 10000
     },
     "inputWidgets": {},
     "nuid": "efce3a00-9c37-4218-a263-be4267ef9663",
     "showTitle": false,
     "tableResultSettingsMap": {},
     "title": ""
    }
   },
   "outputs": [
    {
     "output_type": "display_data",
     "data": {
      "text/html": [
       "<style scoped>\n",
       "  .table-result-container {\n",
       "    max-height: 300px;\n",
       "    overflow: auto;\n",
       "  }\n",
       "  table, th, td {\n",
       "    border: 1px solid black;\n",
       "    border-collapse: collapse;\n",
       "  }\n",
       "  th, td {\n",
       "    padding: 5px;\n",
       "  }\n",
       "  th {\n",
       "    text-align: left;\n",
       "  }\n",
       "</style><div class='table-result-container'><table class='table-result'><thead style='background-color: white'><tr><th>customer_id</th><th>notifications</th><th>order_id</th><th>order_timestamp</th></tr></thead><tbody><tr><td>23094</td><td>Y</td><td>75123</td><td>1640392092</td></tr><tr><td>23457</td><td>N</td><td>75124</td><td>1640392500</td></tr><tr><td>23564</td><td>Y</td><td>75125</td><td>1640394862</td></tr><tr><td>23392</td><td>N</td><td>75126</td><td>1640396067</td></tr><tr><td>23101</td><td>Y</td><td>75127</td><td>1640399066</td></tr><tr><td>23466</td><td>N</td><td>75128</td><td>1640404853</td></tr><tr><td>23834</td><td>Y</td><td>75129</td><td>1640407272</td></tr><tr><td>23852</td><td>Y</td><td>75130</td><td>1640419989</td></tr><tr><td>23483</td><td>Y</td><td>75131</td><td>1640422131</td></tr><tr><td>23821</td><td>N</td><td>75132</td><td>1640423697</td></tr><tr><td>23907</td><td>Y</td><td>75133</td><td>1640427687</td></tr><tr><td>23088</td><td>Y</td><td>75134</td><td>1640427813</td></tr><tr><td>23327</td><td>Y</td><td>75135</td><td>1640432499</td></tr><tr><td>23154</td><td>Y</td><td>75136</td><td>1640433629</td></tr><tr><td>23818</td><td>Y</td><td>75137</td><td>1640434907</td></tr><tr><td>23568</td><td>Y</td><td>75138</td><td>1640438599</td></tr><tr><td>23599</td><td>Y</td><td>75139</td><td>1640441108</td></tr><tr><td>23646</td><td>Y</td><td>75140</td><td>1640442728</td></tr><tr><td>23447</td><td>Y</td><td>75141</td><td>1640442982</td></tr><tr><td>22196</td><td>N</td><td>75142</td><td>1640444289</td></tr><tr><td>23004</td><td>Y</td><td>75143</td><td>1640444735</td></tr><tr><td>22457</td><td>Y</td><td>75144</td><td>1640453556</td></tr><tr><td>23560</td><td>N</td><td>75145</td><td>1640454027</td></tr><tr><td>23892</td><td>Y</td><td>75146</td><td>1640469617</td></tr><tr><td>23270</td><td>N</td><td>75147</td><td>1640469849</td></tr><tr><td>23318</td><td>Y</td><td>75148</td><td>1640470511</td></tr><tr><td>23134</td><td>Y</td><td>75149</td><td>1640476865</td></tr><tr><td>23631</td><td>Y</td><td>75150</td><td>1640479937</td></tr><tr><td>23447</td><td>Y</td><td>75151</td><td>1640480642</td></tr><tr><td>22980</td><td>Y</td><td>75152</td><td>1640489317</td></tr><tr><td>23662</td><td>Y</td><td>75153</td><td>1640490661</td></tr><tr><td>23128</td><td>Y</td><td>75154</td><td>1640491953</td></tr><tr><td>23305</td><td>Y</td><td>75155</td><td>1640500820</td></tr><tr><td>23790</td><td>Y</td><td>75156</td><td>1640506768</td></tr><tr><td>23673</td><td>Y</td><td>75157</td><td>1640514816</td></tr><tr><td>22447</td><td>Y</td><td>75158</td><td>1640516867</td></tr><tr><td>22600</td><td>Y</td><td>75159</td><td>1640516913</td></tr><tr><td>23598</td><td>Y</td><td>75160</td><td>1640517492</td></tr><tr><td>23453</td><td>N</td><td>75161</td><td>1640521294</td></tr><tr><td>22477</td><td>N</td><td>75162</td><td>1640526465</td></tr><tr><td>23863</td><td>Y</td><td>75163</td><td>1640526485</td></tr><tr><td>22485</td><td>N</td><td>75164</td><td>1640526860</td></tr><tr><td>23786</td><td>N</td><td>75165</td><td>1640532784</td></tr><tr><td>23833</td><td>N</td><td>75166</td><td>1640534000</td></tr><tr><td>23242</td><td>N</td><td>75167</td><td>1640534721</td></tr><tr><td>23120</td><td>Y</td><td>75168</td><td>1640548053</td></tr><tr><td>23815</td><td>Y</td><td>75169</td><td>1640548610</td></tr><tr><td>22757</td><td>Y</td><td>75170</td><td>1640548846</td></tr><tr><td>23748</td><td>N</td><td>75171</td><td>1640552043</td></tr><tr><td>23416</td><td>Y</td><td>75172</td><td>1640552112</td></tr><tr><td>23218</td><td>N</td><td>75173</td><td>1640553981</td></tr><tr><td>23867</td><td>Y</td><td>75174</td><td>1640564080</td></tr><tr><td>23259</td><td>N</td><td>75175</td><td>1640567847</td></tr><tr><td>22757</td><td>N</td><td>75176</td><td>1640569060</td></tr><tr><td>22599</td><td>Y</td><td>75177</td><td>1640574553</td></tr><tr><td>23606</td><td>Y</td><td>75178</td><td>1640575274</td></tr><tr><td>23493</td><td>N</td><td>75179</td><td>1640575962</td></tr><tr><td>22467</td><td>Y</td><td>75180</td><td>1640580049</td></tr><tr><td>23828</td><td>Y</td><td>75181</td><td>1640582140</td></tr><tr><td>22316</td><td>Y</td><td>75182</td><td>1640587536</td></tr><tr><td>23061</td><td>Y</td><td>75183</td><td>1640594017</td></tr><tr><td>23813</td><td>Y</td><td>75184</td><td>1640603248</td></tr><tr><td>23358</td><td>Y</td><td>75185</td><td>1640611591</td></tr><tr><td>23778</td><td>Y</td><td>75186</td><td>1640613010</td></tr><tr><td>23477</td><td>Y</td><td>75187</td><td>1640618976</td></tr><tr><td>23179</td><td>Y</td><td>75188</td><td>1640620853</td></tr><tr><td>23769</td><td>Y</td><td>75189</td><td>1640625214</td></tr><tr><td>23836</td><td>N</td><td>75190</td><td>1640625322</td></tr><tr><td>22557</td><td>Y</td><td>75191</td><td>1640625597</td></tr><tr><td>23359</td><td>Y</td><td>75192</td><td>1640631831</td></tr><tr><td>23768</td><td>Y</td><td>75193</td><td>1640631849</td></tr><tr><td>23669</td><td>Y</td><td>75194</td><td>1640633377</td></tr><tr><td>23823</td><td>Y</td><td>75195</td><td>1640637588</td></tr><tr><td>22296</td><td>Y</td><td>75196</td><td>1640642842</td></tr><tr><td>23318</td><td>Y</td><td>75197</td><td>1640643224</td></tr><tr><td>23219</td><td>N</td><td>75198</td><td>1640643721</td></tr><tr><td>23072</td><td>Y</td><td>75199</td><td>1640653481</td></tr><tr><td>23910</td><td>Y</td><td>75200</td><td>1640660661</td></tr><tr><td>23833</td><td>Y</td><td>75201</td><td>1640665029</td></tr><tr><td>23696</td><td>Y</td><td>75202</td><td>1640665868</td></tr><tr><td>23815</td><td>Y</td><td>75203</td><td>1640665971</td></tr><tr><td>23195</td><td>N</td><td>75204</td><td>1640671232</td></tr><tr><td>23183</td><td>Y</td><td>75205</td><td>1640672063</td></tr><tr><td>23367</td><td>N</td><td>75206</td><td>1640675667</td></tr><tr><td>23088</td><td>Y</td><td>75207</td><td>1640675687</td></tr><tr><td>22752</td><td>Y</td><td>75208</td><td>1640678086</td></tr><tr><td>23326</td><td>Y</td><td>75209</td><td>1640681064</td></tr><tr><td>23212</td><td>Y</td><td>75210</td><td>1640682880</td></tr><tr><td>23524</td><td>Y</td><td>75211</td><td>1640684944</td></tr><tr><td>23151</td><td>Y</td><td>75212</td><td>1640690706</td></tr><tr><td>23582</td><td>Y</td><td>75213</td><td>1640691368</td></tr><tr><td>23182</td><td>Y</td><td>75214</td><td>1640691634</td></tr><tr><td>22826</td><td>Y</td><td>75215</td><td>1640696465</td></tr><tr><td>23158</td><td>Y</td><td>75216</td><td>1640706768</td></tr><tr><td>23343</td><td>Y</td><td>75217</td><td>1640717605</td></tr><tr><td>23390</td><td>Y</td><td>75218</td><td>1640721908</td></tr><tr><td>23574</td><td>Y</td><td>75219</td><td>1640725566</td></tr><tr><td>23282</td><td>Y</td><td>75220</td><td>1640726897</td></tr><tr><td>23206</td><td>N</td><td>75221</td><td>1640730881</td></tr><tr><td>23811</td><td>Y</td><td>75222</td><td>1640731443</td></tr><tr><td>23734</td><td>Y</td><td>75223</td><td>1640732281</td></tr><tr><td>23284</td><td>N</td><td>75224</td><td>1640737911</td></tr><tr><td>23397</td><td>Y</td><td>75225</td><td>1640741859</td></tr><tr><td>23285</td><td>Y</td><td>75226</td><td>1640743461</td></tr><tr><td>23443</td><td>Y</td><td>75227</td><td>1640744138</td></tr><tr><td>23841</td><td>Y</td><td>75228</td><td>1640745536</td></tr><tr><td>23489</td><td>Y</td><td>75229</td><td>1640745939</td></tr><tr><td>23377</td><td>Y</td><td>75230</td><td>1640751789</td></tr><tr><td>23519</td><td>Y</td><td>75231</td><td>1640753686</td></tr><tr><td>23273</td><td>Y</td><td>75232</td><td>1640754906</td></tr><tr><td>23942</td><td>Y</td><td>75233</td><td>1640755409</td></tr><tr><td>23714</td><td>Y</td><td>75234</td><td>1640755921</td></tr><tr><td>22959</td><td>N</td><td>75235</td><td>1640758650</td></tr><tr><td>23642</td><td>Y</td><td>75236</td><td>1640763112</td></tr><tr><td>23277</td><td>N</td><td>75237</td><td>1640781747</td></tr><tr><td>23777</td><td>Y</td><td>75238</td><td>1640790253</td></tr><tr><td>23748</td><td>N</td><td>75239</td><td>1640799146</td></tr><tr><td>23511</td><td>Y</td><td>75240</td><td>1640799965</td></tr><tr><td>23964</td><td>N</td><td>75241</td><td>1640800237</td></tr><tr><td>23542</td><td>Y</td><td>75242</td><td>1640803027</td></tr><tr><td>23842</td><td>Y</td><td>75243</td><td>1640805315</td></tr><tr><td>23371</td><td>Y</td><td>75244</td><td>1640808136</td></tr><tr><td>22895</td><td>Y</td><td>75245</td><td>1640809481</td></tr><tr><td>23885</td><td>Y</td><td>75246</td><td>1640810227</td></tr><tr><td>23875</td><td>Y</td><td>75247</td><td>1640812303</td></tr><tr><td>23331</td><td>Y</td><td>75248</td><td>1640815265</td></tr><tr><td>23218</td><td>N</td><td>75249</td><td>1640828420</td></tr><tr><td>23779</td><td>N</td><td>75250</td><td>1640830827</td></tr><tr><td>23187</td><td>N</td><td>75251</td><td>1640837025</td></tr><tr><td>23435</td><td>Y</td><td>75252</td><td>1640837290</td></tr><tr><td>23124</td><td>Y</td><td>75253</td><td>1640837302</td></tr><tr><td>23215</td><td>N</td><td>75254</td><td>1640852084</td></tr><tr><td>23863</td><td>Y</td><td>75255</td><td>1640857299</td></tr><tr><td>23800</td><td>Y</td><td>75256</td><td>1640858077</td></tr><tr><td>23503</td><td>N</td><td>75257</td><td>1640859758</td></tr><tr><td>23755</td><td>Y</td><td>75258</td><td>1640862499</td></tr><tr><td>23509</td><td>Y</td><td>75259</td><td>1640864646</td></tr><tr><td>22338</td><td>N</td><td>75260</td><td>1640867193</td></tr><tr><td>22935</td><td>Y</td><td>75261</td><td>1640869044</td></tr><tr><td>23311</td><td>Y</td><td>75262</td><td>1640869535</td></tr><tr><td>23819</td><td>Y</td><td>75263</td><td>1640869633</td></tr><tr><td>23312</td><td>Y</td><td>75264</td><td>1640886912</td></tr><tr><td>23484</td><td>Y</td><td>75265</td><td>1640888803</td></tr><tr><td>23290</td><td>Y</td><td>75266</td><td>1640889524</td></tr><tr><td>23558</td><td>Y</td><td>75267</td><td>1640889752</td></tr><tr><td>23086</td><td>Y</td><td>75268</td><td>1640893693</td></tr><tr><td>23822</td><td>Y</td><td>75269</td><td>1640895938</td></tr><tr><td>23212</td><td>Y</td><td>75270</td><td>1640898363</td></tr><tr><td>23715</td><td>Y</td><td>75271</td><td>1640902531</td></tr><tr><td>22161</td><td>Y</td><td>75272</td><td>1640904968</td></tr><tr><td>23882</td><td>Y</td><td>75273</td><td>1640909763</td></tr><tr><td>23147</td><td>Y</td><td>75274</td><td>1640911244</td></tr><tr><td>23577</td><td>Y</td><td>75275</td><td>1640911324</td></tr><tr><td>23888</td><td>Y</td><td>75276</td><td>1640914350</td></tr><tr><td>22815</td><td>Y</td><td>75277</td><td>1640922137</td></tr><tr><td>23521</td><td>Y</td><td>75278</td><td>1640933033</td></tr><tr><td>23887</td><td>Y</td><td>75279</td><td>1640933550</td></tr><tr><td>23551</td><td>N</td><td>75280</td><td>1640933653</td></tr><tr><td>23886</td><td>Y</td><td>75281</td><td>1640935059</td></tr><tr><td>23376</td><td>Y</td><td>75282</td><td>1640935106</td></tr><tr><td>23911</td><td>N</td><td>75283</td><td>1640941395</td></tr><tr><td>23310</td><td>Y</td><td>75284</td><td>1640948702</td></tr><tr><td>23109</td><td>N</td><td>75285</td><td>1640950790</td></tr><tr><td>23291</td><td>Y</td><td>75286</td><td>1640953620</td></tr><tr><td>23556</td><td>Y</td><td>75287</td><td>1640953917</td></tr><tr><td>23581</td><td>Y</td><td>75288</td><td>1640958185</td></tr><tr><td>23621</td><td>Y</td><td>75289</td><td>1640960321</td></tr><tr><td>23365</td><td>Y</td><td>75290</td><td>1640963057</td></tr><tr><td>23716</td><td>N</td><td>75291</td><td>1640971896</td></tr><tr><td>23206</td><td>Y</td><td>75292</td><td>1640974381</td></tr><tr><td>23027</td><td>Y</td><td>75293</td><td>1640984029</td></tr><tr><td>23380</td><td>N</td><td>75294</td><td>1640987218</td></tr><tr><td>22701</td><td>Y</td><td>75295</td><td>1640987527</td></tr><tr><td>23766</td><td>Y</td><td>75296</td><td>1640990674</td></tr></tbody></table></div>"
      ]
     },
     "metadata": {
      "application/vnd.databricks.v1+output": {
       "addedWidgets": {},
       "aggData": [],
       "aggError": "",
       "aggOverflow": false,
       "aggSchema": [],
       "aggSeriesLimitReached": false,
       "aggType": "",
       "arguments": {},
       "columnCustomDisplayInfos": {},
       "data": [
        [
         23094,
         "Y",
         75123,
         1640392092
        ],
        [
         23457,
         "N",
         75124,
         1640392500
        ],
        [
         23564,
         "Y",
         75125,
         1640394862
        ],
        [
         23392,
         "N",
         75126,
         1640396067
        ],
        [
         23101,
         "Y",
         75127,
         1640399066
        ],
        [
         23466,
         "N",
         75128,
         1640404853
        ],
        [
         23834,
         "Y",
         75129,
         1640407272
        ],
        [
         23852,
         "Y",
         75130,
         1640419989
        ],
        [
         23483,
         "Y",
         75131,
         1640422131
        ],
        [
         23821,
         "N",
         75132,
         1640423697
        ],
        [
         23907,
         "Y",
         75133,
         1640427687
        ],
        [
         23088,
         "Y",
         75134,
         1640427813
        ],
        [
         23327,
         "Y",
         75135,
         1640432499
        ],
        [
         23154,
         "Y",
         75136,
         1640433629
        ],
        [
         23818,
         "Y",
         75137,
         1640434907
        ],
        [
         23568,
         "Y",
         75138,
         1640438599
        ],
        [
         23599,
         "Y",
         75139,
         1640441108
        ],
        [
         23646,
         "Y",
         75140,
         1640442728
        ],
        [
         23447,
         "Y",
         75141,
         1640442982
        ],
        [
         22196,
         "N",
         75142,
         1640444289
        ],
        [
         23004,
         "Y",
         75143,
         1640444735
        ],
        [
         22457,
         "Y",
         75144,
         1640453556
        ],
        [
         23560,
         "N",
         75145,
         1640454027
        ],
        [
         23892,
         "Y",
         75146,
         1640469617
        ],
        [
         23270,
         "N",
         75147,
         1640469849
        ],
        [
         23318,
         "Y",
         75148,
         1640470511
        ],
        [
         23134,
         "Y",
         75149,
         1640476865
        ],
        [
         23631,
         "Y",
         75150,
         1640479937
        ],
        [
         23447,
         "Y",
         75151,
         1640480642
        ],
        [
         22980,
         "Y",
         75152,
         1640489317
        ],
        [
         23662,
         "Y",
         75153,
         1640490661
        ],
        [
         23128,
         "Y",
         75154,
         1640491953
        ],
        [
         23305,
         "Y",
         75155,
         1640500820
        ],
        [
         23790,
         "Y",
         75156,
         1640506768
        ],
        [
         23673,
         "Y",
         75157,
         1640514816
        ],
        [
         22447,
         "Y",
         75158,
         1640516867
        ],
        [
         22600,
         "Y",
         75159,
         1640516913
        ],
        [
         23598,
         "Y",
         75160,
         1640517492
        ],
        [
         23453,
         "N",
         75161,
         1640521294
        ],
        [
         22477,
         "N",
         75162,
         1640526465
        ],
        [
         23863,
         "Y",
         75163,
         1640526485
        ],
        [
         22485,
         "N",
         75164,
         1640526860
        ],
        [
         23786,
         "N",
         75165,
         1640532784
        ],
        [
         23833,
         "N",
         75166,
         1640534000
        ],
        [
         23242,
         "N",
         75167,
         1640534721
        ],
        [
         23120,
         "Y",
         75168,
         1640548053
        ],
        [
         23815,
         "Y",
         75169,
         1640548610
        ],
        [
         22757,
         "Y",
         75170,
         1640548846
        ],
        [
         23748,
         "N",
         75171,
         1640552043
        ],
        [
         23416,
         "Y",
         75172,
         1640552112
        ],
        [
         23218,
         "N",
         75173,
         1640553981
        ],
        [
         23867,
         "Y",
         75174,
         1640564080
        ],
        [
         23259,
         "N",
         75175,
         1640567847
        ],
        [
         22757,
         "N",
         75176,
         1640569060
        ],
        [
         22599,
         "Y",
         75177,
         1640574553
        ],
        [
         23606,
         "Y",
         75178,
         1640575274
        ],
        [
         23493,
         "N",
         75179,
         1640575962
        ],
        [
         22467,
         "Y",
         75180,
         1640580049
        ],
        [
         23828,
         "Y",
         75181,
         1640582140
        ],
        [
         22316,
         "Y",
         75182,
         1640587536
        ],
        [
         23061,
         "Y",
         75183,
         1640594017
        ],
        [
         23813,
         "Y",
         75184,
         1640603248
        ],
        [
         23358,
         "Y",
         75185,
         1640611591
        ],
        [
         23778,
         "Y",
         75186,
         1640613010
        ],
        [
         23477,
         "Y",
         75187,
         1640618976
        ],
        [
         23179,
         "Y",
         75188,
         1640620853
        ],
        [
         23769,
         "Y",
         75189,
         1640625214
        ],
        [
         23836,
         "N",
         75190,
         1640625322
        ],
        [
         22557,
         "Y",
         75191,
         1640625597
        ],
        [
         23359,
         "Y",
         75192,
         1640631831
        ],
        [
         23768,
         "Y",
         75193,
         1640631849
        ],
        [
         23669,
         "Y",
         75194,
         1640633377
        ],
        [
         23823,
         "Y",
         75195,
         1640637588
        ],
        [
         22296,
         "Y",
         75196,
         1640642842
        ],
        [
         23318,
         "Y",
         75197,
         1640643224
        ],
        [
         23219,
         "N",
         75198,
         1640643721
        ],
        [
         23072,
         "Y",
         75199,
         1640653481
        ],
        [
         23910,
         "Y",
         75200,
         1640660661
        ],
        [
         23833,
         "Y",
         75201,
         1640665029
        ],
        [
         23696,
         "Y",
         75202,
         1640665868
        ],
        [
         23815,
         "Y",
         75203,
         1640665971
        ],
        [
         23195,
         "N",
         75204,
         1640671232
        ],
        [
         23183,
         "Y",
         75205,
         1640672063
        ],
        [
         23367,
         "N",
         75206,
         1640675667
        ],
        [
         23088,
         "Y",
         75207,
         1640675687
        ],
        [
         22752,
         "Y",
         75208,
         1640678086
        ],
        [
         23326,
         "Y",
         75209,
         1640681064
        ],
        [
         23212,
         "Y",
         75210,
         1640682880
        ],
        [
         23524,
         "Y",
         75211,
         1640684944
        ],
        [
         23151,
         "Y",
         75212,
         1640690706
        ],
        [
         23582,
         "Y",
         75213,
         1640691368
        ],
        [
         23182,
         "Y",
         75214,
         1640691634
        ],
        [
         22826,
         "Y",
         75215,
         1640696465
        ],
        [
         23158,
         "Y",
         75216,
         1640706768
        ],
        [
         23343,
         "Y",
         75217,
         1640717605
        ],
        [
         23390,
         "Y",
         75218,
         1640721908
        ],
        [
         23574,
         "Y",
         75219,
         1640725566
        ],
        [
         23282,
         "Y",
         75220,
         1640726897
        ],
        [
         23206,
         "N",
         75221,
         1640730881
        ],
        [
         23811,
         "Y",
         75222,
         1640731443
        ],
        [
         23734,
         "Y",
         75223,
         1640732281
        ],
        [
         23284,
         "N",
         75224,
         1640737911
        ],
        [
         23397,
         "Y",
         75225,
         1640741859
        ],
        [
         23285,
         "Y",
         75226,
         1640743461
        ],
        [
         23443,
         "Y",
         75227,
         1640744138
        ],
        [
         23841,
         "Y",
         75228,
         1640745536
        ],
        [
         23489,
         "Y",
         75229,
         1640745939
        ],
        [
         23377,
         "Y",
         75230,
         1640751789
        ],
        [
         23519,
         "Y",
         75231,
         1640753686
        ],
        [
         23273,
         "Y",
         75232,
         1640754906
        ],
        [
         23942,
         "Y",
         75233,
         1640755409
        ],
        [
         23714,
         "Y",
         75234,
         1640755921
        ],
        [
         22959,
         "N",
         75235,
         1640758650
        ],
        [
         23642,
         "Y",
         75236,
         1640763112
        ],
        [
         23277,
         "N",
         75237,
         1640781747
        ],
        [
         23777,
         "Y",
         75238,
         1640790253
        ],
        [
         23748,
         "N",
         75239,
         1640799146
        ],
        [
         23511,
         "Y",
         75240,
         1640799965
        ],
        [
         23964,
         "N",
         75241,
         1640800237
        ],
        [
         23542,
         "Y",
         75242,
         1640803027
        ],
        [
         23842,
         "Y",
         75243,
         1640805315
        ],
        [
         23371,
         "Y",
         75244,
         1640808136
        ],
        [
         22895,
         "Y",
         75245,
         1640809481
        ],
        [
         23885,
         "Y",
         75246,
         1640810227
        ],
        [
         23875,
         "Y",
         75247,
         1640812303
        ],
        [
         23331,
         "Y",
         75248,
         1640815265
        ],
        [
         23218,
         "N",
         75249,
         1640828420
        ],
        [
         23779,
         "N",
         75250,
         1640830827
        ],
        [
         23187,
         "N",
         75251,
         1640837025
        ],
        [
         23435,
         "Y",
         75252,
         1640837290
        ],
        [
         23124,
         "Y",
         75253,
         1640837302
        ],
        [
         23215,
         "N",
         75254,
         1640852084
        ],
        [
         23863,
         "Y",
         75255,
         1640857299
        ],
        [
         23800,
         "Y",
         75256,
         1640858077
        ],
        [
         23503,
         "N",
         75257,
         1640859758
        ],
        [
         23755,
         "Y",
         75258,
         1640862499
        ],
        [
         23509,
         "Y",
         75259,
         1640864646
        ],
        [
         22338,
         "N",
         75260,
         1640867193
        ],
        [
         22935,
         "Y",
         75261,
         1640869044
        ],
        [
         23311,
         "Y",
         75262,
         1640869535
        ],
        [
         23819,
         "Y",
         75263,
         1640869633
        ],
        [
         23312,
         "Y",
         75264,
         1640886912
        ],
        [
         23484,
         "Y",
         75265,
         1640888803
        ],
        [
         23290,
         "Y",
         75266,
         1640889524
        ],
        [
         23558,
         "Y",
         75267,
         1640889752
        ],
        [
         23086,
         "Y",
         75268,
         1640893693
        ],
        [
         23822,
         "Y",
         75269,
         1640895938
        ],
        [
         23212,
         "Y",
         75270,
         1640898363
        ],
        [
         23715,
         "Y",
         75271,
         1640902531
        ],
        [
         22161,
         "Y",
         75272,
         1640904968
        ],
        [
         23882,
         "Y",
         75273,
         1640909763
        ],
        [
         23147,
         "Y",
         75274,
         1640911244
        ],
        [
         23577,
         "Y",
         75275,
         1640911324
        ],
        [
         23888,
         "Y",
         75276,
         1640914350
        ],
        [
         22815,
         "Y",
         75277,
         1640922137
        ],
        [
         23521,
         "Y",
         75278,
         1640933033
        ],
        [
         23887,
         "Y",
         75279,
         1640933550
        ],
        [
         23551,
         "N",
         75280,
         1640933653
        ],
        [
         23886,
         "Y",
         75281,
         1640935059
        ],
        [
         23376,
         "Y",
         75282,
         1640935106
        ],
        [
         23911,
         "N",
         75283,
         1640941395
        ],
        [
         23310,
         "Y",
         75284,
         1640948702
        ],
        [
         23109,
         "N",
         75285,
         1640950790
        ],
        [
         23291,
         "Y",
         75286,
         1640953620
        ],
        [
         23556,
         "Y",
         75287,
         1640953917
        ],
        [
         23581,
         "Y",
         75288,
         1640958185
        ],
        [
         23621,
         "Y",
         75289,
         1640960321
        ],
        [
         23365,
         "Y",
         75290,
         1640963057
        ],
        [
         23716,
         "N",
         75291,
         1640971896
        ],
        [
         23206,
         "Y",
         75292,
         1640974381
        ],
        [
         23027,
         "Y",
         75293,
         1640984029
        ],
        [
         23380,
         "N",
         75294,
         1640987218
        ],
        [
         22701,
         "Y",
         75295,
         1640987527
        ],
        [
         23766,
         "Y",
         75296,
         1640990674
        ]
       ],
       "datasetInfos": [],
       "dbfsResultPath": null,
       "isJsonSchema": true,
       "metadata": {
        "isDbfsCommandResult": false
       },
       "overflow": false,
       "plotOptions": {
        "customPlotOptions": {},
        "displayType": "table",
        "pivotAggregation": null,
        "pivotColumns": null,
        "xColumns": null,
        "yColumns": null
       },
       "removedWidgets": [],
       "schema": [
        {
         "metadata": "{}",
         "name": "customer_id",
         "type": "\"long\""
        },
        {
         "metadata": "{}",
         "name": "notifications",
         "type": "\"string\""
        },
        {
         "metadata": "{}",
         "name": "order_id",
         "type": "\"long\""
        },
        {
         "metadata": "{}",
         "name": "order_timestamp",
         "type": "\"long\""
        }
       ],
       "type": "table"
      }
     },
     "output_type": "display_data"
    }
   ],
   "source": [
    "select * from json.`/Volumes/dbacademy/ops/labuser11197806_1755312348@vocareum_com/orders/00.json`;"
   ]
  },
  {
   "cell_type": "markdown",
   "metadata": {
    "application/vnd.databricks.v1+cell": {
     "cellMetadata": {},
     "inputWidgets": {},
     "nuid": "40d4f8bc-000b-4cad-a08b-e554a7f00a1a",
     "showTitle": false,
     "tableResultSettingsMap": {},
     "title": ""
    }
   },
   "source": [
    "## B. Adding Data Quality Expectations\n",
    "\n",
    "This demonstration includes a simple starter Lakeflow Declarative Pipeline that has already been created. We will continue to build on it to explore it's capabilities."
   ]
  },
  {
   "cell_type": "markdown",
   "metadata": {
    "application/vnd.databricks.v1+cell": {
     "cellMetadata": {},
     "inputWidgets": {},
     "nuid": "f88e572f-8127-48e7-913b-45d37153716b",
     "showTitle": false,
     "tableResultSettingsMap": {},
     "title": ""
    }
   },
   "source": [
    "\n",
    "1. Run the cell below to create your starter pipeline for this demonstration. The pipeline will set the following for you:\n",
    "\n",
    "- Your default catalog: `labuser`\n",
    "\n",
    "- Your configuration parameter: `source` = `/Volumes/dbacademy/ops/your-labuser-name`\n",
    "\n",
    "  **NOTE:** If the pipeline already exists, an error will be returned. In that case, you'll need to delete the existing pipeline and rerun this cell.\n",
    "\n",
    "  To delete the pipeline:\n",
    "\n",
    "  - Select **Jobs and Pipelines** from the far-left navigation bar.  \n",
    "\n",
    "  - Find the pipeline you want to delete.  \n",
    "\n",
    "  - Click the three-dot menu ![ellipsis icon](./Includes/images/ellipsis_icon.png).  \n",
    "\n",
    "  - Select **Delete**.\n",
    "\n",
    "**NOTE:**  The `create_declarative_pipeline` function is a custom function built for this course to create the sample pipeline using the Databricks REST API. This avoids manually creating the pipeline and referencing the pipeline assets."
   ]
  },
  {
   "cell_type": "code",
   "execution_count": 0,
   "metadata": {
    "application/vnd.databricks.v1+cell": {
     "cellMetadata": {
      "byteLimit": 2048000,
      "rowLimit": 10000
     },
     "inputWidgets": {},
     "nuid": "7b891eef-d631-49ff-ade7-fdd4d2924e07",
     "showTitle": true,
     "tableResultSettingsMap": {},
     "title": "Create pipeline 3"
    }
   },
   "outputs": [
    {
     "output_type": "stream",
     "name": "stdout",
     "output_type": "stream",
     "text": [
      "Creating the Lakeflow Declarative Pipeline '3 - Adding Data Quality Expectations Project - labuser11197806_1755312348'...\nRoot folder path: /Workspace/Users/labuser11197806_1755312348@vocareum.com/build-data-pipelines-with-lakeflow-declarative-pipelines-3.0.2/Build Data Pipelines with Lakeflow Declarative Pipelines/3 - Adding Data Quality Expectations Project\nSource folder path(s): [{'glob': {'include': '/Workspace/Users/labuser11197806_1755312348@vocareum.com/build-data-pipelines-with-lakeflow-declarative-pipelines-3.0.2/Build Data Pipelines with Lakeflow Declarative Pipelines/3 - Adding Data Quality Expectations Project/orders/**'}}]\n\nLakeflow Declarative Pipeline Creation '3 - Adding Data Quality Expectations Project - labuser11197806_1755312348' Complete!\n"
     ]
    }
   ],
   "source": [
    "%python\n",
    "create_declarative_pipeline(pipeline_name=f'3 - Adding Data Quality Expectations Project - {DA.catalog_name}', \n",
    "                            root_path_folder_name='3 - Adding Data Quality Expectations Project',\n",
    "                            catalog_name = DA.catalog_name,\n",
    "                            schema_name = 'default',\n",
    "                            source_folder_names=['orders'],\n",
    "                            configuration = {'source':DA.paths.working_dir})"
   ]
  },
  {
   "cell_type": "markdown",
   "metadata": {
    "application/vnd.databricks.v1+cell": {
     "cellMetadata": {},
     "inputWidgets": {},
     "nuid": "464160da-184f-4a37-816d-5bc0dd6f3c5c",
     "showTitle": false,
     "tableResultSettingsMap": {},
     "title": ""
    }
   },
   "source": [
    "2. Complete the following steps to open the starter pipeline for this demonstration:\n",
    "\n",
    "   a. Click the folder icon ![Folder](./Includes/images/folder_icon.png) in the left navigation panel.\n",
    "   \n",
    "   b. In the **Build Data Pipelines with Lakeflow Declarative Pipelines** folder, find the **3 - Adding Data Quality Expectations Project** folder.\n",
    "   \n",
    "   c. Right-click and select **Open in a new tab**.\n",
    "\n",
    "   d. In the new tab:\n",
    "      - Select the **orders** folder (The main folder also contains the extra **python_excluded** folder that contains the Python version)\n",
    "\n",
    "      - Click on **orders_pipeline.sql**.\n",
    "      \n",
    "\n",
    "   e. In the navigation pane of the new tab, you should see **Pipeline** and **All Files**. Ensure you are in the **Pipeline** tab. This will list all files in your pipeline.\n",
    "   <br></br>\n",
    "   **Example**\n",
    "   \n",
    "   ![Pipeline and All Files Tab](./Includes/images/pipeline_projecttabs.png)\n",
    "\n",
    "#### IMPORTANT\n",
    "   **NOTE:** If you open the **orders_pipeline.sql** file and it does not open up the pipeline editor, that is because that folder is not associated with a pipeline. Please make sure to run the previous cell to associate the folder with the pipeline and try again.\n",
    "\n",
    "   **WARNING:** If you get the following warning when opening the **orders_pipeline.sql** file: \n",
    "\n",
    "   ```pipeline you are trying to access does not exist or is inaccessible. Please verify the pipeline ID, request access or detach this file from the pipeline.``` \n",
    "\n",
    "   Simply refresh the page and/or reselect the notebook."
   ]
  },
  {
   "cell_type": "markdown",
   "metadata": {
    "application/vnd.databricks.v1+cell": {
     "cellMetadata": {},
     "inputWidgets": {},
     "nuid": "9d341110-0cd5-4e5b-8298-6ece9b021642",
     "showTitle": false,
     "tableResultSettingsMap": {},
     "title": ""
    }
   },
   "source": [
    "3. In the new tab, follow the instructions provided in the comments within the **orders_pipeline.sql** file."
   ]
  },
  {
   "cell_type": "markdown",
   "metadata": {
    "application/vnd.databricks.v1+cell": {
     "cellMetadata": {},
     "inputWidgets": {},
     "nuid": "12d2b516-41c5-499f-af94-5412cf472246",
     "showTitle": false,
     "tableResultSettingsMap": {},
     "title": ""
    }
   },
   "source": [
    "## Additional Resources\n",
    "\n",
    "- [Manage data quality with pipeline expectations](https://docs.databricks.com/aws/en/dlt/expectations)\n",
    "\n",
    "- [Expectation recommendations and advanced patterns](https://docs.databricks.com/aws/en/dlt/expectation-patterns)\n",
    "\n",
    "- [Data Quality Management With Databricks](https://www.databricks.com/discover/pages/data-quality-management#expectations-with-delta-live-tables)"
   ]
  },
  {
   "cell_type": "markdown",
   "metadata": {
    "application/vnd.databricks.v1+cell": {
     "cellMetadata": {},
     "inputWidgets": {},
     "nuid": "9a95cf2b-1781-45e8-8df0-594c04ef4d7b",
     "showTitle": false,
     "tableResultSettingsMap": {},
     "title": ""
    }
   },
   "source": [
    "\n",
    "&copy; 2025 Databricks, Inc. All rights reserved. Apache, Apache Spark, Spark, the Spark Logo, Apache Iceberg, Iceberg, and the Apache Iceberg logo are trademarks of the <a href=\"https://www.apache.org/\" target=\"blank\">Apache Software Foundation</a>.<br/>\n",
    "<br/><a href=\"https://databricks.com/privacy-policy\" target=\"blank\">Privacy Policy</a> | \n",
    "<a href=\"https://databricks.com/terms-of-use\" target=\"blank\">Terms of Use</a> | \n",
    "<a href=\"https://help.databricks.com/\" target=\"blank\">Support</a>"
   ]
  }
 ],
 "metadata": {
  "application/vnd.databricks.v1+notebook": {
   "computePreferences": null,
   "dashboards": [],
   "environmentMetadata": null,
   "inputWidgetPreferences": null,
   "language": "sql",
   "notebookMetadata": {
    "mostRecentlyExecutedCommandWithImplicitDF": {
     "commandId": 4432604516164882,
     "dataframes": [
      "_sqldf"
     ]
    },
    "pythonIndentUnit": 4
   },
   "notebookName": "3 - Adding Data Quality Expectations",
   "widgets": {}
  },
  "language_info": {
   "name": "sql"
  }
 },
 "nbformat": 4,
 "nbformat_minor": 0
}